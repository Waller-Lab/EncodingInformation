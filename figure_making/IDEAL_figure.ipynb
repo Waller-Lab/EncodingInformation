{
 "cells": [
  {
   "cell_type": "code",
   "execution_count": 66,
   "metadata": {},
   "outputs": [
    {
     "name": "stdout",
     "output_type": "stream",
     "text": [
      "The autoreload extension is already loaded. To reload it, use:\n",
      "  %reload_ext autoreload\n"
     ]
    },
    {
     "data": {
      "text/plain": [
       "array([   0,  196,  391,  587,  782,  978, 1173, 1369, 1564, 1760, 1955,\n",
       "       2150, 2346, 2541, 2737, 2932, 3128, 3323, 3519, 3714])"
      ]
     },
     "execution_count": 66,
     "metadata": {},
     "output_type": "execute_result"
    }
   ],
   "source": [
    "%load_ext autoreload\n",
    "%autoreload 2\n",
    "# %matplotlib widget\n",
    "\n",
    "import os\n",
    "\n",
    "import os\n",
    "os.environ[\"CUDA_DEVICE_ORDER\"] = \"PCI_BUS_ID\" \n",
    "os.environ[\"CUDA_VISIBLE_DEVICES\"] = ''\n",
    "\n",
    "from encoding_information.gpu_utils import limit_gpu_memory_growth  \n",
    "limit_gpu_memory_growth()\n",
    "\n",
    "filters_path = '/home/hpinkard_waller/data/ideal_figure_items/filters'\n",
    "\n",
    "# find the names of all npy files\n",
    "filter_files = os.listdir(filters_path)\n",
    "filter_files = [f for f in filter_files if f.endswith('.npy')]\n",
    "indices = [int(f.split('_')[-1][:-4]) for f in filter_files]\n",
    "indices = np.array(indices)\n",
    "\n",
    "epoch_indices = indices[np.argsort(indices)]\n",
    "\n",
    "epoch_indices\n"
   ]
  },
  {
   "cell_type": "code",
   "execution_count": 82,
   "metadata": {},
   "outputs": [
    {
     "name": "stderr",
     "output_type": "stream",
     "text": [
      "3944.66s - pydevd: Sending message related to process being replaced timed-out after 5 seconds\n"
     ]
    },
    {
     "data": {
      "image/png": "[encoded data removed]",
      "text/plain": [
       "<Figure size 400x400 with 1 Axes>"
      ]
     },
     "metadata": {},
     "output_type": "display_data"
    }
   ],
   "source": [
    "import numpy as np  \n",
    "from cleanplots import *\n",
    "\n",
    "initial = 0\n",
    "intermediate = 978\n",
    "final = 3714\n",
    "\n",
    "val_loss_path = '/home/hpinkard_waller/data/ideal_figure_items/val_losses.npy'\n",
    "\n",
    "# load the validation losses\n",
    "\n",
    "val_losses = np.load(val_loss_path)\n",
    "\n",
    "fig, ax = plt.subplots(1, 1, figsize=(4, 4))\n",
    "\n",
    "ax.plot(epoch_indices, val_losses, label='Initial', color='k', linewidth=2)\n",
    "# plot points at initial, intermediate, and final\n",
    "ax.plot(initial, val_losses[initial], 'o', markersize=15)\n",
    "ax.plot(intermediate, val_losses[np.where(epoch_indices == intermediate)[0][0]], 'o', markersize=15)\n",
    "ax.plot(final, val_losses[np.where(epoch_indices == final)[0][0]], 'o', markersize=15)\n",
    "\n",
    "ax.set(\n",
    "    xlim=(0, None), \n",
    "    yticks=[-2.08, -2],\n",
    "     xticks=[0, final], \n",
    "    xlabel='Optimization step', ylabel='-Mutual information')\n",
    "clear_spines(ax)\n",
    "\n",
    "fig.savefig('/home/hpinkard_waller/figures/IDEAL/ideal_loss.pdf', transparent=True)\n",
    "\n",
    "\n",
    "\n",
    "######\n",
    "#####\n",
    "# Create a series of PNG files for each frame of the animation\n",
    "    \n",
    "# Get axis limits and ticks from the existing plot\n",
    "xlim = ax.get_xlim()\n",
    "ylim = ax.get_ylim()\n",
    "xticks = ax.get_xticks()\n",
    "yticks = ax.get_yticks()\n",
    "\n",
    "# Directory to save the plots\n",
    "save_dir = '/home/hpinkard_waller/figures/IDEAL/loss_curve_frames/'\n",
    "import os\n",
    "os.makedirs(save_dir, exist_ok=True)\n",
    "\n",
    "# Number of epochs or optimization steps\n",
    "num_epochs = len(val_losses)\n",
    "# epoch_indices = np.arange(num_epochs)\n",
    "\n",
    "# Loop over time points to create individual plots\n",
    "for k in range(1, num_epochs + 1):\n",
    "    # Create a new figure and axis for each frame\n",
    "    fig_frame, ax_frame = plt.subplots(1, 1, figsize=(4, 4))\n",
    "    \n",
    "    # Plot the loss curve up to the k-th point\n",
    "    ax_frame.plot(epoch_indices[:k], val_losses[:k], color='k', linewidth=3)\n",
    "    # plot a black dot on the current point\n",
    "    ax_frame.plot(epoch_indices[k-1], val_losses[k-1], 'o', markersize=15, color='k')\n",
    "    \n",
    "    # Set axis limits and labels from the existing plot\n",
    "    ax_frame.set_xlim(xlim)\n",
    "    ax_frame.set_ylim(ylim)\n",
    "    ax_frame.set(\n",
    "        yticks=[],\n",
    "        xticks=[],\n",
    "        xlabel=None,\n",
    "        ylabel=None\n",
    "    )\n",
    "    clear_spines(ax_frame)\n",
    "    \n",
    "    # Save the figure as a PNG\n",
    "    filename = f'plot_{k:04d}.png'  # Zero-padded filename\n",
    "    filepath = os.path.join(save_dir, filename)\n",
    "    fig_frame.savefig(filepath, transparent=True, dpi=300)\n",
    "    plt.close(fig_frame)  # Close the figure to free up memory\n",
    "\n",
    "# Save as a GIF with 7fps using ImageMagick\n",
    "!convert -dispose 2 -delay 15 -loop 0 /home/hpinkard_waller/figures/IDEAL/loss_curve_frames/plot_*.png /home/hpinkard_waller/figures/IDEAL/loss_curve.gif\n",
    "\n"
   ]
  },
  {
   "cell_type": "code",
   "execution_count": 88,
   "metadata": {},
   "outputs": [
    {
     "name": "stderr",
     "output_type": "stream",
     "text": [
      "100%|██████████| 20/20 [00:00<00:00, 1386.96it/s]\n"
     ]
    }
   ],
   "source": [
    "from tqdm import tqdm\n",
    "\n",
    "\n",
    "# make a dict mapping epoch to filter \n",
    "# the file patterns is ideal_iteration_0.npy    \n",
    "epoch_to_filter = { i:np.load(os.path.join(filters_path, f'ideal_iteration_{i}.npy')) for i in epoch_indices}\n",
    "\n",
    "epoch_to_filter[0].shape\n",
    "\n",
    "\n",
    "##\n",
    "def get_filter_image(filter_array):\n",
    "    \"\"\"\n",
    "    Plots the filter pattern as an RGB image.\n",
    "\n",
    "    Parameters:\n",
    "    - filter_array: numpy array of shape (H, W, 4), where the last dimension\n",
    "      represents the mutually exclusive RGBW channels.\n",
    "    \"\"\"\n",
    "    # Define RGB values for each channel: Red, Green, Blue, White\n",
    "    color_map = np.array([\n",
    "        [1, 0, 0],  # Red\n",
    "        [0, 1, 0],  # Green\n",
    "        [0, 0, 1],  # Blue\n",
    "        [1, 1, 1],  # White\n",
    "    ])\n",
    "\n",
    "    # Get the index of the active channel at each pixel\n",
    "    active_channel = np.argmax(filter_array, axis=-1)\n",
    "    \n",
    "    # Map the active channels to RGB colors\n",
    "    image = color_map[active_channel] * 255\n",
    "    \n",
    "    return image\n",
    "\n",
    "\n",
    "from PIL import Image\n",
    "# iterate through all the epochs and plot the filters and save them as a series of pngs\n",
    "# delete the old pngs first\n",
    "import shutil\n",
    "if os.path.exists('/home/hpinkard_waller/figures/IDEAL/filters_png'):\n",
    "    shutil.rmtree('/home/hpinkard_waller/figures/IDEAL/filters_png')\n",
    "os.makedirs('/home/hpinkard_waller/figures/IDEAL/filters_png')\n",
    "\n",
    "upsample = 16\n",
    "for i, (epoch, filter_array) in enumerate(tqdm(epoch_to_filter.items())):\n",
    "    # print(epoch)\n",
    "    filter = get_filter_image(filter_array)\n",
    "    filter = np.repeat(np.repeat(filter, upsample, axis=0), upsample, axis=1)\n",
    "    # use PIL to save the image\n",
    "    im = Image.fromarray(filter.astype(np.uint8))\n",
    "    # make a path with leading zeros\n",
    "    path = f'/home/hpinkard_waller/figures/IDEAL/filters_png/epoch_{i:04d}.png'\n",
    "    im.save(path)\n",
    "    \n",
    "\n",
    "    "
   ]
  },
  {
   "cell_type": "code",
   "execution_count": 89,
   "metadata": {},
   "outputs": [
    {
     "name": "stderr",
     "output_type": "stream",
     "text": [
      "4322.28s - pydevd: Sending message related to process being replaced timed-out after 5 seconds\n"
     ]
    }
   ],
   "source": [
    "# remove existing video\n",
    "if os.path.exists('/home/hpinkard_waller/figures/IDEAL/filters.mp4'):\n",
    "    os.remove('/home/hpinkard_waller/figures/IDEAL/filters.mp4')\n",
    "# make a GIF\n",
    "!convert -dispose 2 -delay 15 -loop 0 /home/hpinkard_waller/figures/IDEAL/filters_png/epoch_*.png /home/hpinkard_waller/figures/IDEAL/filters.gif\n",
    "\n",
    "# Use ffmpeg to make a video\n",
    "# !ffmpeg -r 6.6666666 -i /home/hpinkard_waller/figures/IDEAL/filters_png/epoch_%d.png -vcodec libx264 -pix_fmt yuv420p /home/hpinkard_waller/figures/IDEAL/filters.mp4"
   ]
  },
  {
   "cell_type": "code",
   "execution_count": 105,
   "metadata": {},
   "outputs": [],
   "source": [
    "from encoding_information.datasets import ColorFilterArrayDataset\n",
    "from cleanplots import *\n",
    "from tqdm import tqdm\n",
    "\n",
    "tile_size = 128\n",
    "\n",
    "dataset = ColorFilterArrayDataset('/home/hpinkard_waller/data/four_channel_images.zarr', tile_size=tile_size)\n",
    "indices = [76398, 83209, 79983]\n",
    "center_square_size = 24\n",
    "\n"
   ]
  },
  {
   "cell_type": "code",
   "execution_count": 108,
   "metadata": {},
   "outputs": [
    {
     "data": {
      "text/plain": [
       "(128,)"
      ]
     },
     "execution_count": 108,
     "metadata": {},
     "output_type": "execute_result"
    }
   ],
   "source": [
    "measurements.shape"
   ]
  },
  {
   "cell_type": "code",
   "execution_count": 114,
   "metadata": {},
   "outputs": [
    {
     "name": "stderr",
     "output_type": "stream",
     "text": [
      "100%|██████████| 20/20 [00:11<00:00,  1.69it/s]\n"
     ]
    }
   ],
   "source": [
    "import numpy as np\n",
    "import os\n",
    "from tqdm import tqdm\n",
    "from PIL import Image\n",
    "import shutil\n",
    "\n",
    "\n",
    "rescale_for_display = lambda x: np.clip((x / 255 * 3) ** (1 / 2.2), 0, 1)\n",
    "\n",
    "\n",
    "# Create the directory for measurement images\n",
    "measurements_png_path = '/home/hpinkard_waller/figures/IDEAL/measurements_png'\n",
    "if os.path.exists(measurements_png_path):\n",
    "    shutil.rmtree(measurements_png_path)\n",
    "os.makedirs(measurements_png_path)\n",
    "\n",
    "upsample = 16  # Same upsampling factor as in filter image generation\n",
    "\n",
    "# Iterate over each epoch and corresponding filter array\n",
    "for i, (epoch, filter_array) in enumerate(tqdm(epoch_to_filter.items())):\n",
    "    # Convert the filter array from one-hot encoding to integer indices (0, 1, 2, 3)\n",
    "    filter_matrix = np.argmax(filter_array, axis=-1)  # Shape: (H, W)\n",
    "\n",
    "    # Generate measurements using the filter matrix\n",
    "    # Note: 'dataset', 'indices', and 'dataset.rescale_fraction' should be defined in your environment\n",
    "    measurements = dataset.get_measurements(mean=1000, bias=0, tile_indices=indices, filter_matrix=filter_matrix)\n",
    "\n",
    "    # Rescale measurements according to your dataset's rescale fraction\n",
    "    measurements = measurements / dataset.rescale_fraction\n",
    "\n",
    "    # Loop over each measurement\n",
    "    for m_idx, measurement in enumerate(measurements):\n",
    "        # Get the shape of the measurement\n",
    "        h, w = measurement.shape\n",
    "\n",
    "        # Tile the filter matrix to match the measurement dimensions\n",
    "        filter_h, filter_w = filter_matrix.shape\n",
    "        tile_factor_h = h // filter_h\n",
    "        tile_factor_w = w // filter_w\n",
    "        tiled_filter = np.tile(filter_matrix, (tile_factor_h, tile_factor_w))\n",
    "\n",
    "        # Create masks for each color channel\n",
    "        red_mask = tiled_filter == 0\n",
    "        green_mask = tiled_filter == 1\n",
    "        blue_mask = tiled_filter == 2\n",
    "        white_mask = tiled_filter == 3\n",
    "\n",
    "        # Initialize an array for the colored measurement\n",
    "        colored_measurement = np.zeros((h, w, 3))\n",
    "\n",
    "        # Assign measurements to each color channel\n",
    "        colored_measurement[..., 0] = measurement * red_mask  # Red channel\n",
    "        colored_measurement[..., 1] = measurement * green_mask  # Green channel\n",
    "        colored_measurement[..., 2] = measurement * blue_mask  # Blue channel\n",
    "\n",
    "        # For white pixels, set all RGB channels to the measurement value\n",
    "        for c in range(3):\n",
    "            colored_measurement[..., c][white_mask] = measurement[white_mask]\n",
    "\n",
    "        # Crop to central square\n",
    "        edge_crop_h = (h - center_square_size) // 2\n",
    "        edge_crop_w = (w - center_square_size) // 2\n",
    "        cropped_measurement = colored_measurement[\n",
    "            edge_crop_h : h - edge_crop_h, edge_crop_w : w - edge_crop_w\n",
    "        ]\n",
    "\n",
    "\n",
    "        # Upsample the image for better visualization\n",
    "        colored_measurement_upsampled = np.repeat(\n",
    "            np.repeat(cropped_measurement, upsample, axis=0), upsample, axis=1\n",
    "        )\n",
    "\n",
    "        # Rescale the image data for display (0-255 uint8 range)\n",
    "        image_uint8 = (255 * rescale_for_display(colored_measurement_upsampled)).astype(np.uint8)\n",
    "\n",
    "        # Create a subdirectory for this measurement index if it doesn't exist\n",
    "        measurement_dir = os.path.join(measurements_png_path, f'measurement_{m_idx}')\n",
    "        os.makedirs(measurement_dir, exist_ok=True)\n",
    "\n",
    "        # Save the image\n",
    "        im = Image.fromarray(image_uint8)\n",
    "        # Use a filename that includes the epoch index\n",
    "        path = os.path.join(measurement_dir, f'epoch_{i:04d}.png')\n",
    "        im.save(path)\n"
   ]
  },
  {
   "cell_type": "code",
   "execution_count": 115,
   "metadata": {},
   "outputs": [
    {
     "name": "stderr",
     "output_type": "stream",
     "text": [
      "8975.92s - pydevd: Sending message related to process being replaced timed-out after 5 seconds\n",
      "8982.74s - pydevd: Sending message related to process being replaced timed-out after 5 seconds\n",
      "8989.72s - pydevd: Sending message related to process being replaced timed-out after 5 seconds\n"
     ]
    }
   ],
   "source": [
    "!convert -dispose 2 -delay 15 -loop 0 /home/hpinkard_waller/figures/IDEAL/measurements_png/measurement_0/epoch_*.png /home/hpinkard_waller/figures/IDEAL/measurements_png/measurement_0.gif\n",
    "!convert -dispose 2 -delay 15 -loop 0 /home/hpinkard_waller/figures/IDEAL/measurements_png/measurement_1/epoch_*.png /home/hpinkard_waller/figures/IDEAL/measurements_png/measurement_1.gif\n",
    "!convert -dispose 2 -delay 15 -loop 0 /home/hpinkard_waller/figures/IDEAL/measurements_png/measurement_2/epoch_*.png /home/hpinkard_waller/figures/IDEAL/measurements_png/measurement_2.gif"
   ]
  },
  {
   "cell_type": "code",
   "execution_count": 118,
   "metadata": {},
   "outputs": [],
   "source": [
    "# Plor the measurement corresponding to IDEAL initialization\n",
    "\n",
    "# load data/ideal/patch_0.npy\n",
    "\n",
    "patch = np.load('/home/hpinkard_waller/data/ideal/patch_2.npy')\n",
    "\n",
    "# Rescale the image data for display (0-255 uint8 range)\n",
    "image_uint8 = (255 * rescale_for_display(patch)).astype(np.uint8)\n",
    "\n",
    "# Save the image\n",
    "im = Image.fromarray(image_uint8)\n",
    "# Use a filename that includes the epoch index\n",
    "path = '/home/hpinkard_waller/figures/IDEAL/patch_2_recon_initial.png'\n",
    "im.save(path)"
   ]
  }
 ],
 "metadata": {
  "kernelspec": {
   "display_name": "phenotypes",
   "language": "python",
   "name": "python3"
  },
  "language_info": {
   "codemirror_mode": {
    "name": "ipython",
    "version": 3
   },
   "file_extension": ".py",
   "mimetype": "text/x-python",
   "name": "python",
   "nbconvert_exporter": "python",
   "pygments_lexer": "ipython3",
   "version": "3.10.6"
  }
 },
 "nbformat": 4,
 "nbformat_minor": 2
}
