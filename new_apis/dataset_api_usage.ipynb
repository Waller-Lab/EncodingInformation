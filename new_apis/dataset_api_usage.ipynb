{
 "cells": [
  {
   "cell_type": "markdown",
   "metadata": {},
   "source": [
    "# Dataset API Demo"
   ]
  },
  {
   "cell_type": "code",
   "execution_count": null,
   "metadata": {},
   "outputs": [],
   "source": [
    "%load_ext autoreload\n",
    "%autoreload 2\n",
    "\n",
    "import os\n",
    "from jax import config\n",
    "config.update(\"jax_enable_x64\", True)\n",
    "\n",
    "os.environ[\"CUDA_DEVICE_ORDER\"] = \"PCI_BUS_ID\" \n",
    "os.environ[\"CUDA_VISIBLE_DEVICES\"] = '0'\n",
    "from encoding_information.gpu_utils import limit_gpu_memory_growth\n",
    "limit_gpu_memory_growth()\n",
    "\n",
    "from encoding_information.datasets import BSCCMDataset, MNISTDataset, ColorFilterArrayDataset, HyperspectralMetalensDataset\n",
    "from cleanplots import *\n"
   ]
  },
  {
   "cell_type": "markdown",
   "metadata": {},
   "source": [
    "## MNIST"
   ]
  },
  {
   "cell_type": "code",
   "execution_count": null,
   "metadata": {},
   "outputs": [],
   "source": [
    "dataset = MNISTDataset()\n",
    "\n",
    "measurements = dataset.get_measurements(num_measurements=100, mean=20, bias=10)\n",
    "vmin, vmax = np.percentile(measurements, 5), np.percentile(measurements, 95)\n",
    "\n",
    "fig, ax = plt.subplots(1, 5, figsize=(10, 2))\n",
    "\n",
    "for i in range(5):\n",
    "    im = ax[i].imshow(measurements[i], cmap='inferno', vmin=vmin, vmax=vmax)\n",
    "    ax[i].axis('off')\n",
    "\n",
    "cbar = fig.colorbar(im, ax=ax, fraction=0.046, pad=0.04)"
   ]
  },
  {
   "cell_type": "markdown",
   "metadata": {},
   "source": [
    "## BSCCM"
   ]
  },
  {
   "cell_type": "code",
   "execution_count": null,
   "metadata": {},
   "outputs": [],
   "source": [
    "dataset = BSCCMDataset('/home/hpinkard_waller/data/BSCCM/')\n",
    "\n",
    "measurements = dataset.get_measurements(num_measurements=100, mean=200, bias=10, channels='DPC_Right')\n",
    "vmin, vmax = np.percentile(measurements, 1), np.percentile(measurements, 99)\n",
    "\n",
    "fig, ax = plt.subplots(1, 5, figsize=(10, 2))\n",
    "\n",
    "for i in range(5):\n",
    "    im = ax[i].imshow(measurements[i], cmap='inferno', vmin=vmin, vmax=vmax)\n",
    "    ax[i].axis('off')\n",
    "\n",
    "# show colorbar off to right side\n",
    "cbar = fig.colorbar(im, ax=ax, fraction=0.046, pad=0.04)"
   ]
  },
  {
   "cell_type": "markdown",
   "metadata": {},
   "source": [
    "## Color Filter array"
   ]
  },
  {
   "cell_type": "code",
   "execution_count": null,
   "metadata": {},
   "outputs": [],
   "source": [
    "dataset = ColorFilterArrayDataset('/home/hpinkard_waller/data/four_channel_images.zarr', tile_size=128)\n",
    "\n",
    "bayer_filter = [[0, 1], [1, 2]]\n",
    "\n",
    "measurements = dataset.get_measurements(num_measurements=10, filter_matrix=bayer_filter, noise=None, data_seed=1253)\n",
    "\n",
    "vmin, vmax = None, None\n",
    "\n",
    "fig, ax = plt.subplots(1, 5, figsize=(10, 2))\n",
    "for i in range(5):\n",
    "    im = ax[i].imshow(measurements[i], cmap='inferno', vmin=vmin, vmax=vmax)\n",
    "    ax[i].axis('off')\n",
    "\n",
    "# show colorbar off to right side\n",
    "cbar = fig.colorbar(im, ax=ax, fraction=0.046, pad=0.04)\n",
    "fig.suptitle('Full patches')\n",
    "\n",
    "\n",
    "\n",
    "# Zoom in to see the filter pattern\n",
    "fig, ax = plt.subplots(1, 5, figsize=(10, 2))\n",
    "for i in range(5):\n",
    "    im = ax[i].imshow(measurements[i][:32, :32], cmap='inferno', vmin=vmin, vmax=vmax)\n",
    "    ax[i].axis('off')\n",
    "\n",
    "# show colorbar off to right side\n",
    "cbar = fig.colorbar(im, ax=ax, fraction=0.046, pad=0.04)\n",
    "fig.suptitle('Zoomed in patches')\n"
   ]
  },
  {
   "cell_type": "markdown",
   "metadata": {},
   "source": [
    "## Hyperspectral Metalens Imaging"
   ]
  },
  {
   "cell_type": "code",
   "execution_count": null,
   "metadata": {},
   "outputs": [],
   "source": [
    "dataset = HyperspectralMetalensDataset(h5_dir = '', center_crop=16)\n",
    "\n",
    "measurements = dataset.get_measurements(num_measurements = 10, noise=None, data_seed=1253)\n",
    "\n",
    "vmin, vmax = None, None\n",
    "\n",
    "fig, ax = plt.subplots(1, 5, figsize=(10, 2))\n",
    "for i in range(5):\n",
    "    im = ax[i].imshow(measurements[i], cmap='inferno', vmin=vmin, vmax=vmax)\n",
    "    ax[i].axis('off')\n",
    "\n",
    "# show colorbar off to right side\n",
    "cbar = fig.colorbar(im, ax=ax, fraction=0.046, pad=0.04)\n"
   ]
  }
 ],
 "metadata": {
  "kernelspec": {
   "display_name": "phenotypes",
   "language": "python",
   "name": "python3"
  },
  "language_info": {
   "name": "python",
   "version": "3.10.6"
  }
 },
 "nbformat": 4,
 "nbformat_minor": 2
}
