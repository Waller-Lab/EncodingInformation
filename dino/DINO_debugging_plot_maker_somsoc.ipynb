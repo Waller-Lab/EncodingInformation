{
 "cells": [
  {
   "cell_type": "code",
   "execution_count": 3,
   "metadata": {},
   "outputs": [
    {
     "name": "stderr",
     "output_type": "stream",
     "text": [
      "2024-01-27 07:51:44.104384: W tensorflow/compiler/tf2tensorrt/utils/py_utils.cc:38] TF-TRT Warning: Could not find TensorRT\n"
     ]
    }
   ],
   "source": [
    "%load_ext autoreload\n",
    "%autoreload 2\n",
    "\n",
    "import os\n",
    "from jax import config\n",
    "config.update(\"jax_enable_x64\", True)\n",
    "\n",
    "os.environ[\"CUDA_DEVICE_ORDER\"] = \"PCI_BUS_ID\" \n",
    "os.environ[\"CUDA_VISIBLE_DEVICES\"] = '2'\n",
    "from encoding_information.gpu_utils import limit_gpu_memory_growth\n",
    "# limit_gpu_memory_growth()\n",
    "\n",
    "from cleanplots import *\n",
    "import jax.numpy as np\n",
    "from jax.scipy.special import logsumexp\n",
    "import numpy as onp\n",
    "from encoding_information.image_utils import *\n",
    "from encoding_information.information_estimation import *\n",
    "\n"
   ]
  },
  {
   "cell_type": "code",
   "execution_count": 4,
   "metadata": {},
   "outputs": [],
   "source": [
    "# load data\n",
    "data_path = '/home/hpinkard_waller/data/lungdata'\n",
    "\n",
    "\n",
    "# recursively walk through subdirs to load all the data into a nested dict\n",
    "data = {}\n",
    "for model_type in ['pcnn', 'gaussian']:\n",
    "    data[model_type] = {}\n",
    "    for object_type in os.listdir(os.path.join(data_path, model_type)):\n",
    "        data[model_type][object_type] = {}\n",
    "        for lens_type in os.listdir(os.path.join(data_path, model_type, object_type)):\n",
    "            data[model_type][object_type][lens_type] = {}\n",
    "            for mean_photons in os.listdir(os.path.join(data_path, model_type, object_type, lens_type)):\n",
    "                data[model_type][object_type][lens_type][int(mean_photons.split('_')[0])] = {}\n",
    "                for background_photons in os.listdir(os.path.join(data_path, model_type, object_type, lens_type, mean_photons)):\n",
    "                    data[model_type][object_type][lens_type][int(mean_photons.split('_')[0])][int(background_photons.split('_')[0])] = {}\n",
    "                    files = os.listdir(os.path.join(data_path, model_type, object_type, lens_type, mean_photons, background_photons))\n",
    "                    patch_sizes = [int(f.split('_')[-2]) for f in files]\n",
    "                    for patch_size in onp.unique(patch_sizes):\n",
    "                        # load all data with this patch size\n",
    "                        patch_size_files = [f for f in files if f.split('_')[-2] == str(patch_size)]\n",
    "                        data[model_type][object_type][lens_type][int(mean_photons.split('_')[0])][int(background_photons.split('_')[0])][patch_size] = \\\n",
    "                            [np.load(os.path.join(data_path, model_type, object_type, lens_type, mean_photons, background_photons, f)) for f in patch_size_files]\n",
    "\n",
    "# print the recursive structure of keys\n",
    "for model_type in data.keys():\n",
    "    print(model_type)\n",
    "    for object_type in data[model_type].keys():\n",
    "        print('  ', object_type)\n",
    "        for lens_type in data[model_type][object_type].keys():\n",
    "            print('    ', lens_type)\n",
    "            for mean_photons in data[model_type][object_type][lens_type].keys():\n",
    "                print('      ', mean_photons, 'mean photons')\n",
    "                for background_photons in data[model_type][object_type][lens_type][mean_photons].keys():\n",
    "                    print('        ', background_photons, 'background photons')\n",
    "                    for patch_size in data[model_type][object_type][lens_type][mean_photons][background_photons].keys():\n",
    "                        # print XX replicats at YYY patch size\n",
    "                        print('          ', len(data[model_type][object_type][lens_type][mean_photons][background_photons][patch_size]), 'replicates at', patch_size, 'patch size')\n"
   ]
  },
  {
   "cell_type": "code",
   "execution_count": null,
   "metadata": {},
   "outputs": [],
   "source": [
    "def make_plot(background, photons_per_pixel, patch_size, sample):\n",
    "    single_lens_pcnn_data = data['pcnn'][sample]['single_lens'][photons_per_pixel][background][patch_size]\n",
    "    double_lens_pcnn_data = data['pcnn'][sample]['double_lens'][photons_per_pixel][background][patch_size]\n",
    "    many_lens_pcnn_data = data['pcnn'][sample]['many_lens'][photons_per_pixel][background][patch_size]\n",
    "\n",
    "    fig, ax = plt.subplots(1, 1, figsize=(4.5, 4.5))\n",
    "    ax.plot(single_lens_pcnn_data, 'o', label='single lens')\n",
    "    # plot a dotted line at the min value\n",
    "    ax.axhline(onp.min(single_lens_pcnn_data), linestyle='--', color=get_color_cycle()[0])\n",
    "    ax.plot(double_lens_pcnn_data, 'o', label='double lens')\n",
    "    ax.axhline(onp.min(double_lens_pcnn_data), linestyle='--', color=get_color_cycle()[1])\n",
    "    ax.plot(many_lens_pcnn_data, 'o', label='many lens')\n",
    "    ax.axhline(onp.min(many_lens_pcnn_data), linestyle='--', color=get_color_cycle()[2])\n",
    "    ax.legend()\n",
    "    ax.set(ylim=(0, None), xlabel='replicate', ylabel='bits per pixel')\n",
    "    clear_spines(ax)\n",
    "    ax.set(title=f'{sample} PCNN, {photons_per_pixel} photons/pixel\\n{background} background, {patch_size} patch')"
   ]
  },
  {
   "cell_type": "code",
   "execution_count": 5,
   "metadata": {},
   "outputs": [
    {
     "data": {
      "image/png": "[encoded data removed]",
      "text/plain": [
       "<Figure size 450x450 with 1 Axes>"
      ]
     },
     "metadata": {},
     "output_type": "display_data"
    }
   ],
   "source": [
    "\n",
    "\n",
    "background = 100\n",
    "photons_per_pixel = 400\n",
    "patch_size = 80\n",
    "sample = 'full_volume_lung'\n",
    "\n",
    "make_plot"
   ]
  }
 ],
 "metadata": {
  "kernelspec": {
   "display_name": "phenotypes",
   "language": "python",
   "name": "python3"
  },
  "language_info": {
   "codemirror_mode": {
    "name": "ipython",
    "version": 3
   },
   "file_extension": ".py",
   "mimetype": "text/x-python",
   "name": "python",
   "nbconvert_exporter": "python",
   "pygments_lexer": "ipython3",
   "version": "3.10.13"
  }
 },
 "nbformat": 4,
 "nbformat_minor": 2
}
