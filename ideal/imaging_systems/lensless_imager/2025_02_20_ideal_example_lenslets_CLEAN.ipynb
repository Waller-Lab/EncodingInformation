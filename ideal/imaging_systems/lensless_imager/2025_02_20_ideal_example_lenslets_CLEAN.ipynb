{
 "cells": [
  {
   "cell_type": "markdown",
   "metadata": {},
   "source": [
    "# 2/20/2025 Lensless IDEAL Optimization - clean and using scripts for all the additional functions.\n",
    "Building off of the IDEAL example notebook from the main directory and then adapting Eric's old lenslets code for this."
   ]
  },
  {
   "cell_type": "code",
   "execution_count": 1,
   "metadata": {},
   "outputs": [
    {
     "name": "stderr",
     "output_type": "stream",
     "text": [
      "2025-03-01 22:12:52.754489: E external/local_xla/xla/stream_executor/cuda/cuda_dnn.cc:9261] Unable to register cuDNN factory: Attempting to register factory for plugin cuDNN when one has already been registered\n",
      "2025-03-01 22:12:52.754543: E external/local_xla/xla/stream_executor/cuda/cuda_fft.cc:607] Unable to register cuFFT factory: Attempting to register factory for plugin cuFFT when one has already been registered\n",
      "2025-03-01 22:12:52.755978: E external/local_xla/xla/stream_executor/cuda/cuda_blas.cc:1515] Unable to register cuBLAS factory: Attempting to register factory for plugin cuBLAS when one has already been registered\n",
      "2025-03-01 22:12:53.815593: W tensorflow/compiler/tf2tensorrt/utils/py_utils.cc:38] TF-TRT Warning: Could not find TensorRT\n",
      "\u001b[34m\u001b[1mwandb\u001b[0m: Currently logged in as: \u001b[33memarkley\u001b[0m (\u001b[33mwallerlab\u001b[0m) to \u001b[32mhttps://api.wandb.ai\u001b[0m. Use \u001b[1m`wandb login --relogin`\u001b[0m to force relogin\n"
     ]
    }
   ],
   "source": [
    "%load_ext autoreload\n",
    "%autoreload 2\n",
    "import os\n",
    "import sys\n",
    "# set gpu to be pci bus id\n",
    "os.environ['CUDA_DEVICE_ORDER'] = 'PCI_BUS_ID'\n",
    "os.environ['CUDA_VISIBLE_DEVICES'] = '2'\n",
    "# set gpu memory usage and turnoff pre-allocated memory\n",
    "# TODO use the MI version for this, the helper function\n",
    "os.environ['XLA_PYTHON_CLIENT_PREALLOCATE'] ='false'\n",
    "os.environ['XLA_PYTHON_CLIENT_ALLOCATOR']='platform'\n",
    "os.environ['TF_FORCE_GPU_ALLOW_GROWTH'] = 'true'\n",
    "\n",
    "import optax\n",
    "import equinox as eqx\n",
    "import jax\n",
    "import jax.tree_util as jtu\n",
    "import jax.numpy as jnp\n",
    "test = jnp.zeros((10,10,10))\n",
    "import jax.random as random\n",
    "\n",
    "import sys \n",
    "sys.path.append('/home/lakabuli/workspace/EncodingInformation/src/')\n",
    "sys.path.append('//home/lakabuli/workspace/EncodingInformation/ideal/') # need this one to import the correct imaging system base class\n",
    "from imaging_system import ImagingSystem, ImagingSystemProtocol\n",
    "\n",
    "from encoding_information.models.pixel_cnn import PixelCNN\n",
    "from encoding_information.models.gaussian_process import FullGaussianProcess\n",
    "from encoding_information.information_estimation import *\n",
    "\n",
    "import matplotlib.pyplot as plt\n",
    "from matplotlib.colors import LinearSegmentedColormap\n",
    "from IPython.display import display\n",
    "import wandb\n",
    "wandb.login()\n",
    "\n",
    "import numpy as np\n",
    "import tensorflow as tf\n",
    "from tensorflow.keras.datasets import mnist\n",
    "from losses import PixelCNNLoss, GaussianLoss, GaussianEntropyLoss\n",
    "from optimizers import IDEALOptimizer, param_labels\n",
    "\n",
    "# import specific imaging system's modules \n",
    "from lensless_imaging_system import RMLPSFLayer\n",
    "from lensless_data_generator import LenslessDataGenerator\n"
   ]
  },
  {
   "cell_type": "markdown",
   "metadata": {},
   "source": [
    "## Define a Lensless Imaging System"
   ]
  },
  {
   "cell_type": "code",
   "execution_count": 2,
   "metadata": {},
   "outputs": [],
   "source": [
    "class LenslessImagingSystem(ImagingSystem):\n",
    "    psf_layer: RMLPSFLayer\n",
    "    seed: int = eqx.field(static=True)\n",
    "    rng_key: jax.random.PRNGKey = eqx.field(static=True)\n",
    "\n",
    "    def __init__(self, psf_layer, seed: int = 0):\n",
    "        super().__init__(seed)\n",
    "        self.psf_layer = psf_layer \n",
    "        self.seed = seed \n",
    "        self.rng_key = random.PRNGKey(seed)\n",
    "\n",
    "    @eqx.filter_jit \n",
    "    def __call__(self, objects: jnp.ndarray) -> jnp.ndarray:\n",
    "        \"\"\"JIT-compiled forward pass.\"\"\"\n",
    "        return self.forward_model(objects)\n",
    "    \n",
    "    def forward_model(self, objects: jnp.ndarray) -> jnp.ndarray:   \n",
    "        \"\"\" Runs forward model for lensless imaging system. \n",
    "\n",
    "        Args:\n",
    "            objects: Input objects of shape (H, W). \n",
    "        \n",
    "        Returns:\n",
    "            measurements: Output measurements of shape (H, W)\n",
    "        \"\"\"\n",
    "        key = self.next_rng_key()\n",
    "        x = self.psf_layer(objects, key=key) \n",
    "        # clip the output to be non-negative \n",
    "        x = jnp.where(x < 1e-8, 1e-8, x) \n",
    "        return x\n",
    "    \n",
    "    def reconstruct(self, measurements: jnp.ndarray) -> jnp.ndarray:\n",
    "        \"\"\"\n",
    "        Performs reconstruction from the measurements.\n",
    "\n",
    "        Args:\n",
    "            measurements: Input measurements of shape (H, W).\n",
    "\n",
    "        Returns:\n",
    "            reconstructions: Reconstructed objects of shape (H, W).\n",
    "        \"\"\"\n",
    "        # Placeholder: Implement reconstruction logic if available.\n",
    "        # TODO: do a simple deconvolution, something like Wiener deconvolution or ADMM or FISTA \n",
    "        return measurements\n",
    "    \n",
    "    def toy_images(self, batch_size: int, height: int, width: int) -> jnp.ndarray: \n",
    "        \"\"\" \n",
    "        Generates toy images for testing the system. \n",
    "        \n",
    "        Args: \n",
    "            batch size: Number of images to generate.\n",
    "            height: Height of each image. \n",
    "            width: Width of each image.\n",
    "            \n",
    "        Returns: \n",
    "            Toy images of shape (batch_size, height, width).\"\"\"\n",
    "        key = self.next_rng_key() \n",
    "        return random.uniform(key, shape=(batch_size, height, width), minval=0, maxxval=1) \n",
    "    \n",
    "    def display_measurement(self, measurement: jnp.ndarray) -> None:\n",
    "        fig, ax = plt.subplots(figsize=(5, 5))\n",
    "        im = ax.imshow(measurement, cmap='gray')\n",
    "        fig.colorbar(im, ax=ax)\n",
    "        plt.close()\n",
    "\n",
    "        return fig\n",
    "    \n",
    "    def display_object(self, object: jnp.ndarray) -> None:\n",
    "        fig, ax = plt.subplots(figsize=(5, 5))\n",
    "        im = ax.imshow(object, cmap='gray') # running single-channel so no max \n",
    "        plt.close()\n",
    "\n",
    "        return fig\n",
    "\n",
    "    def display_optics(self) -> None:\n",
    "        # Create figure with 3 subplots\n",
    "        fig = plt.figure(figsize=(5, 5))\n",
    "        \n",
    "        # 1. PSF Plot (left)\n",
    "        ax1 = fig.add_subplot(111)\n",
    "        im1 = ax1.imshow(self.psf_layer.compute_psf(), cmap='gray')\n",
    "        fig.colorbar(im1, ax=ax1)\n",
    "        ax1.set_title('PSF')\n",
    "        ax1.axis('off')\n",
    "        \n",
    "        # Adjust layout\n",
    "        plt.tight_layout()\n",
    "        plt.close()\n",
    "\n",
    "        return fig\n",
    "    \n",
    "    def display_reconstruction(self) -> None:\n",
    "        # this is going to display a reconstruction image in the future, but for now I'm going to use it to just display wherever the PSF is nonzero \n",
    "        # Create figure with 3 subplots\n",
    "        fig = plt.figure(figsize=(5, 5))\n",
    "\n",
    "        # 1. PSF Plot (left)\n",
    "        ax1 = fig.add_subplot(111)\n",
    "        im1 = ax1.imshow((self.psf_layer.compute_psf()) > 0, cmap='gray')\n",
    "        fig.colorbar(im1, ax=ax1)\n",
    "        ax1.set_title('PSF')\n",
    "        ax1.axis('off')\n",
    "        \n",
    "        # Adjust layout\n",
    "        plt.tight_layout()\n",
    "        plt.close()\n",
    "\n",
    "        return fig\n",
    "    \n",
    "    def normalize_psf(self):\n",
    "        new_psf_layer = self.psf_layer.normalize_psf()\n",
    "        return eqx.tree_at(lambda m: m.psf_layer, self, new_psf_layer)\n",
    "    \n",
    "    def normalize(self):\n",
    "        \"\"\"Run all normalization and update steps.\n",
    "        \n",
    "        Returns:\n",
    "            Updated lensless imaging system with normalized PSF.\n",
    "        \"\"\"\n",
    "        system = self.normalize_psf()\n",
    "        return system\n",
    "    "
   ]
  },
  {
   "cell_type": "markdown",
   "metadata": {},
   "source": [
    "# Define Imaging System Parameters"
   ]
  },
  {
   "cell_type": "code",
   "execution_count": 3,
   "metadata": {},
   "outputs": [],
   "source": [
    "# general parameters \n",
    "seed_value = 42\n",
    "key = jax.random.PRNGKey(seed_value) # TODO change as needed\n",
    "\n",
    "# dataset parameters \n",
    "subset_fraction = 1.0\n",
    "photon_count = 100.0 # keep as float\n",
    "tile_rows = 3\n",
    "tile_cols = 3\n",
    "batch_size = 50\n",
    "dataset_name = 'mnist' # 'mnist' or 'cifar10' # TODO change as needed\n",
    "\n",
    "\n",
    "# RMLPSFLayer parameters \n",
    "object_size = 96 \n",
    "num_gaussian = 25 # TODO changing this\n",
    "psf_size = (32, 32) \n",
    "\n",
    "# define parameters for IDEAL optimization \n",
    "patch_size = 16 # default is 16\n",
    "num_patches = 1024 \n",
    "patching_strategy = 'random' \n",
    "num_steps = 2000 \n",
    "loss_type = 'pixelcnn' # TODO change as needed\n",
    "# these are pixelcnn loss-specific parameters\n",
    "refit_every = 50 # normally it's every 50 \n",
    "refit_patience = 5 # default is 5\n",
    "refit_learning_rate = 1e-3 # default is 4e-3 \n",
    "refit_steps_per_epoch = 100 # default is 100 \n",
    "gaussian_sigma = None # if none, Poisson noise is used. Otherwise Gaussian noise with standard deviation gaussian_sigma\n",
    "\n",
    "# wandb parameters\n",
    "use_wandb=True\n",
    "project_name='ideal_development'\n",
    "run_name='{}_loss_patch_16_reinitializing_refit_{}_patience_{}_lr_{}_steps_per_epoch_{}_init_{}'.format(loss_type, refit_every, refit_patience, refit_learning_rate, refit_steps_per_epoch, num_gaussian) # TODO change with each experiment\n",
    "log_every = 20\n",
    "validate_every = 500\n",
    "\n",
    "# Create wandb config dictionary with grouped parameters\n",
    "wandb_config = {\n",
    "    'general': {\n",
    "        'seed_value': seed_value,\n",
    "    },\n",
    "    \n",
    "    'dataset': {\n",
    "        'subset_fraction': subset_fraction,\n",
    "        'photon_count': photon_count,\n",
    "        'tile_rows': tile_rows,\n",
    "        'tile_cols': tile_cols,\n",
    "        'batch_size': batch_size,\n",
    "        'dataset_name': dataset_name,\n",
    "    },\n",
    "    \n",
    "    'psf_layer': {\n",
    "        'object_size': object_size,\n",
    "        'num_gaussian': num_gaussian,\n",
    "        'psf_size': psf_size,\n",
    "    },\n",
    "    \n",
    "    'optimization': {\n",
    "        'patch_size': patch_size,\n",
    "        'num_patches': num_patches,\n",
    "        'patching_strategy': patching_strategy,\n",
    "        'num_steps': num_steps,\n",
    "        'loss_type': loss_type,\n",
    "        'refit_every': refit_every,\n",
    "        'refit_patience': refit_patience,\n",
    "        'refit_learning_rate': refit_learning_rate,\n",
    "        'refit_steps_per_epoch': refit_steps_per_epoch,\n",
    "        'gaussian_sigma': gaussian_sigma,\n",
    "    },\n",
    "    \n",
    "    'logging': {\n",
    "        'use_wandb': use_wandb,\n",
    "        'project_name': project_name,\n",
    "        'run_name': run_name,\n",
    "        'log_every': log_every,\n",
    "        'validate_every': validate_every\n",
    "    }\n",
    "}"
   ]
  },
  {
   "cell_type": "markdown",
   "metadata": {},
   "source": [
    "# Create Your Imaging System"
   ]
  },
  {
   "cell_type": "code",
   "execution_count": 4,
   "metadata": {},
   "outputs": [
    {
     "data": {
      "image/png": "[encoded data removed]",
      "text/plain": [
       "<Figure size 500x500 with 2 Axes>"
      ]
     },
     "execution_count": 4,
     "metadata": {},
     "output_type": "execute_result"
    }
   ],
   "source": [
    "# define the PSF layer\n",
    "psf_layer = RMLPSFLayer(object_size, num_gaussian, psf_size, key=key)\n",
    "\n",
    "# Define the imaging system\n",
    "imaging_system = LenslessImagingSystem(psf_layer)\n",
    "imaging_system.display_optics()"
   ]
  },
  {
   "cell_type": "markdown",
   "metadata": {},
   "source": [
    "# Choose Your Learning Rate"
   ]
  },
  {
   "cell_type": "code",
   "execution_count": 5,
   "metadata": {},
   "outputs": [
    {
     "name": "stdout",
     "output_type": "stream",
     "text": [
      "Learnable parameters:\n",
      "psf_layer.means\n",
      "psf_layer.covs\n",
      "psf_layer.weights\n"
     ]
    }
   ],
   "source": [
    "labels = param_labels(imaging_system)"
   ]
  },
  {
   "cell_type": "code",
   "execution_count": 6,
   "metadata": {},
   "outputs": [],
   "source": [
    "pl_means_lr = 3e-2\n",
    "pl_covs_lr = 1e-3\n",
    "pl_weights_lr = 1e-4 # TODO change\n",
    "\n",
    "optimizer = optax.multi_transform(\n",
    "    {\n",
    "        'psf_layer.means': optax.adam(learning_rate=pl_means_lr),\n",
    "        'psf_layer.covs': optax.adam(learning_rate=pl_covs_lr),\n",
    "        'psf_layer.weights': optax.adam(learning_rate=pl_weights_lr)\n",
    "    },\n",
    "\n",
    "    param_labels = labels \n",
    ")"
   ]
  },
  {
   "cell_type": "markdown",
   "metadata": {},
   "source": [
    "# Create a Dataset"
   ]
  },
  {
   "cell_type": "code",
   "execution_count": 7,
   "metadata": {},
   "outputs": [
    {
     "name": "stderr",
     "output_type": "stream",
     "text": [
      "2025-03-01 22:13:14.849936: W tensorflow/core/common_runtime/gpu/gpu_bfc_allocator.cc:47] Overriding orig_value setting because the TF_FORCE_GPU_ALLOW_GROWTH environment variable is set. Original config value was 0.\n"
     ]
    }
   ],
   "source": [
    "# Create a Data Generator \n",
    "data_generator = LenslessDataGenerator(photon_count, subset_fraction=subset_fraction, seed=seed_value) # currently the data loaded is auto-scaled to photon count.\n",
    "# TODO alternative approach is to scale it in the training and test datasets. \n",
    "\n",
    "# Load CIFAR10 data \n",
    "if dataset_name == 'cifar10':\n",
    "    x_train, x_test = data_generator.load_cifar10_data()\n",
    "elif dataset_name == 'mnist':\n",
    "    x_train, x_test = data_generator.load_mnist_data()\n",
    "else:\n",
    "    raise ValueError(f\"Unknown dataset: {dataset_name}\")\n",
    "\n",
    "# create training dataset with 3x3 tiled images \n",
    "train_dataset = data_generator.create_dataset(\n",
    "    x_train, \n",
    "    tile_rows=tile_rows,\n",
    "    tile_cols=tile_cols,\n",
    "    batch_size=batch_size   \n",
    ")\n",
    "# TODO: incorporate test + validation datasets once those features are included\n",
    "test_dataset = data_generator.create_dataset(\n",
    "    x_test, \n",
    "    tile_rows=tile_rows,\n",
    "    tile_cols=tile_cols,\n",
    "    batch_size=batch_size\n",
    ")"
   ]
  },
  {
   "cell_type": "markdown",
   "metadata": {},
   "source": [
    "# Define the Loss Function"
   ]
  },
  {
   "cell_type": "code",
   "execution_count": 8,
   "metadata": {},
   "outputs": [],
   "source": [
    "if loss_type == 'pixelcnn':\n",
    "    # loss_fn = PixelCNNLoss(refit_every=refit_every, refit_patience=refit_patience, refit_learning_rate=refit_learning_rate, refit_steps_per_epoch=refit_steps_per_epoch)\n",
    "    loss_fn = PixelCNNLoss(refit_every=20)\n",
    "elif loss_type == 'gaussian_entropy':\n",
    "    loss_fn = GaussianEntropyLoss()\n",
    "elif loss_type == 'gaussian':\n",
    "    loss_fn = GaussianLoss()\n",
    "else:\n",
    "    raise ValueError(f\"Loss type {loss_type} not supported\")"
   ]
  },
  {
   "cell_type": "markdown",
   "metadata": {},
   "source": [
    "# Create the Optimizer"
   ]
  },
  {
   "cell_type": "code",
   "execution_count": 9,
   "metadata": {},
   "outputs": [],
   "source": [
    "ideal_optimizer = IDEALOptimizer(\n",
    "    imaging_system, \n",
    "    optimizer, \n",
    "    loss_fn,\n",
    "    patch_size = patch_size,\n",
    "    num_patches= num_patches,\n",
    "    patching_strategy=patching_strategy,\n",
    "    gaussian_sigma=gaussian_sigma,\n",
    "    use_wandb=use_wandb,\n",
    "    project_name=project_name,\n",
    "    run_name=run_name,\n",
    "    wandb_config=wandb_config\n",
    ")"
   ]
  },
  {
   "cell_type": "markdown",
   "metadata": {},
   "source": [
    "# Optimize!!!!!"
   ]
  },
  {
   "cell_type": "code",
   "execution_count": null,
   "metadata": {},
   "outputs": [
    {
     "name": "stderr",
     "output_type": "stream",
     "text": [
      "\u001b[34m\u001b[1mwandb\u001b[0m: Using wandb-core as the SDK backend.  Please refer to https://wandb.me/wandb-core for more information.\n",
      "/home/emarkley/miniforge3/envs/InfoTheory/lib/python3.10/site-packages/pydantic/main.py:314: UserWarning: Pydantic serializer warnings:\n",
      "  Expected `list[str]` but got `tuple` - serialized value may not be as expected\n",
      "  return self.__pydantic_serializer__.to_python(\n",
      "/home/emarkley/miniforge3/envs/InfoTheory/lib/python3.10/site-packages/pydantic/main.py:314: UserWarning: Pydantic serializer warnings:\n",
      "  Expected `list[str]` but got `tuple` - serialized value may not be as expected\n",
      "  return self.__pydantic_serializer__.to_python(\n"
     ]
    },
    {
     "data": {
      "text/html": [
       "Tracking run with wandb version 0.19.6"
      ],
      "text/plain": [
       "<IPython.core.display.HTML object>"
      ]
     },
     "metadata": {},
     "output_type": "display_data"
    },
    {
     "data": {
      "text/html": [
       "Run data is saved locally in <code>/home/emarkley/Workspace/PYTHON/ideal_package/ideal/wandb/run-20250301_221316-u6wyjl69</code>"
      ],
      "text/plain": [
       "<IPython.core.display.HTML object>"
      ]
     },
     "metadata": {},
     "output_type": "display_data"
    },
    {
     "data": {
      "text/html": [
       "Syncing run <strong><a href='https://wandb.ai/wallerlab/ideal_development/runs/u6wyjl69' target=\"_blank\">pixelcnn_loss_patch_16_reinitializing_refit_50_patience_5_lr_0.001_steps_per_epoch_100_init_25</a></strong> to <a href='https://wandb.ai/wallerlab/ideal_development' target=\"_blank\">Weights & Biases</a> (<a href='https://wandb.me/developer-guide' target=\"_blank\">docs</a>)<br>"
      ],
      "text/plain": [
       "<IPython.core.display.HTML object>"
      ]
     },
     "metadata": {},
     "output_type": "display_data"
    },
    {
     "data": {
      "text/html": [
       " View project at <a href='https://wandb.ai/wallerlab/ideal_development' target=\"_blank\">https://wandb.ai/wallerlab/ideal_development</a>"
      ],
      "text/plain": [
       "<IPython.core.display.HTML object>"
      ]
     },
     "metadata": {},
     "output_type": "display_data"
    },
    {
     "data": {
      "text/html": [
       " View run at <a href='https://wandb.ai/wallerlab/ideal_development/runs/u6wyjl69' target=\"_blank\">https://wandb.ai/wallerlab/ideal_development/runs/u6wyjl69</a>"
      ],
      "text/plain": [
       "<IPython.core.display.HTML object>"
      ]
     },
     "metadata": {},
     "output_type": "display_data"
    },
    {
     "name": "stderr",
     "output_type": "stream",
     "text": [
      "training:  10%|█         | 20/200 [00:35<05:20,  1.78s/it]\n",
      "training:  10%|█         | 20/200 [00:33<05:03,  1.69s/it]\n",
      "training:  12%|█▏        | 23/200 [00:38<04:55,  1.67s/it]\n",
      "training:   9%|▉         | 18/200 [00:31<05:21,  1.77s/it]\n",
      "training:  12%|█▎        | 25/200 [00:39<04:35,  1.58s/it]\n",
      "training:   9%|▉         | 18/200 [00:31<05:22,  1.77s/it]\n",
      "training:  10%|█         | 21/200 [00:33<04:48,  1.61s/it]\n",
      "training:  12%|█▏        | 24/200 [00:38<04:39,  1.59s/it]\n",
      "training:  14%|█▎        | 27/200 [00:44<04:45,  1.65s/it]\n",
      "training:  18%|█▊        | 36/200 [00:57<04:21,  1.59s/it]\n",
      "training:  13%|█▎        | 26/200 [00:40<04:31,  1.56s/it]\n",
      "training:  12%|█▎        | 25/200 [00:41<04:50,  1.66s/it]\n",
      "training:  14%|█▍        | 29/200 [00:48<04:48,  1.69s/it]\n",
      "training:  14%|█▍        | 28/200 [00:44<04:35,  1.60s/it]\n",
      "training:  10%|█         | 20/200 [00:33<05:00,  1.67s/it]\n",
      "training:  15%|█▌        | 30/200 [00:48<04:34,  1.61s/it]\n",
      "training:  11%|█         | 22/200 [00:37<05:01,  1.69s/it]\n",
      "training:  12%|█▎        | 25/200 [00:41<04:52,  1.67s/it]\n",
      "training:  13%|█▎        | 26/200 [00:43<04:51,  1.68s/it]\n",
      "training:  10%|█         | 20/200 [00:33<04:57,  1.65s/it]\n",
      "training:  14%|█▍        | 28/200 [00:46<04:44,  1.65s/it]\n",
      "training:  10%|█         | 21/200 [00:34<04:52,  1.63s/it]\n",
      "training:  35%|███▌      | 70/200 [01:40<03:06,  1.43s/it]\n",
      "training:  15%|█▌        | 30/200 [00:49<04:39,  1.64s/it]\n",
      "training:  14%|█▍        | 29/200 [00:47<04:41,  1.64s/it]\n",
      "training:  16%|█▌        | 32/200 [00:52<04:33,  1.63s/it]\n",
      "training:  12%|█▎        | 25/200 [00:42<04:57,  1.70s/it]\n",
      "training:  19%|█▉        | 38/200 [01:00<04:19,  1.60s/it]\n",
      "training:  16%|█▌        | 32/200 [00:49<04:17,  1.54s/it]\n",
      "training:  13%|█▎        | 26/200 [00:42<04:45,  1.64s/it]\n",
      "training:  12%|█▎        | 25/200 [00:42<04:55,  1.69s/it]\n",
      "training:  13%|█▎        | 26/200 [00:43<04:53,  1.69s/it]\n",
      "training:  22%|██▏       | 43/200 [01:08<04:10,  1.59s/it]\n",
      "training:  14%|█▎        | 27/200 [00:45<04:50,  1.68s/it]\n",
      "training:  18%|█▊        | 35/200 [00:56<04:24,  1.60s/it]\n",
      "training:  20%|██        | 40/200 [01:03<04:15,  1.60s/it]\n",
      "training:  16%|█▋        | 33/200 [00:53<04:29,  1.61s/it]\n",
      "training:  18%|█▊        | 37/200 [00:56<04:09,  1.53s/it]\n",
      "training:  18%|█▊        | 37/200 [00:59<04:21,  1.60s/it]\n",
      "training:  14%|█▍        | 29/200 [00:46<04:35,  1.61s/it]\n",
      "training:  16%|█▌        | 32/200 [00:52<04:37,  1.65s/it]\n",
      "training:  14%|█▍        | 29/200 [00:44<04:23,  1.54s/it]\n",
      "training:  14%|█▍        | 28/200 [00:43<04:27,  1.55s/it]\n",
      "training:  14%|█▍        | 28/200 [00:45<04:42,  1.64s/it]\n",
      "training:  14%|█▍        | 29/200 [00:45<04:29,  1.58s/it]\n",
      "training:  16%|█▋        | 33/200 [00:52<04:28,  1.61s/it]\n",
      "training:  20%|██        | 40/200 [01:04<04:17,  1.61s/it]\n",
      "training:  14%|█▍        | 28/200 [00:46<04:47,  1.67s/it]\n",
      "training:  18%|█▊        | 35/200 [00:54<04:18,  1.56s/it]\n",
      "training:  18%|█▊        | 37/200 [00:59<04:20,  1.60s/it]\n",
      "training:  15%|█▌        | 30/200 [00:48<04:34,  1.62s/it]\n",
      "training:  15%|█▌        | 30/200 [00:49<04:39,  1.64s/it]\n",
      "training:  14%|█▍        | 29/200 [00:47<04:40,  1.64s/it]\n",
      "training:  14%|█▍        | 29/200 [00:48<04:46,  1.67s/it]\n",
      "training:  14%|█▍        | 29/200 [00:48<04:43,  1.66s/it]\n",
      "training:  18%|█▊        | 36/200 [00:57<04:22,  1.60s/it]\n",
      "training:  16%|█▌        | 32/200 [00:49<04:21,  1.55s/it]\n",
      "training:  17%|█▋        | 34/200 [00:51<04:12,  1.52s/it]\n",
      "training:  13%|█▎        | 26/200 [00:43<04:49,  1.66s/it]\n",
      "training:  24%|██▎       | 47/200 [01:14<04:01,  1.58s/it]\n",
      "training:  21%|██        | 42/200 [01:07<04:14,  1.61s/it]\n",
      "training:  14%|█▍        | 29/200 [00:45<04:26,  1.56s/it]\n",
      "training:  19%|█▉        | 38/200 [01:00<04:16,  1.58s/it]\n",
      "training:  13%|█▎        | 26/200 [00:41<04:41,  1.62s/it]\n",
      "training:  17%|█▋        | 34/200 [00:54<04:26,  1.61s/it]\n",
      "training:  24%|██▎       | 47/200 [01:14<04:02,  1.58s/it]\n",
      "training:  17%|█▋        | 34/200 [00:55<04:30,  1.63s/it]\n",
      "training:  14%|█▍        | 29/200 [00:45<04:29,  1.58s/it]\n",
      "training:  16%|█▌        | 31/200 [00:50<04:35,  1.63s/it]\n",
      "training:  18%|█▊        | 35/200 [00:55<04:23,  1.60s/it]\n",
      "training:  24%|██▍       | 48/200 [01:16<04:01,  1.59s/it]\n",
      "training:  16%|█▌        | 31/200 [00:50<04:37,  1.64s/it]\n",
      "training:  14%|█▍        | 28/200 [00:46<04:42,  1.64s/it]\n",
      "training:  15%|█▌        | 30/200 [00:47<04:27,  1.57s/it]\n",
      "training:  14%|█▎        | 27/200 [00:42<04:35,  1.59s/it]\n",
      "training:  13%|█▎        | 26/200 [00:43<04:48,  1.66s/it]\n",
      " 76%|███████▌  | 1519/2000 [1:17:08<03:15,  2.46it/s]  "
     ]
    }
   ],
   "source": [
    "optimized_imaging_system = ideal_optimizer.optimize(\n",
    "    train_dataset,\n",
    "    num_steps,\n",
    "    log_every=log_every,\n",
    "    validate_every=validate_every\n",
    ")\n",
    "\n",
    "# Save the optimized imaging system\n",
    "eqx.tree_serialise_leaves(run_name + \"_optimized_imaging_system.eqx\", ideal_optimizer.imaging_system)"
   ]
  },
  {
   "cell_type": "code",
   "execution_count": null,
   "metadata": {},
   "outputs": [],
   "source": []
  },
  {
   "cell_type": "code",
   "execution_count": null,
   "metadata": {},
   "outputs": [],
   "source": []
  }
 ],
 "metadata": {
  "kernelspec": {
   "display_name": "InfoTheory",
   "language": "python",
   "name": "python3"
  },
  "language_info": {
   "codemirror_mode": {
    "name": "ipython",
    "version": 3
   },
   "file_extension": ".py",
   "mimetype": "text/x-python",
   "name": "python",
   "nbconvert_exporter": "python",
   "pygments_lexer": "ipython3",
   "version": "3.10.13"
  }
 },
 "nbformat": 4,
 "nbformat_minor": 2
}
