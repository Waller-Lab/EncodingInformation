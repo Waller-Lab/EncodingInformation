{
 "cells": [
  {
   "cell_type": "code",
   "execution_count": null,
   "metadata": {},
   "outputs": [],
   "source": [
    "%load_ext autoreload\n",
    "%autoreload 2\n",
    "import os\n",
    "import sys\n",
    "# set gpu to be pci bus id\n",
    "os.environ['CUDA_DEVICE_ORDER'] = 'PCI_BUS_ID'\n",
    "os.environ['CUDA_VISIBLE_DEVICES'] = '0'\n",
    "# set gpu memory usage and turnoff pre-allocated memory\n",
    "os.environ['XLA_PYTHON_CLIENT_PREALLOCATE'] ='false'\n",
    "os.environ['XLA_PYTHON_CLIENT_ALLOCATOR']='platform'\n",
    "os.environ['TF_FORCE_GPU_ALLOW_GROWTH'] = 'true'\n",
    "\n",
    "\n",
    "import optax\n",
    "import equinox as eqx\n",
    "import jax.numpy as jnp\n",
    "test = jnp.zeros((10,10,10))\n",
    "\n",
    "import sys\n",
    "\n",
    "sys.path.append('/home/nmsingh/dev/EncodingInformation/src')\n",
    "sys.path.append('/home/nmsingh/dev/EncodingInformation/ideal')\n",
    "\n",
    "import wandb\n",
    "wandb.login()\n",
    "\n",
    "from ideal.losses import PixelCNNLoss, GaussianLoss, GaussianEntropyLoss\n",
    "from ideal.optimizers import IDEALOptimizer, param_labels\n",
    "from ideal.imaging_systems.xray_ptychography.xray_ptychography import XRayPtychography\n",
    "from ideal.imaging_systems.xray_ptychography.data_generator import CellDataGenerator\n"
   ]
  },
  {
   "cell_type": "markdown",
   "metadata": {},
   "source": [
    "# Define Imaging System Parameters"
   ]
  },
  {
   "cell_type": "code",
   "execution_count": 30,
   "metadata": {},
   "outputs": [],
   "source": [
    "# define parameters for IDEAL optimization\n",
    "patch_size = 16\n",
    "num_patches = 1024\n",
    "patching_strategy = 'random'\n",
    "num_steps = 1000\n",
    "loss_type = 'gaussian'\n",
    "refit_every = 50\n",
    "gaussian_sigma = None # if none poisson noise is used, else gaussian noise with standard deviation sigma is used\n",
    "\n",
    "# wandb parameters\n",
    "use_wandb=True\n",
    "project_name='ideal_development'\n",
    "run_name='gaussian_loss'\n",
    "log_every = 100\n",
    "validate_every = 500"
   ]
  },
  {
   "cell_type": "markdown",
   "metadata": {},
   "source": [
    "# Create Your Imaging System"
   ]
  },
  {
   "cell_type": "code",
   "execution_count": 31,
   "metadata": {},
   "outputs": [],
   "source": [
    "# Define the imaging system\n",
    "imaging_system = XRayPtychography()"
   ]
  },
  {
   "cell_type": "markdown",
   "metadata": {},
   "source": [
    "# Choose Your Learning Rate"
   ]
  },
  {
   "cell_type": "code",
   "execution_count": null,
   "metadata": {},
   "outputs": [],
   "source": [
    "labels = param_labels(imaging_system)"
   ]
  },
  {
   "cell_type": "code",
   "execution_count": 33,
   "metadata": {},
   "outputs": [],
   "source": [
    "optimizer = optax.multi_transform(\n",
    "    {\n",
    "        'mask': optax.adam(learning_rate=1e-3),\n",
    "    },\n",
    "    param_labels = labels \n",
    ")\n",
    "batch_size = 4"
   ]
  },
  {
   "cell_type": "markdown",
   "metadata": {},
   "source": [
    "# Create a Dataset"
   ]
  },
  {
   "cell_type": "code",
   "execution_count": 34,
   "metadata": {},
   "outputs": [],
   "source": [
    "# Create a Data Generator\n",
    "data_generator = CellDataGenerator()\n",
    "\n",
    "# Create training dataset with sparsity\n",
    "train_dataset = data_generator.create_dataset(\n",
    "    batch_size=batch_size\n",
    ")"
   ]
  },
  {
   "cell_type": "markdown",
   "metadata": {},
   "source": [
    "# Define the Loss Function"
   ]
  },
  {
   "cell_type": "code",
   "execution_count": 35,
   "metadata": {},
   "outputs": [],
   "source": [
    "if loss_type == 'pixelcnn':\n",
    "    loss_fn = PixelCNNLoss(refit_every=refit_every)\n",
    "elif loss_type == 'gaussian_entropy':\n",
    "    loss_fn = GaussianEntropyLoss()\n",
    "elif loss_type == 'gaussian':\n",
    "    loss_fn = GaussianLoss()\n",
    "else:\n",
    "    raise ValueError(f\"Loss type {loss_type} not supported\")"
   ]
  },
  {
   "cell_type": "markdown",
   "metadata": {},
   "source": [
    "# Create the Optimizer"
   ]
  },
  {
   "cell_type": "code",
   "execution_count": 36,
   "metadata": {},
   "outputs": [],
   "source": [
    "ideal_optimizer = IDEALOptimizer(\n",
    "    imaging_system, \n",
    "    optimizer, \n",
    "    loss_fn,\n",
    "    patch_size = patch_size,\n",
    "    num_patches= num_patches,\n",
    "    patching_strategy=patching_strategy,\n",
    "    gaussian_sigma=gaussian_sigma,\n",
    "    use_wandb=use_wandb,\n",
    "    project_name=project_name,\n",
    "    run_name=run_name\n",
    ")"
   ]
  },
  {
   "cell_type": "markdown",
   "metadata": {},
   "source": [
    "# Optimize!!!!!"
   ]
  },
  {
   "cell_type": "code",
   "execution_count": null,
   "metadata": {},
   "outputs": [],
   "source": [
    "optimized_imaging_system = ideal_optimizer.optimize(\n",
    "    train_dataset,\n",
    "    num_steps,\n",
    "    log_every=log_every,\n",
    "    validate_every=validate_every\n",
    ")\n",
    "\n",
    "# Save the optimized imaging system\n",
    "eqx.tree_serialise_leaves(run_name + \"_optimized_imaging_system.eqx\", ideal_optimizer.imaging_system)"
   ]
  }
 ],
 "metadata": {
  "kernelspec": {
   "display_name": "InfoTheory",
   "language": "python",
   "name": "python3"
  },
  "language_info": {
   "codemirror_mode": {
    "name": "ipython",
    "version": 3
   },
   "file_extension": ".py",
   "mimetype": "text/x-python",
   "name": "python",
   "nbconvert_exporter": "python",
   "pygments_lexer": "ipython3",
   "version": "3.10.13"
  }
 },
 "nbformat": 4,
 "nbformat_minor": 2
}
