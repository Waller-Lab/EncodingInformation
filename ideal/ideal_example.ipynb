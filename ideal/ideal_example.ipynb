{
 "cells": [
  {
   "cell_type": "code",
   "execution_count": 18,
   "metadata": {},
   "outputs": [
    {
     "name": "stdout",
     "output_type": "stream",
     "text": [
      "The autoreload extension is already loaded. To reload it, use:\n",
      "  %reload_ext autoreload\n"
     ]
    }
   ],
   "source": [
    "%load_ext autoreload\n",
    "%autoreload 2\n",
    "import os\n",
    "import sys\n",
    "# set gpu to be pci bus id\n",
    "os.environ['CUDA_DEVICE_ORDER'] = 'PCI_BUS_ID'\n",
    "os.environ['CUDA_VISIBLE_DEVICES'] = '2'\n",
    "# set gpu memory usage and turnoff pre-allocated memory\n",
    "os.environ['XLA_PYTHON_CLIENT_PREALLOCATE'] ='false'\n",
    "os.environ['XLA_PYTHON_CLIENT_ALLOCATOR']='platform'\n",
    "os.environ['TF_FORCE_GPU_ALLOW_GROWTH'] = 'true'\n",
    "\n",
    "\n",
    "import optax\n",
    "import equinox as eqx\n",
    "import jax\n",
    "import jax.tree_util as jtu\n",
    "import jax.numpy as jnp\n",
    "test = jnp.zeros((10,10,10))\n",
    "import jax.random as random\n",
    "from imaging_system import ImagingSystem, ImagingSystemProtocol\n",
    "\n",
    "import sys\n",
    "sys.path.append('/home/emarkley/Workspace/PYTHON/EncodingInformation')\n",
    "from encoding_information.models.pixel_cnn import PixelCNN\n",
    "from encoding_information.models.gaussian_process import FullGaussianProcess\n",
    "from encoding_information.information_estimation import *\n",
    "\n",
    "import matplotlib.pyplot as plt\n",
    "from matplotlib.colors import LinearSegmentedColormap\n",
    "from IPython.display import display\n",
    "import wandb\n",
    "wandb.login()\n",
    "\n",
    "import numpy as np\n",
    "import tensorflow as tf\n",
    "from tensorflow.keras.datasets import mnist\n",
    "from losses import PixelCNNLoss, GaussianLoss, GaussianEntropyLoss\n",
    "from optimizers import IDEALOptimizer, param_labels\n",
    "from imaging_systems.spectral_diffuser_scope.imaging_system import GaussianPSFLayer, GaussianSensorLayer\n",
    "from imaging_systems.spectral_diffuser_scope.data_generator import SpectralDataGenerator\n"
   ]
  },
  {
   "cell_type": "markdown",
   "metadata": {},
   "source": [
    "# Define an Imaging System"
   ]
  },
  {
   "cell_type": "code",
   "execution_count": 19,
   "metadata": {},
   "outputs": [],
   "source": [
    "class HyperspectralImagingSystem(ImagingSystem):\n",
    "    psf_layer: GaussianPSFLayer \n",
    "    gaussian_sensor_layer: GaussianSensorLayer\n",
    "    seed: int = eqx.field(static=True)\n",
    "    rng_key: jax.random.PRNGKey = eqx.field(static=True)\n",
    "\n",
    "    def __init__(self, psf_layer, gaussian_sensor_layer, seed: int = 0):\n",
    "        super().__init__(seed)\n",
    "        self.psf_layer = psf_layer\n",
    "        self.gaussian_sensor_layer = gaussian_sensor_layer\n",
    "        self.seed = seed\n",
    "        self.rng_key = random.PRNGKey(seed)\n",
    "\n",
    "    @eqx.filter_jit\n",
    "    def __call__(self, objects: jnp.ndarray) -> jnp.ndarray:\n",
    "        \"\"\"JIT-compiled forward pass\"\"\"\n",
    "        return self.forward_model(objects)\n",
    "\n",
    "    def forward_model(self, objects: jnp.ndarray) -> jnp.ndarray:\n",
    "        \"\"\"\n",
    "        Runs the forward model using the hyperspectral imaging system.\n",
    "\n",
    "        Args:\n",
    "            objects: Input objects of shape (H, W, C).\n",
    "\n",
    "        Returns:\n",
    "            measurements: Output measurements of shape (H, W, C).\n",
    "        \"\"\"\n",
    "        key = self.next_rng_key()\n",
    "        x = self.psf_layer(objects, key=key)\n",
    "        x = self.gaussian_sensor_layer(x, key=key)\n",
    "        # clip the output to be nonnegative\n",
    "        x = jnp.where(x < 1e-8, 1e-8, x)\n",
    "        return x\n",
    "\n",
    "    def reconstruct(self, measurements: jnp.ndarray) -> jnp.ndarray:\n",
    "        \"\"\"\n",
    "        Performs reconstruction from the measurements.\n",
    "\n",
    "        Args:\n",
    "            measurements: Input measurements of shape (H, W, C).\n",
    "\n",
    "        Returns:\n",
    "            reconstructions: Reconstructed objects of shape (H, W, C).\n",
    "        \"\"\"\n",
    "        # Placeholder: Implement reconstruction logic if available.\n",
    "        return measurements\n",
    "\n",
    "    def toy_images(self, batch_size: int, height: int, width: int, channels: int) -> jnp.ndarray:\n",
    "        \"\"\"\n",
    "        Generates toy images for testing the system.\n",
    "\n",
    "        Args:\n",
    "            batch_size: Number of images to generate.\n",
    "            height: Height of each image.\n",
    "            width: Width of each image.\n",
    "            channels: Number of channels in each image.\n",
    "\n",
    "        Returns:\n",
    "            Toy images of shape (batch_size, height, width, channels).\n",
    "        \"\"\"\n",
    "        key = self.next_rng_key()\n",
    "        return random.uniform(key, shape=(batch_size, height, width, channels), minval=0, maxval=1)\n",
    "\n",
    "    def display_measurement(self, measurement: jnp.ndarray) -> None:\n",
    "        fig, ax = plt.subplots(figsize=(5, 5))\n",
    "        im = ax.imshow(measurement, cmap='gray')\n",
    "        fig.colorbar(im, ax=ax)\n",
    "        plt.close()\n",
    "\n",
    "        return fig\n",
    "    \n",
    "    def display_object(self, object: jnp.ndarray) -> None:\n",
    "        fig, ax = plt.subplots(figsize=(5, 5))\n",
    "        im = ax.imshow(jnp.max(object, axis=0), cmap='gray')\n",
    "        plt.close()\n",
    "\n",
    "        return fig\n",
    "    \n",
    "    def display_optics(self) -> None:\n",
    "        # Create figure with 3 subplots\n",
    "        fig = plt.figure(figsize=(15, 5))\n",
    "        \n",
    "        # 1. PSF Plot (left)\n",
    "        ax1 = fig.add_subplot(131)\n",
    "        im1 = ax1.imshow(self.psf_layer.compute_psf(), cmap='gray')\n",
    "        fig.colorbar(im1, ax=ax1)\n",
    "        ax1.set_title('PSF')\n",
    "        ax1.axis('off')\n",
    "        \n",
    "        # 2. Learned Pattern Plot (middle)\n",
    "        ax2 = fig.add_subplot(132)\n",
    "        model_sensor = self.gaussian_sensor_layer\n",
    "        wavelengths = self.gaussian_sensor_layer.wavelengths\n",
    "        norm_wavelengths = (wavelengths - np.min(wavelengths)) / (np.max(wavelengths) - np.min(wavelengths))\n",
    "        colors = plt.cm.nipy_spectral(norm_wavelengths)\n",
    "        custom_cmap = LinearSegmentedColormap.from_list(\"custom_colormap\", \n",
    "                                                    list(zip(norm_wavelengths, colors)), \n",
    "                                                    N=self.gaussian_sensor_layer.num_waves)\n",
    "        \n",
    "        color_mask = self.gaussian_sensor_layer.means\n",
    "        color_mask = (color_mask-np.min(wavelengths))/(np.max(wavelengths)-np.min(wavelengths))*model_sensor.num_waves\n",
    "        \n",
    "        im2 = ax2.imshow(color_mask, cmap=custom_cmap, vmin=0, vmax=model_sensor.num_waves)\n",
    "        cbar = fig.colorbar(im2, ax=ax2, ticks=np.linspace(0, self.gaussian_sensor_layer.num_waves, 5))\n",
    "        cbar.set_label('Wavelength (nm)')\n",
    "        cbar.set_ticklabels(np.linspace(self.gaussian_sensor_layer.min_wave, self.gaussian_sensor_layer.max_wave, 5).astype(int))\n",
    "        ax2.set_title('Learned Pattern')\n",
    "        ax2.axis('off')\n",
    "        \n",
    "        # 3. Filter Distribution Plot (right)\n",
    "        ax3 = fig.add_subplot(133)\n",
    "        sensor = self.gaussian_sensor_layer.get_sensor()\n",
    "        for ii in range(self.gaussian_sensor_layer.means.shape[0]):\n",
    "            for jj in range(self.gaussian_sensor_layer.means.shape[1]):\n",
    "                ax3.plot(self.gaussian_sensor_layer.wavelengths, sensor[...,ii,jj])\n",
    "        ax3.set_title('Sensor Distribution')\n",
    "        ax3.set_xlabel('Wavelength (nm)')\n",
    "        ax3.set_ylabel('Response')\n",
    "        \n",
    "        # Adjust layout\n",
    "        plt.tight_layout()\n",
    "        plt.close()\n",
    "        \n",
    "        return fig\n",
    "    \n",
    "    def normalize_psf(self):\n",
    "        new_psf_layer = self.psf_layer.normalize_psf()\n",
    "        return eqx.tree_at(lambda m: m.psf_layer, self, new_psf_layer)\n",
    "    \n",
    "    def update_means(self):\n",
    "        new_sensor_layer = self.gaussian_sensor_layer.update_means()\n",
    "        return eqx.tree_at(lambda m: m.gaussian_sensor_layer, self, new_sensor_layer)\n",
    "    \n",
    "    def update_stds(self):\n",
    "        new_sensor_layer = self.gaussian_sensor_layer.update_stds()\n",
    "        return eqx.tree_at(lambda m: m.gaussian_sensor_layer, self, new_sensor_layer)\n",
    "    \n",
    "    def normalize(self):\n",
    "        \"\"\"Run all normalization and update steps.\n",
    "        \n",
    "        Returns:\n",
    "            Updated imaging system with normalized PSF and updated sensor parameters.\n",
    "        \"\"\"\n",
    "        system = self.normalize_psf()\n",
    "        system = system.update_means()\n",
    "        system = system.update_stds()\n",
    "        return system"
   ]
  },
  {
   "cell_type": "markdown",
   "metadata": {},
   "source": [
    "# Define Imaging System Parameters"
   ]
  },
  {
   "cell_type": "code",
   "execution_count": 20,
   "metadata": {},
   "outputs": [],
   "source": [
    "# general parameters\n",
    "key = jax.random.PRNGKey(42)\n",
    "\n",
    "# dataset parameters\n",
    "spectra_folder = '/home/emarkley/Workspace/PYTHON/HyperspectralIdeal/Spectra'\n",
    "subset_fraction = 1.0\n",
    "sparsity_factor = 2\n",
    "photon_scale = 100.0\n",
    "mosaic_rows = 19\n",
    "mosaic_cols = 19\n",
    "batch_size = 1\n",
    "\n",
    "# gaussian psf layer parameters\n",
    "object_size = mosaic_rows * 28\n",
    "num_gaussian = 10\n",
    "psf_size = (32, 32)\n",
    "\n",
    "# define the variables for the Gaussian sensor layer\n",
    "min_wave = 400\n",
    "max_wave = 800\n",
    "num_waves = 101\n",
    "min_std = 4\n",
    "max_std = 100\n",
    "sensor_size = object_size\n",
    "super_pixel_size = 4\n",
    "\n",
    "# define parameters for IDEAL optimization\n",
    "patch_size = 16\n",
    "num_patches = 1024\n",
    "patching_strategy = 'random'\n",
    "num_steps = 1000\n",
    "loss_type = 'gaussian'\n",
    "refit_every = 50\n",
    "gaussian_sigma = None # if none poisson noise is used, else gaussian noise with standard deviation sigma is used\n",
    "\n",
    "# wandb parameters\n",
    "use_wandb=True\n",
    "project_name='ideal_development'\n",
    "run_name='gaussian_loss'\n",
    "log_every = 100\n",
    "validate_every = 500"
   ]
  },
  {
   "cell_type": "markdown",
   "metadata": {},
   "source": [
    "# Create Your Imaging System"
   ]
  },
  {
   "cell_type": "code",
   "execution_count": 21,
   "metadata": {},
   "outputs": [],
   "source": [
    "# define the PSF layer\n",
    "psf_layer = GaussianPSFLayer(object_size, num_gaussian, psf_size, key=key)\n",
    "\n",
    "# define the gaussian sensor layer\n",
    "gaussian_sensor_layer = GaussianSensorLayer(min_wave, max_wave, num_waves, min_std, max_std, sensor_size, super_pixel_size)\n",
    "\n",
    "# Define the imaging system\n",
    "imaging_system = HyperspectralImagingSystem(psf_layer, gaussian_sensor_layer)"
   ]
  },
  {
   "cell_type": "markdown",
   "metadata": {},
   "source": [
    "# Choose Your Learning Rate"
   ]
  },
  {
   "cell_type": "code",
   "execution_count": 22,
   "metadata": {},
   "outputs": [
    {
     "name": "stdout",
     "output_type": "stream",
     "text": [
      "Learnable parameters:\n",
      "psf_layer.means\n",
      "psf_layer.covs\n",
      "psf_layer.weights\n",
      "gaussian_sensor_layer.means\n",
      "gaussian_sensor_layer.stds\n"
     ]
    }
   ],
   "source": [
    "labels = param_labels(imaging_system)"
   ]
  },
  {
   "cell_type": "code",
   "execution_count": 23,
   "metadata": {},
   "outputs": [],
   "source": [
    "pl_means_lr = 1e-2\n",
    "pl_covs_lr = 1e-3\n",
    "pl_weights_lr = 1e-4\n",
    "gs_means_lr = 8e-2\n",
    "gs_stds_lr = 8e-2\n",
    "\n",
    "optimizer = optax.multi_transform(\n",
    "    {\n",
    "        'psf_layer.means': optax.adam(learning_rate=pl_means_lr),\n",
    "        'psf_layer.covs': optax.adam(learning_rate=pl_covs_lr),\n",
    "        'psf_layer.weights': optax.adam(learning_rate=pl_weights_lr),\n",
    "        'gaussian_sensor_layer.means': optax.adam(learning_rate=gs_means_lr),\n",
    "        'gaussian_sensor_layer.stds': optax.adam(learning_rate=gs_stds_lr),\n",
    "    },\n",
    "\n",
    "    param_labels = labels \n",
    ")"
   ]
  },
  {
   "cell_type": "markdown",
   "metadata": {},
   "source": [
    "# Create a Dataset"
   ]
  },
  {
   "cell_type": "code",
   "execution_count": 24,
   "metadata": {},
   "outputs": [],
   "source": [
    "# Create a Data Generator\n",
    "data_generator = SpectralDataGenerator(spectra_folder, subset_fraction)\n",
    "\n",
    "# Load MNIST data\n",
    "x_train, x_test = data_generator.load_mnist_data()\n",
    "\n",
    "# Create training dataset with sparsity\n",
    "train_dataset = data_generator.create_sparse_dataset(\n",
    "    x_train,\n",
    "    sparsity_factor=sparsity_factor,\n",
    "    scale=photon_scale,\n",
    "    mosaic_rows=mosaic_rows,\n",
    "    mosaic_cols=mosaic_cols,\n",
    "    batch_size=batch_size\n",
    ")"
   ]
  },
  {
   "cell_type": "markdown",
   "metadata": {},
   "source": [
    "# Define the Loss Function"
   ]
  },
  {
   "cell_type": "code",
   "execution_count": 25,
   "metadata": {},
   "outputs": [],
   "source": [
    "if loss_type == 'pixelcnn':\n",
    "    loss_fn = PixelCNNLoss(refit_every=refit_every)\n",
    "elif loss_type == 'gaussian_entropy':\n",
    "    loss_fn = GaussianEntropyLoss()\n",
    "elif loss_type == 'gaussian':\n",
    "    loss_fn = GaussianLoss()\n",
    "else:\n",
    "    raise ValueError(f\"Loss type {loss_type} not supported\")"
   ]
  },
  {
   "cell_type": "markdown",
   "metadata": {},
   "source": [
    "# Create the Optimizer"
   ]
  },
  {
   "cell_type": "code",
   "execution_count": 26,
   "metadata": {},
   "outputs": [],
   "source": [
    "ideal_optimizer = IDEALOptimizer(\n",
    "    imaging_system, \n",
    "    optimizer, \n",
    "    loss_fn,\n",
    "    patch_size = patch_size,\n",
    "    num_patches= num_patches,\n",
    "    patching_strategy=patching_strategy,\n",
    "    gaussian_sigma=gaussian_sigma,\n",
    "    use_wandb=use_wandb,\n",
    "    project_name=project_name,\n",
    "    run_name=run_name\n",
    ")"
   ]
  },
  {
   "cell_type": "markdown",
   "metadata": {},
   "source": [
    "# Optimize!!!!!"
   ]
  },
  {
   "cell_type": "code",
   "execution_count": null,
   "metadata": {},
   "outputs": [
    {
     "name": "stderr",
     "output_type": "stream",
     "text": [
      "/home/emarkley/miniforge3/envs/InfoTheory/lib/python3.10/site-packages/pydantic/main.py:314: UserWarning: Pydantic serializer warnings:\n",
      "  Expected `list[str]` but got `tuple` - serialized value may not be as expected\n",
      "  return self.__pydantic_serializer__.to_python(\n",
      "/home/emarkley/miniforge3/envs/InfoTheory/lib/python3.10/site-packages/pydantic/main.py:314: UserWarning: Pydantic serializer warnings:\n",
      "  Expected `list[str]` but got `tuple` - serialized value may not be as expected\n",
      "  return self.__pydantic_serializer__.to_python(\n"
     ]
    },
    {
     "data": {
      "text/html": [
       "Tracking run with wandb version 0.19.6"
      ],
      "text/plain": [
       "<IPython.core.display.HTML object>"
      ]
     },
     "metadata": {},
     "output_type": "display_data"
    },
    {
     "data": {
      "text/html": [
       "Run data is saved locally in <code>/home/emarkley/Workspace/PYTHON/ideal_package/ideal/wandb/run-20250213_121200-heub4ypf</code>"
      ],
      "text/plain": [
       "<IPython.core.display.HTML object>"
      ]
     },
     "metadata": {},
     "output_type": "display_data"
    },
    {
     "data": {
      "text/html": [
       "Syncing run <strong><a href='https://wandb.ai/wallerlab/ideal_development/runs/heub4ypf' target=\"_blank\">gaussian_loss</a></strong> to <a href='https://wandb.ai/wallerlab/ideal_development' target=\"_blank\">Weights & Biases</a> (<a href='https://wandb.me/developer-guide' target=\"_blank\">docs</a>)<br>"
      ],
      "text/plain": [
       "<IPython.core.display.HTML object>"
      ]
     },
     "metadata": {},
     "output_type": "display_data"
    },
    {
     "data": {
      "text/html": [
       " View project at <a href='https://wandb.ai/wallerlab/ideal_development' target=\"_blank\">https://wandb.ai/wallerlab/ideal_development</a>"
      ],
      "text/plain": [
       "<IPython.core.display.HTML object>"
      ]
     },
     "metadata": {},
     "output_type": "display_data"
    },
    {
     "data": {
      "text/html": [
       " View run at <a href='https://wandb.ai/wallerlab/ideal_development/runs/heub4ypf' target=\"_blank\">https://wandb.ai/wallerlab/ideal_development/runs/heub4ypf</a>"
      ],
      "text/plain": [
       "<IPython.core.display.HTML object>"
      ]
     },
     "metadata": {},
     "output_type": "display_data"
    },
    {
     "name": "stderr",
     "output_type": "stream",
     "text": [
      " 10%|█         | 100/1000 [00:58<08:06,  1.85it/s]"
     ]
    }
   ],
   "source": [
    "optimized_imaging_system = ideal_optimizer.optimize(\n",
    "    train_dataset,\n",
    "    num_steps,\n",
    "    log_every=log_every,\n",
    "    validate_every=validate_every\n",
    ")\n",
    "\n",
    "# Save the optimized imaging system\n",
    "eqx.tree_serialise_leaves(run_name + \"_optimized_imaging_system.eqx\", ideal_optimizer.imaging_system)"
   ]
  }
 ],
 "metadata": {
  "kernelspec": {
   "display_name": "InfoTheory",
   "language": "python",
   "name": "python3"
  },
  "language_info": {
   "codemirror_mode": {
    "name": "ipython",
    "version": 3
   },
   "file_extension": ".py",
   "mimetype": "text/x-python",
   "name": "python",
   "nbconvert_exporter": "python",
   "pygments_lexer": "ipython3",
   "version": "3.10.13"
  }
 },
 "nbformat": 4,
 "nbformat_minor": 2
}
