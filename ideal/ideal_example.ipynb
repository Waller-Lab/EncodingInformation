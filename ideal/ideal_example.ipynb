{
 "cells": [
  {
   "cell_type": "code",
   "execution_count": 1,
   "metadata": {},
   "outputs": [
    {
     "name": "stderr",
     "output_type": "stream",
     "text": [
      "2025-03-05 15:11:46.043978: E external/local_xla/xla/stream_executor/cuda/cuda_dnn.cc:9261] Unable to register cuDNN factory: Attempting to register factory for plugin cuDNN when one has already been registered\n",
      "2025-03-05 15:11:46.044039: E external/local_xla/xla/stream_executor/cuda/cuda_fft.cc:607] Unable to register cuFFT factory: Attempting to register factory for plugin cuFFT when one has already been registered\n",
      "2025-03-05 15:11:46.045737: E external/local_xla/xla/stream_executor/cuda/cuda_blas.cc:1515] Unable to register cuBLAS factory: Attempting to register factory for plugin cuBLAS when one has already been registered\n",
      "2025-03-05 15:11:47.130621: W tensorflow/compiler/tf2tensorrt/utils/py_utils.cc:38] TF-TRT Warning: Could not find TensorRT\n",
      "\u001b[34m\u001b[1mwandb\u001b[0m: Currently logged in as: \u001b[33memarkley\u001b[0m (\u001b[33mwallerlab\u001b[0m) to \u001b[32mhttps://api.wandb.ai\u001b[0m. Use \u001b[1m`wandb login --relogin`\u001b[0m to force relogin\n"
     ]
    }
   ],
   "source": [
    "%load_ext autoreload\n",
    "%autoreload 2\n",
    "import os\n",
    "import sys\n",
    "# set gpu to be pci bus id\n",
    "os.environ['CUDA_DEVICE_ORDER'] = 'PCI_BUS_ID'\n",
    "os.environ['CUDA_VISIBLE_DEVICES'] = '1'\n",
    "# set gpu memory usage and turnoff pre-allocated memory\n",
    "os.environ['XLA_PYTHON_CLIENT_PREALLOCATE'] ='false'\n",
    "os.environ['XLA_PYTHON_CLIENT_ALLOCATOR']='platform'\n",
    "os.environ['TF_FORCE_GPU_ALLOW_GROWTH'] = 'true'\n",
    "\n",
    "\n",
    "import optax\n",
    "import equinox as eqx\n",
    "import jax\n",
    "import jax.tree_util as jtu\n",
    "import jax.numpy as jnp\n",
    "test = jnp.zeros((10,10,10))\n",
    "import jax.random as random\n",
    "from imaging_system import ImagingSystem, ImagingSystemProtocol\n",
    "\n",
    "import sys\n",
    "sys.path.append('/home/emarkley/Workspace/PYTHON/EncodingInformation')\n",
    "from encoding_information.models.pixel_cnn import PixelCNN\n",
    "from encoding_information.models.gaussian_process import FullGaussianProcess\n",
    "from encoding_information.information_estimation import *\n",
    "\n",
    "import matplotlib.pyplot as plt\n",
    "from matplotlib.colors import LinearSegmentedColormap\n",
    "from IPython.display import display\n",
    "import wandb\n",
    "wandb.login()\n",
    "\n",
    "import numpy as np\n",
    "import tensorflow as tf\n",
    "from tensorflow.keras.datasets import mnist\n",
    "from losses import PixelCNNLoss, GaussianLoss, GaussianEntropyLoss\n",
    "from optimizers import IDEALOptimizer\n",
    "from imaging_systems.spectral_diffuser_scope.imaging_system import GaussianPSFLayer, GaussianSensorLayer\n",
    "from imaging_systems.spectral_diffuser_scope.data_generator import SpectralDataGenerator\n"
   ]
  },
  {
   "cell_type": "markdown",
   "metadata": {},
   "source": [
    "# Define an Imaging System"
   ]
  },
  {
   "cell_type": "code",
   "execution_count": null,
   "metadata": {},
   "outputs": [],
   "source": [
    "class HyperspectralImagingSystem(ImagingSystem):\n",
    "    psf_layer: GaussianPSFLayer \n",
    "    gaussian_sensor_layer: GaussianSensorLayer\n",
    "    seed: int\n",
    "    rng_key: jax.random.PRNGKey\n",
    "\n",
    "    def __init__(self, psf_layer, gaussian_sensor_layer, seed: int = 0):\n",
    "        super().__init__(seed)\n",
    "        self.psf_layer = psf_layer\n",
    "        self.gaussian_sensor_layer = gaussian_sensor_layer\n",
    "        self.seed = seed\n",
    "        self.rng_key = random.PRNGKey(seed)\n",
    "\n",
    "    @eqx.filter_jit\n",
    "    def __call__(self, objects: jnp.ndarray) -> jnp.ndarray:\n",
    "        \"\"\"JIT-compiled forward pass\"\"\"\n",
    "        return self.forward_model(objects)\n",
    "\n",
    "    def forward_model(self, objects: jnp.ndarray) -> jnp.ndarray:\n",
    "        \"\"\"\n",
    "        Runs the forward model using the hyperspectral imaging system.\n",
    "\n",
    "        Args:\n",
    "            objects: Input objects of shape (H, W, C).\n",
    "\n",
    "        Returns:\n",
    "            measurements: Output measurements of shape (H, W, C).\n",
    "        \"\"\"\n",
    "        key = self.next_rng_key()\n",
    "        x = self.psf_layer(objects, key=key)\n",
    "        x = self.gaussian_sensor_layer(x, key=key)\n",
    "        # clip the output to be nonnegative\n",
    "        x = jnp.where(x < 1e-8, 1e-8, x)\n",
    "        return x\n",
    "\n",
    "    def reconstruct(self, measurements: jnp.ndarray) -> jnp.ndarray:\n",
    "        \"\"\"\n",
    "        Performs reconstruction from the measurements.\n",
    "\n",
    "        Args:\n",
    "            measurements: Input measurements of shape (H, W, C).\n",
    "\n",
    "        Returns:\n",
    "            reconstructions: Reconstructed objects of shape (H, W, C).\n",
    "        \"\"\"\n",
    "        # Placeholder: Implement reconstruction logic if available.\n",
    "        return measurements\n",
    "\n",
    "    def toy_images(self, batch_size: int, height: int, width: int, channels: int) -> jnp.ndarray:\n",
    "        \"\"\"\n",
    "        Generates toy images for testing the system.\n",
    "\n",
    "        Args:\n",
    "            batch_size: Number of images to generate.\n",
    "            height: Height of each image.\n",
    "            width: Width of each image.\n",
    "            channels: Number of channels in each image.\n",
    "\n",
    "        Returns:\n",
    "            Toy images of shape (batch_size, height, width, channels).\n",
    "        \"\"\"\n",
    "        key = self.next_rng_key()\n",
    "        return random.uniform(key, shape=(batch_size, height, width, channels), minval=0, maxval=1)\n",
    "\n",
    "    def display_measurement(self, measurement: jnp.ndarray) -> None:\n",
    "        fig, ax = plt.subplots(figsize=(5, 5))\n",
    "        im = ax.imshow(measurement, cmap='gray')\n",
    "        fig.colorbar(im, ax=ax)\n",
    "        plt.close()\n",
    "\n",
    "        return fig\n",
    "    \n",
    "    def display_object(self, object: jnp.ndarray) -> None:\n",
    "        fig, ax = plt.subplots(figsize=(5, 5))\n",
    "        im = ax.imshow(jnp.max(object, axis=0), cmap='gray')\n",
    "        plt.close()\n",
    "\n",
    "        return fig\n",
    "    \n",
    "    def display_optics(self) -> None:\n",
    "        # Create figure with 3 subplots\n",
    "        fig = plt.figure(figsize=(15, 5))\n",
    "        \n",
    "        # 1. PSF Plot (left)\n",
    "        ax1 = fig.add_subplot(131)\n",
    "        im1 = ax1.imshow(self.psf_layer.compute_psf(), cmap='gray')\n",
    "        fig.colorbar(im1, ax=ax1)\n",
    "        ax1.set_title('PSF')\n",
    "        ax1.axis('off')\n",
    "        \n",
    "        # 2. Learned Pattern Plot (middle)\n",
    "        ax2 = fig.add_subplot(132)\n",
    "        model_sensor = self.gaussian_sensor_layer\n",
    "        wavelengths = self.gaussian_sensor_layer.wavelengths\n",
    "        norm_wavelengths = (wavelengths - np.min(wavelengths)) / (np.max(wavelengths) - np.min(wavelengths))\n",
    "        colors = plt.cm.nipy_spectral(norm_wavelengths)\n",
    "        custom_cmap = LinearSegmentedColormap.from_list(\"custom_colormap\", \n",
    "                                                    list(zip(norm_wavelengths, colors)), \n",
    "                                                    N=self.gaussian_sensor_layer.num_waves)\n",
    "        \n",
    "        color_mask = self.gaussian_sensor_layer.means\n",
    "        color_mask = (color_mask-np.min(wavelengths))/(np.max(wavelengths)-np.min(wavelengths))*model_sensor.num_waves\n",
    "        \n",
    "        im2 = ax2.imshow(color_mask, cmap=custom_cmap, vmin=0, vmax=model_sensor.num_waves)\n",
    "        cbar = fig.colorbar(im2, ax=ax2, ticks=np.linspace(0, self.gaussian_sensor_layer.num_waves, 5))\n",
    "        cbar.set_label('Wavelength (nm)')\n",
    "        cbar.set_ticklabels(np.linspace(self.gaussian_sensor_layer.min_wave, self.gaussian_sensor_layer.max_wave, 5).astype(int))\n",
    "        ax2.set_title('Learned Pattern')\n",
    "        ax2.axis('off')\n",
    "        \n",
    "        # 3. Filter Distribution Plot (right)\n",
    "        ax3 = fig.add_subplot(133)\n",
    "        sensor = self.gaussian_sensor_layer.get_sensor()\n",
    "        for ii in range(self.gaussian_sensor_layer.means.shape[0]):\n",
    "            for jj in range(self.gaussian_sensor_layer.means.shape[1]):\n",
    "                ax3.plot(self.gaussian_sensor_layer.wavelengths, sensor[...,ii,jj])\n",
    "        ax3.set_title('Sensor Distribution')\n",
    "        ax3.set_xlabel('Wavelength (nm)')\n",
    "        ax3.set_ylabel('Response')\n",
    "        \n",
    "        # Adjust layout\n",
    "        plt.tight_layout()\n",
    "        plt.close()\n",
    "        \n",
    "        return fig\n",
    "    \n",
    "    def normalize_psf(self):\n",
    "        new_psf_layer = self.psf_layer.normalize_psf()\n",
    "        return eqx.tree_at(lambda m: m.psf_layer, self, new_psf_layer)\n",
    "    \n",
    "    def update_means(self):\n",
    "        new_sensor_layer = self.gaussian_sensor_layer.update_means()\n",
    "        return eqx.tree_at(lambda m: m.gaussian_sensor_layer, self, new_sensor_layer)\n",
    "    \n",
    "    def update_stds(self):\n",
    "        new_sensor_layer = self.gaussian_sensor_layer.update_stds()\n",
    "        return eqx.tree_at(lambda m: m.gaussian_sensor_layer, self, new_sensor_layer)\n",
    "    \n",
    "    def normalize(self):\n",
    "        \"\"\"Run all normalization and update steps.\n",
    "        \n",
    "        Returns:\n",
    "            Updated imaging system with normalized PSF and updated sensor parameters.\n",
    "        \"\"\"\n",
    "        system = self.normalize_psf()\n",
    "        system = system.update_means()\n",
    "        system = system.update_stds()\n",
    "        return system"
   ]
  },
  {
   "cell_type": "markdown",
   "metadata": {},
   "source": [
    "# Define Imaging System Parameters"
   ]
  },
  {
   "cell_type": "code",
   "execution_count": 3,
   "metadata": {},
   "outputs": [],
   "source": [
    "# general parameters\n",
    "key = jax.random.PRNGKey(42)\n",
    "\n",
    "# dataset parameters\n",
    "spectra_folder = '/home/emarkley/Workspace/PYTHON/HyperspectralIdeal/Spectra'\n",
    "subset_fraction = 1.0\n",
    "sparsity_factor = 2\n",
    "photon_scale = 100.0\n",
    "mosaic_rows = 19\n",
    "mosaic_cols = 19\n",
    "batch_size = 1\n",
    "\n",
    "# gaussian psf layer parameters\n",
    "object_size = mosaic_rows * 28\n",
    "num_gaussian = 10\n",
    "psf_size = (32, 32)\n",
    "\n",
    "# define the variables for the Gaussian sensor layer\n",
    "min_wave = 400\n",
    "max_wave = 800\n",
    "num_waves = 101\n",
    "min_std = 4\n",
    "max_std = 100\n",
    "sensor_size = object_size\n",
    "super_pixel_size = 4\n",
    "\n",
    "# define parameters for IDEAL optimization\n",
    "patch_size = 16\n",
    "num_patches = 1024\n",
    "patching_strategy = 'random'\n",
    "num_steps = 1000\n",
    "loss_type = 'gaussian'\n",
    "refit_every = 50\n",
    "gaussian_sigma = None # if none poisson noise is used, else gaussian noise with standard deviation sigma is used\n",
    "\n",
    "# wandb parameters\n",
    "use_wandb=True\n",
    "project_name='ideal_development'\n",
    "run_name='gaussian_loss'\n",
    "log_every = 100\n",
    "validate_every = 500"
   ]
  },
  {
   "cell_type": "markdown",
   "metadata": {},
   "source": [
    "# Create Your Imaging System"
   ]
  },
  {
   "cell_type": "code",
   "execution_count": 4,
   "metadata": {},
   "outputs": [],
   "source": [
    "# define the PSF layer\n",
    "psf_layer = GaussianPSFLayer(object_size, num_gaussian, psf_size, key=key)\n",
    "\n",
    "# define the gaussian sensor layer\n",
    "gaussian_sensor_layer = GaussianSensorLayer(min_wave, max_wave, num_waves, min_std, max_std, sensor_size, super_pixel_size)\n",
    "\n",
    "# Define the imaging system\n",
    "imaging_system = HyperspectralImagingSystem(psf_layer, gaussian_sensor_layer)"
   ]
  },
  {
   "cell_type": "markdown",
   "metadata": {},
   "source": [
    "# Choose Your Learning Rate"
   ]
  },
  {
   "cell_type": "code",
   "execution_count": 5,
   "metadata": {},
   "outputs": [],
   "source": [
    "learnable_parameters_w_lr = {\n",
    "    'psf_layer.means': 1e-2,\n",
    "    'psf_layer.covs': 1e-3,\n",
    "    'psf_layer.weights': 1e-4,\n",
    "    'gaussian_sensor_layer.means': 8e-2,\n",
    "    'gaussian_sensor_layer.stds': 8e-2\n",
    "}"
   ]
  },
  {
   "cell_type": "markdown",
   "metadata": {},
   "source": [
    "# Create a Dataset"
   ]
  },
  {
   "cell_type": "code",
   "execution_count": 6,
   "metadata": {},
   "outputs": [
    {
     "name": "stderr",
     "output_type": "stream",
     "text": [
      "2025-03-05 15:12:21.318692: W tensorflow/core/common_runtime/gpu/gpu_bfc_allocator.cc:47] Overriding orig_value setting because the TF_FORCE_GPU_ALLOW_GROWTH environment variable is set. Original config value was 0.\n"
     ]
    }
   ],
   "source": [
    "# Create a Data Generator\n",
    "data_generator = SpectralDataGenerator(spectra_folder, subset_fraction)\n",
    "\n",
    "# Load MNIST data\n",
    "x_train, x_test = data_generator.load_mnist_data()\n",
    "\n",
    "# Create training dataset with sparsity\n",
    "train_dataset = data_generator.create_sparse_dataset(\n",
    "    x_train,\n",
    "    sparsity_factor=sparsity_factor,\n",
    "    scale=photon_scale,\n",
    "    mosaic_rows=mosaic_rows,\n",
    "    mosaic_cols=mosaic_cols,\n",
    "    batch_size=batch_size\n",
    ")"
   ]
  },
  {
   "cell_type": "markdown",
   "metadata": {},
   "source": [
    "# Define the Loss Function"
   ]
  },
  {
   "cell_type": "code",
   "execution_count": 7,
   "metadata": {},
   "outputs": [],
   "source": [
    "if loss_type == 'pixelcnn':\n",
    "    loss_fn = PixelCNNLoss(refit_every=refit_every)\n",
    "elif loss_type == 'gaussian_entropy':\n",
    "    loss_fn = GaussianEntropyLoss()\n",
    "elif loss_type == 'gaussian':\n",
    "    loss_fn = GaussianLoss()\n",
    "else:\n",
    "    raise ValueError(f\"Loss type {loss_type} not supported\")"
   ]
  },
  {
   "cell_type": "markdown",
   "metadata": {},
   "source": [
    "# Create the Optimizer"
   ]
  },
  {
   "cell_type": "code",
   "execution_count": 8,
   "metadata": {},
   "outputs": [],
   "source": [
    "ideal_optimizer = IDEALOptimizer(\n",
    "    imaging_system, \n",
    "    learnable_parameters_w_lr, \n",
    "    loss_fn,\n",
    "    patch_size = patch_size,\n",
    "    num_patches= num_patches,\n",
    "    patching_strategy=patching_strategy,\n",
    "    gaussian_sigma=gaussian_sigma,\n",
    "    use_wandb=use_wandb,\n",
    "    project_name=project_name,\n",
    "    run_name=run_name\n",
    ")"
   ]
  },
  {
   "cell_type": "markdown",
   "metadata": {},
   "source": [
    "# Optimize!!!!!"
   ]
  },
  {
   "cell_type": "code",
   "execution_count": 9,
   "metadata": {},
   "outputs": [
    {
     "name": "stderr",
     "output_type": "stream",
     "text": [
      "\u001b[34m\u001b[1mwandb\u001b[0m: Using wandb-core as the SDK backend.  Please refer to https://wandb.me/wandb-core for more information.\n",
      "/home/emarkley/miniforge3/envs/InfoTheory/lib/python3.10/site-packages/pydantic/main.py:314: UserWarning: Pydantic serializer warnings:\n",
      "  Expected `list[str]` but got `tuple` - serialized value may not be as expected\n",
      "  return self.__pydantic_serializer__.to_python(\n",
      "/home/emarkley/miniforge3/envs/InfoTheory/lib/python3.10/site-packages/pydantic/main.py:314: UserWarning: Pydantic serializer warnings:\n",
      "  Expected `list[str]` but got `tuple` - serialized value may not be as expected\n",
      "  return self.__pydantic_serializer__.to_python(\n"
     ]
    },
    {
     "data": {
      "text/html": [
       "Tracking run with wandb version 0.19.6"
      ],
      "text/plain": [
       "<IPython.core.display.HTML object>"
      ]
     },
     "metadata": {},
     "output_type": "display_data"
    },
    {
     "data": {
      "text/html": [
       "Run data is saved locally in <code>/home/emarkley/Workspace/PYTHON/EncodingInformation/ideal/wandb/run-20250305_151226-r8344g7d</code>"
      ],
      "text/plain": [
       "<IPython.core.display.HTML object>"
      ]
     },
     "metadata": {},
     "output_type": "display_data"
    },
    {
     "data": {
      "text/html": [
       "Syncing run <strong><a href='https://wandb.ai/wallerlab/ideal_development/runs/r8344g7d' target=\"_blank\">gaussian_loss</a></strong> to <a href='https://wandb.ai/wallerlab/ideal_development' target=\"_blank\">Weights & Biases</a> (<a href='https://wandb.me/developer-guide' target=\"_blank\">docs</a>)<br>"
      ],
      "text/plain": [
       "<IPython.core.display.HTML object>"
      ]
     },
     "metadata": {},
     "output_type": "display_data"
    },
    {
     "data": {
      "text/html": [
       " View project at <a href='https://wandb.ai/wallerlab/ideal_development' target=\"_blank\">https://wandb.ai/wallerlab/ideal_development</a>"
      ],
      "text/plain": [
       "<IPython.core.display.HTML object>"
      ]
     },
     "metadata": {},
     "output_type": "display_data"
    },
    {
     "data": {
      "text/html": [
       " View run at <a href='https://wandb.ai/wallerlab/ideal_development/runs/r8344g7d' target=\"_blank\">https://wandb.ai/wallerlab/ideal_development/runs/r8344g7d</a>"
      ],
      "text/plain": [
       "<IPython.core.display.HTML object>"
      ]
     },
     "metadata": {},
     "output_type": "display_data"
    },
    {
     "name": "stderr",
     "output_type": "stream",
     "text": [
      "  8%|▊         | 84/1000 [01:26<15:40,  1.03s/it] \n"
     ]
    },
    {
     "ename": "KeyboardInterrupt",
     "evalue": "",
     "output_type": "error",
     "traceback": [
      "\u001b[0;31m---------------------------------------------------------------------------\u001b[0m",
      "\u001b[0;31mKeyboardInterrupt\u001b[0m                         Traceback (most recent call last)",
      "Cell \u001b[0;32mIn[9], line 1\u001b[0m\n\u001b[0;32m----> 1\u001b[0m optimized_imaging_system \u001b[38;5;241m=\u001b[39m \u001b[43mideal_optimizer\u001b[49m\u001b[38;5;241;43m.\u001b[39;49m\u001b[43moptimize\u001b[49m\u001b[43m(\u001b[49m\n\u001b[1;32m      2\u001b[0m \u001b[43m    \u001b[49m\u001b[43mtrain_dataset\u001b[49m\u001b[43m,\u001b[49m\n\u001b[1;32m      3\u001b[0m \u001b[43m    \u001b[49m\u001b[43mnum_steps\u001b[49m\u001b[43m,\u001b[49m\n\u001b[1;32m      4\u001b[0m \u001b[43m    \u001b[49m\u001b[43mlog_every\u001b[49m\u001b[38;5;241;43m=\u001b[39;49m\u001b[43mlog_every\u001b[49m\u001b[43m,\u001b[49m\n\u001b[1;32m      5\u001b[0m \u001b[43m    \u001b[49m\u001b[43mvalidate_every\u001b[49m\u001b[38;5;241;43m=\u001b[39;49m\u001b[43mvalidate_every\u001b[49m\n\u001b[1;32m      6\u001b[0m \u001b[43m)\u001b[49m\n\u001b[1;32m      8\u001b[0m \u001b[38;5;66;03m# Save the optimized imaging system\u001b[39;00m\n\u001b[1;32m      9\u001b[0m eqx\u001b[38;5;241m.\u001b[39mtree_serialise_leaves(run_name \u001b[38;5;241m+\u001b[39m \u001b[38;5;124m\"\u001b[39m\u001b[38;5;124m_optimized_imaging_system.eqx\u001b[39m\u001b[38;5;124m\"\u001b[39m, ideal_optimizer\u001b[38;5;241m.\u001b[39mimaging_system)\n",
      "File \u001b[0;32m~/Workspace/PYTHON/EncodingInformation/ideal/optimizers.py:161\u001b[0m, in \u001b[0;36mIDEALOptimizer.optimize\u001b[0;34m(self, data, num_steps, key, log_every, validate_every, validation_data, **loss_kwargs)\u001b[0m\n\u001b[1;32m    158\u001b[0m batch \u001b[38;5;241m=\u001b[39m \u001b[38;5;28mself\u001b[39m\u001b[38;5;241m.\u001b[39m_convert_batch(batch)\n\u001b[1;32m    160\u001b[0m \u001b[38;5;66;03m# Execute one optimization step.\u001b[39;00m\n\u001b[0;32m--> 161\u001b[0m \u001b[38;5;28mself\u001b[39m\u001b[38;5;241m.\u001b[39mlearnable_parameters, \u001b[38;5;28mself\u001b[39m\u001b[38;5;241m.\u001b[39mopt_state, loss \u001b[38;5;241m=\u001b[39m \u001b[38;5;28;43mself\u001b[39;49m\u001b[38;5;241;43m.\u001b[39;49m\u001b[43mstep\u001b[49m\u001b[43m(\u001b[49m\n\u001b[1;32m    162\u001b[0m \u001b[43m    \u001b[49m\u001b[43mbatch\u001b[49m\u001b[43m,\u001b[49m\n\u001b[1;32m    163\u001b[0m \u001b[43m    \u001b[49m\u001b[43msubkey\u001b[49m\u001b[43m,\u001b[49m\n\u001b[1;32m    164\u001b[0m \u001b[43m    \u001b[49m\u001b[38;5;241;43m*\u001b[39;49m\u001b[38;5;241;43m*\u001b[39;49m\u001b[43mloss_kwargs\u001b[49m\n\u001b[1;32m    165\u001b[0m \u001b[43m\u001b[49m\u001b[43m)\u001b[49m\n\u001b[1;32m    167\u001b[0m \u001b[38;5;66;03m# Apply any constraints/normalization.\u001b[39;00m\n\u001b[1;32m    168\u001b[0m \u001b[38;5;28mself\u001b[39m\u001b[38;5;241m.\u001b[39mimaging_system \u001b[38;5;241m=\u001b[39m eqx\u001b[38;5;241m.\u001b[39mcombine(\u001b[38;5;28mself\u001b[39m\u001b[38;5;241m.\u001b[39mlearnable_parameters, \u001b[38;5;28mself\u001b[39m\u001b[38;5;241m.\u001b[39mfrozen_parameters)\n",
      "File \u001b[0;32m~/Workspace/PYTHON/EncodingInformation/ideal/optimizers.py:85\u001b[0m, in \u001b[0;36mIDEALOptimizer.step\u001b[0;34m(self, data, key, **loss_kwargs)\u001b[0m\n\u001b[1;32m     72\u001b[0m loss, grads \u001b[38;5;241m=\u001b[39m \u001b[38;5;28mself\u001b[39m\u001b[38;5;241m.\u001b[39mloss_fn(\n\u001b[1;32m     73\u001b[0m     \u001b[38;5;28mself\u001b[39m\u001b[38;5;241m.\u001b[39mlearnable_parameters,\n\u001b[1;32m     74\u001b[0m     \u001b[38;5;28mself\u001b[39m\u001b[38;5;241m.\u001b[39mfrozen_parameters,\n\u001b[0;32m   (...)\u001b[0m\n\u001b[1;32m     81\u001b[0m     \u001b[38;5;241m*\u001b[39m\u001b[38;5;241m*\u001b[39mloss_kwargs\n\u001b[1;32m     82\u001b[0m )\n\u001b[1;32m     84\u001b[0m \u001b[38;5;66;03m# Update parameters.\u001b[39;00m\n\u001b[0;32m---> 85\u001b[0m updates, new_opt_state \u001b[38;5;241m=\u001b[39m \u001b[38;5;28;43mself\u001b[39;49m\u001b[38;5;241;43m.\u001b[39;49m\u001b[43moptimizer\u001b[49m\u001b[38;5;241;43m.\u001b[39;49m\u001b[43mupdate\u001b[49m\u001b[43m(\u001b[49m\u001b[43m[\u001b[49m\u001b[43mgrads\u001b[49m\u001b[43m]\u001b[49m\u001b[43m,\u001b[49m\u001b[43m \u001b[49m\u001b[38;5;28;43mself\u001b[39;49m\u001b[38;5;241;43m.\u001b[39;49m\u001b[43mopt_state\u001b[49m\u001b[43m,\u001b[49m\u001b[43m \u001b[49m\u001b[43m[\u001b[49m\u001b[38;5;28;43mself\u001b[39;49m\u001b[38;5;241;43m.\u001b[39;49m\u001b[43mlearnable_parameters\u001b[49m\u001b[43m]\u001b[49m\u001b[43m)\u001b[49m\n\u001b[1;32m     86\u001b[0m updates \u001b[38;5;241m=\u001b[39m jax\u001b[38;5;241m.\u001b[39mtree_util\u001b[38;5;241m.\u001b[39mtree_map(\u001b[38;5;28;01mlambda\u001b[39;00m x: jnp\u001b[38;5;241m.\u001b[39mnan_to_num(x), updates)\n\u001b[1;32m     87\u001b[0m \u001b[38;5;28mself\u001b[39m\u001b[38;5;241m.\u001b[39mlearnable_parameters \u001b[38;5;241m=\u001b[39m eqx\u001b[38;5;241m.\u001b[39mapply_updates(\u001b[38;5;28mself\u001b[39m\u001b[38;5;241m.\u001b[39mlearnable_parameters, updates[\u001b[38;5;241m0\u001b[39m])  \n",
      "File \u001b[0;32m~/miniforge3/envs/InfoTheory/lib/python3.10/site-packages/optax/_src/combine.py:162\u001b[0m, in \u001b[0;36mmulti_transform.<locals>.update_fn\u001b[0;34m(updates, state, params, **extra_args)\u001b[0m\n\u001b[1;32m    160\u001b[0m \u001b[38;5;28;01mfor\u001b[39;00m group, tx \u001b[38;5;129;01min\u001b[39;00m transforms\u001b[38;5;241m.\u001b[39mitems():\n\u001b[1;32m    161\u001b[0m   masked_tx \u001b[38;5;241m=\u001b[39m wrappers\u001b[38;5;241m.\u001b[39mmasked(tx, make_mask(labels, group))\n\u001b[0;32m--> 162\u001b[0m   updates, new_inner_state[group] \u001b[38;5;241m=\u001b[39m \u001b[43mmasked_tx\u001b[49m\u001b[38;5;241;43m.\u001b[39;49m\u001b[43mupdate\u001b[49m\u001b[43m(\u001b[49m\n\u001b[1;32m    163\u001b[0m \u001b[43m      \u001b[49m\u001b[43mupdates\u001b[49m\u001b[43m,\u001b[49m\u001b[43m \u001b[49m\u001b[43mstate\u001b[49m\u001b[38;5;241;43m.\u001b[39;49m\u001b[43minner_states\u001b[49m\u001b[43m[\u001b[49m\u001b[43mgroup\u001b[49m\u001b[43m]\u001b[49m\u001b[43m,\u001b[49m\u001b[43m \u001b[49m\u001b[43mparams\u001b[49m\u001b[43m,\u001b[49m\u001b[43m \u001b[49m\u001b[38;5;241;43m*\u001b[39;49m\u001b[38;5;241;43m*\u001b[39;49m\u001b[43mextra_args\u001b[49m\u001b[43m)\u001b[49m\n\u001b[1;32m    164\u001b[0m \u001b[38;5;28;01mreturn\u001b[39;00m updates, MultiTransformState(new_inner_state)\n",
      "File \u001b[0;32m~/miniforge3/envs/InfoTheory/lib/python3.10/site-packages/optax/_src/wrappers.py:524\u001b[0m, in \u001b[0;36mmasked.<locals>.update_fn\u001b[0;34m(updates, state, params, **extra_args)\u001b[0m\n\u001b[1;32m    521\u001b[0m masked_updates \u001b[38;5;241m=\u001b[39m mask_pytree(updates, mask_tree)\n\u001b[1;32m    522\u001b[0m masked_params \u001b[38;5;241m=\u001b[39m \u001b[38;5;28;01mNone\u001b[39;00m \u001b[38;5;28;01mif\u001b[39;00m params \u001b[38;5;129;01mis\u001b[39;00m \u001b[38;5;28;01mNone\u001b[39;00m \u001b[38;5;28;01melse\u001b[39;00m mask_pytree(params, mask_tree)\n\u001b[0;32m--> 524\u001b[0m new_masked_updates, new_inner_state \u001b[38;5;241m=\u001b[39m \u001b[43minner\u001b[49m\u001b[38;5;241;43m.\u001b[39;49m\u001b[43mupdate\u001b[49m\u001b[43m(\u001b[49m\n\u001b[1;32m    525\u001b[0m \u001b[43m    \u001b[49m\u001b[43mmasked_updates\u001b[49m\u001b[43m,\u001b[49m\u001b[43m \u001b[49m\u001b[43mstate\u001b[49m\u001b[38;5;241;43m.\u001b[39;49m\u001b[43minner_state\u001b[49m\u001b[43m,\u001b[49m\u001b[43m \u001b[49m\u001b[43mmasked_params\u001b[49m\u001b[43m,\u001b[49m\u001b[43m \u001b[49m\u001b[38;5;241;43m*\u001b[39;49m\u001b[38;5;241;43m*\u001b[39;49m\u001b[43mextra_args\u001b[49m\u001b[43m)\u001b[49m\n\u001b[1;32m    527\u001b[0m new_updates \u001b[38;5;241m=\u001b[39m tree_map(\n\u001b[1;32m    528\u001b[0m     \u001b[38;5;28;01mlambda\u001b[39;00m m, new_u, old_u: new_u \u001b[38;5;28;01mif\u001b[39;00m m \u001b[38;5;28;01melse\u001b[39;00m old_u,\n\u001b[1;32m    529\u001b[0m     mask_tree, new_masked_updates, updates)\n\u001b[1;32m    530\u001b[0m \u001b[38;5;28;01mreturn\u001b[39;00m new_updates, MaskedState(inner_state\u001b[38;5;241m=\u001b[39mnew_inner_state)\n",
      "File \u001b[0;32m~/miniforge3/envs/InfoTheory/lib/python3.10/site-packages/optax/_src/combine.py:59\u001b[0m, in \u001b[0;36mchain.<locals>.update_fn\u001b[0;34m(updates, state, params, **extra_args)\u001b[0m\n\u001b[1;32m     57\u001b[0m new_state \u001b[38;5;241m=\u001b[39m []\n\u001b[1;32m     58\u001b[0m \u001b[38;5;28;01mfor\u001b[39;00m s, fn \u001b[38;5;129;01min\u001b[39;00m \u001b[38;5;28mzip\u001b[39m(state, update_fns):\n\u001b[0;32m---> 59\u001b[0m   updates, new_s \u001b[38;5;241m=\u001b[39m \u001b[43mfn\u001b[49m\u001b[43m(\u001b[49m\u001b[43mupdates\u001b[49m\u001b[43m,\u001b[49m\u001b[43m \u001b[49m\u001b[43ms\u001b[49m\u001b[43m,\u001b[49m\u001b[43m \u001b[49m\u001b[43mparams\u001b[49m\u001b[43m,\u001b[49m\u001b[43m \u001b[49m\u001b[38;5;241;43m*\u001b[39;49m\u001b[38;5;241;43m*\u001b[39;49m\u001b[43mextra_args\u001b[49m\u001b[43m)\u001b[49m\n\u001b[1;32m     60\u001b[0m   new_state\u001b[38;5;241m.\u001b[39mappend(new_s)\n\u001b[1;32m     61\u001b[0m \u001b[38;5;28;01mreturn\u001b[39;00m updates, \u001b[38;5;28mtuple\u001b[39m(new_state)\n",
      "File \u001b[0;32m~/miniforge3/envs/InfoTheory/lib/python3.10/site-packages/optax/_src/base.py:311\u001b[0m, in \u001b[0;36mwith_extra_args_support.<locals>.update\u001b[0;34m(***failed resolving arguments***)\u001b[0m\n\u001b[1;32m    309\u001b[0m \u001b[38;5;28;01mdef\u001b[39;00m \u001b[38;5;21mupdate\u001b[39m(updates, state, params\u001b[38;5;241m=\u001b[39m\u001b[38;5;28;01mNone\u001b[39;00m, \u001b[38;5;241m*\u001b[39m\u001b[38;5;241m*\u001b[39mextra_args):\n\u001b[1;32m    310\u001b[0m   \u001b[38;5;28;01mdel\u001b[39;00m extra_args\n\u001b[0;32m--> 311\u001b[0m   \u001b[38;5;28;01mreturn\u001b[39;00m \u001b[43mtx\u001b[49m\u001b[38;5;241;43m.\u001b[39;49m\u001b[43mupdate\u001b[49m\u001b[43m(\u001b[49m\u001b[43mupdates\u001b[49m\u001b[43m,\u001b[49m\u001b[43m \u001b[49m\u001b[43mstate\u001b[49m\u001b[43m,\u001b[49m\u001b[43m \u001b[49m\u001b[43mparams\u001b[49m\u001b[43m)\u001b[49m\n",
      "File \u001b[0;32m~/miniforge3/envs/InfoTheory/lib/python3.10/site-packages/optax/_src/transform.py:518\u001b[0m, in \u001b[0;36mscale.<locals>.update_fn\u001b[0;34m(***failed resolving arguments***)\u001b[0m\n\u001b[1;32m    516\u001b[0m \u001b[38;5;28;01mdef\u001b[39;00m \u001b[38;5;21mupdate_fn\u001b[39m(updates, state, params\u001b[38;5;241m=\u001b[39m\u001b[38;5;28;01mNone\u001b[39;00m):\n\u001b[1;32m    517\u001b[0m   \u001b[38;5;28;01mdel\u001b[39;00m params\n\u001b[0;32m--> 518\u001b[0m   updates \u001b[38;5;241m=\u001b[39m \u001b[43mjax\u001b[49m\u001b[38;5;241;43m.\u001b[39;49m\u001b[43mtree_util\u001b[49m\u001b[38;5;241;43m.\u001b[39;49m\u001b[43mtree_map\u001b[49m\u001b[43m(\u001b[49m\u001b[38;5;28;43;01mlambda\u001b[39;49;00m\u001b[43m \u001b[49m\u001b[43mg\u001b[49m\u001b[43m:\u001b[49m\u001b[43m \u001b[49m\u001b[43mstep_size\u001b[49m\u001b[43m \u001b[49m\u001b[38;5;241;43m*\u001b[39;49m\u001b[43m \u001b[49m\u001b[43mg\u001b[49m\u001b[43m,\u001b[49m\u001b[43m \u001b[49m\u001b[43mupdates\u001b[49m\u001b[43m)\u001b[49m\n\u001b[1;32m    519\u001b[0m   \u001b[38;5;28;01mreturn\u001b[39;00m updates, state\n",
      "File \u001b[0;32m~/miniforge3/envs/InfoTheory/lib/python3.10/site-packages/jax/_src/tree_util.py:321\u001b[0m, in \u001b[0;36mtree_map\u001b[0;34m(f, tree, is_leaf, *rest)\u001b[0m\n\u001b[1;32m    319\u001b[0m leaves, treedef \u001b[38;5;241m=\u001b[39m tree_flatten(tree, is_leaf)\n\u001b[1;32m    320\u001b[0m all_leaves \u001b[38;5;241m=\u001b[39m [leaves] \u001b[38;5;241m+\u001b[39m [treedef\u001b[38;5;241m.\u001b[39mflatten_up_to(r) \u001b[38;5;28;01mfor\u001b[39;00m r \u001b[38;5;129;01min\u001b[39;00m rest]\n\u001b[0;32m--> 321\u001b[0m \u001b[38;5;28;01mreturn\u001b[39;00m \u001b[43mtreedef\u001b[49m\u001b[38;5;241;43m.\u001b[39;49m\u001b[43munflatten\u001b[49m\u001b[43m(\u001b[49m\u001b[43mf\u001b[49m\u001b[43m(\u001b[49m\u001b[38;5;241;43m*\u001b[39;49m\u001b[43mxs\u001b[49m\u001b[43m)\u001b[49m\u001b[43m \u001b[49m\u001b[38;5;28;43;01mfor\u001b[39;49;00m\u001b[43m \u001b[49m\u001b[43mxs\u001b[49m\u001b[43m \u001b[49m\u001b[38;5;129;43;01min\u001b[39;49;00m\u001b[43m \u001b[49m\u001b[38;5;28;43mzip\u001b[39;49m\u001b[43m(\u001b[49m\u001b[38;5;241;43m*\u001b[39;49m\u001b[43mall_leaves\u001b[49m\u001b[43m)\u001b[49m\u001b[43m)\u001b[49m\n",
      "File \u001b[0;32m~/miniforge3/envs/InfoTheory/lib/python3.10/site-packages/jax/_src/tree_util.py:321\u001b[0m, in \u001b[0;36m<genexpr>\u001b[0;34m(.0)\u001b[0m\n\u001b[1;32m    319\u001b[0m leaves, treedef \u001b[38;5;241m=\u001b[39m tree_flatten(tree, is_leaf)\n\u001b[1;32m    320\u001b[0m all_leaves \u001b[38;5;241m=\u001b[39m [leaves] \u001b[38;5;241m+\u001b[39m [treedef\u001b[38;5;241m.\u001b[39mflatten_up_to(r) \u001b[38;5;28;01mfor\u001b[39;00m r \u001b[38;5;129;01min\u001b[39;00m rest]\n\u001b[0;32m--> 321\u001b[0m \u001b[38;5;28;01mreturn\u001b[39;00m treedef\u001b[38;5;241m.\u001b[39munflatten(\u001b[43mf\u001b[49m\u001b[43m(\u001b[49m\u001b[38;5;241;43m*\u001b[39;49m\u001b[43mxs\u001b[49m\u001b[43m)\u001b[49m \u001b[38;5;28;01mfor\u001b[39;00m xs \u001b[38;5;129;01min\u001b[39;00m \u001b[38;5;28mzip\u001b[39m(\u001b[38;5;241m*\u001b[39mall_leaves))\n",
      "File \u001b[0;32m~/miniforge3/envs/InfoTheory/lib/python3.10/site-packages/optax/_src/transform.py:518\u001b[0m, in \u001b[0;36mscale.<locals>.update_fn.<locals>.<lambda>\u001b[0;34m(g)\u001b[0m\n\u001b[1;32m    516\u001b[0m \u001b[38;5;28;01mdef\u001b[39;00m \u001b[38;5;21mupdate_fn\u001b[39m(updates, state, params\u001b[38;5;241m=\u001b[39m\u001b[38;5;28;01mNone\u001b[39;00m):\n\u001b[1;32m    517\u001b[0m   \u001b[38;5;28;01mdel\u001b[39;00m params\n\u001b[0;32m--> 518\u001b[0m   updates \u001b[38;5;241m=\u001b[39m jax\u001b[38;5;241m.\u001b[39mtree_util\u001b[38;5;241m.\u001b[39mtree_map(\u001b[38;5;28;01mlambda\u001b[39;00m g: \u001b[43mstep_size\u001b[49m\u001b[43m \u001b[49m\u001b[38;5;241;43m*\u001b[39;49m\u001b[43m \u001b[49m\u001b[43mg\u001b[49m, updates)\n\u001b[1;32m    519\u001b[0m   \u001b[38;5;28;01mreturn\u001b[39;00m updates, state\n",
      "File \u001b[0;32m~/miniforge3/envs/InfoTheory/lib/python3.10/site-packages/jax/_src/numpy/array_methods.py:264\u001b[0m, in \u001b[0;36m_defer_to_unrecognized_arg.<locals>.deferring_binary_op\u001b[0;34m(self, other)\u001b[0m\n\u001b[1;32m    262\u001b[0m args \u001b[38;5;241m=\u001b[39m (other, \u001b[38;5;28mself\u001b[39m) \u001b[38;5;28;01mif\u001b[39;00m swap \u001b[38;5;28;01melse\u001b[39;00m (\u001b[38;5;28mself\u001b[39m, other)\n\u001b[1;32m    263\u001b[0m \u001b[38;5;28;01mif\u001b[39;00m \u001b[38;5;28misinstance\u001b[39m(other, _accepted_binop_types):\n\u001b[0;32m--> 264\u001b[0m   \u001b[38;5;28;01mreturn\u001b[39;00m \u001b[43mbinary_op\u001b[49m\u001b[43m(\u001b[49m\u001b[38;5;241;43m*\u001b[39;49m\u001b[43margs\u001b[49m\u001b[43m)\u001b[49m\n\u001b[1;32m    265\u001b[0m \u001b[38;5;66;03m# Note: don't use isinstance here, because we don't want to raise for\u001b[39;00m\n\u001b[1;32m    266\u001b[0m \u001b[38;5;66;03m# subclasses, e.g. NamedTuple objects that may override operators.\u001b[39;00m\n\u001b[1;32m    267\u001b[0m \u001b[38;5;28;01mif\u001b[39;00m \u001b[38;5;28mtype\u001b[39m(other) \u001b[38;5;129;01min\u001b[39;00m _rejected_binop_types:\n",
      "\u001b[0;31mKeyboardInterrupt\u001b[0m: "
     ]
    }
   ],
   "source": [
    "optimized_imaging_system = ideal_optimizer.optimize(\n",
    "    train_dataset,\n",
    "    num_steps,\n",
    "    log_every=log_every,\n",
    "    validate_every=validate_every\n",
    ")\n",
    "\n",
    "# Save the optimized imaging system\n",
    "eqx.tree_serialise_leaves(run_name + \"_optimized_imaging_system.eqx\", ideal_optimizer.imaging_system)"
   ]
  },
  {
   "cell_type": "code",
   "execution_count": null,
   "metadata": {},
   "outputs": [],
   "source": []
  }
 ],
 "metadata": {
  "kernelspec": {
   "display_name": "InfoTheory",
   "language": "python",
   "name": "python3"
  },
  "language_info": {
   "codemirror_mode": {
    "name": "ipython",
    "version": 3
   },
   "file_extension": ".py",
   "mimetype": "text/x-python",
   "name": "python",
   "nbconvert_exporter": "python",
   "pygments_lexer": "ipython3",
   "version": "3.10.13"
  }
 },
 "nbformat": 4,
 "nbformat_minor": 2
}
