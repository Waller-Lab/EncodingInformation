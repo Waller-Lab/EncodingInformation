{
 "cells": [
  {
   "cell_type": "code",
   "execution_count": 5,
   "metadata": {},
   "outputs": [
    {
     "name": "stdout",
     "output_type": "stream",
     "text": [
      "The autoreload extension is already loaded. To reload it, use:\n",
      "  %reload_ext autoreload\n"
     ]
    }
   ],
   "source": [
    "%load_ext autoreload\n",
    "%autoreload 2\n",
    "# %matplotlib widget\n",
    "\n",
    "import os\n",
    "os.environ[\"CUDA_DEVICE_ORDER\"] = \"PCI_BUS_ID\" \n",
    "os.environ[\"CUDA_VISIBLE_DEVICES\"] = '2'\n",
    "\n",
    "\n",
    "# this only works on startup!\n",
    "from jax import config\n",
    "config.update(\"jax_enable_x64\", True)\n",
    "\n",
    "\n",
    "from encoding_information.gpu_utils import limit_gpu_memory_growth\n",
    "limit_gpu_memory_growth()\n",
    "\n",
    "from cleanplots import *\n",
    "from tqdm import tqdm\n",
    "from signal_utils_1D import *\n",
    "from plot_utils_1D import *\n"
   ]
  },
  {
   "cell_type": "code",
   "execution_count": 6,
   "metadata": {},
   "outputs": [
    {
     "name": "stderr",
     "output_type": "stream",
     "text": [
      "Generating signals:   0%|          | 0/10000 [00:00<?, ?it/s]"
     ]
    },
    {
     "name": "stderr",
     "output_type": "stream",
     "text": [
      "Generating signals: 10066it [00:13, 722.63it/s]                           \n"
     ]
    },
    {
     "data": {
      "text/plain": [
       "Array([[0.00080952, 0.00082386, 0.00083813, ..., 0.0007661 , 0.00078063,\n",
       "        0.0007951 ],\n",
       "       [0.0014895 , 0.00150665, 0.00152325, ..., 0.00143483, 0.00145359,\n",
       "        0.00147181],\n",
       "       [0.00168326, 0.00171391, 0.00174486, ..., 0.00159306, 0.00162282,\n",
       "        0.00165289],\n",
       "       ...,\n",
       "       [0.00172766, 0.00174148, 0.00175405, ..., 0.00167865, 0.00169624,\n",
       "        0.00171258],\n",
       "       [0.0015286 , 0.00148121, 0.00143453, ..., 0.00167455, 0.00162532,\n",
       "        0.00157665],\n",
       "       [0.00186525, 0.00191462, 0.00196466, ..., 0.0017216 , 0.0017687 ,\n",
       "        0.0018166 ]], dtype=float64)"
      ]
     },
     "execution_count": 6,
     "metadata": {},
     "output_type": "execute_result"
    }
   ],
   "source": [
    "generate_uniform_random_bandlimited_signals(8, 10000)"
   ]
  }
 ],
 "metadata": {
  "kernelspec": {
   "display_name": "phenotypes",
   "language": "python",
   "name": "python3"
  },
  "language_info": {
   "codemirror_mode": {
    "name": "ipython",
    "version": 3
   },
   "file_extension": ".py",
   "mimetype": "text/x-python",
   "name": "python",
   "nbconvert_exporter": "python",
   "pygments_lexer": "ipython3",
   "version": "3.10.6"
  }
 },
 "nbformat": 4,
 "nbformat_minor": 2
}
