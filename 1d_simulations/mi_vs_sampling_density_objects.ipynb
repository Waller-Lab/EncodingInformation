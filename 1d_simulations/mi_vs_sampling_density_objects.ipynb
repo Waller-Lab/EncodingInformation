{
 "cells": [
  {
   "cell_type": "code",
   "execution_count": 1,
   "metadata": {
    "execution": {
     "iopub.execute_input": "2023-11-24T07:39:42.438537Z",
     "iopub.status.busy": "2023-11-24T07:39:42.438133Z",
     "iopub.status.idle": "2023-11-24T07:39:43.555494Z",
     "shell.execute_reply": "2023-11-24T07:39:43.554866Z"
    }
   },
   "outputs": [
    {
     "name": "stderr",
     "output_type": "stream",
     "text": [
      "2024-01-23 19:55:47.524105: W tensorflow/compiler/tf2tensorrt/utils/py_utils.cc:38] TF-TRT Warning: Could not find TensorRT\n"
     ]
    }
   ],
   "source": [
    "%load_ext autoreload\n",
    "%autoreload 2\n",
    "# this only works on startup!\n",
    "from jax import config\n",
    "config.update(\"jax_enable_x64\", True)\n",
    "\n",
    "import os\n",
    "os.environ[\"CUDA_DEVICE_ORDER\"] = \"PCI_BUS_ID\" \n",
    "os.environ[\"CUDA_VISIBLE_DEVICES\"] = '0'\n",
    "from encoding_information.gpu_utils import limit_gpu_memory_growth\n",
    "limit_gpu_memory_growth()\n",
    "\n",
    "from cleanplots import *\n",
    "from tqdm import tqdm\n",
    "from signal_utils_1D import *\n"
   ]
  },
  {
   "attachments": {},
   "cell_type": "markdown",
   "metadata": {},
   "source": [
    "## Max mutual information vs sampling density for different samples"
   ]
  },
  {
   "cell_type": "code",
   "execution_count": 15,
   "metadata": {},
   "outputs": [
    {
     "name": "stdout",
     "output_type": "stream",
     "text": [
      "white_noise\n",
      "initial loss -0.20848109544504848\n",
      "computing optimized mi\n"
     ]
    },
    {
     "name": "stderr",
     "output_type": "stream",
     "text": [
      " 17%|█▋        | 1/6 [00:55<04:36, 55.28s/it]"
     ]
    },
    {
     "name": "stdout",
     "output_type": "stream",
     "text": [
      "0.006632493870844869\n"
     ]
    },
    {
     "name": "stderr",
     "output_type": "stream",
     "text": [
      " 33%|███▎      | 2/6 [02:02<04:09, 62.50s/it]"
     ]
    },
    {
     "name": "stdout",
     "output_type": "stream",
     "text": [
      "1.5366248936940297\n"
     ]
    },
    {
     "name": "stderr",
     "output_type": "stream",
     "text": [
      " 50%|█████     | 3/6 [02:54<02:52, 57.54s/it]"
     ]
    },
    {
     "name": "stdout",
     "output_type": "stream",
     "text": [
      "1.5967183577612045\n"
     ]
    },
    {
     "name": "stderr",
     "output_type": "stream",
     "text": [
      " 67%|██████▋   | 4/6 [03:42<01:47, 53.82s/it]"
     ]
    },
    {
     "name": "stdout",
     "output_type": "stream",
     "text": [
      "1.2773036025651223\n"
     ]
    },
    {
     "name": "stderr",
     "output_type": "stream",
     "text": [
      " 83%|████████▎ | 5/6 [04:42<00:55, 55.92s/it]"
     ]
    },
    {
     "name": "stdout",
     "output_type": "stream",
     "text": [
      "0.9334115275614744\n"
     ]
    },
    {
     "name": "stderr",
     "output_type": "stream",
     "text": [
      "100%|██████████| 6/6 [05:40<00:00, 56.72s/it]"
     ]
    },
    {
     "name": "stdout",
     "output_type": "stream",
     "text": [
      "0.7209773653577708\n",
      "delta_uniform\n"
     ]
    },
    {
     "name": "stderr",
     "output_type": "stream",
     "text": [
      "\n"
     ]
    },
    {
     "name": "stdout",
     "output_type": "stream",
     "text": [
      "initial loss -3.880581859625792\n",
      "computing optimized mi\n"
     ]
    },
    {
     "name": "stderr",
     "output_type": "stream",
     "text": [
      "/home/hpinkard_waller/GitRepos/EncodingInformation/encoding_information/information_estimation.py:226: UserWarning: 0.01% of pixels are negative.\n",
      "  warnings.warn(f\"{np.sum(clean_images_if_available < 0) / clean_images_if_available.size:.2%} of pixels are negative.\")\n",
      " 17%|█▋        | 1/6 [00:38<03:11, 38.23s/it]"
     ]
    },
    {
     "name": "stdout",
     "output_type": "stream",
     "text": [
      "0.09851112940658485\n"
     ]
    },
    {
     "name": "stderr",
     "output_type": "stream",
     "text": [
      " 33%|███▎      | 2/6 [01:20<02:42, 40.57s/it]"
     ]
    },
    {
     "name": "stdout",
     "output_type": "stream",
     "text": [
      "3.269507293279715\n"
     ]
    },
    {
     "name": "stderr",
     "output_type": "stream",
     "text": [
      " 50%|█████     | 3/6 [02:33<02:46, 55.35s/it]"
     ]
    },
    {
     "name": "stdout",
     "output_type": "stream",
     "text": [
      "1.9159931421983536\n"
     ]
    },
    {
     "name": "stderr",
     "output_type": "stream",
     "text": [
      " 67%|██████▋   | 4/6 [03:26<01:48, 54.30s/it]"
     ]
    },
    {
     "name": "stdout",
     "output_type": "stream",
     "text": [
      "0.972085648113594\n"
     ]
    },
    {
     "name": "stderr",
     "output_type": "stream",
     "text": [
      "/home/hpinkard_waller/GitRepos/EncodingInformation/encoding_information/information_estimation.py:226: UserWarning: 0.68% of pixels are negative.\n",
      "  warnings.warn(f\"{np.sum(clean_images_if_available < 0) / clean_images_if_available.size:.2%} of pixels are negative.\")\n",
      " 83%|████████▎ | 5/6 [04:29<00:57, 57.68s/it]"
     ]
    },
    {
     "name": "stdout",
     "output_type": "stream",
     "text": [
      "0.948280975572422\n"
     ]
    },
    {
     "name": "stderr",
     "output_type": "stream",
     "text": [
      "/home/hpinkard_waller/GitRepos/EncodingInformation/encoding_information/information_estimation.py:226: UserWarning: 2.27% of pixels are negative.\n",
      "  warnings.warn(f\"{np.sum(clean_images_if_available < 0) / clean_images_if_available.size:.2%} of pixels are negative.\")\n",
      "100%|██████████| 6/6 [05:41<00:00, 56.86s/it]"
     ]
    },
    {
     "name": "stdout",
     "output_type": "stream",
     "text": [
      "0.7239875776958226\n",
      "8_deltas_uniform\n"
     ]
    },
    {
     "name": "stderr",
     "output_type": "stream",
     "text": [
      "\n"
     ]
    },
    {
     "name": "stdout",
     "output_type": "stream",
     "text": [
      "initial loss -2.9076369110528657\n",
      "computing optimized mi\n"
     ]
    },
    {
     "name": "stderr",
     "output_type": "stream",
     "text": [
      " 17%|█▋        | 1/6 [00:35<02:55, 35.09s/it]"
     ]
    },
    {
     "name": "stdout",
     "output_type": "stream",
     "text": [
      "-0.01976099562646692\n"
     ]
    },
    {
     "name": "stderr",
     "output_type": "stream",
     "text": [
      " 33%|███▎      | 2/6 [01:15<02:32, 38.17s/it]"
     ]
    },
    {
     "name": "stdout",
     "output_type": "stream",
     "text": [
      "5.417616005976023\n"
     ]
    },
    {
     "name": "stderr",
     "output_type": "stream",
     "text": [
      " 50%|█████     | 3/6 [02:18<02:29, 49.70s/it]"
     ]
    },
    {
     "name": "stdout",
     "output_type": "stream",
     "text": [
      "5.136932038733974\n"
     ]
    },
    {
     "name": "stderr",
     "output_type": "stream",
     "text": [
      " 67%|██████▋   | 4/6 [03:08<01:39, 49.68s/it]"
     ]
    },
    {
     "name": "stdout",
     "output_type": "stream",
     "text": [
      "4.078317619968549\n"
     ]
    },
    {
     "name": "stderr",
     "output_type": "stream",
     "text": [
      " 83%|████████▎ | 5/6 [04:10<00:54, 54.22s/it]"
     ]
    },
    {
     "name": "stdout",
     "output_type": "stream",
     "text": [
      "2.8532947910139126\n"
     ]
    },
    {
     "name": "stderr",
     "output_type": "stream",
     "text": [
      "/home/hpinkard_waller/GitRepos/EncodingInformation/encoding_information/information_estimation.py:226: UserWarning: 0.00% of pixels are negative.\n",
      "  warnings.warn(f\"{np.sum(clean_images_if_available < 0) / clean_images_if_available.size:.2%} of pixels are negative.\")\n",
      "100%|██████████| 6/6 [05:05<00:00, 50.87s/it]"
     ]
    },
    {
     "name": "stdout",
     "output_type": "stream",
     "text": [
      "2.073305670194729\n"
     ]
    },
    {
     "name": "stderr",
     "output_type": "stream",
     "text": [
      "\n"
     ]
    }
   ],
   "source": [
    "from scipy.signal import resample\n",
    "\n",
    "N_objects = 5000\n",
    "noise_sigma = 1e-3\n",
    "num_samples_list = [1, 4, 9, 16, 25, 36]\n",
    "num_bootstrap_samples = 11\n",
    "upsampling_factor = 16\n",
    "max_epochs = 5000\n",
    "confidence = 90\n",
    "num_nyquist_samples = 16\n",
    "object_names = ['white_noise', 'delta_uniform', '8_deltas_uniform']\n",
    "\n",
    "# Fro debugging\n",
    "# object_names = ['delta_uniform',]\n",
    "# max_epochs = 1000\n",
    "# num_nyquist_samples = 16\n",
    "\n",
    "# num_samples_list = [1, 4, 9, 16]\n",
    "\n",
    "upsampled_signal_length = upsampling_factor*num_nyquist_samples\n",
    "objects_fn_delta = lambda : np.array([generate_random_object('delta', num_deltas=1, object_size=upsampled_signal_length) for i in range(N_objects)])\n",
    "objects_fn_8_delta = lambda : np.array([generate_random_object('delta', num_deltas=8, object_size=upsampled_signal_length) for i in range(N_objects)])\n",
    "objects_fn_white_noise = lambda : np.array([generate_random_object('white_noise', object_size=upsampled_signal_length) for i in range(N_objects)])\n",
    "\n",
    "\n",
    "mi_by_object = {}\n",
    "mi_by_object_hi = {}\n",
    "mi_by_object_lo = {}\n",
    "for name in object_names:\n",
    "  print(name)\n",
    "  mutual_information = []\n",
    "  mi_hi = []\n",
    "  mi_lo = []\n",
    "\n",
    "  if name == 'delta_uniform':\n",
    "    objects_fn = objects_fn_delta\n",
    "  elif name == '8_deltas_uniform':\n",
    "    objects_fn = objects_fn_8_delta\n",
    "  else:\n",
    "    objects_fn = objects_fn_white_noise\n",
    "\n",
    "  # Find an optimal PSF for this object\n",
    "  initial_kernel, initial_params, optimized_params, objects, _, _ = optimize_PSF_and_estimate_mi(\n",
    "      objects_fn, noise_sigma, num_nyquist_samples=num_nyquist_samples, upsampled_signal_length=upsampled_signal_length,\n",
    "      max_epochs=max_epochs, )\n",
    "\n",
    "  # compute the information with this psf when integrating over pixels of different sizes \n",
    "  for num_samples in tqdm(num_samples_list):\n",
    "\n",
    "\n",
    "    runs = []\n",
    "    for i in range(num_bootstrap_samples):\n",
    "\n",
    "      # do the estimation\n",
    "      scale_factor = 1000 # because these signals are 0-1 but pixel cnn is designed for photon counts\n",
    "      test_objects = objects_fn()\n",
    "      output_signals = conv_forward_model(optimized_params, test_objects,\n",
    "                                                  integrate_output_signals=False, num_nyquist_samples=num_nyquist_samples, upsampled_signal_length=upsampled_signal_length)\n",
    "      \n",
    "      # interpolate to higher resolution before integrating\n",
    "      resampled_signal_length = num_samples * upsampling_factor\n",
    "\n",
    "      resampled_output_signals = resample(output_signals, resampled_signal_length, axis=-1)\n",
    "      # normalize to sum to 1\n",
    "      resampled_output_signals = resampled_output_signals / np.sum(resampled_output_signals, axis=-1, keepdims=True)\n",
    "      pixelated_signal = integrate_pixels(resampled_output_signals, num_samples)\n",
    "\n",
    "      # amount of noise to add to the pixel depends on its area\n",
    "      relative_sampling_area = num_nyquist_samples / num_samples\n",
    "      pixel_variance = noise_sigma**2 * relative_sampling_area\n",
    "\n",
    "      noisy_pixelated_signals = pixelated_signal + jax.random.normal(jax.random.PRNGKey(onp.random.randint(10000)), pixelated_signal.shape) * np.sqrt(pixel_variance)\n",
    "\n",
    "      fake_images = noisy_pixelated_signals.reshape(-1, int(np.sqrt(num_samples)), int(np.sqrt(num_samples))) * scale_factor\n",
    "      mi_estimate = estimate_mutual_information(fake_images, gaussian_noise_sigma=float(np.sqrt(pixel_variance) * scale_factor), verbose=False, entropy_model='pixelcnn')                                                      \n",
    "      print(mi_estimate)\n",
    "      runs.append(mi_estimate)\n",
    "    runs = np.array(runs)\n",
    "    mutual_information.append(np.median(runs))\n",
    "    mi_lo.append(np.percentile(np.array(runs), 100-confidence))\n",
    "    mi_hi.append(np.percentile(np.array(runs), confidence))\n",
    "  mi_by_object[name] = mutual_information\n",
    "  mi_by_object_hi[name] = mi_hi\n",
    "  mi_by_object_lo[name] = mi_lo"
   ]
  },
  {
   "cell_type": "code",
   "execution_count": 16,
   "metadata": {
    "execution": {
     "iopub.execute_input": "2023-11-24T17:36:22.855026Z",
     "iopub.status.busy": "2023-11-24T17:36:22.854813Z",
     "iopub.status.idle": "2023-11-24T17:36:24.222870Z",
     "shell.execute_reply": "2023-11-24T17:36:24.221929Z"
    }
   },
   "outputs": [
    {
     "data": {
      "text/plain": [
       "<matplotlib.legend.Legend at 0x7f0a8c587490>"
      ]
     },
     "execution_count": 16,
     "metadata": {},
     "output_type": "execute_result"
    },
    {
     "data": {
      "image/png": "[encoded data removed]",
      "text/plain": [
       "<Figure size 500x500 with 1 Axes>"
      ]
     },
     "metadata": {},
     "output_type": "display_data"
    }
   ],
   "source": [
    "fig, ax = plt.subplots(1, 1, figsize=(5, 5))\n",
    "\n",
    "for object_name, mutual_information in mi_by_object.items():\n",
    "    total_mi = np.array(mutual_information) * np.array(num_samples_list)\n",
    "\n",
    "    ax.plot(num_samples_list, total_mi, 'o-', label=object_name)\n",
    "    ax.fill_between(num_samples_list, mi_by_object_lo[object_name] * np.array(num_samples_list), mi_by_object_hi[object_name] * np.array(num_samples_list), alpha=0.4)\n",
    "    ax.set_xlabel('Number of samples')\n",
    "    ax.set_ylabel('Total mutual information (bits)')\n",
    "\n",
    "    ax.set(ylim=(0, max(1.1 * np.max(total_mi), ax.get_ylim()[1])), xlim=(0, ax.get_xlim()[1]))\n",
    "\n",
    "# plot a dashed line at the number of nyquist samples\n",
    "ax.axvline(num_nyquist_samples, linestyle='--', color='k')\n",
    "ax.text(num_nyquist_samples + 3, 0.2 * np.max(total_mi), 'Nyquist sampling rate', rotation=0, va='center')\n",
    "clear_spines(ax)\n",
    "ax.legend()\n",
    "\n",
    "fig.savefig('/home/hpinkard_waller/figures/1d_signals/' + 'mi_vs_sampling_density' + '.pdf', transparent=True)\n"
   ]
  }
 ],
 "metadata": {
  "kernelspec": {
   "display_name": "phenotypes",
   "language": "python",
   "name": "python3"
  },
  "language_info": {
   "codemirror_mode": {
    "name": "ipython",
    "version": 3
   },
   "file_extension": ".py",
   "mimetype": "text/x-python",
   "name": "python",
   "nbconvert_exporter": "python",
   "pygments_lexer": "ipython3",
   "version": "3.10.13"
  }
 },
 "nbformat": 4,
 "nbformat_minor": 2
}
