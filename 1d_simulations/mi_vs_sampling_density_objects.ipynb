{
 "cells": [
  {
   "cell_type": "code",
   "execution_count": 1,
   "metadata": {
    "tags": []
   },
   "outputs": [
    {
     "name": "stderr",
     "output_type": "stream",
     "text": [
      "2024-02-06 08:57:20.430137: E tensorflow/stream_executor/cuda/cuda_blas.cc:2981] Unable to register cuBLAS factory: Attempting to register factory for plugin cuBLAS when one has already been registered\n",
      "2024-02-06 08:57:21.044468: W tensorflow/stream_executor/platform/default/dso_loader.cc:64] Could not load dynamic library 'libnvinfer.so.7'; dlerror: libnvinfer.so.7: cannot open shared object file: No such file or directory\n",
      "2024-02-06 08:57:21.044547: W tensorflow/stream_executor/platform/default/dso_loader.cc:64] Could not load dynamic library 'libnvinfer_plugin.so.7'; dlerror: libnvinfer_plugin.so.7: cannot open shared object file: No such file or directory\n",
      "2024-02-06 08:57:21.044555: W tensorflow/compiler/tf2tensorrt/utils/py_utils.cc:38] TF-TRT Warning: Cannot dlopen some TensorRT libraries. If you would like to use Nvidia GPU with TensorRT, please make sure the missing libraries mentioned above are installed properly.\n"
     ]
    }
   ],
   "source": [
    "%load_ext autoreload\n",
    "%autoreload 2\n",
    "# this only works on startup!\n",
    "from jax import config\n",
    "config.update(\"jax_enable_x64\", True)\n",
    "\n",
    "import os\n",
    "os.environ[\"CUDA_DEVICE_ORDER\"] = \"PCI_BUS_ID\" \n",
    "os.environ[\"CUDA_VISIBLE_DEVICES\"] = '0'\n",
    "from encoding_information.gpu_utils import limit_gpu_memory_growth\n",
    "# limit_gpu_memory_growth()\n",
    "\n",
    "from cleanplots import *\n",
    "from tqdm import tqdm\n",
    "from signal_utils_1D import *\n"
   ]
  },
  {
   "cell_type": "markdown",
   "metadata": {},
   "source": [
    "## Max mutual information vs sampling density for different samples"
   ]
  },
  {
   "cell_type": "code",
   "execution_count": 15,
   "metadata": {
    "tags": []
   },
   "outputs": [
    {
     "name": "stdout",
     "output_type": "stream",
     "text": [
      "white_noise\n"
     ]
    },
    {
     "name": "stderr",
     "output_type": "stream",
     "text": [
      "  0%|          | 0/6 [00:00<?, ?it/s]"
     ]
    },
    {
     "name": "stdout",
     "output_type": "stream",
     "text": [
      "initial loss -0.1522882268171704\n",
      "computing optimized mi\n"
     ]
    },
    {
     "name": "stderr",
     "output_type": "stream",
     "text": [
      " 17%|█▋        | 1/6 [01:11<05:57, 71.45s/it]"
     ]
    },
    {
     "name": "stdout",
     "output_type": "stream",
     "text": [
      "white_noise :  -0.04247396413370657\n",
      "initial loss -0.10375335572657537\n",
      "computing optimized mi\n"
     ]
    },
    {
     "name": "stderr",
     "output_type": "stream",
     "text": [
      " 33%|███▎      | 2/6 [02:51<05:54, 88.50s/it]"
     ]
    },
    {
     "name": "stdout",
     "output_type": "stream",
     "text": [
      "white_noise :  3.248680286521837\n",
      "initial loss -0.1452160811075387\n",
      "computing optimized mi\n"
     ]
    },
    {
     "name": "stderr",
     "output_type": "stream",
     "text": [
      " 50%|█████     | 3/6 [04:18<04:23, 87.68s/it]"
     ]
    },
    {
     "name": "stdout",
     "output_type": "stream",
     "text": [
      "white_noise :  3.611750771099798\n",
      "initial loss -0.1550623198644871\n",
      "computing optimized mi\n"
     ]
    },
    {
     "name": "stderr",
     "output_type": "stream",
     "text": [
      " 67%|██████▋   | 4/6 [05:35<02:46, 83.31s/it]"
     ]
    },
    {
     "name": "stdout",
     "output_type": "stream",
     "text": [
      "white_noise :  3.4237152827243236\n",
      "initial loss -0.21366792622070824\n",
      "computing optimized mi\n"
     ]
    },
    {
     "name": "stderr",
     "output_type": "stream",
     "text": [
      " 83%|████████▎ | 5/6 [06:46<01:19, 79.08s/it]"
     ]
    },
    {
     "name": "stdout",
     "output_type": "stream",
     "text": [
      "white_noise :  2.3341604361319086\n",
      "initial loss -0.15265889966034826\n",
      "computing optimized mi\n"
     ]
    },
    {
     "name": "stderr",
     "output_type": "stream",
     "text": [
      "100%|██████████| 6/6 [07:50<00:00, 78.38s/it]\n"
     ]
    },
    {
     "name": "stdout",
     "output_type": "stream",
     "text": [
      "white_noise :  1.6832914180315999\n",
      "delta_uniform\n"
     ]
    },
    {
     "name": "stderr",
     "output_type": "stream",
     "text": [
      "  0%|          | 0/6 [00:00<?, ?it/s]"
     ]
    },
    {
     "name": "stdout",
     "output_type": "stream",
     "text": [
      "initial loss -4.192255005728695\n",
      "computing optimized mi\n"
     ]
    },
    {
     "name": "stderr",
     "output_type": "stream",
     "text": [
      " 17%|█▋        | 1/6 [01:03<05:18, 63.66s/it]"
     ]
    },
    {
     "name": "stdout",
     "output_type": "stream",
     "text": [
      "delta_uniform :  -0.011881690198230169\n",
      "initial loss -3.678277512452059\n",
      "computing optimized mi\n"
     ]
    },
    {
     "name": "stderr",
     "output_type": "stream",
     "text": [
      " 33%|███▎      | 2/6 [02:47<05:50, 87.57s/it]"
     ]
    },
    {
     "name": "stdout",
     "output_type": "stream",
     "text": [
      "delta_uniform :  4.322989865123872\n",
      "initial loss -4.3306536585901165\n",
      "computing optimized mi\n"
     ]
    },
    {
     "name": "stderr",
     "output_type": "stream",
     "text": [
      "/home/hpinkard_waller/GitRepos/EncodingInformation/encoding_information/information_estimation.py:226: UserWarning: 0.00% of pixels are negative.\n",
      "  warnings.warn(f\"{np.sum(clean_images_if_available < 0) / clean_images_if_available.size:.2%} of pixels are negative.\")\n",
      " 50%|█████     | 3/6 [04:11<04:17, 85.90s/it]"
     ]
    },
    {
     "name": "stdout",
     "output_type": "stream",
     "text": [
      "delta_uniform :  3.0558588159525795\n",
      "initial loss -4.029271381089515\n",
      "computing optimized mi\n"
     ]
    },
    {
     "name": "stderr",
     "output_type": "stream",
     "text": [
      "/home/hpinkard_waller/GitRepos/EncodingInformation/encoding_information/information_estimation.py:226: UserWarning: 0.01% of pixels are negative.\n",
      "  warnings.warn(f\"{np.sum(clean_images_if_available < 0) / clean_images_if_available.size:.2%} of pixels are negative.\")\n",
      " 67%|██████▋   | 4/6 [05:48<03:00, 90.11s/it]"
     ]
    },
    {
     "name": "stdout",
     "output_type": "stream",
     "text": [
      "delta_uniform :  1.6788370932409573\n",
      "initial loss -3.3429836820422887\n",
      "computing optimized mi\n"
     ]
    },
    {
     "name": "stderr",
     "output_type": "stream",
     "text": [
      "/home/hpinkard_waller/GitRepos/EncodingInformation/encoding_information/information_estimation.py:226: UserWarning: 0.09% of pixels are negative.\n",
      "  warnings.warn(f\"{np.sum(clean_images_if_available < 0) / clean_images_if_available.size:.2%} of pixels are negative.\")\n",
      " 83%|████████▎ | 5/6 [07:10<01:27, 87.16s/it]"
     ]
    },
    {
     "name": "stdout",
     "output_type": "stream",
     "text": [
      "delta_uniform :  1.1281314090258596\n",
      "initial loss -3.6436572000940166\n",
      "computing optimized mi\n"
     ]
    },
    {
     "name": "stderr",
     "output_type": "stream",
     "text": [
      "100%|██████████| 6/6 [08:24<00:00, 84.08s/it]\n"
     ]
    },
    {
     "name": "stdout",
     "output_type": "stream",
     "text": [
      "delta_uniform :  0.8216686561679803\n",
      "8_deltas_uniform\n"
     ]
    },
    {
     "name": "stderr",
     "output_type": "stream",
     "text": [
      "  0%|          | 0/6 [00:00<?, ?it/s]"
     ]
    },
    {
     "name": "stdout",
     "output_type": "stream",
     "text": [
      "initial loss -2.5451577137103403\n",
      "computing optimized mi\n"
     ]
    },
    {
     "name": "stderr",
     "output_type": "stream",
     "text": [
      " 17%|█▋        | 1/6 [01:22<06:54, 82.83s/it]"
     ]
    },
    {
     "name": "stdout",
     "output_type": "stream",
     "text": [
      "8_deltas_uniform :  -0.012977563649527984\n",
      "initial loss -2.796119121667595\n",
      "computing optimized mi\n"
     ]
    },
    {
     "name": "stderr",
     "output_type": "stream",
     "text": [
      " 33%|███▎      | 2/6 [03:08<06:24, 96.10s/it]"
     ]
    },
    {
     "name": "stdout",
     "output_type": "stream",
     "text": [
      "8_deltas_uniform :  4.65305621693736\n",
      "initial loss -2.325393576845288\n",
      "computing optimized mi\n"
     ]
    },
    {
     "name": "stderr",
     "output_type": "stream",
     "text": [
      " 50%|█████     | 3/6 [04:44<04:47, 95.96s/it]"
     ]
    },
    {
     "name": "stdout",
     "output_type": "stream",
     "text": [
      "8_deltas_uniform :  5.015961598170493\n",
      "initial loss -2.616314871028264\n",
      "computing optimized mi\n"
     ]
    },
    {
     "name": "stderr",
     "output_type": "stream",
     "text": [
      " 67%|██████▋   | 4/6 [06:28<03:18, 99.38s/it]"
     ]
    },
    {
     "name": "stdout",
     "output_type": "stream",
     "text": [
      "8_deltas_uniform :  4.835105353572636\n",
      "initial loss -2.5477653602509207\n",
      "computing optimized mi\n"
     ]
    },
    {
     "name": "stderr",
     "output_type": "stream",
     "text": [
      " 83%|████████▎ | 5/6 [07:45<01:31, 91.16s/it]"
     ]
    },
    {
     "name": "stdout",
     "output_type": "stream",
     "text": [
      "8_deltas_uniform :  3.224292418063754\n",
      "initial loss -2.583139732673007\n",
      "computing optimized mi\n"
     ]
    },
    {
     "name": "stderr",
     "output_type": "stream",
     "text": [
      "100%|██████████| 6/6 [08:50<00:00, 88.38s/it]"
     ]
    },
    {
     "name": "stdout",
     "output_type": "stream",
     "text": [
      "8_deltas_uniform :  2.239475743685285\n"
     ]
    },
    {
     "name": "stderr",
     "output_type": "stream",
     "text": [
      "\n"
     ]
    }
   ],
   "source": [
    "from scipy.signal import resample\n",
    "\n",
    "N_objects = 5000\n",
    "noise_sigma = 1e-3\n",
    "num_samples_list = [1, 4, 9, 16, 25, 36] \n",
    "num_bootstrap_samples = 11\n",
    "upsampling_factor = 16\n",
    "max_epochs = 5000\n",
    "min_background = 30\n",
    "\n",
    "confidence = 90\n",
    "num_nyquist_samples = 16\n",
    "object_names = ['white_noise', 'delta_uniform', '8_deltas_uniform']\n",
    "\n",
    "# Fro debugging\n",
    "# object_names = ['delta_uniform',]\n",
    "max_epochs = 1000\n",
    "# # num_nyquist_samples = 16\n",
    "num_samples_list = [1, 4, 9, 16, 25, 36] \n",
    "num_bootstrap_samples = 1\n",
    "\n",
    "\n",
    "\n",
    "upsampled_signal_length = upsampling_factor*num_nyquist_samples\n",
    "objects_fn_delta = lambda : np.array([generate_random_object('delta', num_deltas=1, object_size=upsampled_signal_length) for i in range(N_objects)])\n",
    "objects_fn_8_delta = lambda : np.array([generate_random_object('delta', num_deltas=8, object_size=upsampled_signal_length) for i in range(N_objects)])\n",
    "objects_fn_white_noise = lambda : np.array([generate_random_object('white_noise', object_size=upsampled_signal_length) for i in range(N_objects)])\n",
    "\n",
    "\n",
    "# for debugging\n",
    "fake_images_dict = {}\n",
    "output_signals_dict = {}\n",
    "\n",
    "\n",
    "\n",
    "mi_by_object = {}\n",
    "mi_by_object_hi = {}\n",
    "mi_by_object_lo = {}\n",
    "for name in object_names:\n",
    "  print(name)\n",
    "  mutual_information = []\n",
    "  mi_hi = []\n",
    "  mi_lo = []\n",
    "\n",
    "  if name == 'delta_uniform':\n",
    "    objects_fn = objects_fn_delta\n",
    "  elif name == '8_deltas_uniform':\n",
    "    objects_fn = objects_fn_8_delta\n",
    "  else:\n",
    "    objects_fn = objects_fn_white_noise\n",
    "\n",
    "\n",
    "\n",
    "  # compute the information with this psf when integrating over pixels of different sizes \n",
    "  for num_samples in tqdm(num_samples_list):\n",
    "\n",
    "\n",
    "    runs = []\n",
    "    for i in range(num_bootstrap_samples):\n",
    "        # Find an optimal PSF for this object\n",
    "      initial_kernel, initial_params, optimized_params, objects, _, _ = optimize_PSF_and_estimate_mi(\n",
    "      objects_fn, noise_sigma, num_nyquist_samples=num_nyquist_samples, upsampled_signal_length=upsampled_signal_length,\n",
    "      max_epochs=max_epochs, )\n",
    "\n",
    "      # do the estimation\n",
    "      scale_factor = 100000 # because these signals are 0-1 but pixel cnn is designed for photon counts\n",
    "      test_objects = objects_fn()\n",
    "      output_signals = conv_forward_model(optimized_params, test_objects,\n",
    "                                                  integrate_output_signals=False, num_nyquist_samples=num_nyquist_samples, upsampled_signal_length=upsampled_signal_length)\n",
    "      \n",
    "      # interpolate to higher resolution before integrating\n",
    "      resampled_signal_length = num_samples * upsampling_factor\n",
    "\n",
    "      resampled_output_signals = resample(output_signals, resampled_signal_length, axis=-1)\n",
    "      # make strictly positive\n",
    "      resampled_output_signals -= np.min(resampled_output_signals)\n",
    "    \n",
    "      # normalize to sum to 1\n",
    "      resampled_output_signals = resampled_output_signals / np.sum(resampled_output_signals, axis=-1, keepdims=True)\n",
    "      pixelated_signal = integrate_pixels(resampled_output_signals, num_samples)\n",
    "\n",
    "      # amount of noise to add to the pixel depends on its area\n",
    "      relative_sampling_area = num_nyquist_samples / num_samples\n",
    "      pixel_variance = noise_sigma**2 * relative_sampling_area\n",
    "\n",
    "      noisy_pixelated_signals = pixelated_signal + jax.random.normal(jax.random.PRNGKey(onp.random.randint(10000)), pixelated_signal.shape) * np.sqrt(pixel_variance)\n",
    "\n",
    "      # make strictly positive\n",
    "      noisy_pixelated_signals -= np.min(noisy_pixelated_signals)\n",
    "\n",
    "\n",
    "      fake_images = noisy_pixelated_signals.reshape(-1, int(np.sqrt(num_samples)), int(np.sqrt(num_samples))) * scale_factor\n",
    "      fake_images += min_background\n",
    "\n",
    "      fake_images_dict[name] = fake_images\n",
    "      output_signals_dict[name] = output_signals\n",
    "\n",
    "      mi_estimate = estimate_mutual_information(fake_images, gaussian_noise_sigma=float(np.sqrt(pixel_variance) * scale_factor), verbose=False, entropy_model='pixelcnn')                                                      \n",
    "      print(name, ': ', mi_estimate)\n",
    "      runs.append(mi_estimate)\n",
    "    runs = np.array(runs)\n",
    "    mutual_information.append(np.median(runs))\n",
    "    mi_lo.append(np.percentile(np.array(runs), 100-confidence))\n",
    "    mi_hi.append(np.percentile(np.array(runs), confidence))\n",
    "  mi_by_object[name] = mutual_information\n",
    "  mi_by_object_hi[name] = mi_hi\n",
    "  mi_by_object_lo[name] = mi_lo"
   ]
  },
  {
   "cell_type": "code",
   "execution_count": 7,
   "metadata": {},
   "outputs": [
    {
     "name": "stderr",
     "output_type": "stream",
     "text": [
      "/home/hpinkard_waller/GitRepos/EncodingInformation/encoding_information/information_estimation.py:226: UserWarning: 0.92% of pixels are negative.\n",
      "  warnings.warn(f\"{np.sum(clean_images_if_available < 0) / clean_images_if_available.size:.2%} of pixels are negative.\")\n"
     ]
    },
    {
     "name": "stdout",
     "output_type": "stream",
     "text": [
      "1.0948769018064246 5.0547939482570765\n"
     ]
    }
   ],
   "source": [
    "mi_estimate1 = estimate_mutual_information(fake_images, gaussian_noise_sigma=float(np.sqrt(pixel_variance) * scale_factor), verbose=False, entropy_model='pixelcnn')                                                      \n",
    "fake_images_2 = fake_images \n",
    "mi_estimate2 = estimate_mutual_information(fake_images, gaussian_noise_sigma=float(np.sqrt(pixel_variance) * scale_factor), verbose=False, entropy_model='pixelcnn')                                                      \n",
    "\n",
    "print(mi_estimate1, mi_estimate2)\n"
   ]
  },
  {
   "cell_type": "code",
   "execution_count": 16,
   "metadata": {
    "tags": []
   },
   "outputs": [
    {
     "data": {
      "image/png": "[encoded data removed]",
      "text/plain": [
       "<Figure size 500x500 with 1 Axes>"
      ]
     },
     "metadata": {},
     "output_type": "display_data"
    }
   ],
   "source": [
    "fig, ax = plt.subplots(1, 1, figsize=(5, 5))\n",
    "\n",
    "for object_name, mutual_information in mi_by_object.items():\n",
    "    total_mi = np.array(mutual_information) * np.array(num_samples_list)\n",
    "\n",
    "    ax.plot(num_samples_list, total_mi, 'o-', label=object_name)\n",
    "    ax.fill_between(num_samples_list, np.array(mi_by_object_lo[object_name]) * np.array(num_samples_list), \n",
    "                            np.array(mi_by_object_hi[object_name]) * np.array(num_samples_list), alpha=0.4)\n",
    "    ax.set_xlabel('Number of samples')\n",
    "    ax.set_ylabel('Total mutual information (bits)')\n",
    "\n",
    "    ax.set(ylim=(0, max(1.1 * np.max(total_mi), ax.get_ylim()[1])), xlim=(0, ax.get_xlim()[1]))\n",
    "\n",
    "# plot a dashed line at the number of nyquist samples\n",
    "ax.axvline(num_nyquist_samples, linestyle='--', color='k')\n",
    "ax.text(num_nyquist_samples + 3, 0.2 * np.max(total_mi), 'Nyquist sampling rate', rotation=0, va='center')\n",
    "clear_spines(ax)\n",
    "ax.legend()\n",
    "\n",
    "fig.savefig('/home/hpinkard_waller/figures/1d_signals/' + 'mi_vs_sampling_density' + '.pdf', transparent=True)\n"
   ]
  }
 ],
 "metadata": {
  "kernelspec": {
   "display_name": "Python 3 (ipykernel)",
   "language": "python",
   "name": "python3"
  },
  "language_info": {
   "codemirror_mode": {
    "name": "ipython",
    "version": 3
   },
   "file_extension": ".py",
   "mimetype": "text/x-python",
   "name": "python",
   "nbconvert_exporter": "python",
   "pygments_lexer": "ipython3",
   "version": "3.10.6"
  }
 },
 "nbformat": 4,
 "nbformat_minor": 4
}
