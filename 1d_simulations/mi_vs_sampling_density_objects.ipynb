{
 "cells": [
  {
   "cell_type": "code",
   "execution_count": 1,
   "metadata": {
    "execution": {
     "iopub.execute_input": "2024-02-03T06:46:32.126780Z",
     "iopub.status.busy": "2024-02-03T06:46:32.126242Z",
     "iopub.status.idle": "2024-02-03T06:46:35.072467Z",
     "shell.execute_reply": "2024-02-03T06:46:35.071667Z"
    }
   },
   "outputs": [
    {
     "name": "stderr",
     "output_type": "stream",
     "text": [
      "2024-02-02 22:46:33.543201: E tensorflow/stream_executor/cuda/cuda_blas.cc:2981] Unable to register cuBLAS factory: Attempting to register factory for plugin cuBLAS when one has already been registered\n",
      "2024-02-02 22:46:34.184573: W tensorflow/stream_executor/platform/default/dso_loader.cc:64] Could not load dynamic library 'libnvinfer.so.7'; dlerror: libnvinfer.so.7: cannot open shared object file: No such file or directory\n",
      "2024-02-02 22:46:34.184656: W tensorflow/stream_executor/platform/default/dso_loader.cc:64] Could not load dynamic library 'libnvinfer_plugin.so.7'; dlerror: libnvinfer_plugin.so.7: cannot open shared object file: No such file or directory\n",
      "2024-02-02 22:46:34.184663: W tensorflow/compiler/tf2tensorrt/utils/py_utils.cc:38] TF-TRT Warning: Cannot dlopen some TensorRT libraries. If you would like to use Nvidia GPU with TensorRT, please make sure the missing libraries mentioned above are installed properly.\n"
     ]
    }
   ],
   "source": [
    "%load_ext autoreload\n",
    "%autoreload 2\n",
    "# this only works on startup!\n",
    "from jax import config\n",
    "config.update(\"jax_enable_x64\", True)\n",
    "\n",
    "import os\n",
    "os.environ[\"CUDA_DEVICE_ORDER\"] = \"PCI_BUS_ID\" \n",
    "os.environ[\"CUDA_VISIBLE_DEVICES\"] = '0'\n",
    "from encoding_information.gpu_utils import limit_gpu_memory_growth\n",
    "# limit_gpu_memory_growth()\n",
    "\n",
    "from cleanplots import *\n",
    "from tqdm import tqdm\n",
    "from signal_utils_1D import *\n"
   ]
  },
  {
   "attachments": {},
   "cell_type": "markdown",
   "metadata": {},
   "source": [
    "## Max mutual information vs sampling density for different samples"
   ]
  },
  {
   "cell_type": "code",
   "execution_count": 2,
   "metadata": {
    "execution": {
     "iopub.execute_input": "2024-02-03T06:46:35.076292Z",
     "iopub.status.busy": "2024-02-03T06:46:35.075781Z",
     "iopub.status.idle": "2024-02-03T16:23:32.320828Z",
     "shell.execute_reply": "2024-02-03T16:23:32.320246Z"
    }
   },
   "outputs": [
    {
     "name": "stdout",
     "output_type": "stream",
     "text": [
      "white_noise\n"
     ]
    },
    {
     "name": "stderr",
     "output_type": "stream",
     "text": [
      "  0%|                                                       | 0/6 [00:00<?, ?it/s]"
     ]
    },
    {
     "name": "stdout",
     "output_type": "stream",
     "text": [
      "initial loss -0.18263497685915195\n",
      "computing optimized mi\n",
      "white_noise :  0.014883671921051994\n",
      "initial loss -0.07329013589160491\n",
      "computing optimized mi\n",
      "white_noise :  -0.02253700118428136\n",
      "initial loss -0.17981616452311133\n",
      "computing optimized mi\n",
      "white_noise :  -0.04985334958612298\n",
      "initial loss -0.06919598701661342\n",
      "computing optimized mi\n",
      "white_noise :  0.017790866651236914\n",
      "initial loss -0.15523737562355866\n",
      "computing optimized mi\n",
      "white_noise :  -0.0015895143091912676\n",
      "initial loss -0.08542758632391283\n",
      "computing optimized mi\n",
      "white_noise :  0.014342958466739325\n",
      "initial loss -0.07276012275066851\n",
      "computing optimized mi\n",
      "white_noise :  0.030225900239221427\n",
      "initial loss -0.06099652451558865\n",
      "computing optimized mi\n",
      "white_noise :  -0.015090840332525198\n",
      "initial loss -0.07245263833934751\n",
      "computing optimized mi\n",
      "white_noise :  0.04495724618152617\n",
      "initial loss -0.1871518983258743\n",
      "computing optimized mi\n",
      "white_noise :  0.06068471563762829\n",
      "initial loss -0.06496423552296386\n",
      "computing optimized mi\n",
      "white_noise :  0.04210783762203115\n"
     ]
    },
    {
     "name": "stderr",
     "output_type": "stream",
     "text": [
      " 17%|███████▏                                   | 1/6 [31:51<2:39:18, 1911.71s/it]"
     ]
    },
    {
     "name": "stdout",
     "output_type": "stream",
     "text": [
      "initial loss -0.1641527058151233\n",
      "computing optimized mi\n",
      "white_noise :  1.1854601926304065\n",
      "initial loss -0.06353392489190128\n",
      "computing optimized mi\n",
      "white_noise :  1.136670778372438\n",
      "initial loss -0.11857543104615376\n",
      "computing optimized mi\n",
      "white_noise :  1.1413775995612514\n",
      "initial loss -0.07192479637012378\n",
      "computing optimized mi\n",
      "white_noise :  1.1821127223140127\n",
      "initial loss -0.14529846493782445\n",
      "computing optimized mi\n",
      "white_noise :  1.1755416091898465\n",
      "initial loss -0.09549633791158338\n",
      "computing optimized mi\n",
      "white_noise :  1.1823768876657381\n",
      "initial loss -0.10760782500943271\n",
      "computing optimized mi\n",
      "white_noise :  1.1505876144802565\n",
      "initial loss -0.06387536766584594\n",
      "computing optimized mi\n",
      "white_noise :  1.1554884320992431\n",
      "initial loss -0.08253162480381938\n",
      "computing optimized mi\n",
      "white_noise :  1.1689085823113698\n",
      "initial loss -0.052686668738560184\n",
      "computing optimized mi\n",
      "white_noise :  1.212791675505524\n",
      "initial loss -0.10225700606379196\n",
      "computing optimized mi\n"
     ]
    },
    {
     "name": "stderr",
     "output_type": "stream",
     "text": [
      " 33%|█████████████▋                           | 2/6 [1:05:34<2:11:48, 1977.23s/it]"
     ]
    },
    {
     "name": "stdout",
     "output_type": "stream",
     "text": [
      "white_noise :  1.1968344372278692\n",
      "initial loss -0.07249277220238251\n",
      "computing optimized mi\n",
      "white_noise :  1.1692332596894934\n",
      "initial loss -0.05247026882768672\n",
      "computing optimized mi\n",
      "white_noise :  1.1641480766687817\n",
      "initial loss -0.09182773135327067\n",
      "computing optimized mi\n",
      "white_noise :  1.1729783538946819\n",
      "initial loss -0.06411714319973953\n",
      "computing optimized mi\n",
      "white_noise :  1.171214499827433\n",
      "initial loss -0.10669961876689352\n",
      "computing optimized mi\n",
      "white_noise :  1.2130599425741646\n",
      "initial loss -0.10863333176510659\n",
      "computing optimized mi\n",
      "white_noise :  1.1767908652990087\n",
      "initial loss -0.14930681646869398\n",
      "computing optimized mi\n",
      "white_noise :  1.1566331227566806\n",
      "initial loss -0.07164417776850762\n",
      "computing optimized mi\n",
      "white_noise :  1.1684380119119038\n",
      "initial loss -0.09411125083180699\n",
      "computing optimized mi\n",
      "white_noise :  1.1670263783136217\n",
      "initial loss -0.06936412414593461\n",
      "computing optimized mi\n",
      "white_noise :  1.2180997221750482\n",
      "initial loss -0.1076294118666529\n",
      "computing optimized mi\n"
     ]
    },
    {
     "name": "stderr",
     "output_type": "stream",
     "text": [
      " 50%|████████████████████▌                    | 3/6 [1:38:57<1:39:27, 1989.07s/it]"
     ]
    },
    {
     "name": "stdout",
     "output_type": "stream",
     "text": [
      "white_noise :  1.1964189012766793\n",
      "initial loss -0.13285175779002462\n",
      "computing optimized mi\n",
      "white_noise :  0.9183511831051294\n",
      "initial loss -0.08197389761724774\n",
      "computing optimized mi\n",
      "white_noise :  0.9030130823705806\n",
      "initial loss -0.044516144116875295\n",
      "computing optimized mi\n",
      "white_noise :  0.9510774177725115\n",
      "initial loss -0.09811518076250306\n",
      "computing optimized mi\n",
      "white_noise :  0.9013317799757459\n",
      "initial loss -0.08763535691992339\n",
      "computing optimized mi\n",
      "white_noise :  0.9185245416171991\n",
      "initial loss -0.05857125368287705\n",
      "computing optimized mi\n",
      "white_noise :  0.9086169650662944\n",
      "initial loss -0.08408195727473264\n",
      "computing optimized mi\n",
      "white_noise :  0.8961681728662408\n",
      "initial loss -0.06420809948749401\n",
      "computing optimized mi\n",
      "white_noise :  0.9574228896587457\n",
      "initial loss -0.16802470606097328\n",
      "computing optimized mi\n",
      "white_noise :  0.9099859469671624\n",
      "initial loss -0.10663685915570542\n",
      "computing optimized mi\n",
      "white_noise :  0.9207300471318638\n",
      "initial loss -0.11574227003384494\n",
      "computing optimized mi\n"
     ]
    },
    {
     "name": "stderr",
     "output_type": "stream",
     "text": [
      " 67%|███████████████████████████▎             | 4/6 [2:07:56<1:03:00, 1890.04s/it]"
     ]
    },
    {
     "name": "stdout",
     "output_type": "stream",
     "text": [
      "white_noise :  0.9103078984895775\n",
      "initial loss -0.11299930410450026\n",
      "computing optimized mi\n",
      "white_noise :  0.636734369944205\n",
      "initial loss -0.07992906604299628\n",
      "computing optimized mi\n",
      "white_noise :  0.6313286112622851\n",
      "initial loss -0.05307731677777906\n",
      "computing optimized mi\n",
      "white_noise :  0.6291547505553793\n",
      "initial loss -0.07807793216609932\n",
      "computing optimized mi\n",
      "white_noise :  0.6404835917330142\n",
      "initial loss -0.10633693451304684\n",
      "computing optimized mi\n",
      "white_noise :  0.6261856420708838\n",
      "initial loss -0.12980332521608123\n",
      "computing optimized mi\n",
      "white_noise :  0.6272037793639915\n",
      "initial loss -0.08862461860290816\n",
      "computing optimized mi\n",
      "white_noise :  0.6231518681096638\n",
      "initial loss -0.12039122814488859\n",
      "computing optimized mi\n",
      "white_noise :  0.6410669568847408\n",
      "initial loss -0.12149182798473107\n",
      "computing optimized mi\n",
      "white_noise :  0.6176828198122265\n",
      "initial loss -0.051697082905255085\n",
      "computing optimized mi\n",
      "white_noise :  0.6293033435657247\n",
      "initial loss -0.13757317682439296\n",
      "computing optimized mi\n"
     ]
    },
    {
     "name": "stderr",
     "output_type": "stream",
     "text": [
      " 83%|███████████████████████████████████▊       | 5/6 [2:36:19<30:22, 1822.74s/it]"
     ]
    },
    {
     "name": "stdout",
     "output_type": "stream",
     "text": [
      "white_noise :  0.6550071826330767\n",
      "initial loss -0.04509105470160715\n",
      "computing optimized mi\n",
      "white_noise :  0.4496970577760635\n",
      "initial loss -0.11693620465138008\n",
      "computing optimized mi\n",
      "white_noise :  0.45184202539762447\n",
      "initial loss -0.07969356875486594\n",
      "computing optimized mi\n",
      "white_noise :  0.4465270735553602\n",
      "initial loss -0.08483270044198389\n",
      "computing optimized mi\n",
      "white_noise :  0.4682945737097642\n",
      "initial loss -0.05580072272299724\n",
      "computing optimized mi\n",
      "white_noise :  0.4377738445570467\n",
      "initial loss -0.07834236802078332\n",
      "computing optimized mi\n",
      "white_noise :  0.43685201754842207\n",
      "initial loss -0.10242405419309883\n",
      "computing optimized mi\n",
      "white_noise :  0.4405186876648171\n",
      "initial loss -0.13699035035674137\n",
      "computing optimized mi\n",
      "white_noise :  0.4549184510562584\n",
      "initial loss -0.14546706876261323\n",
      "computing optimized mi\n",
      "white_noise :  0.4493393338622689\n",
      "initial loss -0.1467738693372138\n",
      "computing optimized mi\n",
      "white_noise :  0.45329355897090656\n",
      "initial loss -0.06126574211274384\n",
      "computing optimized mi\n"
     ]
    },
    {
     "name": "stderr",
     "output_type": "stream",
     "text": [
      "100%|███████████████████████████████████████████| 6/6 [3:05:47<00:00, 1857.88s/it]\n"
     ]
    },
    {
     "name": "stdout",
     "output_type": "stream",
     "text": [
      "white_noise :  0.45395947579504736\n",
      "delta_uniform\n"
     ]
    },
    {
     "name": "stderr",
     "output_type": "stream",
     "text": [
      "  0%|                                                       | 0/6 [00:00<?, ?it/s]"
     ]
    },
    {
     "name": "stdout",
     "output_type": "stream",
     "text": [
      "initial loss -3.8281565928047865\n",
      "computing optimized mi\n"
     ]
    },
    {
     "name": "stderr",
     "output_type": "stream",
     "text": [
      "/home/hpinkard_waller/GitRepos/EncodingInformation/encoding_information/information_estimation.py:226: UserWarning: 0.02% of pixels are negative.\n",
      "  warnings.warn(f\"{np.sum(clean_images_if_available < 0) / clean_images_if_available.size:.2%} of pixels are negative.\")\n"
     ]
    },
    {
     "name": "stdout",
     "output_type": "stream",
     "text": [
      "delta_uniform :  -0.02218202899290052\n",
      "initial loss -4.343358768418401\n",
      "computing optimized mi\n"
     ]
    },
    {
     "name": "stderr",
     "output_type": "stream",
     "text": [
      "/home/hpinkard_waller/GitRepos/EncodingInformation/encoding_information/information_estimation.py:226: UserWarning: 0.01% of pixels are negative.\n",
      "  warnings.warn(f\"{np.sum(clean_images_if_available < 0) / clean_images_if_available.size:.2%} of pixels are negative.\")\n"
     ]
    },
    {
     "name": "stdout",
     "output_type": "stream",
     "text": [
      "delta_uniform :  -0.05412402277234825\n",
      "initial loss -4.520908696386927\n",
      "computing optimized mi\n",
      "delta_uniform :  -0.04771113368697584\n",
      "initial loss -3.6342536518148627\n",
      "computing optimized mi\n",
      "delta_uniform :  0.007144452632225606\n",
      "initial loss -4.156643957502019\n",
      "computing optimized mi\n",
      "delta_uniform :  0.03544316593579559\n",
      "initial loss -4.262474333207258\n",
      "computing optimized mi\n"
     ]
    },
    {
     "name": "stderr",
     "output_type": "stream",
     "text": [
      "/home/hpinkard_waller/GitRepos/EncodingInformation/encoding_information/information_estimation.py:226: UserWarning: 0.04% of pixels are negative.\n",
      "  warnings.warn(f\"{np.sum(clean_images_if_available < 0) / clean_images_if_available.size:.2%} of pixels are negative.\")\n"
     ]
    },
    {
     "name": "stdout",
     "output_type": "stream",
     "text": [
      "delta_uniform :  -0.04229299225419392\n",
      "initial loss -3.7422949070066203\n",
      "computing optimized mi\n"
     ]
    },
    {
     "name": "stderr",
     "output_type": "stream",
     "text": [
      "/home/hpinkard_waller/GitRepos/EncodingInformation/encoding_information/information_estimation.py:226: UserWarning: 0.03% of pixels are negative.\n",
      "  warnings.warn(f\"{np.sum(clean_images_if_available < 0) / clean_images_if_available.size:.2%} of pixels are negative.\")\n"
     ]
    },
    {
     "name": "stdout",
     "output_type": "stream",
     "text": [
      "delta_uniform :  0.03886906034098274\n",
      "initial loss -3.946670808664156\n",
      "computing optimized mi\n",
      "delta_uniform :  -0.0541529158576932\n",
      "initial loss -3.790807696105385\n",
      "computing optimized mi\n",
      "delta_uniform :  -0.0032873270385089144\n",
      "initial loss -4.1430475871220604\n",
      "computing optimized mi\n",
      "delta_uniform :  0.0020675247787554953\n",
      "initial loss -4.17513196757605\n",
      "computing optimized mi\n"
     ]
    },
    {
     "name": "stderr",
     "output_type": "stream",
     "text": [
      " 17%|███████▏                                   | 1/6 [28:05<2:20:27, 1685.45s/it]"
     ]
    },
    {
     "name": "stdout",
     "output_type": "stream",
     "text": [
      "delta_uniform :  0.06049897437469646\n",
      "initial loss -3.92272740276361\n",
      "computing optimized mi\n",
      "delta_uniform :  7.040489841329726\n",
      "initial loss -4.5119484564571275\n",
      "computing optimized mi\n",
      "delta_uniform :  7.232224355678826\n",
      "initial loss -4.140285414354737\n",
      "computing optimized mi\n",
      "delta_uniform :  7.315214927817976\n",
      "initial loss -3.2783191862744916\n",
      "computing optimized mi\n",
      "delta_uniform :  7.1467668643957\n",
      "initial loss -3.5574538654426675\n",
      "computing optimized mi\n",
      "delta_uniform :  7.3189242496317855\n",
      "initial loss -3.697875931478493\n",
      "computing optimized mi\n",
      "delta_uniform :  6.0504435064832265\n",
      "initial loss -3.745306560459463\n",
      "computing optimized mi\n",
      "delta_uniform :  7.191774036195894\n",
      "initial loss -4.243340328178492\n",
      "computing optimized mi\n",
      "delta_uniform :  5.285492192669592\n",
      "initial loss -3.7709797659533457\n",
      "computing optimized mi\n",
      "delta_uniform :  6.325458899686134\n",
      "initial loss -4.340639373315856\n",
      "computing optimized mi\n",
      "delta_uniform :  6.778428181389806\n",
      "initial loss -3.2911621737439605\n",
      "computing optimized mi\n"
     ]
    },
    {
     "name": "stderr",
     "output_type": "stream",
     "text": [
      " 33%|█████████████▋                           | 2/6 [1:02:22<2:06:56, 1904.04s/it]"
     ]
    },
    {
     "name": "stdout",
     "output_type": "stream",
     "text": [
      "delta_uniform :  7.285087694970433\n",
      "initial loss -4.493911204381253\n",
      "computing optimized mi\n",
      "delta_uniform :  7.151373221849704\n",
      "initial loss -3.9023683772772513\n",
      "computing optimized mi\n",
      "delta_uniform :  5.509648850492644\n",
      "initial loss -3.9244061096092153\n",
      "computing optimized mi\n",
      "delta_uniform :  6.531942620306523\n",
      "initial loss -3.479978932480151\n",
      "computing optimized mi\n",
      "delta_uniform :  5.34633412523332\n",
      "initial loss -3.5226387771229\n",
      "computing optimized mi\n",
      "delta_uniform :  6.830911757121602\n",
      "initial loss -4.282205189666149\n",
      "computing optimized mi\n",
      "delta_uniform :  4.014482590756041\n",
      "initial loss -4.263333700448187\n",
      "computing optimized mi\n"
     ]
    },
    {
     "name": "stderr",
     "output_type": "stream",
     "text": [
      "/home/hpinkard_waller/GitRepos/EncodingInformation/encoding_information/information_estimation.py:226: UserWarning: 0.00% of pixels are negative.\n",
      "  warnings.warn(f\"{np.sum(clean_images_if_available < 0) / clean_images_if_available.size:.2%} of pixels are negative.\")\n"
     ]
    },
    {
     "name": "stdout",
     "output_type": "stream",
     "text": [
      "delta_uniform :  6.863811350301054\n",
      "initial loss -3.9976325970232773\n",
      "computing optimized mi\n",
      "delta_uniform :  5.925623976065122\n",
      "initial loss -4.236757461587733\n",
      "computing optimized mi\n",
      "delta_uniform :  9.892857852414082\n",
      "initial loss -3.6420686137316416\n",
      "computing optimized mi\n",
      "delta_uniform :  7.024191363606054\n",
      "initial loss -4.434111391169353\n",
      "computing optimized mi\n"
     ]
    },
    {
     "name": "stderr",
     "output_type": "stream",
     "text": [
      " 50%|████████████████████▌                    | 3/6 [1:35:39<1:37:19, 1946.62s/it]"
     ]
    },
    {
     "name": "stdout",
     "output_type": "stream",
     "text": [
      "delta_uniform :  6.803501850157691\n",
      "initial loss -4.283624444512943\n",
      "computing optimized mi\n",
      "delta_uniform :  2.381894648862286\n",
      "initial loss -3.9430243347808007\n",
      "computing optimized mi\n",
      "delta_uniform :  5.064793733375549\n",
      "initial loss -4.219751162552027\n",
      "computing optimized mi\n",
      "delta_uniform :  5.333265530678427\n",
      "initial loss -3.853579097007488\n",
      "computing optimized mi\n",
      "delta_uniform :  3.0686488909816187\n",
      "initial loss -4.135123870085126\n",
      "computing optimized mi\n",
      "delta_uniform :  5.0989797567834545\n",
      "initial loss -4.122327941897584\n",
      "computing optimized mi\n",
      "delta_uniform :  2.6845222006265184\n",
      "initial loss -4.432285117938494\n",
      "computing optimized mi\n",
      "delta_uniform :  3.8837957492066764\n",
      "initial loss -3.9755525754507017\n",
      "computing optimized mi\n",
      "delta_uniform :  2.738345891040543\n",
      "initial loss -3.9366629121555974\n",
      "computing optimized mi\n",
      "delta_uniform :  2.212114751791728\n",
      "initial loss -3.9020436918457504\n",
      "computing optimized mi\n",
      "delta_uniform :  6.328670844925813\n",
      "initial loss -4.290786846674755\n",
      "computing optimized mi\n"
     ]
    },
    {
     "name": "stderr",
     "output_type": "stream",
     "text": [
      " 67%|███████████████████████████▎             | 4/6 [2:10:43<1:06:56, 2008.46s/it]"
     ]
    },
    {
     "name": "stdout",
     "output_type": "stream",
     "text": [
      "delta_uniform :  3.6626797187841738\n",
      "initial loss -4.239662621412522\n",
      "computing optimized mi\n"
     ]
    },
    {
     "name": "stderr",
     "output_type": "stream",
     "text": [
      "/home/hpinkard_waller/GitRepos/EncodingInformation/encoding_information/information_estimation.py:226: UserWarning: 0.91% of pixels are negative.\n",
      "  warnings.warn(f\"{np.sum(clean_images_if_available < 0) / clean_images_if_available.size:.2%} of pixels are negative.\")\n"
     ]
    },
    {
     "name": "stdout",
     "output_type": "stream",
     "text": [
      "delta_uniform :  1.4141165897622037\n",
      "initial loss -3.965804498632574\n",
      "computing optimized mi\n"
     ]
    },
    {
     "name": "stderr",
     "output_type": "stream",
     "text": [
      "/home/hpinkard_waller/GitRepos/EncodingInformation/encoding_information/information_estimation.py:226: UserWarning: 0.65% of pixels are negative.\n",
      "  warnings.warn(f\"{np.sum(clean_images_if_available < 0) / clean_images_if_available.size:.2%} of pixels are negative.\")\n"
     ]
    },
    {
     "name": "stdout",
     "output_type": "stream",
     "text": [
      "delta_uniform :  5.879754812450376\n",
      "initial loss -3.763938899819906\n",
      "computing optimized mi\n"
     ]
    },
    {
     "name": "stderr",
     "output_type": "stream",
     "text": [
      "/home/hpinkard_waller/GitRepos/EncodingInformation/encoding_information/information_estimation.py:226: UserWarning: 1.05% of pixels are negative.\n",
      "  warnings.warn(f\"{np.sum(clean_images_if_available < 0) / clean_images_if_available.size:.2%} of pixels are negative.\")\n"
     ]
    },
    {
     "name": "stdout",
     "output_type": "stream",
     "text": [
      "delta_uniform :  1.6321809600277966\n",
      "initial loss -4.0944812765941725\n",
      "computing optimized mi\n"
     ]
    },
    {
     "name": "stderr",
     "output_type": "stream",
     "text": [
      "/home/hpinkard_waller/GitRepos/EncodingInformation/encoding_information/information_estimation.py:226: UserWarning: 0.62% of pixels are negative.\n",
      "  warnings.warn(f\"{np.sum(clean_images_if_available < 0) / clean_images_if_available.size:.2%} of pixels are negative.\")\n"
     ]
    },
    {
     "name": "stdout",
     "output_type": "stream",
     "text": [
      "delta_uniform :  5.989808574529297\n",
      "initial loss -4.203954572233448\n",
      "computing optimized mi\n",
      "delta_uniform :  5.419538869769948\n",
      "initial loss -4.0358300499284505\n",
      "computing optimized mi\n"
     ]
    },
    {
     "name": "stderr",
     "output_type": "stream",
     "text": [
      "/home/hpinkard_waller/GitRepos/EncodingInformation/encoding_information/information_estimation.py:226: UserWarning: 0.94% of pixels are negative.\n",
      "  warnings.warn(f\"{np.sum(clean_images_if_available < 0) / clean_images_if_available.size:.2%} of pixels are negative.\")\n"
     ]
    },
    {
     "name": "stdout",
     "output_type": "stream",
     "text": [
      "delta_uniform :  1.65855484350291\n",
      "initial loss -4.5625914671011305\n",
      "computing optimized mi\n"
     ]
    },
    {
     "name": "stderr",
     "output_type": "stream",
     "text": [
      "/home/hpinkard_waller/GitRepos/EncodingInformation/encoding_information/information_estimation.py:226: UserWarning: 0.76% of pixels are negative.\n",
      "  warnings.warn(f\"{np.sum(clean_images_if_available < 0) / clean_images_if_available.size:.2%} of pixels are negative.\")\n"
     ]
    },
    {
     "name": "stdout",
     "output_type": "stream",
     "text": [
      "delta_uniform :  1.501332431667751\n",
      "initial loss -3.88871106237916\n",
      "computing optimized mi\n"
     ]
    },
    {
     "name": "stderr",
     "output_type": "stream",
     "text": [
      "/home/hpinkard_waller/GitRepos/EncodingInformation/encoding_information/information_estimation.py:226: UserWarning: 0.83% of pixels are negative.\n",
      "  warnings.warn(f\"{np.sum(clean_images_if_available < 0) / clean_images_if_available.size:.2%} of pixels are negative.\")\n"
     ]
    },
    {
     "name": "stdout",
     "output_type": "stream",
     "text": [
      "delta_uniform :  1.9786173084810108\n",
      "initial loss -4.283795986265952\n",
      "computing optimized mi\n"
     ]
    },
    {
     "name": "stderr",
     "output_type": "stream",
     "text": [
      "/home/hpinkard_waller/GitRepos/EncodingInformation/encoding_information/information_estimation.py:226: UserWarning: 0.84% of pixels are negative.\n",
      "  warnings.warn(f\"{np.sum(clean_images_if_available < 0) / clean_images_if_available.size:.2%} of pixels are negative.\")\n"
     ]
    },
    {
     "name": "stdout",
     "output_type": "stream",
     "text": [
      "delta_uniform :  1.687474070210793\n",
      "initial loss -3.5233944012055165\n",
      "computing optimized mi\n"
     ]
    },
    {
     "name": "stderr",
     "output_type": "stream",
     "text": [
      "/home/hpinkard_waller/GitRepos/EncodingInformation/encoding_information/information_estimation.py:226: UserWarning: 0.87% of pixels are negative.\n",
      "  warnings.warn(f\"{np.sum(clean_images_if_available < 0) / clean_images_if_available.size:.2%} of pixels are negative.\")\n"
     ]
    },
    {
     "name": "stdout",
     "output_type": "stream",
     "text": [
      "delta_uniform :  5.901254019669433\n",
      "initial loss -4.175401918980113\n",
      "computing optimized mi\n"
     ]
    },
    {
     "name": "stderr",
     "output_type": "stream",
     "text": [
      " 83%|███████████████████████████████████▊       | 5/6 [2:44:54<33:43, 2023.90s/it]"
     ]
    },
    {
     "name": "stdout",
     "output_type": "stream",
     "text": [
      "delta_uniform :  3.4228024070570497\n",
      "initial loss -4.34984892544675\n",
      "computing optimized mi\n"
     ]
    },
    {
     "name": "stderr",
     "output_type": "stream",
     "text": [
      "/home/hpinkard_waller/GitRepos/EncodingInformation/encoding_information/information_estimation.py:226: UserWarning: 2.43% of pixels are negative.\n",
      "  warnings.warn(f\"{np.sum(clean_images_if_available < 0) / clean_images_if_available.size:.2%} of pixels are negative.\")\n"
     ]
    },
    {
     "name": "stdout",
     "output_type": "stream",
     "text": [
      "delta_uniform :  1.511237268516836\n",
      "initial loss -4.315119995664324\n",
      "computing optimized mi\n"
     ]
    },
    {
     "name": "stderr",
     "output_type": "stream",
     "text": [
      "/home/hpinkard_waller/GitRepos/EncodingInformation/encoding_information/information_estimation.py:226: UserWarning: 2.91% of pixels are negative.\n",
      "  warnings.warn(f\"{np.sum(clean_images_if_available < 0) / clean_images_if_available.size:.2%} of pixels are negative.\")\n"
     ]
    },
    {
     "name": "stdout",
     "output_type": "stream",
     "text": [
      "delta_uniform :  1.5766979930188416\n",
      "initial loss -3.8218957826383866\n",
      "computing optimized mi\n"
     ]
    },
    {
     "name": "stderr",
     "output_type": "stream",
     "text": [
      "/home/hpinkard_waller/GitRepos/EncodingInformation/encoding_information/information_estimation.py:226: UserWarning: 2.53% of pixels are negative.\n",
      "  warnings.warn(f\"{np.sum(clean_images_if_available < 0) / clean_images_if_available.size:.2%} of pixels are negative.\")\n"
     ]
    },
    {
     "name": "stdout",
     "output_type": "stream",
     "text": [
      "delta_uniform :  1.6687210939813064\n",
      "initial loss -3.8534175596677955\n",
      "computing optimized mi\n"
     ]
    },
    {
     "name": "stderr",
     "output_type": "stream",
     "text": [
      "/home/hpinkard_waller/GitRepos/EncodingInformation/encoding_information/information_estimation.py:226: UserWarning: 2.69% of pixels are negative.\n",
      "  warnings.warn(f\"{np.sum(clean_images_if_available < 0) / clean_images_if_available.size:.2%} of pixels are negative.\")\n"
     ]
    },
    {
     "name": "stdout",
     "output_type": "stream",
     "text": [
      "delta_uniform :  3.299233572363319\n",
      "initial loss -3.6183989795207965\n",
      "computing optimized mi\n"
     ]
    },
    {
     "name": "stderr",
     "output_type": "stream",
     "text": [
      "/home/hpinkard_waller/GitRepos/EncodingInformation/encoding_information/information_estimation.py:226: UserWarning: 2.61% of pixels are negative.\n",
      "  warnings.warn(f\"{np.sum(clean_images_if_available < 0) / clean_images_if_available.size:.2%} of pixels are negative.\")\n"
     ]
    },
    {
     "name": "stdout",
     "output_type": "stream",
     "text": [
      "delta_uniform :  2.8802535659149653\n",
      "initial loss -4.1955967040482856\n",
      "computing optimized mi\n"
     ]
    },
    {
     "name": "stderr",
     "output_type": "stream",
     "text": [
      "/home/hpinkard_waller/GitRepos/EncodingInformation/encoding_information/information_estimation.py:226: UserWarning: 2.56% of pixels are negative.\n",
      "  warnings.warn(f\"{np.sum(clean_images_if_available < 0) / clean_images_if_available.size:.2%} of pixels are negative.\")\n"
     ]
    },
    {
     "name": "stdout",
     "output_type": "stream",
     "text": [
      "delta_uniform :  3.139446555238494\n",
      "initial loss -4.213389447503947\n",
      "computing optimized mi\n"
     ]
    },
    {
     "name": "stderr",
     "output_type": "stream",
     "text": [
      "/home/hpinkard_waller/GitRepos/EncodingInformation/encoding_information/information_estimation.py:226: UserWarning: 2.55% of pixels are negative.\n",
      "  warnings.warn(f\"{np.sum(clean_images_if_available < 0) / clean_images_if_available.size:.2%} of pixels are negative.\")\n"
     ]
    },
    {
     "name": "stdout",
     "output_type": "stream",
     "text": [
      "delta_uniform :  4.564791986308417\n",
      "initial loss -4.005940986669978\n",
      "computing optimized mi\n"
     ]
    },
    {
     "name": "stderr",
     "output_type": "stream",
     "text": [
      "/home/hpinkard_waller/GitRepos/EncodingInformation/encoding_information/information_estimation.py:226: UserWarning: 3.00% of pixels are negative.\n",
      "  warnings.warn(f\"{np.sum(clean_images_if_available < 0) / clean_images_if_available.size:.2%} of pixels are negative.\")\n"
     ]
    },
    {
     "name": "stdout",
     "output_type": "stream",
     "text": [
      "delta_uniform :  1.8938876597969299\n",
      "initial loss -4.30087361161675\n",
      "computing optimized mi\n"
     ]
    },
    {
     "name": "stderr",
     "output_type": "stream",
     "text": [
      "/home/hpinkard_waller/GitRepos/EncodingInformation/encoding_information/information_estimation.py:226: UserWarning: 2.38% of pixels are negative.\n",
      "  warnings.warn(f\"{np.sum(clean_images_if_available < 0) / clean_images_if_available.size:.2%} of pixels are negative.\")\n"
     ]
    },
    {
     "name": "stdout",
     "output_type": "stream",
     "text": [
      "delta_uniform :  1.3762047462266\n",
      "initial loss -4.622543231723569\n",
      "computing optimized mi\n"
     ]
    },
    {
     "name": "stderr",
     "output_type": "stream",
     "text": [
      "/home/hpinkard_waller/GitRepos/EncodingInformation/encoding_information/information_estimation.py:226: UserWarning: 2.13% of pixels are negative.\n",
      "  warnings.warn(f\"{np.sum(clean_images_if_available < 0) / clean_images_if_available.size:.2%} of pixels are negative.\")\n"
     ]
    },
    {
     "name": "stdout",
     "output_type": "stream",
     "text": [
      "delta_uniform :  5.6799852806735585\n",
      "initial loss -4.100155905881431\n",
      "computing optimized mi\n"
     ]
    },
    {
     "name": "stderr",
     "output_type": "stream",
     "text": [
      "/home/hpinkard_waller/GitRepos/EncodingInformation/encoding_information/information_estimation.py:226: UserWarning: 2.59% of pixels are negative.\n",
      "  warnings.warn(f\"{np.sum(clean_images_if_available < 0) / clean_images_if_available.size:.2%} of pixels are negative.\")\n",
      "100%|███████████████████████████████████████████| 6/6 [3:18:38<00:00, 1986.34s/it]\n"
     ]
    },
    {
     "name": "stdout",
     "output_type": "stream",
     "text": [
      "delta_uniform :  5.52788382425049\n",
      "8_deltas_uniform\n"
     ]
    },
    {
     "name": "stderr",
     "output_type": "stream",
     "text": [
      "  0%|                                                       | 0/6 [00:00<?, ?it/s]"
     ]
    },
    {
     "name": "stdout",
     "output_type": "stream",
     "text": [
      "initial loss -2.706743748473575\n",
      "computing optimized mi\n",
      "8_deltas_uniform :  -0.025973902479123727\n",
      "initial loss -2.6337195906902764\n",
      "computing optimized mi\n",
      "8_deltas_uniform :  0.051276576704829206\n",
      "initial loss -2.611660445199867\n",
      "computing optimized mi\n",
      "8_deltas_uniform :  0.09357467778863181\n",
      "initial loss -2.5029484456009747\n",
      "computing optimized mi\n",
      "8_deltas_uniform :  0.0531670100031132\n",
      "initial loss -2.332652918730568\n",
      "computing optimized mi\n",
      "8_deltas_uniform :  -0.02304331810842147\n",
      "initial loss -2.550016102826557\n",
      "computing optimized mi\n",
      "8_deltas_uniform :  -0.08507126889920548\n",
      "initial loss -2.9284450854048614\n",
      "computing optimized mi\n",
      "8_deltas_uniform :  -0.006604528408350767\n",
      "initial loss -2.77670581625412\n",
      "computing optimized mi\n",
      "8_deltas_uniform :  0.05955650944796827\n",
      "initial loss -2.914593591456341\n",
      "computing optimized mi\n",
      "8_deltas_uniform :  -0.002669565356609706\n",
      "initial loss -2.709894274749777\n",
      "computing optimized mi\n",
      "8_deltas_uniform :  0.02230231554867011\n",
      "initial loss -3.0447875956311714\n",
      "computing optimized mi\n"
     ]
    },
    {
     "name": "stderr",
     "output_type": "stream",
     "text": [
      " 17%|███████▏                                   | 1/6 [27:10<2:15:50, 1630.18s/it]"
     ]
    },
    {
     "name": "stdout",
     "output_type": "stream",
     "text": [
      "8_deltas_uniform :  0.07081518170405117\n",
      "initial loss -2.7328286745100456\n",
      "computing optimized mi\n",
      "8_deltas_uniform :  5.7991782294338705\n",
      "initial loss -2.897833306245454\n",
      "computing optimized mi\n",
      "8_deltas_uniform :  5.542339338635352\n",
      "initial loss -2.978573705213178\n",
      "computing optimized mi\n",
      "8_deltas_uniform :  5.767523790646665\n",
      "initial loss -2.997331651835995\n",
      "computing optimized mi\n",
      "8_deltas_uniform :  5.736322010196531\n",
      "initial loss -2.912772964851162\n",
      "computing optimized mi\n",
      "8_deltas_uniform :  5.709309727121415\n",
      "initial loss -2.551248562973624\n",
      "computing optimized mi\n",
      "8_deltas_uniform :  5.671382737091942\n",
      "initial loss -2.5105529306602206\n",
      "computing optimized mi\n",
      "8_deltas_uniform :  5.828880321168481\n",
      "initial loss -2.7956846009892304\n",
      "computing optimized mi\n",
      "8_deltas_uniform :  5.8162554187339435\n",
      "initial loss -2.343397980994947\n",
      "computing optimized mi\n",
      "8_deltas_uniform :  5.7869454474433\n",
      "initial loss -2.680919525347902\n",
      "computing optimized mi\n",
      "8_deltas_uniform :  5.842502722978022\n",
      "initial loss -2.21290668525031\n",
      "computing optimized mi\n"
     ]
    },
    {
     "name": "stderr",
     "output_type": "stream",
     "text": [
      " 33%|█████████████▋                           | 2/6 [1:02:14<2:07:16, 1909.18s/it]"
     ]
    },
    {
     "name": "stdout",
     "output_type": "stream",
     "text": [
      "8_deltas_uniform :  5.695346111732562\n",
      "initial loss -2.9854964571987272\n",
      "computing optimized mi\n",
      "8_deltas_uniform :  5.50229487234175\n",
      "initial loss -2.847557249046116\n",
      "computing optimized mi\n",
      "8_deltas_uniform :  5.4906660934210105\n",
      "initial loss -2.6881368591576607\n",
      "computing optimized mi\n",
      "8_deltas_uniform :  5.621588918286228\n",
      "initial loss -2.5768637210466583\n",
      "computing optimized mi\n",
      "8_deltas_uniform :  5.542501664391061\n",
      "initial loss -2.742685994002783\n",
      "computing optimized mi\n",
      "8_deltas_uniform :  5.557524692909229\n",
      "initial loss -2.600782825789919\n",
      "computing optimized mi\n",
      "8_deltas_uniform :  5.570397250361008\n",
      "initial loss -2.370149165076823\n",
      "computing optimized mi\n",
      "8_deltas_uniform :  5.703449908374512\n",
      "initial loss -2.7122286988661064\n",
      "computing optimized mi\n",
      "8_deltas_uniform :  5.513073369036624\n",
      "initial loss -3.119577027659621\n",
      "computing optimized mi\n",
      "8_deltas_uniform :  5.7102673006547136\n",
      "initial loss -2.8221081618929076\n",
      "computing optimized mi\n",
      "8_deltas_uniform :  5.5397540695608765\n",
      "initial loss -2.7701468854981215\n",
      "computing optimized mi\n"
     ]
    },
    {
     "name": "stderr",
     "output_type": "stream",
     "text": [
      " 50%|████████████████████▌                    | 3/6 [1:36:45<1:39:08, 1982.84s/it]"
     ]
    },
    {
     "name": "stdout",
     "output_type": "stream",
     "text": [
      "8_deltas_uniform :  5.602791902477527\n",
      "initial loss -2.940263388910638\n",
      "computing optimized mi\n",
      "8_deltas_uniform :  5.121618177081828\n",
      "initial loss -2.5504709272288855\n",
      "computing optimized mi\n",
      "8_deltas_uniform :  5.141514505994844\n",
      "initial loss -2.938530706214704\n",
      "computing optimized mi\n",
      "8_deltas_uniform :  5.113949126714553\n",
      "initial loss -2.816531609428594\n",
      "computing optimized mi\n",
      "8_deltas_uniform :  5.133041952682739\n",
      "initial loss -2.8813658506455986\n",
      "computing optimized mi\n",
      "8_deltas_uniform :  5.295550423274817\n",
      "initial loss -2.541880209165302\n",
      "computing optimized mi\n",
      "8_deltas_uniform :  5.164923408569083\n",
      "initial loss -2.67813348824948\n",
      "computing optimized mi\n",
      "8_deltas_uniform :  4.845215915782363\n",
      "initial loss -2.449454491285139\n",
      "computing optimized mi\n",
      "8_deltas_uniform :  5.21197648598394\n",
      "initial loss -2.4543381947725504\n",
      "computing optimized mi\n",
      "8_deltas_uniform :  5.143893370021579\n",
      "initial loss -3.1225083445802366\n",
      "computing optimized mi\n",
      "8_deltas_uniform :  4.794130189170074\n",
      "initial loss -2.677105659270701\n",
      "computing optimized mi\n"
     ]
    },
    {
     "name": "stderr",
     "output_type": "stream",
     "text": [
      " 67%|███████████████████████████▎             | 4/6 [2:08:29<1:05:03, 1951.78s/it]"
     ]
    },
    {
     "name": "stdout",
     "output_type": "stream",
     "text": [
      "8_deltas_uniform :  5.132224691125839\n",
      "initial loss -2.4845454255040593\n",
      "computing optimized mi\n",
      "8_deltas_uniform :  3.283755121765072\n",
      "initial loss -2.880011449003575\n",
      "computing optimized mi\n",
      "8_deltas_uniform :  3.3807354506560063\n",
      "initial loss -2.9987818744326566\n",
      "computing optimized mi\n",
      "8_deltas_uniform :  3.4117735036225194\n",
      "initial loss -2.6588992434963363\n",
      "computing optimized mi\n",
      "8_deltas_uniform :  3.3041894124099875\n",
      "initial loss -2.604954714337486\n",
      "computing optimized mi\n",
      "8_deltas_uniform :  3.399066049515568\n",
      "initial loss -3.2954631162657546\n",
      "computing optimized mi\n",
      "8_deltas_uniform :  4.215314972567355\n",
      "initial loss -3.229453502580772\n",
      "computing optimized mi\n",
      "8_deltas_uniform :  3.747482262245515\n",
      "initial loss -2.9447490781030083\n",
      "computing optimized mi\n",
      "8_deltas_uniform :  3.3314823711713117\n",
      "initial loss -2.538085360601211\n",
      "computing optimized mi\n",
      "8_deltas_uniform :  3.2872470575081905\n",
      "initial loss -3.100048408170445\n",
      "computing optimized mi\n",
      "8_deltas_uniform :  3.283433170242657\n",
      "initial loss -2.8137358080766663\n",
      "computing optimized mi\n"
     ]
    },
    {
     "name": "stderr",
     "output_type": "stream",
     "text": [
      " 83%|███████████████████████████████████▊       | 5/6 [2:40:23<32:18, 1938.11s/it]"
     ]
    },
    {
     "name": "stdout",
     "output_type": "stream",
     "text": [
      "8_deltas_uniform :  3.3125656554376097\n",
      "initial loss -2.7333637643129727\n",
      "computing optimized mi\n",
      "8_deltas_uniform :  2.3627123660489464\n",
      "initial loss -2.5057425893680776\n",
      "computing optimized mi\n",
      "8_deltas_uniform :  2.333552363629855\n",
      "initial loss -2.896287819508939\n",
      "computing optimized mi\n",
      "8_deltas_uniform :  2.3372162820238365\n",
      "initial loss -2.7356199568910524\n",
      "computing optimized mi\n",
      "8_deltas_uniform :  2.3620299388903225\n",
      "initial loss -2.807853557127908\n",
      "computing optimized mi\n",
      "8_deltas_uniform :  2.391593068643036\n",
      "initial loss -2.6675839883932664\n",
      "computing optimized mi\n",
      "8_deltas_uniform :  2.3631031106317066\n",
      "initial loss -2.3308424387343676\n",
      "computing optimized mi\n",
      "8_deltas_uniform :  2.4533320885803707\n",
      "initial loss -2.914558008480873\n",
      "computing optimized mi\n",
      "8_deltas_uniform :  2.3344714389160663\n",
      "initial loss -2.7163932366017187\n",
      "computing optimized mi\n",
      "8_deltas_uniform :  2.400113777097383\n",
      "initial loss -2.9220656019299573\n",
      "computing optimized mi\n",
      "8_deltas_uniform :  2.3496320535549247\n",
      "initial loss -2.844118276112166\n",
      "computing optimized mi\n"
     ]
    },
    {
     "name": "stderr",
     "output_type": "stream",
     "text": [
      "100%|███████████████████████████████████████████| 6/6 [3:12:31<00:00, 1925.31s/it]"
     ]
    },
    {
     "name": "stdout",
     "output_type": "stream",
     "text": [
      "8_deltas_uniform :  2.4821550050037704\n"
     ]
    },
    {
     "name": "stderr",
     "output_type": "stream",
     "text": [
      "\n"
     ]
    }
   ],
   "source": [
    "from scipy.signal import resample\n",
    "\n",
    "N_objects = 10000\n",
    "noise_sigma = 1e-3\n",
    "num_samples_list = [1, 4, 9, 16, 25, 36] \n",
    "num_bootstrap_samples = 11\n",
    "upsampling_factor = 256\n",
    "max_epochs = 5000\n",
    "\n",
    "confidence = 90\n",
    "num_nyquist_samples = 16\n",
    "object_names = ['white_noise', 'delta_uniform', '8_deltas_uniform']\n",
    "\n",
    "# Fro debugging\n",
    "# # object_names = ['delta_uniform',]\n",
    "# max_epochs = 500\n",
    "# # num_nyquist_samples = 16\n",
    "# num_samples_list = [4]\n",
    "# num_bootstrap_samples = 1\n",
    "\n",
    "\n",
    "\n",
    "upsampled_signal_length = upsampling_factor*num_nyquist_samples\n",
    "objects_fn_delta = lambda : np.array([generate_random_object('delta', num_deltas=1, object_size=upsampled_signal_length) for i in range(N_objects)])\n",
    "objects_fn_8_delta = lambda : np.array([generate_random_object('delta', num_deltas=8, object_size=upsampled_signal_length) for i in range(N_objects)])\n",
    "objects_fn_white_noise = lambda : np.array([generate_random_object('white_noise', object_size=upsampled_signal_length) for i in range(N_objects)])\n",
    "\n",
    "\n",
    "# for debugging\n",
    "fake_images_dict = {}\n",
    "output_signals_dict = {}\n",
    "\n",
    "\n",
    "\n",
    "mi_by_object = {}\n",
    "mi_by_object_hi = {}\n",
    "mi_by_object_lo = {}\n",
    "for name in object_names:\n",
    "  print(name)\n",
    "  mutual_information = []\n",
    "  mi_hi = []\n",
    "  mi_lo = []\n",
    "\n",
    "  if name == 'delta_uniform':\n",
    "    objects_fn = objects_fn_delta\n",
    "  elif name == '8_deltas_uniform':\n",
    "    objects_fn = objects_fn_8_delta\n",
    "  else:\n",
    "    objects_fn = objects_fn_white_noise\n",
    "\n",
    "\n",
    "\n",
    "  # compute the information with this psf when integrating over pixels of different sizes \n",
    "  for num_samples in tqdm(num_samples_list):\n",
    "\n",
    "\n",
    "    runs = []\n",
    "    for i in range(num_bootstrap_samples):\n",
    "        # Find an optimal PSF for this object\n",
    "      initial_kernel, initial_params, optimized_params, objects, _, _ = optimize_PSF_and_estimate_mi(\n",
    "      objects_fn, noise_sigma, num_nyquist_samples=num_nyquist_samples, upsampled_signal_length=upsampled_signal_length,\n",
    "      max_epochs=max_epochs, )\n",
    "\n",
    "      # do the estimation\n",
    "      scale_factor = 1000000 # because these signals are 0-1 but pixel cnn is designed for photon counts\n",
    "      test_objects = objects_fn()\n",
    "      output_signals = conv_forward_model(optimized_params, test_objects,\n",
    "                                                  integrate_output_signals=False, num_nyquist_samples=num_nyquist_samples, upsampled_signal_length=upsampled_signal_length)\n",
    "      \n",
    "      # interpolate to higher resolution before integrating\n",
    "      resampled_signal_length = num_samples * upsampling_factor\n",
    "\n",
    "      resampled_output_signals = resample(output_signals, resampled_signal_length, axis=-1)\n",
    "      # normalize to sum to 1\n",
    "      resampled_output_signals = resampled_output_signals / np.sum(resampled_output_signals, axis=-1, keepdims=True)\n",
    "      pixelated_signal = integrate_pixels(resampled_output_signals, num_samples)\n",
    "\n",
    "      # amount of noise to add to the pixel depends on its area\n",
    "      relative_sampling_area = num_nyquist_samples / num_samples\n",
    "      pixel_variance = noise_sigma**2 * relative_sampling_area\n",
    "\n",
    "      noisy_pixelated_signals = pixelated_signal + jax.random.normal(jax.random.PRNGKey(onp.random.randint(10000)), pixelated_signal.shape) * np.sqrt(pixel_variance)\n",
    "\n",
    "      fake_images = noisy_pixelated_signals.reshape(-1, int(np.sqrt(num_samples)), int(np.sqrt(num_samples))) * scale_factor\n",
    "\n",
    "      fake_images_dict[name] = fake_images\n",
    "      output_signals_dict[name] = output_signals\n",
    "\n",
    "      mi_estimate = estimate_mutual_information(fake_images, gaussian_noise_sigma=float(np.sqrt(pixel_variance) * scale_factor), verbose=False, entropy_model='pixelcnn')                                                      \n",
    "      print(name, ': ', mi_estimate)\n",
    "      runs.append(mi_estimate)\n",
    "    runs = np.array(runs)\n",
    "    mutual_information.append(np.median(runs))\n",
    "    mi_lo.append(np.percentile(np.array(runs), 100-confidence))\n",
    "    mi_hi.append(np.percentile(np.array(runs), confidence))\n",
    "  mi_by_object[name] = mutual_information\n",
    "  mi_by_object_hi[name] = mi_hi\n",
    "  mi_by_object_lo[name] = mi_lo"
   ]
  },
  {
   "cell_type": "code",
   "execution_count": 3,
   "metadata": {
    "execution": {
     "iopub.execute_input": "2024-02-03T16:23:32.326068Z",
     "iopub.status.busy": "2024-02-03T16:23:32.325695Z",
     "iopub.status.idle": "2024-02-03T16:23:33.113302Z",
     "shell.execute_reply": "2024-02-03T16:23:33.112736Z"
    }
   },
   "outputs": [
    {
     "data": {
      "image/png": "[encoded data removed]",
      "text/plain": [
       "<Figure size 500x500 with 1 Axes>"
      ]
     },
     "metadata": {},
     "output_type": "display_data"
    }
   ],
   "source": [
    "fig, ax = plt.subplots(1, 1, figsize=(5, 5))\n",
    "\n",
    "for object_name, mutual_information in mi_by_object.items():\n",
    "    total_mi = np.array(mutual_information) * np.array(num_samples_list)\n",
    "\n",
    "    ax.plot(num_samples_list, total_mi, 'o-', label=object_name)\n",
    "    ax.fill_between(num_samples_list, np.array(mi_by_object_lo[object_name]) * np.array(num_samples_list), \n",
    "                            np.array(mi_by_object_hi[object_name]) * np.array(num_samples_list), alpha=0.4)\n",
    "    ax.set_xlabel('Number of samples')\n",
    "    ax.set_ylabel('Total mutual information (bits)')\n",
    "\n",
    "    ax.set(ylim=(0, max(1.1 * np.max(total_mi), ax.get_ylim()[1])), xlim=(0, ax.get_xlim()[1]))\n",
    "\n",
    "# plot a dashed line at the number of nyquist samples\n",
    "ax.axvline(num_nyquist_samples, linestyle='--', color='k')\n",
    "ax.text(num_nyquist_samples + 3, 0.2 * np.max(total_mi), 'Nyquist sampling rate', rotation=0, va='center')\n",
    "clear_spines(ax)\n",
    "ax.legend()\n",
    "\n",
    "fig.savefig('/home/hpinkard_waller/figures/1d_signals/' + 'mi_vs_sampling_density' + '.pdf', transparent=True)\n"
   ]
  }
 ],
 "metadata": {
  "kernelspec": {
   "display_name": "phenotypes",
   "language": "python",
   "name": "python3"
  },
  "language_info": {
   "codemirror_mode": {
    "name": "ipython",
    "version": 3
   },
   "file_extension": ".py",
   "mimetype": "text/x-python",
   "name": "python",
   "nbconvert_exporter": "python",
   "pygments_lexer": "ipython3",
   "version": "3.10.6"
  }
 },
 "nbformat": 4,
 "nbformat_minor": 2
}
