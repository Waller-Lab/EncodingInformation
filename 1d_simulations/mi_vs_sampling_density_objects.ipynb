{
 "cells": [
  {
   "cell_type": "code",
   "execution_count": 1,
   "metadata": {
    "execution": {
     "iopub.execute_input": "2024-01-24T19:06:46.768929Z",
     "iopub.status.busy": "2024-01-24T19:06:46.768395Z",
     "iopub.status.idle": "2024-01-24T19:06:49.568616Z",
     "shell.execute_reply": "2024-01-24T19:06:49.567872Z"
    }
   },
   "outputs": [
    {
     "name": "stderr",
     "output_type": "stream",
     "text": [
      "2024-01-24 11:06:48.091472: E tensorflow/stream_executor/cuda/cuda_blas.cc:2981] Unable to register cuBLAS factory: Attempting to register factory for plugin cuBLAS when one has already been registered\n",
      "2024-01-24 11:06:48.736464: W tensorflow/stream_executor/platform/default/dso_loader.cc:64] Could not load dynamic library 'libnvinfer.so.7'; dlerror: libnvinfer.so.7: cannot open shared object file: No such file or directory\n",
      "2024-01-24 11:06:48.736544: W tensorflow/stream_executor/platform/default/dso_loader.cc:64] Could not load dynamic library 'libnvinfer_plugin.so.7'; dlerror: libnvinfer_plugin.so.7: cannot open shared object file: No such file or directory\n",
      "2024-01-24 11:06:48.736553: W tensorflow/compiler/tf2tensorrt/utils/py_utils.cc:38] TF-TRT Warning: Cannot dlopen some TensorRT libraries. If you would like to use Nvidia GPU with TensorRT, please make sure the missing libraries mentioned above are installed properly.\n"
     ]
    }
   ],
   "source": [
    "%load_ext autoreload\n",
    "%autoreload 2\n",
    "# this only works on startup!\n",
    "from jax import config\n",
    "config.update(\"jax_enable_x64\", True)\n",
    "\n",
    "import os\n",
    "os.environ[\"CUDA_DEVICE_ORDER\"] = \"PCI_BUS_ID\" \n",
    "os.environ[\"CUDA_VISIBLE_DEVICES\"] = '3'\n",
    "from encoding_information.gpu_utils import limit_gpu_memory_growth\n",
    "# limit_gpu_memory_growth()\n",
    "\n",
    "from cleanplots import *\n",
    "from tqdm import tqdm\n",
    "from signal_utils_1D import *\n"
   ]
  },
  {
   "attachments": {},
   "cell_type": "markdown",
   "metadata": {},
   "source": [
    "## Max mutual information vs sampling density for different samples"
   ]
  },
  {
   "cell_type": "code",
   "execution_count": 2,
   "metadata": {
    "execution": {
     "iopub.execute_input": "2024-01-24T19:06:49.574462Z",
     "iopub.status.busy": "2024-01-24T19:06:49.574132Z",
     "iopub.status.idle": "2024-01-24T21:51:18.612713Z",
     "shell.execute_reply": "2024-01-24T21:51:18.611476Z"
    }
   },
   "outputs": [
    {
     "name": "stdout",
     "output_type": "stream",
     "text": [
      "white_noise\n"
     ]
    },
    {
     "name": "stderr",
     "output_type": "stream",
     "text": [
      "  0%|                                            | 0/6 [00:00<?, ?it/s]"
     ]
    },
    {
     "name": "stdout",
     "output_type": "stream",
     "text": [
      "initial loss -0.26608584243770683\n",
      "computing optimized mi\n",
      "-0.004718361086100501\n",
      "initial loss -0.2579022361795087\n",
      "computing optimized mi\n",
      "-0.036184650853261696\n",
      "initial loss -0.213960086756651\n",
      "computing optimized mi\n",
      "0.034585866011482336\n",
      "initial loss -0.240185183036852\n",
      "computing optimized mi\n",
      "-0.07315369751742931\n",
      "initial loss -0.2658952745888975\n",
      "computing optimized mi\n",
      "-0.01334122723506\n",
      "initial loss -0.1527695906208966\n",
      "computing optimized mi\n",
      "0.027715503074814855\n",
      "initial loss -0.2560339949933667\n",
      "computing optimized mi\n",
      "-0.0041755838399774765\n",
      "initial loss -0.19116000999946556\n",
      "computing optimized mi\n",
      "0.04707421422123432\n",
      "initial loss -0.284620439905239\n",
      "computing optimized mi\n",
      "0.06012253794219561\n",
      "initial loss -0.2602394212535286\n",
      "computing optimized mi\n",
      "-0.05444783251368507\n",
      "initial loss -0.22607264227754884\n",
      "computing optimized mi\n",
      "0.06455109120191294\n"
     ]
    },
    {
     "name": "stderr",
     "output_type": "stream",
     "text": [
      " 17%|█████▊                             | 1/6 [10:46<53:52, 646.49s/it]"
     ]
    },
    {
     "name": "stdout",
     "output_type": "stream",
     "text": [
      "initial loss -0.22975014182517645\n",
      "computing optimized mi\n",
      "1.3662633512982538\n",
      "initial loss -0.2810289310668615\n",
      "computing optimized mi\n",
      "1.5484665871365375\n",
      "initial loss -0.20563175270936346\n",
      "computing optimized mi\n",
      "1.4024330226012112\n",
      "initial loss -0.25394296936388827\n",
      "computing optimized mi\n",
      "1.443796913925527\n",
      "initial loss -0.13294001453426194\n",
      "computing optimized mi\n",
      "1.426361656746357\n",
      "initial loss -0.151995278213294\n",
      "computing optimized mi\n",
      "1.4574454570979993\n",
      "initial loss -0.2893632595476604\n",
      "computing optimized mi\n",
      "1.4334442462741892\n",
      "initial loss -0.13825395472516971\n",
      "computing optimized mi\n",
      "1.3547412016210492\n",
      "initial loss -0.24256704237176452\n",
      "computing optimized mi\n",
      "1.5847958583394954\n",
      "initial loss -0.1397674146727973\n",
      "computing optimized mi\n",
      "1.4727075415008668\n",
      "initial loss -0.16880994561626317\n",
      "computing optimized mi\n"
     ]
    },
    {
     "name": "stderr",
     "output_type": "stream",
     "text": [
      " 33%|███████████▋                       | 2/6 [21:05<42:00, 630.14s/it]"
     ]
    },
    {
     "name": "stdout",
     "output_type": "stream",
     "text": [
      "1.4903770390505118\n",
      "initial loss -0.10823915032229248\n",
      "computing optimized mi\n",
      "1.5114572706653637\n",
      "initial loss -0.12558329216605288\n",
      "computing optimized mi\n",
      "1.509142728150052\n",
      "initial loss -0.3752123606525871\n",
      "computing optimized mi\n",
      "1.3937244832254179\n",
      "initial loss -0.12478907595643911\n",
      "computing optimized mi\n",
      "1.4061450702707299\n",
      "initial loss -0.12102292953187599\n",
      "computing optimized mi\n",
      "1.4449553631950347\n",
      "initial loss -0.17836960148652414\n",
      "computing optimized mi\n",
      "1.4390883470435007\n",
      "initial loss -0.11341358835055391\n",
      "computing optimized mi\n",
      "1.4715421611919162\n",
      "initial loss -0.20266728146008303\n",
      "computing optimized mi\n",
      "1.4867344206385333\n",
      "initial loss -0.13394793223668655\n",
      "computing optimized mi\n",
      "1.4754592380479676\n",
      "initial loss -0.20988749518258315\n",
      "computing optimized mi\n",
      "1.4450723113976214\n",
      "initial loss -0.16390279150251025\n",
      "computing optimized mi\n"
     ]
    },
    {
     "name": "stderr",
     "output_type": "stream",
     "text": [
      " 50%|█████████████████▌                 | 3/6 [31:51<31:52, 637.53s/it]"
     ]
    },
    {
     "name": "stdout",
     "output_type": "stream",
     "text": [
      "1.4390350324217334\n",
      "initial loss -0.1966043346526559\n",
      "computing optimized mi\n",
      "1.1695767657523743\n",
      "initial loss -0.24188161624315538\n",
      "computing optimized mi\n",
      "1.1322520589662226\n",
      "initial loss -0.14176039819004937\n",
      "computing optimized mi\n",
      "1.2069000966773193\n",
      "initial loss -0.08698475335102634\n",
      "computing optimized mi\n",
      "1.1774332772090892\n",
      "initial loss -0.220856953682973\n",
      "computing optimized mi\n",
      "1.193653992907866\n",
      "initial loss -0.2763111825222736\n",
      "computing optimized mi\n",
      "1.1662894893637827\n",
      "initial loss -0.36589419091717257\n",
      "computing optimized mi\n",
      "1.1698147897411686\n",
      "initial loss -0.20770256730912812\n",
      "computing optimized mi\n",
      "1.2022073780658769\n",
      "initial loss -0.15447269863723095\n",
      "computing optimized mi\n",
      "1.1934328232188562\n",
      "initial loss -0.2779963097990937\n",
      "computing optimized mi\n",
      "1.1911870737638899\n",
      "initial loss -0.3080859992240904\n",
      "computing optimized mi\n"
     ]
    },
    {
     "name": "stderr",
     "output_type": "stream",
     "text": [
      " 67%|███████████████████████▎           | 4/6 [42:45<21:27, 643.95s/it]"
     ]
    },
    {
     "name": "stdout",
     "output_type": "stream",
     "text": [
      "1.1450334656130448\n",
      "initial loss -0.1681615033382201\n",
      "computing optimized mi\n",
      "0.8671689699286463\n",
      "initial loss -0.23108757582029515\n",
      "computing optimized mi\n",
      "0.8494010983027079\n",
      "initial loss -0.1785941879803472\n",
      "computing optimized mi\n",
      "0.8217944431862099\n",
      "initial loss -0.14072194350830708\n",
      "computing optimized mi\n",
      "0.8452631957229487\n",
      "initial loss -0.1475216411227237\n",
      "computing optimized mi\n",
      "0.823109250552056\n",
      "initial loss -0.1021158071059462\n",
      "computing optimized mi\n",
      "0.8495557107058336\n",
      "initial loss -0.25802096137615316\n",
      "computing optimized mi\n",
      "0.8267243258731922\n",
      "initial loss -0.15425356390306488\n",
      "computing optimized mi\n",
      "0.881847861162438\n",
      "initial loss -0.200428149919619\n",
      "computing optimized mi\n",
      "0.8185689085692779\n",
      "initial loss -0.26414712623259473\n",
      "computing optimized mi\n",
      "0.8443444644020396\n",
      "initial loss -0.2029673717060228\n",
      "computing optimized mi\n"
     ]
    },
    {
     "name": "stderr",
     "output_type": "stream",
     "text": [
      " 83%|█████████████████████████████▏     | 5/6 [53:31<10:44, 644.66s/it]"
     ]
    },
    {
     "name": "stdout",
     "output_type": "stream",
     "text": [
      "0.8203633755483805\n",
      "initial loss -0.24795698135977162\n",
      "computing optimized mi\n",
      "0.6676386660191793\n",
      "initial loss -0.19179023580141422\n",
      "computing optimized mi\n",
      "0.6577417523926281\n",
      "initial loss -0.2539895768049679\n",
      "computing optimized mi\n",
      "0.6614694763500795\n",
      "initial loss -0.2635573814098813\n",
      "computing optimized mi\n",
      "0.6344088661500709\n",
      "initial loss -0.12433266837954107\n",
      "computing optimized mi\n",
      "0.6525612909833386\n",
      "initial loss -0.11359616226276673\n",
      "computing optimized mi\n",
      "0.6529798967555387\n",
      "initial loss -0.23572167015985543\n",
      "computing optimized mi\n",
      "0.6310835815956385\n",
      "initial loss -0.23744704055620827\n",
      "computing optimized mi\n",
      "0.6527798809325852\n",
      "initial loss -0.13450832324980555\n",
      "computing optimized mi\n",
      "0.6264775422402308\n",
      "initial loss -0.19061823107971249\n",
      "computing optimized mi\n",
      "0.6703534121630488\n",
      "initial loss -0.26979711071178086\n",
      "computing optimized mi\n"
     ]
    },
    {
     "name": "stderr",
     "output_type": "stream",
     "text": [
      "100%|█████████████████████████████████| 6/6 [1:04:02<00:00, 640.36s/it]\n"
     ]
    },
    {
     "name": "stdout",
     "output_type": "stream",
     "text": [
      "0.6502785652584365\n",
      "delta_uniform\n"
     ]
    },
    {
     "name": "stderr",
     "output_type": "stream",
     "text": [
      "  0%|                                            | 0/6 [00:00<?, ?it/s]"
     ]
    },
    {
     "name": "stdout",
     "output_type": "stream",
     "text": [
      "initial loss -3.945702957957904\n",
      "computing optimized mi\n",
      "0.04007108067810075\n",
      "initial loss -4.51029856522978\n",
      "computing optimized mi\n",
      "-0.04056023345651327\n",
      "initial loss -3.8679086723589933\n",
      "computing optimized mi\n",
      "-0.0020034429595802037\n",
      "initial loss -4.012193471020401\n",
      "computing optimized mi\n",
      "-0.0059160482667091\n",
      "initial loss -4.583864165743853\n",
      "computing optimized mi\n",
      "0.0033410898986324378\n",
      "initial loss -4.1216644763865755\n",
      "computing optimized mi\n",
      "-0.052440794978116094\n",
      "initial loss -4.3312591631592\n",
      "computing optimized mi\n",
      "0.019377440195684166\n",
      "initial loss -4.340334596120551\n",
      "computing optimized mi\n",
      "0.06439940250385194\n",
      "initial loss -3.9052808599097393\n",
      "computing optimized mi\n",
      "-0.007293285334818472\n",
      "initial loss -3.854159389917661\n",
      "computing optimized mi\n",
      "0.04279322207595729\n",
      "initial loss -3.9780835267407575\n",
      "computing optimized mi\n"
     ]
    },
    {
     "name": "stderr",
     "output_type": "stream",
     "text": [
      " 17%|█████▊                             | 1/6 [07:51<39:15, 471.11s/it]"
     ]
    },
    {
     "name": "stdout",
     "output_type": "stream",
     "text": [
      "-0.05692163096369571\n",
      "initial loss -4.540672641262792\n",
      "computing optimized mi\n",
      "3.233831212184734\n",
      "initial loss -3.7512770243589584\n",
      "computing optimized mi\n",
      "2.916266623227765\n",
      "initial loss -4.487566840498332\n",
      "computing optimized mi\n",
      "3.2856034935392673\n",
      "initial loss -4.073887888159622\n",
      "computing optimized mi\n"
     ]
    },
    {
     "name": "stderr",
     "output_type": "stream",
     "text": [
      "/home/hpinkard_waller/GitRepos/EncodingInformation/encoding_information/information_estimation.py:226: UserWarning: 0.02% of pixels are negative.\n",
      "  warnings.warn(f\"{np.sum(clean_images_if_available < 0) / clean_images_if_available.size:.2%} of pixels are negative.\")\n"
     ]
    },
    {
     "name": "stdout",
     "output_type": "stream",
     "text": [
      "3.365424081457714\n",
      "initial loss -3.8110591435706684\n",
      "computing optimized mi\n"
     ]
    },
    {
     "name": "stderr",
     "output_type": "stream",
     "text": [
      "/home/hpinkard_waller/GitRepos/EncodingInformation/encoding_information/information_estimation.py:226: UserWarning: 2.10% of pixels are negative.\n",
      "  warnings.warn(f\"{np.sum(clean_images_if_available < 0) / clean_images_if_available.size:.2%} of pixels are negative.\")\n"
     ]
    },
    {
     "name": "stdout",
     "output_type": "stream",
     "text": [
      "3.263997657076674\n",
      "initial loss -4.091511362904617\n",
      "computing optimized mi\n",
      "3.120538672824764\n",
      "initial loss -4.638573002766297\n",
      "computing optimized mi\n",
      "3.381006397556488\n",
      "initial loss -4.149641290072731\n",
      "computing optimized mi\n",
      "3.133332118257147\n",
      "initial loss -3.861170364477984\n",
      "computing optimized mi\n",
      "3.149318249620147\n",
      "initial loss -4.258982953336458\n",
      "computing optimized mi\n",
      "3.401818362102698\n",
      "initial loss -4.298655955410974\n",
      "computing optimized mi\n"
     ]
    },
    {
     "name": "stderr",
     "output_type": "stream",
     "text": [
      " 33%|███████████▋                       | 2/6 [17:23<35:22, 530.70s/it]"
     ]
    },
    {
     "name": "stdout",
     "output_type": "stream",
     "text": [
      "3.0378686763468226\n",
      "initial loss -4.194839456664322\n",
      "computing optimized mi\n",
      "1.9292045054723328\n",
      "initial loss -4.103743164461504\n",
      "computing optimized mi\n",
      "1.953022726755625\n",
      "initial loss -3.8411693536592764\n",
      "computing optimized mi\n",
      "1.9102275958108288\n",
      "initial loss -3.7007968413936574\n",
      "computing optimized mi\n",
      "1.896659884484262\n",
      "initial loss -3.918458187043665\n",
      "computing optimized mi\n",
      "1.9858655656602922\n",
      "initial loss -4.312668421458021\n",
      "computing optimized mi\n",
      "2.1524407380146724\n",
      "initial loss -3.8424428345254618\n",
      "computing optimized mi\n",
      "2.0019872193521717\n",
      "initial loss -4.642658702441213\n",
      "computing optimized mi\n",
      "2.0471608703584003\n",
      "initial loss -4.234011070821866\n",
      "computing optimized mi\n",
      "2.0501571521017325\n",
      "initial loss -3.73948290241892\n",
      "computing optimized mi\n",
      "2.086771570539821\n",
      "initial loss -4.40259399637724\n",
      "computing optimized mi\n"
     ]
    },
    {
     "name": "stderr",
     "output_type": "stream",
     "text": [
      " 50%|█████████████████▌                 | 3/6 [26:08<26:24, 528.14s/it]"
     ]
    },
    {
     "name": "stdout",
     "output_type": "stream",
     "text": [
      "1.751266095410145\n",
      "initial loss -4.004895267957053\n",
      "computing optimized mi\n",
      "1.1674283584777962\n",
      "initial loss -4.159795556085612\n",
      "computing optimized mi\n",
      "1.1230014561416137\n",
      "initial loss -3.864111389905027\n",
      "computing optimized mi\n",
      "1.0535070505462718\n",
      "initial loss -3.7742434682430837\n",
      "computing optimized mi\n"
     ]
    },
    {
     "name": "stderr",
     "output_type": "stream",
     "text": [
      "/home/hpinkard_waller/GitRepos/EncodingInformation/encoding_information/information_estimation.py:226: UserWarning: 0.00% of pixels are negative.\n",
      "  warnings.warn(f\"{np.sum(clean_images_if_available < 0) / clean_images_if_available.size:.2%} of pixels are negative.\")\n"
     ]
    },
    {
     "name": "stdout",
     "output_type": "stream",
     "text": [
      "1.2698027512303918\n",
      "initial loss -4.363231772954228\n",
      "computing optimized mi\n",
      "1.1037944336932553\n",
      "initial loss -3.7078261182875742\n",
      "computing optimized mi\n",
      "1.1104081985148355\n",
      "initial loss -4.122667536489048\n",
      "computing optimized mi\n",
      "1.0651846725398566\n",
      "initial loss -4.116652508242962\n",
      "computing optimized mi\n",
      "1.1269202528241737\n",
      "initial loss -3.8041039011045013\n",
      "computing optimized mi\n",
      "1.1325901768578188\n",
      "initial loss -4.302943422030736\n",
      "computing optimized mi\n"
     ]
    },
    {
     "name": "stderr",
     "output_type": "stream",
     "text": [
      "/home/hpinkard_waller/GitRepos/EncodingInformation/encoding_information/information_estimation.py:226: UserWarning: 0.26% of pixels are negative.\n",
      "  warnings.warn(f\"{np.sum(clean_images_if_available < 0) / clean_images_if_available.size:.2%} of pixels are negative.\")\n",
      "/home/hpinkard_waller/GitRepos/EncodingInformation/encoding_information/information_estimation.py:226: UserWarning: 0.22% of pixels are negative.\n",
      "  warnings.warn(f\"{np.sum(clean_images_if_available < 0) / clean_images_if_available.size:.2%} of pixels are negative.\")\n"
     ]
    },
    {
     "name": "stdout",
     "output_type": "stream",
     "text": [
      "1.0540869760449811\n",
      "initial loss -3.762350529509126\n",
      "computing optimized mi\n"
     ]
    },
    {
     "name": "stderr",
     "output_type": "stream",
     "text": [
      " 67%|███████████████████████▎           | 4/6 [34:24<17:11, 515.55s/it]"
     ]
    },
    {
     "name": "stdout",
     "output_type": "stream",
     "text": [
      "1.1119629216786353\n",
      "initial loss -4.1087998635371905\n",
      "computing optimized mi\n"
     ]
    },
    {
     "name": "stderr",
     "output_type": "stream",
     "text": [
      "/home/hpinkard_waller/GitRepos/EncodingInformation/encoding_information/information_estimation.py:226: UserWarning: 0.07% of pixels are negative.\n",
      "  warnings.warn(f\"{np.sum(clean_images_if_available < 0) / clean_images_if_available.size:.2%} of pixels are negative.\")\n"
     ]
    },
    {
     "name": "stdout",
     "output_type": "stream",
     "text": [
      "0.8991857761612194\n",
      "initial loss -3.8533042722569553\n",
      "computing optimized mi\n",
      "0.9498269276210277\n",
      "initial loss -4.383648648927324\n",
      "computing optimized mi\n"
     ]
    },
    {
     "name": "stderr",
     "output_type": "stream",
     "text": [
      "/home/hpinkard_waller/GitRepos/EncodingInformation/encoding_information/information_estimation.py:226: UserWarning: 0.04% of pixels are negative.\n",
      "  warnings.warn(f\"{np.sum(clean_images_if_available < 0) / clean_images_if_available.size:.2%} of pixels are negative.\")\n"
     ]
    },
    {
     "name": "stdout",
     "output_type": "stream",
     "text": [
      "0.982247033169874\n",
      "initial loss -4.151111155053058\n",
      "computing optimized mi\n"
     ]
    },
    {
     "name": "stderr",
     "output_type": "stream",
     "text": [
      "/home/hpinkard_waller/GitRepos/EncodingInformation/encoding_information/information_estimation.py:226: UserWarning: 0.03% of pixels are negative.\n",
      "  warnings.warn(f\"{np.sum(clean_images_if_available < 0) / clean_images_if_available.size:.2%} of pixels are negative.\")\n"
     ]
    },
    {
     "name": "stdout",
     "output_type": "stream",
     "text": [
      "0.9601357396963953\n",
      "initial loss -3.8350548065061356\n",
      "computing optimized mi\n",
      "0.9213911441447201\n",
      "initial loss -4.182008254031332\n",
      "computing optimized mi\n",
      "1.0188298068002037\n",
      "initial loss -3.9211069744494593\n",
      "computing optimized mi\n",
      "0.9559049664851702\n",
      "initial loss -4.564440761225442\n",
      "computing optimized mi\n"
     ]
    },
    {
     "name": "stderr",
     "output_type": "stream",
     "text": [
      "/home/hpinkard_waller/GitRepos/EncodingInformation/encoding_information/information_estimation.py:226: UserWarning: 0.11% of pixels are negative.\n",
      "  warnings.warn(f\"{np.sum(clean_images_if_available < 0) / clean_images_if_available.size:.2%} of pixels are negative.\")\n"
     ]
    },
    {
     "name": "stdout",
     "output_type": "stream",
     "text": [
      "0.9221587027155208\n",
      "initial loss -3.7138339506813307\n",
      "computing optimized mi\n"
     ]
    },
    {
     "name": "stderr",
     "output_type": "stream",
     "text": [
      "/home/hpinkard_waller/GitRepos/EncodingInformation/encoding_information/information_estimation.py:226: UserWarning: 0.01% of pixels are negative.\n",
      "  warnings.warn(f\"{np.sum(clean_images_if_available < 0) / clean_images_if_available.size:.2%} of pixels are negative.\")\n"
     ]
    },
    {
     "name": "stdout",
     "output_type": "stream",
     "text": [
      "0.9201253518343698\n",
      "initial loss -3.866355484987336\n",
      "computing optimized mi\n"
     ]
    },
    {
     "name": "stderr",
     "output_type": "stream",
     "text": [
      "/home/hpinkard_waller/GitRepos/EncodingInformation/encoding_information/information_estimation.py:226: UserWarning: 0.27% of pixels are negative.\n",
      "  warnings.warn(f\"{np.sum(clean_images_if_available < 0) / clean_images_if_available.size:.2%} of pixels are negative.\")\n",
      "/home/hpinkard_waller/GitRepos/EncodingInformation/encoding_information/information_estimation.py:226: UserWarning: 0.96% of pixels are negative.\n",
      "  warnings.warn(f\"{np.sum(clean_images_if_available < 0) / clean_images_if_available.size:.2%} of pixels are negative.\")\n"
     ]
    },
    {
     "name": "stdout",
     "output_type": "stream",
     "text": [
      "0.921788596050864\n",
      "initial loss -4.105943006397881\n",
      "computing optimized mi\n"
     ]
    },
    {
     "name": "stderr",
     "output_type": "stream",
     "text": [
      " 83%|█████████████████████████████▏     | 5/6 [42:49<08:31, 511.73s/it]"
     ]
    },
    {
     "name": "stdout",
     "output_type": "stream",
     "text": [
      "0.9035371092106993\n",
      "initial loss -3.736038208764835\n",
      "computing optimized mi\n"
     ]
    },
    {
     "name": "stderr",
     "output_type": "stream",
     "text": [
      "/home/hpinkard_waller/GitRepos/EncodingInformation/encoding_information/information_estimation.py:226: UserWarning: 0.24% of pixels are negative.\n",
      "  warnings.warn(f\"{np.sum(clean_images_if_available < 0) / clean_images_if_available.size:.2%} of pixels are negative.\")\n"
     ]
    },
    {
     "name": "stdout",
     "output_type": "stream",
     "text": [
      "0.7409433472443868\n",
      "initial loss -3.85977052454348\n",
      "computing optimized mi\n"
     ]
    },
    {
     "name": "stderr",
     "output_type": "stream",
     "text": [
      "/home/hpinkard_waller/GitRepos/EncodingInformation/encoding_information/information_estimation.py:226: UserWarning: 0.28% of pixels are negative.\n",
      "  warnings.warn(f\"{np.sum(clean_images_if_available < 0) / clean_images_if_available.size:.2%} of pixels are negative.\")\n"
     ]
    },
    {
     "name": "stdout",
     "output_type": "stream",
     "text": [
      "0.7509941853434602\n",
      "initial loss -4.421618358848474\n",
      "computing optimized mi\n"
     ]
    },
    {
     "name": "stderr",
     "output_type": "stream",
     "text": [
      "/home/hpinkard_waller/GitRepos/EncodingInformation/encoding_information/information_estimation.py:226: UserWarning: 0.40% of pixels are negative.\n",
      "  warnings.warn(f\"{np.sum(clean_images_if_available < 0) / clean_images_if_available.size:.2%} of pixels are negative.\")\n"
     ]
    },
    {
     "name": "stdout",
     "output_type": "stream",
     "text": [
      "0.7794977299842079\n",
      "initial loss -4.2271029813891285\n",
      "computing optimized mi\n"
     ]
    },
    {
     "name": "stderr",
     "output_type": "stream",
     "text": [
      "/home/hpinkard_waller/GitRepos/EncodingInformation/encoding_information/information_estimation.py:226: UserWarning: 0.10% of pixels are negative.\n",
      "  warnings.warn(f\"{np.sum(clean_images_if_available < 0) / clean_images_if_available.size:.2%} of pixels are negative.\")\n"
     ]
    },
    {
     "name": "stdout",
     "output_type": "stream",
     "text": [
      "0.7650112873367317\n",
      "initial loss -3.973501647906599\n",
      "computing optimized mi\n",
      "0.7602938032235649\n",
      "initial loss -4.458025162511783\n",
      "computing optimized mi\n"
     ]
    },
    {
     "name": "stderr",
     "output_type": "stream",
     "text": [
      "/home/hpinkard_waller/GitRepos/EncodingInformation/encoding_information/information_estimation.py:226: UserWarning: 0.34% of pixels are negative.\n",
      "  warnings.warn(f\"{np.sum(clean_images_if_available < 0) / clean_images_if_available.size:.2%} of pixels are negative.\")\n"
     ]
    },
    {
     "name": "stdout",
     "output_type": "stream",
     "text": [
      "0.747896777801421\n",
      "initial loss -4.1629612829485945\n",
      "computing optimized mi\n"
     ]
    },
    {
     "name": "stderr",
     "output_type": "stream",
     "text": [
      "/home/hpinkard_waller/GitRepos/EncodingInformation/encoding_information/information_estimation.py:226: UserWarning: 0.19% of pixels are negative.\n",
      "  warnings.warn(f\"{np.sum(clean_images_if_available < 0) / clean_images_if_available.size:.2%} of pixels are negative.\")\n"
     ]
    },
    {
     "name": "stdout",
     "output_type": "stream",
     "text": [
      "0.7549838388781757\n",
      "initial loss -3.8833550509796564\n",
      "computing optimized mi\n"
     ]
    },
    {
     "name": "stderr",
     "output_type": "stream",
     "text": [
      "/home/hpinkard_waller/GitRepos/EncodingInformation/encoding_information/information_estimation.py:226: UserWarning: 0.16% of pixels are negative.\n",
      "  warnings.warn(f\"{np.sum(clean_images_if_available < 0) / clean_images_if_available.size:.2%} of pixels are negative.\")\n"
     ]
    },
    {
     "name": "stdout",
     "output_type": "stream",
     "text": [
      "0.7402743347325305\n",
      "initial loss -4.084377001154821\n",
      "computing optimized mi\n"
     ]
    },
    {
     "name": "stderr",
     "output_type": "stream",
     "text": [
      "/home/hpinkard_waller/GitRepos/EncodingInformation/encoding_information/information_estimation.py:226: UserWarning: 0.37% of pixels are negative.\n",
      "  warnings.warn(f\"{np.sum(clean_images_if_available < 0) / clean_images_if_available.size:.2%} of pixels are negative.\")\n"
     ]
    },
    {
     "name": "stdout",
     "output_type": "stream",
     "text": [
      "0.7732102162513144\n",
      "initial loss -3.2533012631932\n",
      "computing optimized mi\n"
     ]
    },
    {
     "name": "stderr",
     "output_type": "stream",
     "text": [
      "/home/hpinkard_waller/GitRepos/EncodingInformation/encoding_information/information_estimation.py:226: UserWarning: 0.21% of pixels are negative.\n",
      "  warnings.warn(f\"{np.sum(clean_images_if_available < 0) / clean_images_if_available.size:.2%} of pixels are negative.\")\n"
     ]
    },
    {
     "name": "stdout",
     "output_type": "stream",
     "text": [
      "0.7403455355499877\n",
      "initial loss -4.022839642024754\n",
      "computing optimized mi\n"
     ]
    },
    {
     "name": "stderr",
     "output_type": "stream",
     "text": [
      "/home/hpinkard_waller/GitRepos/EncodingInformation/encoding_information/information_estimation.py:226: UserWarning: 0.29% of pixels are negative.\n",
      "  warnings.warn(f\"{np.sum(clean_images_if_available < 0) / clean_images_if_available.size:.2%} of pixels are negative.\")\n",
      "100%|███████████████████████████████████| 6/6 [51:27<00:00, 514.65s/it]\n"
     ]
    },
    {
     "name": "stdout",
     "output_type": "stream",
     "text": [
      "0.7584518690328242\n",
      "8_deltas_uniform\n"
     ]
    },
    {
     "name": "stderr",
     "output_type": "stream",
     "text": [
      "  0%|                                            | 0/6 [00:00<?, ?it/s]"
     ]
    },
    {
     "name": "stdout",
     "output_type": "stream",
     "text": [
      "initial loss -2.905361531221092\n",
      "computing optimized mi\n",
      "0.03862677037615488\n",
      "initial loss -3.0757976074114546\n",
      "computing optimized mi\n",
      "0.04536539460226145\n",
      "initial loss -2.460039634172239\n",
      "computing optimized mi\n",
      "0.04554838414277948\n",
      "initial loss -2.5094291045254886\n",
      "computing optimized mi\n",
      "-0.050996484676170226\n",
      "initial loss -2.7410477777897277\n",
      "computing optimized mi\n",
      "0.0693965304073217\n",
      "initial loss -2.4958391866103105\n",
      "computing optimized mi\n",
      "0.05958939172452091\n",
      "initial loss -2.2062736471810664\n",
      "computing optimized mi\n",
      "0.0027408704471212353\n",
      "initial loss -2.733618538771418\n",
      "computing optimized mi\n",
      "0.07119065342112252\n",
      "initial loss -2.652040076237838\n",
      "computing optimized mi\n",
      "0.08217071378280769\n",
      "initial loss -2.6775420562997163\n",
      "computing optimized mi\n",
      "-0.00848478113999601\n",
      "initial loss -2.5060531301285143\n",
      "computing optimized mi\n"
     ]
    },
    {
     "name": "stderr",
     "output_type": "stream",
     "text": [
      " 17%|█████▊                             | 1/6 [07:11<35:56, 431.24s/it]"
     ]
    },
    {
     "name": "stdout",
     "output_type": "stream",
     "text": [
      "-0.03163192611962142\n",
      "initial loss -3.04602396920959\n",
      "computing optimized mi\n",
      "5.218693992682064\n",
      "initial loss -2.0897558259724294\n",
      "computing optimized mi\n",
      "5.1602095724296575\n",
      "initial loss -2.752300077898415\n",
      "computing optimized mi\n",
      "4.545150769871409\n",
      "initial loss -2.57667808655018\n",
      "computing optimized mi\n",
      "5.104231283365624\n",
      "initial loss -2.9114567280722747\n",
      "computing optimized mi\n",
      "4.500922335514322\n",
      "initial loss -3.1362116158953217\n",
      "computing optimized mi\n",
      "5.1957742087668795\n",
      "initial loss -2.9702791561033624\n",
      "computing optimized mi\n",
      "5.346992362295116\n",
      "initial loss -2.211326671461244\n",
      "computing optimized mi\n",
      "5.307315964741066\n",
      "initial loss -2.8415264362903185\n",
      "computing optimized mi\n",
      "4.699465299045779\n",
      "initial loss -2.9698084720732063\n",
      "computing optimized mi\n",
      "4.362226582760708\n",
      "initial loss -2.658108179423444\n",
      "computing optimized mi\n"
     ]
    },
    {
     "name": "stderr",
     "output_type": "stream",
     "text": [
      " 33%|███████████▋                       | 2/6 [15:45<31:59, 479.92s/it]"
     ]
    },
    {
     "name": "stdout",
     "output_type": "stream",
     "text": [
      "5.175759555790069\n",
      "initial loss -3.229645741695932\n",
      "computing optimized mi\n",
      "4.84483876830039\n",
      "initial loss -2.8466955486293015\n",
      "computing optimized mi\n",
      "4.974489609479827\n",
      "initial loss -2.94255684397329\n",
      "computing optimized mi\n",
      "4.955550192036211\n",
      "initial loss -2.832413382771083\n",
      "computing optimized mi\n",
      "5.161377652727613\n",
      "initial loss -2.485517412521965\n",
      "computing optimized mi\n",
      "4.992654417063957\n",
      "initial loss -2.9106177456179423\n",
      "computing optimized mi\n",
      "4.619472014679162\n",
      "initial loss -2.6070339932144244\n",
      "computing optimized mi\n",
      "4.660007637556922\n",
      "initial loss -2.967234993084303\n",
      "computing optimized mi\n",
      "4.95692742910432\n",
      "initial loss -2.7876028864561\n",
      "computing optimized mi\n",
      "4.758890094566399\n",
      "initial loss -2.7951152341095806\n",
      "computing optimized mi\n",
      "4.88251191193719\n",
      "initial loss -3.4770511960159816\n",
      "computing optimized mi\n"
     ]
    },
    {
     "name": "stderr",
     "output_type": "stream",
     "text": [
      " 50%|█████████████████▌                 | 3/6 [24:52<25:32, 510.67s/it]"
     ]
    },
    {
     "name": "stdout",
     "output_type": "stream",
     "text": [
      "4.895826120836385\n",
      "initial loss -2.636531515090339\n",
      "computing optimized mi\n",
      "4.0294752350541145\n",
      "initial loss -2.503536243987886\n",
      "computing optimized mi\n",
      "3.9789659942875177\n",
      "initial loss -3.2508518197394793\n",
      "computing optimized mi\n",
      "3.921541675095029\n",
      "initial loss -2.82771708899189\n",
      "computing optimized mi\n",
      "3.940650323467094\n",
      "initial loss -2.3907822456210046\n",
      "computing optimized mi\n",
      "4.0474549893059155\n",
      "initial loss -2.5612136660683475\n",
      "computing optimized mi\n",
      "3.9886362347802318\n",
      "initial loss -2.7267698938447418\n",
      "computing optimized mi\n",
      "4.054752557147326\n",
      "initial loss -2.610887608440551\n",
      "computing optimized mi\n",
      "4.052680510169731\n",
      "initial loss -2.6607591875816223\n",
      "computing optimized mi\n",
      "4.079564150222002\n",
      "initial loss -3.0264300918272453\n",
      "computing optimized mi\n",
      "4.0503656236891175\n",
      "initial loss -2.2815654932098575\n",
      "computing optimized mi\n"
     ]
    },
    {
     "name": "stderr",
     "output_type": "stream",
     "text": [
      " 67%|███████████████████████▎           | 4/6 [32:51<16:35, 497.99s/it]"
     ]
    },
    {
     "name": "stdout",
     "output_type": "stream",
     "text": [
      "4.023517756028227\n",
      "initial loss -2.5666764518658267\n",
      "computing optimized mi\n",
      "2.8322430826523997\n",
      "initial loss -2.626604838136025\n",
      "computing optimized mi\n",
      "2.7627053374290402\n",
      "initial loss -2.9012063951901643\n",
      "computing optimized mi\n",
      "2.7835572019502504\n",
      "initial loss -3.0115896735735146\n",
      "computing optimized mi\n",
      "2.8340107203379676\n",
      "initial loss -2.8916020798508906\n",
      "computing optimized mi\n",
      "2.8931383557046013\n",
      "initial loss -2.6642805544490034\n",
      "computing optimized mi\n",
      "2.737351999004147\n",
      "initial loss -2.578274557580899\n",
      "computing optimized mi\n",
      "2.861549270324724\n",
      "initial loss -2.658769878108744\n",
      "computing optimized mi\n",
      "2.7688526853014803\n",
      "initial loss -2.5585444971816855\n",
      "computing optimized mi\n",
      "2.76621550333315\n",
      "initial loss -2.8428603997405233\n",
      "computing optimized mi\n",
      "2.8320397991590798\n",
      "initial loss -2.8182385288542875\n",
      "computing optimized mi\n"
     ]
    },
    {
     "name": "stderr",
     "output_type": "stream",
     "text": [
      " 83%|█████████████████████████████▏     | 5/6 [40:59<08:14, 494.39s/it]"
     ]
    },
    {
     "name": "stdout",
     "output_type": "stream",
     "text": [
      "2.740138117948124\n",
      "initial loss -2.8124900202786662\n",
      "computing optimized mi\n",
      "2.0131856949326172\n",
      "initial loss -2.708194820689391\n",
      "computing optimized mi\n",
      "2.015348204784566\n",
      "initial loss -2.9036772924155345\n",
      "computing optimized mi\n",
      "2.0783175886061733\n",
      "initial loss -2.4121393163481195\n",
      "computing optimized mi\n",
      "2.0323906535891654\n",
      "initial loss -2.945833544306711\n",
      "computing optimized mi\n",
      "2.039007514098461\n",
      "initial loss -2.6432617227238753\n",
      "computing optimized mi\n",
      "2.0251395210634877\n",
      "initial loss -2.9210590144016306\n",
      "computing optimized mi\n",
      "2.0218966161988186\n",
      "initial loss -2.567557600879823\n",
      "computing optimized mi\n",
      "2.113538947572273\n",
      "initial loss -2.6762538290034743\n",
      "computing optimized mi\n",
      "2.0347192986818476\n",
      "initial loss -2.953768412069157\n",
      "computing optimized mi\n",
      "2.016181976675949\n",
      "initial loss -2.3085515950789537\n",
      "computing optimized mi\n"
     ]
    },
    {
     "name": "stderr",
     "output_type": "stream",
     "text": [
      "100%|███████████████████████████████████| 6/6 [48:58<00:00, 489.82s/it]"
     ]
    },
    {
     "name": "stdout",
     "output_type": "stream",
     "text": [
      "2.0242207897425786\n"
     ]
    },
    {
     "name": "stderr",
     "output_type": "stream",
     "text": [
      "\n"
     ]
    }
   ],
   "source": [
    "from scipy.signal import resample\n",
    "\n",
    "N_objects = 5000\n",
    "noise_sigma = 1e-3\n",
    "num_samples_list = [1, 4, 9, 16, 25, 36]\n",
    "num_bootstrap_samples = 11\n",
    "upsampling_factor = 16\n",
    "max_epochs = 5000\n",
    "max_epochs = 1000\n",
    "confidence = 90\n",
    "num_nyquist_samples = 16\n",
    "object_names = ['white_noise', 'delta_uniform', '8_deltas_uniform']\n",
    "\n",
    "# Fro debugging\n",
    "# object_names = ['delta_uniform',]\n",
    "# max_epochs = 1000\n",
    "# num_nyquist_samples = 16\n",
    "\n",
    "# num_samples_list = [1, 4, 9, 16]\n",
    "\n",
    "upsampled_signal_length = upsampling_factor*num_nyquist_samples\n",
    "objects_fn_delta = lambda : np.array([generate_random_object('delta', num_deltas=1, object_size=upsampled_signal_length) for i in range(N_objects)])\n",
    "objects_fn_8_delta = lambda : np.array([generate_random_object('delta', num_deltas=8, object_size=upsampled_signal_length) for i in range(N_objects)])\n",
    "objects_fn_white_noise = lambda : np.array([generate_random_object('white_noise', object_size=upsampled_signal_length) for i in range(N_objects)])\n",
    "\n",
    "\n",
    "mi_by_object = {}\n",
    "mi_by_object_hi = {}\n",
    "mi_by_object_lo = {}\n",
    "for name in object_names:\n",
    "  print(name)\n",
    "  mutual_information = []\n",
    "  mi_hi = []\n",
    "  mi_lo = []\n",
    "\n",
    "  if name == 'delta_uniform':\n",
    "    objects_fn = objects_fn_delta\n",
    "  elif name == '8_deltas_uniform':\n",
    "    objects_fn = objects_fn_8_delta\n",
    "  else:\n",
    "    objects_fn = objects_fn_white_noise\n",
    "\n",
    "\n",
    "\n",
    "  # compute the information with this psf when integrating over pixels of different sizes \n",
    "  for num_samples in tqdm(num_samples_list):\n",
    "\n",
    "\n",
    "    runs = []\n",
    "    for i in range(num_bootstrap_samples):\n",
    "        # Find an optimal PSF for this object\n",
    "      initial_kernel, initial_params, optimized_params, objects, _, _ = optimize_PSF_and_estimate_mi(\n",
    "      objects_fn, noise_sigma, num_nyquist_samples=num_nyquist_samples, upsampled_signal_length=upsampled_signal_length,\n",
    "      max_epochs=max_epochs, )\n",
    "\n",
    "      # do the estimation\n",
    "      scale_factor = 1000 # because these signals are 0-1 but pixel cnn is designed for photon counts\n",
    "      test_objects = objects_fn()\n",
    "      output_signals = conv_forward_model(optimized_params, test_objects,\n",
    "                                                  integrate_output_signals=False, num_nyquist_samples=num_nyquist_samples, upsampled_signal_length=upsampled_signal_length)\n",
    "      \n",
    "      # interpolate to higher resolution before integrating\n",
    "      resampled_signal_length = num_samples * upsampling_factor\n",
    "\n",
    "      resampled_output_signals = resample(output_signals, resampled_signal_length, axis=-1)\n",
    "      # normalize to sum to 1\n",
    "      resampled_output_signals = resampled_output_signals / np.sum(resampled_output_signals, axis=-1, keepdims=True)\n",
    "      pixelated_signal = integrate_pixels(resampled_output_signals, num_samples)\n",
    "\n",
    "      # amount of noise to add to the pixel depends on its area\n",
    "      relative_sampling_area = num_nyquist_samples / num_samples\n",
    "      pixel_variance = noise_sigma**2 * relative_sampling_area\n",
    "\n",
    "      noisy_pixelated_signals = pixelated_signal + jax.random.normal(jax.random.PRNGKey(onp.random.randint(10000)), pixelated_signal.shape) * np.sqrt(pixel_variance)\n",
    "\n",
    "      fake_images = noisy_pixelated_signals.reshape(-1, int(np.sqrt(num_samples)), int(np.sqrt(num_samples))) * scale_factor\n",
    "      mi_estimate = estimate_mutual_information(fake_images, gaussian_noise_sigma=float(np.sqrt(pixel_variance) * scale_factor), verbose=False, entropy_model='pixelcnn')                                                      \n",
    "      print(mi_estimate)\n",
    "      runs.append(mi_estimate)\n",
    "    runs = np.array(runs)\n",
    "    mutual_information.append(np.median(runs))\n",
    "    mi_lo.append(np.percentile(np.array(runs), 100-confidence))\n",
    "    mi_hi.append(np.percentile(np.array(runs), confidence))\n",
    "  mi_by_object[name] = mutual_information\n",
    "  mi_by_object_hi[name] = mi_hi\n",
    "  mi_by_object_lo[name] = mi_lo"
   ]
  },
  {
   "cell_type": "code",
   "execution_count": 3,
   "metadata": {
    "execution": {
     "iopub.execute_input": "2024-01-24T21:51:18.616453Z",
     "iopub.status.busy": "2024-01-24T21:51:18.615906Z",
     "iopub.status.idle": "2024-01-24T21:51:19.439398Z",
     "shell.execute_reply": "2024-01-24T21:51:19.438121Z"
    }
   },
   "outputs": [
    {
     "data": {
      "image/png": "[encoded data removed]",
      "text/plain": [
       "<Figure size 500x500 with 1 Axes>"
      ]
     },
     "metadata": {},
     "output_type": "display_data"
    }
   ],
   "source": [
    "fig, ax = plt.subplots(1, 1, figsize=(5, 5))\n",
    "\n",
    "for object_name, mutual_information in mi_by_object.items():\n",
    "    total_mi = np.array(mutual_information) * np.array(num_samples_list)\n",
    "\n",
    "    ax.plot(num_samples_list, total_mi, 'o-', label=object_name)\n",
    "    ax.fill_between(num_samples_list, np.array(mi_by_object_lo[object_name]) * np.array(num_samples_list), \n",
    "                            np.array(mi_by_object_hi[object_name]) * np.array(num_samples_list), alpha=0.4)\n",
    "    ax.set_xlabel('Number of samples')\n",
    "    ax.set_ylabel('Total mutual information (bits)')\n",
    "\n",
    "    ax.set(ylim=(0, max(1.1 * np.max(total_mi), ax.get_ylim()[1])), xlim=(0, ax.get_xlim()[1]))\n",
    "\n",
    "# plot a dashed line at the number of nyquist samples\n",
    "ax.axvline(num_nyquist_samples, linestyle='--', color='k')\n",
    "ax.text(num_nyquist_samples + 3, 0.2 * np.max(total_mi), 'Nyquist sampling rate', rotation=0, va='center')\n",
    "clear_spines(ax)\n",
    "ax.legend()\n",
    "\n",
    "fig.savefig('/home/hpinkard_waller/figures/1d_signals/' + 'mi_vs_sampling_density' + '.pdf', transparent=True)\n"
   ]
  }
 ],
 "metadata": {
  "kernelspec": {
   "display_name": "phenotypes",
   "language": "python",
   "name": "python3"
  },
  "language_info": {
   "codemirror_mode": {
    "name": "ipython",
    "version": 3
   },
   "file_extension": ".py",
   "mimetype": "text/x-python",
   "name": "python",
   "nbconvert_exporter": "python",
   "pygments_lexer": "ipython3",
   "version": "3.10.6"
  }
 },
 "nbformat": 4,
 "nbformat_minor": 2
}
