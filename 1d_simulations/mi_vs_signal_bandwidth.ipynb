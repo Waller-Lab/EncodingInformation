{
 "cells": [
  {
   "cell_type": "code",
   "execution_count": 1,
   "metadata": {
    "execution": {
     "iopub.execute_input": "2023-11-23T05:02:13.267107Z",
     "iopub.status.busy": "2023-11-23T05:02:13.266733Z",
     "iopub.status.idle": "2023-11-23T05:02:14.366342Z",
     "shell.execute_reply": "2023-11-23T05:02:14.365719Z"
    }
   },
   "outputs": [],
   "source": [
    "%load_ext autoreload\n",
    "%autoreload 2\n",
    "# this only works on startup!\n",
    "from jax import config\n",
    "config.update(\"jax_enable_x64\", True)\n",
    "\n",
    "import os\n",
    "os.environ[\"CUDA_DEVICE_ORDER\"] = \"PCI_BUS_ID\" \n",
    "os.environ[\"CUDA_VISIBLE_DEVICES\"] = '3'\n",
    "from encoding_information.gpu_utils import limit_gpu_memory_growth\n",
    "limit_gpu_memory_growth()\n",
    "\n",
    "from cleanplots import *\n",
    "from tqdm import tqdm\n",
    "from signal_utils_1D import *\n",
    "from plot_utils_1D import *"
   ]
  },
  {
   "cell_type": "code",
   "execution_count": 2,
   "metadata": {
    "execution": {
     "iopub.execute_input": "2023-11-23T05:02:14.372078Z",
     "iopub.status.busy": "2023-11-23T05:02:14.371694Z",
     "iopub.status.idle": "2023-11-23T10:15:55.920117Z",
     "shell.execute_reply": "2023-11-23T10:15:55.919055Z"
    }
   },
   "outputs": [
    {
     "name": "stdout",
     "output_type": "stream",
     "text": [
      "delta_uniform\n"
     ]
    },
    {
     "name": "stderr",
     "output_type": "stream",
     "text": [
      "  0%|                                                         | 0/9 [00:00<?, ?it/s]"
     ]
    },
    {
     "name": "stdout",
     "output_type": "stream",
     "text": [
      "initial loss -4.872387290997615\n",
      "initial loss -4.154388715687787\n",
      "initial loss -4.248011867050076\n",
      "initial loss -4.463198658665466\n",
      "initial loss -4.110838572929257\n",
      "4999: -6.3571606\r"
     ]
    },
    {
     "name": "stderr",
     "output_type": "stream",
     "text": [
      " 11%|█████▎                                          | 1/9 [05:11<41:31, 311.39s/it]"
     ]
    },
    {
     "name": "stdout",
     "output_type": "stream",
     "text": [
      "initial loss -3.925056673932515\n",
      "initial loss -4.288534610063487\n",
      "initial loss -3.3063104521910414\n",
      "initial loss -4.254971428638758\n",
      "initial loss -4.561979237048528\n",
      "3958: -5.9744435\r"
     ]
    },
    {
     "name": "stderr",
     "output_type": "stream",
     "text": [
      " 22%|██████████▋                                     | 2/9 [08:31<28:41, 245.90s/it]"
     ]
    },
    {
     "name": "stdout",
     "output_type": "stream",
     "text": [
      "initial loss -4.001551621336263\n",
      "initial loss -3.824820839559899\n",
      "initial loss -3.957862086650053\n",
      "initial loss -4.216833787911449\n",
      "initial loss -4.41999997275611\n",
      "4999: -6.2767692\r"
     ]
    },
    {
     "name": "stderr",
     "output_type": "stream",
     "text": [
      " 33%|████████████████                                | 3/9 [12:57<25:31, 255.32s/it]"
     ]
    },
    {
     "name": "stdout",
     "output_type": "stream",
     "text": [
      "initial loss -4.13065776659569\n",
      "initial loss -3.8393383345173597\n",
      "initial loss -3.561061630374071\n",
      "initial loss -3.8148661377647186\n",
      "initial loss -3.943178195667495\n",
      "4999: -6.1999810\r"
     ]
    },
    {
     "name": "stderr",
     "output_type": "stream",
     "text": [
      " 44%|█████████████████████▎                          | 4/9 [16:59<20:50, 250.06s/it]"
     ]
    },
    {
     "name": "stdout",
     "output_type": "stream",
     "text": [
      "initial loss -3.9872805853174382\n",
      "initial loss -3.4740637710677267\n",
      "initial loss -3.8751806130645385\n",
      "initial loss -4.1627246581635475\n",
      "initial loss -3.600970613068306\n",
      "4999: -6.0695247\r"
     ]
    },
    {
     "name": "stderr",
     "output_type": "stream",
     "text": [
      " 56%|██████████████████████████▋                     | 5/9 [21:11<16:42, 250.53s/it]"
     ]
    },
    {
     "name": "stdout",
     "output_type": "stream",
     "text": [
      "initial loss -4.0128847930716525\n",
      "initial loss -4.09237531608087\n",
      "initial loss -3.5364796309895548\n",
      "initial loss -4.002396486300726\n",
      "initial loss -3.776299784399577\n",
      "4999: -6.1151674\r"
     ]
    },
    {
     "name": "stderr",
     "output_type": "stream",
     "text": [
      " 67%|████████████████████████████████                | 6/9 [24:53<12:02, 240.81s/it]"
     ]
    },
    {
     "name": "stdout",
     "output_type": "stream",
     "text": [
      "initial loss -3.6109900541623667\n",
      "initial loss -3.506782357307935\n",
      "initial loss -3.936727628727437\n",
      "initial loss -3.222506568308944\n",
      "initial loss -3.660421084851895\n",
      "4999: -6.0059866\r"
     ]
    },
    {
     "name": "stderr",
     "output_type": "stream",
     "text": [
      " 78%|█████████████████████████████████████▎          | 7/9 [28:42<07:53, 236.91s/it]"
     ]
    },
    {
     "name": "stdout",
     "output_type": "stream",
     "text": [
      "initial loss -3.0571780019159904\n",
      "initial loss -3.703266217825148\n",
      "initial loss -3.4058049717412526\n",
      "initial loss -3.499844854233075\n",
      "initial loss -3.53938264638905\n",
      "4999: -5.6932373\r"
     ]
    },
    {
     "name": "stderr",
     "output_type": "stream",
     "text": [
      " 89%|██████████████████████████████████████████▋     | 8/9 [47:13<08:35, 515.27s/it]"
     ]
    },
    {
     "name": "stdout",
     "output_type": "stream",
     "text": [
      "initial loss -3.593138108339023\n",
      "initial loss -3.258589981672742\n",
      "initial loss -3.805969539652165\n",
      "initial loss -3.1959516612789867\n",
      "initial loss -3.510488279493206\n",
      "4999: -5.5290517\r"
     ]
    },
    {
     "name": "stderr",
     "output_type": "stream",
     "text": [
      "100%|████████████████████████████████████████████████| 9/9 [56:56<00:00, 379.61s/it]\n"
     ]
    },
    {
     "name": "stdout",
     "output_type": "stream",
     "text": [
      "delta_nonuniform\n"
     ]
    },
    {
     "name": "stderr",
     "output_type": "stream",
     "text": [
      "  0%|                                                         | 0/9 [00:00<?, ?it/s]"
     ]
    },
    {
     "name": "stdout",
     "output_type": "stream",
     "text": [
      "initial loss -3.1561106422926244\n",
      "initial loss -3.334470187565266\n",
      "initial loss -3.4317310704401525\n",
      "initial loss -3.475606713755357\n",
      "initial loss -3.680783583944689\n",
      "4999: -5.4305538\r"
     ]
    },
    {
     "name": "stderr",
     "output_type": "stream",
     "text": [
      " 11%|█████▎                                          | 1/9 [05:23<43:06, 323.25s/it]"
     ]
    },
    {
     "name": "stdout",
     "output_type": "stream",
     "text": [
      "initial loss -3.4448047774133745\n",
      "initial loss -3.3405564862497785\n",
      "initial loss -3.05847580821571\n",
      "initial loss -2.944759539225922\n",
      "initial loss -3.544718045811749\n",
      "4999: -5.0482524\r"
     ]
    },
    {
     "name": "stderr",
     "output_type": "stream",
     "text": [
      " 22%|██████████▋                                     | 2/9 [10:29<36:33, 313.41s/it]"
     ]
    },
    {
     "name": "stdout",
     "output_type": "stream",
     "text": [
      "initial loss -3.0483608868253196\n",
      "initial loss -3.0671369653615423\n",
      "initial loss -3.296695730750726\n",
      "initial loss -3.657898757405577\n",
      "initial loss -2.7450868350700213\n",
      "4999: -5.0823971\r"
     ]
    },
    {
     "name": "stderr",
     "output_type": "stream",
     "text": [
      " 33%|████████████████                                | 3/9 [14:25<27:46, 277.77s/it]"
     ]
    },
    {
     "name": "stdout",
     "output_type": "stream",
     "text": [
      "initial loss -3.0897001418288625\n",
      "initial loss -3.0901761894700805\n",
      "initial loss -2.9967874354803294\n",
      "initial loss -2.98339351399061\n",
      "initial loss -3.3852539713112884\n",
      "4999: -4.8912397\r"
     ]
    },
    {
     "name": "stderr",
     "output_type": "stream",
     "text": [
      " 44%|█████████████████████▎                          | 4/9 [18:20<21:45, 261.09s/it]"
     ]
    },
    {
     "name": "stdout",
     "output_type": "stream",
     "text": [
      "initial loss -2.972999474375446\n",
      "initial loss -2.740077604959709\n",
      "initial loss -3.114749689242939\n",
      "initial loss -2.9326603756761758\n",
      "initial loss -3.0463307904237853\n",
      "4999: -4.4059776\r"
     ]
    },
    {
     "name": "stderr",
     "output_type": "stream",
     "text": [
      " 56%|██████████████████████████▋                     | 5/9 [22:11<16:40, 250.23s/it]"
     ]
    },
    {
     "name": "stdout",
     "output_type": "stream",
     "text": [
      "initial loss -3.0467678572272963\n",
      "initial loss -3.0592008750801774\n",
      "initial loss -2.9530951296698675\n",
      "initial loss -2.968105092604985\n",
      "initial loss -3.011689248733964\n",
      "4999: -4.1501699\r"
     ]
    },
    {
     "name": "stderr",
     "output_type": "stream",
     "text": [
      " 67%|████████████████████████████████                | 6/9 [26:20<12:28, 249.65s/it]"
     ]
    },
    {
     "name": "stdout",
     "output_type": "stream",
     "text": [
      "initial loss -2.4393108566655908\n",
      "initial loss -2.656154812987944\n",
      "initial loss -2.8565482964744935\n",
      "initial loss -2.854885776578965\n",
      "initial loss -2.516235624064079\n",
      "4999: -4.8060841\r"
     ]
    },
    {
     "name": "stderr",
     "output_type": "stream",
     "text": [
      " 78%|█████████████████████████████████████▎          | 7/9 [30:31<08:20, 250.37s/it]"
     ]
    },
    {
     "name": "stdout",
     "output_type": "stream",
     "text": [
      "initial loss -2.584877184930068\n",
      "initial loss -2.5857288039730197\n",
      "initial loss -2.7200787390549324\n",
      "initial loss -2.8819284090247343\n",
      "initial loss -2.9391241892683535\n",
      "4999: -4.0015813\r"
     ]
    },
    {
     "name": "stderr",
     "output_type": "stream",
     "text": [
      " 89%|██████████████████████████████████████████▋     | 8/9 [41:21<06:17, 377.31s/it]"
     ]
    },
    {
     "name": "stdout",
     "output_type": "stream",
     "text": [
      "initial loss -2.5385314534821593\n",
      "initial loss -2.629268316403399\n",
      "initial loss -2.42627184365708\n",
      "initial loss -2.634780828549725\n",
      "initial loss -2.7016493124453724\n",
      "4999: -4.6241620\r"
     ]
    },
    {
     "name": "stderr",
     "output_type": "stream",
     "text": [
      "100%|████████████████████████████████████████████████| 9/9 [51:06<00:00, 340.71s/it]\n"
     ]
    },
    {
     "name": "stdout",
     "output_type": "stream",
     "text": [
      "white_noise\n"
     ]
    },
    {
     "name": "stderr",
     "output_type": "stream",
     "text": [
      "  0%|                                                         | 0/9 [00:00<?, ?it/s]"
     ]
    },
    {
     "name": "stdout",
     "output_type": "stream",
     "text": [
      "initial loss -0.9559116614804661\n",
      "initial loss -0.5790555829819786\n",
      "initial loss -0.5251415657062151\n",
      "initial loss -0.6418041705332622\n",
      "initial loss -0.9748991652503387\n",
      "4999: -2.3913640\r"
     ]
    },
    {
     "name": "stderr",
     "output_type": "stream",
     "text": [
      " 11%|█████▎                                          | 1/9 [03:18<26:25, 198.15s/it]"
     ]
    },
    {
     "name": "stdout",
     "output_type": "stream",
     "text": [
      "initial loss -0.7099538238488526\n",
      "initial loss -0.6443261996382527\n",
      "initial loss -0.6331169856876716\n",
      "initial loss -0.6498241607813264\n",
      "initial loss -0.440191152455697\n",
      "4999: -1.7521386\r"
     ]
    },
    {
     "name": "stderr",
     "output_type": "stream",
     "text": [
      " 22%|██████████▋                                     | 2/9 [06:15<21:39, 185.63s/it]"
     ]
    },
    {
     "name": "stdout",
     "output_type": "stream",
     "text": [
      "initial loss -0.46274683371111225\n",
      "initial loss -0.5598346220392436\n",
      "initial loss -0.5430755544651716\n",
      "initial loss -0.70575757019171\n",
      "initial loss -0.6846898334372361\n",
      "4999: -2.2529695\r"
     ]
    },
    {
     "name": "stderr",
     "output_type": "stream",
     "text": [
      " 33%|████████████████                                | 3/9 [09:24<18:44, 187.46s/it]"
     ]
    },
    {
     "name": "stdout",
     "output_type": "stream",
     "text": [
      "initial loss -0.5500685748338835\n",
      "initial loss -0.44794528701212977\n",
      "initial loss -0.4950091036324289\n",
      "initial loss -0.3840100324874296\n",
      "initial loss -0.5069923479081333\n",
      "4999: -2.1601168\r"
     ]
    },
    {
     "name": "stderr",
     "output_type": "stream",
     "text": [
      " 44%|█████████████████████▎                          | 4/9 [12:39<15:51, 190.27s/it]"
     ]
    },
    {
     "name": "stdout",
     "output_type": "stream",
     "text": [
      "initial loss -0.38457906650989315\n",
      "initial loss -0.5540064815394831\n",
      "initial loss -0.3625049381276051\n",
      "initial loss -0.45326302581064803\n",
      "initial loss -0.46859786857571006\n",
      "4999: -2.0197493\r"
     ]
    },
    {
     "name": "stderr",
     "output_type": "stream",
     "text": [
      " 56%|██████████████████████████▋                     | 5/9 [15:50<12:42, 190.74s/it]"
     ]
    },
    {
     "name": "stdout",
     "output_type": "stream",
     "text": [
      "initial loss -0.3818693384182938\n",
      "initial loss -0.3999327474308901\n",
      "initial loss -0.31346832020092724\n",
      "initial loss -0.3550659966940781\n",
      "initial loss -0.4043028683040437\n",
      "4999: -2.0253051\r"
     ]
    },
    {
     "name": "stderr",
     "output_type": "stream",
     "text": [
      " 67%|████████████████████████████████                | 6/9 [19:11<09:42, 194.14s/it]"
     ]
    },
    {
     "name": "stdout",
     "output_type": "stream",
     "text": [
      "initial loss -0.3453447277119665\n",
      "initial loss -0.2518912784127902\n",
      "initial loss -0.3382677391464312\n",
      "initial loss -0.34848710414952627\n",
      "initial loss -0.26480449001870254\n",
      "4999: -1.9190643\r"
     ]
    },
    {
     "name": "stderr",
     "output_type": "stream",
     "text": [
      " 78%|█████████████████████████████████████▎          | 7/9 [22:39<06:37, 198.63s/it]"
     ]
    },
    {
     "name": "stdout",
     "output_type": "stream",
     "text": [
      "initial loss -0.29151317783931896\n",
      "initial loss -0.4384885665709434\n",
      "initial loss -0.3609829661454855\n",
      "initial loss -0.36544947809091793\n",
      "initial loss -0.2303660091411227\n",
      "4999: -1.9161907\r"
     ]
    },
    {
     "name": "stderr",
     "output_type": "stream",
     "text": [
      " 89%|██████████████████████████████████████████▋     | 8/9 [34:50<06:08, 368.19s/it]"
     ]
    },
    {
     "name": "stdout",
     "output_type": "stream",
     "text": [
      "initial loss -0.4457936576628876\n",
      "initial loss -0.27743040449313927\n",
      "initial loss -0.21366475752538883\n",
      "initial loss -0.20384511123433208\n",
      "initial loss -0.3220016597750431\n",
      "4999: -1.8346838\r"
     ]
    },
    {
     "name": "stderr",
     "output_type": "stream",
     "text": [
      "100%|████████████████████████████████████████████████| 9/9 [56:23<00:00, 375.90s/it]\n"
     ]
    },
    {
     "name": "stdout",
     "output_type": "stream",
     "text": [
      "pink_noise\n"
     ]
    },
    {
     "name": "stderr",
     "output_type": "stream",
     "text": [
      "  0%|                                                         | 0/9 [00:00<?, ?it/s]"
     ]
    },
    {
     "name": "stdout",
     "output_type": "stream",
     "text": [
      "initial loss -1.026054574846118\n",
      "initial loss -0.8933819154185973\n",
      "initial loss -1.1249999435997986\n",
      "initial loss -0.8810981188935296\n",
      "initial loss -1.0708470852151262\n",
      "4999: -2.8356529\r"
     ]
    },
    {
     "name": "stderr",
     "output_type": "stream",
     "text": [
      " 11%|█████▎                                          | 1/9 [04:00<32:02, 240.34s/it]"
     ]
    },
    {
     "name": "stdout",
     "output_type": "stream",
     "text": [
      "initial loss -0.8299231903701898\n",
      "initial loss -0.8873612463613806\n",
      "initial loss -0.8209377986850238\n",
      "initial loss -0.8145353061675734\n",
      "initial loss -1.0469238429606478\n",
      "4156: -2.2997451\r"
     ]
    },
    {
     "name": "stderr",
     "output_type": "stream",
     "text": [
      " 22%|██████████▋                                     | 2/9 [07:35<26:17, 225.39s/it]"
     ]
    },
    {
     "name": "stdout",
     "output_type": "stream",
     "text": [
      "initial loss -0.6574450193849954\n",
      "initial loss -0.6780927714100845\n",
      "initial loss -0.6307818038413793\n",
      "initial loss -0.9353486159925746\n",
      "initial loss -0.7694732086622749\n",
      "4999: -2.5395061\r"
     ]
    },
    {
     "name": "stderr",
     "output_type": "stream",
     "text": [
      " 33%|████████████████                                | 3/9 [11:27<22:51, 228.55s/it]"
     ]
    },
    {
     "name": "stdout",
     "output_type": "stream",
     "text": [
      "initial loss -0.5245827940243566\n",
      "initial loss -0.6074318451979163\n",
      "initial loss -0.7284659935215363\n",
      "initial loss -0.796535858055844\n",
      "initial loss -0.7493188199712902\n",
      "4999: -2.3764563\r"
     ]
    },
    {
     "name": "stderr",
     "output_type": "stream",
     "text": [
      " 44%|█████████████████████▎                          | 4/9 [15:24<19:18, 231.67s/it]"
     ]
    },
    {
     "name": "stdout",
     "output_type": "stream",
     "text": [
      "initial loss -0.4967192291571694\n",
      "initial loss -0.6304625453056072\n",
      "initial loss -0.6120541570502327\n",
      "initial loss -0.5069300597845792\n",
      "initial loss -0.3161511025063634\n",
      "4999: -2.2410980\r"
     ]
    },
    {
     "name": "stderr",
     "output_type": "stream",
     "text": [
      " 56%|██████████████████████████▋                     | 5/9 [19:35<15:55, 238.81s/it]"
     ]
    },
    {
     "name": "stdout",
     "output_type": "stream",
     "text": [
      "initial loss -0.348711856762766\n",
      "initial loss -0.4528032828800701\n",
      "initial loss -0.3861629057070739\n",
      "initial loss -0.6645456447889156\n",
      "initial loss -0.40112600274341786\n",
      "4999: -2.1935242\r"
     ]
    },
    {
     "name": "stderr",
     "output_type": "stream",
     "text": [
      " 67%|████████████████████████████████                | 6/9 [23:55<12:17, 245.97s/it]"
     ]
    },
    {
     "name": "stdout",
     "output_type": "stream",
     "text": [
      "initial loss -0.42961879323831587\n",
      "initial loss -0.4748145341889005\n",
      "initial loss -0.4494422190819119\n",
      "initial loss -0.40041064161592715\n",
      "initial loss -0.475111280031774\n",
      "4999: -2.1078782\r"
     ]
    },
    {
     "name": "stderr",
     "output_type": "stream",
     "text": [
      " 78%|█████████████████████████████████████▎          | 7/9 [28:20<08:24, 252.15s/it]"
     ]
    },
    {
     "name": "stdout",
     "output_type": "stream",
     "text": [
      "initial loss -0.34092952661516335\n",
      "initial loss -0.46426347270917945\n",
      "initial loss -0.28638262979133944\n",
      "initial loss -0.37612322625755445\n",
      "initial loss -0.4621244815556919\n",
      "4999: -1.9904070\r"
     ]
    },
    {
     "name": "stderr",
     "output_type": "stream",
     "text": [
      " 89%|██████████████████████████████████████████▋     | 8/9 [45:00<08:10, 490.17s/it]"
     ]
    },
    {
     "name": "stdout",
     "output_type": "stream",
     "text": [
      "initial loss -0.456235662151025\n",
      "initial loss -0.3833458068681108\n",
      "initial loss -0.29219291039594275\n",
      "initial loss -0.27857292244859844\n",
      "initial loss -0.438130068271827\n",
      "4999: -1.8868240\r"
     ]
    },
    {
     "name": "stderr",
     "output_type": "stream",
     "text": [
      "100%|██████████████████████████████████████████████| 9/9 [1:00:14<00:00, 401.57s/it]\n"
     ]
    },
    {
     "name": "stdout",
     "output_type": "stream",
     "text": [
      "8_deltas_uniform\n"
     ]
    },
    {
     "name": "stderr",
     "output_type": "stream",
     "text": [
      "  0%|                                                         | 0/9 [00:00<?, ?it/s]"
     ]
    },
    {
     "name": "stdout",
     "output_type": "stream",
     "text": [
      "initial loss -2.7415690636290475\n",
      "initial loss -2.279682046458019\n",
      "initial loss -2.9599834968490395\n",
      "initial loss -3.1025437698475558\n",
      "initial loss -2.886948618263471\n",
      "4999: -4.9840897\r"
     ]
    },
    {
     "name": "stderr",
     "output_type": "stream",
     "text": [
      " 11%|█████▎                                          | 1/9 [03:37<29:00, 217.61s/it]"
     ]
    },
    {
     "name": "stdout",
     "output_type": "stream",
     "text": [
      "initial loss -2.879893056899982\n",
      "initial loss -2.911944859325416\n",
      "initial loss -2.4263705639066697\n",
      "initial loss -2.9916307319596114\n",
      "initial loss -3.2623017629946713\n",
      "4483: -4.5757061\r"
     ]
    },
    {
     "name": "stderr",
     "output_type": "stream",
     "text": [
      " 22%|██████████▋                                     | 2/9 [06:37<22:49, 195.68s/it]"
     ]
    },
    {
     "name": "stdout",
     "output_type": "stream",
     "text": [
      "initial loss -2.5838466485184504\n",
      "initial loss -2.4481429346632213\n",
      "initial loss -2.470306106380527\n",
      "initial loss -2.459130568606314\n",
      "initial loss -3.0253008392747476\n",
      "4999: -4.8411581\r"
     ]
    },
    {
     "name": "stderr",
     "output_type": "stream",
     "text": [
      " 33%|████████████████                                | 3/9 [10:06<20:09, 201.56s/it]"
     ]
    },
    {
     "name": "stdout",
     "output_type": "stream",
     "text": [
      "initial loss -2.8258027151587086\n",
      "initial loss -2.437408563280668\n",
      "initial loss -2.43157711049544\n",
      "initial loss -2.7219383073025307\n",
      "initial loss -2.514434912019922\n",
      "4999: -4.7781728\r"
     ]
    },
    {
     "name": "stderr",
     "output_type": "stream",
     "text": [
      " 44%|█████████████████████▎                          | 4/9 [13:41<17:15, 207.01s/it]"
     ]
    },
    {
     "name": "stdout",
     "output_type": "stream",
     "text": [
      "initial loss -2.3826475992722984\n",
      "initial loss -2.2230939636113365\n",
      "initial loss -2.4872630791767762\n",
      "initial loss -2.0496550024203968\n",
      "initial loss -2.6036300112455173\n",
      "4999: -4.6235502\r"
     ]
    },
    {
     "name": "stderr",
     "output_type": "stream",
     "text": [
      " 56%|██████████████████████████▋                     | 5/9 [17:03<13:40, 205.11s/it]"
     ]
    },
    {
     "name": "stdout",
     "output_type": "stream",
     "text": [
      "initial loss -2.393560054127675\n",
      "initial loss -1.9974754897593916\n",
      "initial loss -1.8974341688145557\n",
      "initial loss -1.973461428925529\n",
      "initial loss -1.8685854975827134\n",
      "4999: -4.6692730\r"
     ]
    },
    {
     "name": "stderr",
     "output_type": "stream",
     "text": [
      " 67%|████████████████████████████████                | 6/9 [20:48<10:35, 211.72s/it]"
     ]
    },
    {
     "name": "stdout",
     "output_type": "stream",
     "text": [
      "initial loss -2.060982857239532\n",
      "initial loss -2.2175692521564976\n",
      "initial loss -2.39800885050548\n",
      "initial loss -2.1975763512869197\n",
      "initial loss -1.940039816902904\n",
      "4999: -4.6132821\r"
     ]
    },
    {
     "name": "stderr",
     "output_type": "stream",
     "text": [
      " 78%|█████████████████████████████████████▎          | 7/9 [24:38<07:15, 217.96s/it]"
     ]
    },
    {
     "name": "stdout",
     "output_type": "stream",
     "text": [
      "initial loss -2.3468494021385036\n",
      "initial loss -2.207295202604215\n",
      "initial loss -2.1204241508980277\n",
      "initial loss -2.225972927504306\n",
      "initial loss -2.256620107414494\n",
      "4999: -4.5445615\r"
     ]
    },
    {
     "name": "stderr",
     "output_type": "stream",
     "text": [
      " 89%|██████████████████████████████████████████▋     | 8/9 [33:34<05:19, 319.19s/it]"
     ]
    },
    {
     "name": "stdout",
     "output_type": "stream",
     "text": [
      "initial loss -2.324412954599037\n",
      "initial loss -2.1279490949182396\n",
      "initial loss -2.0919140488452066\n",
      "initial loss -1.936273812306323\n",
      "initial loss -2.021629333058067\n",
      "4999: -4.4633840\r"
     ]
    },
    {
     "name": "stderr",
     "output_type": "stream",
     "text": [
      "100%|████████████████████████████████████████████████| 9/9 [40:51<00:00, 272.40s/it]\n"
     ]
    },
    {
     "name": "stdout",
     "output_type": "stream",
     "text": [
      "8_deltas_nonuniform\n"
     ]
    },
    {
     "name": "stderr",
     "output_type": "stream",
     "text": [
      "  0%|                                                         | 0/9 [00:00<?, ?it/s]"
     ]
    },
    {
     "name": "stdout",
     "output_type": "stream",
     "text": [
      "initial loss -2.491869981648207\n",
      "initial loss -2.0581241619461776\n",
      "initial loss -2.2929372344296057\n",
      "initial loss -2.478032936204184\n",
      "initial loss -2.2882043402398518\n",
      "4999: -4.0730565\r"
     ]
    },
    {
     "name": "stderr",
     "output_type": "stream",
     "text": [
      " 11%|█████▎                                          | 1/9 [04:46<38:09, 286.24s/it]"
     ]
    },
    {
     "name": "stdout",
     "output_type": "stream",
     "text": [
      "initial loss -2.419971968995595\n",
      "initial loss -2.0585777401445986\n",
      "initial loss -2.1568969321562133\n",
      "initial loss -2.1857536183322277\n",
      "initial loss -2.358546234111608\n",
      "4999: -3.7292025\r"
     ]
    },
    {
     "name": "stderr",
     "output_type": "stream",
     "text": [
      " 22%|██████████▋                                     | 2/9 [09:07<31:41, 271.70s/it]"
     ]
    },
    {
     "name": "stdout",
     "output_type": "stream",
     "text": [
      "initial loss -2.099096220957387\n",
      "initial loss -1.9471289378378343\n",
      "initial loss -2.27564146664497\n",
      "initial loss -2.0594316670486505\n",
      "initial loss -2.0225990065972232\n",
      "4999: -3.8625131\r"
     ]
    },
    {
     "name": "stderr",
     "output_type": "stream",
     "text": [
      " 33%|████████████████                                | 3/9 [13:46<27:29, 274.90s/it]"
     ]
    },
    {
     "name": "stdout",
     "output_type": "stream",
     "text": [
      "initial loss -1.9491745830238627\n",
      "initial loss -2.0659317579546075\n",
      "initial loss -1.9546289342725727\n",
      "initial loss -1.9421822977179082\n",
      "initial loss -2.067631745038868\n",
      "4999: -3.7062471\r"
     ]
    },
    {
     "name": "stderr",
     "output_type": "stream",
     "text": [
      " 44%|█████████████████████▎                          | 4/9 [18:33<23:18, 279.77s/it]"
     ]
    },
    {
     "name": "stdout",
     "output_type": "stream",
     "text": [
      "initial loss -1.7357688124424397\n",
      "initial loss -1.7744132741094891\n",
      "initial loss -1.9015648680493122\n",
      "initial loss -1.821846669959322\n",
      "initial loss -1.920392177722203\n",
      "3763: -3.1652016\r"
     ]
    },
    {
     "name": "stderr",
     "output_type": "stream",
     "text": [
      " 56%|██████████████████████████▋                     | 5/9 [22:58<18:17, 274.46s/it]"
     ]
    },
    {
     "name": "stdout",
     "output_type": "stream",
     "text": [
      "initial loss -1.571130027122678\n",
      "initial loss -1.9587953491985843\n",
      "initial loss -1.772353601234436\n",
      "initial loss -1.4517351564045722\n",
      "initial loss -1.9434514284391584\n",
      "4999: -3.6242522\r"
     ]
    },
    {
     "name": "stderr",
     "output_type": "stream",
     "text": [
      " 67%|████████████████████████████████                | 6/9 [27:52<14:03, 281.11s/it]"
     ]
    },
    {
     "name": "stdout",
     "output_type": "stream",
     "text": [
      "initial loss -1.5827329896640885\n",
      "initial loss -1.4799632194994063\n",
      "initial loss -1.778080402004034\n",
      "initial loss -1.594084346740798\n",
      "initial loss -1.6247464515806485\n",
      "4999: -3.5933707\r"
     ]
    },
    {
     "name": "stderr",
     "output_type": "stream",
     "text": [
      " 78%|█████████████████████████████████████▎          | 7/9 [32:55<09:36, 288.26s/it]"
     ]
    },
    {
     "name": "stdout",
     "output_type": "stream",
     "text": [
      "initial loss -1.6064662475800728\n",
      "initial loss -1.4206884093840002\n",
      "initial loss -1.6629777134707089\n",
      "initial loss -1.3000961547940209\n",
      "initial loss -1.6321916237736096\n",
      "4999: -3.5386526\r"
     ]
    },
    {
     "name": "stderr",
     "output_type": "stream",
     "text": [
      " 89%|██████████████████████████████████████████▋     | 8/9 [40:29<05:40, 340.81s/it]"
     ]
    },
    {
     "name": "stdout",
     "output_type": "stream",
     "text": [
      "initial loss -1.7141819181289601\n",
      "initial loss -1.3033632269893705\n",
      "initial loss -1.7864004500959294\n",
      "initial loss -1.6201103310175657\n",
      "initial loss -1.6834091556054478\n",
      "4999: -3.4657195\r"
     ]
    },
    {
     "name": "stderr",
     "output_type": "stream",
     "text": [
      "100%|████████████████████████████████████████████████| 9/9 [48:09<00:00, 321.09s/it]\n"
     ]
    }
   ],
   "source": [
    "N_objects = 2000\n",
    "noise_sigma = 1e-3\n",
    "num_nyquist_samples_list = onp.arange(16, 33, 2)\n",
    "num_bootstrap_samples = 5\n",
    "\n",
    "\n",
    "objects_dict = {\n",
    "  'delta_uniform': lambda : np.array([sample_amplitude_object('delta', num_deltas=1, gaussian_mixture_position=False) for i in range(N_objects)]),\n",
    "  'delta_nonuniform': lambda: np.array([sample_amplitude_object('delta', num_deltas=1, gaussian_mixture_position=True) for i in range(N_objects)]),\n",
    "  'white_noise': lambda : np.array([sample_amplitude_object('white_noise') for i in range(N_objects)]),\n",
    "  'pink_noise': lambda : np.array([sample_amplitude_object('pink_noise') for i in range(N_objects)]),\n",
    "  '8_deltas_uniform': lambda :np.array([sample_amplitude_object('delta', num_deltas=8, gaussian_mixture_position=False) for i in range(N_objects)]),\n",
    "  '8_deltas_nonuniform': lambda : np.array([sample_amplitude_object('delta', num_deltas=8, gaussian_mixture_position=True) for i in range(N_objects)]),\n",
    "}\n",
    "\n",
    "# num_nyquist_samples = int(NUM_NYQUIST_SAMPLES // 2)\n",
    "num_nyquist_samples = NUM_NYQUIST_SAMPLES\n",
    "\n",
    "mi_by_object = {}\n",
    "for name, objects_fn in objects_dict.items():\n",
    "  print(name)\n",
    "  mutual_information = []\n",
    "  for num_nyquist_samples in tqdm(num_nyquist_samples_list):\n",
    "    runs = []\n",
    "    for i in range(num_bootstrap_samples):\n",
    "      initial_kernel, initial_params, optimized_params, objects, initial_mi, optimized_mi = optimize_PSF_and_estimate_mi(\n",
    "          objects_fn, noise_sigma, num_nyquist_samples=num_nyquist_samples)\n",
    "      runs.append(optimized_mi)\n",
    "    mutual_information.append(np.array(runs).max())\n",
    "  mi_by_object[name] = mutual_information"
   ]
  },
  {
   "cell_type": "code",
   "execution_count": 3,
   "metadata": {
    "execution": {
     "iopub.execute_input": "2023-11-23T10:15:55.925446Z",
     "iopub.status.busy": "2023-11-23T10:15:55.924879Z",
     "iopub.status.idle": "2023-11-23T10:15:56.863862Z",
     "shell.execute_reply": "2023-11-23T10:15:56.862976Z"
    }
   },
   "outputs": [
    {
     "data": {
      "text/plain": [
       "<matplotlib.legend.Legend at 0x7fbd4c11cbe0>"
      ]
     },
     "execution_count": 3,
     "metadata": {},
     "output_type": "execute_result"
    },
    {
     "data": {
      "image/png": "[encoded data removed]",
      "text/plain": [
       "<Figure size 800x800 with 1 Axes>"
      ]
     },
     "metadata": {},
     "output_type": "display_data"
    }
   ],
   "source": [
    "fig, ax = plt.subplots(1, 1, figsize=(5, 5))\n",
    "\n",
    "for object_name, mutual_information in mi_by_object.items():\n",
    "\n",
    "    total_mi = np.array(mutual_information) * num_nyquist_samples_list\n",
    "    ax.plot(num_nyquist_samples_list, total_mi, 'o-', label=object_name)\n",
    "    ax.set_xlabel('Signal bandwidth (num nyquist samples)')\n",
    "    ax.set_ylabel('Total mutual information (bits)')\n",
    "\n",
    "    ax.set(ylim=(0, max(1.1 * np.max(total_mi), ax.get_ylim()[1])))\n",
    "\n",
    "clear_spines(ax)\n",
    "ax.legend()"
   ]
  }
 ],
 "metadata": {
  "kernelspec": {
   "display_name": "phenotypes",
   "language": "python",
   "name": "python3"
  },
  "language_info": {
   "codemirror_mode": {
    "name": "ipython",
    "version": 3
   },
   "file_extension": ".py",
   "mimetype": "text/x-python",
   "name": "python",
   "nbconvert_exporter": "python",
   "pygments_lexer": "ipython3",
   "version": "3.10.6"
  }
 },
 "nbformat": 4,
 "nbformat_minor": 2
}
