{
 "cells": [
  {
   "cell_type": "code",
   "execution_count": 1,
   "metadata": {
    "execution": {
     "iopub.execute_input": "2024-01-24T16:59:35.704261Z",
     "iopub.status.busy": "2024-01-24T16:59:35.703873Z",
     "iopub.status.idle": "2024-01-24T16:59:40.619858Z",
     "shell.execute_reply": "2024-01-24T16:59:40.618982Z"
    }
   },
   "outputs": [
    {
     "name": "stderr",
     "output_type": "stream",
     "text": [
      "2024-01-24 08:59:39.194874: W tensorflow/compiler/tf2tensorrt/utils/py_utils.cc:38] TF-TRT Warning: Could not find TensorRT\n"
     ]
    }
   ],
   "source": [
    "%load_ext autoreload\n",
    "%autoreload 2\n",
    "# this only works on startup!\n",
    "from jax import config\n",
    "config.update(\"jax_enable_x64\", True)\n",
    "\n",
    "import os\n",
    "os.environ[\"CUDA_DEVICE_ORDER\"] = \"PCI_BUS_ID\" \n",
    "os.environ[\"CUDA_VISIBLE_DEVICES\"] = '1'\n",
    "\n",
    "\n",
    "\n",
    "from encoding_information.gpu_utils import limit_gpu_memory_growth\n",
    "limit_gpu_memory_growth()\n",
    "\n",
    "from cleanplots import *\n",
    "from tqdm import tqdm\n",
    "from signal_utils_1D import *\n",
    "from plot_utils_1D import *"
   ]
  },
  {
   "cell_type": "code",
   "execution_count": 2,
   "metadata": {
    "execution": {
     "iopub.execute_input": "2024-01-24T16:59:40.623388Z",
     "iopub.status.busy": "2024-01-24T16:59:40.622894Z",
     "iopub.status.idle": "2024-01-25T17:16:55.397217Z",
     "shell.execute_reply": "2024-01-25T17:16:55.396130Z"
    }
   },
   "outputs": [
    {
     "name": "stdout",
     "output_type": "stream",
     "text": [
      "white_noise\n"
     ]
    },
    {
     "name": "stderr",
     "output_type": "stream",
     "text": [
      "  0%|                                        | 0/5 [00:00<?, ?it/s]"
     ]
    },
    {
     "name": "stdout",
     "output_type": "stream",
     "text": [
      "initial loss -1.4351245316175762\n",
      "computing optimized mi\n"
     ]
    },
    {
     "name": "stderr",
     "output_type": "stream",
     "text": [
      "2024-01-24 09:01:20.304945: W tensorflow/core/common_runtime/gpu/gpu_bfc_allocator.cc:47] Overriding orig_value setting because the TF_FORCE_GPU_ALLOW_GROWTH environment variable is set. Original config value was 0.\n"
     ]
    },
    {
     "name": "stdout",
     "output_type": "stream",
     "text": [
      "initial loss -1.2294846109158586\n",
      "computing optimized mi\n",
      "initial loss -1.3213838476841826\n",
      "computing optimized mi\n",
      "initial loss -1.0855683726885292\n",
      "computing optimized mi\n",
      "initial loss -1.0276858143730252\n",
      "computing optimized mi\n",
      "initial loss -1.0972681087806002\n",
      "computing optimized mi\n",
      "initial loss -1.4877647263634874\n",
      "computing optimized mi\n",
      "initial loss -0.9928969192768811\n",
      "computing optimized mi\n",
      "initial loss -1.5548116721162595\n",
      "computing optimized mi\n",
      "initial loss -1.0282159284470265\n",
      "computing optimized mi\n",
      "initial loss -1.0313190870471731\n",
      "computing optimized mi\n"
     ]
    },
    {
     "name": "stderr",
     "output_type": "stream",
     "text": [
      " 20%|█████▌                      | 1/5 [17:23<1:09:33, 1043.27s/it]"
     ]
    },
    {
     "name": "stdout",
     "output_type": "stream",
     "text": [
      "initial loss -1.3654943235348214\n",
      "computing optimized mi\n",
      "initial loss -1.372306018343337\n",
      "computing optimized mi\n",
      "initial loss -1.207010592715374\n",
      "computing optimized mi\n",
      "initial loss -1.250322629749297\n",
      "computing optimized mi\n",
      "initial loss -1.0222818077047553\n",
      "computing optimized mi\n",
      "initial loss -1.060308722124411\n",
      "computing optimized mi\n",
      "initial loss -1.5777446291891706\n",
      "computing optimized mi\n",
      "initial loss -1.538615824313398\n",
      "computing optimized mi\n",
      "initial loss -1.476793707623633\n",
      "computing optimized mi\n",
      "initial loss -1.5545804107367673\n",
      "computing optimized mi\n",
      "initial loss -1.219399867768056\n",
      "computing optimized mi\n"
     ]
    },
    {
     "name": "stderr",
     "output_type": "stream",
     "text": [
      " 40%|███████████▏                | 2/5 [47:51<1:15:14, 1504.89s/it]"
     ]
    },
    {
     "name": "stdout",
     "output_type": "stream",
     "text": [
      "initial loss -1.2214716396490304\n",
      "computing optimized mi\n",
      "initial loss -1.208339901609887\n",
      "computing optimized mi\n",
      "initial loss -0.99285797652208\n",
      "computing optimized mi\n",
      "initial loss -1.3618753597755557\n",
      "computing optimized mi\n",
      "initial loss -0.9963826116433857\n",
      "computing optimized mi\n",
      "initial loss -1.3489958813809746\n",
      "computing optimized mi\n",
      "initial loss -1.088696933216232\n",
      "computing optimized mi\n",
      "initial loss -0.981545362809445\n",
      "computing optimized mi\n",
      "initial loss -0.783292705033303\n",
      "computing optimized mi\n",
      "initial loss -1.4006207706405762\n",
      "computing optimized mi\n",
      "initial loss -1.1784384124017169\n",
      "computing optimized mi\n"
     ]
    },
    {
     "name": "stderr",
     "output_type": "stream",
     "text": [
      " 60%|███████████████▌          | 3/5 [1:55:59<1:29:29, 2684.53s/it]"
     ]
    },
    {
     "name": "stdout",
     "output_type": "stream",
     "text": [
      "initial loss -0.9038723505237038\n",
      "computing optimized mi\n",
      "initial loss -0.7588161907671463\n",
      "computing optimized mi\n",
      "initial loss -1.0854034689131051\n",
      "computing optimized mi\n",
      "initial loss -1.1725323259533116\n",
      "computing optimized mi\n",
      "initial loss -1.0385924110455031\n",
      "computing optimized mi\n",
      "initial loss -1.1180959243776856\n",
      "computing optimized mi\n",
      "initial loss -0.8666546985426673\n",
      "computing optimized mi\n",
      "initial loss -1.0169043881357325\n",
      "computing optimized mi\n",
      "initial loss -1.2031998826843493\n",
      "computing optimized mi\n",
      "initial loss -1.202618094624439\n",
      "computing optimized mi\n",
      "initial loss -1.1481358113759559\n",
      "computing optimized mi\n"
     ]
    },
    {
     "name": "stderr",
     "output_type": "stream",
     "text": [
      " 80%|████████████████████▊     | 4/5 [4:13:24<1:21:19, 4879.57s/it]"
     ]
    },
    {
     "name": "stdout",
     "output_type": "stream",
     "text": [
      "initial loss -1.1406003377692637\n",
      "computing optimized mi\n",
      "initial loss -0.9709412457459999\n",
      "computing optimized mi\n",
      "initial loss -0.9959153501109329\n",
      "computing optimized mi\n",
      "initial loss -1.0039235803854587\n",
      "computing optimized mi\n",
      "initial loss -0.7216876376052735\n",
      "computing optimized mi\n",
      "initial loss -1.210578662740027\n",
      "computing optimized mi\n",
      "initial loss -0.8276475993784611\n",
      "computing optimized mi\n",
      "initial loss -1.0845882573490238\n",
      "computing optimized mi\n",
      "initial loss -1.0505440487189963\n",
      "computing optimized mi\n",
      "initial loss -0.7020567639116297\n",
      "computing optimized mi\n",
      "initial loss -0.7408405803806999\n",
      "computing optimized mi\n"
     ]
    },
    {
     "name": "stderr",
     "output_type": "stream",
     "text": [
      "100%|████████████████████████████| 5/5 [8:37:52<00:00, 6214.51s/it]\n"
     ]
    },
    {
     "name": "stdout",
     "output_type": "stream",
     "text": [
      "delta_uniform\n"
     ]
    },
    {
     "name": "stderr",
     "output_type": "stream",
     "text": [
      "  0%|                                        | 0/5 [00:00<?, ?it/s]"
     ]
    },
    {
     "name": "stdout",
     "output_type": "stream",
     "text": [
      "initial loss -5.3618222137141185\n",
      "computing optimized mi\n",
      "initial loss -4.619525475869555\n",
      "computing optimized mi\n",
      "initial loss -5.156557078401765\n",
      "computing optimized mi\n",
      "initial loss -4.879798012597423\n",
      "computing optimized mi\n",
      "initial loss -5.247395499423028\n",
      "computing optimized mi\n",
      "initial loss -5.744384810440845\n",
      "computing optimized mi\n",
      "initial loss -5.240675262709299\n",
      "computing optimized mi\n",
      "initial loss -5.41329941653761\n",
      "computing optimized mi\n",
      "initial loss -5.264176581686803\n",
      "computing optimized mi\n",
      "initial loss -4.756614055532496\n",
      "computing optimized mi\n",
      "initial loss -5.317287951000417\n",
      "computing optimized mi\n"
     ]
    },
    {
     "name": "stderr",
     "output_type": "stream",
     "text": [
      " 20%|██████▏                        | 1/5 [10:40<42:40, 640.05s/it]"
     ]
    },
    {
     "name": "stdout",
     "output_type": "stream",
     "text": [
      "initial loss -5.0256228272167665\n",
      "computing optimized mi\n",
      "initial loss -4.811269849253607\n",
      "computing optimized mi\n",
      "initial loss -4.9537849572344905\n",
      "computing optimized mi\n",
      "initial loss -5.044776040764622\n",
      "computing optimized mi\n",
      "initial loss -4.68787362572752\n",
      "computing optimized mi\n",
      "initial loss -5.147018072716258\n",
      "computing optimized mi\n",
      "initial loss -5.016854512630938\n",
      "computing optimized mi\n",
      "initial loss -4.790887361310056\n",
      "computing optimized mi\n",
      "initial loss -4.5571618573851405\n",
      "computing optimized mi\n",
      "initial loss -5.047117587291786\n",
      "computing optimized mi\n",
      "initial loss -5.002156104543311\n",
      "computing optimized mi\n"
     ]
    },
    {
     "name": "stderr",
     "output_type": "stream",
     "text": [
      " 40%|████████████                  | 2/5 [35:03<56:12, 1124.17s/it]"
     ]
    },
    {
     "name": "stdout",
     "output_type": "stream",
     "text": [
      "initial loss -4.031300347774605\n",
      "computing optimized mi\n"
     ]
    },
    {
     "name": "stderr",
     "output_type": "stream",
     "text": [
      "/home/hpinkard_waller/GitRepos/EncodingInformation/encoding_information/information_estimation.py:226: UserWarning: 0.01% of pixels are negative.\n",
      "  warnings.warn(f\"{np.sum(clean_images_if_available < 0) / clean_images_if_available.size:.2%} of pixels are negative.\")\n"
     ]
    },
    {
     "name": "stdout",
     "output_type": "stream",
     "text": [
      "initial loss -4.359288761803938\n",
      "computing optimized mi\n"
     ]
    },
    {
     "name": "stderr",
     "output_type": "stream",
     "text": [
      "/home/hpinkard_waller/GitRepos/EncodingInformation/encoding_information/information_estimation.py:226: UserWarning: 0.02% of pixels are negative.\n",
      "  warnings.warn(f\"{np.sum(clean_images_if_available < 0) / clean_images_if_available.size:.2%} of pixels are negative.\")\n"
     ]
    },
    {
     "name": "stdout",
     "output_type": "stream",
     "text": [
      "initial loss -4.132441509454197\n",
      "computing optimized mi\n",
      "initial loss -4.487627824685866\n",
      "computing optimized mi\n",
      "initial loss -4.087603391108919\n",
      "computing optimized mi\n",
      "initial loss -4.0591581660611\n",
      "computing optimized mi\n",
      "initial loss -3.894071520861001\n",
      "computing optimized mi\n",
      "initial loss -3.734262812331056\n",
      "computing optimized mi\n",
      "initial loss -3.8264127198285944\n",
      "computing optimized mi\n",
      "initial loss -4.163878754209562\n",
      "computing optimized mi\n",
      "initial loss -4.4595801326122855\n",
      "computing optimized mi\n"
     ]
    },
    {
     "name": "stderr",
     "output_type": "stream",
     "text": [
      " 60%|███████████████▌          | 3/5 [1:34:47<1:14:54, 2247.47s/it]"
     ]
    },
    {
     "name": "stdout",
     "output_type": "stream",
     "text": [
      "initial loss -3.38870401826866\n",
      "computing optimized mi\n"
     ]
    },
    {
     "name": "stderr",
     "output_type": "stream",
     "text": [
      "/home/hpinkard_waller/GitRepos/EncodingInformation/encoding_information/information_estimation.py:226: UserWarning: 0.21% of pixels are negative.\n",
      "  warnings.warn(f\"{np.sum(clean_images_if_available < 0) / clean_images_if_available.size:.2%} of pixels are negative.\")\n"
     ]
    },
    {
     "name": "stdout",
     "output_type": "stream",
     "text": [
      "initial loss -3.3926497329469107\n",
      "computing optimized mi\n"
     ]
    },
    {
     "name": "stderr",
     "output_type": "stream",
     "text": [
      "/home/hpinkard_waller/GitRepos/EncodingInformation/encoding_information/information_estimation.py:226: UserWarning: 0.23% of pixels are negative.\n",
      "  warnings.warn(f\"{np.sum(clean_images_if_available < 0) / clean_images_if_available.size:.2%} of pixels are negative.\")\n"
     ]
    },
    {
     "name": "stdout",
     "output_type": "stream",
     "text": [
      "initial loss -3.242978949525035\n",
      "computing optimized mi\n",
      "initial loss -3.082498832957106\n",
      "computing optimized mi\n"
     ]
    },
    {
     "name": "stderr",
     "output_type": "stream",
     "text": [
      "/home/hpinkard_waller/GitRepos/EncodingInformation/encoding_information/information_estimation.py:226: UserWarning: 0.26% of pixels are negative.\n",
      "  warnings.warn(f\"{np.sum(clean_images_if_available < 0) / clean_images_if_available.size:.2%} of pixels are negative.\")\n"
     ]
    },
    {
     "name": "stdout",
     "output_type": "stream",
     "text": [
      "initial loss -3.5383892060637665\n",
      "computing optimized mi\n",
      "initial loss -3.233600179366495\n",
      "computing optimized mi\n"
     ]
    },
    {
     "name": "stderr",
     "output_type": "stream",
     "text": [
      "/home/hpinkard_waller/GitRepos/EncodingInformation/encoding_information/information_estimation.py:226: UserWarning: 0.29% of pixels are negative.\n",
      "  warnings.warn(f\"{np.sum(clean_images_if_available < 0) / clean_images_if_available.size:.2%} of pixels are negative.\")\n"
     ]
    },
    {
     "name": "stdout",
     "output_type": "stream",
     "text": [
      "initial loss -3.6627115430413886\n",
      "computing optimized mi\n"
     ]
    },
    {
     "name": "stderr",
     "output_type": "stream",
     "text": [
      "/home/hpinkard_waller/GitRepos/EncodingInformation/encoding_information/information_estimation.py:226: UserWarning: 0.24% of pixels are negative.\n",
      "  warnings.warn(f\"{np.sum(clean_images_if_available < 0) / clean_images_if_available.size:.2%} of pixels are negative.\")\n"
     ]
    },
    {
     "name": "stdout",
     "output_type": "stream",
     "text": [
      "initial loss -3.4156670593161595\n",
      "computing optimized mi\n",
      "initial loss -3.2320177772035823\n",
      "computing optimized mi\n"
     ]
    },
    {
     "name": "stderr",
     "output_type": "stream",
     "text": [
      "/home/hpinkard_waller/GitRepos/EncodingInformation/encoding_information/information_estimation.py:226: UserWarning: 0.19% of pixels are negative.\n",
      "  warnings.warn(f\"{np.sum(clean_images_if_available < 0) / clean_images_if_available.size:.2%} of pixels are negative.\")\n"
     ]
    },
    {
     "name": "stdout",
     "output_type": "stream",
     "text": [
      "initial loss -3.5746355104712864\n",
      "computing optimized mi\n",
      "initial loss -3.718443113735148\n",
      "computing optimized mi\n"
     ]
    },
    {
     "name": "stderr",
     "output_type": "stream",
     "text": [
      "/home/hpinkard_waller/GitRepos/EncodingInformation/encoding_information/information_estimation.py:226: UserWarning: 0.14% of pixels are negative.\n",
      "  warnings.warn(f\"{np.sum(clean_images_if_available < 0) / clean_images_if_available.size:.2%} of pixels are negative.\")\n",
      " 80%|████████████████████▊     | 4/5 [3:40:11<1:12:10, 4330.56s/it]"
     ]
    },
    {
     "name": "stdout",
     "output_type": "stream",
     "text": [
      "initial loss -2.820975654259209\n",
      "computing optimized mi\n"
     ]
    },
    {
     "name": "stderr",
     "output_type": "stream",
     "text": [
      "/home/hpinkard_waller/GitRepos/EncodingInformation/encoding_information/information_estimation.py:226: UserWarning: 2.77% of pixels are negative.\n",
      "  warnings.warn(f\"{np.sum(clean_images_if_available < 0) / clean_images_if_available.size:.2%} of pixels are negative.\")\n"
     ]
    },
    {
     "name": "stdout",
     "output_type": "stream",
     "text": [
      "initial loss -2.816786255604981\n",
      "computing optimized mi\n"
     ]
    },
    {
     "name": "stderr",
     "output_type": "stream",
     "text": [
      "/home/hpinkard_waller/GitRepos/EncodingInformation/encoding_information/information_estimation.py:226: UserWarning: 2.27% of pixels are negative.\n",
      "  warnings.warn(f\"{np.sum(clean_images_if_available < 0) / clean_images_if_available.size:.2%} of pixels are negative.\")\n"
     ]
    },
    {
     "name": "stdout",
     "output_type": "stream",
     "text": [
      "initial loss -3.0413644242789277\n",
      "computing optimized mi\n"
     ]
    },
    {
     "name": "stderr",
     "output_type": "stream",
     "text": [
      "/home/hpinkard_waller/GitRepos/EncodingInformation/encoding_information/information_estimation.py:226: UserWarning: 2.85% of pixels are negative.\n",
      "  warnings.warn(f\"{np.sum(clean_images_if_available < 0) / clean_images_if_available.size:.2%} of pixels are negative.\")\n"
     ]
    },
    {
     "name": "stdout",
     "output_type": "stream",
     "text": [
      "initial loss -2.6668534351835\n",
      "computing optimized mi\n"
     ]
    },
    {
     "name": "stderr",
     "output_type": "stream",
     "text": [
      "/home/hpinkard_waller/GitRepos/EncodingInformation/encoding_information/information_estimation.py:226: UserWarning: 2.75% of pixels are negative.\n",
      "  warnings.warn(f\"{np.sum(clean_images_if_available < 0) / clean_images_if_available.size:.2%} of pixels are negative.\")\n"
     ]
    },
    {
     "name": "stdout",
     "output_type": "stream",
     "text": [
      "initial loss -3.088888984263458\n",
      "computing optimized mi\n"
     ]
    },
    {
     "name": "stderr",
     "output_type": "stream",
     "text": [
      "/home/hpinkard_waller/GitRepos/EncodingInformation/encoding_information/information_estimation.py:226: UserWarning: 2.79% of pixels are negative.\n",
      "  warnings.warn(f\"{np.sum(clean_images_if_available < 0) / clean_images_if_available.size:.2%} of pixels are negative.\")\n"
     ]
    },
    {
     "name": "stdout",
     "output_type": "stream",
     "text": [
      "initial loss -3.1779645531417096\n",
      "computing optimized mi\n"
     ]
    },
    {
     "name": "stderr",
     "output_type": "stream",
     "text": [
      "/home/hpinkard_waller/GitRepos/EncodingInformation/encoding_information/information_estimation.py:226: UserWarning: 2.53% of pixels are negative.\n",
      "  warnings.warn(f\"{np.sum(clean_images_if_available < 0) / clean_images_if_available.size:.2%} of pixels are negative.\")\n"
     ]
    },
    {
     "name": "stdout",
     "output_type": "stream",
     "text": [
      "initial loss -2.8767349391682733\n",
      "computing optimized mi\n"
     ]
    },
    {
     "name": "stderr",
     "output_type": "stream",
     "text": [
      "/home/hpinkard_waller/GitRepos/EncodingInformation/encoding_information/information_estimation.py:226: UserWarning: 3.05% of pixels are negative.\n",
      "  warnings.warn(f\"{np.sum(clean_images_if_available < 0) / clean_images_if_available.size:.2%} of pixels are negative.\")\n"
     ]
    },
    {
     "name": "stdout",
     "output_type": "stream",
     "text": [
      "initial loss -2.9886152154133034\n",
      "computing optimized mi\n"
     ]
    },
    {
     "name": "stderr",
     "output_type": "stream",
     "text": [
      "/home/hpinkard_waller/GitRepos/EncodingInformation/encoding_information/information_estimation.py:226: UserWarning: 2.31% of pixels are negative.\n",
      "  warnings.warn(f\"{np.sum(clean_images_if_available < 0) / clean_images_if_available.size:.2%} of pixels are negative.\")\n"
     ]
    },
    {
     "name": "stdout",
     "output_type": "stream",
     "text": [
      "initial loss -3.0623550869903147\n",
      "computing optimized mi\n"
     ]
    },
    {
     "name": "stderr",
     "output_type": "stream",
     "text": [
      "/home/hpinkard_waller/GitRepos/EncodingInformation/encoding_information/information_estimation.py:226: UserWarning: 2.54% of pixels are negative.\n",
      "  warnings.warn(f\"{np.sum(clean_images_if_available < 0) / clean_images_if_available.size:.2%} of pixels are negative.\")\n"
     ]
    },
    {
     "name": "stdout",
     "output_type": "stream",
     "text": [
      "initial loss -2.6199518097801398\n",
      "computing optimized mi\n"
     ]
    },
    {
     "name": "stderr",
     "output_type": "stream",
     "text": [
      "/home/hpinkard_waller/GitRepos/EncodingInformation/encoding_information/information_estimation.py:226: UserWarning: 2.59% of pixels are negative.\n",
      "  warnings.warn(f\"{np.sum(clean_images_if_available < 0) / clean_images_if_available.size:.2%} of pixels are negative.\")\n"
     ]
    },
    {
     "name": "stdout",
     "output_type": "stream",
     "text": [
      "initial loss -3.242482150539066\n",
      "computing optimized mi\n"
     ]
    },
    {
     "name": "stderr",
     "output_type": "stream",
     "text": [
      "/home/hpinkard_waller/GitRepos/EncodingInformation/encoding_information/information_estimation.py:226: UserWarning: 2.36% of pixels are negative.\n",
      "  warnings.warn(f\"{np.sum(clean_images_if_available < 0) / clean_images_if_available.size:.2%} of pixels are negative.\")\n",
      "100%|████████████████████████████| 5/5 [7:48:27<00:00, 5621.48s/it]\n"
     ]
    },
    {
     "name": "stdout",
     "output_type": "stream",
     "text": [
      "8_deltas_uniform\n"
     ]
    },
    {
     "name": "stderr",
     "output_type": "stream",
     "text": [
      "  0%|                                        | 0/5 [00:00<?, ?it/s]"
     ]
    },
    {
     "name": "stdout",
     "output_type": "stream",
     "text": [
      "initial loss -3.6849376381988366\n",
      "computing optimized mi\n",
      "initial loss -4.228481026037813\n",
      "computing optimized mi\n",
      "initial loss -3.8315491376158612\n",
      "computing optimized mi\n",
      "initial loss -3.8703249118660734\n",
      "computing optimized mi\n",
      "initial loss -4.643931207946938\n",
      "computing optimized mi\n",
      "initial loss -4.082633572494535\n",
      "computing optimized mi\n",
      "initial loss -3.6944217756217026\n",
      "computing optimized mi\n",
      "initial loss -3.8802528841674944\n",
      "computing optimized mi\n",
      "initial loss -4.246218678267122\n",
      "computing optimized mi\n",
      "initial loss -3.878332496697099\n",
      "computing optimized mi\n",
      "initial loss -4.773636950466132\n",
      "computing optimized mi\n"
     ]
    },
    {
     "name": "stderr",
     "output_type": "stream",
     "text": [
      " 20%|██████▏                        | 1/5 [11:27<45:51, 687.89s/it]"
     ]
    },
    {
     "name": "stdout",
     "output_type": "stream",
     "text": [
      "initial loss -3.4782114170968685\n",
      "computing optimized mi\n",
      "initial loss -3.2250547513746346\n",
      "computing optimized mi\n",
      "initial loss -3.3954767071052534\n",
      "computing optimized mi\n",
      "initial loss -3.3614231135296797\n",
      "computing optimized mi\n",
      "initial loss -3.8536472736622787\n",
      "computing optimized mi\n",
      "initial loss -3.856856231831127\n",
      "computing optimized mi\n",
      "initial loss -3.52419645683952\n",
      "computing optimized mi\n",
      "initial loss -3.85349375206307\n",
      "computing optimized mi\n",
      "initial loss -3.31565020910877\n",
      "computing optimized mi\n",
      "initial loss -3.8672853859303924\n",
      "computing optimized mi\n",
      "initial loss -4.133196823361226\n",
      "computing optimized mi\n"
     ]
    },
    {
     "name": "stderr",
     "output_type": "stream",
     "text": [
      " 40%|████████████                  | 2/5 [35:56<57:20, 1146.99s/it]"
     ]
    },
    {
     "name": "stdout",
     "output_type": "stream",
     "text": [
      "initial loss -2.7079226623917076\n",
      "computing optimized mi\n",
      "initial loss -2.668591755327655\n",
      "computing optimized mi\n",
      "initial loss -2.733723877381885\n",
      "computing optimized mi\n",
      "initial loss -2.6564959707113696\n",
      "computing optimized mi\n",
      "initial loss -3.1534478986061787\n",
      "computing optimized mi\n",
      "initial loss -3.0045490645537725\n",
      "computing optimized mi\n",
      "initial loss -2.919999163689872\n",
      "computing optimized mi\n",
      "initial loss -2.980397488603584\n",
      "computing optimized mi\n",
      "initial loss -2.6351562714407737\n",
      "computing optimized mi\n",
      "initial loss -2.4023528631651825\n",
      "computing optimized mi\n",
      "initial loss -3.2558270678812273\n",
      "computing optimized mi\n"
     ]
    },
    {
     "name": "stderr",
     "output_type": "stream",
     "text": [
      " 60%|███████████████▌          | 3/5 [1:36:22<1:15:58, 2279.30s/it]"
     ]
    },
    {
     "name": "stdout",
     "output_type": "stream",
     "text": [
      "initial loss -1.803333377429691\n",
      "computing optimized mi\n",
      "initial loss -2.3034970111686093\n",
      "computing optimized mi\n",
      "initial loss -1.872727141524324\n",
      "computing optimized mi\n",
      "initial loss -2.0274679576947667\n",
      "computing optimized mi\n",
      "initial loss -2.2286632775538737\n",
      "computing optimized mi\n",
      "initial loss -2.1273182655775016\n",
      "computing optimized mi\n",
      "initial loss -2.3095945940379528\n",
      "computing optimized mi\n",
      "initial loss -2.4784555366878833\n",
      "computing optimized mi\n",
      "initial loss -2.0193554980935353\n",
      "computing optimized mi\n",
      "initial loss -2.0220593280112373\n",
      "computing optimized mi\n",
      "initial loss -1.9362639450677452\n",
      "computing optimized mi\n"
     ]
    },
    {
     "name": "stderr",
     "output_type": "stream",
     "text": [
      " 80%|████████████████████▊     | 4/5 [3:42:36<1:12:49, 4369.39s/it]"
     ]
    },
    {
     "name": "stdout",
     "output_type": "stream",
     "text": [
      "initial loss -1.647731559084346\n",
      "computing optimized mi\n"
     ]
    },
    {
     "name": "stderr",
     "output_type": "stream",
     "text": [
      "/home/hpinkard_waller/GitRepos/EncodingInformation/encoding_information/information_estimation.py:226: UserWarning: 0.03% of pixels are negative.\n",
      "  warnings.warn(f\"{np.sum(clean_images_if_available < 0) / clean_images_if_available.size:.2%} of pixels are negative.\")\n"
     ]
    },
    {
     "name": "stdout",
     "output_type": "stream",
     "text": [
      "initial loss -1.5358732321878554\n",
      "computing optimized mi\n"
     ]
    },
    {
     "name": "stderr",
     "output_type": "stream",
     "text": [
      "/home/hpinkard_waller/GitRepos/EncodingInformation/encoding_information/information_estimation.py:226: UserWarning: 0.04% of pixels are negative.\n",
      "  warnings.warn(f\"{np.sum(clean_images_if_available < 0) / clean_images_if_available.size:.2%} of pixels are negative.\")\n"
     ]
    },
    {
     "name": "stdout",
     "output_type": "stream",
     "text": [
      "initial loss -1.4506514212487338\n",
      "computing optimized mi\n",
      "initial loss -1.8453454017304212\n",
      "computing optimized mi\n",
      "initial loss -1.8870975574042705\n",
      "computing optimized mi\n"
     ]
    },
    {
     "name": "stderr",
     "output_type": "stream",
     "text": [
      "/home/hpinkard_waller/GitRepos/EncodingInformation/encoding_information/information_estimation.py:226: UserWarning: 0.05% of pixels are negative.\n",
      "  warnings.warn(f\"{np.sum(clean_images_if_available < 0) / clean_images_if_available.size:.2%} of pixels are negative.\")\n"
     ]
    },
    {
     "name": "stdout",
     "output_type": "stream",
     "text": [
      "initial loss -1.8482873517818998\n",
      "computing optimized mi\n",
      "initial loss -1.7669642897791678\n",
      "computing optimized mi\n",
      "initial loss -1.4238202746470014\n",
      "computing optimized mi\n",
      "initial loss -1.646104434855656\n",
      "computing optimized mi\n",
      "initial loss -1.6031025332521258\n",
      "computing optimized mi\n",
      "initial loss -1.3836126205363553\n",
      "computing optimized mi\n"
     ]
    },
    {
     "name": "stderr",
     "output_type": "stream",
     "text": [
      "100%|████████████████████████████| 5/5 [7:50:54<00:00, 5650.95s/it]\n"
     ]
    }
   ],
   "source": [
    "from scipy.signal import resample\n",
    "\n",
    "N_objects = 5000\n",
    "noise_sigma = 1e-3\n",
    "num_nyquist_samples_list = [4, 9, 16, 25, 36]\n",
    "num_bootstrap_samples = 11\n",
    "upsampling_factor = 64\n",
    "max_epochs = 5000\n",
    "confidence = 90\n",
    "\n",
    "object_names = ['white_noise', 'delta_uniform', '8_deltas_uniform']\n",
    "\n",
    "num_nyquist_samples = NUM_NYQUIST_SAMPLES\n",
    "\n",
    "\n",
    "def white_noise_fn(upsampling_factor):\n",
    "  # generate a random object at the lowest resolution\n",
    "  objects = []\n",
    "  for i in range(N_objects):  \n",
    "    object = generate_random_object('white_noise', object_size=upsampling_factor*num_nyquist_samples_list[0])\n",
    "    # upsample it\n",
    "    object = resample(object, upsampled_signal_length)\n",
    "    objects.append(object)\n",
    "  # print(objects[0].shape)\n",
    "  return np.array(objects) \n",
    "\n",
    "mi_by_object = {}\n",
    "mi_by_object_hi = {}\n",
    "mi_by_object_lo = {}\n",
    "for name in object_names:\n",
    "  print(name)\n",
    "  mutual_information = []\n",
    "  mi_hi = []\n",
    "  mi_lo = []\n",
    "  for num_nyquist_samples in tqdm(num_nyquist_samples_list):\n",
    "    upsampled_signal_length = upsampling_factor*num_nyquist_samples\n",
    "    \n",
    "    if name == 'delta_uniform':\n",
    "      objects_fn = lambda : np.array([generate_random_object('delta', num_deltas=1, object_size=upsampled_signal_length) for i in range(N_objects)])\n",
    "    elif name == '8_deltas_uniform':\n",
    "      objects_fn = lambda :np.array([generate_random_object('delta', num_deltas=8, object_size=upsampled_signal_length) for i in range(N_objects)])\n",
    "    else:\n",
    "      objects_fn = lambda : white_noise_fn(upsampling_factor)\n",
    "\n",
    "    runs = []\n",
    "    for i in range(num_bootstrap_samples):\n",
    "      initial_kernel, initial_params, optimized_params, objects, initial_mi, optimized_mi = optimize_PSF_and_estimate_mi(\n",
    "          objects_fn, noise_sigma, num_nyquist_samples=num_nyquist_samples, upsampled_signal_length=upsampling_factor*num_nyquist_samples,\n",
    "          max_epochs=max_epochs, \n",
    "          )\n",
    "      runs.append(optimized_mi)\n",
    "    runs = np.array(runs)\n",
    "    mutual_information.append(np.median(runs))\n",
    "    mi_lo.append(np.percentile(np.array(runs), 100-confidence))\n",
    "    mi_hi.append(np.percentile(np.array(runs), confidence))\n",
    "  mi_by_object[name] = mutual_information\n",
    "  mi_by_object_hi[name] = mi_hi\n",
    "  mi_by_object_lo[name] = mi_lo"
   ]
  },
  {
   "cell_type": "code",
   "execution_count": 3,
   "metadata": {
    "execution": {
     "iopub.execute_input": "2024-01-25T17:16:55.401562Z",
     "iopub.status.busy": "2024-01-25T17:16:55.401325Z",
     "iopub.status.idle": "2024-01-25T17:16:56.274918Z",
     "shell.execute_reply": "2024-01-25T17:16:56.274159Z"
    }
   },
   "outputs": [
    {
     "data": {
      "image/png": "[encoded data removed]",
      "text/plain": [
       "<Figure size 350x350 with 1 Axes>"
      ]
     },
     "metadata": {},
     "output_type": "display_data"
    }
   ],
   "source": [
    "fig, ax = plt.subplots(1, 1, figsize=(3.5, 3.5))\n",
    "\n",
    "for object_name, mutual_information in mi_by_object.items():\n",
    "\n",
    "    total_mi = np.array(mutual_information) * np.array(num_nyquist_samples_list)\n",
    "\n",
    "    total_mi_hi = np.array(mi_by_object_hi[object_name]) * np.array(num_nyquist_samples_list)\n",
    "    total_mi_lo = np.array(mi_by_object_lo[object_name]) * np.array(num_nyquist_samples_list)\n",
    "\n",
    "    ax.plot(num_nyquist_samples_list, total_mi, 'o-', label=object_name)\n",
    "    ax.fill_between(num_nyquist_samples_list, total_mi_lo, total_mi_hi, alpha=0.2)\n",
    "    ax.set_xlabel('Signal bandwidth (number of Nyquist samples)')\n",
    "    ax.set_ylabel('Mutual information (bits)')\n",
    "\n",
    "    ax.set(ylim=(0, max(1.1 * np.max(total_mi), ax.get_ylim()[1])))\n",
    "    # ax.set(ylim=[0, 25])\n",
    "\n",
    "clear_spines(ax)\n",
    "ax.legend()\n",
    "\n",
    "fig.savefig('/home/hpinkard_waller/figures/1d_signals/' + 'mi_vs_bandwidth' + '.pdf', transparent=True)\n"
   ]
  },
  {
   "cell_type": "code",
   "execution_count": 4,
   "metadata": {
    "execution": {
     "iopub.execute_input": "2024-01-25T17:16:56.280763Z",
     "iopub.status.busy": "2024-01-25T17:16:56.280424Z",
     "iopub.status.idle": "2024-01-25T17:16:56.317235Z",
     "shell.execute_reply": "2024-01-25T17:16:56.316468Z"
    }
   },
   "outputs": [],
   "source": [
    "# fig, ax = plt.subplots(1, 1, figsize=(3.5, 3.5))\n",
    "\n",
    "# for object_name, mutual_information in mi_by_object.items():\n",
    "\n",
    "#     total_mi = np.array(mutual_information) * np.array(num_nyquist_samples_list)\n",
    "#     ax.semilogx(num_nyquist_samples_list, total_mi, 'o-', label=object_name)\n",
    "#     ax.set_xlabel('Signal bandwidth (number of Nyquist samples)')\n",
    "#     ax.set_ylabel('Mutual information (bits)')\n",
    "\n",
    "#     ax.set(ylim=(0, max(1.1 * np.max(total_mi), ax.get_ylim()[1])))\n",
    "\n",
    "# clear_spines(ax)\n",
    "# ax.legend()\n",
    "\n",
    "# fig.savefig('/home/hpinkard_waller/figures/1d_signals/' + 'mi_vs_bandwidth' + '.pdf', transparent=True)\n"
   ]
  }
 ],
 "metadata": {
  "kernelspec": {
   "display_name": "phenotypes",
   "language": "python",
   "name": "python3"
  },
  "language_info": {
   "codemirror_mode": {
    "name": "ipython",
    "version": 3
   },
   "file_extension": ".py",
   "mimetype": "text/x-python",
   "name": "python",
   "nbconvert_exporter": "python",
   "pygments_lexer": "ipython3",
   "version": "3.10.6"
  }
 },
 "nbformat": 4,
 "nbformat_minor": 2
}
