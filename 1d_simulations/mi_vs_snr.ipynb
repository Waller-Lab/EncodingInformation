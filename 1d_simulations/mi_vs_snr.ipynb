{
 "cells": [
  {
   "cell_type": "code",
   "execution_count": 1,
   "metadata": {
    "execution": {
     "iopub.execute_input": "2023-11-23T16:53:02.601763Z",
     "iopub.status.busy": "2023-11-23T16:53:02.601435Z",
     "iopub.status.idle": "2023-11-23T16:53:03.725980Z",
     "shell.execute_reply": "2023-11-23T16:53:03.725430Z"
    }
   },
   "outputs": [
    {
     "name": "stderr",
     "output_type": "stream",
     "text": [
      "2024-01-21 22:10:07.314343: E tensorflow/stream_executor/cuda/cuda_blas.cc:2981] Unable to register cuBLAS factory: Attempting to register factory for plugin cuBLAS when one has already been registered\n",
      "2024-01-21 22:10:07.999648: W tensorflow/stream_executor/platform/default/dso_loader.cc:64] Could not load dynamic library 'libnvinfer.so.7'; dlerror: libnvinfer.so.7: cannot open shared object file: No such file or directory\n",
      "2024-01-21 22:10:07.999719: W tensorflow/stream_executor/platform/default/dso_loader.cc:64] Could not load dynamic library 'libnvinfer_plugin.so.7'; dlerror: libnvinfer_plugin.so.7: cannot open shared object file: No such file or directory\n",
      "2024-01-21 22:10:07.999727: W tensorflow/compiler/tf2tensorrt/utils/py_utils.cc:38] TF-TRT Warning: Cannot dlopen some TensorRT libraries. If you would like to use Nvidia GPU with TensorRT, please make sure the missing libraries mentioned above are installed properly.\n"
     ]
    }
   ],
   "source": [
    "%load_ext autoreload\n",
    "%autoreload 2\n",
    "# this only works on startup!\n",
    "from jax import config\n",
    "config.update(\"jax_enable_x64\", True)\n",
    "\n",
    "import os\n",
    "os.environ[\"CUDA_DEVICE_ORDER\"] = \"PCI_BUS_ID\" \n",
    "os.environ[\"CUDA_VISIBLE_DEVICES\"] = '3'\n",
    "from encoding_information.gpu_utils import limit_gpu_memory_growth\n",
    "limit_gpu_memory_growth()\n",
    "\n",
    "from cleanplots import *\n",
    "from tqdm import tqdm\n",
    "from signal_utils_1D import *\n"
   ]
  },
  {
   "cell_type": "code",
   "execution_count": 2,
   "metadata": {
    "execution": {
     "iopub.execute_input": "2023-11-23T16:53:03.730785Z",
     "iopub.status.busy": "2023-11-23T16:53:03.730559Z",
     "iopub.status.idle": "2023-11-23T18:59:05.488593Z",
     "shell.execute_reply": "2023-11-23T18:59:05.487714Z"
    }
   },
   "outputs": [
    {
     "name": "stdout",
     "output_type": "stream",
     "text": [
      "delta_uniform\n"
     ]
    },
    {
     "name": "stderr",
     "output_type": "stream",
     "text": [
      "  0%|          | 0/5 [00:00<?, ?it/s]"
     ]
    },
    {
     "name": "stdout",
     "output_type": "stream",
     "text": [
      "initial loss -13.099183871512416\n",
      "computing initial mi\n"
     ]
    },
    {
     "name": "stderr",
     "output_type": "stream",
     "text": [
      "2024-01-21 22:11:45.604939: W tensorflow/core/common_runtime/gpu/gpu_bfc_allocator.cc:42] Overriding orig_value setting because the TF_FORCE_GPU_ALLOW_GROWTH environment variable is set. Original config value was 0.\n"
     ]
    },
    {
     "name": "stdout",
     "output_type": "stream",
     "text": [
      "computing optimized mi\n",
      "initial loss -13.669548127379716\n",
      "computing initial mi\n",
      "computing optimized mi\n",
      "initial loss -13.852938109716256\n",
      "computing initial mi\n",
      "computing optimized mi\n",
      "initial loss -13.550525627320841\n",
      "computing initial mi\n",
      "computing optimized mi\n",
      "initial loss -13.495092634581178\n",
      "computing initial mi\n",
      "computing optimized mi\n",
      "initial loss -13.806415711713509\n",
      "computing initial mi\n",
      "computing optimized mi\n",
      "initial loss -13.491563027955497\n",
      "computing initial mi\n",
      "computing optimized mi\n",
      "initial loss -13.944241966692406\n",
      "computing initial mi\n",
      "computing optimized mi\n",
      "initial loss -13.32210897534109\n",
      "computing initial mi\n",
      "computing optimized mi\n",
      "initial loss -13.509991005916909\n",
      "computing initial mi\n",
      "computing optimized mi\n",
      "initial loss -13.374927957537592\n",
      "computing initial mi\n",
      "computing optimized mi\n"
     ]
    },
    {
     "name": "stderr",
     "output_type": "stream",
     "text": [
      " 20%|██        | 1/5 [18:04<1:12:19, 1084.77s/it]"
     ]
    },
    {
     "name": "stdout",
     "output_type": "stream",
     "text": [
      "initial loss -10.161981638463386\n",
      "computing initial mi\n",
      "computing optimized mi\n",
      "initial loss -10.5971532125279\n",
      "computing initial mi\n",
      "computing optimized mi\n",
      "initial loss -9.8642642647067\n",
      "computing initial mi\n",
      "computing optimized mi\n",
      "initial loss -10.049536613288033\n",
      "computing initial mi\n",
      "computing optimized mi\n",
      "initial loss -10.586962903090864\n",
      "computing initial mi\n",
      "computing optimized mi\n",
      "initial loss -10.253762606660697\n",
      "computing initial mi\n",
      "computing optimized mi\n",
      "initial loss -10.497659175392588\n",
      "computing initial mi\n",
      "computing optimized mi\n",
      "initial loss -10.212703199860947\n",
      "computing initial mi\n",
      "computing optimized mi\n",
      "initial loss -10.385978932282782\n",
      "computing initial mi\n",
      "computing optimized mi\n",
      "initial loss -10.03766039821878\n",
      "computing initial mi\n",
      "computing optimized mi\n",
      "initial loss -10.212662065985786\n",
      "computing initial mi\n",
      "computing optimized mi\n"
     ]
    },
    {
     "name": "stderr",
     "output_type": "stream",
     "text": [
      " 40%|████      | 2/5 [36:04<54:04, 1081.57s/it]  "
     ]
    },
    {
     "name": "stdout",
     "output_type": "stream",
     "text": [
      "initial loss -7.799631924742252\n",
      "computing initial mi\n",
      "computing optimized mi\n",
      "initial loss -6.95683891527679\n",
      "computing initial mi\n",
      "computing optimized mi\n",
      "initial loss -6.955460165989175\n",
      "computing initial mi\n",
      "computing optimized mi\n",
      "initial loss -7.471823739738815\n",
      "computing initial mi\n",
      "computing optimized mi\n",
      "initial loss -7.494406628927511\n",
      "computing initial mi\n",
      "computing optimized mi\n",
      "initial loss -7.296025356141808\n",
      "computing initial mi\n",
      "computing optimized mi\n",
      "initial loss -7.792656581370716\n",
      "computing initial mi\n",
      "computing optimized mi\n",
      "initial loss -7.550995393165916\n",
      "computing initial mi\n",
      "computing optimized mi\n",
      "initial loss -7.344977443101506\n",
      "computing initial mi\n",
      "computing optimized mi\n",
      "initial loss -6.321538488809703\n",
      "computing initial mi\n",
      "computing optimized mi\n",
      "initial loss -7.069266543741769\n",
      "computing initial mi\n",
      "computing optimized mi\n"
     ]
    },
    {
     "name": "stderr",
     "output_type": "stream",
     "text": [
      " 60%|██████    | 3/5 [54:02<36:00, 1080.16s/it]"
     ]
    },
    {
     "name": "stdout",
     "output_type": "stream",
     "text": [
      "initial loss -4.141013028663004\n",
      "computing initial mi\n",
      "computing optimized mi\n"
     ]
    },
    {
     "name": "stderr",
     "output_type": "stream",
     "text": [
      "/home/hpinkard_waller/GitRepos/EncodingInformation/encoding_information/information_estimation.py:223: UserWarning: 0.00% of pixels are negative.\n",
      "  warnings.warn(f\"{np.sum(clean_images_if_available < 0) / clean_images_if_available.size:.2%} of pixels are negative.\")\n"
     ]
    },
    {
     "name": "stdout",
     "output_type": "stream",
     "text": [
      "initial loss -4.182675084083273\n",
      "computing initial mi\n",
      "computing optimized mi\n"
     ]
    },
    {
     "name": "stderr",
     "output_type": "stream",
     "text": [
      "/home/hpinkard_waller/GitRepos/EncodingInformation/encoding_information/information_estimation.py:223: UserWarning: 0.02% of pixels are negative.\n",
      "  warnings.warn(f\"{np.sum(clean_images_if_available < 0) / clean_images_if_available.size:.2%} of pixels are negative.\")\n"
     ]
    },
    {
     "name": "stdout",
     "output_type": "stream",
     "text": [
      "initial loss -4.477731624298148\n",
      "computing initial mi\n",
      "computing optimized mi\n",
      "initial loss -3.828009172092795\n",
      "computing initial mi\n",
      "computing optimized mi\n",
      "initial loss -4.131854575128684\n",
      "computing initial mi\n",
      "computing optimized mi\n",
      "initial loss -4.234413888008762\n",
      "computing initial mi\n",
      "computing optimized mi\n",
      "initial loss -4.035419366191985\n",
      "computing initial mi\n",
      "computing optimized mi\n"
     ]
    },
    {
     "name": "stderr",
     "output_type": "stream",
     "text": [
      "/home/hpinkard_waller/GitRepos/EncodingInformation/encoding_information/information_estimation.py:223: UserWarning: 0.03% of pixels are negative.\n",
      "  warnings.warn(f\"{np.sum(clean_images_if_available < 0) / clean_images_if_available.size:.2%} of pixels are negative.\")\n"
     ]
    },
    {
     "name": "stdout",
     "output_type": "stream",
     "text": [
      "initial loss -3.8570059448859633\n",
      "computing initial mi\n",
      "computing optimized mi\n",
      "initial loss -4.442190877550013\n",
      "computing initial mi\n",
      "computing optimized mi\n",
      "initial loss -4.11593541320807\n",
      "computing initial mi\n",
      "computing optimized mi\n",
      "initial loss -4.2728552734833665\n",
      "computing initial mi\n",
      "computing optimized mi\n"
     ]
    },
    {
     "name": "stderr",
     "output_type": "stream",
     "text": [
      "/home/hpinkard_waller/GitRepos/EncodingInformation/encoding_information/information_estimation.py:223: UserWarning: 0.01% of pixels are negative.\n",
      "  warnings.warn(f\"{np.sum(clean_images_if_available < 0) / clean_images_if_available.size:.2%} of pixels are negative.\")\n",
      " 80%|████████  | 4/5 [1:11:53<17:56, 1076.63s/it]"
     ]
    },
    {
     "name": "stdout",
     "output_type": "stream",
     "text": [
      "initial loss -1.5487345208204863\n",
      "computing initial mi\n",
      "computing optimized mi\n"
     ]
    },
    {
     "name": "stderr",
     "output_type": "stream",
     "text": [
      "/home/hpinkard_waller/GitRepos/EncodingInformation/encoding_information/information_estimation.py:223: UserWarning: 3.98% of pixels are negative.\n",
      "  warnings.warn(f\"{np.sum(clean_images_if_available < 0) / clean_images_if_available.size:.2%} of pixels are negative.\")\n"
     ]
    },
    {
     "name": "stdout",
     "output_type": "stream",
     "text": [
      "initial loss -2.2794485854811524\n",
      "computing initial mi\n",
      "computing optimized mi\n"
     ]
    },
    {
     "name": "stderr",
     "output_type": "stream",
     "text": [
      "/home/hpinkard_waller/GitRepos/EncodingInformation/encoding_information/information_estimation.py:223: UserWarning: 4.17% of pixels are negative.\n",
      "  warnings.warn(f\"{np.sum(clean_images_if_available < 0) / clean_images_if_available.size:.2%} of pixels are negative.\")\n"
     ]
    },
    {
     "name": "stdout",
     "output_type": "stream",
     "text": [
      "initial loss -2.5428880708033836\n",
      "computing initial mi\n"
     ]
    },
    {
     "name": "stderr",
     "output_type": "stream",
     "text": [
      "/home/hpinkard_waller/GitRepos/EncodingInformation/encoding_information/information_estimation.py:223: UserWarning: 0.05% of pixels are negative.\n",
      "  warnings.warn(f\"{np.sum(clean_images_if_available < 0) / clean_images_if_available.size:.2%} of pixels are negative.\")\n"
     ]
    },
    {
     "name": "stdout",
     "output_type": "stream",
     "text": [
      "computing optimized mi\n"
     ]
    },
    {
     "name": "stderr",
     "output_type": "stream",
     "text": [
      "/home/hpinkard_waller/GitRepos/EncodingInformation/encoding_information/information_estimation.py:223: UserWarning: 4.01% of pixels are negative.\n",
      "  warnings.warn(f\"{np.sum(clean_images_if_available < 0) / clean_images_if_available.size:.2%} of pixels are negative.\")\n"
     ]
    },
    {
     "name": "stdout",
     "output_type": "stream",
     "text": [
      "initial loss -2.3742449816835465\n",
      "computing initial mi\n",
      "computing optimized mi\n"
     ]
    },
    {
     "name": "stderr",
     "output_type": "stream",
     "text": [
      "/home/hpinkard_waller/GitRepos/EncodingInformation/encoding_information/information_estimation.py:223: UserWarning: 3.96% of pixels are negative.\n",
      "  warnings.warn(f\"{np.sum(clean_images_if_available < 0) / clean_images_if_available.size:.2%} of pixels are negative.\")\n"
     ]
    },
    {
     "name": "stdout",
     "output_type": "stream",
     "text": [
      "initial loss -2.338349615616003\n",
      "computing initial mi\n",
      "computing optimized mi\n"
     ]
    },
    {
     "name": "stderr",
     "output_type": "stream",
     "text": [
      "/home/hpinkard_waller/GitRepos/EncodingInformation/encoding_information/information_estimation.py:223: UserWarning: 4.03% of pixels are negative.\n",
      "  warnings.warn(f\"{np.sum(clean_images_if_available < 0) / clean_images_if_available.size:.2%} of pixels are negative.\")\n"
     ]
    },
    {
     "name": "stdout",
     "output_type": "stream",
     "text": [
      "initial loss -1.9092859013485128\n",
      "computing initial mi\n",
      "computing optimized mi\n",
      "initial loss -1.9044114351379415\n",
      "computing initial mi\n",
      "computing optimized mi\n",
      "initial loss -2.455417983168555\n",
      "computing initial mi\n"
     ]
    },
    {
     "name": "stderr",
     "output_type": "stream",
     "text": [
      "/home/hpinkard_waller/GitRepos/EncodingInformation/encoding_information/information_estimation.py:223: UserWarning: 0.06% of pixels are negative.\n",
      "  warnings.warn(f\"{np.sum(clean_images_if_available < 0) / clean_images_if_available.size:.2%} of pixels are negative.\")\n"
     ]
    },
    {
     "name": "stdout",
     "output_type": "stream",
     "text": [
      "computing optimized mi\n"
     ]
    },
    {
     "name": "stderr",
     "output_type": "stream",
     "text": [
      "/home/hpinkard_waller/GitRepos/EncodingInformation/encoding_information/information_estimation.py:223: UserWarning: 4.33% of pixels are negative.\n",
      "  warnings.warn(f\"{np.sum(clean_images_if_available < 0) / clean_images_if_available.size:.2%} of pixels are negative.\")\n"
     ]
    },
    {
     "name": "stdout",
     "output_type": "stream",
     "text": [
      "initial loss -2.1020191775146717\n",
      "computing initial mi\n"
     ]
    },
    {
     "name": "stderr",
     "output_type": "stream",
     "text": [
      "/home/hpinkard_waller/GitRepos/EncodingInformation/encoding_information/information_estimation.py:223: UserWarning: 0.22% of pixels are negative.\n",
      "  warnings.warn(f\"{np.sum(clean_images_if_available < 0) / clean_images_if_available.size:.2%} of pixels are negative.\")\n"
     ]
    },
    {
     "name": "stdout",
     "output_type": "stream",
     "text": [
      "computing optimized mi\n"
     ]
    },
    {
     "name": "stderr",
     "output_type": "stream",
     "text": [
      "/home/hpinkard_waller/GitRepos/EncodingInformation/encoding_information/information_estimation.py:223: UserWarning: 4.18% of pixels are negative.\n",
      "  warnings.warn(f\"{np.sum(clean_images_if_available < 0) / clean_images_if_available.size:.2%} of pixels are negative.\")\n"
     ]
    },
    {
     "name": "stdout",
     "output_type": "stream",
     "text": [
      "initial loss -1.8334176010801015\n",
      "computing initial mi\n",
      "computing optimized mi\n"
     ]
    },
    {
     "name": "stderr",
     "output_type": "stream",
     "text": [
      "/home/hpinkard_waller/GitRepos/EncodingInformation/encoding_information/information_estimation.py:223: UserWarning: 4.25% of pixels are negative.\n",
      "  warnings.warn(f\"{np.sum(clean_images_if_available < 0) / clean_images_if_available.size:.2%} of pixels are negative.\")\n"
     ]
    },
    {
     "name": "stdout",
     "output_type": "stream",
     "text": [
      "initial loss -1.9079762033611742\n",
      "computing initial mi\n",
      "computing optimized mi\n"
     ]
    },
    {
     "name": "stderr",
     "output_type": "stream",
     "text": [
      "/home/hpinkard_waller/GitRepos/EncodingInformation/encoding_information/information_estimation.py:223: UserWarning: 4.23% of pixels are negative.\n",
      "  warnings.warn(f\"{np.sum(clean_images_if_available < 0) / clean_images_if_available.size:.2%} of pixels are negative.\")\n",
      "100%|██████████| 5/5 [1:29:28<00:00, 1073.77s/it]\n"
     ]
    },
    {
     "name": "stdout",
     "output_type": "stream",
     "text": [
      "white_noise\n"
     ]
    },
    {
     "name": "stderr",
     "output_type": "stream",
     "text": [
      "  0%|          | 0/5 [00:00<?, ?it/s]"
     ]
    },
    {
     "name": "stdout",
     "output_type": "stream",
     "text": [
      "initial loss -7.437835112399617\n",
      "computing initial mi\n",
      "computing optimized mi\n",
      "initial loss -8.029181383919983\n",
      "computing initial mi\n",
      "computing optimized mi\n",
      "initial loss -8.009312810995029\n",
      "computing initial mi\n",
      "computing optimized mi\n",
      "initial loss -7.694169378095684\n",
      "computing initial mi\n",
      "computing optimized mi\n",
      "initial loss -8.17325306415636\n",
      "computing initial mi\n",
      "computing optimized mi\n",
      "initial loss -8.076874686232543\n",
      "computing initial mi\n",
      "computing optimized mi\n",
      "initial loss -8.109809501468508\n",
      "computing initial mi\n",
      "computing optimized mi\n",
      "initial loss -7.91833087585942\n",
      "computing initial mi\n",
      "computing optimized mi\n",
      "initial loss -7.9769018223473935\n",
      "computing initial mi\n",
      "computing optimized mi\n",
      "initial loss -7.8916945216719565\n",
      "computing initial mi\n",
      "computing optimized mi\n",
      "initial loss -7.91124555027476\n",
      "computing initial mi\n",
      "computing optimized mi\n"
     ]
    },
    {
     "name": "stderr",
     "output_type": "stream",
     "text": [
      " 20%|██        | 1/5 [18:27<1:13:49, 1107.34s/it]"
     ]
    },
    {
     "name": "stdout",
     "output_type": "stream",
     "text": [
      "initial loss -4.528706157579709\n",
      "computing initial mi\n",
      "computing optimized mi\n",
      "initial loss -4.505765520020859\n",
      "computing initial mi\n",
      "computing optimized mi\n",
      "initial loss -4.679465453884948\n",
      "computing initial mi\n",
      "computing optimized mi\n",
      "initial loss -4.412813191797303\n",
      "computing initial mi\n",
      "computing optimized mi\n",
      "initial loss -4.341622662227854\n",
      "computing initial mi\n",
      "computing optimized mi\n",
      "initial loss -5.01036980046381\n",
      "computing initial mi\n",
      "computing optimized mi\n",
      "initial loss -3.9984974723014775\n",
      "computing initial mi\n",
      "computing optimized mi\n",
      "initial loss -4.078799661054671\n",
      "computing initial mi\n",
      "computing optimized mi\n",
      "initial loss -4.393310892980008\n",
      "computing initial mi\n",
      "computing optimized mi\n",
      "initial loss -4.684053296484182\n",
      "computing initial mi\n",
      "computing optimized mi\n",
      "initial loss -4.609575913969183\n",
      "computing initial mi\n",
      "computing optimized mi\n"
     ]
    },
    {
     "name": "stderr",
     "output_type": "stream",
     "text": [
      " 40%|████      | 2/5 [36:48<55:11, 1103.77s/it]  "
     ]
    },
    {
     "name": "stdout",
     "output_type": "stream",
     "text": [
      "initial loss -1.8050599712427697\n",
      "computing initial mi\n",
      "computing optimized mi\n",
      "initial loss -1.5485959321476237\n",
      "computing initial mi\n",
      "computing optimized mi\n",
      "initial loss -1.8521476998519675\n",
      "computing initial mi\n",
      "computing optimized mi\n",
      "initial loss -2.0320088838958026\n",
      "computing initial mi\n",
      "computing optimized mi\n",
      "initial loss -1.3178183529332448\n",
      "computing initial mi\n",
      "computing optimized mi\n",
      "initial loss -1.8674183372852324\n",
      "computing initial mi\n",
      "computing optimized mi\n",
      "initial loss -1.6669864871058078\n",
      "computing initial mi\n",
      "computing optimized mi\n",
      "initial loss -1.5598684141000074\n",
      "computing initial mi\n",
      "computing optimized mi\n",
      "initial loss -1.9379050966194848\n",
      "computing initial mi\n",
      "computing optimized mi\n",
      "initial loss -1.2664093812845625\n",
      "computing initial mi\n",
      "computing optimized mi\n",
      "initial loss -1.5149505654604356\n",
      "computing initial mi\n",
      "computing optimized mi\n"
     ]
    },
    {
     "name": "stderr",
     "output_type": "stream",
     "text": [
      " 60%|██████    | 3/5 [55:17<36:52, 1106.21s/it]"
     ]
    },
    {
     "name": "stdout",
     "output_type": "stream",
     "text": [
      "initial loss -0.08924887795823477\n",
      "computing initial mi\n",
      "computing optimized mi\n",
      "initial loss -0.12910184274259512\n",
      "computing initial mi\n",
      "computing optimized mi\n",
      "initial loss -0.06839622062139715\n",
      "computing initial mi\n",
      "computing optimized mi\n",
      "initial loss -0.0862456570639532\n",
      "computing initial mi\n",
      "computing optimized mi\n",
      "initial loss -0.12026622760296055\n",
      "computing initial mi\n",
      "computing optimized mi\n",
      "initial loss -0.1345558329769927\n",
      "computing initial mi\n",
      "computing optimized mi\n",
      "initial loss -0.060783807854653385\n",
      "computing initial mi\n",
      "computing optimized mi\n",
      "initial loss -0.0940923145577737\n",
      "computing initial mi\n",
      "computing optimized mi\n",
      "initial loss -0.08951137583928548\n",
      "computing initial mi\n",
      "computing optimized mi\n",
      "initial loss -0.10981350339697839\n",
      "computing initial mi\n",
      "computing optimized mi\n",
      "initial loss -0.06260702577645663\n",
      "computing initial mi\n",
      "computing optimized mi\n"
     ]
    },
    {
     "name": "stderr",
     "output_type": "stream",
     "text": [
      " 80%|████████  | 4/5 [1:13:36<18:23, 1103.38s/it]"
     ]
    },
    {
     "name": "stdout",
     "output_type": "stream",
     "text": [
      "initial loss -0.0021198330986299334\n",
      "computing initial mi\n",
      "computing optimized mi\n",
      "initial loss -0.009339190744228015\n",
      "computing initial mi\n",
      "computing optimized mi\n",
      "initial loss -0.00702713636358563\n",
      "computing initial mi\n",
      "computing optimized mi\n",
      "initial loss -0.021450267895505377\n",
      "computing initial mi\n",
      "computing optimized mi\n",
      "initial loss -0.013095040951091706\n",
      "computing initial mi\n",
      "computing optimized mi\n",
      "initial loss -0.0024250257458768246\n",
      "computing initial mi\n",
      "computing optimized mi\n",
      "initial loss -0.00699410462244909\n",
      "computing initial mi\n",
      "computing optimized mi\n",
      "initial loss -0.009847208330100433\n",
      "computing initial mi\n",
      "computing optimized mi\n",
      "initial loss 0.00019238887323343471\n",
      "computing initial mi\n",
      "computing optimized mi\n",
      "initial loss -0.010576124827736242\n",
      "computing initial mi\n",
      "computing optimized mi\n",
      "initial loss -0.022834594678016094\n",
      "computing initial mi\n",
      "computing optimized mi\n"
     ]
    },
    {
     "name": "stderr",
     "output_type": "stream",
     "text": [
      "100%|██████████| 5/5 [1:31:53<00:00, 1102.66s/it]\n"
     ]
    },
    {
     "name": "stdout",
     "output_type": "stream",
     "text": [
      "8_deltas_uniform\n"
     ]
    },
    {
     "name": "stderr",
     "output_type": "stream",
     "text": [
      "  0%|          | 0/5 [00:00<?, ?it/s]"
     ]
    },
    {
     "name": "stdout",
     "output_type": "stream",
     "text": [
      "initial loss -12.056346144521587\n",
      "computing initial mi\n",
      "computing optimized mi\n",
      "initial loss -12.094302746592115\n",
      "computing initial mi\n",
      "computing optimized mi\n",
      "initial loss -12.103831621079955\n",
      "computing initial mi\n",
      "computing optimized mi\n",
      "initial loss -12.181846787032448\n",
      "computing initial mi\n",
      "computing optimized mi\n",
      "initial loss -12.453539774113107\n",
      "computing initial mi\n",
      "computing optimized mi\n",
      "initial loss -12.518998385375312\n",
      "computing initial mi\n",
      "computing optimized mi\n",
      "initial loss -12.024801521872604\n",
      "computing initial mi\n",
      "computing optimized mi\n",
      "initial loss -12.166779936640488\n",
      "computing initial mi\n",
      "computing optimized mi\n",
      "initial loss -11.915741936393037\n",
      "computing initial mi\n",
      "computing optimized mi\n",
      "initial loss -12.442317119917597\n",
      "computing initial mi\n",
      "computing optimized mi\n",
      "initial loss -12.339293546673568\n",
      "computing initial mi\n",
      "computing optimized mi\n"
     ]
    },
    {
     "name": "stderr",
     "output_type": "stream",
     "text": [
      " 20%|██        | 1/5 [17:49<1:11:18, 1069.71s/it]"
     ]
    },
    {
     "name": "stdout",
     "output_type": "stream",
     "text": [
      "initial loss -9.116194768113498\n",
      "computing initial mi\n",
      "computing optimized mi\n",
      "initial loss -8.809717854883118\n",
      "computing initial mi\n",
      "computing optimized mi\n",
      "initial loss -8.946829645098433\n",
      "computing initial mi\n",
      "computing optimized mi\n",
      "initial loss -8.83042801438615\n",
      "computing initial mi\n",
      "computing optimized mi\n",
      "initial loss -8.778677970345175\n",
      "computing initial mi\n",
      "computing optimized mi\n",
      "initial loss -9.011126277026884\n",
      "computing initial mi\n",
      "computing optimized mi\n",
      "initial loss -9.289925860737055\n",
      "computing initial mi\n",
      "computing optimized mi\n",
      "initial loss -8.870852834588927\n",
      "computing initial mi\n",
      "computing optimized mi\n",
      "initial loss -8.813899276454098\n",
      "computing initial mi\n",
      "computing optimized mi\n",
      "initial loss -8.904632277333722\n",
      "computing initial mi\n",
      "computing optimized mi\n",
      "initial loss -8.475508391412\n",
      "computing initial mi\n",
      "computing optimized mi\n"
     ]
    },
    {
     "name": "stderr",
     "output_type": "stream",
     "text": [
      " 40%|████      | 2/5 [35:30<53:13, 1064.39s/it]  "
     ]
    },
    {
     "name": "stdout",
     "output_type": "stream",
     "text": [
      "initial loss -5.817148618430222\n",
      "computing initial mi\n",
      "computing optimized mi\n",
      "initial loss -6.058736204919615\n",
      "computing initial mi\n",
      "computing optimized mi\n",
      "initial loss -5.571698973005956\n",
      "computing initial mi\n",
      "computing optimized mi\n",
      "initial loss -6.086220073433925\n",
      "computing initial mi\n",
      "computing optimized mi\n",
      "initial loss -5.693153013608232\n",
      "computing initial mi\n",
      "computing optimized mi\n",
      "initial loss -5.872058339727795\n",
      "computing initial mi\n",
      "computing optimized mi\n",
      "initial loss -5.478713316337991\n",
      "computing initial mi\n",
      "computing optimized mi\n",
      "initial loss -5.413108897630716\n",
      "computing initial mi\n",
      "computing optimized mi\n",
      "initial loss -5.7853273649678485\n",
      "computing initial mi\n",
      "computing optimized mi\n",
      "initial loss -6.017706191570537\n",
      "computing initial mi\n",
      "computing optimized mi\n",
      "initial loss -5.638831403236108\n",
      "computing initial mi\n",
      "computing optimized mi\n"
     ]
    },
    {
     "name": "stderr",
     "output_type": "stream",
     "text": [
      " 60%|██████    | 3/5 [52:37<34:54, 1047.18s/it]"
     ]
    },
    {
     "name": "stdout",
     "output_type": "stream",
     "text": [
      "initial loss -2.894842895978706\n",
      "computing initial mi\n",
      "computing optimized mi\n",
      "initial loss -2.5283935905708534\n",
      "computing initial mi\n",
      "computing optimized mi\n",
      "initial loss -2.828894264641356\n",
      "computing initial mi\n",
      "computing optimized mi\n",
      "initial loss -2.573773005750592\n",
      "computing initial mi\n",
      "computing optimized mi\n",
      "initial loss -2.380044239154535\n",
      "computing initial mi\n",
      "computing optimized mi\n",
      "initial loss -2.5772240741325287\n",
      "computing initial mi\n",
      "computing optimized mi\n",
      "initial loss -2.5522738886174507\n",
      "computing initial mi\n",
      "computing optimized mi\n",
      "initial loss -2.870257530176416\n",
      "computing initial mi\n",
      "computing optimized mi\n",
      "initial loss -2.4668886302996347\n",
      "computing initial mi\n",
      "computing optimized mi\n",
      "initial loss -2.342442215426015\n",
      "computing initial mi\n",
      "computing optimized mi\n",
      "initial loss -1.8566290231657718\n",
      "computing initial mi\n",
      "computing optimized mi\n"
     ]
    },
    {
     "name": "stderr",
     "output_type": "stream",
     "text": [
      " 80%|████████  | 4/5 [1:09:34<17:15, 1035.49s/it]"
     ]
    },
    {
     "name": "stdout",
     "output_type": "stream",
     "text": [
      "initial loss -0.9758399740420696\n",
      "computing initial mi\n",
      "computing optimized mi\n"
     ]
    },
    {
     "name": "stderr",
     "output_type": "stream",
     "text": [
      "/home/hpinkard_waller/GitRepos/EncodingInformation/encoding_information/information_estimation.py:223: UserWarning: 0.09% of pixels are negative.\n",
      "  warnings.warn(f\"{np.sum(clean_images_if_available < 0) / clean_images_if_available.size:.2%} of pixels are negative.\")\n"
     ]
    },
    {
     "name": "stdout",
     "output_type": "stream",
     "text": [
      "initial loss -1.3094242376649623\n",
      "computing initial mi\n",
      "computing optimized mi\n"
     ]
    },
    {
     "name": "stderr",
     "output_type": "stream",
     "text": [
      "/home/hpinkard_waller/GitRepos/EncodingInformation/encoding_information/information_estimation.py:223: UserWarning: 0.11% of pixels are negative.\n",
      "  warnings.warn(f\"{np.sum(clean_images_if_available < 0) / clean_images_if_available.size:.2%} of pixels are negative.\")\n"
     ]
    },
    {
     "name": "stdout",
     "output_type": "stream",
     "text": [
      "initial loss -0.8625051492996858\n",
      "computing initial mi\n",
      "computing optimized mi\n"
     ]
    },
    {
     "name": "stderr",
     "output_type": "stream",
     "text": [
      "/home/hpinkard_waller/GitRepos/EncodingInformation/encoding_information/information_estimation.py:223: UserWarning: 0.14% of pixels are negative.\n",
      "  warnings.warn(f\"{np.sum(clean_images_if_available < 0) / clean_images_if_available.size:.2%} of pixels are negative.\")\n"
     ]
    },
    {
     "name": "stdout",
     "output_type": "stream",
     "text": [
      "initial loss -1.3845255571440394\n",
      "computing initial mi\n",
      "computing optimized mi\n"
     ]
    },
    {
     "name": "stderr",
     "output_type": "stream",
     "text": [
      "/home/hpinkard_waller/GitRepos/EncodingInformation/encoding_information/information_estimation.py:223: UserWarning: 0.12% of pixels are negative.\n",
      "  warnings.warn(f\"{np.sum(clean_images_if_available < 0) / clean_images_if_available.size:.2%} of pixels are negative.\")\n"
     ]
    },
    {
     "name": "stdout",
     "output_type": "stream",
     "text": [
      "initial loss -1.0984637612534263\n",
      "computing initial mi\n",
      "computing optimized mi\n"
     ]
    },
    {
     "name": "stderr",
     "output_type": "stream",
     "text": [
      "/home/hpinkard_waller/GitRepos/EncodingInformation/encoding_information/information_estimation.py:223: UserWarning: 0.13% of pixels are negative.\n",
      "  warnings.warn(f\"{np.sum(clean_images_if_available < 0) / clean_images_if_available.size:.2%} of pixels are negative.\")\n"
     ]
    },
    {
     "name": "stdout",
     "output_type": "stream",
     "text": [
      "initial loss -1.1865322898634187\n",
      "computing initial mi\n",
      "computing optimized mi\n",
      "initial loss -1.1743803403626631\n",
      "computing initial mi\n",
      "computing optimized mi\n"
     ]
    },
    {
     "name": "stderr",
     "output_type": "stream",
     "text": [
      "/home/hpinkard_waller/GitRepos/EncodingInformation/encoding_information/information_estimation.py:223: UserWarning: 0.08% of pixels are negative.\n",
      "  warnings.warn(f\"{np.sum(clean_images_if_available < 0) / clean_images_if_available.size:.2%} of pixels are negative.\")\n"
     ]
    },
    {
     "name": "stdout",
     "output_type": "stream",
     "text": [
      "initial loss -0.9899063781544095\n",
      "computing initial mi\n",
      "computing optimized mi\n",
      "initial loss -1.1726354102689351\n",
      "computing initial mi\n",
      "computing optimized mi\n",
      "initial loss -0.8257851639584182\n",
      "computing initial mi\n",
      "computing optimized mi\n",
      "initial loss -1.3333839139951202\n",
      "computing initial mi\n",
      "computing optimized mi\n"
     ]
    },
    {
     "name": "stderr",
     "output_type": "stream",
     "text": [
      "100%|██████████| 5/5 [1:26:27<00:00, 1037.48s/it]\n"
     ]
    }
   ],
   "source": [
    "N_objects = 2000\n",
    "num_bootstraps = 11\n",
    "confidence = 90\n",
    "\n",
    "objects_dict = {\n",
    "  'delta_uniform': lambda : np.array([generate_random_object('delta', num_deltas=1, gaussian_mixture_position=False) for i in range(N_objects)]),\n",
    "  # 'delta_nonuniform': lambda: np.array([generate_random_object('delta', num_deltas=1, gaussian_mixture_position=True) for i in range(N_objects)]),\n",
    "  'white_noise': lambda : np.array([generate_random_object('white_noise') for i in range(N_objects)]),\n",
    "  # 'pink_noise': lambda : np.array([sample_amplitude_object('pink_noise') for i in range(N_objects)]),\n",
    "  '8_deltas_uniform': lambda :np.array([generate_random_object('delta', num_deltas=8, gaussian_mixture_position=False) for i in range(N_objects)]),\n",
    "  # '8_deltas_nonuniform': lambda : np.array([sample_amplitude_object('delta', num_deltas=8, gaussian_mixture_position=True) for i in range(N_objects)]),\n",
    "}\n",
    "\n",
    "\n",
    "noise_sigma_list = [1e-6, 1e-5, 1e-4, 1e-3, 4e-3]\n",
    "\n",
    "num_nyquist_samples = 16\n",
    "\n",
    "mi_by_object = {}\n",
    "mi_by_object_lo = {}\n",
    "mi_by_object_hi = {}\n",
    "for name, objects_fn in objects_dict.items():\n",
    "  print(name)\n",
    "  mutual_information = []\n",
    "  mi_lo = []\n",
    "  mi_hi = []\n",
    "  for noise_sigma in tqdm(noise_sigma_list):\n",
    "    results = []\n",
    "    for k in range(num_bootstraps):\n",
    "      initial_kernel, initial_params, optimized_params, objects, initial_mi, optimized_mi = optimize_PSF_and_estimate_mi(\n",
    "        objects_fn, noise_sigma, num_nyquist_samples=num_nyquist_samples, verbose=True)\n",
    "      results.append(optimized_mi)\n",
    "    mutual_information.append(np.median(np.array(results)))\n",
    "    mi_lo.append(np.percentile(np.array(results), 100-confidence))\n",
    "    mi_hi.append(np.percentile(np.array(results), confidence))\n",
    "  mi_by_object[name] = mutual_information\n",
    "  mi_by_object_lo[name] = mi_lo\n",
    "  mi_by_object_hi[name] = mi_hi"
   ]
  },
  {
   "cell_type": "code",
   "execution_count": 3,
   "metadata": {
    "execution": {
     "iopub.execute_input": "2023-11-23T18:59:05.492032Z",
     "iopub.status.busy": "2023-11-23T18:59:05.491800Z",
     "iopub.status.idle": "2023-11-23T18:59:06.614405Z",
     "shell.execute_reply": "2023-11-23T18:59:06.613519Z"
    }
   },
   "outputs": [
    {
     "data": {
      "image/png": "[encoded data removed]",
      "text/plain": [
       "<Figure size 500x500 with 1 Axes>"
      ]
     },
     "metadata": {},
     "output_type": "display_data"
    },
    {
     "data": {
      "image/png": "[encoded data removed]",
      "text/plain": [
       "<Figure size 500x500 with 1 Axes>"
      ]
     },
     "metadata": {},
     "output_type": "display_data"
    }
   ],
   "source": [
    "fig, ax = plt.subplots(1, 1, figsize=(5, 5))\n",
    "\n",
    "snr = (1 / (num_nyquist_samples)) / np.array(noise_sigma_list)\n",
    "\n",
    "for object_name, mutual_information in mi_by_object.items():\n",
    "    total_mi = np.array(mutual_information) * num_nyquist_samples\n",
    "    total_mi_lo = np.array(mi_by_object_lo[object_name]) * num_nyquist_samples\n",
    "    total_mi_hi = np.array(mi_by_object_hi[object_name]) * num_nyquist_samples\n",
    "\n",
    "    # ax.plot(num_samples, mutual_information, 'o-')\n",
    "    ax.semilogx(snr, total_mi, 'o-', label=object_name)\n",
    "    ax.fill_between(snr, total_mi_lo, total_mi_hi, alpha=0.2)\n",
    "    ax.set_xlabel('SNR')\n",
    "    ax.set_ylabel('Total mutual information (bits)')\n",
    "\n",
    "    ax.set(ylim=(0, max(1.1 * np.max(total_mi), ax.get_ylim()[1])))\n",
    "\n",
    "clear_spines(ax)\n",
    "ax.legend()\n",
    "\n",
    "fig.savefig('/home/hpinkard_waller/figures/1d_signals/' + 'mi_vs_snr_log_scale' + '.pdf', transparent=True, dpi=600)\n",
    "\n",
    "\n",
    "fig, ax = plt.subplots(1, 1, figsize=(5, 5))\n",
    "\n",
    "for object_name, mutual_information in mi_by_object.items():\n",
    "    total_mi = np.array(mutual_information) * num_nyquist_samples\n",
    "\n",
    "    # ax.plot(num_samples, mutual_information, 'o-')\n",
    "    ax.plot(snr, total_mi, 'o-', label=object_name)\n",
    "    ax.set_xlabel('SNR')\n",
    "    ax.set_ylabel('Total mutual information (bits)')\n",
    "\n",
    "    ax.set(ylim=(0, max(1.1 * np.max(total_mi), ax.get_ylim()[1])))\n",
    "\n",
    "clear_spines(ax)\n",
    "ax.legend()\n",
    "\n",
    "fig.savefig('/home/hpinkard_waller/figures/1d_signals/' + 'mi_vs_snr_linear_scale' + '.pdf', transparent=True, dpi=600)\n"
   ]
  }
 ],
 "metadata": {
  "kernelspec": {
   "display_name": "phenotypes",
   "language": "python",
   "name": "python3"
  },
  "language_info": {
   "codemirror_mode": {
    "name": "ipython",
    "version": 3
   },
   "file_extension": ".py",
   "mimetype": "text/x-python",
   "name": "python",
   "nbconvert_exporter": "python",
   "pygments_lexer": "ipython3",
   "version": "3.10.6"
  }
 },
 "nbformat": 4,
 "nbformat_minor": 2
}
