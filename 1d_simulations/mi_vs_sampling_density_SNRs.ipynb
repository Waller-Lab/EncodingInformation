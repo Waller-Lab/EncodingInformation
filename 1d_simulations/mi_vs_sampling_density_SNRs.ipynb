{
 "cells": [
  {
   "cell_type": "code",
   "execution_count": 2,
   "metadata": {
    "execution": {
     "iopub.execute_input": "2023-11-24T07:39:42.438537Z",
     "iopub.status.busy": "2023-11-24T07:39:42.438133Z",
     "iopub.status.idle": "2023-11-24T07:39:43.555494Z",
     "shell.execute_reply": "2023-11-24T07:39:43.554866Z"
    }
   },
   "outputs": [
    {
     "name": "stderr",
     "output_type": "stream",
     "text": [
      "2024-01-24 17:57:36.990479: W tensorflow/compiler/tf2tensorrt/utils/py_utils.cc:38] TF-TRT Warning: Could not find TensorRT\n"
     ]
    }
   ],
   "source": [
    "%load_ext autoreload\n",
    "%autoreload 2\n",
    "# this only works on startup!\n",
    "from jax import config\n",
    "config.update(\"jax_enable_x64\", True)\n",
    "\n",
    "import os\n",
    "os.environ[\"CUDA_DEVICE_ORDER\"] = \"PCI_BUS_ID\" \n",
    "os.environ[\"CUDA_VISIBLE_DEVICES\"] = '1'\n",
    "from encoding_information.gpu_utils import limit_gpu_memory_growth\n",
    "limit_gpu_memory_growth()\n",
    "\n",
    "from cleanplots import *\n",
    "from tqdm import tqdm\n",
    "from signal_utils_1D import *\n"
   ]
  },
  {
   "cell_type": "markdown",
   "metadata": {},
   "source": [
    "## Show transition behavior with different SNR levels"
   ]
  },
  {
   "cell_type": "code",
   "execution_count": 18,
   "metadata": {
    "execution": {
     "iopub.execute_input": "2023-11-25T05:09:55.515295Z",
     "iopub.status.busy": "2023-11-25T05:09:55.514603Z",
     "iopub.status.idle": "2023-11-25T16:07:36.061865Z",
     "shell.execute_reply": "2023-11-25T16:07:36.061285Z"
    }
   },
   "outputs": [
    {
     "name": "stdout",
     "output_type": "stream",
     "text": [
      "noise sigma 0.0625\n",
      "initial loss -0.019143756647452624\n",
      "computing optimized mi\n"
     ]
    },
    {
     "name": "stderr",
     "output_type": "stream",
     "text": [
      "/home/hpinkard_waller/GitRepos/EncodingInformation/encoding_information/information_estimation.py:226: UserWarning: 21.50% of pixels are negative.\n",
      "  warnings.warn(f\"{np.sum(clean_images_if_available < 0) / clean_images_if_available.size:.2%} of pixels are negative.\")\n",
      "  0%|          | 0/6 [00:00<?, ?it/s]"
     ]
    },
    {
     "name": "stdout",
     "output_type": "stream",
     "text": [
      "-0.07177486492543338\n",
      "-0.028415974851108958\n"
     ]
    },
    {
     "name": "stderr",
     "output_type": "stream",
     "text": [
      "/home/hpinkard_waller/GitRepos/EncodingInformation/encoding_information/information_estimation.py:226: UserWarning: 0.02% of pixels are negative.\n",
      "  warnings.warn(f\"{np.sum(clean_images_if_available < 0) / clean_images_if_available.size:.2%} of pixels are negative.\")\n"
     ]
    },
    {
     "name": "stdout",
     "output_type": "stream",
     "text": [
      "-0.0831573646901375\n",
      "0.06044402119668701\n",
      "0.027715034806891074\n",
      "0.02036793596203189\n",
      "-0.008258232308780884\n",
      "-0.04623750506411664\n",
      "0.07784041029676182\n",
      "0.04237483596643688\n",
      "-0.012197322944142653\n"
     ]
    },
    {
     "name": "stderr",
     "output_type": "stream",
     "text": [
      " 17%|█▋        | 1/6 [17:41<1:28:28, 1061.71s/it]/home/hpinkard_waller/GitRepos/EncodingInformation/encoding_information/information_estimation.py:226: UserWarning: 7.76% of pixels are negative.\n",
      "  warnings.warn(f\"{np.sum(clean_images_if_available < 0) / clean_images_if_available.size:.2%} of pixels are negative.\")\n"
     ]
    },
    {
     "name": "stdout",
     "output_type": "stream",
     "text": [
      "0.4610555898544541\n"
     ]
    },
    {
     "name": "stderr",
     "output_type": "stream",
     "text": [
      "/home/hpinkard_waller/GitRepos/EncodingInformation/encoding_information/information_estimation.py:226: UserWarning: 7.49% of pixels are negative.\n",
      "  warnings.warn(f\"{np.sum(clean_images_if_available < 0) / clean_images_if_available.size:.2%} of pixels are negative.\")\n"
     ]
    },
    {
     "name": "stdout",
     "output_type": "stream",
     "text": [
      "0.47621895621572624\n"
     ]
    },
    {
     "name": "stderr",
     "output_type": "stream",
     "text": [
      "/home/hpinkard_waller/GitRepos/EncodingInformation/encoding_information/information_estimation.py:226: UserWarning: 7.50% of pixels are negative.\n",
      "  warnings.warn(f\"{np.sum(clean_images_if_available < 0) / clean_images_if_available.size:.2%} of pixels are negative.\")\n"
     ]
    },
    {
     "name": "stdout",
     "output_type": "stream",
     "text": [
      "0.4516983577863104\n"
     ]
    },
    {
     "name": "stderr",
     "output_type": "stream",
     "text": [
      "/home/hpinkard_waller/GitRepos/EncodingInformation/encoding_information/information_estimation.py:226: UserWarning: 7.53% of pixels are negative.\n",
      "  warnings.warn(f\"{np.sum(clean_images_if_available < 0) / clean_images_if_available.size:.2%} of pixels are negative.\")\n"
     ]
    },
    {
     "name": "stdout",
     "output_type": "stream",
     "text": [
      "0.4932727558752823\n"
     ]
    },
    {
     "name": "stderr",
     "output_type": "stream",
     "text": [
      "/home/hpinkard_waller/GitRepos/EncodingInformation/encoding_information/information_estimation.py:226: UserWarning: 7.74% of pixels are negative.\n",
      "  warnings.warn(f\"{np.sum(clean_images_if_available < 0) / clean_images_if_available.size:.2%} of pixels are negative.\")\n"
     ]
    },
    {
     "name": "stdout",
     "output_type": "stream",
     "text": [
      "0.5195819738736713\n"
     ]
    },
    {
     "name": "stderr",
     "output_type": "stream",
     "text": [
      "/home/hpinkard_waller/GitRepos/EncodingInformation/encoding_information/information_estimation.py:226: UserWarning: 7.63% of pixels are negative.\n",
      "  warnings.warn(f\"{np.sum(clean_images_if_available < 0) / clean_images_if_available.size:.2%} of pixels are negative.\")\n"
     ]
    },
    {
     "name": "stdout",
     "output_type": "stream",
     "text": [
      "0.5178470128917674\n"
     ]
    },
    {
     "name": "stderr",
     "output_type": "stream",
     "text": [
      "/home/hpinkard_waller/GitRepos/EncodingInformation/encoding_information/information_estimation.py:226: UserWarning: 7.67% of pixels are negative.\n",
      "  warnings.warn(f\"{np.sum(clean_images_if_available < 0) / clean_images_if_available.size:.2%} of pixels are negative.\")\n"
     ]
    },
    {
     "name": "stdout",
     "output_type": "stream",
     "text": [
      "0.44788722224319055\n"
     ]
    },
    {
     "name": "stderr",
     "output_type": "stream",
     "text": [
      "/home/hpinkard_waller/GitRepos/EncodingInformation/encoding_information/information_estimation.py:226: UserWarning: 7.56% of pixels are negative.\n",
      "  warnings.warn(f\"{np.sum(clean_images_if_available < 0) / clean_images_if_available.size:.2%} of pixels are negative.\")\n"
     ]
    },
    {
     "name": "stdout",
     "output_type": "stream",
     "text": [
      "0.4414812124638527\n"
     ]
    },
    {
     "name": "stderr",
     "output_type": "stream",
     "text": [
      "/home/hpinkard_waller/GitRepos/EncodingInformation/encoding_information/information_estimation.py:226: UserWarning: 7.70% of pixels are negative.\n",
      "  warnings.warn(f\"{np.sum(clean_images_if_available < 0) / clean_images_if_available.size:.2%} of pixels are negative.\")\n"
     ]
    },
    {
     "name": "stdout",
     "output_type": "stream",
     "text": [
      "0.48036992947695095\n"
     ]
    },
    {
     "name": "stderr",
     "output_type": "stream",
     "text": [
      "/home/hpinkard_waller/GitRepos/EncodingInformation/encoding_information/information_estimation.py:226: UserWarning: 7.51% of pixels are negative.\n",
      "  warnings.warn(f\"{np.sum(clean_images_if_available < 0) / clean_images_if_available.size:.2%} of pixels are negative.\")\n"
     ]
    },
    {
     "name": "stdout",
     "output_type": "stream",
     "text": [
      "0.4453515100388693\n"
     ]
    },
    {
     "name": "stderr",
     "output_type": "stream",
     "text": [
      "/home/hpinkard_waller/GitRepos/EncodingInformation/encoding_information/information_estimation.py:226: UserWarning: 7.66% of pixels are negative.\n",
      "  warnings.warn(f\"{np.sum(clean_images_if_available < 0) / clean_images_if_available.size:.2%} of pixels are negative.\")\n",
      " 33%|███▎      | 2/6 [41:18<1:24:42, 1270.68s/it]"
     ]
    },
    {
     "name": "stdout",
     "output_type": "stream",
     "text": [
      "0.4649465253475743\n"
     ]
    },
    {
     "name": "stderr",
     "output_type": "stream",
     "text": [
      "/home/hpinkard_waller/GitRepos/EncodingInformation/encoding_information/information_estimation.py:226: UserWarning: 16.18% of pixels are negative.\n",
      "  warnings.warn(f\"{np.sum(clean_images_if_available < 0) / clean_images_if_available.size:.2%} of pixels are negative.\")\n"
     ]
    },
    {
     "name": "stdout",
     "output_type": "stream",
     "text": [
      "0.40607615015992604\n"
     ]
    },
    {
     "name": "stderr",
     "output_type": "stream",
     "text": [
      "/home/hpinkard_waller/GitRepos/EncodingInformation/encoding_information/information_estimation.py:226: UserWarning: 16.42% of pixels are negative.\n",
      "  warnings.warn(f\"{np.sum(clean_images_if_available < 0) / clean_images_if_available.size:.2%} of pixels are negative.\")\n"
     ]
    },
    {
     "name": "stdout",
     "output_type": "stream",
     "text": [
      "0.4213220681936123\n"
     ]
    },
    {
     "name": "stderr",
     "output_type": "stream",
     "text": [
      "/home/hpinkard_waller/GitRepos/EncodingInformation/encoding_information/information_estimation.py:226: UserWarning: 16.13% of pixels are negative.\n",
      "  warnings.warn(f\"{np.sum(clean_images_if_available < 0) / clean_images_if_available.size:.2%} of pixels are negative.\")\n"
     ]
    },
    {
     "name": "stdout",
     "output_type": "stream",
     "text": [
      "0.4092984171064916\n"
     ]
    },
    {
     "name": "stderr",
     "output_type": "stream",
     "text": [
      "/home/hpinkard_waller/GitRepos/EncodingInformation/encoding_information/information_estimation.py:226: UserWarning: 16.43% of pixels are negative.\n",
      "  warnings.warn(f\"{np.sum(clean_images_if_available < 0) / clean_images_if_available.size:.2%} of pixels are negative.\")\n"
     ]
    },
    {
     "name": "stdout",
     "output_type": "stream",
     "text": [
      "0.42270205698413543\n"
     ]
    },
    {
     "name": "stderr",
     "output_type": "stream",
     "text": [
      "/home/hpinkard_waller/GitRepos/EncodingInformation/encoding_information/information_estimation.py:226: UserWarning: 16.30% of pixels are negative.\n",
      "  warnings.warn(f\"{np.sum(clean_images_if_available < 0) / clean_images_if_available.size:.2%} of pixels are negative.\")\n"
     ]
    },
    {
     "name": "stdout",
     "output_type": "stream",
     "text": [
      "0.45886794466877373\n"
     ]
    },
    {
     "name": "stderr",
     "output_type": "stream",
     "text": [
      "/home/hpinkard_waller/GitRepos/EncodingInformation/encoding_information/information_estimation.py:226: UserWarning: 16.40% of pixels are negative.\n",
      "  warnings.warn(f\"{np.sum(clean_images_if_available < 0) / clean_images_if_available.size:.2%} of pixels are negative.\")\n"
     ]
    },
    {
     "name": "stdout",
     "output_type": "stream",
     "text": [
      "0.4026571350607734\n"
     ]
    },
    {
     "name": "stderr",
     "output_type": "stream",
     "text": [
      "/home/hpinkard_waller/GitRepos/EncodingInformation/encoding_information/information_estimation.py:226: UserWarning: 16.52% of pixels are negative.\n",
      "  warnings.warn(f\"{np.sum(clean_images_if_available < 0) / clean_images_if_available.size:.2%} of pixels are negative.\")\n"
     ]
    },
    {
     "name": "stdout",
     "output_type": "stream",
     "text": [
      "0.42117760276688754\n",
      "0.4466805660980317\n"
     ]
    },
    {
     "name": "stderr",
     "output_type": "stream",
     "text": [
      "/home/hpinkard_waller/GitRepos/EncodingInformation/encoding_information/information_estimation.py:226: UserWarning: 16.51% of pixels are negative.\n",
      "  warnings.warn(f\"{np.sum(clean_images_if_available < 0) / clean_images_if_available.size:.2%} of pixels are negative.\")\n"
     ]
    },
    {
     "name": "stdout",
     "output_type": "stream",
     "text": [
      "0.44788444465407135\n"
     ]
    },
    {
     "name": "stderr",
     "output_type": "stream",
     "text": [
      "/home/hpinkard_waller/GitRepos/EncodingInformation/encoding_information/information_estimation.py:226: UserWarning: 16.29% of pixels are negative.\n",
      "  warnings.warn(f\"{np.sum(clean_images_if_available < 0) / clean_images_if_available.size:.2%} of pixels are negative.\")\n"
     ]
    },
    {
     "name": "stdout",
     "output_type": "stream",
     "text": [
      "0.4322711716781421\n"
     ]
    },
    {
     "name": "stderr",
     "output_type": "stream",
     "text": [
      "/home/hpinkard_waller/GitRepos/EncodingInformation/encoding_information/information_estimation.py:226: UserWarning: 16.08% of pixels are negative.\n",
      "  warnings.warn(f\"{np.sum(clean_images_if_available < 0) / clean_images_if_available.size:.2%} of pixels are negative.\")\n",
      " 50%|█████     | 3/6 [1:08:36<1:11:55, 1438.42s/it]"
     ]
    },
    {
     "name": "stdout",
     "output_type": "stream",
     "text": [
      "0.44048093549972916\n"
     ]
    },
    {
     "name": "stderr",
     "output_type": "stream",
     "text": [
      "/home/hpinkard_waller/GitRepos/EncodingInformation/encoding_information/information_estimation.py:226: UserWarning: 21.69% of pixels are negative.\n",
      "  warnings.warn(f\"{np.sum(clean_images_if_available < 0) / clean_images_if_available.size:.2%} of pixels are negative.\")\n"
     ]
    },
    {
     "name": "stdout",
     "output_type": "stream",
     "text": [
      "0.30107526148222397\n"
     ]
    },
    {
     "name": "stderr",
     "output_type": "stream",
     "text": [
      "/home/hpinkard_waller/GitRepos/EncodingInformation/encoding_information/information_estimation.py:226: UserWarning: 21.57% of pixels are negative.\n",
      "  warnings.warn(f\"{np.sum(clean_images_if_available < 0) / clean_images_if_available.size:.2%} of pixels are negative.\")\n"
     ]
    },
    {
     "name": "stdout",
     "output_type": "stream",
     "text": [
      "0.29026374411838435\n"
     ]
    },
    {
     "name": "stderr",
     "output_type": "stream",
     "text": [
      "/home/hpinkard_waller/GitRepos/EncodingInformation/encoding_information/information_estimation.py:226: UserWarning: 21.60% of pixels are negative.\n",
      "  warnings.warn(f\"{np.sum(clean_images_if_available < 0) / clean_images_if_available.size:.2%} of pixels are negative.\")\n"
     ]
    },
    {
     "name": "stdout",
     "output_type": "stream",
     "text": [
      "0.30792017098656377\n"
     ]
    },
    {
     "name": "stderr",
     "output_type": "stream",
     "text": [
      "/home/hpinkard_waller/GitRepos/EncodingInformation/encoding_information/information_estimation.py:226: UserWarning: 21.30% of pixels are negative.\n",
      "  warnings.warn(f\"{np.sum(clean_images_if_available < 0) / clean_images_if_available.size:.2%} of pixels are negative.\")\n"
     ]
    },
    {
     "name": "stdout",
     "output_type": "stream",
     "text": [
      "0.28450026152266994\n"
     ]
    },
    {
     "name": "stderr",
     "output_type": "stream",
     "text": [
      "/home/hpinkard_waller/GitRepos/EncodingInformation/encoding_information/information_estimation.py:226: UserWarning: 21.77% of pixels are negative.\n",
      "  warnings.warn(f\"{np.sum(clean_images_if_available < 0) / clean_images_if_available.size:.2%} of pixels are negative.\")\n"
     ]
    },
    {
     "name": "stdout",
     "output_type": "stream",
     "text": [
      "0.31418033947796997\n",
      "0.2840558583528404\n"
     ]
    },
    {
     "name": "stderr",
     "output_type": "stream",
     "text": [
      "/home/hpinkard_waller/GitRepos/EncodingInformation/encoding_information/information_estimation.py:226: UserWarning: 21.84% of pixels are negative.\n",
      "  warnings.warn(f\"{np.sum(clean_images_if_available < 0) / clean_images_if_available.size:.2%} of pixels are negative.\")\n"
     ]
    },
    {
     "name": "stdout",
     "output_type": "stream",
     "text": [
      "0.2955401718468553\n"
     ]
    },
    {
     "name": "stderr",
     "output_type": "stream",
     "text": [
      "/home/hpinkard_waller/GitRepos/EncodingInformation/encoding_information/information_estimation.py:226: UserWarning: 21.38% of pixels are negative.\n",
      "  warnings.warn(f\"{np.sum(clean_images_if_available < 0) / clean_images_if_available.size:.2%} of pixels are negative.\")\n"
     ]
    },
    {
     "name": "stdout",
     "output_type": "stream",
     "text": [
      "0.30006125177273685\n"
     ]
    },
    {
     "name": "stderr",
     "output_type": "stream",
     "text": [
      "/home/hpinkard_waller/GitRepos/EncodingInformation/encoding_information/information_estimation.py:226: UserWarning: 21.47% of pixels are negative.\n",
      "  warnings.warn(f\"{np.sum(clean_images_if_available < 0) / clean_images_if_available.size:.2%} of pixels are negative.\")\n"
     ]
    },
    {
     "name": "stdout",
     "output_type": "stream",
     "text": [
      "0.2915818191545969\n"
     ]
    },
    {
     "name": "stderr",
     "output_type": "stream",
     "text": [
      "/home/hpinkard_waller/GitRepos/EncodingInformation/encoding_information/information_estimation.py:226: UserWarning: 21.65% of pixels are negative.\n",
      "  warnings.warn(f\"{np.sum(clean_images_if_available < 0) / clean_images_if_available.size:.2%} of pixels are negative.\")\n"
     ]
    },
    {
     "name": "stdout",
     "output_type": "stream",
     "text": [
      "0.30035155848739326\n"
     ]
    },
    {
     "name": "stderr",
     "output_type": "stream",
     "text": [
      "/home/hpinkard_waller/GitRepos/EncodingInformation/encoding_information/information_estimation.py:226: UserWarning: 21.52% of pixels are negative.\n",
      "  warnings.warn(f\"{np.sum(clean_images_if_available < 0) / clean_images_if_available.size:.2%} of pixels are negative.\")\n",
      " 67%|██████▋   | 4/6 [1:33:12<48:25, 1452.98s/it]  "
     ]
    },
    {
     "name": "stdout",
     "output_type": "stream",
     "text": [
      "0.29348463520374307\n"
     ]
    },
    {
     "name": "stderr",
     "output_type": "stream",
     "text": [
      "/home/hpinkard_waller/GitRepos/EncodingInformation/encoding_information/information_estimation.py:226: UserWarning: 25.44% of pixels are negative.\n",
      "  warnings.warn(f\"{np.sum(clean_images_if_available < 0) / clean_images_if_available.size:.2%} of pixels are negative.\")\n"
     ]
    },
    {
     "name": "stdout",
     "output_type": "stream",
     "text": [
      "0.20601834867123986\n"
     ]
    },
    {
     "name": "stderr",
     "output_type": "stream",
     "text": [
      "/home/hpinkard_waller/GitRepos/EncodingInformation/encoding_information/information_estimation.py:226: UserWarning: 25.40% of pixels are negative.\n",
      "  warnings.warn(f\"{np.sum(clean_images_if_available < 0) / clean_images_if_available.size:.2%} of pixels are negative.\")\n"
     ]
    },
    {
     "name": "stdout",
     "output_type": "stream",
     "text": [
      "0.2063719450014138\n"
     ]
    },
    {
     "name": "stderr",
     "output_type": "stream",
     "text": [
      "/home/hpinkard_waller/GitRepos/EncodingInformation/encoding_information/information_estimation.py:226: UserWarning: 25.20% of pixels are negative.\n",
      "  warnings.warn(f\"{np.sum(clean_images_if_available < 0) / clean_images_if_available.size:.2%} of pixels are negative.\")\n"
     ]
    }
   ],
   "source": [
    "from scipy.signal import resample\n",
    "import jax.numpy as np\n",
    "\n",
    "N_objects = 5000\n",
    "noise_sigma = 1e-3\n",
    "num_samples_list = [1, 4, 9, 16, 25, 36]\n",
    "num_bootstrap_samples = 11\n",
    "upsampling_factor = 16\n",
    "max_epochs = 5000\n",
    "confidence = 90\n",
    "num_nyquist_samples = 16\n",
    "noise_sigmas_list = 1 / num_nyquist_samples / np.array([1e0, 1e1, 1e2, 1e3, 1e4])\n",
    "\n",
    "\n",
    "\n",
    "\n",
    "upsampled_signal_length = upsampling_factor*num_nyquist_samples\n",
    "objects_fn_delta = lambda : np.array([generate_random_object('delta', num_deltas=1, object_size=upsampled_signal_length) for i in range(N_objects)])\n",
    "objects_fn_white_noise = lambda : np.array([generate_random_object('white_noise', object_size=upsampled_signal_length) for i in range(N_objects)])\n",
    "\n",
    "\n",
    "mi_by_snr_median = {}\n",
    "mi_by_snr_hi = {}\n",
    "mi_by_snr_lo = {}\n",
    "for noise_sigma in noise_sigmas_list:\n",
    "  noise_sigma = float(noise_sigma)\n",
    "  print('noise sigma', noise_sigma)\n",
    "  mutual_information = []\n",
    "  mi_hi = []\n",
    "  mi_lo = []\n",
    "\n",
    "  objects_fn = lambda : np.array([generate_random_object('delta', num_deltas=8, object_size=upsampled_signal_length) for i in range(N_objects)])\n",
    "\n",
    "\n",
    "  # Find an optimal PSF for this object\n",
    "  initial_kernel, initial_params, optimized_params, objects, _, _ = optimize_PSF_and_estimate_mi(\n",
    "      objects_fn, noise_sigma, num_nyquist_samples=num_nyquist_samples, upsampled_signal_length=upsampled_signal_length,\n",
    "      max_epochs=max_epochs, )\n",
    "\n",
    "  # compute the information with this psf when integrating over pixels of different sizes \n",
    "  for num_samples in tqdm(num_samples_list):\n",
    "\n",
    "\n",
    "    runs = []\n",
    "    for i in range(num_bootstrap_samples):\n",
    "\n",
    "      # do the estimation\n",
    "      scale_factor = 100000 # because these signals are 0-1 but pixel cnn is designed for photon counts\n",
    "      test_objects = objects_fn()\n",
    "      output_signals = conv_forward_model(optimized_params, test_objects,\n",
    "                                                  integrate_output_signals=False, num_nyquist_samples=num_nyquist_samples, upsampled_signal_length=upsampled_signal_length)\n",
    "      \n",
    "      # interpolate to higher resolution before integrating\n",
    "      resampled_signal_length = num_samples * upsampling_factor\n",
    "\n",
    "      resampled_output_signals = resample(output_signals, resampled_signal_length, axis=-1)\n",
    "      # normalize to sum to 1\n",
    "      resampled_output_signals = resampled_output_signals / np.sum(resampled_output_signals, axis=-1, keepdims=True)\n",
    "      pixelated_signal = integrate_pixels(resampled_output_signals, num_samples)\n",
    "\n",
    "      # amount of noise to add to the pixel depends on its area\n",
    "      relative_sampling_area = num_nyquist_samples / num_samples\n",
    "      pixel_variance = noise_sigma**2 * relative_sampling_area\n",
    "\n",
    "      noisy_pixelated_signals = pixelated_signal + jax.random.normal(jax.random.PRNGKey(onp.random.randint(10000)), pixelated_signal.shape) * np.sqrt(pixel_variance)\n",
    "\n",
    "      fake_images = noisy_pixelated_signals.reshape(-1, int(np.sqrt(num_samples)), int(np.sqrt(num_samples))) * scale_factor\n",
    "      mi_estimate = estimate_mutual_information(fake_images, gaussian_noise_sigma=float(np.sqrt(pixel_variance) * scale_factor), verbose=False, entropy_model='pixelcnn')                                                      \n",
    "      print(mi_estimate)\n",
    "      runs.append(mi_estimate)\n",
    "    runs = np.array(runs)\n",
    "    mutual_information.append(np.median(runs))\n",
    "    mi_lo.append(np.percentile(np.array(runs), 100-confidence))\n",
    "    mi_hi.append(np.percentile(np.array(runs), confidence))\n",
    "  mi_by_snr_median[noise_sigma] = mutual_information\n",
    "  mi_by_snr_hi[noise_sigma] = mi_hi\n",
    "  mi_by_snr_lo[noise_sigma] = mi_lo"
   ]
  },
  {
   "cell_type": "code",
   "execution_count": 17,
   "metadata": {
    "execution": {
     "iopub.execute_input": "2023-11-25T16:07:36.068215Z",
     "iopub.status.busy": "2023-11-25T16:07:36.067974Z",
     "iopub.status.idle": "2023-11-25T16:07:36.602188Z",
     "shell.execute_reply": "2023-11-25T16:07:36.601651Z"
    }
   },
   "outputs": [
    {
     "name": "stderr",
     "output_type": "stream",
     "text": [
      "/tmp/ipykernel_1873971/3359696138.py:7: MatplotlibDeprecationWarning: The get_cmap function was deprecated in Matplotlib 3.7 and will be removed two minor releases later. Use ``matplotlib.colormaps[name]`` or ``matplotlib.colormaps.get_cmap(obj)`` instead.\n",
      "  base_colormap = plt.cm.get_cmap('inferno')\n"
     ]
    },
    {
     "data": {
      "image/png": "[encoded data removed]",
      "text/plain": [
       "<Figure size 500x500 with 2 Axes>"
      ]
     },
     "metadata": {},
     "output_type": "display_data"
    }
   ],
   "source": [
    "snrs = (1 / num_nyquist_samples) / np.array(noise_sigmas_list)\n",
    "\n",
    "fig, ax = plt.subplots(1, 1, figsize=(5, 5))\n",
    "\n",
    "# Define the start and end points--used so that high values aren't too light against white background\n",
    "start, end = 0, 0.85\n",
    "base_colormap = plt.cm.get_cmap('inferno')\n",
    "\n",
    "from matplotlib.colors import LinearSegmentedColormap\n",
    "# Create a new colormap from the portion of the original colormap\n",
    "colormap = LinearSegmentedColormap.from_list(\n",
    "    'trunc({n},{a:.2f},{b:.2f})'.format(n=base_colormap.name, a=start, b=end),\n",
    "    base_colormap(np.linspace(start, end, 256))\n",
    ")\n",
    "\n",
    "colors = colormap(np.linspace(0, 1, len(noise_sigmas_list)))\n",
    "\n",
    "for i, ((noise_sigma, mutual_information), snr) in enumerate(zip(mi_by_snr_median.items(), snrs)):\n",
    "\n",
    "    total_mi = np.array(mutual_information) * np.array(num_samples_list)\n",
    "    mi_lo = np.array(mi_by_snr_lo[noise_sigma]) * np.array(num_samples_list)\n",
    "    mi_hi = np.array(mi_by_snr_hi[noise_sigma]) * np.array(num_samples_list)\n",
    "\n",
    "    ax.plot(num_samples_list, total_mi,  'o-', color=colors[i], label=snr)\n",
    "    ax.fill_between(num_samples_list, mi_lo, mi_hi, color=colors[i], alpha=0.2)\n",
    "    \n",
    "    ax.set_xlabel('Number of samples')\n",
    "    ax.set_ylabel('Total mutual information (bits)')\n",
    "\n",
    "    # ax.set(ylim=(0, max(1.1 * np.max(total_mi), ax.get_ylim()[1])))\n",
    "\n",
    "# plot a dashed line at the number of nyquist samples\n",
    "ax.axvline(num_nyquist_samples, linestyle='--', color='k')\n",
    "ax.text(num_nyquist_samples + 3, 0.2 * np.max(total_mi), 'Nyquist sampling rate', rotation=0, va='center')\n",
    "clear_spines(ax)\n",
    "# ax.legend()\n",
    "ax.set(title='SNR comparison')\n",
    "\n",
    "\n",
    "from matplotlib.colors import LogNorm\n",
    "# Create a scalar mappable object with the colormap and the snrs range\n",
    "norm = LogNorm(vmin=np.min(snrs), vmax=np.max(snrs))\n",
    "sm = plt.cm.ScalarMappable(cmap=colormap, norm=norm)\n",
    "sm.set_array([])\n",
    "\n",
    "# Add the colorbar to the figure\n",
    "cbar = fig.colorbar(sm, ax=ax)\n",
    "cbar.set_label('Signal-to-noise ratio')\n",
    "fig.savefig('/home/hpinkard_waller/figures/1d_signals/' + 'sampling_density_snr' + '.pdf', transparent=True, dpi=600)"
   ]
  }
 ],
 "metadata": {
  "kernelspec": {
   "display_name": "phenotypes",
   "language": "python",
   "name": "python3"
  },
  "language_info": {
   "codemirror_mode": {
    "name": "ipython",
    "version": 3
   },
   "file_extension": ".py",
   "mimetype": "text/x-python",
   "name": "python",
   "nbconvert_exporter": "python",
   "pygments_lexer": "ipython3",
   "version": "3.10.13"
  }
 },
 "nbformat": 4,
 "nbformat_minor": 2
}
