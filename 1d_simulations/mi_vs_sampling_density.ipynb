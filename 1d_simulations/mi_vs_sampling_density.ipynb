{
 "cells": [
  {
   "cell_type": "code",
   "execution_count": 1,
   "metadata": {
    "execution": {
     "iopub.execute_input": "2023-11-23T05:04:05.520383Z",
     "iopub.status.busy": "2023-11-23T05:04:05.520080Z",
     "iopub.status.idle": "2023-11-23T05:04:06.720861Z",
     "shell.execute_reply": "2023-11-23T05:04:06.720221Z"
    }
   },
   "outputs": [],
   "source": [
    "%load_ext autoreload\n",
    "%autoreload 2\n",
    "# this only works on startup!\n",
    "from jax import config\n",
    "config.update(\"jax_enable_x64\", True)\n",
    "\n",
    "import os\n",
    "os.environ[\"CUDA_DEVICE_ORDER\"] = \"PCI_BUS_ID\" \n",
    "os.environ[\"CUDA_VISIBLE_DEVICES\"] = '0'\n",
    "from encoding_information.gpu_utils import limit_gpu_memory_growth\n",
    "limit_gpu_memory_growth()\n",
    "\n",
    "from cleanplots import *\n",
    "from tqdm import tqdm\n",
    "from signal_utils_1D import *\n"
   ]
  },
  {
   "attachments": {},
   "cell_type": "markdown",
   "metadata": {},
   "source": [
    "## Max mutual information vs sampling density for different samples"
   ]
  },
  {
   "cell_type": "code",
   "execution_count": 2,
   "metadata": {
    "execution": {
     "iopub.execute_input": "2023-11-23T05:04:06.724304Z",
     "iopub.status.busy": "2023-11-23T05:04:06.723906Z",
     "iopub.status.idle": "2023-11-23T17:14:41.444354Z",
     "shell.execute_reply": "2023-11-23T17:14:41.443059Z"
    }
   },
   "outputs": [
    {
     "name": "stdout",
     "output_type": "stream",
     "text": [
      "delta_uniform\n"
     ]
    },
    {
     "name": "stderr",
     "output_type": "stream",
     "text": [
      "  0%|                                                        | 0/12 [00:00<?, ?it/s]"
     ]
    },
    {
     "name": "stdout",
     "output_type": "stream",
     "text": [
      "initial loss -3.5912770447503473\n",
      "initial loss -3.2987968411116784\n",
      "initial loss -3.152479465437346\n",
      "initial loss -3.340948943971736\n",
      "initial loss -2.9113432333475773\n",
      "initial loss -3.3790454261698897\n",
      "initial loss -3.216958506938745\n",
      "initial loss -3.6507016238699492\n",
      "initial loss -3.3093854193117367\n",
      "initial loss -2.885424159271221\n",
      "4999: -4.2007299\r"
     ]
    },
    {
     "name": "stderr",
     "output_type": "stream",
     "text": [
      "  8%|███▊                                         | 1/12 [09:18<1:42:24, 558.59s/it]"
     ]
    },
    {
     "name": "stdout",
     "output_type": "stream",
     "text": [
      "initial loss -3.888286663337304\n",
      "initial loss -3.589613252537797\n",
      "initial loss -3.459334926094487\n",
      "initial loss -3.4665520229186217\n",
      "initial loss -3.888029756942232\n",
      "initial loss -3.865942804419403\n",
      "initial loss -3.4984925444342467\n",
      "initial loss -3.499093691087498\n",
      "initial loss -3.302601979884998\n",
      "initial loss -3.5552879680244653\n",
      "4999: -6.3293652\r"
     ]
    },
    {
     "name": "stderr",
     "output_type": "stream",
     "text": [
      " 17%|███████▌                                     | 2/12 [25:38<2:14:22, 806.29s/it]"
     ]
    },
    {
     "name": "stdout",
     "output_type": "stream",
     "text": [
      "initial loss -3.276606081737756\n",
      "initial loss -3.5485749936319944\n",
      "initial loss -3.2894111731121733\n",
      "initial loss -3.2837884245100386\n",
      "initial loss -3.7285684876983805\n",
      "initial loss -3.5766187923241417\n",
      "initial loss -3.5724623958589063\n",
      "initial loss -3.632470132176749\n",
      "initial loss -3.797366833591391\n",
      "initial loss -3.569819839155866\n",
      "4999: -6.2262910\r"
     ]
    },
    {
     "name": "stderr",
     "output_type": "stream",
     "text": [
      " 25%|███████████▎                                 | 3/12 [44:40<2:23:56, 959.56s/it]"
     ]
    },
    {
     "name": "stdout",
     "output_type": "stream",
     "text": [
      "initial loss -3.4586025102049804\n",
      "initial loss -3.456166315886192\n",
      "initial loss -3.5212214178423826\n",
      "initial loss -3.460394788589393\n",
      "initial loss -3.184587281108365\n",
      "initial loss -3.4563361060799176\n",
      "initial loss -3.449959502901843\n",
      "initial loss -3.1743648085987886\n",
      "initial loss -3.6329406353188842\n",
      "initial loss -3.4948270932908203\n",
      "4999: -6.0005476\r"
     ]
    },
    {
     "name": "stderr",
     "output_type": "stream",
     "text": [
      " 33%|███████████████                              | 4/12 [53:23<1:44:59, 787.44s/it]"
     ]
    },
    {
     "name": "stdout",
     "output_type": "stream",
     "text": [
      "initial loss -2.6703558408395414\n",
      "initial loss -2.959151687457919\n",
      "initial loss -3.1798407890053495\n",
      "initial loss -3.1609969558372697\n",
      "initial loss -3.049665174077747\n",
      "initial loss -3.403888209821173\n",
      "initial loss -3.02681217328817\n",
      "initial loss -2.993067933319913\n",
      "initial loss -3.2174392238082685\n",
      "initial loss -2.9569141967918964\n",
      "4999: -5.4259484\r"
     ]
    },
    {
     "name": "stderr",
     "output_type": "stream",
     "text": [
      " 42%|█████████████████▉                         | 5/12 [1:01:57<1:20:21, 688.80s/it]"
     ]
    },
    {
     "name": "stdout",
     "output_type": "stream",
     "text": [
      "initial loss -2.3411363293684153\n",
      "initial loss -2.625577507304844\n",
      "initial loss -2.4868296756867547\n",
      "initial loss -2.4742768197463945\n",
      "initial loss -2.5123338079804824\n",
      "initial loss -2.6553285601253465\n",
      "initial loss -2.6161542002880354\n",
      "initial loss -2.7651757381353295\n",
      "initial loss -2.3883227466168395\n",
      "initial loss -2.784653808954236\n",
      "4999: -4.5683066\r"
     ]
    },
    {
     "name": "stderr",
     "output_type": "stream",
     "text": [
      " 50%|█████████████████████▌                     | 6/12 [1:15:22<1:12:50, 728.34s/it]"
     ]
    },
    {
     "name": "stdout",
     "output_type": "stream",
     "text": [
      "initial loss -2.458823755153593\n",
      "initial loss -2.2451818781156825\n",
      "initial loss -2.4924370335977244\n",
      "initial loss -2.2270344820573635\n",
      "initial loss -2.234618912600101\n",
      "initial loss -2.42676806018262\n",
      "initial loss -2.2852077451144397\n",
      "initial loss -2.3017126927291285\n",
      "initial loss -2.1417682423836557\n",
      "initial loss -2.29936232397643\n",
      "4999: -3.4085364\r"
     ]
    },
    {
     "name": "stderr",
     "output_type": "stream",
     "text": [
      " 58%|█████████████████████████                  | 7/12 [1:33:24<1:10:18, 843.78s/it]"
     ]
    },
    {
     "name": "stdout",
     "output_type": "stream",
     "text": [
      "initial loss -1.9370094980366976\n",
      "initial loss -1.8745042091824315\n",
      "initial loss -2.0002804651750794\n",
      "initial loss -2.1193437767925607\n",
      "initial loss -1.9598328318108105\n",
      "initial loss -1.9390355962134067\n",
      "initial loss -2.009876498612179\n",
      "initial loss -2.004464713567304\n",
      "initial loss -2.197340576379432\n",
      "initial loss -1.9855547422390858\n",
      "4999: -3.4158240\r"
     ]
    },
    {
     "name": "stderr",
     "output_type": "stream",
     "text": [
      " 67%|████████████████████████████▋              | 8/12 [1:52:56<1:03:14, 948.51s/it]"
     ]
    },
    {
     "name": "stdout",
     "output_type": "stream",
     "text": [
      "initial loss -1.9842877079815955\n",
      "initial loss -1.5910184087585098\n",
      "initial loss -1.7784112385063833\n",
      "initial loss -1.9773834760683258\n",
      "initial loss -1.7712373776493033\n",
      "initial loss -1.9194414713264376\n",
      "initial loss -1.8092419538045903\n",
      "initial loss -1.7709010833607461\n",
      "initial loss -1.680153516766901\n",
      "initial loss -1.6798601044674784\n",
      "4999: -3.0105885\r"
     ]
    },
    {
     "name": "stderr",
     "output_type": "stream",
     "text": [
      " 75%|█████████████████████████████████           | 9/12 [2:21:09<59:03, 1181.21s/it]"
     ]
    },
    {
     "name": "stdout",
     "output_type": "stream",
     "text": [
      "initial loss -1.5943875774066216\n",
      "initial loss -1.628358207086949\n",
      "initial loss -1.531659745028737\n",
      "initial loss -1.6877749598616596\n",
      "initial loss -1.6541359226094954\n",
      "initial loss -1.580778977958546\n",
      "initial loss -1.6507339693152068\n",
      "initial loss -1.5884131778103217\n",
      "initial loss -1.6680272318904872\n",
      "initial loss -1.7350366098724208\n",
      "4999: -2.6724266\r"
     ]
    },
    {
     "name": "stderr",
     "output_type": "stream",
     "text": [
      " 83%|███████████████████████████████████▊       | 10/12 [2:51:12<45:45, 1372.98s/it]"
     ]
    },
    {
     "name": "stdout",
     "output_type": "stream",
     "text": [
      "initial loss -1.631821078689359\n",
      "initial loss -1.5458555264316243\n",
      "initial loss -1.373586572501017\n",
      "initial loss -1.665158523369269\n",
      "initial loss -1.5576386500823418\n",
      "initial loss -1.4519656817965128\n",
      "initial loss -1.5358127577111302\n",
      "initial loss -1.61825522507645\n",
      "initial loss -1.699421110391716\n",
      "initial loss -1.5129107961589325\n",
      "4999: -2.2392378\r"
     ]
    },
    {
     "name": "stderr",
     "output_type": "stream",
     "text": [
      " 92%|███████████████████████████████████████▍   | 11/12 [3:19:59<24:41, 1481.29s/it]"
     ]
    },
    {
     "name": "stdout",
     "output_type": "stream",
     "text": [
      "initial loss -1.2616359706724123\n",
      "initial loss -1.414247597195342\n",
      "initial loss -1.3885846507462958\n",
      "initial loss -1.3253081867506333\n",
      "initial loss -1.430125047838319\n",
      "initial loss -1.417852840433599\n",
      "initial loss -1.3070137625510085\n",
      "initial loss -1.4187388936098106\n",
      "initial loss -1.4549227691899245\n",
      "initial loss -1.457178948875659\n",
      "4999: -2.2757686\r"
     ]
    },
    {
     "name": "stderr",
     "output_type": "stream",
     "text": [
      "100%|███████████████████████████████████████████| 12/12 [3:41:15<00:00, 1106.28s/it]\n"
     ]
    },
    {
     "name": "stdout",
     "output_type": "stream",
     "text": [
      "delta_nonuniform\n"
     ]
    },
    {
     "name": "stderr",
     "output_type": "stream",
     "text": [
      "  0%|                                                        | 0/12 [00:00<?, ?it/s]"
     ]
    },
    {
     "name": "stdout",
     "output_type": "stream",
     "text": [
      "initial loss -3.697583172304904\n",
      "initial loss -3.240483653096245\n",
      "initial loss -3.1001305248950253\n",
      "initial loss -3.3219605864736974\n",
      "initial loss -3.6475904039019946\n",
      "initial loss -3.6041349499591866\n",
      "initial loss -2.7019267278500214\n",
      "initial loss -3.699539940018835\n",
      "initial loss -3.536206671210942\n",
      "initial loss -3.3409277650532117\n",
      "4999: -6.3706291\r"
     ]
    },
    {
     "name": "stderr",
     "output_type": "stream",
     "text": [
      "  8%|███▊                                         | 1/12 [13:27<2:27:57, 807.06s/it]"
     ]
    },
    {
     "name": "stdout",
     "output_type": "stream",
     "text": [
      "initial loss -3.191153921573554\n",
      "initial loss -3.5152030001571077\n",
      "initial loss -3.628854822207035\n",
      "initial loss -3.405449275120593\n",
      "initial loss -2.8932218349784886\n",
      "initial loss -3.709743213206735\n",
      "initial loss -3.662791327525543\n",
      "initial loss -3.3426003749598268\n",
      "initial loss -3.655750450169634\n",
      "initial loss -3.2506485421828475\n",
      "4999: -5.2391226\r"
     ]
    },
    {
     "name": "stderr",
     "output_type": "stream",
     "text": [
      " 17%|███████▌                                     | 2/12 [28:20<2:23:00, 858.07s/it]"
     ]
    },
    {
     "name": "stdout",
     "output_type": "stream",
     "text": [
      "initial loss -3.358446976629859\n",
      "initial loss -3.03135667531708\n",
      "initial loss -3.0657987180508313\n",
      "initial loss -3.408339793618204\n",
      "initial loss -3.2114203708231512\n",
      "initial loss -3.2936967161835002\n",
      "initial loss -3.2102409676184247\n",
      "initial loss -2.679123713678607\n",
      "initial loss -3.325225805112095\n",
      "initial loss -3.18332504881962\n",
      "4999: -4.8917955\r"
     ]
    },
    {
     "name": "stderr",
     "output_type": "stream",
     "text": [
      " 25%|███████████▎                                 | 3/12 [36:59<1:45:28, 703.17s/it]"
     ]
    },
    {
     "name": "stdout",
     "output_type": "stream",
     "text": [
      "initial loss -2.919155279780613\n",
      "initial loss -2.484237165953076\n",
      "initial loss -2.8603740224338825\n",
      "initial loss -2.9072990558970577\n",
      "initial loss -2.41208296392003\n",
      "initial loss -2.783947609841067\n",
      "initial loss -2.9953654239409113\n",
      "initial loss -2.7822882929494823\n",
      "initial loss -2.963029220974627\n",
      "initial loss -2.674464425297377\n",
      "4999: -4.6390186\r"
     ]
    },
    {
     "name": "stderr",
     "output_type": "stream",
     "text": [
      " 33%|███████████████                              | 4/12 [45:18<1:23:01, 622.65s/it]"
     ]
    },
    {
     "name": "stdout",
     "output_type": "stream",
     "text": [
      "initial loss -2.4574176067318594\n",
      "initial loss -2.5050146612087634\n",
      "initial loss -2.216934333027989\n",
      "initial loss -2.5464150690668848\n",
      "initial loss -2.2788705209573092\n",
      "initial loss -2.255069756768201\n",
      "initial loss -2.6203356478570847\n",
      "initial loss -2.3934479853296127\n",
      "initial loss -2.266061938185063\n",
      "initial loss -2.591517016568708\n",
      "4999: -4.2955308\r"
     ]
    },
    {
     "name": "stderr",
     "output_type": "stream",
     "text": [
      " 42%|██████████████████▊                          | 5/12 [53:05<1:06:03, 566.25s/it]"
     ]
    },
    {
     "name": "stdout",
     "output_type": "stream",
     "text": [
      "initial loss -2.24679866607577\n",
      "initial loss -2.0962220161500684\n",
      "initial loss -2.199653111793675\n",
      "initial loss -2.165382048869942\n",
      "initial loss -2.045722748352109\n",
      "initial loss -2.050125176328845\n",
      "initial loss -2.2874442566834565\n",
      "initial loss -2.08782946124389\n",
      "initial loss -2.3895559670781594\n",
      "initial loss -2.183754987387347\n",
      "4999: -3.5541554\r"
     ]
    },
    {
     "name": "stderr",
     "output_type": "stream",
     "text": [
      " 50%|██████████████████████▌                      | 6/12 [1:01:09<53:49, 538.31s/it]"
     ]
    },
    {
     "name": "stdout",
     "output_type": "stream",
     "text": [
      "initial loss -1.6845203409542875\n",
      "initial loss -1.6750712895547308\n",
      "initial loss -1.9711190978463407\n",
      "initial loss -1.608026712612318\n",
      "initial loss -1.9322232421666976\n",
      "initial loss -1.6834306871418665\n",
      "initial loss -1.5110076328967657\n",
      "initial loss -1.557873714567779\n",
      "initial loss -2.1116550637784566\n",
      "initial loss -1.898910294111231\n",
      "4999: -3.0412678\r"
     ]
    },
    {
     "name": "stderr",
     "output_type": "stream",
     "text": [
      " 58%|██████████████████████████▎                  | 7/12 [1:09:46<44:17, 531.57s/it]"
     ]
    },
    {
     "name": "stdout",
     "output_type": "stream",
     "text": [
      "initial loss -1.5728065283498895\n",
      "initial loss -1.43822364005298\n",
      "initial loss -1.538059154511458\n",
      "initial loss -1.432039713013178\n",
      "initial loss -1.5705360347673463\n",
      "initial loss -1.5657215865666323\n",
      "initial loss -1.6027993167421244\n",
      "initial loss -1.641554916057693\n",
      "initial loss -1.4709219810516536\n",
      "initial loss -1.6362751142422371\n",
      "4999: -2.3441369\r"
     ]
    },
    {
     "name": "stderr",
     "output_type": "stream",
     "text": [
      " 67%|██████████████████████████████               | 8/12 [1:18:23<35:07, 526.76s/it]"
     ]
    },
    {
     "name": "stdout",
     "output_type": "stream",
     "text": [
      "initial loss -1.38574477952056\n",
      "initial loss -1.3860697996695428\n",
      "initial loss -1.2653167266001775\n",
      "initial loss -1.4008517415822557\n",
      "initial loss -1.5530407991308346\n",
      "initial loss -1.529600333784391\n",
      "initial loss -1.4629263382902888\n",
      "initial loss -1.4786226865408398\n",
      "initial loss -1.4224210050863946\n",
      "initial loss -1.4198307879042544\n",
      "4999: -2.3607871\r"
     ]
    },
    {
     "name": "stderr",
     "output_type": "stream",
     "text": [
      " 75%|█████████████████████████████████▊           | 9/12 [1:28:23<27:29, 549.80s/it]"
     ]
    },
    {
     "name": "stdout",
     "output_type": "stream",
     "text": [
      "initial loss -1.2680291907210912\n",
      "initial loss -1.3355857823028188\n",
      "initial loss -1.3391141569344835\n",
      "initial loss -1.26107603210807\n",
      "initial loss -1.3820756082911207\n",
      "initial loss -1.3103513425463265\n",
      "initial loss -1.2702607986999568\n",
      "initial loss -1.294458369920365\n",
      "initial loss -1.2517021096740775\n",
      "initial loss -1.4903739637231548\n",
      "4999: -2.2214628\r"
     ]
    },
    {
     "name": "stderr",
     "output_type": "stream",
     "text": [
      " 83%|████████████████████████████████████▋       | 10/12 [1:38:26<18:52, 566.18s/it]"
     ]
    },
    {
     "name": "stdout",
     "output_type": "stream",
     "text": [
      "initial loss -1.1642085551409893\n",
      "initial loss -1.199518864927356\n",
      "initial loss -1.2115852769470783\n",
      "initial loss -1.1872089199383402\n",
      "initial loss -1.0609745651433524\n",
      "initial loss -1.1575122663810857\n",
      "initial loss -1.1296175379851543\n",
      "initial loss -1.2157005891964034\n",
      "initial loss -1.1866355090006258\n",
      "initial loss -1.0219580967261745\n",
      "4999: -1.8775409\r"
     ]
    },
    {
     "name": "stderr",
     "output_type": "stream",
     "text": [
      " 92%|████████████████████████████████████████▎   | 11/12 [1:48:50<09:43, 583.92s/it]"
     ]
    },
    {
     "name": "stdout",
     "output_type": "stream",
     "text": [
      "initial loss -1.076093290257269\n",
      "initial loss -1.116744267751423\n",
      "initial loss -1.0946866200006675\n",
      "initial loss -1.0211200159725342\n",
      "initial loss -1.080328989404902\n",
      "initial loss -1.0572269930459512\n",
      "initial loss -1.0905328382216322\n",
      "initial loss -1.0803595126398442\n",
      "initial loss -1.0526090226946958\n",
      "initial loss -1.065632571568994\n",
      "4999: -1.5801887\r"
     ]
    },
    {
     "name": "stderr",
     "output_type": "stream",
     "text": [
      "100%|████████████████████████████████████████████| 12/12 [1:59:30<00:00, 597.55s/it]\n"
     ]
    },
    {
     "name": "stdout",
     "output_type": "stream",
     "text": [
      "white_noise\n"
     ]
    },
    {
     "name": "stderr",
     "output_type": "stream",
     "text": [
      "  0%|                                                        | 0/12 [00:00<?, ?it/s]"
     ]
    },
    {
     "name": "stdout",
     "output_type": "stream",
     "text": [
      "initial loss -0.30256561463804\n",
      "initial loss -0.30971549032232065\n",
      "initial loss -0.27426483397100954\n",
      "initial loss -0.27122086158915243\n",
      "initial loss -0.3511025748487429\n",
      "initial loss -0.29881863974354006\n",
      "initial loss -0.2922527574283177\n",
      "initial loss -0.1957503150395519\n",
      "initial loss -0.32034800499493177\n",
      "initial loss -0.3174035135034695\n",
      "4999: -1.4294986\r"
     ]
    },
    {
     "name": "stderr",
     "output_type": "stream",
     "text": [
      "  8%|███▊                                         | 1/12 [06:29<1:11:25, 389.56s/it]"
     ]
    },
    {
     "name": "stdout",
     "output_type": "stream",
     "text": [
      "initial loss -0.2800923188233651\n",
      "initial loss -0.33137357316211785\n",
      "initial loss -0.3287881926184612\n",
      "initial loss -0.2873857516677654\n",
      "initial loss -0.26339817603085475\n",
      "initial loss -0.3123544113846286\n",
      "initial loss -0.3604744697027072\n",
      "initial loss -0.3128843272702766\n",
      "initial loss -0.3811663727385144\n",
      "initial loss -0.23283185186518704\n",
      "4999: -2.1554600\r"
     ]
    },
    {
     "name": "stderr",
     "output_type": "stream",
     "text": [
      " 17%|███████▌                                     | 2/12 [13:46<1:09:33, 417.35s/it]"
     ]
    },
    {
     "name": "stdout",
     "output_type": "stream",
     "text": [
      "initial loss -0.36606835675893323\n",
      "initial loss -0.24793020997136744\n",
      "initial loss -0.366311723257437\n",
      "initial loss -0.2576992549695813\n",
      "initial loss -0.3983886927876211\n",
      "initial loss -0.3062696176552072\n",
      "initial loss -0.2861712253149994\n",
      "initial loss -0.2682831691714286\n",
      "initial loss -0.2539133189154955\n",
      "initial loss -0.3521841806631597\n",
      "4999: -2.1485598\r"
     ]
    },
    {
     "name": "stderr",
     "output_type": "stream",
     "text": [
      " 25%|███████████▎                                 | 3/12 [21:19<1:05:01, 433.46s/it]"
     ]
    },
    {
     "name": "stdout",
     "output_type": "stream",
     "text": [
      "initial loss -0.2807318340596941\n",
      "initial loss -0.26857698413014464\n",
      "initial loss -0.27794194979789305\n",
      "initial loss -0.3086456761400684\n",
      "initial loss -0.3476516840834981\n",
      "initial loss -0.32543377165182014\n",
      "initial loss -0.15056424464951298\n",
      "initial loss -0.21345950934315266\n",
      "initial loss -0.3223293786761807\n",
      "initial loss -0.2775179189467278\n",
      "4999: -2.0552465\r"
     ]
    },
    {
     "name": "stderr",
     "output_type": "stream",
     "text": [
      " 33%|███████████████                              | 4/12 [29:20<1:00:19, 452.39s/it]"
     ]
    },
    {
     "name": "stdout",
     "output_type": "stream",
     "text": [
      "initial loss -0.36076870386140136\n",
      "initial loss -0.34162811590970826\n",
      "initial loss -0.3845789685295064\n",
      "initial loss -0.19768548676746445\n",
      "initial loss -0.2581075311848352\n",
      "initial loss -0.27989487776771954\n",
      "initial loss -0.2876889494266803\n",
      "initial loss -0.4073381418001251\n",
      "initial loss -0.18824433716689967\n",
      "initial loss -0.3669068393224501\n",
      "4999: -1.7065103\r"
     ]
    },
    {
     "name": "stderr",
     "output_type": "stream",
     "text": [
      " 42%|███████████████████▌                           | 5/12 [36:56<52:55, 453.64s/it]"
     ]
    },
    {
     "name": "stdout",
     "output_type": "stream",
     "text": [
      "initial loss -0.2346459164294874\n",
      "initial loss -0.18687942517854034\n",
      "initial loss -0.25231257785022604\n",
      "initial loss -0.22001536344948366\n",
      "initial loss -0.20028123881759097\n",
      "initial loss -0.13556658558357879\n",
      "initial loss -0.2729212701045118\n",
      "initial loss -0.29727451626432394\n",
      "initial loss -0.2560178677789029\n",
      "initial loss -0.33508030818007406\n",
      "4999: -1.5018494\r"
     ]
    },
    {
     "name": "stderr",
     "output_type": "stream",
     "text": [
      " 50%|███████████████████████▌                       | 6/12 [44:25<45:13, 452.29s/it]"
     ]
    },
    {
     "name": "stdout",
     "output_type": "stream",
     "text": [
      "initial loss -0.2844339322862599\n",
      "initial loss -0.2437943542536272\n",
      "initial loss -0.189269880078589\n",
      "initial loss -0.20252078772408702\n",
      "initial loss -0.17929957265430504\n",
      "initial loss -0.1869982505441304\n",
      "initial loss -0.20285516946591486\n",
      "initial loss -0.19623994458373092\n",
      "initial loss -0.33354109245186464\n",
      "initial loss -0.33971158577805594\n",
      "4999: -1.3153445\r"
     ]
    },
    {
     "name": "stderr",
     "output_type": "stream",
     "text": [
      " 58%|███████████████████████████▍                   | 7/12 [52:01<37:47, 453.41s/it]"
     ]
    },
    {
     "name": "stdout",
     "output_type": "stream",
     "text": [
      "initial loss -0.25884373282536616\n",
      "initial loss -0.2416090847430593\n",
      "initial loss -0.2742598232569266\n",
      "initial loss -0.13954340598155826\n",
      "initial loss -0.2084493728205185\n",
      "initial loss -0.19547088396695242\n",
      "initial loss -0.20813224428550578\n",
      "initial loss -0.2016845944448314\n",
      "initial loss -0.23338635170271302\n",
      "initial loss -0.1889001118946996\n",
      "4999: -1.2034124\r"
     ]
    },
    {
     "name": "stderr",
     "output_type": "stream",
     "text": [
      " 67%|███████████████████████████████▎               | 8/12 [59:44<30:26, 456.54s/it]"
     ]
    },
    {
     "name": "stdout",
     "output_type": "stream",
     "text": [
      "initial loss -0.24851964399519513\n",
      "initial loss -0.2219419613767194\n",
      "initial loss -0.2046615749095116\n",
      "initial loss -0.24288623910787693\n",
      "initial loss -0.24947088158690242\n",
      "initial loss -0.24632472050426393\n",
      "initial loss -0.2337244649671224\n",
      "initial loss -0.3523996297405503\n",
      "initial loss -0.212486834923549\n",
      "initial loss -0.2539475540581804\n",
      "4999: -1.0832746\r"
     ]
    },
    {
     "name": "stderr",
     "output_type": "stream",
     "text": [
      " 75%|█████████████████████████████████▊           | 9/12 [1:08:26<23:50, 476.78s/it]"
     ]
    },
    {
     "name": "stdout",
     "output_type": "stream",
     "text": [
      "initial loss -0.18296839683421107\n",
      "initial loss -0.22858082112668096\n",
      "initial loss -0.18842661907673494\n",
      "initial loss -0.21755255587702219\n",
      "initial loss -0.22410919812681435\n",
      "initial loss -0.19082162118097012\n",
      "initial loss -0.21201796001915185\n",
      "initial loss -0.2143576710428304\n",
      "initial loss -0.20518108909630017\n",
      "initial loss -0.23972491280326674\n",
      "4999: -0.9377381\r"
     ]
    },
    {
     "name": "stderr",
     "output_type": "stream",
     "text": [
      " 83%|████████████████████████████████████▋       | 10/12 [1:17:18<16:27, 493.95s/it]"
     ]
    },
    {
     "name": "stdout",
     "output_type": "stream",
     "text": [
      "initial loss -0.22340904571947032\n",
      "initial loss -0.14762268285807797\n",
      "initial loss -0.21634123260121804\n",
      "initial loss -0.21120594503638268\n",
      "initial loss -0.15398628286057134\n",
      "initial loss -0.17521411520879407\n",
      "initial loss -0.17682595269592483\n",
      "initial loss -0.1770232621680086\n",
      "initial loss -0.2234132766855839\n",
      "initial loss -0.142964643143816\n",
      "4999: -0.8634830\r"
     ]
    },
    {
     "name": "stderr",
     "output_type": "stream",
     "text": [
      " 92%|████████████████████████████████████████▎   | 11/12 [1:26:35<08:33, 513.34s/it]"
     ]
    },
    {
     "name": "stdout",
     "output_type": "stream",
     "text": [
      "initial loss -0.2218067599109514\n",
      "initial loss -0.16355945101318953\n",
      "initial loss -0.17225007660901698\n",
      "initial loss -0.177856152454852\n",
      "initial loss -0.1509300941573977\n",
      "initial loss -0.1712769614057476\n",
      "initial loss -0.2041485209567982\n",
      "initial loss -0.24507279708253052\n",
      "initial loss -0.20088699780289124\n",
      "initial loss -0.20614886676547928\n",
      "4999: -0.8588431\r"
     ]
    },
    {
     "name": "stderr",
     "output_type": "stream",
     "text": [
      "100%|████████████████████████████████████████████| 12/12 [1:36:06<00:00, 480.58s/it]\n"
     ]
    },
    {
     "name": "stdout",
     "output_type": "stream",
     "text": [
      "pink_noise\n"
     ]
    },
    {
     "name": "stderr",
     "output_type": "stream",
     "text": [
      "  0%|                                                        | 0/12 [00:00<?, ?it/s]"
     ]
    },
    {
     "name": "stdout",
     "output_type": "stream",
     "text": [
      "initial loss -0.35539295877074\n",
      "initial loss -0.548974898140214\n",
      "initial loss -0.2826497096684735\n",
      "initial loss -0.38826275013728756\n",
      "initial loss -0.44264941925903484\n",
      "initial loss -0.3540972009313843\n",
      "initial loss -0.24808474566088143\n",
      "initial loss -0.2905771853773352\n",
      "initial loss -0.33242567027723985\n",
      "initial loss -0.39081350984185387\n",
      "4999: -1.3771330\r"
     ]
    },
    {
     "name": "stderr",
     "output_type": "stream",
     "text": [
      "  8%|███▊                                         | 1/12 [07:07<1:18:27, 427.94s/it]"
     ]
    },
    {
     "name": "stdout",
     "output_type": "stream",
     "text": [
      "initial loss -0.30094823683683775\n",
      "initial loss -0.3524666877298298\n",
      "initial loss -0.3483950890649941\n",
      "initial loss -0.274143960572629\n",
      "initial loss -0.4796883325568862\n",
      "initial loss -0.2782433747594611\n",
      "initial loss -0.4446014291030226\n",
      "initial loss -0.260496595432873\n",
      "initial loss -0.31679012568657317\n",
      "initial loss -0.3486318618608941\n",
      "4999: -2.5889018\r"
     ]
    },
    {
     "name": "stderr",
     "output_type": "stream",
     "text": [
      " 17%|███████▌                                     | 2/12 [15:03<1:15:56, 455.69s/it]"
     ]
    },
    {
     "name": "stdout",
     "output_type": "stream",
     "text": [
      "initial loss -0.3849236212807627\n",
      "initial loss -0.4910081783475551\n",
      "initial loss -0.32177580570994263\n",
      "initial loss -0.4240919162321464\n",
      "initial loss -0.30283439616845026\n",
      "initial loss -0.40820338980484\n",
      "initial loss -0.411470070004799\n",
      "initial loss -0.2571386162696065\n",
      "initial loss -0.24055028289963512\n",
      "initial loss -0.2619649187487146\n",
      "4999: -2.4657576\r"
     ]
    },
    {
     "name": "stderr",
     "output_type": "stream",
     "text": [
      " 25%|███████████▎                                 | 3/12 [23:13<1:10:45, 471.69s/it]"
     ]
    },
    {
     "name": "stdout",
     "output_type": "stream",
     "text": [
      "initial loss -0.5081742350000391\n",
      "initial loss -0.3806778834752038\n",
      "initial loss -0.3204577729064671\n",
      "initial loss -0.3311570170111478\n",
      "initial loss -0.21351352085408037\n",
      "initial loss -0.3900607798469698\n",
      "initial loss -0.3254787199917091\n",
      "initial loss -0.19325094975610518\n",
      "initial loss -0.3138111016327169\n",
      "initial loss -0.24435188290788123\n",
      "4999: -2.1930905\r"
     ]
    },
    {
     "name": "stderr",
     "output_type": "stream",
     "text": [
      " 33%|███████████████                              | 4/12 [31:28<1:04:05, 480.63s/it]"
     ]
    },
    {
     "name": "stdout",
     "output_type": "stream",
     "text": [
      "initial loss -0.3404729472589704\n",
      "initial loss -0.3469674950981233\n",
      "initial loss -0.30722889344405996\n",
      "initial loss -0.3987831425375785\n",
      "initial loss -0.32599196176543505\n",
      "initial loss -0.34286731404547505\n",
      "initial loss -0.34635206349434483\n",
      "initial loss -0.27056130662227207\n",
      "initial loss -0.2034763087084515\n",
      "initial loss -0.45244315074504415\n",
      "4999: -1.7272942\r"
     ]
    },
    {
     "name": "stderr",
     "output_type": "stream",
     "text": [
      " 42%|███████████████████▌                           | 5/12 [39:34<56:18, 482.64s/it]"
     ]
    },
    {
     "name": "stdout",
     "output_type": "stream",
     "text": [
      "initial loss -0.3928947018422072\n",
      "initial loss -0.25119057276377454\n",
      "initial loss -0.3834855962458409\n",
      "initial loss -0.3118242907742486\n",
      "initial loss -0.331334948174717\n",
      "initial loss -0.31646472558795313\n",
      "initial loss -0.390375331444995\n",
      "initial loss -0.2471428646270903\n",
      "initial loss -0.30202272037686595\n",
      "initial loss -0.25632919874225274\n",
      "4999: -1.5620148\r"
     ]
    },
    {
     "name": "stderr",
     "output_type": "stream",
     "text": [
      " 50%|███████████████████████▌                       | 6/12 [47:44<48:30, 485.11s/it]"
     ]
    },
    {
     "name": "stdout",
     "output_type": "stream",
     "text": [
      "initial loss -0.22702241635263407\n",
      "initial loss -0.267430495574339\n",
      "initial loss -0.24923990559538353\n",
      "initial loss -0.33003165264118417\n",
      "initial loss -0.29313023452929055\n",
      "initial loss -0.29475409849645556\n",
      "initial loss -0.2608004432941342\n",
      "initial loss -0.3495314651322402\n",
      "initial loss -0.3241819687787994\n",
      "initial loss -0.3253940118765045\n",
      "4999: -1.3212515\r"
     ]
    },
    {
     "name": "stderr",
     "output_type": "stream",
     "text": [
      " 58%|███████████████████████████▍                   | 7/12 [56:01<40:46, 489.22s/it]"
     ]
    },
    {
     "name": "stdout",
     "output_type": "stream",
     "text": [
      "initial loss -0.20369076637918188\n",
      "initial loss -0.1993461340831404\n",
      "initial loss -0.233085073459638\n",
      "initial loss -0.35292622881122127\n",
      "initial loss -0.19662807391542986\n",
      "initial loss -0.2237511435371899\n",
      "initial loss -0.21704279588738737\n",
      "initial loss -0.28731284761497583\n",
      "initial loss -0.3344909844900132\n",
      "initial loss -0.22869379217622265\n",
      "4999: -1.1981103\r"
     ]
    },
    {
     "name": "stderr",
     "output_type": "stream",
     "text": [
      " 67%|██████████████████████████████               | 8/12 [1:04:31<33:02, 495.65s/it]"
     ]
    },
    {
     "name": "stdout",
     "output_type": "stream",
     "text": [
      "initial loss -0.18833645160961354\n",
      "initial loss -0.19299321305620168\n",
      "initial loss -0.2004694344504623\n",
      "initial loss -0.2529703106698167\n",
      "initial loss -0.2819775392703739\n",
      "initial loss -0.2230980449820853\n",
      "initial loss -0.27291829199117235\n",
      "initial loss -0.1588112509509158\n",
      "initial loss -0.20734087068512663\n",
      "initial loss -0.24679118462136623\n",
      "4999: -1.0781772\r"
     ]
    },
    {
     "name": "stderr",
     "output_type": "stream",
     "text": [
      " 75%|█████████████████████████████████▊           | 9/12 [1:13:57<25:52, 517.59s/it]"
     ]
    },
    {
     "name": "stdout",
     "output_type": "stream",
     "text": [
      "initial loss -0.1632886081498728\n",
      "initial loss -0.21850152577944507\n",
      "initial loss -0.16106478824725293\n",
      "initial loss -0.24688872526418\n",
      "initial loss -0.3184070278856474\n",
      "initial loss -0.2619337039671271\n",
      "initial loss -0.19547581559638458\n",
      "initial loss -0.18996208783212373\n",
      "initial loss -0.18024412924377883\n",
      "initial loss -0.1902586984123915\n",
      "4999: -1.0036737\r"
     ]
    },
    {
     "name": "stderr",
     "output_type": "stream",
     "text": [
      " 83%|████████████████████████████████████▋       | 10/12 [1:23:37<17:53, 536.86s/it]"
     ]
    },
    {
     "name": "stdout",
     "output_type": "stream",
     "text": [
      "initial loss -0.2412852664623388\n",
      "initial loss -0.23679129861927986\n",
      "initial loss -0.20954490554312974\n",
      "initial loss -0.3225671894377403\n",
      "initial loss -0.232657719596336\n",
      "initial loss -0.18585912683711664\n",
      "initial loss -0.22179994916855933\n",
      "initial loss -0.16420247073613214\n",
      "initial loss -0.21606949531680317\n",
      "initial loss -0.24749870047491726\n",
      "4999: -0.9283763\r"
     ]
    },
    {
     "name": "stderr",
     "output_type": "stream",
     "text": [
      " 92%|████████████████████████████████████████▎   | 11/12 [1:33:39<09:16, 556.89s/it]"
     ]
    },
    {
     "name": "stdout",
     "output_type": "stream",
     "text": [
      "initial loss -0.16751728389568768\n",
      "initial loss -0.24454987558856192\n",
      "initial loss -0.24082779391430312\n",
      "initial loss -0.22630763462645942\n",
      "initial loss -0.21844967443796187\n",
      "initial loss -0.18969895870587733\n",
      "initial loss -0.17613202755337382\n",
      "initial loss -0.23688441717201908\n",
      "initial loss -0.25343872355687314\n",
      "initial loss -0.2498683494939549\n",
      "4999: -0.8732338\r"
     ]
    },
    {
     "name": "stderr",
     "output_type": "stream",
     "text": [
      "100%|████████████████████████████████████████████| 12/12 [1:43:56<00:00, 519.70s/it]\n"
     ]
    },
    {
     "name": "stdout",
     "output_type": "stream",
     "text": [
      "8_deltas_uniform\n"
     ]
    },
    {
     "name": "stderr",
     "output_type": "stream",
     "text": [
      "  0%|                                                        | 0/12 [00:00<?, ?it/s]"
     ]
    },
    {
     "name": "stdout",
     "output_type": "stream",
     "text": [
      "initial loss -1.9477715274394667\n",
      "initial loss -1.9978537930231677\n",
      "initial loss -1.8173222009275682\n",
      "initial loss -1.8654001609880344\n",
      "initial loss -2.1638308735329064\n",
      "initial loss -1.770277842601406\n",
      "initial loss -1.6546591059499542\n",
      "initial loss -2.0033137548066993\n",
      "initial loss -1.8502043769284082\n",
      "initial loss -1.905771782864024\n",
      "4999: -2.7701899\r"
     ]
    },
    {
     "name": "stderr",
     "output_type": "stream",
     "text": [
      "  8%|███▊                                         | 1/12 [06:09<1:07:44, 369.54s/it]"
     ]
    },
    {
     "name": "stdout",
     "output_type": "stream",
     "text": [
      "initial loss -2.0970638905000736\n",
      "initial loss -2.102695726408829\n",
      "initial loss -2.2120675737945668\n",
      "initial loss -2.1587422445696816\n",
      "initial loss -2.2483946288418823\n",
      "initial loss -2.323828585626717\n",
      "initial loss -2.3459979611892154\n",
      "initial loss -2.326242576903596\n",
      "initial loss -2.210624246517619\n",
      "initial loss -2.372799547963497\n",
      "4999: -4.8351506\r"
     ]
    },
    {
     "name": "stderr",
     "output_type": "stream",
     "text": [
      " 17%|███████▌                                     | 2/12 [13:05<1:06:08, 396.86s/it]"
     ]
    },
    {
     "name": "stdout",
     "output_type": "stream",
     "text": [
      "initial loss -2.4464481645282827\n",
      "initial loss -2.4989221862973796\n",
      "initial loss -2.105014846943107\n",
      "initial loss -2.1745330604823896\n",
      "initial loss -1.8201513709591668\n",
      "initial loss -2.1879152348799007\n",
      "initial loss -2.4601158878119564\n",
      "initial loss -2.1731329913442172\n",
      "initial loss -2.5112712107501665\n",
      "initial loss -1.9694990701598272\n",
      "4999: -4.6896186\r"
     ]
    },
    {
     "name": "stderr",
     "output_type": "stream",
     "text": [
      " 25%|███████████▎                                 | 3/12 [20:19<1:02:02, 413.66s/it]"
     ]
    },
    {
     "name": "stdout",
     "output_type": "stream",
     "text": [
      "initial loss -2.073613791857304\n",
      "initial loss -2.174911307247679\n",
      "initial loss -2.004291515840187\n",
      "initial loss -1.9587746846658325\n",
      "initial loss -1.988917335767357\n",
      "initial loss -2.1181294029244793\n",
      "initial loss -2.0629415312155457\n",
      "initial loss -1.9124549182361785\n",
      "initial loss -1.9784489890053272\n",
      "initial loss -2.0459392258679006\n",
      "4999: -4.6073383\r"
     ]
    },
    {
     "name": "stderr",
     "output_type": "stream",
     "text": [
      " 33%|███████████████▋                               | 4/12 [27:35<56:20, 422.52s/it]"
     ]
    },
    {
     "name": "stdout",
     "output_type": "stream",
     "text": [
      "initial loss -1.565105491725409\n",
      "initial loss -1.9263615137740866\n",
      "initial loss -1.5969848350039244\n",
      "initial loss -1.6701119852585673\n",
      "initial loss -1.7059626437476838\n",
      "initial loss -2.015554835245159\n",
      "initial loss -1.9064004964503694\n",
      "initial loss -1.761270538041119\n",
      "initial loss -1.4251370371918612\n",
      "initial loss -1.987624641463346\n",
      "4999: -4.1088256\r"
     ]
    },
    {
     "name": "stderr",
     "output_type": "stream",
     "text": [
      " 42%|███████████████████▌                           | 5/12 [34:43<49:31, 424.45s/it]"
     ]
    },
    {
     "name": "stdout",
     "output_type": "stream",
     "text": [
      "initial loss -1.6120926803571036\n",
      "initial loss -1.6433822152995154\n",
      "initial loss -1.634892129696066\n",
      "initial loss -1.7297528234711839\n",
      "initial loss -1.4959888098045326\n",
      "initial loss -1.7985921590641418\n",
      "initial loss -1.7213326604042378\n",
      "initial loss -1.6559703010171358\n",
      "initial loss -1.6370681341527558\n",
      "initial loss -1.7105837421393404\n",
      "4999: -3.4731390\r"
     ]
    },
    {
     "name": "stderr",
     "output_type": "stream",
     "text": [
      " 50%|███████████████████████▌                       | 6/12 [41:55<42:42, 427.07s/it]"
     ]
    },
    {
     "name": "stdout",
     "output_type": "stream",
     "text": [
      "initial loss -1.4467658034580537\n",
      "initial loss -1.6211697020909472\n",
      "initial loss -1.486942456200167\n",
      "initial loss -1.4697505909847444\n",
      "initial loss -1.5313346458451744\n",
      "initial loss -1.5350466080319336\n",
      "initial loss -1.506869170007395\n",
      "initial loss -1.2809582287514598\n",
      "initial loss -1.5730980706604953\n",
      "initial loss -1.436630203130006\n",
      "4999: -2.9572820\r"
     ]
    },
    {
     "name": "stderr",
     "output_type": "stream",
     "text": [
      " 58%|███████████████████████████▍                   | 7/12 [49:16<35:58, 431.80s/it]"
     ]
    },
    {
     "name": "stdout",
     "output_type": "stream",
     "text": [
      "initial loss -1.2820011550550485\n",
      "initial loss -1.291074124765522\n",
      "initial loss -1.1828707608003994\n",
      "initial loss -1.2310357025666978\n",
      "initial loss -1.3696962018616312\n",
      "initial loss -1.3034490957739757\n",
      "initial loss -1.2168646917599852\n",
      "initial loss -1.312554767428823\n",
      "initial loss -1.1687143084750717\n",
      "initial loss -1.1321721044993782\n",
      "4999: -2.4585222\r"
     ]
    },
    {
     "name": "stderr",
     "output_type": "stream",
     "text": [
      " 67%|███████████████████████████████▎               | 8/12 [56:48<29:13, 438.27s/it]"
     ]
    },
    {
     "name": "stdout",
     "output_type": "stream",
     "text": [
      "initial loss -1.118065621574661\n",
      "initial loss -1.1977183718521958\n",
      "initial loss -1.0144640347069553\n",
      "initial loss -1.2711256625047382\n",
      "initial loss -1.2647707396050463\n",
      "initial loss -1.16876342318053\n",
      "initial loss -1.1100130963091592\n",
      "initial loss -1.1477348824025724\n",
      "initial loss -1.0570053347161525\n",
      "initial loss -1.2295741299188903\n",
      "4999: -2.3338788\r"
     ]
    },
    {
     "name": "stderr",
     "output_type": "stream",
     "text": [
      " 75%|█████████████████████████████████▊           | 9/12 [1:05:18<23:01, 460.51s/it]"
     ]
    },
    {
     "name": "stdout",
     "output_type": "stream",
     "text": [
      "initial loss -1.0757159193773937\n",
      "initial loss -1.1467457725786245\n",
      "initial loss -1.130239333720289\n",
      "initial loss -1.0500695336924126\n",
      "initial loss -1.0088484776184932\n",
      "initial loss -1.19387596899749\n",
      "initial loss -1.145231924821401\n",
      "initial loss -1.1791617261764855\n",
      "initial loss -1.0697095479541792\n",
      "initial loss -1.1709203952131184\n",
      "4999: -2.1209961\r"
     ]
    },
    {
     "name": "stderr",
     "output_type": "stream",
     "text": [
      " 83%|████████████████████████████████████▋       | 10/12 [1:14:01<15:59, 479.80s/it]"
     ]
    },
    {
     "name": "stdout",
     "output_type": "stream",
     "text": [
      "initial loss -0.8693951288503396\n",
      "initial loss -0.9774448066910999\n",
      "initial loss -0.9706648980715583\n",
      "initial loss -1.116634850158581\n",
      "initial loss -0.8812441416958425\n",
      "initial loss -0.9877173659414904\n",
      "initial loss -1.0344121563566484\n",
      "initial loss -1.0200187956165223\n",
      "initial loss -1.0711041966647201\n",
      "initial loss -0.9880381680455743\n",
      "4999: -1.9470867\r"
     ]
    },
    {
     "name": "stderr",
     "output_type": "stream",
     "text": [
      " 92%|████████████████████████████████████████▎   | 11/12 [1:23:08<08:20, 500.50s/it]"
     ]
    },
    {
     "name": "stdout",
     "output_type": "stream",
     "text": [
      "initial loss -0.9212409654020691\n",
      "initial loss -0.933806872872545\n",
      "initial loss -0.9202890508143267\n",
      "initial loss -0.9086924656843626\n",
      "initial loss -0.8756090611626444\n",
      "initial loss -0.9958369994971612\n",
      "initial loss -0.7710319685819768\n",
      "initial loss -0.9184524000673427\n",
      "initial loss -0.8410211041679291\n",
      "initial loss -0.9864693898598604\n",
      "4999: -1.7637089\r"
     ]
    },
    {
     "name": "stderr",
     "output_type": "stream",
     "text": [
      "100%|████████████████████████████████████████████| 12/12 [1:32:30<00:00, 462.55s/it]\n"
     ]
    },
    {
     "name": "stdout",
     "output_type": "stream",
     "text": [
      "8_deltas_nonuniform\n"
     ]
    },
    {
     "name": "stderr",
     "output_type": "stream",
     "text": [
      "  0%|                                                        | 0/12 [00:00<?, ?it/s]"
     ]
    },
    {
     "name": "stdout",
     "output_type": "stream",
     "text": [
      "initial loss -1.3258597105890977\n",
      "initial loss -1.934946998535482\n",
      "initial loss -2.044985536418383\n",
      "initial loss -1.6541875244393827\n",
      "initial loss -2.0216619757003462\n",
      "initial loss -1.9334451096887655\n",
      "initial loss -1.7285158326244114\n",
      "initial loss -1.9632271996032644\n",
      "initial loss -1.8375793167244925\n",
      "initial loss -2.033512757773615\n",
      "4999: -4.8554519\r"
     ]
    },
    {
     "name": "stderr",
     "output_type": "stream",
     "text": [
      "  8%|███▊                                         | 1/12 [06:23<1:10:18, 383.51s/it]"
     ]
    },
    {
     "name": "stdout",
     "output_type": "stream",
     "text": [
      "initial loss -2.449689551510743\n",
      "initial loss -2.0039911238602897\n",
      "initial loss -2.42093177825881\n",
      "initial loss -2.2960967397911936\n",
      "initial loss -2.0749202471878667\n",
      "initial loss -2.056335941966745\n",
      "initial loss -2.0431873099947935\n",
      "initial loss -2.2401603536309693\n",
      "initial loss -1.9878475440672323\n",
      "initial loss -2.2498300736023573\n",
      "4999: -3.5675789\r"
     ]
    },
    {
     "name": "stderr",
     "output_type": "stream",
     "text": [
      " 17%|███████▌                                     | 2/12 [13:29<1:08:07, 408.77s/it]"
     ]
    },
    {
     "name": "stdout",
     "output_type": "stream",
     "text": [
      "initial loss -1.7700916575501633\n",
      "initial loss -2.3044975140983843\n",
      "initial loss -1.8108134147303743\n",
      "initial loss -1.5574582628661553\n",
      "initial loss -1.8800402151260986\n",
      "initial loss -2.1654803135252925\n",
      "initial loss -1.9514165661766139\n",
      "initial loss -1.8093143349917846\n",
      "initial loss -1.936678240585303\n",
      "initial loss -1.8253384961739973\n",
      "4999: -3.4661993\r"
     ]
    },
    {
     "name": "stderr",
     "output_type": "stream",
     "text": [
      " 25%|███████████▎                                 | 3/12 [20:56<1:03:53, 425.93s/it]"
     ]
    },
    {
     "name": "stdout",
     "output_type": "stream",
     "text": [
      "initial loss -1.8424803783547277\n",
      "initial loss -1.4766632761115595\n",
      "initial loss -1.62982284688003\n",
      "initial loss -1.67476925350139\n",
      "initial loss -1.5621531922215532\n",
      "initial loss -1.7830459817893114\n",
      "initial loss -1.6185662303987551\n",
      "initial loss -1.5292575036481417\n",
      "initial loss -1.6383812772521715\n",
      "initial loss -1.4359550283266365\n",
      "4999: -3.1636133\r"
     ]
    },
    {
     "name": "stderr",
     "output_type": "stream",
     "text": [
      " 33%|███████████████▋                               | 4/12 [28:26<58:04, 435.52s/it]"
     ]
    },
    {
     "name": "stdout",
     "output_type": "stream",
     "text": [
      "initial loss -1.6313834782235603\n",
      "initial loss -1.4582886220012583\n",
      "initial loss -1.5519127338011243\n",
      "initial loss -1.2298651245794603\n",
      "initial loss -1.475618256020667\n",
      "initial loss -1.4129251166468977\n",
      "initial loss -1.2874706635774862\n",
      "initial loss -1.2158416139609245\n",
      "initial loss -1.51070535052963\n",
      "initial loss -1.2316470691511465\n",
      "4999: -3.2232055\r"
     ]
    },
    {
     "name": "stderr",
     "output_type": "stream",
     "text": [
      " 42%|███████████████████▌                           | 5/12 [35:48<51:05, 437.92s/it]"
     ]
    },
    {
     "name": "stdout",
     "output_type": "stream",
     "text": [
      "initial loss -1.2035855205273112\n",
      "initial loss -1.2932976001129537\n",
      "initial loss -1.1729796432585784\n",
      "initial loss -1.3397120909173605\n",
      "initial loss -1.1401646161099643\n",
      "initial loss -1.161989565670385\n",
      "initial loss -1.1825020154929802\n",
      "initial loss -1.2934184722591058\n",
      "initial loss -1.2102493784898996\n",
      "initial loss -1.2098040255963574\n",
      "4999: -2.7060516\r"
     ]
    },
    {
     "name": "stderr",
     "output_type": "stream",
     "text": [
      " 50%|███████████████████████▌                       | 6/12 [43:14<44:02, 440.49s/it]"
     ]
    },
    {
     "name": "stdout",
     "output_type": "stream",
     "text": [
      "initial loss -1.0998091191084924\n",
      "initial loss -1.1660762509758147\n",
      "initial loss -0.8803942023635404\n",
      "initial loss -0.964345544874637\n",
      "initial loss -1.1605245011498413\n",
      "initial loss -1.0583482156019088\n",
      "initial loss -1.054007457843971\n",
      "initial loss -1.0428453558312416\n",
      "initial loss -1.0737786535921365\n",
      "initial loss -1.0823490378236809\n",
      "4999: -2.2853134\r"
     ]
    },
    {
     "name": "stderr",
     "output_type": "stream",
     "text": [
      " 58%|███████████████████████████▍                   | 7/12 [50:49<37:07, 445.48s/it]"
     ]
    },
    {
     "name": "stdout",
     "output_type": "stream",
     "text": [
      "initial loss -1.069931991164009\n",
      "initial loss -0.9425044252723115\n",
      "initial loss -0.8890004875738033\n",
      "initial loss -0.8718841366248969\n",
      "initial loss -1.0661405010629532\n",
      "initial loss -1.074950136137493\n",
      "initial loss -0.9559572408590681\n",
      "initial loss -1.074587228701838\n",
      "initial loss -1.010803237073776\n",
      "initial loss -1.0635235462400126\n",
      "4999: -2.0544087\r"
     ]
    },
    {
     "name": "stderr",
     "output_type": "stream",
     "text": [
      " 67%|███████████████████████████████▎               | 8/12 [58:35<30:07, 451.87s/it]"
     ]
    },
    {
     "name": "stdout",
     "output_type": "stream",
     "text": [
      "initial loss -0.987398461745091\n",
      "initial loss -0.9590481314490871\n",
      "initial loss -0.9560192603311094\n",
      "initial loss -0.9570423745203583\n",
      "initial loss -0.852941783719934\n",
      "initial loss -1.01621347703587\n",
      "initial loss -1.003753293063502\n",
      "initial loss -0.723418579447659\n",
      "initial loss -0.8268892018566691\n",
      "initial loss -1.0077874471687125\n",
      "4999: -1.8314501\r"
     ]
    },
    {
     "name": "stderr",
     "output_type": "stream",
     "text": [
      " 75%|█████████████████████████████████▊           | 9/12 [1:07:18<23:41, 473.98s/it]"
     ]
    },
    {
     "name": "stdout",
     "output_type": "stream",
     "text": [
      "initial loss -0.8475557852528951\n",
      "initial loss -0.8959767251718425\n",
      "initial loss -0.7209845836628567\n",
      "initial loss -0.9336242795069192\n",
      "initial loss -0.9151543254290087\n",
      "initial loss -0.8957947297995628\n",
      "initial loss -0.79396318328525\n",
      "initial loss -0.7956088313239555\n",
      "initial loss -0.8454338387845056\n",
      "initial loss -0.8701619114574428\n",
      "4999: -1.6769399\r"
     ]
    },
    {
     "name": "stderr",
     "output_type": "stream",
     "text": [
      " 83%|████████████████████████████████████▋       | 10/12 [1:16:21<16:31, 495.56s/it]"
     ]
    },
    {
     "name": "stdout",
     "output_type": "stream",
     "text": [
      "initial loss -0.6960732658294182\n",
      "initial loss -0.8374614841645989\n",
      "initial loss -0.6927411627258742\n",
      "initial loss -0.7715916204952976\n",
      "initial loss -0.6784497370345397\n",
      "initial loss -0.6378137051980056\n",
      "initial loss -0.789511046931462\n",
      "initial loss -0.7479578196599614\n",
      "initial loss -0.7534148783839519\n",
      "initial loss -0.7220020738712996\n",
      "4999: -1.2400683\r"
     ]
    },
    {
     "name": "stderr",
     "output_type": "stream",
     "text": [
      " 92%|████████████████████████████████████████▎   | 11/12 [1:26:27<08:49, 529.14s/it]"
     ]
    },
    {
     "name": "stdout",
     "output_type": "stream",
     "text": [
      "initial loss -0.6385759442301866\n",
      "initial loss -0.669936455548616\n",
      "initial loss -0.7546972015505755\n",
      "initial loss -0.8345838507861277\n",
      "initial loss -0.7634674367631838\n",
      "initial loss -0.7566130457516761\n",
      "initial loss -0.6121910078918098\n",
      "initial loss -0.7030383090196937\n",
      "initial loss -0.7385850236992861\n",
      "initial loss -0.6108685208287696\n",
      "4999: -1.1787538\r"
     ]
    },
    {
     "name": "stderr",
     "output_type": "stream",
     "text": [
      "100%|████████████████████████████████████████████| 12/12 [1:37:13<00:00, 486.12s/it]\n"
     ]
    }
   ],
   "source": [
    "N_objects = 2000\n",
    "num_bootstraps = 10\n",
    "noise_sigma = 1e-3\n",
    "num_samples = np.linspace(2, 96, 12).astype(int)\n",
    "\n",
    "objects_dict = {\n",
    "  'delta_uniform': lambda : np.array([sample_amplitude_object('delta', num_deltas=1, gaussian_mixture_position=False) for i in range(N_objects)]),\n",
    "  'delta_nonuniform': lambda: np.array([sample_amplitude_object('delta', num_deltas=1, gaussian_mixture_position=True) for i in range(N_objects)]),\n",
    "  'white_noise': lambda : np.array([sample_amplitude_object('white_noise') for i in range(N_objects)]),\n",
    "  'pink_noise': lambda : np.array([sample_amplitude_object('pink_noise') for i in range(N_objects)]),\n",
    "  '8_deltas_uniform': lambda :np.array([sample_amplitude_object('delta', num_deltas=8, gaussian_mixture_position=False) for i in range(N_objects)]),\n",
    "  '8_deltas_nonuniform': lambda : np.array([sample_amplitude_object('delta', num_deltas=8, gaussian_mixture_position=True) for i in range(N_objects)]),\n",
    "}\n",
    "\n",
    "# num_nyquist_samples = int(NUM_NYQUIST_SAMPLES // 2)\n",
    "num_nyquist_samples = NUM_NYQUIST_SAMPLES\n",
    "\n",
    "mi_by_object = {}\n",
    "for name, objects_fn in objects_dict.items():\n",
    "  print(name)\n",
    "  mutual_information = []\n",
    "  for N in tqdm(num_samples):\n",
    "    erasure_mask = onp.zeros(OBJECT_LENGTH)\n",
    "    sample_indices = onp.linspace(0, OBJECT_LENGTH - 1, N).astype(int)\n",
    "    erasure_mask[sample_indices] = 1\n",
    "    erasure_mask = np.array(erasure_mask, dtype=bool)\n",
    "    mi_bootstraps = []\n",
    "    for k in range(num_bootstraps):\n",
    "      initial_kernel, initial_params, optimized_params, objects, initial_mi, optimized_mi = optimize_PSF_and_estimate_mi(\n",
    "          objects_fn, noise_sigma, erasure_mask, num_nyquist_samples=num_nyquist_samples, nyquist_sample_output=False)\n",
    "      mi_bootstraps.append(optimized_mi)\n",
    "\n",
    "    mutual_information.append(mi_bootstraps)\n",
    "  mi_by_object[name] = mutual_information\n"
   ]
  },
  {
   "cell_type": "code",
   "execution_count": 3,
   "metadata": {
    "execution": {
     "iopub.execute_input": "2023-11-23T17:14:41.447837Z",
     "iopub.status.busy": "2023-11-23T17:14:41.447492Z",
     "iopub.status.idle": "2023-11-23T17:14:42.810346Z",
     "shell.execute_reply": "2023-11-23T17:14:42.809340Z"
    }
   },
   "outputs": [
    {
     "data": {
      "text/plain": [
       "<matplotlib.legend.Legend at 0x7f4695b7a350>"
      ]
     },
     "execution_count": 3,
     "metadata": {},
     "output_type": "execute_result"
    },
    {
     "data": {
      "image/png": "[encoded data removed]",
      "text/plain": [
       "<Figure size 800x800 with 1 Axes>"
      ]
     },
     "metadata": {},
     "output_type": "display_data"
    }
   ],
   "source": [
    "fig, ax = plt.subplots(1, 1, figsize=(5, 5))\n",
    "\n",
    "for object_name, mutual_information in mi_by_object.items():\n",
    "\n",
    "    total_mi = np.array(mutual_information) * num_samples[:, None]\n",
    "\n",
    "    max_mi = np.max(total_mi, axis=1)\n",
    "\n",
    "    # ax.plot(num_samples, mutual_information, 'o-')\n",
    "    ax.plot(num_samples, max_mi, 'o-', label=object_name)\n",
    "    ax.set_xlabel('Number of samples')\n",
    "    ax.set_ylabel('Total mutual information (bits)')\n",
    "\n",
    "    ax.set(ylim=(0, max(1.1 * np.max(max_mi), ax.get_ylim()[1])))\n",
    "\n",
    "# plot a dashed line at the number of nyquist samples\n",
    "ax.axvline(num_nyquist_samples, linestyle='--', color='k')\n",
    "ax.text(num_nyquist_samples + 3, 0.2 * np.max(total_mi), 'Nyquist sampling rate', rotation=0, va='center')\n",
    "clear_spines(ax)\n",
    "ax.legend()"
   ]
  },
  {
   "cell_type": "markdown",
   "metadata": {},
   "source": [
    "## Show phase transition behavior with increasing Nyquist samples"
   ]
  },
  {
   "cell_type": "code",
   "execution_count": 18,
   "metadata": {},
   "outputs": [
    {
     "name": "stderr",
     "output_type": "stream",
     "text": [
      "  0%|          | 0/4 [00:00<?, ?it/s]"
     ]
    },
    {
     "name": "stdout",
     "output_type": "stream",
     "text": [
      "initial loss -4.701567050021177\n",
      "3104: -5.1032416\r"
     ]
    },
    {
     "name": "stderr",
     "output_type": "stream",
     "text": []
    },
    {
     "name": "stdout",
     "output_type": "stream",
     "text": [
      "initial loss -4.798616915048982\n",
      "4999: -5.9762166\r"
     ]
    },
    {
     "name": "stderr",
     "output_type": "stream",
     "text": []
    },
    {
     "name": "stdout",
     "output_type": "stream",
     "text": [
      "initial loss -2.629090424614936\n",
      "4999: -3.3343864\r"
     ]
    },
    {
     "name": "stderr",
     "output_type": "stream",
     "text": []
    },
    {
     "name": "stdout",
     "output_type": "stream",
     "text": [
      "initial loss -1.7211548636532932\n",
      "4999: -2.4275496\r"
     ]
    },
    {
     "name": "stderr",
     "output_type": "stream",
     "text": []
    },
    {
     "name": "stdout",
     "output_type": "stream",
     "text": [
      "initial loss -1.3708614647103687\n",
      "4999: -1.8622818\r"
     ]
    },
    {
     "name": "stderr",
     "output_type": "stream",
     "text": []
    },
    {
     "name": "stdout",
     "output_type": "stream",
     "text": [
      "initial loss -1.0463996598476548\n",
      "4999: -1.5514470\r"
     ]
    },
    {
     "name": "stderr",
     "output_type": "stream",
     "text": []
    },
    {
     "name": "stdout",
     "output_type": "stream",
     "text": [
      "initial loss -1.0994167020505567\n",
      "4746: -1.3052371\r"
     ]
    },
    {
     "name": "stderr",
     "output_type": "stream",
     "text": []
    },
    {
     "name": "stdout",
     "output_type": "stream",
     "text": [
      "initial loss -0.726067028851027\n",
      "4212: -1.1380723\r"
     ]
    },
    {
     "name": "stderr",
     "output_type": "stream",
     "text": []
    },
    {
     "name": "stdout",
     "output_type": "stream",
     "text": [
      "initial loss -0.8485153489046193\n",
      "4999: -1.0073872\r"
     ]
    },
    {
     "name": "stderr",
     "output_type": "stream",
     "text": []
    },
    {
     "name": "stdout",
     "output_type": "stream",
     "text": [
      "initial loss -0.7586317535327279\n",
      "4999: -0.9060279\r"
     ]
    },
    {
     "name": "stderr",
     "output_type": "stream",
     "text": []
    },
    {
     "name": "stdout",
     "output_type": "stream",
     "text": [
      "initial loss -0.642267603746642\n",
      "4999: -0.8133907\r"
     ]
    },
    {
     "name": "stderr",
     "output_type": "stream",
     "text": []
    },
    {
     "name": "stdout",
     "output_type": "stream",
     "text": [
      "initial loss -0.5784645413161276\n",
      "4999: -0.7430551\r"
     ]
    },
    {
     "name": "stderr",
     "output_type": "stream",
     "text": [
      "100%|██████████| 12/12 [09:42<00:00, 48.51s/it]\n",
      " 25%|██▌       | 1/4 [09:42<29:06, 582.17s/it]"
     ]
    },
    {
     "name": "stdout",
     "output_type": "stream",
     "text": [
      "initial loss -4.342236741594238\n",
      "4999: -4.6527582\r"
     ]
    },
    {
     "name": "stderr",
     "output_type": "stream",
     "text": []
    },
    {
     "name": "stdout",
     "output_type": "stream",
     "text": [
      "initial loss -3.971414464268886\n",
      "4999: -6.3624995\r"
     ]
    },
    {
     "name": "stderr",
     "output_type": "stream",
     "text": []
    },
    {
     "name": "stdout",
     "output_type": "stream",
     "text": [
      "initial loss -3.7777570372367175\n",
      "4999: -5.6626496\r"
     ]
    },
    {
     "name": "stderr",
     "output_type": "stream",
     "text": []
    },
    {
     "name": "stdout",
     "output_type": "stream",
     "text": [
      "initial loss -3.1993835800155552\n",
      "4999: -4.1843339\r"
     ]
    },
    {
     "name": "stderr",
     "output_type": "stream",
     "text": []
    },
    {
     "name": "stdout",
     "output_type": "stream",
     "text": [
      "initial loss -2.1486573939738456\n",
      "4999: -3.2298221\r"
     ]
    },
    {
     "name": "stderr",
     "output_type": "stream",
     "text": []
    },
    {
     "name": "stdout",
     "output_type": "stream",
     "text": [
      "initial loss -1.7836031834093646\n",
      "4999: -2.6582306\r"
     ]
    },
    {
     "name": "stderr",
     "output_type": "stream",
     "text": []
    },
    {
     "name": "stdout",
     "output_type": "stream",
     "text": [
      "initial loss -1.3778860937774218\n",
      "4999: -2.2723741\r"
     ]
    },
    {
     "name": "stderr",
     "output_type": "stream",
     "text": []
    },
    {
     "name": "stdout",
     "output_type": "stream",
     "text": [
      "initial loss -1.328519035632924\n",
      "4999: -2.0009587\r"
     ]
    },
    {
     "name": "stderr",
     "output_type": "stream",
     "text": []
    },
    {
     "name": "stdout",
     "output_type": "stream",
     "text": [
      "initial loss -1.2217731063821065\n",
      "4999: -1.7636274\r"
     ]
    },
    {
     "name": "stderr",
     "output_type": "stream",
     "text": []
    },
    {
     "name": "stdout",
     "output_type": "stream",
     "text": [
      "initial loss -1.119453676300826\n",
      "4999: -1.5950758\r"
     ]
    },
    {
     "name": "stderr",
     "output_type": "stream",
     "text": []
    },
    {
     "name": "stdout",
     "output_type": "stream",
     "text": [
      "initial loss -1.0767603840934292\n",
      "4999: -1.4370230\r"
     ]
    },
    {
     "name": "stderr",
     "output_type": "stream",
     "text": []
    },
    {
     "name": "stdout",
     "output_type": "stream",
     "text": [
      "initial loss -0.9351847159356677\n",
      "4999: -1.2129158\r"
     ]
    },
    {
     "name": "stderr",
     "output_type": "stream",
     "text": [
      "100%|██████████| 12/12 [08:35<00:00, 42.99s/it]\n",
      " 50%|█████     | 2/4 [18:18<18:06, 543.17s/it]"
     ]
    },
    {
     "name": "stdout",
     "output_type": "stream",
     "text": [
      "initial loss -3.5567862905615857\n",
      "4999: -4.4578137\r"
     ]
    },
    {
     "name": "stderr",
     "output_type": "stream",
     "text": []
    },
    {
     "name": "stdout",
     "output_type": "stream",
     "text": [
      "initial loss -3.9119874023569055\n",
      "4999: -6.4799777\r"
     ]
    },
    {
     "name": "stderr",
     "output_type": "stream",
     "text": []
    },
    {
     "name": "stdout",
     "output_type": "stream",
     "text": [
      "initial loss -3.5688557928212297\n",
      "4999: -6.1517155\r"
     ]
    },
    {
     "name": "stderr",
     "output_type": "stream",
     "text": []
    },
    {
     "name": "stdout",
     "output_type": "stream",
     "text": [
      "initial loss -3.8811295526591327\n",
      "4999: -5.3569458\r"
     ]
    },
    {
     "name": "stderr",
     "output_type": "stream",
     "text": []
    },
    {
     "name": "stdout",
     "output_type": "stream",
     "text": [
      "initial loss -2.60121458416637\n",
      "4999: -4.1032941\r"
     ]
    },
    {
     "name": "stderr",
     "output_type": "stream",
     "text": []
    },
    {
     "name": "stdout",
     "output_type": "stream",
     "text": [
      "initial loss -2.4511515629022593\n",
      "4999: -3.5899269\r"
     ]
    },
    {
     "name": "stderr",
     "output_type": "stream",
     "text": []
    },
    {
     "name": "stdout",
     "output_type": "stream",
     "text": [
      "initial loss -1.9255422218800358\n",
      "4999: -3.1230129\r"
     ]
    },
    {
     "name": "stderr",
     "output_type": "stream",
     "text": []
    },
    {
     "name": "stdout",
     "output_type": "stream",
     "text": [
      "initial loss -1.7946845212908433\n",
      "4999: -2.6112877\r"
     ]
    },
    {
     "name": "stderr",
     "output_type": "stream",
     "text": []
    },
    {
     "name": "stdout",
     "output_type": "stream",
     "text": [
      "initial loss -1.6802265789453543\n",
      "4999: -2.2900554\r"
     ]
    },
    {
     "name": "stderr",
     "output_type": "stream",
     "text": []
    },
    {
     "name": "stdout",
     "output_type": "stream",
     "text": [
      "initial loss -1.3619789513822287\n",
      "4999: -2.1988054\r"
     ]
    },
    {
     "name": "stderr",
     "output_type": "stream",
     "text": []
    },
    {
     "name": "stdout",
     "output_type": "stream",
     "text": [
      "initial loss -1.334534823409594\n",
      "4241: -1.8708258\r"
     ]
    },
    {
     "name": "stderr",
     "output_type": "stream",
     "text": []
    },
    {
     "name": "stdout",
     "output_type": "stream",
     "text": [
      "initial loss -1.2876021630957393\n",
      "4999: -1.6352754\r"
     ]
    },
    {
     "name": "stderr",
     "output_type": "stream",
     "text": [
      "100%|██████████| 12/12 [08:29<00:00, 42.46s/it]\n",
      " 75%|███████▌  | 3/4 [26:47<08:47, 527.79s/it]"
     ]
    },
    {
     "name": "stdout",
     "output_type": "stream",
     "text": [
      "initial loss -3.4852768890413275\n",
      "4999: -4.2195290\r"
     ]
    },
    {
     "name": "stderr",
     "output_type": "stream",
     "text": []
    },
    {
     "name": "stdout",
     "output_type": "stream",
     "text": [
      "initial loss -3.7917753630239623\n",
      "4999: -6.3433347\r"
     ]
    },
    {
     "name": "stderr",
     "output_type": "stream",
     "text": []
    },
    {
     "name": "stdout",
     "output_type": "stream",
     "text": [
      "initial loss -3.7769413191029337\n",
      "4999: -6.1723290\r"
     ]
    },
    {
     "name": "stderr",
     "output_type": "stream",
     "text": []
    },
    {
     "name": "stdout",
     "output_type": "stream",
     "text": [
      "initial loss -2.9174658881049402\n",
      "4999: -5.9890510\r"
     ]
    },
    {
     "name": "stderr",
     "output_type": "stream",
     "text": []
    },
    {
     "name": "stdout",
     "output_type": "stream",
     "text": [
      "initial loss -3.1922002453824976\n",
      "4999: -4.7756785\r"
     ]
    },
    {
     "name": "stderr",
     "output_type": "stream",
     "text": []
    },
    {
     "name": "stdout",
     "output_type": "stream",
     "text": [
      "initial loss -2.5982614324941546\n",
      "4999: -4.5727432\r"
     ]
    },
    {
     "name": "stderr",
     "output_type": "stream",
     "text": []
    },
    {
     "name": "stdout",
     "output_type": "stream",
     "text": [
      "initial loss -1.981024745058133\n",
      "4999: -3.8661038\r"
     ]
    },
    {
     "name": "stderr",
     "output_type": "stream",
     "text": []
    },
    {
     "name": "stdout",
     "output_type": "stream",
     "text": [
      "initial loss -2.001989549053617\n",
      "4999: -3.3159437\r"
     ]
    },
    {
     "name": "stderr",
     "output_type": "stream",
     "text": []
    },
    {
     "name": "stdout",
     "output_type": "stream",
     "text": [
      "initial loss -1.8426319829759548\n",
      "4999: -2.6799432\r"
     ]
    },
    {
     "name": "stderr",
     "output_type": "stream",
     "text": []
    },
    {
     "name": "stdout",
     "output_type": "stream",
     "text": [
      "initial loss -1.641344811002385\n",
      "4999: -2.7247535\r"
     ]
    },
    {
     "name": "stderr",
     "output_type": "stream",
     "text": []
    },
    {
     "name": "stdout",
     "output_type": "stream",
     "text": [
      "initial loss -1.6062247026868326\n",
      "4999: -2.1952443\r"
     ]
    },
    {
     "name": "stderr",
     "output_type": "stream",
     "text": []
    },
    {
     "name": "stdout",
     "output_type": "stream",
     "text": [
      "initial loss -1.3762189321073512\n",
      "4999: -2.2532112\r"
     ]
    },
    {
     "name": "stderr",
     "output_type": "stream",
     "text": [
      "100%|██████████| 12/12 [08:38<00:00, 43.23s/it]\n",
      "100%|██████████| 12/12 [08:38<00:00, 43.23s/it]\n",
      "100%|██████████| 4/4 [35:26<00:00, 531.56s/it]\n"
     ]
    }
   ],
   "source": [
    "N_objects = 2000\n",
    "num_bootstraps = 10\n",
    "noise_sigma = 1e-3\n",
    "num_samples = np.linspace(2, 96, 15).astype(int)\n",
    "num_nyquist_samples_list = [8, 16, 24, 32, 48]\n",
    "\n",
    "\n",
    "\n",
    "objects_fn = lambda : np.array([sample_amplitude_object('delta', num_deltas=1, gaussian_mixture_position=False) for i in range(N_objects)])\n",
    "\n",
    "mi_vs_num_nyquist_samples = {}\n",
    "for num_nyquist_samples in tqdm(num_nyquist_samples_list):\n",
    "\n",
    "  mutual_information = []\n",
    "  for N in tqdm(num_samples):\n",
    "    erasure_mask = onp.zeros(OBJECT_LENGTH)\n",
    "    sample_indices = onp.linspace(0, OBJECT_LENGTH - 1, N).astype(int)\n",
    "    erasure_mask[sample_indices] = 1\n",
    "    erasure_mask = np.array(erasure_mask, dtype=bool)\n",
    "    mi_bootstraps = []\n",
    "    for k in range(num_bootstraps):\n",
    "      initial_kernel, initial_params, optimized_params, objects, initial_mi, optimized_mi = optimize_PSF_and_estimate_mi(\n",
    "          objects_fn, noise_sigma, erasure_mask, num_nyquist_samples=num_nyquist_samples, nyquist_sample_output=False)\n",
    "      mi_bootstraps.append(optimized_mi)\n",
    "\n",
    "    mutual_information.append(onp.array(mi_bootstraps).max())\n",
    "  mi_vs_num_nyquist_samples[num_nyquist_samples] = mutual_information\n"
   ]
  },
  {
   "cell_type": "code",
   "execution_count": 26,
   "metadata": {},
   "outputs": [
    {
     "data": {
      "image/png": "[encoded data removed]",
      "text/plain": [
       "<Figure size 500x500 with 1 Axes>"
      ]
     },
     "metadata": {},
     "output_type": "display_data"
    }
   ],
   "source": [
    "fig, ax = plt.subplots(1, 1, figsize=(5, 5))\n",
    "\n",
    "for num_nyquist_samples, mutual_information in mi_vs_num_nyquist_samples.items():\n",
    "\n",
    "    total_mi = np.array(mutual_information) * num_samples\n",
    "\n",
    "\n",
    "    # ax.plot(num_samples, mutual_information, 'o-')\n",
    "    ax.plot(num_samples, total_mi, 'o-', label=num_nyquist_samples)\n",
    "    ax.set_xlabel('Number of samples')\n",
    "    ax.set_ylabel('Total mutual information (bits)')\n",
    "\n",
    "    # ax.set(ylim=(0, max(1.1 * np.max(total_mi), ax.get_ylim()[1])))\n",
    "\n",
    "# plot a dashed line at the number of nyquist samples\n",
    "ax.axvline(num_nyquist_samples, linestyle='--', color='k')\n",
    "ax.text(num_nyquist_samples + 3, 0.2 * np.max(total_mi), 'Nyquist sampling rate', rotation=0, va='center')\n",
    "clear_spines(ax)\n",
    "ax.legend()"
   ]
  },
  {
   "cell_type": "markdown",
   "metadata": {},
   "source": [
    "## Show transition behavior with different SNR levels"
   ]
  },
  {
   "cell_type": "code",
   "execution_count": 21,
   "metadata": {},
   "outputs": [
    {
     "name": "stderr",
     "output_type": "stream",
     "text": [
      "  0%|          | 0/5 [00:00<?, ?it/s]"
     ]
    },
    {
     "name": "stdout",
     "output_type": "stream",
     "text": [
      "initial loss -13.576697474560994\n",
      "initial loss -13.655811207741602\n",
      "initial loss -13.295624590676434\n",
      "initial loss -13.651962548484729\n",
      "initial loss -12.449905414931107\n",
      "initial loss -10.955523357792229\n",
      "initial loss -9.638196446416806\n",
      "initial loss -8.631023795951196\n",
      "initial loss -8.079850665277828\n",
      "initial loss -7.812550547302799\n",
      "initial loss -7.407340544342693\n",
      "initial loss -6.976885661623567\n",
      "4999: -7.5653667\r"
     ]
    },
    {
     "name": "stderr",
     "output_type": "stream",
     "text": [
      " 20%|██        | 1/5 [23:14<1:32:57, 1394.32s/it]"
     ]
    },
    {
     "name": "stdout",
     "output_type": "stream",
     "text": [
      "initial loss -10.020575687456397\n",
      "initial loss -10.209697583860482\n",
      "initial loss -9.962886191349963\n",
      "initial loss -9.846181286764244\n",
      "initial loss -9.094744502389625\n",
      "initial loss -7.614331564342643\n",
      "initial loss -6.390456970440222\n",
      "initial loss -5.218004519793439\n",
      "initial loss -4.901978222052612\n",
      "initial loss -4.425860253755276\n",
      "initial loss -4.101822660527802\n",
      "initial loss -3.5983104078590338\n",
      "4999: -4.2860671\r"
     ]
    },
    {
     "name": "stderr",
     "output_type": "stream",
     "text": [
      " 40%|████      | 2/5 [42:00<1:01:49, 1236.50s/it]"
     ]
    },
    {
     "name": "stdout",
     "output_type": "stream",
     "text": [
      "initial loss -6.809440580133052\n",
      "initial loss -6.735342939945667\n",
      "initial loss -6.643753172857486\n",
      "initial loss -6.349032183319214\n",
      "initial loss -6.312010169437643\n",
      "initial loss -5.1253570752639\n",
      "initial loss -4.424632256712819\n",
      "initial loss -3.9038516107080783\n",
      "initial loss -3.321265037652131\n",
      "initial loss -3.0622937807297563\n",
      "initial loss -2.8514896540100048\n",
      "initial loss -2.5393777775826125\n",
      "4999: -3.3837438\r"
     ]
    },
    {
     "name": "stderr",
     "output_type": "stream",
     "text": [
      " 60%|██████    | 3/5 [1:03:19<41:52, 1256.05s/it]"
     ]
    },
    {
     "name": "stdout",
     "output_type": "stream",
     "text": [
      "initial loss -3.5360161738769884\n",
      "initial loss -3.670593055668964\n",
      "initial loss -3.705611067681058\n",
      "initial loss -3.174481584861725\n",
      "initial loss -3.2778446622242097\n",
      "initial loss -2.6984833024883477\n",
      "initial loss -2.290787618693455\n",
      "initial loss -2.0289430626987532\n",
      "initial loss -1.8036662351349422\n",
      "initial loss -1.8241193623864262\n",
      "initial loss -1.6757311397005485\n",
      "initial loss -1.3399908997709933\n",
      "4999: -2.0223655\r"
     ]
    },
    {
     "name": "stderr",
     "output_type": "stream",
     "text": [
      " 80%|████████  | 4/5 [1:23:22<20:35, 1235.17s/it]"
     ]
    },
    {
     "name": "stdout",
     "output_type": "stream",
     "text": [
      "initial loss -1.6758521916355789\n",
      "initial loss -1.972858912395681\n",
      "initial loss -1.691550639913837\n",
      "initial loss -1.8741901619396129\n",
      "initial loss -1.6141291789175756\n",
      "initial loss -1.2882957349737583\n",
      "initial loss -1.1311285605812595\n",
      "initial loss -0.9822955466159928\n",
      "initial loss -0.9329985651830155\n",
      "initial loss -0.9368424665280722\n",
      "initial loss -0.9612887756177683\n",
      "initial loss -0.7174826823079524\n",
      "4999: -1.3514495\r"
     ]
    },
    {
     "name": "stderr",
     "output_type": "stream",
     "text": [
      "100%|██████████| 5/5 [1:35:47<00:00, 1149.48s/it]\n",
      "100%|██████████| 5/5 [1:35:47<00:00, 1149.48s/it]\n"
     ]
    }
   ],
   "source": [
    "N_objects = 2000\n",
    "num_bootstraps = 10\n",
    "num_samples = np.linspace(2, 96, 15).astype(int)\n",
    "\n",
    "objects_fn = lambda : np.array([sample_amplitude_object('delta', num_deltas=1, gaussian_mixture_position=False) for i in range(N_objects)])\n",
    "\n",
    "noise_sigma_list = [1e-6, 1e-5, 1e-4, 1e-3, 4e-3]\n",
    "\n",
    "mi_vs_num_samples_by_noise = {}\n",
    "for noise_sigma in tqdm(noise_sigma_list):\n",
    "  mutual_information = []\n",
    "  for N in num_samples:\n",
    "    erasure_mask = onp.zeros(OBJECT_LENGTH)\n",
    "    sample_indices = onp.linspace(0, OBJECT_LENGTH - 1, N).astype(int)\n",
    "    erasure_mask[sample_indices] = 1\n",
    "    erasure_mask = np.array(erasure_mask, dtype=bool)\n",
    "    mi_bootstraps = []\n",
    "    for k in range(num_bootstraps):\n",
    "      initial_kernel, initial_params, optimized_params, objects, initial_mi, optimized_mi = optimize_PSF_and_estimate_mi(\n",
    "          objects_fn, noise_sigma, erasure_mask, num_nyquist_samples=NUM_NYQUIST_SAMPLES, nyquist_sample_output=False)\n",
    "      mi_bootstraps.append(optimized_mi)\n",
    "\n",
    "    mutual_information.append(onp.array(mi_bootstraps).max())\n",
    "  mi_vs_num_samples_by_noise[noise_sigma] = mutual_information\n"
   ]
  },
  {
   "cell_type": "code",
   "execution_count": 25,
   "metadata": {},
   "outputs": [
    {
     "data": {
      "text/plain": [
       "[Text(0.5, 1.0, 'SNR comparison')]"
      ]
     },
     "execution_count": 25,
     "metadata": {},
     "output_type": "execute_result"
    },
    {
     "data": {
      "image/png": "[encoded data removed]",
      "text/plain": [
       "<Figure size 500x500 with 1 Axes>"
      ]
     },
     "metadata": {},
     "output_type": "display_data"
    }
   ],
   "source": [
    "snrs = (1 / NUM_NYQUIST_SAMPLES) / np.array(noise_sigma_list)\n",
    "\n",
    "fig, ax = plt.subplots(1, 1, figsize=(5, 5))\n",
    "\n",
    "for (noise_sigma, mutual_information), snr in zip(mi_vs_num_samples_by_noise.items(), snrs):\n",
    "\n",
    "    total_mi = np.array(mutual_information) * num_samples\n",
    "\n",
    "    # ax.plot(num_samples, mutual_information, 'o-')\n",
    "    ax.plot(num_samples, total_mi, 'o-', label=snr)\n",
    "    ax.set_xlabel('Number of samples')\n",
    "    ax.set_ylabel('Total mutual information (bits)')\n",
    "\n",
    "    # ax.set(ylim=(0, max(1.1 * np.max(total_mi), ax.get_ylim()[1])))\n",
    "\n",
    "# plot a dashed line at the number of nyquist samples\n",
    "ax.axvline(num_nyquist_samples, linestyle='--', color='k')\n",
    "ax.text(num_nyquist_samples + 3, 0.2 * np.max(total_mi), 'Nyquist sampling rate', rotation=0, va='center')\n",
    "clear_spines(ax)\n",
    "ax.legend()\n",
    "ax.set(title='SNR comparison')"
   ]
  }
 ],
 "metadata": {
  "kernelspec": {
   "display_name": "phenotypes",
   "language": "python",
   "name": "python3"
  },
  "language_info": {
   "codemirror_mode": {
    "name": "ipython",
    "version": 3
   },
   "file_extension": ".py",
   "mimetype": "text/x-python",
   "name": "python",
   "nbconvert_exporter": "python",
   "pygments_lexer": "ipython3",
   "version": "3.10.6"
  }
 },
 "nbformat": 4,
 "nbformat_minor": 2
}
