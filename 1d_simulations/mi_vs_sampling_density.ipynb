{
 "cells": [
  {
   "cell_type": "code",
   "execution_count": 1,
   "metadata": {
    "execution": {
     "iopub.execute_input": "2023-11-24T07:39:42.438537Z",
     "iopub.status.busy": "2023-11-24T07:39:42.438133Z",
     "iopub.status.idle": "2023-11-24T07:39:43.555494Z",
     "shell.execute_reply": "2023-11-24T07:39:43.554866Z"
    }
   },
   "outputs": [],
   "source": [
    "%load_ext autoreload\n",
    "%autoreload 2\n",
    "# this only works on startup!\n",
    "from jax import config\n",
    "config.update(\"jax_enable_x64\", True)\n",
    "\n",
    "import os\n",
    "os.environ[\"CUDA_DEVICE_ORDER\"] = \"PCI_BUS_ID\" \n",
    "os.environ[\"CUDA_VISIBLE_DEVICES\"] = '0'\n",
    "from encoding_information.gpu_utils import limit_gpu_memory_growth\n",
    "limit_gpu_memory_growth()\n",
    "\n",
    "from cleanplots import *\n",
    "from tqdm import tqdm\n",
    "from signal_utils_1D import *\n"
   ]
  },
  {
   "attachments": {},
   "cell_type": "markdown",
   "metadata": {},
   "source": [
    "## Max mutual information vs sampling density for different samples"
   ]
  },
  {
   "cell_type": "code",
   "execution_count": 2,
   "metadata": {
    "execution": {
     "iopub.execute_input": "2023-11-24T07:39:43.561011Z",
     "iopub.status.busy": "2023-11-24T07:39:43.560196Z",
     "iopub.status.idle": "2023-11-24T17:36:22.850644Z",
     "shell.execute_reply": "2023-11-24T17:36:22.850121Z"
    }
   },
   "outputs": [
    {
     "name": "stdout",
     "output_type": "stream",
     "text": [
      "delta_uniform\n"
     ]
    },
    {
     "name": "stderr",
     "output_type": "stream",
     "text": [
      "  0%|                                                         | 0/12 [00:00<?, ?it/s]"
     ]
    },
    {
     "name": "stdout",
     "output_type": "stream",
     "text": [
      "initial loss -3.221197501546938\n",
      "initial loss -3.3117668972035865\n",
      "initial loss -3.2461343409238883\n",
      "initial loss -3.068705469721656\n",
      "initial loss -3.352488329163773\n",
      "initial loss -3.285756158182034\n",
      "initial loss -2.999373310691516\n",
      "initial loss -3.5387691914650192\n",
      "initial loss -3.3971322365133982\n",
      "initial loss -3.544871794360387\n",
      "4999: -4.2999775\r"
     ]
    },
    {
     "name": "stderr",
     "output_type": "stream",
     "text": [
      "  8%|███▊                                          | 1/12 [06:19<1:09:37, 379.81s/it]"
     ]
    },
    {
     "name": "stdout",
     "output_type": "stream",
     "text": [
      "initial loss -3.8711985382410257\n",
      "initial loss -3.6947233157481465\n",
      "initial loss -3.5845677141188936\n",
      "initial loss -3.890604675289657\n",
      "initial loss -3.670822105177952\n",
      "initial loss -3.94053630482979\n",
      "initial loss -3.2691861946396106\n",
      "initial loss -3.667472160303249\n",
      "initial loss -3.5898852969936197\n",
      "initial loss -3.8632546856752725\n",
      "4999: -6.3283437\r"
     ]
    },
    {
     "name": "stderr",
     "output_type": "stream",
     "text": [
      " 17%|███████▋                                      | 2/12 [13:31<1:08:26, 410.61s/it]"
     ]
    },
    {
     "name": "stdout",
     "output_type": "stream",
     "text": [
      "initial loss -3.3031748684321784\n",
      "initial loss -3.6716006841396283\n",
      "initial loss -3.5105933244254497\n",
      "initial loss -3.3268309493178534\n",
      "initial loss -3.583093733463407\n",
      "initial loss -3.8878978574845364\n",
      "initial loss -3.378834314514345\n",
      "initial loss -3.538792058409042\n",
      "initial loss -3.1277955399783823\n",
      "initial loss -3.3536093436871584\n",
      "4999: -6.1941533\r"
     ]
    },
    {
     "name": "stderr",
     "output_type": "stream",
     "text": [
      " 25%|███████████▌                                  | 3/12 [20:32<1:02:17, 415.25s/it]"
     ]
    },
    {
     "name": "stdout",
     "output_type": "stream",
     "text": [
      "initial loss -3.090882536950366\n",
      "initial loss -3.54136930902146\n",
      "initial loss -3.456521931593238\n",
      "initial loss -3.8397080478500683\n",
      "initial loss -3.5853498990672423\n",
      "initial loss -3.679349069335868\n",
      "initial loss -3.400263360111575\n",
      "initial loss -3.3659515189909333\n",
      "initial loss -3.4108614182618284\n",
      "initial loss -3.27683407128628\n",
      "4999: -5.1860530\r"
     ]
    },
    {
     "name": "stderr",
     "output_type": "stream",
     "text": [
      " 33%|████████████████                                | 4/12 [28:06<57:24, 430.58s/it]"
     ]
    },
    {
     "name": "stdout",
     "output_type": "stream",
     "text": [
      "initial loss -3.3470174157224966\n",
      "initial loss -3.042533083910946\n",
      "initial loss -3.447163034067173\n",
      "initial loss -3.232321498961126\n",
      "initial loss -2.6832518078170793\n",
      "initial loss -3.0486064500658596\n",
      "initial loss -2.81981616926351\n",
      "initial loss -2.9741859232913623\n",
      "initial loss -3.2188409744806665\n",
      "initial loss -2.9038747296728595\n",
      "4999: -5.4313327\r"
     ]
    },
    {
     "name": "stderr",
     "output_type": "stream",
     "text": [
      " 42%|████████████████████                            | 5/12 [35:08<49:50, 427.24s/it]"
     ]
    },
    {
     "name": "stdout",
     "output_type": "stream",
     "text": [
      "initial loss -2.9374022303349387\n",
      "initial loss -2.7308390639271836\n",
      "initial loss -2.6446655769986678\n",
      "initial loss -2.764492717498329\n",
      "initial loss -2.873065695278766\n",
      "initial loss -2.575396797078549\n",
      "initial loss -2.1358305813823306\n",
      "initial loss -2.8635642672067116\n",
      "initial loss -2.8116950055005905\n",
      "initial loss -2.565823057877699\n",
      "4999: -4.0163965\r"
     ]
    },
    {
     "name": "stderr",
     "output_type": "stream",
     "text": [
      " 50%|████████████████████████                        | 6/12 [42:19<42:51, 428.50s/it]"
     ]
    },
    {
     "name": "stdout",
     "output_type": "stream",
     "text": [
      "initial loss -2.149530233236106\n",
      "initial loss -2.455125596632053\n",
      "initial loss -2.2773968479393383\n",
      "initial loss -2.3273675073093787\n",
      "initial loss -2.2872442847771937\n",
      "initial loss -1.9655396518893327\n",
      "initial loss -2.218386011104693\n",
      "initial loss -2.154155593511888\n",
      "initial loss -2.304427128084498\n",
      "initial loss -2.4196298105624936\n",
      "4999: -3.8734575\r"
     ]
    },
    {
     "name": "stderr",
     "output_type": "stream",
     "text": [
      " 58%|████████████████████████████                    | 7/12 [49:45<36:11, 434.28s/it]"
     ]
    },
    {
     "name": "stdout",
     "output_type": "stream",
     "text": [
      "initial loss -2.1015424349755962\n",
      "initial loss -2.0090869892998158\n",
      "initial loss -2.1068873477678136\n",
      "initial loss -1.8309244506374163\n",
      "initial loss -2.0652610383501138\n",
      "initial loss -1.8759650766575424\n",
      "initial loss -1.7449358210136656\n",
      "initial loss -2.2037710699618627\n",
      "initial loss -2.1384572294567166\n",
      "initial loss -1.9763418852747239\n",
      "4999: -3.4167081\r"
     ]
    },
    {
     "name": "stderr",
     "output_type": "stream",
     "text": [
      " 67%|████████████████████████████████                | 8/12 [57:16<29:18, 439.64s/it]"
     ]
    },
    {
     "name": "stdout",
     "output_type": "stream",
     "text": [
      "initial loss -1.7079185172713112\n",
      "initial loss -1.7485763775751026\n",
      "initial loss -1.848242075694624\n",
      "initial loss -1.7525104480038343\n",
      "initial loss -1.783380858318992\n",
      "initial loss -1.7472201080771514\n",
      "initial loss -1.7858447347190918\n",
      "initial loss -1.9775932050625076\n",
      "initial loss -1.7640574683538948\n",
      "initial loss -1.6387869170167573\n",
      "4999: -2.8160834\r"
     ]
    },
    {
     "name": "stderr",
     "output_type": "stream",
     "text": [
      " 75%|██████████████████████████████████▌           | 9/12 [1:06:04<23:22, 467.36s/it]"
     ]
    },
    {
     "name": "stdout",
     "output_type": "stream",
     "text": [
      "initial loss -1.8076979404644784\n",
      "initial loss -1.6870881866698773\n",
      "initial loss -1.6536667802713851\n",
      "initial loss -1.5388059767643019\n",
      "initial loss -1.5186699476858572\n",
      "initial loss -1.6707973774110667\n",
      "initial loss -1.6461054362053364\n",
      "initial loss -1.7975398023142926\n",
      "initial loss -1.689919537424758\n",
      "initial loss -1.6406438149846445\n",
      "4999: -2.7285569\r"
     ]
    },
    {
     "name": "stderr",
     "output_type": "stream",
     "text": [
      " 83%|█████████████████████████████████████▌       | 10/12 [1:15:15<16:26, 493.10s/it]"
     ]
    },
    {
     "name": "stdout",
     "output_type": "stream",
     "text": [
      "initial loss -1.499719869359887\n",
      "initial loss -1.5745842107788999\n",
      "initial loss -1.4779402914074318\n",
      "initial loss -1.4423447838561414\n",
      "initial loss -1.4170097592484785\n",
      "initial loss -1.429308028235555\n",
      "initial loss -1.4786283637827509\n",
      "initial loss -1.5216253825953243\n",
      "initial loss -1.4543750595082552\n",
      "initial loss -1.4978842533771486\n",
      "4999: -2.4855873\r"
     ]
    },
    {
     "name": "stderr",
     "output_type": "stream",
     "text": [
      " 92%|█████████████████████████████████████████▎   | 11/12 [1:24:50<08:38, 518.30s/it]"
     ]
    },
    {
     "name": "stdout",
     "output_type": "stream",
     "text": [
      "initial loss -1.2348757166304214\n",
      "initial loss -1.453363938195055\n",
      "initial loss -1.5393231674476069\n",
      "initial loss -1.4258489182614422\n",
      "initial loss -1.260832020857489\n",
      "initial loss -1.3878529510252542\n",
      "initial loss -1.3711474042230773\n",
      "initial loss -1.4328499749049692\n",
      "initial loss -1.2825235513410933\n",
      "initial loss -1.3458036600758965\n",
      "4999: -2.2711215\r"
     ]
    },
    {
     "name": "stderr",
     "output_type": "stream",
     "text": [
      "100%|█████████████████████████████████████████████| 12/12 [1:34:43<00:00, 473.63s/it]\n"
     ]
    },
    {
     "name": "stdout",
     "output_type": "stream",
     "text": [
      "delta_nonuniform\n"
     ]
    },
    {
     "name": "stderr",
     "output_type": "stream",
     "text": [
      "  0%|                                                         | 0/12 [00:00<?, ?it/s]"
     ]
    },
    {
     "name": "stdout",
     "output_type": "stream",
     "text": [
      "initial loss -3.3459972576207093\n",
      "initial loss -3.374578457445468\n",
      "initial loss -3.2303496480266665\n",
      "initial loss -3.22957996600341\n",
      "initial loss -3.396820333056062\n",
      "initial loss -3.2929951673053353\n",
      "initial loss -3.216322803307057\n",
      "initial loss -3.3893750340267066\n",
      "initial loss -3.587241374295134\n",
      "initial loss -3.3628586425693485\n",
      "4999: -6.2861501\r"
     ]
    },
    {
     "name": "stderr",
     "output_type": "stream",
     "text": [
      "  8%|███▊                                          | 1/12 [06:45<1:14:16, 405.14s/it]"
     ]
    },
    {
     "name": "stdout",
     "output_type": "stream",
     "text": [
      "initial loss -3.4217553679972683\n",
      "initial loss -2.9237914360299317\n",
      "initial loss -3.6100704646112662\n",
      "initial loss -3.2188243956392073\n",
      "initial loss -3.6918410939055057\n",
      "initial loss -3.306720923519965\n",
      "initial loss -3.385857978055342\n",
      "initial loss -3.420323314651939\n",
      "initial loss -3.2201467796055683\n",
      "initial loss -3.4496038600895575\n",
      "4999: -5.1524216\r"
     ]
    },
    {
     "name": "stderr",
     "output_type": "stream",
     "text": [
      " 17%|███████▋                                      | 2/12 [13:56<1:10:06, 420.64s/it]"
     ]
    },
    {
     "name": "stdout",
     "output_type": "stream",
     "text": [
      "initial loss -3.1335247434871176\n",
      "initial loss -3.2827599843705477\n",
      "initial loss -3.5046482700362684\n",
      "initial loss -3.1175350349324615\n",
      "initial loss -2.844203778775046\n",
      "initial loss -3.356894195550988\n",
      "initial loss -3.045272101281837\n",
      "initial loss -2.9462112374677094\n",
      "initial loss -3.2218759609401695\n",
      "initial loss -3.3916993011202794\n",
      "4999: -4.8733670\r"
     ]
    },
    {
     "name": "stderr",
     "output_type": "stream",
     "text": [
      " 25%|███████████▌                                  | 3/12 [21:18<1:04:31, 430.15s/it]"
     ]
    },
    {
     "name": "stdout",
     "output_type": "stream",
     "text": [
      "initial loss -2.631420175198258\n",
      "initial loss -2.9017227444548372\n",
      "initial loss -2.908880804144523\n",
      "initial loss -2.752498886574689\n",
      "initial loss -2.6828424319145414\n",
      "initial loss -2.87577685438458\n",
      "initial loss -2.92268355892559\n",
      "initial loss -2.7907653440301727\n",
      "initial loss -2.830991250924755\n",
      "initial loss -2.8742118661677\n",
      "4999: -4.4845726\r"
     ]
    },
    {
     "name": "stderr",
     "output_type": "stream",
     "text": [
      " 33%|███████████████▎                              | 4/12 [29:18<1:00:00, 450.08s/it]"
     ]
    },
    {
     "name": "stdout",
     "output_type": "stream",
     "text": [
      "initial loss -2.295874759513389\n",
      "initial loss -2.5315223296357603\n",
      "initial loss -2.4376778157539123\n",
      "initial loss -2.5350692017648986\n",
      "initial loss -2.4848781762696355\n",
      "initial loss -2.5123785392960554\n",
      "initial loss -2.363319188879804\n",
      "initial loss -2.4744577156651517\n",
      "initial loss -2.3186979180209044\n",
      "initial loss -2.237823445796166\n",
      "4999: -4.1496985\r"
     ]
    },
    {
     "name": "stderr",
     "output_type": "stream",
     "text": [
      " 42%|████████████████████                            | 5/12 [36:31<51:45, 443.69s/it]"
     ]
    },
    {
     "name": "stdout",
     "output_type": "stream",
     "text": [
      "initial loss -1.958645886057926\n",
      "initial loss -2.2140900404574255\n",
      "initial loss -1.9830494791432103\n",
      "initial loss -2.04729754185451\n",
      "initial loss -2.2163043566083958\n",
      "initial loss -2.013545776895617\n",
      "initial loss -2.0925289004191976\n",
      "initial loss -2.2491968353069702\n",
      "initial loss -2.1184571319560286\n",
      "initial loss -2.0796922907695112\n",
      "4999: -3.5826743\r"
     ]
    },
    {
     "name": "stderr",
     "output_type": "stream",
     "text": [
      " 50%|████████████████████████                        | 6/12 [43:55<44:24, 444.01s/it]"
     ]
    },
    {
     "name": "stdout",
     "output_type": "stream",
     "text": [
      "initial loss -1.8747426546459802\n",
      "initial loss -1.673493474931148\n",
      "initial loss -1.69624863033829\n",
      "initial loss -1.6650337177458032\n",
      "initial loss -1.7094605141242725\n",
      "initial loss -1.8223671429233734\n",
      "initial loss -1.9563466778479908\n",
      "initial loss -1.7585972307785136\n",
      "initial loss -1.733275343261959\n",
      "initial loss -1.7852791723897057\n",
      "4999: -2.6741789\r"
     ]
    },
    {
     "name": "stderr",
     "output_type": "stream",
     "text": [
      " 58%|████████████████████████████                    | 7/12 [51:35<37:25, 449.03s/it]"
     ]
    },
    {
     "name": "stdout",
     "output_type": "stream",
     "text": [
      "initial loss -1.6399767773314133\n",
      "initial loss -1.379271688678621\n",
      "initial loss -1.5834093525090827\n",
      "initial loss -1.667754918987222\n",
      "initial loss -1.5969324063934691\n",
      "initial loss -1.4323986520688472\n",
      "initial loss -1.7364760728504673\n",
      "initial loss -1.6198032435288707\n",
      "initial loss -1.7111466636460302\n",
      "initial loss -1.36411791479601\n",
      "4999: -2.6575326\r"
     ]
    },
    {
     "name": "stderr",
     "output_type": "stream",
     "text": [
      " 67%|████████████████████████████████                | 8/12 [59:23<30:21, 455.32s/it]"
     ]
    },
    {
     "name": "stdout",
     "output_type": "stream",
     "text": [
      "initial loss -1.4504093360579835\n",
      "initial loss -1.3341775434687275\n",
      "initial loss -1.3123793378847717\n",
      "initial loss -1.429123088400103\n",
      "initial loss -1.4277194287760182\n",
      "initial loss -1.5068690048373494\n",
      "initial loss -1.4933849679009865\n",
      "initial loss -1.3377683756923209\n",
      "initial loss -1.349059803025848\n",
      "initial loss -1.4599568954084645\n",
      "4999: -2.3592255\r"
     ]
    },
    {
     "name": "stderr",
     "output_type": "stream",
     "text": [
      " 75%|██████████████████████████████████▌           | 9/12 [1:08:31<24:12, 484.07s/it]"
     ]
    },
    {
     "name": "stdout",
     "output_type": "stream",
     "text": [
      "initial loss -1.3999036488414744\n",
      "initial loss -1.3644839548704488\n",
      "initial loss -1.2093125810896062\n",
      "initial loss -1.2445277984751903\n",
      "initial loss -1.2809433988126724\n",
      "initial loss -1.2633283112241427\n",
      "initial loss -1.3574381136891993\n",
      "initial loss -1.3384838352476323\n",
      "initial loss -1.3194563113432078\n",
      "initial loss -1.3901698627739392\n",
      "4999: -2.1634893\r"
     ]
    },
    {
     "name": "stderr",
     "output_type": "stream",
     "text": [
      " 83%|█████████████████████████████████████▌       | 10/12 [1:17:53<16:56, 508.12s/it]"
     ]
    },
    {
     "name": "stdout",
     "output_type": "stream",
     "text": [
      "initial loss -1.1437469992091316\n",
      "initial loss -1.3332239103310253\n",
      "initial loss -1.1426091573367654\n",
      "initial loss -1.2016469689541858\n",
      "initial loss -1.2513526219526403\n",
      "initial loss -1.1651996624278638\n",
      "initial loss -1.1761203156917088\n",
      "initial loss -1.2734873286892203\n",
      "initial loss -1.134018487912756\n",
      "initial loss -1.150271002082214\n",
      "4999: -1.7829567\r"
     ]
    },
    {
     "name": "stderr",
     "output_type": "stream",
     "text": [
      " 92%|█████████████████████████████████████████▎   | 11/12 [1:27:35<08:50, 530.93s/it]"
     ]
    },
    {
     "name": "stdout",
     "output_type": "stream",
     "text": [
      "initial loss -1.047189279008921\n",
      "initial loss -1.1240491290038799\n",
      "initial loss -1.1501838830723425\n",
      "initial loss -1.084771883810496\n",
      "initial loss -1.0582404580838427\n",
      "initial loss -1.0628365927802164\n",
      "initial loss -1.1735182384699694\n",
      "initial loss -1.2279145277832901\n",
      "initial loss -1.0319080252141655\n",
      "initial loss -1.07629174796319\n",
      "4999: -1.8199696\r"
     ]
    },
    {
     "name": "stderr",
     "output_type": "stream",
     "text": [
      "100%|█████████████████████████████████████████████| 12/12 [1:37:35<00:00, 487.93s/it]\n"
     ]
    },
    {
     "name": "stdout",
     "output_type": "stream",
     "text": [
      "white_noise\n"
     ]
    },
    {
     "name": "stderr",
     "output_type": "stream",
     "text": [
      "  0%|                                                         | 0/12 [00:00<?, ?it/s]"
     ]
    },
    {
     "name": "stdout",
     "output_type": "stream",
     "text": [
      "initial loss -0.2478999859179574\n",
      "initial loss -0.3039396240320531\n",
      "initial loss -0.22261865308689943\n",
      "initial loss -0.3151766911077777\n",
      "initial loss -0.23718453798631917\n",
      "initial loss -0.2688680542359514\n",
      "initial loss -0.40497394349154264\n",
      "initial loss -0.2503651049297433\n",
      "initial loss -0.3097070673554819\n",
      "initial loss -0.33054652708183513\n",
      "4999: -1.4432229\r"
     ]
    },
    {
     "name": "stderr",
     "output_type": "stream",
     "text": [
      "  8%|███▊                                          | 1/12 [06:49<1:14:59, 409.08s/it]"
     ]
    },
    {
     "name": "stdout",
     "output_type": "stream",
     "text": [
      "initial loss -0.2995379067535814\n",
      "initial loss -0.27411849356006357\n",
      "initial loss -0.43968247580789166\n",
      "initial loss -0.2991253405988507\n",
      "initial loss -0.19992602320518077\n",
      "initial loss -0.2235110552572116\n",
      "initial loss -0.2840056773543763\n",
      "initial loss -0.25933097454375126\n",
      "initial loss -0.2811091053169185\n",
      "initial loss -0.29306790633354773\n",
      "4999: -2.1313823\r"
     ]
    },
    {
     "name": "stderr",
     "output_type": "stream",
     "text": [
      " 17%|███████▋                                      | 2/12 [14:21<1:12:28, 434.86s/it]"
     ]
    },
    {
     "name": "stdout",
     "output_type": "stream",
     "text": [
      "initial loss -0.3903572734825328\n",
      "initial loss -0.32970122112693123\n",
      "initial loss -0.29227450597726595\n",
      "initial loss -0.31692272065429117\n",
      "initial loss -0.27453601719339366\n",
      "initial loss -0.25552125842596707\n",
      "initial loss -0.30814398694432893\n",
      "initial loss -0.32007061674031534\n",
      "initial loss -0.31339872769052685\n",
      "initial loss -0.40329064553272875\n",
      "4999: -2.1279025\r"
     ]
    },
    {
     "name": "stderr",
     "output_type": "stream",
     "text": [
      " 25%|███████████▌                                  | 3/12 [21:48<1:06:00, 440.04s/it]"
     ]
    },
    {
     "name": "stdout",
     "output_type": "stream",
     "text": [
      "initial loss -0.3288722585539959\n",
      "initial loss -0.25829616021364044\n",
      "initial loss -0.32964575602423\n",
      "initial loss -0.2805273605040068\n",
      "initial loss -0.23913447036276683\n",
      "initial loss -0.3373898806644445\n",
      "initial loss -0.1988785537481625\n",
      "initial loss -0.24389968543669163\n",
      "initial loss -0.35883854294918704\n",
      "initial loss -0.3543072660972879\n",
      "4999: -1.9920710\r"
     ]
    },
    {
     "name": "stderr",
     "output_type": "stream",
     "text": [
      " 33%|███████████████▎                              | 4/12 [29:50<1:00:53, 456.68s/it]"
     ]
    },
    {
     "name": "stdout",
     "output_type": "stream",
     "text": [
      "initial loss -0.2647493358480626\n",
      "initial loss -0.31981817085032876\n",
      "initial loss -0.30988799849230353\n",
      "initial loss -0.3364559016266047\n",
      "initial loss -0.34965750938151313\n",
      "initial loss -0.25743622495970697\n",
      "initial loss -0.2292018558974147\n",
      "initial loss -0.34805866928893675\n",
      "initial loss -0.29053384711148467\n",
      "initial loss -0.3570296668438973\n",
      "4999: -1.6897574\r"
     ]
    },
    {
     "name": "stderr",
     "output_type": "stream",
     "text": [
      " 42%|████████████████████                            | 5/12 [37:10<52:36, 450.86s/it]"
     ]
    },
    {
     "name": "stdout",
     "output_type": "stream",
     "text": [
      "initial loss -0.16011666701124874\n",
      "initial loss -0.31144741984215035\n",
      "initial loss -0.329123567630828\n",
      "initial loss -0.25841395395786804\n",
      "initial loss -0.26037822424636115\n",
      "initial loss -0.2949985890616215\n",
      "initial loss -0.24781001027134772\n",
      "initial loss -0.18912888501155908\n",
      "initial loss -0.3401166423338183\n",
      "initial loss -0.30436640341753896\n",
      "4999: -1.4894015\r"
     ]
    },
    {
     "name": "stderr",
     "output_type": "stream",
     "text": [
      " 50%|████████████████████████                        | 6/12 [44:43<45:08, 451.39s/it]"
     ]
    },
    {
     "name": "stdout",
     "output_type": "stream",
     "text": [
      "initial loss -0.19105749783940515\n",
      "initial loss -0.2231748227331724\n",
      "initial loss -0.3146925691990425\n",
      "initial loss -0.1892242411144226\n",
      "initial loss -0.2845869975411537\n",
      "initial loss -0.22453838676072096\n",
      "initial loss -0.2174689628176584\n",
      "initial loss -0.16752311049742266\n",
      "initial loss -0.22144887839324076\n",
      "initial loss -0.29571800936529236\n",
      "4999: -1.3182751\r"
     ]
    },
    {
     "name": "stderr",
     "output_type": "stream",
     "text": [
      " 58%|████████████████████████████                    | 7/12 [52:29<38:01, 456.21s/it]"
     ]
    },
    {
     "name": "stdout",
     "output_type": "stream",
     "text": [
      "initial loss -0.21082516662044115\n",
      "initial loss -0.19327100641672534\n",
      "initial loss -0.17693913387842264\n",
      "initial loss -0.11439119272698406\n",
      "initial loss -0.25824431775010415\n",
      "initial loss -0.2637889647533452\n",
      "initial loss -0.22412530301647668\n",
      "initial loss -0.2428002685261226\n",
      "initial loss -0.24325442974591513\n",
      "initial loss -0.24083883082476074\n",
      "4999: -0.8285736\r"
     ]
    },
    {
     "name": "stderr",
     "output_type": "stream",
     "text": [
      " 67%|██████████████████████████████▋               | 8/12 [1:00:26<30:50, 462.74s/it]"
     ]
    },
    {
     "name": "stdout",
     "output_type": "stream",
     "text": [
      "initial loss -0.18347320570953007\n",
      "initial loss -0.2299458588934873\n",
      "initial loss -0.24293022196224828\n",
      "initial loss -0.17762288479033136\n",
      "initial loss -0.22778411075137917\n",
      "initial loss -0.20392286894248293\n",
      "initial loss -0.1860888717008918\n",
      "initial loss -0.21800435348370797\n",
      "initial loss -0.14800842717577095\n",
      "initial loss -0.18836516457717298\n",
      "4999: -1.0550546\r"
     ]
    },
    {
     "name": "stderr",
     "output_type": "stream",
     "text": [
      " 75%|██████████████████████████████████▌           | 9/12 [1:09:37<24:31, 490.58s/it]"
     ]
    },
    {
     "name": "stdout",
     "output_type": "stream",
     "text": [
      "initial loss -0.14022890485614312\n",
      "initial loss -0.20658362934074986\n",
      "initial loss -0.16221914307207705\n",
      "initial loss -0.17794351881625864\n",
      "initial loss -0.16354525126630562\n",
      "initial loss -0.27346974022808523\n",
      "initial loss -0.2537039111843505\n",
      "initial loss -0.2077057567239364\n",
      "initial loss -0.1908602098453667\n",
      "initial loss -0.34008004233075345\n",
      "4999: -0.7389112\r"
     ]
    },
    {
     "name": "stderr",
     "output_type": "stream",
     "text": [
      " 83%|█████████████████████████████████████▌       | 10/12 [1:19:07<17:09, 514.84s/it]"
     ]
    },
    {
     "name": "stdout",
     "output_type": "stream",
     "text": [
      "initial loss -0.17151881857156745\n",
      "initial loss -0.1859096001574508\n",
      "initial loss -0.13821568247548122\n",
      "initial loss -0.17464284200676206\n",
      "initial loss -0.15934887263983627\n",
      "initial loss -0.22391887673406005\n",
      "initial loss -0.1958154256411879\n",
      "initial loss -0.20689566101700477\n",
      "initial loss -0.20195222427220974\n",
      "initial loss -0.18122010925983642\n",
      "4999: -0.6579718\r"
     ]
    },
    {
     "name": "stderr",
     "output_type": "stream",
     "text": [
      " 92%|█████████████████████████████████████████▎   | 11/12 [1:28:58<08:58, 538.35s/it]"
     ]
    },
    {
     "name": "stdout",
     "output_type": "stream",
     "text": [
      "initial loss -0.22827721451110333\n",
      "initial loss -0.21948657374713892\n",
      "initial loss -0.2222114475915356\n",
      "initial loss -0.1432240784309384\n",
      "initial loss -0.1452278059901027\n",
      "initial loss -0.16610853355293298\n",
      "initial loss -0.2103227606720203\n",
      "initial loss -0.16796812707572828\n",
      "initial loss -0.14067159337384272\n",
      "initial loss -0.13538442616701168\n",
      "4999: -0.8573361\r"
     ]
    },
    {
     "name": "stderr",
     "output_type": "stream",
     "text": [
      "100%|█████████████████████████████████████████████| 12/12 [1:39:04<00:00, 495.39s/it]\n"
     ]
    },
    {
     "name": "stdout",
     "output_type": "stream",
     "text": [
      "pink_noise\n"
     ]
    },
    {
     "name": "stderr",
     "output_type": "stream",
     "text": [
      "  0%|                                                         | 0/12 [00:00<?, ?it/s]"
     ]
    },
    {
     "name": "stdout",
     "output_type": "stream",
     "text": [
      "initial loss -0.22551820533413355\n",
      "initial loss -0.3010494240884448\n",
      "initial loss -0.2990877951094519\n",
      "initial loss -0.31575334429910057\n",
      "initial loss -0.3280742665286534\n",
      "initial loss -0.39486839874865926\n",
      "initial loss -0.3191956119304645\n",
      "initial loss -0.35322463782349645\n",
      "initial loss -0.48835211063300704\n",
      "initial loss -0.3158368727577372\n",
      "4999: -1.3806232\r"
     ]
    },
    {
     "name": "stderr",
     "output_type": "stream",
     "text": [
      "  8%|███▊                                          | 1/12 [07:36<1:23:42, 456.62s/it]"
     ]
    },
    {
     "name": "stdout",
     "output_type": "stream",
     "text": [
      "initial loss -0.3731751899783087\n",
      "initial loss -0.4192223494410452\n",
      "initial loss -0.40144094750169224\n",
      "initial loss -0.29139921436979305\n",
      "initial loss -0.4842175031546617\n",
      "initial loss -0.6422536086393688\n",
      "initial loss -0.508255068239054\n",
      "initial loss -0.521272219148331\n",
      "initial loss -0.49337974696166376\n",
      "initial loss -0.5369643412077728\n",
      "4999: -2.6170263\r"
     ]
    },
    {
     "name": "stderr",
     "output_type": "stream",
     "text": [
      " 17%|███████▋                                      | 2/12 [15:54<1:20:10, 481.08s/it]"
     ]
    },
    {
     "name": "stdout",
     "output_type": "stream",
     "text": [
      "initial loss -0.35300599462634263\n",
      "initial loss -0.22613765246802123\n",
      "initial loss -0.5053862632831447\n",
      "initial loss -0.39836222298791607\n",
      "initial loss -0.2188614859480777\n",
      "initial loss -0.31765871180000893\n",
      "initial loss -0.295923255968337\n",
      "initial loss -0.2028856369485259\n",
      "initial loss -0.4481321344946105\n",
      "initial loss -0.40902080855878253\n",
      "4999: -2.4663009\r"
     ]
    },
    {
     "name": "stderr",
     "output_type": "stream",
     "text": [
      " 25%|███████████▌                                  | 3/12 [24:10<1:13:08, 487.64s/it]"
     ]
    },
    {
     "name": "stdout",
     "output_type": "stream",
     "text": [
      "initial loss -0.352030081704748\n",
      "initial loss -0.3163976670699584\n",
      "initial loss -0.24091148045408972\n",
      "initial loss -0.3122669960438532\n",
      "initial loss -0.3843323693602047\n",
      "initial loss -0.4076942406369463\n",
      "initial loss -0.3193469000977978\n",
      "initial loss -0.3206147341521028\n",
      "initial loss -0.5534800397072507\n",
      "initial loss -0.4127503941877747\n",
      "4999: -2.1773305\r"
     ]
    },
    {
     "name": "stderr",
     "output_type": "stream",
     "text": [
      " 33%|███████████████▎                              | 4/12 [32:58<1:07:10, 503.79s/it]"
     ]
    },
    {
     "name": "stdout",
     "output_type": "stream",
     "text": [
      "initial loss -0.3083213628970593\n",
      "initial loss -0.4264415833976416\n",
      "initial loss -0.3516773804731605\n",
      "initial loss -0.4475422581706717\n",
      "initial loss -0.32324883261060533\n",
      "initial loss -0.296711070599886\n",
      "initial loss -0.3367259335422037\n",
      "initial loss -0.3822712358587554\n",
      "initial loss -0.48114183630315976\n",
      "initial loss -0.3682532057904057\n",
      "4999: -1.7654931\r"
     ]
    },
    {
     "name": "stderr",
     "output_type": "stream",
     "text": [
      " 42%|████████████████████                            | 5/12 [41:05<58:04, 497.76s/it]"
     ]
    },
    {
     "name": "stdout",
     "output_type": "stream",
     "text": [
      "initial loss -0.3019453401971991\n",
      "initial loss -0.2041631525801318\n",
      "initial loss -0.2576555417443255\n",
      "initial loss -0.3200559999152826\n",
      "initial loss -0.2936646560501075\n",
      "initial loss -0.3034104096694847\n",
      "initial loss -0.29253842409042163\n",
      "initial loss -0.23100861190961886\n",
      "initial loss -0.25654137034544433\n",
      "initial loss -0.3122405727514637\n",
      "4999: -1.5728731\r"
     ]
    },
    {
     "name": "stderr",
     "output_type": "stream",
     "text": [
      " 50%|████████████████████████                        | 6/12 [49:24<49:48, 498.10s/it]"
     ]
    },
    {
     "name": "stdout",
     "output_type": "stream",
     "text": [
      "initial loss -0.21443925211322754\n",
      "initial loss -0.3221631914245124\n",
      "initial loss -0.25281224345651504\n",
      "initial loss -0.24176289127785433\n",
      "initial loss -0.2718615997269316\n",
      "initial loss -0.29908873463107655\n",
      "initial loss -0.24942203626214624\n",
      "initial loss -0.2276393457775485\n",
      "initial loss -0.21452718269067944\n",
      "initial loss -0.28319201944121764\n",
      "4999: -1.3799277\r"
     ]
    },
    {
     "name": "stderr",
     "output_type": "stream",
     "text": [
      " 58%|████████████████████████████                    | 7/12 [57:56<41:53, 502.66s/it]"
     ]
    },
    {
     "name": "stdout",
     "output_type": "stream",
     "text": [
      "initial loss -0.2343736052816213\n",
      "initial loss -0.26405992305835585\n",
      "initial loss -0.2010889407357811\n",
      "initial loss -0.2601571073537056\n",
      "initial loss -0.3307459622575608\n",
      "initial loss -0.25909418704948584\n",
      "initial loss -0.22079244961143388\n",
      "initial loss -0.2254309814449011\n",
      "initial loss -0.19873626977054262\n",
      "initial loss -0.26928798509501606\n",
      "4999: -1.2219736\r"
     ]
    },
    {
     "name": "stderr",
     "output_type": "stream",
     "text": [
      " 67%|██████████████████████████████▋               | 8/12 [1:06:41<33:59, 509.83s/it]"
     ]
    },
    {
     "name": "stdout",
     "output_type": "stream",
     "text": [
      "initial loss -0.25810516714535436\n",
      "initial loss -0.2845362625845517\n",
      "initial loss -0.34699268821730395\n",
      "initial loss -0.22938246361937042\n",
      "initial loss -0.2897438808346376\n",
      "initial loss -0.32367163748297045\n",
      "initial loss -0.17785504381098263\n",
      "initial loss -0.2730000319815661\n",
      "initial loss -0.21161653998067098\n",
      "initial loss -0.2840472672456633\n",
      "4999: -1.0909527\r"
     ]
    },
    {
     "name": "stderr",
     "output_type": "stream",
     "text": [
      " 75%|██████████████████████████████████▌           | 9/12 [1:16:31<26:44, 534.93s/it]"
     ]
    },
    {
     "name": "stdout",
     "output_type": "stream",
     "text": [
      "initial loss -0.24380264834596377\n",
      "initial loss -0.22195858827432619\n",
      "initial loss -0.300184110319045\n",
      "initial loss -0.20651519585502187\n",
      "initial loss -0.21108298406732992\n",
      "initial loss -0.30190357382090516\n",
      "initial loss -0.16556720395147814\n",
      "initial loss -0.2276903467259919\n",
      "initial loss -0.20001978250715569\n",
      "initial loss -0.2277552152036501\n",
      "4999: -1.0089729\r"
     ]
    },
    {
     "name": "stderr",
     "output_type": "stream",
     "text": [
      " 83%|█████████████████████████████████████▌       | 10/12 [1:26:45<18:38, 559.07s/it]"
     ]
    },
    {
     "name": "stdout",
     "output_type": "stream",
     "text": [
      "initial loss -0.23097183410413866\n",
      "initial loss -0.1991249140462284\n",
      "initial loss -0.16458679819428443\n",
      "initial loss -0.15671778780196774\n",
      "initial loss -0.18780467604180925\n",
      "initial loss -0.13467833510919974\n",
      "initial loss -0.18403182300434923\n",
      "initial loss -0.21079812500790912\n",
      "initial loss -0.17395290756914175\n",
      "initial loss -0.2759562099704531\n",
      "4999: -0.9200123\r"
     ]
    },
    {
     "name": "stderr",
     "output_type": "stream",
     "text": [
      " 92%|█████████████████████████████████████████▎   | 11/12 [1:37:21<09:42, 582.70s/it]"
     ]
    },
    {
     "name": "stdout",
     "output_type": "stream",
     "text": [
      "initial loss -0.2597316754394357\n",
      "initial loss -0.19528719898804492\n",
      "initial loss -0.1716396820548161\n",
      "initial loss -0.22761884346660324\n",
      "initial loss -0.20877027062760492\n",
      "initial loss -0.1915689103136824\n",
      "initial loss -0.2394384510135075\n",
      "initial loss -0.22381745865206204\n",
      "initial loss -0.19357609574018747\n",
      "initial loss -0.22656475919986022\n",
      "4999: -0.8436823\r"
     ]
    },
    {
     "name": "stderr",
     "output_type": "stream",
     "text": [
      "100%|█████████████████████████████████████████████| 12/12 [1:48:14<00:00, 541.24s/it]\n"
     ]
    },
    {
     "name": "stdout",
     "output_type": "stream",
     "text": [
      "8_deltas_uniform\n"
     ]
    },
    {
     "name": "stderr",
     "output_type": "stream",
     "text": [
      "  0%|                                                         | 0/12 [00:00<?, ?it/s]"
     ]
    },
    {
     "name": "stdout",
     "output_type": "stream",
     "text": [
      "initial loss -1.897151650744614\n",
      "initial loss -1.6464736874495838\n",
      "initial loss -1.9257802256978218\n",
      "initial loss -1.703916893676383\n",
      "initial loss -2.067834286142917\n",
      "initial loss -2.054480940091725\n",
      "initial loss -1.4540428947739112\n",
      "initial loss -2.1423718770427667\n",
      "initial loss -2.149938657683383\n",
      "initial loss -2.0139332275552007\n",
      "4999: -2.7094359\r"
     ]
    },
    {
     "name": "stderr",
     "output_type": "stream",
     "text": [
      "  8%|███▊                                          | 1/12 [06:36<1:12:42, 396.58s/it]"
     ]
    },
    {
     "name": "stdout",
     "output_type": "stream",
     "text": [
      "initial loss -2.2258267053561323\n",
      "initial loss -2.494948536869746\n",
      "initial loss -2.105586290275333\n",
      "initial loss -2.150573586460144\n",
      "initial loss -2.0596100095663163\n",
      "initial loss -2.3127261522046614\n",
      "initial loss -2.5172152497560614\n",
      "initial loss -2.3210122279839775\n",
      "initial loss -1.9320941317965907\n",
      "initial loss -2.4138549904816964\n",
      "4999: -4.8304876\r"
     ]
    },
    {
     "name": "stderr",
     "output_type": "stream",
     "text": [
      " 17%|███████▋                                      | 2/12 [13:56<1:10:23, 422.32s/it]"
     ]
    },
    {
     "name": "stdout",
     "output_type": "stream",
     "text": [
      "initial loss -1.8464508227799856\n",
      "initial loss -2.245165510559406\n",
      "initial loss -2.305802507150177\n",
      "initial loss -1.8823942448617441\n",
      "initial loss -2.0803104462279274\n",
      "initial loss -2.224104638002979\n",
      "initial loss -1.901671022036242\n",
      "initial loss -2.417662113228861\n",
      "initial loss -2.2246136189934487\n",
      "initial loss -1.8771609991925173\n",
      "4999: -4.7137144\r"
     ]
    },
    {
     "name": "stderr",
     "output_type": "stream",
     "text": [
      " 25%|███████████▌                                  | 3/12 [21:12<1:04:15, 428.44s/it]"
     ]
    },
    {
     "name": "stdout",
     "output_type": "stream",
     "text": [
      "initial loss -1.5543846593279278\n",
      "initial loss -1.6926202661945893\n",
      "initial loss -2.0464204270733184\n",
      "initial loss -1.7613055937079347\n",
      "initial loss -1.9273358058117114\n",
      "initial loss -1.9916161649395663\n",
      "initial loss -1.9523438113521097\n",
      "initial loss -2.103103371637417\n",
      "initial loss -1.9086370825670524\n",
      "initial loss -2.00293975958381\n",
      "4999: -4.5994590\r"
     ]
    },
    {
     "name": "stderr",
     "output_type": "stream",
     "text": [
      " 33%|████████████████                                | 4/12 [29:01<59:15, 444.46s/it]"
     ]
    },
    {
     "name": "stdout",
     "output_type": "stream",
     "text": [
      "initial loss -1.8780146184018665\n",
      "initial loss -1.949486492077411\n",
      "initial loss -2.0030465502173183\n",
      "initial loss -2.014780614516004\n",
      "initial loss -2.0106925423622095\n",
      "initial loss -1.8285399511818856\n",
      "initial loss -1.8956302313690934\n",
      "initial loss -1.731760790722612\n",
      "initial loss -1.582113579687136\n",
      "initial loss -1.9073196530321073\n",
      "4999: -4.1271987\r"
     ]
    },
    {
     "name": "stderr",
     "output_type": "stream",
     "text": [
      " 42%|████████████████████                            | 5/12 [36:11<51:15, 439.35s/it]"
     ]
    },
    {
     "name": "stdout",
     "output_type": "stream",
     "text": [
      "initial loss -1.770971188484165\n",
      "initial loss -1.5278451543906335\n",
      "initial loss -1.80131805400256\n",
      "initial loss -1.6404264681984178\n",
      "initial loss -1.4118042842642209\n",
      "initial loss -1.68905843454923\n",
      "initial loss -1.62039959557723\n",
      "initial loss -1.387933914459746\n",
      "initial loss -1.395822215892332\n",
      "initial loss -1.5212202949216405\n",
      "4999: -2.8371004\r"
     ]
    },
    {
     "name": "stderr",
     "output_type": "stream",
     "text": [
      " 50%|████████████████████████                        | 6/12 [43:40<44:15, 442.62s/it]"
     ]
    },
    {
     "name": "stdout",
     "output_type": "stream",
     "text": [
      "initial loss -1.471134813358128\n",
      "initial loss -1.66514928543763\n",
      "initial loss -1.325393568066363\n",
      "initial loss -1.4336411308759613\n",
      "initial loss -1.3652625789297113\n",
      "initial loss -1.3578080821808525\n",
      "initial loss -1.2599839661733825\n",
      "initial loss -1.4241603934149605\n",
      "initial loss -1.4390982925628881\n",
      "initial loss -1.2301395286671926\n",
      "4999: -2.4897909\r"
     ]
    },
    {
     "name": "stderr",
     "output_type": "stream",
     "text": [
      " 58%|████████████████████████████                    | 7/12 [51:18<37:17, 447.46s/it]"
     ]
    },
    {
     "name": "stdout",
     "output_type": "stream",
     "text": [
      "initial loss -1.0706347055042889\n",
      "initial loss -1.5648234928406217\n",
      "initial loss -1.115916532395829\n",
      "initial loss -1.312837795325713\n",
      "initial loss -1.4857525909645617\n",
      "initial loss -1.216305345410891\n",
      "initial loss -1.4671308235109706\n",
      "initial loss -1.288253446209793\n",
      "initial loss -1.2045296827134917\n",
      "initial loss -1.3931141291542748\n",
      "4999: -2.6344825\r"
     ]
    },
    {
     "name": "stderr",
     "output_type": "stream",
     "text": [
      " 67%|████████████████████████████████                | 8/12 [59:05<30:14, 453.58s/it]"
     ]
    },
    {
     "name": "stdout",
     "output_type": "stream",
     "text": [
      "initial loss -1.0181904140474367\n",
      "initial loss -1.195895967235121\n",
      "initial loss -1.3104141784242047\n",
      "initial loss -1.1369156521032409\n",
      "initial loss -1.2720343580992375\n",
      "initial loss -1.238677067106416\n",
      "initial loss -1.2564362007977559\n",
      "initial loss -1.1064794062804073\n",
      "initial loss -1.312301436746058\n",
      "initial loss -1.2086479245060748\n",
      "4999: -2.3092815\r"
     ]
    },
    {
     "name": "stderr",
     "output_type": "stream",
     "text": [
      " 75%|██████████████████████████████████▌           | 9/12 [1:08:11<24:07, 482.61s/it]"
     ]
    },
    {
     "name": "stdout",
     "output_type": "stream",
     "text": [
      "initial loss -1.0795236093465996\n",
      "initial loss -1.2062525023622739\n",
      "initial loss -1.2245974340441614\n",
      "initial loss -1.119729451956928\n",
      "initial loss -0.9421633653627886\n",
      "initial loss -1.0856390349126137\n",
      "initial loss -0.9224155778350065\n",
      "initial loss -1.0136089665334467\n",
      "initial loss -0.900488388697361\n",
      "initial loss -1.2196887967821235\n",
      "4999: -2.1139790\r"
     ]
    },
    {
     "name": "stderr",
     "output_type": "stream",
     "text": [
      " 83%|█████████████████████████████████████▌       | 10/12 [1:17:22<16:47, 503.76s/it]"
     ]
    },
    {
     "name": "stdout",
     "output_type": "stream",
     "text": [
      "initial loss -0.8985340872761445\n",
      "initial loss -1.0106992206718088\n",
      "initial loss -1.0967465767352627\n",
      "initial loss -1.0976031803385957\n",
      "initial loss -1.07235082888982\n",
      "initial loss -1.0278776261501943\n",
      "initial loss -1.0335086730905092\n",
      "initial loss -1.035589393164764\n",
      "initial loss -1.07950424584327\n",
      "initial loss -0.9776986530536207\n",
      "4999: -1.6513779\r"
     ]
    },
    {
     "name": "stderr",
     "output_type": "stream",
     "text": [
      " 92%|█████████████████████████████████████████▎   | 11/12 [1:27:06<08:48, 528.21s/it]"
     ]
    },
    {
     "name": "stdout",
     "output_type": "stream",
     "text": [
      "initial loss -0.951605793649931\n",
      "initial loss -0.7859978696009708\n",
      "initial loss -0.952660706735102\n",
      "initial loss -0.966261773605782\n",
      "initial loss -0.9399473024906932\n",
      "initial loss -0.8518496773862881\n",
      "initial loss -0.9144702629605194\n",
      "initial loss -0.902918928302233\n",
      "initial loss -0.9047624661025667\n",
      "initial loss -1.0808805326246884\n",
      "4999: -1.5251407\r"
     ]
    },
    {
     "name": "stderr",
     "output_type": "stream",
     "text": [
      "100%|█████████████████████████████████████████████| 12/12 [1:37:03<00:00, 485.31s/it]\n"
     ]
    },
    {
     "name": "stdout",
     "output_type": "stream",
     "text": [
      "8_deltas_nonuniform\n"
     ]
    },
    {
     "name": "stderr",
     "output_type": "stream",
     "text": [
      "  0%|                                                         | 0/12 [00:00<?, ?it/s]"
     ]
    },
    {
     "name": "stdout",
     "output_type": "stream",
     "text": [
      "initial loss -1.4685044081076348\n",
      "initial loss -2.05797108310703\n",
      "initial loss -1.7917083484209897\n",
      "initial loss -2.449727561930759\n",
      "initial loss -1.7397839199133638\n",
      "initial loss -2.0407666737328922\n",
      "initial loss -2.191893954433809\n",
      "initial loss -2.0285682179670124\n",
      "initial loss -1.972187552812895\n",
      "initial loss -2.006585927394545\n",
      "4999: -4.7183879\r"
     ]
    },
    {
     "name": "stderr",
     "output_type": "stream",
     "text": [
      "  8%|███▊                                          | 1/12 [06:57<1:16:32, 417.49s/it]"
     ]
    },
    {
     "name": "stdout",
     "output_type": "stream",
     "text": [
      "initial loss -1.9290301707541961\n",
      "initial loss -2.1141765571718176\n",
      "initial loss -1.9281564200455716\n",
      "initial loss -2.108229690656244\n",
      "initial loss -2.140016556058933\n",
      "initial loss -1.6669361022992988\n",
      "initial loss -2.1889565569489515\n",
      "initial loss -2.119223545947573\n",
      "initial loss -2.3375638195048176\n",
      "initial loss -2.3556534621693426\n",
      "4999: -3.7710062\r"
     ]
    },
    {
     "name": "stderr",
     "output_type": "stream",
     "text": [
      " 17%|███████▋                                      | 2/12 [14:30<1:13:06, 438.62s/it]"
     ]
    },
    {
     "name": "stdout",
     "output_type": "stream",
     "text": [
      "initial loss -1.6650829971064742\n",
      "initial loss -1.889564236968988\n",
      "initial loss -1.4922286581158029\n",
      "initial loss -1.876146545249662\n",
      "initial loss -1.7608785418399568\n",
      "initial loss -2.005853566551506\n",
      "initial loss -1.7296051680414817\n",
      "initial loss -2.127617318679334\n",
      "initial loss -1.8373474518360018\n",
      "initial loss -1.7546202751933957\n",
      "4999: -3.3467028\r"
     ]
    },
    {
     "name": "stderr",
     "output_type": "stream",
     "text": [
      " 25%|███████████▌                                  | 3/12 [22:02<1:06:41, 444.61s/it]"
     ]
    },
    {
     "name": "stdout",
     "output_type": "stream",
     "text": [
      "initial loss -1.522102218287803\n",
      "initial loss -1.5380806144508106\n",
      "initial loss -1.8753880882672171\n",
      "initial loss -1.7499948214731507\n",
      "initial loss -1.6807331580995852\n",
      "initial loss -1.3741345567744796\n",
      "initial loss -1.600805303344634\n",
      "initial loss -1.830530331059977\n",
      "initial loss -1.6259438826951644\n",
      "initial loss -1.3895858259573508\n",
      "4999: -3.0295759\r"
     ]
    },
    {
     "name": "stderr",
     "output_type": "stream",
     "text": [
      " 33%|███████████████▎                              | 4/12 [30:16<1:01:53, 464.24s/it]"
     ]
    },
    {
     "name": "stdout",
     "output_type": "stream",
     "text": [
      "initial loss -1.5202150166875168\n",
      "initial loss -1.3518536260832015\n",
      "initial loss -1.325710604631087\n",
      "initial loss -1.5348564542609644\n",
      "initial loss -1.499096831955558\n",
      "initial loss -1.499938281564914\n",
      "initial loss -1.6980920311135443\n",
      "initial loss -1.7598131861625839\n",
      "initial loss -1.4037938488084851\n",
      "initial loss -1.427588265638767\n",
      "4999: -3.1602879\r"
     ]
    },
    {
     "name": "stderr",
     "output_type": "stream",
     "text": [
      " 42%|████████████████████                            | 5/12 [37:42<53:21, 457.37s/it]"
     ]
    },
    {
     "name": "stdout",
     "output_type": "stream",
     "text": [
      "initial loss -1.1541939753854247\n",
      "initial loss -1.2558808840214433\n",
      "initial loss -1.271294522712478\n",
      "initial loss -1.1685878552029798\n",
      "initial loss -1.2013654141176695\n",
      "initial loss -1.2536775992673543\n",
      "initial loss -1.2056439598086628\n",
      "initial loss -1.188730620414663\n",
      "initial loss -1.4418867583605435\n",
      "initial loss -1.2133879410891157\n",
      "4999: -2.6692729\r"
     ]
    },
    {
     "name": "stderr",
     "output_type": "stream",
     "text": [
      " 50%|████████████████████████                        | 6/12 [45:12<45:29, 454.88s/it]"
     ]
    },
    {
     "name": "stdout",
     "output_type": "stream",
     "text": [
      "initial loss -0.9671995930417953\n",
      "initial loss -1.0448409036414081\n",
      "initial loss -0.8785786815599435\n",
      "initial loss -1.0925624928520818\n",
      "initial loss -1.2386491627886813\n",
      "initial loss -1.171733806087576\n",
      "initial loss -1.1129289447150827\n",
      "initial loss -1.1195261821946054\n",
      "initial loss -1.2665407438370335\n",
      "initial loss -0.9285432590319348\n",
      "4999: -2.2393554\r"
     ]
    },
    {
     "name": "stderr",
     "output_type": "stream",
     "text": [
      " 58%|████████████████████████████                    | 7/12 [53:05<38:24, 460.92s/it]"
     ]
    },
    {
     "name": "stdout",
     "output_type": "stream",
     "text": [
      "initial loss -1.0356375903307906\n",
      "initial loss -0.9562868834820202\n",
      "initial loss -0.9237769017661426\n",
      "initial loss -1.044886728709124\n",
      "initial loss -0.8928402417881711\n",
      "initial loss -1.0678866736761266\n",
      "initial loss -1.0400756291632296\n",
      "initial loss -1.0444752000698938\n",
      "initial loss -1.0873657798897776\n",
      "initial loss -0.9255079216193435\n",
      "4999: -2.0668396\r"
     ]
    },
    {
     "name": "stderr",
     "output_type": "stream",
     "text": [
      " 67%|██████████████████████████████▋               | 8/12 [1:01:02<31:04, 466.09s/it]"
     ]
    },
    {
     "name": "stdout",
     "output_type": "stream",
     "text": [
      "initial loss -0.7988380844550852\n",
      "initial loss -0.8214019415537279\n",
      "initial loss -0.8482604470225845\n",
      "initial loss -0.8132357172264083\n",
      "initial loss -0.9540001812391499\n",
      "initial loss -0.9693986557686356\n",
      "initial loss -0.8110208979020596\n",
      "initial loss -0.8953718824454682\n",
      "initial loss -0.8782907867055654\n",
      "initial loss -0.9283322240204729\n",
      "4999: -1.8250956\r"
     ]
    },
    {
     "name": "stderr",
     "output_type": "stream",
     "text": [
      " 75%|██████████████████████████████████▌           | 9/12 [1:10:21<24:44, 494.99s/it]"
     ]
    },
    {
     "name": "stdout",
     "output_type": "stream",
     "text": [
      "initial loss -0.8795119895799901\n",
      "initial loss -0.8059905494243644\n",
      "initial loss -0.746915693858797\n",
      "initial loss -0.9307052220362864\n",
      "initial loss -0.873700502353961\n",
      "initial loss -0.7258395035404552\n",
      "initial loss -0.7787958795467605\n",
      "initial loss -0.915948281079858\n",
      "initial loss -0.787168511638009\n",
      "initial loss -0.8380834012736657\n",
      "4999: -1.3786649\r"
     ]
    },
    {
     "name": "stderr",
     "output_type": "stream",
     "text": [
      " 83%|█████████████████████████████████████▌       | 10/12 [1:19:56<17:19, 519.76s/it]"
     ]
    },
    {
     "name": "stdout",
     "output_type": "stream",
     "text": [
      "initial loss -0.7492810406383028\n",
      "initial loss -0.7350224087321408\n",
      "initial loss -0.747798188918563\n",
      "initial loss -0.680624362288788\n",
      "initial loss -0.8373580855089061\n",
      "initial loss -0.7389005306723425\n",
      "initial loss -0.8339739774592954\n",
      "initial loss -0.8372548114892747\n",
      "initial loss -0.695724820621617\n",
      "initial loss -0.8016840035165883\n",
      "4999: -1.5248080\r"
     ]
    },
    {
     "name": "stderr",
     "output_type": "stream",
     "text": [
      " 92%|█████████████████████████████████████████▎   | 11/12 [1:29:51<09:02, 542.69s/it]"
     ]
    },
    {
     "name": "stdout",
     "output_type": "stream",
     "text": [
      "initial loss -0.7216779081171252\n",
      "initial loss -0.7199864806523542\n",
      "initial loss -0.7941842804799363\n",
      "initial loss -0.7753382257701188\n",
      "initial loss -0.7006917793888021\n",
      "initial loss -0.7133385986217796\n",
      "initial loss -0.5835540666232822\n",
      "initial loss -0.7510770052885852\n",
      "initial loss -0.7496996965021827\n",
      "initial loss -0.7772174608104435\n",
      "4999: -1.3594086\r"
     ]
    },
    {
     "name": "stderr",
     "output_type": "stream",
     "text": [
      "100%|█████████████████████████████████████████████| 12/12 [1:39:55<00:00, 499.60s/it]\n"
     ]
    }
   ],
   "source": [
    "N_objects = 2000\n",
    "num_bootstraps = 10\n",
    "noise_sigma = 1e-3\n",
    "num_samples = np.linspace(2, 96, 12).astype(int)\n",
    "\n",
    "objects_dict = {\n",
    "  'delta_uniform': lambda : np.array([sample_amplitude_object('delta', num_deltas=1, gaussian_mixture_position=False) for i in range(N_objects)]),\n",
    "  'delta_nonuniform': lambda: np.array([sample_amplitude_object('delta', num_deltas=1, gaussian_mixture_position=True) for i in range(N_objects)]),\n",
    "  'white_noise': lambda : np.array([sample_amplitude_object('white_noise') for i in range(N_objects)]),\n",
    "  'pink_noise': lambda : np.array([sample_amplitude_object('pink_noise') for i in range(N_objects)]),\n",
    "  '8_deltas_uniform': lambda :np.array([sample_amplitude_object('delta', num_deltas=8, gaussian_mixture_position=False) for i in range(N_objects)]),\n",
    "  '8_deltas_nonuniform': lambda : np.array([sample_amplitude_object('delta', num_deltas=8, gaussian_mixture_position=True) for i in range(N_objects)]),\n",
    "}\n",
    "\n",
    "# num_nyquist_samples = int(NUM_NYQUIST_SAMPLES // 2)\n",
    "num_nyquist_samples = NUM_NYQUIST_SAMPLES\n",
    "\n",
    "mi_by_object = {}\n",
    "for name, objects_fn in objects_dict.items():\n",
    "  print(name)\n",
    "  mutual_information = []\n",
    "  for N in tqdm(num_samples):\n",
    "    erasure_mask = onp.zeros(OBJECT_LENGTH)\n",
    "    sample_indices = onp.linspace(0, OBJECT_LENGTH - 1, N).astype(int)\n",
    "    erasure_mask[sample_indices] = 1\n",
    "    erasure_mask = np.array(erasure_mask, dtype=bool)\n",
    "    mi_bootstraps = []\n",
    "    for k in range(num_bootstraps):\n",
    "      initial_kernel, initial_params, optimized_params, objects, initial_mi, optimized_mi = optimize_PSF_and_estimate_mi(\n",
    "          objects_fn, noise_sigma, erasure_mask, num_nyquist_samples=num_nyquist_samples, nyquist_sample_output=False)\n",
    "      mi_bootstraps.append(optimized_mi)\n",
    "\n",
    "    mutual_information.append(mi_bootstraps)\n",
    "  mi_by_object[name] = mutual_information\n"
   ]
  },
  {
   "cell_type": "code",
   "execution_count": 3,
   "metadata": {
    "execution": {
     "iopub.execute_input": "2023-11-24T17:36:22.855026Z",
     "iopub.status.busy": "2023-11-24T17:36:22.854813Z",
     "iopub.status.idle": "2023-11-24T17:36:24.222870Z",
     "shell.execute_reply": "2023-11-24T17:36:24.221929Z"
    }
   },
   "outputs": [
    {
     "data": {
      "text/plain": [
       "<matplotlib.legend.Legend at 0x7f867e9c94b0>"
      ]
     },
     "execution_count": 3,
     "metadata": {},
     "output_type": "execute_result"
    },
    {
     "data": {
      "image/png": "[encoded data removed]",
      "text/plain": [
       "<Figure size 500x500 with 1 Axes>"
      ]
     },
     "metadata": {},
     "output_type": "display_data"
    }
   ],
   "source": [
    "fig, ax = plt.subplots(1, 1, figsize=(5, 5))\n",
    "\n",
    "for object_name, mutual_information in mi_by_object.items():\n",
    "\n",
    "    total_mi = np.array(mutual_information) * num_samples[:, None]\n",
    "\n",
    "    max_mi = np.max(total_mi, axis=1)\n",
    "\n",
    "    # ax.plot(num_samples, mutual_information, 'o-')\n",
    "    ax.plot(num_samples, max_mi, 'o-', label=object_name)\n",
    "    ax.set_xlabel('Number of samples')\n",
    "    ax.set_ylabel('Total mutual information (bits)')\n",
    "\n",
    "    ax.set(ylim=(0, max(1.1 * np.max(max_mi), ax.get_ylim()[1])))\n",
    "\n",
    "# plot a dashed line at the number of nyquist samples\n",
    "ax.axvline(num_nyquist_samples, linestyle='--', color='k')\n",
    "ax.text(num_nyquist_samples + 3, 0.2 * np.max(total_mi), 'Nyquist sampling rate', rotation=0, va='center')\n",
    "clear_spines(ax)\n",
    "ax.legend()"
   ]
  },
  {
   "cell_type": "markdown",
   "metadata": {},
   "source": [
    "## Show phase transition behavior with increasing Nyquist samples"
   ]
  },
  {
   "cell_type": "code",
   "execution_count": 4,
   "metadata": {
    "execution": {
     "iopub.execute_input": "2023-11-24T17:36:24.230870Z",
     "iopub.status.busy": "2023-11-24T17:36:24.230210Z",
     "iopub.status.idle": "2023-11-25T05:09:54.811967Z",
     "shell.execute_reply": "2023-11-25T05:09:54.809801Z"
    }
   },
   "outputs": [
    {
     "name": "stderr",
     "output_type": "stream",
     "text": [
      "  0%|                                                          | 0/5 [00:00<?, ?it/s]\n",
      "  0%|                                                         | 0/15 [00:00<?, ?it/s]\u001b[A"
     ]
    },
    {
     "name": "stdout",
     "output_type": "stream",
     "text": [
      "initial loss -4.676104845507377\n",
      "initial loss -4.182811091918675\n",
      "initial loss -3.9137600462535285\n",
      "initial loss -3.564542347773964\n",
      "initial loss -4.703915489797787\n",
      "initial loss -4.377544428665825\n",
      "initial loss -4.741510656845199\n",
      "initial loss -4.3612922764509285\n",
      "initial loss -4.557739683685398\n",
      "initial loss -4.132300299695241\n",
      "2014: -5.0303703\r"
     ]
    },
    {
     "name": "stderr",
     "output_type": "stream",
     "text": [
      "\n",
      "  7%|███                                           | 1/15 [05:21<1:15:02, 321.58s/it]\u001b[A"
     ]
    },
    {
     "name": "stdout",
     "output_type": "stream",
     "text": [
      "initial loss -4.533588778892561\n",
      "initial loss -4.48061267235243\n",
      "initial loss -5.214966980773856\n",
      "initial loss -3.745326394496332\n",
      "initial loss -4.988515279706011\n",
      "initial loss -4.353491561344033\n",
      "initial loss -4.537408762517754\n",
      "initial loss -4.180349018855474\n",
      "initial loss -4.247312854805477\n",
      "initial loss -4.660356855172571\n",
      "4999: -6.2537268\r"
     ]
    },
    {
     "name": "stderr",
     "output_type": "stream",
     "text": [
      "\n",
      " 13%|██████▏                                       | 2/15 [12:30<1:23:24, 384.95s/it]\u001b[A"
     ]
    },
    {
     "name": "stdout",
     "output_type": "stream",
     "text": [
      "initial loss -3.0962541565060313\n",
      "initial loss -3.16915211842884\n",
      "initial loss -2.936840834279034\n",
      "initial loss -3.636683005234461\n",
      "initial loss -3.141531916268526\n",
      "initial loss -3.3659385485221227\n",
      "initial loss -3.3063484053991568\n",
      "initial loss -2.842439457531429\n",
      "initial loss -2.6894351396709033\n",
      "initial loss -3.441680281453158\n",
      "4999: -4.1480415\r"
     ]
    },
    {
     "name": "stderr",
     "output_type": "stream",
     "text": [
      "\n",
      " 20%|█████████▏                                    | 3/15 [20:17<1:24:25, 422.16s/it]\u001b[A"
     ]
    },
    {
     "name": "stdout",
     "output_type": "stream",
     "text": [
      "initial loss -2.333859443341121\n",
      "initial loss -2.3634672170461335\n",
      "initial loss -1.9593574835974414\n",
      "initial loss -2.2042283146938018\n",
      "initial loss -2.3663136256461463\n",
      "initial loss -2.415827537049849\n",
      "initial loss -2.170114711400851\n",
      "initial loss -2.4213147386296505\n",
      "initial loss -2.367900664598691\n",
      "initial loss -2.044154976344574\n",
      "4999: -2.9287749\r"
     ]
    },
    {
     "name": "stderr",
     "output_type": "stream",
     "text": [
      "\n",
      " 27%|████████████▎                                 | 4/15 [28:07<1:20:50, 440.95s/it]\u001b[A"
     ]
    },
    {
     "name": "stdout",
     "output_type": "stream",
     "text": [
      "initial loss -1.4923479886505795\n",
      "initial loss -1.621936659847833\n",
      "initial loss -1.9503274916355313\n",
      "initial loss -1.6457319783238475\n",
      "initial loss -1.7861316695827762\n",
      "initial loss -1.885425676847016\n",
      "initial loss -1.8866326428453446\n",
      "initial loss -1.877873750600218\n",
      "initial loss -1.411195766498772\n",
      "initial loss -1.6723072976319682\n",
      "4999: -2.3445201\r"
     ]
    },
    {
     "name": "stderr",
     "output_type": "stream",
     "text": [
      "\n",
      " 33%|███████████████▎                              | 5/15 [36:31<1:17:17, 463.78s/it]\u001b[A"
     ]
    },
    {
     "name": "stdout",
     "output_type": "stream",
     "text": [
      "initial loss -1.5996441388197684\n",
      "initial loss -1.5809416204940805\n",
      "initial loss -1.5314937331954719\n",
      "initial loss -1.2902295248002704\n",
      "initial loss -1.4852120947391505\n",
      "initial loss -1.5084015314853205\n",
      "initial loss -1.4750856622834987\n",
      "initial loss -1.442775978561298\n",
      "initial loss -1.1211386547270117\n",
      "initial loss -1.4216920277061578\n",
      "4999: -1.9130015\r"
     ]
    },
    {
     "name": "stderr",
     "output_type": "stream",
     "text": [
      "\n",
      " 40%|██████████████████▍                           | 6/15 [43:29<1:07:14, 448.25s/it]\u001b[A"
     ]
    },
    {
     "name": "stdout",
     "output_type": "stream",
     "text": [
      "initial loss -1.3262463252181433\n",
      "initial loss -1.2960496981881597\n",
      "initial loss -1.2832616227974818\n",
      "initial loss -1.2631360315131688\n",
      "initial loss -1.0964121101464566\n",
      "initial loss -1.3233151557150507\n",
      "initial loss -1.3108445875875534\n",
      "initial loss -1.334132298723861\n",
      "initial loss -1.233274760616207\n",
      "initial loss -1.2831092976918754\n",
      "4601: -1.6145345\r"
     ]
    },
    {
     "name": "stderr",
     "output_type": "stream",
     "text": [
      "\n",
      " 47%|██████████████████████▍                         | 7/15 [50:37<58:52, 441.57s/it]\u001b[A"
     ]
    },
    {
     "name": "stdout",
     "output_type": "stream",
     "text": [
      "initial loss -1.012234050462464\n",
      "initial loss -1.0981009094606051\n",
      "initial loss -1.1429498315287923\n",
      "initial loss -1.1909850717255188\n",
      "initial loss -1.1254420940120373\n",
      "initial loss -1.148992919477394\n",
      "initial loss -1.1586526356386486\n",
      "initial loss -1.1486059136899478\n",
      "initial loss -1.038380738108681\n",
      "initial loss -1.1306365616367322\n",
      "4999: -1.4001244\r"
     ]
    },
    {
     "name": "stderr",
     "output_type": "stream",
     "text": [
      "\n",
      " 53%|█████████████████████████▌                      | 8/15 [57:58<51:29, 441.40s/it]\u001b[A"
     ]
    },
    {
     "name": "stdout",
     "output_type": "stream",
     "text": [
      "initial loss -0.7877765497278646\n",
      "initial loss -0.950662461006954\n",
      "initial loss -0.8821265122651406\n",
      "initial loss -0.977037057070466\n",
      "initial loss -1.0150666092365752\n",
      "initial loss -1.035682217349308\n",
      "initial loss -0.9772900179009844\n",
      "initial loss -0.7822967087993232\n",
      "initial loss -1.025890410960649\n",
      "initial loss -0.9759912679898016\n",
      "4999: -1.2606485\r"
     ]
    },
    {
     "name": "stderr",
     "output_type": "stream",
     "text": [
      "\n",
      " 60%|███████████████████████████▌                  | 9/15 [1:05:20<44:10, 441.73s/it]\u001b[A"
     ]
    },
    {
     "name": "stdout",
     "output_type": "stream",
     "text": [
      "initial loss -0.8184198221407871\n",
      "initial loss -0.9661298435916545\n",
      "initial loss -0.8344278467789302\n",
      "initial loss -0.8004567745577557\n",
      "initial loss -0.9809788340508268\n",
      "initial loss -0.8326480898766943\n",
      "initial loss -0.9558151262271171\n",
      "initial loss -0.9437107627823348\n",
      "initial loss -0.8823337781677003\n",
      "initial loss -0.9870624630798197\n",
      "4999: -1.1192415\r"
     ]
    },
    {
     "name": "stderr",
     "output_type": "stream",
     "text": [
      "\n",
      " 67%|██████████████████████████████               | 10/15 [1:12:48<36:57, 443.50s/it]\u001b[A"
     ]
    },
    {
     "name": "stdout",
     "output_type": "stream",
     "text": [
      "initial loss -0.7738342472674804\n",
      "initial loss -0.7634254443744788\n",
      "initial loss -0.8433778586994679\n",
      "initial loss -0.7855696364456972\n",
      "initial loss -0.7256989479937929\n",
      "initial loss -0.8101714159218156\n",
      "initial loss -0.773467761624595\n",
      "initial loss -0.787665528694144\n",
      "initial loss -0.8087569568833632\n",
      "initial loss -0.8439768337231657\n",
      "4846: -1.0112720\r"
     ]
    },
    {
     "name": "stderr",
     "output_type": "stream",
     "text": [
      "\n",
      " 73%|█████████████████████████████████            | 11/15 [1:21:25<31:04, 466.11s/it]\u001b[A"
     ]
    },
    {
     "name": "stdout",
     "output_type": "stream",
     "text": [
      "initial loss -0.6660210595085865\n",
      "initial loss -0.7182672503000495\n",
      "initial loss -0.7544972891124788\n",
      "initial loss -0.669693967412935\n",
      "initial loss -0.7874638492551966\n",
      "initial loss -0.7335653154565582\n",
      "initial loss -0.7256558005729267\n",
      "initial loss -0.7521396153583102\n",
      "initial loss -0.7845232117825996\n",
      "initial loss -0.6421811769795318\n",
      "2749: -0.9429898\r"
     ]
    },
    {
     "name": "stderr",
     "output_type": "stream",
     "text": [
      "\n",
      " 80%|████████████████████████████████████         | 12/15 [1:30:11<24:12, 484.32s/it]\u001b[A"
     ]
    },
    {
     "name": "stdout",
     "output_type": "stream",
     "text": [
      "initial loss -0.7446179093849266\n",
      "initial loss -0.6849154837096965\n",
      "initial loss -0.7396532277107536\n",
      "initial loss -0.6992278915680337\n",
      "initial loss -0.7052064227270844\n",
      "initial loss -0.6967858155958677\n",
      "initial loss -0.7769997228723435\n",
      "initial loss -0.6602029671195905\n",
      "initial loss -0.5777104281467497\n",
      "initial loss -0.6621402300627414\n",
      "4999: -0.8649490\r"
     ]
    },
    {
     "name": "stderr",
     "output_type": "stream",
     "text": [
      "\n",
      " 87%|███████████████████████████████████████      | 13/15 [1:38:57<16:33, 496.90s/it]\u001b[A"
     ]
    },
    {
     "name": "stdout",
     "output_type": "stream",
     "text": [
      "initial loss -0.62469278898635\n",
      "initial loss -0.6396262984913678\n",
      "initial loss -0.6164783145492113\n",
      "initial loss -0.6302135551269759\n",
      "initial loss -0.5956305215722623\n",
      "initial loss -0.5799717237751711\n",
      "initial loss -0.6457805927204325\n",
      "initial loss -0.7260926672876084\n",
      "initial loss -0.6806397705256412\n",
      "initial loss -0.681618595504572\n",
      "3630: -0.7986463\r"
     ]
    },
    {
     "name": "stderr",
     "output_type": "stream",
     "text": [
      "\n",
      " 93%|██████████████████████████████████████████   | 14/15 [1:48:04<08:32, 512.03s/it]\u001b[A"
     ]
    },
    {
     "name": "stdout",
     "output_type": "stream",
     "text": [
      "initial loss -0.5814315841507975\n",
      "initial loss -0.5605873678652866\n",
      "initial loss -0.625911171707662\n",
      "initial loss -0.5998483699094013\n",
      "initial loss -0.6171655253227857\n",
      "initial loss -0.4876603413630002\n",
      "initial loss -0.5518386452808719\n",
      "initial loss -0.6382815554863952\n",
      "initial loss -0.576413324059979\n",
      "initial loss -0.5483373853342848\n",
      "3800: -0.7430679\r"
     ]
    },
    {
     "name": "stderr",
     "output_type": "stream",
     "text": [
      "\n",
      "100%|█████████████████████████████████████████████| 15/15 [1:57:04<00:00, 468.32s/it]\n",
      " 20%|████████▊                                   | 1/5 [1:57:04<7:48:19, 7024.80s/it]\n",
      "  0%|                                                         | 0/15 [00:00<?, ?it/s]\u001b[A"
     ]
    },
    {
     "name": "stdout",
     "output_type": "stream",
     "text": [
      "initial loss -3.984329553549652\n",
      "initial loss -2.8766799484227907\n",
      "initial loss -3.9873711509273275\n",
      "initial loss -3.9875280717279464\n",
      "initial loss -3.3790992521095395\n",
      "initial loss -3.9208280908768067\n",
      "initial loss -3.9894705582196845\n",
      "initial loss -3.781244683583192\n",
      "initial loss -3.74610200795048\n",
      "initial loss -4.083444383907723\n",
      "4999: -4.6790854\r"
     ]
    },
    {
     "name": "stderr",
     "output_type": "stream",
     "text": [
      "\n",
      "  7%|███                                           | 1/15 [05:58<1:23:34, 358.16s/it]\u001b[A"
     ]
    },
    {
     "name": "stdout",
     "output_type": "stream",
     "text": [
      "initial loss -4.349045484567142\n",
      "initial loss -4.451614463711358\n",
      "initial loss -4.5475341133483145\n",
      "initial loss -4.386046314985322\n",
      "initial loss -4.136574740779082\n",
      "initial loss -4.716052265319304\n",
      "initial loss -4.42531073417026\n",
      "initial loss -4.705625509247421\n",
      "initial loss -4.561564847681581\n",
      "initial loss -4.80368803484221\n",
      "4333: -6.3363092\r"
     ]
    },
    {
     "name": "stderr",
     "output_type": "stream",
     "text": [
      "\n",
      " 13%|██████▏                                       | 2/15 [11:55<1:17:27, 357.49s/it]\u001b[A"
     ]
    },
    {
     "name": "stdout",
     "output_type": "stream",
     "text": [
      "initial loss -3.9040662022668027\n",
      "initial loss -3.8326562573745075\n",
      "initial loss -4.251072939631141\n",
      "initial loss -4.334341346915713\n",
      "initial loss -4.193385607674065\n",
      "initial loss -4.246191797927256\n",
      "initial loss -3.8010985522043086\n",
      "initial loss -4.162786632617722\n",
      "initial loss -3.756344144343377\n",
      "initial loss -4.339043444586773\n",
      "4999: -6.2994536\r"
     ]
    },
    {
     "name": "stderr",
     "output_type": "stream",
     "text": [
      "\n",
      " 20%|█████████▏                                    | 3/15 [19:25<1:19:56, 399.67s/it]\u001b[A"
     ]
    },
    {
     "name": "stdout",
     "output_type": "stream",
     "text": [
      "initial loss -3.4312416382350017\n",
      "initial loss -3.3136523683324723\n",
      "initial loss -2.832647120042763\n",
      "initial loss -3.1916713744575995\n",
      "initial loss -3.0911289049864097\n",
      "initial loss -3.5540929853454455\n",
      "initial loss -3.537490581085439\n",
      "initial loss -3.473645966480544\n",
      "initial loss -3.1963863518087154\n",
      "initial loss -3.4111811691426523\n",
      "4999: -5.0090146\r"
     ]
    },
    {
     "name": "stderr",
     "output_type": "stream",
     "text": [
      "\n",
      " 27%|████████████▎                                 | 4/15 [27:00<1:17:19, 421.80s/it]\u001b[A"
     ]
    },
    {
     "name": "stdout",
     "output_type": "stream",
     "text": [
      "initial loss -2.714530622595388\n",
      "initial loss -2.7761407692262545\n",
      "initial loss -2.9263388504899708\n",
      "initial loss -2.5476992153106566\n",
      "initial loss -2.7754859961176233\n",
      "initial loss -2.7317983312967056\n",
      "initial loss -2.825486695356757\n",
      "initial loss -2.6535410813957703\n",
      "initial loss -2.831062745470132\n",
      "initial loss -2.680994336130007\n",
      "4999: -4.0470966\r"
     ]
    },
    {
     "name": "stderr",
     "output_type": "stream",
     "text": [
      "\n",
      " 33%|███████████████▎                              | 5/15 [35:17<1:14:46, 448.68s/it]\u001b[A"
     ]
    },
    {
     "name": "stdout",
     "output_type": "stream",
     "text": [
      "initial loss -2.231851909570974\n",
      "initial loss -2.548287769170931\n",
      "initial loss -2.1651103811221795\n",
      "initial loss -2.3407197818684393\n",
      "initial loss -2.228890061808723\n",
      "initial loss -2.080553636406761\n",
      "initial loss -2.114973697254444\n",
      "initial loss -2.1440061938433734\n",
      "initial loss -2.0231694820215225\n",
      "initial loss -2.2612531057304954\n",
      "4999: -3.3190346\r"
     ]
    },
    {
     "name": "stderr",
     "output_type": "stream",
     "text": [
      "\n",
      " 40%|██████████████████▍                           | 6/15 [42:17<1:05:51, 439.09s/it]\u001b[A"
     ]
    },
    {
     "name": "stdout",
     "output_type": "stream",
     "text": [
      "initial loss -2.0656278520101434\n",
      "initial loss -1.9370009228293283\n",
      "initial loss -1.839846452778277\n",
      "initial loss -2.023034077231423\n",
      "initial loss -2.092012081773524\n",
      "initial loss -2.0329911997525176\n",
      "initial loss -2.0714390239193765\n",
      "initial loss -1.8536409222082106\n",
      "initial loss -2.0962082130381887\n",
      "initial loss -1.8713578885700497\n",
      "4999: -2.8134845\r"
     ]
    },
    {
     "name": "stderr",
     "output_type": "stream",
     "text": [
      "\n",
      " 47%|██████████████████████▍                         | 7/15 [49:30<58:15, 436.93s/it]\u001b[A"
     ]
    },
    {
     "name": "stdout",
     "output_type": "stream",
     "text": [
      "initial loss -1.485648486474096\n",
      "initial loss -1.830025848566941\n",
      "initial loss -1.6240312816089228\n",
      "initial loss -1.8375091047475012\n",
      "initial loss -1.7360218297295231\n",
      "initial loss -1.6216421519487147\n",
      "initial loss -1.6690629165045885\n",
      "initial loss -1.6184830651195687\n",
      "initial loss -1.71719943420733\n",
      "initial loss -1.7807703325608184\n",
      "4999: -2.4483273\r"
     ]
    },
    {
     "name": "stderr",
     "output_type": "stream",
     "text": [
      "\n",
      " 53%|█████████████████████████▌                      | 8/15 [57:00<51:29, 441.38s/it]\u001b[A"
     ]
    },
    {
     "name": "stdout",
     "output_type": "stream",
     "text": [
      "initial loss -1.566832549141741\n",
      "initial loss -1.7161034893466731\n",
      "initial loss -1.5706630556033812\n",
      "initial loss -1.6329095134856406\n",
      "initial loss -1.5746342507784148\n",
      "initial loss -1.601140185255699\n",
      "initial loss -1.4918161088874584\n",
      "initial loss -1.3920756976239925\n",
      "initial loss -1.5673200370371285\n",
      "initial loss -1.5655473397336632\n",
      "4999: -2.2013218\r"
     ]
    },
    {
     "name": "stderr",
     "output_type": "stream",
     "text": [
      "\n",
      " 60%|███████████████████████████▌                  | 9/15 [1:04:29<44:21, 443.65s/it]\u001b[A"
     ]
    },
    {
     "name": "stdout",
     "output_type": "stream",
     "text": [
      "initial loss -1.4337484754474463\n",
      "initial loss -1.4677726945265555\n",
      "initial loss -1.4886599262816935\n",
      "initial loss -1.2539848152159414\n",
      "initial loss -1.3890192113602697\n",
      "initial loss -1.6142659689723793\n",
      "initial loss -1.4759366602997561\n",
      "initial loss -1.4854867947802652\n",
      "initial loss -1.5081810854971793\n",
      "initial loss -1.4462627781538235\n",
      "4999: -1.9521603\r"
     ]
    },
    {
     "name": "stderr",
     "output_type": "stream",
     "text": [
      "\n",
      " 67%|██████████████████████████████               | 10/15 [1:11:31<36:23, 436.79s/it]\u001b[A"
     ]
    },
    {
     "name": "stdout",
     "output_type": "stream",
     "text": [
      "initial loss -1.2905889075560983\n",
      "initial loss -1.1289535429691235\n",
      "initial loss -1.2499589178174795\n",
      "initial loss -1.2841886221177963\n",
      "initial loss -1.3051215107005378\n",
      "initial loss -1.332019131579603\n",
      "initial loss -1.3396131351190845\n",
      "initial loss -1.2325626174446365\n",
      "initial loss -1.3668218899238476\n",
      "initial loss -1.2744214160482383\n",
      "4999: -1.6752974\r"
     ]
    },
    {
     "name": "stderr",
     "output_type": "stream",
     "text": [
      "\n",
      " 73%|█████████████████████████████████            | 11/15 [1:20:17<30:56, 464.12s/it]\u001b[A"
     ]
    },
    {
     "name": "stdout",
     "output_type": "stream",
     "text": [
      "initial loss -1.281240419222728\n",
      "initial loss -1.2033782748876305\n",
      "initial loss -1.1359404378124154\n",
      "initial loss -1.250545348496982\n",
      "initial loss -1.1911409150013272\n",
      "initial loss -1.0629556182338173\n",
      "initial loss -1.1459339274830367\n",
      "initial loss -1.049691457245853\n",
      "initial loss -1.2578249385669098\n",
      "initial loss -1.1423139034407583\n",
      "4999: -1.6592403\r"
     ]
    },
    {
     "name": "stderr",
     "output_type": "stream",
     "text": [
      "\n",
      " 80%|████████████████████████████████████         | 12/15 [1:29:20<24:24, 488.08s/it]\u001b[A"
     ]
    },
    {
     "name": "stdout",
     "output_type": "stream",
     "text": [
      "initial loss -1.1251968780936799\n",
      "initial loss -1.1341792110081512\n",
      "initial loss -1.0478755974631906\n",
      "initial loss -1.0770748748870225\n",
      "initial loss -1.0890666597864211\n",
      "initial loss -1.0415540358135429\n",
      "initial loss -1.1555541533920404\n",
      "initial loss -0.9979647439313731\n",
      "initial loss -1.0445318614372867\n",
      "initial loss -1.1187368631223666\n",
      "4999: -1.5216809\r"
     ]
    },
    {
     "name": "stderr",
     "output_type": "stream",
     "text": [
      "\n",
      " 87%|███████████████████████████████████████      | 13/15 [1:38:29<16:53, 506.72s/it]\u001b[A"
     ]
    },
    {
     "name": "stdout",
     "output_type": "stream",
     "text": [
      "initial loss -1.0195664299438219\n",
      "initial loss -1.0588866939049604\n",
      "initial loss -0.9053987276937219\n",
      "initial loss -1.12916404180217\n",
      "initial loss -0.9930365054227799\n",
      "initial loss -1.078604111376958\n",
      "initial loss -0.9637492402741262\n",
      "initial loss -0.9058127859506384\n",
      "initial loss -1.099845723042093\n",
      "initial loss -1.0164938374160677\n",
      "4999: -1.4136111\r"
     ]
    },
    {
     "name": "stderr",
     "output_type": "stream",
     "text": [
      "\n",
      " 93%|██████████████████████████████████████████   | 14/15 [1:48:11<08:49, 529.29s/it]\u001b[A"
     ]
    },
    {
     "name": "stdout",
     "output_type": "stream",
     "text": [
      "initial loss -0.9744177741387736\n",
      "initial loss -0.9843917383126471\n",
      "initial loss -0.8923566813544539\n",
      "initial loss -0.9004858308840884\n",
      "initial loss -0.8878247784191672\n",
      "initial loss -0.8773265119535754\n",
      "initial loss -0.9554660656128491\n",
      "initial loss -0.9591046085460088\n",
      "initial loss -0.8907178625412624\n",
      "initial loss -0.949509229712255\n",
      "4999: -1.3178198\r"
     ]
    },
    {
     "name": "stderr",
     "output_type": "stream",
     "text": [
      "\n",
      "100%|█████████████████████████████████████████████| 15/15 [1:58:07<00:00, 472.50s/it]\n",
      " 40%|█████████████████▌                          | 2/5 [3:55:12<5:53:05, 7061.70s/it]\n",
      "  0%|                                                         | 0/15 [00:00<?, ?it/s]\u001b[A"
     ]
    },
    {
     "name": "stdout",
     "output_type": "stream",
     "text": [
      "initial loss -3.569914234320928\n",
      "initial loss -3.6514068153271673\n",
      "initial loss -3.608535502241076\n",
      "initial loss -3.4043952886070485\n",
      "initial loss -3.5872783159225845\n",
      "initial loss -3.6816880662274896\n",
      "initial loss -3.47838677070279\n",
      "initial loss -3.1737301279308294\n",
      "initial loss -3.525871705349488\n",
      "initial loss -3.5866312062743644\n",
      "4999: -4.4123842\r"
     ]
    },
    {
     "name": "stderr",
     "output_type": "stream",
     "text": [
      "\n",
      "  7%|███                                           | 1/15 [06:22<1:29:20, 382.89s/it]\u001b[A"
     ]
    },
    {
     "name": "stdout",
     "output_type": "stream",
     "text": [
      "initial loss -3.9098715073993358\n",
      "initial loss -4.3368912575829075\n",
      "initial loss -4.1895301945089765\n",
      "initial loss -3.6257683653638044\n",
      "initial loss -3.889397499660142\n",
      "initial loss -3.5670819865640393\n",
      "initial loss -4.081138370596927\n",
      "initial loss -4.340315745344203\n",
      "initial loss -4.258203527765194\n",
      "initial loss -4.054050114462977\n",
      "4999: -6.4600194\r"
     ]
    },
    {
     "name": "stderr",
     "output_type": "stream",
     "text": [
      "\n",
      " 13%|██████▏                                       | 2/15 [13:41<1:30:00, 415.43s/it]\u001b[A"
     ]
    },
    {
     "name": "stdout",
     "output_type": "stream",
     "text": [
      "initial loss -4.127135583729775\n",
      "initial loss -3.950497174426815\n",
      "initial loss -3.7735509541474515\n",
      "initial loss -3.7648276788346866\n",
      "initial loss -3.719889786032954\n",
      "initial loss -3.8859537339193544\n",
      "initial loss -3.720744912753243\n",
      "initial loss -3.43421457233193\n",
      "initial loss -4.182420807368958\n",
      "initial loss -3.6770727818086915\n",
      "4999: -6.2449547\r"
     ]
    },
    {
     "name": "stderr",
     "output_type": "stream",
     "text": [
      "\n",
      " 20%|█████████▏                                    | 3/15 [21:18<1:26:55, 434.66s/it]\u001b[A"
     ]
    },
    {
     "name": "stdout",
     "output_type": "stream",
     "text": [
      "initial loss -3.691308953678284\n",
      "initial loss -3.6445932187016874\n",
      "initial loss -3.7085066214513795\n",
      "initial loss -3.5058488307360394\n",
      "initial loss -4.165820652026709\n",
      "initial loss -3.648504202048464\n",
      "initial loss -3.9929383227341306\n",
      "initial loss -3.6578646345564807\n",
      "initial loss -3.717594731297152\n",
      "initial loss -3.5853892127195364\n",
      "4999: -5.3348086\r"
     ]
    },
    {
     "name": "stderr",
     "output_type": "stream",
     "text": [
      "\n",
      " 27%|████████████▎                                 | 4/15 [28:41<1:20:17, 437.95s/it]\u001b[A"
     ]
    },
    {
     "name": "stdout",
     "output_type": "stream",
     "text": [
      "initial loss -3.2669585256117513\n",
      "initial loss -3.401118095201122\n",
      "initial loss -3.913723097359541\n",
      "initial loss -3.8045960944517234\n",
      "initial loss -3.425854363455654\n",
      "initial loss -3.385456102122177\n",
      "initial loss -3.583059097297839\n",
      "initial loss -3.1824841084708813\n",
      "initial loss -3.4178057706333362\n",
      "initial loss -3.296148600056258\n",
      "4999: -5.3761944\r"
     ]
    },
    {
     "name": "stderr",
     "output_type": "stream",
     "text": [
      "\n",
      " 33%|███████████████▎                              | 5/15 [36:45<1:15:46, 454.61s/it]\u001b[A"
     ]
    },
    {
     "name": "stdout",
     "output_type": "stream",
     "text": [
      "initial loss -2.8667029126428196\n",
      "initial loss -2.4888584211156535\n",
      "initial loss -2.808948720890249\n",
      "initial loss -2.645526417728612\n",
      "initial loss -2.8445426225517485\n",
      "initial loss -2.678654375362032\n",
      "initial loss -2.6968993375170127\n",
      "initial loss -2.5251746870785707\n",
      "initial loss -3.008577287539602\n",
      "initial loss -2.960932335171479\n",
      "4999: -4.5149642\r"
     ]
    },
    {
     "name": "stderr",
     "output_type": "stream",
     "text": [
      "\n",
      " 40%|██████████████████▍                           | 6/15 [43:42<1:06:15, 441.76s/it]\u001b[A"
     ]
    },
    {
     "name": "stdout",
     "output_type": "stream",
     "text": [
      "initial loss -2.4699638694503427\n",
      "initial loss -2.5169236776443182\n",
      "initial loss -2.376445658476447\n",
      "initial loss -2.386133896293623\n",
      "initial loss -2.442161753436748\n",
      "initial loss -2.28704074797609\n",
      "initial loss -2.4144813429301863\n",
      "initial loss -2.61725012141297\n",
      "initial loss -2.420740495307476\n",
      "initial loss -2.6614932741619675\n",
      "4999: -3.7972138\r"
     ]
    },
    {
     "name": "stderr",
     "output_type": "stream",
     "text": [
      "\n",
      " 47%|██████████████████████▍                         | 7/15 [51:03<58:52, 441.52s/it]\u001b[A"
     ]
    },
    {
     "name": "stdout",
     "output_type": "stream",
     "text": [
      "initial loss -2.320202698892648\n",
      "initial loss -2.0542745514662197\n",
      "initial loss -2.010875315786193\n",
      "initial loss -1.9890714998127037\n",
      "initial loss -2.3565883334668696\n",
      "initial loss -2.291048743057699\n",
      "initial loss -2.320342801609339\n",
      "initial loss -2.168800170504696\n",
      "initial loss -1.867488247425557\n",
      "initial loss -2.0519622960096333\n",
      "4999: -2.9959526\r"
     ]
    },
    {
     "name": "stderr",
     "output_type": "stream",
     "text": [
      "\n",
      " 53%|█████████████████████████▌                      | 8/15 [58:25<51:30, 441.51s/it]\u001b[A"
     ]
    },
    {
     "name": "stdout",
     "output_type": "stream",
     "text": [
      "initial loss -2.030242159365616\n",
      "initial loss -2.0705067636809713\n",
      "initial loss -1.9662047242362017\n",
      "initial loss -1.836166245049467\n",
      "initial loss -2.060510720841014\n",
      "initial loss -2.1474786312045127\n",
      "initial loss -1.9730347800494334\n",
      "initial loss -1.902414033335022\n",
      "initial loss -2.12849788653846\n",
      "initial loss -1.6824498592825763\n",
      "4999: -2.9533885\r"
     ]
    },
    {
     "name": "stderr",
     "output_type": "stream",
     "text": [
      "\n",
      " 60%|███████████████████████████▌                  | 9/15 [1:06:07<44:47, 447.93s/it]\u001b[A"
     ]
    },
    {
     "name": "stdout",
     "output_type": "stream",
     "text": [
      "initial loss -1.5719491112158588\n",
      "initial loss -1.8820054797232042\n",
      "initial loss -1.9732849422241794\n",
      "initial loss -1.8343108819446392\n",
      "initial loss -1.6350614662552159\n",
      "initial loss -1.844544261165802\n",
      "initial loss -1.7742134271633332\n",
      "initial loss -1.7313051477393857\n",
      "initial loss -1.639918797436277\n",
      "initial loss -1.812575502572406\n",
      "4144: -2.5038069\r"
     ]
    },
    {
     "name": "stderr",
     "output_type": "stream",
     "text": [
      "\n",
      " 67%|██████████████████████████████               | 10/15 [1:13:39<37:25, 449.14s/it]\u001b[A"
     ]
    },
    {
     "name": "stdout",
     "output_type": "stream",
     "text": [
      "initial loss -1.6142250700317273\n",
      "initial loss -1.6617752555495298\n",
      "initial loss -1.4770659269475588\n",
      "initial loss -1.7640410358064957\n",
      "initial loss -1.5354943126880656\n",
      "initial loss -1.5506890701294886\n",
      "initial loss -1.555601126226511\n",
      "initial loss -1.7661884103915468\n",
      "initial loss -1.5666449384266772\n",
      "initial loss -1.6419832358506938\n",
      "4187: -2.2826704\r"
     ]
    },
    {
     "name": "stderr",
     "output_type": "stream",
     "text": [
      "\n",
      " 73%|█████████████████████████████████            | 11/15 [1:22:17<31:21, 470.30s/it]\u001b[A"
     ]
    },
    {
     "name": "stdout",
     "output_type": "stream",
     "text": [
      "initial loss -1.4865009841706198\n",
      "initial loss -1.4816849185194767\n",
      "initial loss -1.5142550327229956\n",
      "initial loss -1.3826273374169156\n",
      "initial loss -1.5368596105474812\n",
      "initial loss -1.4978656119080982\n",
      "initial loss -1.4006747217340505\n",
      "initial loss -1.5349537794397334\n",
      "initial loss -1.473226202052233\n",
      "initial loss -1.5112678652689804\n",
      "4999: -2.0109728\r"
     ]
    },
    {
     "name": "stderr",
     "output_type": "stream",
     "text": [
      "\n",
      " 80%|████████████████████████████████████         | 12/15 [1:31:05<24:23, 487.88s/it]\u001b[A"
     ]
    },
    {
     "name": "stdout",
     "output_type": "stream",
     "text": [
      "initial loss -1.2532280431883622\n",
      "initial loss -1.430300225905343\n",
      "initial loss -1.4872610051654354\n",
      "initial loss -1.4789226039159216\n",
      "initial loss -1.2578510088340862\n",
      "initial loss -1.3624712310757159\n",
      "initial loss -1.4935797981644203\n",
      "initial loss -1.4051390371052177\n",
      "initial loss -1.363521356674069\n",
      "initial loss -1.40612177965327\n",
      "4999: -2.1057391\r"
     ]
    },
    {
     "name": "stderr",
     "output_type": "stream",
     "text": [
      "\n",
      " 87%|███████████████████████████████████████      | 13/15 [1:40:37<17:06, 513.33s/it]\u001b[A"
     ]
    },
    {
     "name": "stdout",
     "output_type": "stream",
     "text": [
      "initial loss -1.3504110127887277\n",
      "initial loss -1.3503504795325962\n",
      "initial loss -1.0998360231119337\n",
      "initial loss -1.2472499043027863\n",
      "initial loss -1.3502849907547125\n",
      "initial loss -1.238088973068143\n",
      "initial loss -1.268962279134233\n",
      "initial loss -1.4123418675123887\n",
      "initial loss -1.355650790152971\n",
      "initial loss -1.3099283294298016\n",
      "4999: -1.9436610\r"
     ]
    },
    {
     "name": "stderr",
     "output_type": "stream",
     "text": [
      "\n",
      " 93%|██████████████████████████████████████████   | 14/15 [1:50:23<08:55, 535.28s/it]\u001b[A"
     ]
    },
    {
     "name": "stdout",
     "output_type": "stream",
     "text": [
      "initial loss -1.1335638008653794\n",
      "initial loss -1.3016836147847797\n",
      "initial loss -1.118314297365397\n",
      "initial loss -1.1654312199366648\n",
      "initial loss -1.1952074188119683\n",
      "initial loss -0.972417096426082\n",
      "initial loss -1.2644302712725193\n",
      "initial loss -1.1806765708147258\n",
      "initial loss -1.2607632986783266\n",
      "initial loss -1.2474366142289355\n",
      "4999: -1.6613691\r"
     ]
    },
    {
     "name": "stderr",
     "output_type": "stream",
     "text": [
      "\n",
      "100%|█████████████████████████████████████████████| 15/15 [2:00:11<00:00, 480.78s/it]\n",
      " 60%|██████████████████████████▍                 | 3/5 [5:55:24<3:57:40, 7130.20s/it]\n",
      "  0%|                                                         | 0/15 [00:00<?, ?it/s]\u001b[A"
     ]
    },
    {
     "name": "stdout",
     "output_type": "stream",
     "text": [
      "initial loss -3.2927809421797702\n",
      "initial loss -3.498054627277162\n",
      "initial loss -3.123908836721755\n",
      "initial loss -3.3564353299507985\n",
      "initial loss -3.222295664942684\n",
      "initial loss -3.468517686584323\n",
      "initial loss -3.262451072057207\n",
      "initial loss -3.2581410686435515\n",
      "initial loss -3.239013878431369\n",
      "initial loss -3.3615401313418642\n",
      "4999: -4.2768935\r"
     ]
    },
    {
     "name": "stderr",
     "output_type": "stream",
     "text": [
      "\n",
      "  7%|███                                           | 1/15 [06:21<1:28:59, 381.40s/it]\u001b[A"
     ]
    },
    {
     "name": "stdout",
     "output_type": "stream",
     "text": [
      "initial loss -3.54952747691249\n",
      "initial loss -3.858027731205847\n",
      "initial loss -3.6146262000118745\n",
      "initial loss -3.7669126122288605\n",
      "initial loss -3.787107833813484\n",
      "initial loss -3.8894526720658256\n",
      "initial loss -3.9253928847873736\n",
      "initial loss -3.471145523782172\n",
      "initial loss -3.933499369218452\n",
      "initial loss -3.6980918423764804\n",
      "4999: -6.3261799\r"
     ]
    },
    {
     "name": "stderr",
     "output_type": "stream",
     "text": [
      "\n",
      " 13%|██████▏                                       | 2/15 [13:39<1:29:51, 414.75s/it]\u001b[A"
     ]
    },
    {
     "name": "stdout",
     "output_type": "stream",
     "text": [
      "initial loss -3.4796940042339255\n",
      "initial loss -3.6142274362915385\n",
      "initial loss -3.548342925601124\n",
      "initial loss -3.817571117698357\n",
      "initial loss -3.5703480276046218\n",
      "initial loss -3.456751538940482\n",
      "initial loss -3.66292762257209\n",
      "initial loss -3.541790553501911\n",
      "initial loss -3.7705339475271007\n",
      "initial loss -3.6734136066906755\n",
      "4999: -6.2769246\r"
     ]
    },
    {
     "name": "stderr",
     "output_type": "stream",
     "text": [
      "\n",
      " 20%|█████████▏                                    | 3/15 [21:20<1:27:12, 436.07s/it]\u001b[A"
     ]
    },
    {
     "name": "stdout",
     "output_type": "stream",
     "text": [
      "initial loss -3.1185961252224077\n",
      "initial loss -3.288569191325732\n",
      "initial loss -3.5767535682003393\n",
      "initial loss -3.5911286046125697\n",
      "initial loss -3.33909602698896\n",
      "initial loss -3.5533679762362214\n",
      "initial loss -3.225067065729524\n",
      "initial loss -3.924987508695386\n",
      "initial loss -3.1107203514273283\n",
      "initial loss -3.564206803902743\n",
      "4999: -6.0850942\r"
     ]
    },
    {
     "name": "stderr",
     "output_type": "stream",
     "text": [
      "\n",
      " 27%|████████████▎                                 | 4/15 [28:54<1:21:10, 442.80s/it]\u001b[A"
     ]
    },
    {
     "name": "stdout",
     "output_type": "stream",
     "text": [
      "initial loss -3.201905637974657\n",
      "initial loss -3.121333585308988\n",
      "initial loss -3.32849049201167\n",
      "initial loss -3.264454966953635\n",
      "initial loss -2.865988209688761\n",
      "initial loss -3.133140957841813\n",
      "initial loss -3.250604188219599\n",
      "initial loss -3.1395683393860274\n",
      "initial loss -3.6288240688092555\n",
      "initial loss -3.584770615781333\n",
      "4999: -6.0388047\r"
     ]
    },
    {
     "name": "stderr",
     "output_type": "stream",
     "text": [
      "\n",
      " 33%|███████████████▎                              | 5/15 [36:50<1:15:48, 454.86s/it]\u001b[A"
     ]
    },
    {
     "name": "stdout",
     "output_type": "stream",
     "text": [
      "initial loss -3.630669879606011\n",
      "initial loss -3.07770677698079\n",
      "initial loss -3.303445278947719\n",
      "initial loss -3.3740965108129104\n",
      "initial loss -3.270526335817369\n",
      "initial loss -3.1342834752418156\n",
      "initial loss -3.335897536719373\n",
      "initial loss -3.2343009198388772\n",
      "initial loss -3.1836747044732827\n",
      "initial loss -3.518965457237205\n",
      "4999: -4.8789969\r"
     ]
    },
    {
     "name": "stderr",
     "output_type": "stream",
     "text": [
      "\n",
      " 40%|██████████████████▍                           | 6/15 [44:05<1:07:14, 448.24s/it]\u001b[A"
     ]
    },
    {
     "name": "stdout",
     "output_type": "stream",
     "text": [
      "initial loss -2.9604407537721045\n",
      "initial loss -2.646737597958666\n",
      "initial loss -3.053130422300599\n",
      "initial loss -2.72503678452238\n",
      "initial loss -2.698455417801774\n",
      "initial loss -2.5906853930823326\n",
      "initial loss -2.8256744905200577\n",
      "initial loss -2.9185841071797864\n",
      "initial loss -2.7101377313762782\n",
      "initial loss -2.633451575302814\n",
      "4999: -4.7517065\r"
     ]
    },
    {
     "name": "stderr",
     "output_type": "stream",
     "text": [
      "\n",
      " 47%|██████████████████████▍                         | 7/15 [51:30<59:36, 447.02s/it]\u001b[A"
     ]
    },
    {
     "name": "stdout",
     "output_type": "stream",
     "text": [
      "initial loss -2.3947641352065934\n",
      "initial loss -2.5869343166751517\n",
      "initial loss -2.5487850284526847\n",
      "initial loss -2.3480792480685806\n",
      "initial loss -2.4104903876643062\n",
      "initial loss -2.1541798909756205\n",
      "initial loss -2.3067704030146436\n",
      "initial loss -2.48663464932046\n",
      "initial loss -2.443455219249932\n",
      "initial loss -2.4752316039917908\n",
      "4999: -3.6047548\r"
     ]
    },
    {
     "name": "stderr",
     "output_type": "stream",
     "text": [
      "\n",
      " 53%|█████████████████████████▌                      | 8/15 [59:00<52:15, 447.95s/it]\u001b[A"
     ]
    },
    {
     "name": "stdout",
     "output_type": "stream",
     "text": [
      "initial loss -2.172926094757311\n",
      "initial loss -2.112215816869325\n",
      "initial loss -2.299977634385784\n",
      "initial loss -2.1039596969823284\n",
      "initial loss -2.448545581394036\n",
      "initial loss -2.0674511121146057\n",
      "initial loss -2.068906520455994\n",
      "initial loss -2.1841892800736518\n",
      "initial loss -2.115957115051334\n",
      "initial loss -2.1332974690273128\n",
      "4999: -3.7400576\r"
     ]
    },
    {
     "name": "stderr",
     "output_type": "stream",
     "text": [
      "\n",
      " 60%|███████████████████████████▌                  | 9/15 [1:06:40<45:11, 451.87s/it]\u001b[A"
     ]
    },
    {
     "name": "stdout",
     "output_type": "stream",
     "text": [
      "initial loss -2.0730240333053853\n",
      "initial loss -2.0368293935210375\n",
      "initial loss -2.119513893466178\n",
      "initial loss -1.8652798765747178\n",
      "initial loss -1.9494938075739205\n",
      "initial loss -2.24486867464718\n",
      "initial loss -2.0952753194882963\n",
      "initial loss -1.9401831439772905\n",
      "initial loss -1.9461334175497247\n",
      "initial loss -1.886551554514444\n",
      "4999: -3.3638589\r"
     ]
    },
    {
     "name": "stderr",
     "output_type": "stream",
     "text": [
      "\n",
      " 67%|██████████████████████████████               | 10/15 [1:14:29<38:05, 457.12s/it]\u001b[A"
     ]
    },
    {
     "name": "stdout",
     "output_type": "stream",
     "text": [
      "initial loss -1.6691000875569446\n",
      "initial loss -1.8831434080463947\n",
      "initial loss -1.8976198251942964\n",
      "initial loss -1.8936351779196796\n",
      "initial loss -2.007946640120331\n",
      "initial loss -1.9551430179511462\n",
      "initial loss -1.9046133968584278\n",
      "initial loss -1.8664510428626289\n",
      "initial loss -1.7553045796543396\n",
      "initial loss -1.776691190005614\n",
      "4999: -3.0635047\r"
     ]
    },
    {
     "name": "stderr",
     "output_type": "stream",
     "text": [
      "\n",
      " 73%|█████████████████████████████████            | 11/15 [1:23:39<32:21, 485.45s/it]\u001b[A"
     ]
    },
    {
     "name": "stdout",
     "output_type": "stream",
     "text": [
      "initial loss -1.6796884201100386\n",
      "initial loss -1.7063433550028135\n",
      "initial loss -1.7604013959398412\n",
      "initial loss -1.5729113608269452\n",
      "initial loss -1.889800114013896\n",
      "initial loss -1.7949878849421552\n",
      "initial loss -1.61953678688278\n",
      "initial loss -1.9169352207021486\n",
      "initial loss -1.500523514465904\n",
      "initial loss -1.7495374558055092\n",
      "4999: -2.8411347\r"
     ]
    },
    {
     "name": "stderr",
     "output_type": "stream",
     "text": [
      "\n",
      " 80%|████████████████████████████████████         | 12/15 [1:32:58<25:23, 507.98s/it]\u001b[A"
     ]
    },
    {
     "name": "stdout",
     "output_type": "stream",
     "text": [
      "initial loss -1.5000743115790243\n",
      "initial loss -1.608543558960713\n",
      "initial loss -1.6650964626246318\n",
      "initial loss -1.5298152094032402\n",
      "initial loss -1.5978336525526633\n",
      "initial loss -1.548863608038068\n",
      "initial loss -1.567265131046552\n",
      "initial loss -1.628403176642514\n",
      "initial loss -1.6646264140559321\n",
      "initial loss -1.6951855682680066\n",
      "4999: -2.6246968\r"
     ]
    },
    {
     "name": "stderr",
     "output_type": "stream",
     "text": [
      "\n",
      " 87%|███████████████████████████████████████      | 13/15 [1:42:31<17:35, 527.53s/it]\u001b[A"
     ]
    },
    {
     "name": "stdout",
     "output_type": "stream",
     "text": [
      "initial loss -1.4887823952775074\n",
      "initial loss -1.399343365209088\n",
      "initial loss -1.3818821454667845\n",
      "initial loss -1.5148104353103893\n",
      "initial loss -1.3867018082711609\n",
      "initial loss -1.5422060909781679\n",
      "initial loss -1.5390476220971734\n",
      "initial loss -1.4448240330441844\n",
      "initial loss -1.4783178243130073\n",
      "initial loss -1.4074120118512738\n",
      "4999: -2.4392053\r"
     ]
    },
    {
     "name": "stderr",
     "output_type": "stream",
     "text": [
      "\n",
      " 93%|██████████████████████████████████████████   | 14/15 [1:52:19<09:05, 545.77s/it]\u001b[A"
     ]
    },
    {
     "name": "stdout",
     "output_type": "stream",
     "text": [
      "initial loss -1.3032640212644362\n",
      "initial loss -1.3268249326748616\n",
      "initial loss -1.3569889093257457\n",
      "initial loss -1.424601448119412\n",
      "initial loss -1.494125005815792\n",
      "initial loss -1.542230667650054\n",
      "initial loss -1.4039946440833737\n",
      "initial loss -1.4347253544764746\n",
      "initial loss -1.3237598024712574\n",
      "initial loss -1.4173301163400396\n",
      "4999: -2.2615555\r"
     ]
    },
    {
     "name": "stderr",
     "output_type": "stream",
     "text": [
      "\n",
      "100%|█████████████████████████████████████████████| 15/15 [2:02:19<00:00, 489.32s/it]\n",
      " 80%|███████████████████████████████████▏        | 4/5 [7:57:43<2:00:12, 7212.94s/it]\n",
      "  0%|                                                         | 0/15 [00:00<?, ?it/s]\u001b[A"
     ]
    },
    {
     "name": "stdout",
     "output_type": "stream",
     "text": [
      "initial loss -2.9605552537844346\n",
      "initial loss -3.100251368309161\n",
      "initial loss -3.0593739428455713\n",
      "initial loss -3.2097315234573127\n",
      "initial loss -2.4832811604831693\n",
      "initial loss -2.940764069987262\n",
      "initial loss -3.0390929470337102\n",
      "initial loss -2.8083877816307443\n",
      "initial loss -2.746107922788733\n",
      "initial loss -3.0279570052168374\n",
      "4999: -3.8859168\r"
     ]
    },
    {
     "name": "stderr",
     "output_type": "stream",
     "text": [
      "\n",
      "  7%|███                                           | 1/15 [06:46<1:34:53, 406.66s/it]\u001b[A"
     ]
    },
    {
     "name": "stdout",
     "output_type": "stream",
     "text": [
      "initial loss -3.1218526272881064\n",
      "initial loss -3.382531149397739\n",
      "initial loss -3.224307614478911\n",
      "initial loss -3.3749309280405755\n",
      "initial loss -3.208985683833759\n",
      "initial loss -3.0308635469822445\n",
      "initial loss -3.2245816316048335\n",
      "initial loss -3.06969784305595\n",
      "initial loss -3.178029322333387\n",
      "initial loss -3.462047356315244\n",
      "4999: -5.3643728\r"
     ]
    },
    {
     "name": "stderr",
     "output_type": "stream",
     "text": [
      "\n",
      " 13%|██████▏                                       | 2/15 [14:09<1:32:39, 427.67s/it]\u001b[A"
     ]
    },
    {
     "name": "stdout",
     "output_type": "stream",
     "text": [
      "initial loss -3.049067478820614\n",
      "initial loss -3.275416811205354\n",
      "initial loss -3.2926511701025003\n",
      "initial loss -2.960451393287308\n",
      "initial loss -3.107209823161433\n",
      "initial loss -3.2395424192184765\n",
      "initial loss -3.108953485567978\n",
      "initial loss -3.201612580218126\n",
      "initial loss -3.1415612071413217\n",
      "initial loss -3.0950858799190017\n",
      "4999: -6.1421484\r"
     ]
    },
    {
     "name": "stderr",
     "output_type": "stream",
     "text": [
      "\n",
      " 20%|█████████▏                                    | 3/15 [33:51<2:34:28, 772.39s/it]\u001b[A"
     ]
    },
    {
     "name": "stdout",
     "output_type": "stream",
     "text": [
      "initial loss -2.9261779972657678\n",
      "initial loss -3.1060245142996674\n",
      "initial loss -3.204824628822868\n",
      "initial loss -2.955513814791184\n",
      "initial loss -3.0764287384120452\n",
      "initial loss -3.066636742280522\n",
      "initial loss -3.2058654100067185\n",
      "initial loss -3.0033841899651574\n",
      "initial loss -3.247189914672578\n",
      "initial loss -3.1038076911190147\n",
      "4999: -6.1015492\r"
     ]
    },
    {
     "name": "stderr",
     "output_type": "stream",
     "text": [
      "\n",
      " 27%|████████████                                 | 4/15 [56:50<3:05:30, 1011.85s/it]\u001b[A"
     ]
    },
    {
     "name": "stdout",
     "output_type": "stream",
     "text": [
      "initial loss -2.9853802285711772\n",
      "initial loss -2.8465911589576156\n",
      "initial loss -3.0948708754128447\n",
      "initial loss -3.023189073450359\n",
      "initial loss -3.2644690816698416\n",
      "initial loss -2.8123756397984656\n",
      "initial loss -3.1053550513697985\n",
      "initial loss -3.1384550772284507\n",
      "initial loss -3.0894870073308076\n",
      "initial loss -2.5973082981531364\n",
      "4999: -6.0155603\r"
     ]
    },
    {
     "name": "stderr",
     "output_type": "stream",
     "text": [
      "\n",
      " 33%|██████████████▎                            | 5/15 [1:21:11<3:15:36, 1173.66s/it]\u001b[A"
     ]
    },
    {
     "name": "stdout",
     "output_type": "stream",
     "text": [
      "initial loss -2.9188914313363608\n",
      "initial loss -3.0452360764184356\n",
      "initial loss -2.983962761214382\n",
      "initial loss -2.9564956225079384\n",
      "initial loss -2.5663325234371626\n",
      "initial loss -2.8600831407104828\n",
      "initial loss -2.714348553705857\n",
      "initial loss -2.6022399239151217\n",
      "initial loss -3.143920977192725\n",
      "initial loss -2.877939485820691\n",
      "4999: -5.8071813\r"
     ]
    },
    {
     "name": "stderr",
     "output_type": "stream",
     "text": [
      "\n",
      " 40%|█████████████████▏                         | 6/15 [1:42:59<3:02:56, 1219.61s/it]\u001b[A"
     ]
    },
    {
     "name": "stdout",
     "output_type": "stream",
     "text": [
      "initial loss -3.299519532888435\n",
      "initial loss -2.5983566819450044\n",
      "initial loss -2.8975816041888636\n",
      "initial loss -2.332327023059324\n",
      "initial loss -2.628932482698023\n",
      "initial loss -3.2059831720610332\n",
      "initial loss -3.083248550875444\n",
      "initial loss -2.9193225888624554\n",
      "initial loss -2.870920839251726\n",
      "initial loss -2.997512775862852\n",
      "4999: -5.8045185\r"
     ]
    },
    {
     "name": "stderr",
     "output_type": "stream",
     "text": [
      "\n",
      " 47%|████████████████████                       | 7/15 [2:05:20<2:47:53, 1259.20s/it]\u001b[A"
     ]
    },
    {
     "name": "stdout",
     "output_type": "stream",
     "text": [
      "initial loss -2.839704056561063\n",
      "initial loss -2.76962090630964\n",
      "initial loss -2.7047181390203057\n",
      "initial loss -2.5834895254838055\n",
      "initial loss -2.756155338239241\n",
      "initial loss -2.685134338539699\n",
      "initial loss -2.5577547482023677\n",
      "initial loss -2.7251355006803\n",
      "initial loss -2.454041699120746\n",
      "initial loss -2.5852929411755317\n",
      "4999: -4.5816891\r"
     ]
    },
    {
     "name": "stderr",
     "output_type": "stream",
     "text": [
      "\n",
      " 53%|██████████████████████▉                    | 8/15 [2:23:40<2:20:59, 1208.47s/it]\u001b[A"
     ]
    },
    {
     "name": "stdout",
     "output_type": "stream",
     "text": [
      "initial loss -2.8136263361593663\n",
      "initial loss -2.0545622899343843\n",
      "initial loss -2.77758007911474\n",
      "initial loss -2.6026320710101767\n",
      "initial loss -2.6122054334739677\n",
      "initial loss -2.5405574496603083\n",
      "initial loss -2.5304267026063045\n",
      "initial loss -2.673209252593605\n",
      "initial loss -2.3471069248465586\n",
      "initial loss -2.510503361771154\n",
      "4999: -4.8038083\r"
     ]
    },
    {
     "name": "stderr",
     "output_type": "stream",
     "text": [
      "\n",
      " 60%|██████████████████████████▍                 | 9/15 [2:31:16<1:37:20, 973.35s/it]\u001b[A"
     ]
    },
    {
     "name": "stdout",
     "output_type": "stream",
     "text": [
      "initial loss -2.267252413532517\n",
      "initial loss -2.3103196616666373\n",
      "initial loss -2.425860797283623\n",
      "initial loss -2.412466952223104\n",
      "initial loss -2.267631877664921\n",
      "initial loss -2.3546702914555264\n",
      "initial loss -2.4708113385855865\n",
      "initial loss -2.160085154725832\n",
      "initial loss -2.2546575946671337\n",
      "initial loss -2.143815801481844\n",
      "4999: -3.6848330\r"
     ]
    },
    {
     "name": "stderr",
     "output_type": "stream",
     "text": [
      "\n",
      " 67%|████████████████████████████▋              | 10/15 [2:43:16<1:14:34, 894.87s/it]\u001b[A"
     ]
    },
    {
     "name": "stdout",
     "output_type": "stream",
     "text": [
      "initial loss -2.2137273022892483\n",
      "initial loss -2.191916092930849\n",
      "initial loss -2.17074219099082\n",
      "initial loss -2.356705194509543\n",
      "initial loss -2.396467016542573\n",
      "initial loss -2.2169821577581477\n",
      "initial loss -2.194807822027772\n",
      "initial loss -2.093168204845293\n",
      "initial loss -2.3442740527192085\n",
      "initial loss -2.201052165363755\n",
      "4999: -3.3858524\r"
     ]
    },
    {
     "name": "stderr",
     "output_type": "stream",
     "text": [
      "\n",
      " 73%|█████████████████████████████████            | 11/15 [2:56:05<57:06, 856.58s/it]\u001b[A"
     ]
    },
    {
     "name": "stdout",
     "output_type": "stream",
     "text": [
      "initial loss -1.927162510249642\n",
      "initial loss -1.8751584337796394\n",
      "initial loss -2.255840831490812\n",
      "initial loss -2.1231211314535545\n",
      "initial loss -2.128651704616381\n",
      "initial loss -1.9494656262247347\n",
      "initial loss -2.1784050685105565\n",
      "initial loss -2.1649715918358705\n",
      "initial loss -1.9178828694348273\n",
      "initial loss -1.8038193761780543\n",
      "4999: -3.0457579\r"
     ]
    },
    {
     "name": "stderr",
     "output_type": "stream",
     "text": [
      "\n",
      " 80%|████████████████████████████████████         | 12/15 [3:07:08<39:52, 797.62s/it]\u001b[A"
     ]
    },
    {
     "name": "stdout",
     "output_type": "stream",
     "text": [
      "initial loss -2.010850154090986\n",
      "initial loss -1.6739550720719014\n",
      "initial loss -1.8440462280132017\n",
      "initial loss -1.8549928520028482\n",
      "initial loss -1.8944689153656928\n",
      "initial loss -1.9605064694894654\n",
      "initial loss -1.674316346419819\n",
      "initial loss -1.7856369098456788\n",
      "initial loss -1.9781333846119027\n",
      "initial loss -1.8084395987962008\n",
      "4999: -2.9681116\r"
     ]
    },
    {
     "name": "stderr",
     "output_type": "stream",
     "text": [
      "\n",
      " 87%|███████████████████████████████████████      | 13/15 [3:16:25<24:09, 724.85s/it]\u001b[A"
     ]
    },
    {
     "name": "stdout",
     "output_type": "stream",
     "text": [
      "initial loss -1.6061292035216663\n",
      "initial loss -1.7146750352083677\n",
      "initial loss -1.4481629111956509\n",
      "initial loss -1.8704236340184515\n",
      "initial loss -1.652930596565513\n",
      "initial loss -1.678304305660203\n",
      "initial loss -1.7893154830971367\n",
      "initial loss -1.6024131780909148\n",
      "initial loss -1.9280710439306326\n",
      "initial loss -1.9232303237476336\n",
      "4999: -2.7132728\r"
     ]
    },
    {
     "name": "stderr",
     "output_type": "stream",
     "text": [
      "\n",
      " 93%|██████████████████████████████████████████   | 14/15 [3:25:59<11:19, 679.23s/it]\u001b[A"
     ]
    },
    {
     "name": "stdout",
     "output_type": "stream",
     "text": [
      "initial loss -1.452594517395844\n",
      "initial loss -1.4848800897867052\n",
      "initial loss -1.7275694375002886\n",
      "initial loss -1.7373105515114582\n",
      "initial loss -1.8298664237425797\n",
      "initial loss -1.5354855852361444\n",
      "initial loss -1.5266890388760515\n",
      "initial loss -1.4103619574824577\n",
      "initial loss -1.731591820034203\n",
      "initial loss -1.5976184054320692\n",
      "4999: -2.6635913\r"
     ]
    },
    {
     "name": "stderr",
     "output_type": "stream",
     "text": [
      "\n",
      "100%|█████████████████████████████████████████████| 15/15 [3:35:46<00:00, 863.10s/it]\n",
      "100%|█████████████████████████████████████████████| 5/5 [11:33:30<00:00, 8322.08s/it]\n"
     ]
    }
   ],
   "source": [
    "N_objects = 2000\n",
    "num_bootstraps = 10\n",
    "noise_sigma = 1e-3\n",
    "num_samples = np.linspace(2, 96, 15).astype(int)\n",
    "num_nyquist_samples_list = [8, 16, 24, 32, 48]\n",
    "\n",
    "\n",
    "\n",
    "objects_fn = lambda : np.array([sample_amplitude_object('delta', num_deltas=1, gaussian_mixture_position=False) for i in range(N_objects)])\n",
    "\n",
    "mi_vs_num_nyquist_samples = {}\n",
    "for num_nyquist_samples in tqdm(num_nyquist_samples_list):\n",
    "\n",
    "  mutual_information = []\n",
    "  for N in tqdm(num_samples):\n",
    "    erasure_mask = onp.zeros(OBJECT_LENGTH)\n",
    "    sample_indices = onp.linspace(0, OBJECT_LENGTH - 1, N).astype(int)\n",
    "    erasure_mask[sample_indices] = 1\n",
    "    erasure_mask = np.array(erasure_mask, dtype=bool)\n",
    "    mi_bootstraps = []\n",
    "    for k in range(num_bootstraps):\n",
    "      initial_kernel, initial_params, optimized_params, objects, initial_mi, optimized_mi = optimize_PSF_and_estimate_mi(\n",
    "          objects_fn, noise_sigma, erasure_mask, num_nyquist_samples=num_nyquist_samples, nyquist_sample_output=False)\n",
    "      mi_bootstraps.append(optimized_mi)\n",
    "\n",
    "    mutual_information.append(onp.array(mi_bootstraps).max())\n",
    "  mi_vs_num_nyquist_samples[num_nyquist_samples] = mutual_information\n"
   ]
  },
  {
   "cell_type": "code",
   "execution_count": 5,
   "metadata": {
    "execution": {
     "iopub.execute_input": "2023-11-25T05:09:54.859814Z",
     "iopub.status.busy": "2023-11-25T05:09:54.859173Z",
     "iopub.status.idle": "2023-11-25T05:09:55.504739Z",
     "shell.execute_reply": "2023-11-25T05:09:55.504174Z"
    }
   },
   "outputs": [
    {
     "data": {
      "text/plain": [
       "<matplotlib.legend.Legend at 0x7f867d1f63b0>"
      ]
     },
     "execution_count": 5,
     "metadata": {},
     "output_type": "execute_result"
    },
    {
     "data": {
      "image/png": "[encoded data removed]",
      "text/plain": [
       "<Figure size 500x500 with 1 Axes>"
      ]
     },
     "metadata": {},
     "output_type": "display_data"
    }
   ],
   "source": [
    "fig, ax = plt.subplots(1, 1, figsize=(5, 5))\n",
    "\n",
    "for num_nyquist_samples, mutual_information in mi_vs_num_nyquist_samples.items():\n",
    "\n",
    "    total_mi = np.array(mutual_information) * num_samples\n",
    "\n",
    "\n",
    "    # ax.plot(num_samples, mutual_information, 'o-')\n",
    "    ax.plot(num_samples, total_mi, 'o-', label=num_nyquist_samples)\n",
    "    ax.set_xlabel('Number of samples')\n",
    "    ax.set_ylabel('Total mutual information (bits)')\n",
    "\n",
    "    # ax.set(ylim=(0, max(1.1 * np.max(total_mi), ax.get_ylim()[1])))\n",
    "\n",
    "# plot a dashed line at the number of nyquist samples\n",
    "# ax.axvline(num_nyquist_samples, linestyle='--', color='k')\n",
    "# ax.text(num_nyquist_samples + 3, 0.2 * np.max(total_mi), 'Nyquist sampling rate', rotation=0, va='center')\n",
    "clear_spines(ax)\n",
    "ax.legend()"
   ]
  },
  {
   "cell_type": "markdown",
   "metadata": {},
   "source": [
    "## Show transition behavior with different SNR levels"
   ]
  },
  {
   "cell_type": "code",
   "execution_count": 6,
   "metadata": {
    "execution": {
     "iopub.execute_input": "2023-11-25T05:09:55.515295Z",
     "iopub.status.busy": "2023-11-25T05:09:55.514603Z",
     "iopub.status.idle": "2023-11-25T16:07:36.061865Z",
     "shell.execute_reply": "2023-11-25T16:07:36.061285Z"
    }
   },
   "outputs": [
    {
     "name": "stderr",
     "output_type": "stream",
     "text": [
      "  0%|                                                          | 0/5 [00:00<?, ?it/s]"
     ]
    },
    {
     "name": "stdout",
     "output_type": "stream",
     "text": [
      "initial loss -13.434291947670385\n",
      "initial loss -12.981072768193025\n",
      "initial loss -13.34758899351144\n",
      "initial loss -12.82550542266725\n",
      "initial loss -13.65175221692257\n",
      "initial loss -13.527992821545165\n",
      "initial loss -13.453397280166405\n",
      "initial loss -13.116161272642625\n",
      "initial loss -13.19052929238612\n",
      "initial loss -13.345125074158744\n",
      "initial loss -13.837760191590522\n",
      "initial loss -13.416274774797447\n",
      "initial loss -13.617296017938049\n",
      "initial loss -13.63918326790186\n",
      "initial loss -13.662338682586759\n",
      "initial loss -13.681408793365847\n",
      "initial loss -13.78671023578464\n",
      "initial loss -13.802011246804444\n",
      "initial loss -13.603315232726962\n",
      "initial loss -13.652626661888704\n",
      "initial loss -13.680450059054419\n",
      "initial loss -13.16099348756411\n",
      "initial loss -13.89289689295225\n",
      "initial loss -13.840977479019168\n",
      "initial loss -13.603779776725998\n",
      "initial loss -13.662485968970572\n",
      "initial loss -13.706606485630518\n",
      "initial loss -13.486376292975216\n",
      "initial loss -13.596790816523662\n",
      "initial loss -13.354058480243898\n",
      "initial loss -12.961344019215927\n",
      "initial loss -13.727342509141845\n",
      "initial loss -13.693497177879355\n",
      "initial loss -13.494951976204435\n",
      "initial loss -13.258994137328374\n",
      "initial loss -13.522704951771642\n",
      "initial loss -13.116708748363163\n",
      "initial loss -13.374626200254733\n",
      "initial loss -13.30630004625453\n",
      "initial loss -13.370498201372804\n",
      "initial loss -13.40877721132534\n",
      "initial loss -13.569726339694583\n",
      "initial loss -13.203181959409841\n",
      "initial loss -13.36729139717314\n",
      "initial loss -13.23626428701603\n",
      "initial loss -13.454380543491173\n",
      "initial loss -13.430797294457516\n",
      "initial loss -13.305212715264307\n",
      "initial loss -13.29809107870704\n",
      "initial loss -13.109685992328373\n",
      "initial loss -12.17737099801352\n",
      "initial loss -12.76180774361581\n",
      "initial loss -12.267080757522281\n",
      "initial loss -12.6326669436898\n",
      "initial loss -12.572422028011756\n",
      "initial loss -12.375738950127099\n",
      "initial loss -12.763869874178042\n",
      "initial loss -12.370680920545357\n",
      "initial loss -12.499985223452564\n",
      "initial loss -12.63329489640517\n",
      "initial loss -11.016064994144699\n",
      "initial loss -11.318552810903707\n",
      "initial loss -11.170314541104235\n",
      "initial loss -11.043313624058765\n",
      "initial loss -11.119084859833494\n",
      "initial loss -10.94932883257602\n",
      "initial loss -11.290171598187511\n",
      "initial loss -11.249057686769222\n",
      "initial loss -11.102050472956666\n",
      "initial loss -11.22857665061952\n",
      "initial loss -10.120690688959126\n",
      "initial loss -9.95966558625052\n",
      "initial loss -9.986292921718308\n",
      "initial loss -10.031500484871712\n",
      "initial loss -10.224203180391777\n",
      "initial loss -10.299014648323551\n",
      "initial loss -10.208536664358896\n",
      "initial loss -9.97945688318504\n",
      "initial loss -9.793681241239398\n",
      "initial loss -10.146512052719327\n",
      "initial loss -9.224017843733685\n",
      "initial loss -9.541157355593622\n",
      "initial loss -9.65818206494709\n",
      "initial loss -9.435324426772832\n",
      "initial loss -9.221918244359365\n",
      "initial loss -9.409028283606544\n",
      "initial loss -9.305394572974675\n",
      "initial loss -9.418895638727905\n",
      "initial loss -9.343395412247297\n",
      "initial loss -9.344873237898293\n",
      "initial loss -8.981777109139847\n",
      "initial loss -8.810149151539852\n",
      "initial loss -8.897018486135634\n",
      "initial loss -8.804483270800066\n",
      "initial loss -8.798097920944032\n",
      "initial loss -8.821155131562119\n",
      "initial loss -8.682176022718423\n",
      "initial loss -8.661379058942437\n",
      "initial loss -8.711795618256438\n",
      "initial loss -8.778603593356797\n",
      "initial loss -8.373678314240648\n",
      "initial loss -8.260021055350546\n",
      "initial loss -8.170415608390767\n",
      "initial loss -8.345310536714427\n",
      "initial loss -8.351755693331473\n",
      "initial loss -8.345827192734905\n",
      "initial loss -8.07437597027184\n",
      "initial loss -8.263034024902828\n",
      "initial loss -8.257091603964323\n",
      "initial loss -8.452566504822494\n",
      "initial loss -7.967613956925983\n",
      "initial loss -7.987301105853258\n",
      "initial loss -7.812959303767239\n",
      "initial loss -7.848761104706005\n",
      "initial loss -7.653661135161996\n",
      "initial loss -7.873960221680543\n",
      "initial loss -7.697551090483038\n",
      "initial loss -7.85841335075158\n",
      "initial loss -7.76985514660476\n",
      "initial loss -7.872204969008728\n",
      "initial loss -7.572763795671552\n",
      "initial loss -7.517133485361361\n",
      "initial loss -7.5813375426695835\n",
      "initial loss -7.437465168943292\n",
      "initial loss -7.376618324174441\n",
      "initial loss -7.317185697170506\n",
      "initial loss -7.495131029569368\n",
      "initial loss -7.539235902162268\n",
      "initial loss -7.5137932742697435\n",
      "initial loss -7.611650550218179\n",
      "initial loss -7.256367209797241\n",
      "initial loss -7.288461752035166\n",
      "initial loss -7.176694958889075\n",
      "initial loss -7.278938354537409\n",
      "initial loss -7.301111937227638\n",
      "initial loss -7.192765168275543\n",
      "initial loss -7.1991311789050805\n",
      "initial loss -7.270795324201986\n",
      "initial loss -7.1973973779639895\n",
      "initial loss -7.271806974682582\n",
      "initial loss -6.877810438595923\n",
      "initial loss -6.985596424403193\n",
      "initial loss -6.916065551368245\n",
      "initial loss -6.936986295679617\n",
      "initial loss -6.989585890145482\n",
      "initial loss -6.765331094614133\n",
      "initial loss -6.922085150496111\n",
      "initial loss -6.878784827279444\n",
      "initial loss -6.929291381238691\n",
      "initial loss -7.0959909852445495\n",
      "4999: -7.8285500\r"
     ]
    },
    {
     "name": "stderr",
     "output_type": "stream",
     "text": [
      " 20%|████████▊                                   | 1/5 [2:23:42<9:34:51, 8622.77s/it]"
     ]
    },
    {
     "name": "stdout",
     "output_type": "stream",
     "text": [
      "initial loss -10.026664844897496\n",
      "initial loss -10.123435263222568\n",
      "initial loss -9.739131417158223\n",
      "initial loss -9.802591436601762\n",
      "initial loss -10.072729668663948\n",
      "initial loss -10.060925844972232\n",
      "initial loss -9.52679045773338\n",
      "initial loss -9.948482144613404\n",
      "initial loss -9.92294964327162\n",
      "initial loss -9.912733374460341\n",
      "initial loss -10.304319354755908\n",
      "initial loss -10.301916172409882\n",
      "initial loss -10.37361860885426\n",
      "initial loss -10.241187831503247\n",
      "initial loss -10.462856471024764\n",
      "initial loss -10.709662763336118\n",
      "initial loss -10.306826968567535\n",
      "initial loss -10.196297376781821\n",
      "initial loss -10.20441191329515\n",
      "initial loss -10.434204676824658\n",
      "initial loss -10.264906323422311\n",
      "initial loss -10.204881109187927\n",
      "initial loss -10.22097136359276\n",
      "initial loss -10.429539321571902\n",
      "initial loss -10.112025476396843\n",
      "initial loss -9.984144868327784\n",
      "initial loss -10.243503706230966\n",
      "initial loss -10.22384312018171\n",
      "initial loss -10.336269548761788\n",
      "initial loss -10.242350565640002\n",
      "initial loss -9.686188096400981\n",
      "initial loss -9.993936880513782\n",
      "initial loss -10.13918409253885\n",
      "initial loss -9.95068219851939\n",
      "initial loss -9.961246839534738\n",
      "initial loss -10.160965622015059\n",
      "initial loss -9.511719595738715\n",
      "initial loss -10.262074581653378\n",
      "initial loss -10.459809050027589\n",
      "initial loss -10.314248577213498\n",
      "initial loss -10.194433315973289\n",
      "initial loss -10.13230727530385\n",
      "initial loss -10.365369520203528\n",
      "initial loss -10.479635362635959\n",
      "initial loss -9.6469881242719\n",
      "initial loss -9.96028512118534\n",
      "initial loss -9.733719275736327\n",
      "initial loss -9.58389554313414\n",
      "initial loss -10.290674778580138\n",
      "initial loss -10.201648717260923\n",
      "initial loss -9.16895824236009\n",
      "initial loss -9.457494512545912\n",
      "initial loss -9.345786497162589\n",
      "initial loss -9.198713951708294\n",
      "initial loss -9.479742990774495\n",
      "initial loss -9.094853916848368\n",
      "initial loss -9.564907885137911\n",
      "initial loss -9.282902356380996\n",
      "initial loss -9.122611444088808\n",
      "initial loss -9.139358750225139\n",
      "initial loss -7.808054301192669\n",
      "initial loss -7.737233732993253\n",
      "initial loss -7.7368315364522005\n",
      "initial loss -7.999216246335111\n",
      "initial loss -8.093514636238467\n",
      "initial loss -7.66395590203233\n",
      "initial loss -7.952994229705696\n",
      "initial loss -8.038816796617397\n",
      "initial loss -8.123775641558177\n",
      "initial loss -7.67328071500504\n",
      "initial loss -6.587943491976869\n",
      "initial loss -6.9375425176888275\n",
      "initial loss -6.711199505284226\n",
      "initial loss -7.12648308741925\n",
      "initial loss -6.858004695808512\n",
      "initial loss -6.702999237264345\n",
      "initial loss -6.797913943172062\n",
      "initial loss -6.7829640052098865\n",
      "initial loss -6.874356491273044\n",
      "initial loss -6.827779297343266\n",
      "initial loss -6.055778455571158\n",
      "initial loss -6.099093080578315\n",
      "initial loss -6.258047320145405\n",
      "initial loss -6.275118458932204\n",
      "initial loss -6.155696355894472\n",
      "initial loss -5.966234590776476\n",
      "initial loss -6.047535647394804\n",
      "initial loss -6.115986173957471\n",
      "initial loss -6.08148091708026\n",
      "initial loss -6.312026609431195\n",
      "initial loss -5.5157555179597\n",
      "initial loss -5.5268296774332\n",
      "initial loss -5.554998812637685\n",
      "initial loss -5.618311972105291\n",
      "initial loss -5.456620650660884\n",
      "initial loss -5.577219499322116\n",
      "initial loss -5.607926682344313\n",
      "initial loss -5.413789325821424\n",
      "initial loss -5.4927071531594445\n",
      "initial loss -5.453980489799081\n",
      "initial loss -4.856916675434377\n",
      "initial loss -4.82879576633369\n",
      "initial loss -5.047145149811292\n",
      "initial loss -4.989953217366793\n",
      "initial loss -4.946378180605508\n",
      "initial loss -5.013790500634577\n",
      "initial loss -4.959279935010901\n",
      "initial loss -5.097351576679811\n",
      "initial loss -5.039782568640848\n",
      "initial loss -4.692797500628586\n",
      "initial loss -4.782878938503543\n",
      "initial loss -4.680735541476446\n",
      "initial loss -4.655563742588955\n",
      "initial loss -4.571911211085333\n",
      "initial loss -4.319986442224915\n",
      "initial loss -4.6629955472657\n",
      "initial loss -4.706180991141479\n",
      "initial loss -4.48544890658584\n",
      "initial loss -4.7141388857882225\n",
      "initial loss -4.564845999099001\n",
      "initial loss -4.0795689234273524\n",
      "initial loss -4.356702159136109\n",
      "initial loss -4.2547354467979375\n",
      "initial loss -4.3367366187849665\n",
      "initial loss -4.1433399547716\n",
      "initial loss -4.17242339702844\n",
      "initial loss -4.1026267666712855\n",
      "initial loss -4.062635696946336\n",
      "initial loss -4.270048455796466\n",
      "initial loss -4.173370635698671\n",
      "initial loss -3.9620420429346486\n",
      "initial loss -3.8456700466698424\n",
      "initial loss -3.9169053783212644\n",
      "initial loss -3.846469498622988\n",
      "initial loss -3.9331414832660028\n",
      "initial loss -3.9172661635579926\n",
      "initial loss -3.6269273976402605\n",
      "initial loss -3.7199015054332927\n",
      "initial loss -3.8861248779511075\n",
      "initial loss -3.9221726710391693\n",
      "initial loss -3.6986848061652666\n",
      "initial loss -3.7141788219153824\n",
      "initial loss -3.732295451267569\n",
      "initial loss -3.7681871967694907\n",
      "initial loss -3.7364451591659\n",
      "initial loss -3.7166827949529258\n",
      "initial loss -3.6169874164606117\n",
      "initial loss -3.639142540486781\n",
      "initial loss -3.6228024147024174\n",
      "initial loss -3.6020990830082766\n",
      "4999: -4.2872249\r"
     ]
    },
    {
     "name": "stderr",
     "output_type": "stream",
     "text": [
      " 40%|█████████████████▌                          | 2/5 [4:59:22<7:32:14, 9044.71s/it]"
     ]
    },
    {
     "name": "stdout",
     "output_type": "stream",
     "text": [
      "initial loss -6.682262384318114\n",
      "initial loss -6.782528378485962\n",
      "initial loss -6.412820339657957\n",
      "initial loss -6.5609369522084435\n",
      "initial loss -6.634274529739628\n",
      "initial loss -6.354472700126754\n",
      "initial loss -6.832402122561621\n",
      "initial loss -6.421193146012762\n",
      "initial loss -6.456664308191478\n",
      "initial loss -6.6796932212488205\n",
      "initial loss -7.19070032509539\n",
      "initial loss -6.896872029636565\n",
      "initial loss -7.21084554340106\n",
      "initial loss -6.9270688534075315\n",
      "initial loss -7.163238017406231\n",
      "initial loss -7.252536735352498\n",
      "initial loss -7.170794279222792\n",
      "initial loss -7.122352897807026\n",
      "initial loss -7.208803622597291\n",
      "initial loss -7.333066597281949\n",
      "initial loss -7.001340861033193\n",
      "initial loss -6.491113529536004\n",
      "initial loss -7.194447082530637\n",
      "initial loss -7.129552289139572\n",
      "initial loss -7.064130469395579\n",
      "initial loss -6.903151201384268\n",
      "initial loss -6.864177865653927\n",
      "initial loss -7.159160661020877\n",
      "initial loss -7.027157327672952\n",
      "initial loss -7.16011479803266\n",
      "initial loss -6.5070342872053235\n",
      "initial loss -7.101171130112525\n",
      "initial loss -6.828548918177481\n",
      "initial loss -6.607855346004226\n",
      "initial loss -6.557333342583172\n",
      "initial loss -6.656846174068928\n",
      "initial loss -6.970966895143753\n",
      "initial loss -6.3299783097365125\n",
      "initial loss -6.651052112194139\n",
      "initial loss -6.91117907008552\n",
      "initial loss -6.858853542928626\n",
      "initial loss -6.623158875839726\n",
      "initial loss -6.865489270233476\n",
      "initial loss -6.535109480308784\n",
      "initial loss -6.623967725829193\n",
      "initial loss -7.00344676289383\n",
      "initial loss -6.58196531077939\n",
      "initial loss -6.846390793252053\n",
      "initial loss -6.759045488656643\n",
      "initial loss -6.788991118236745\n",
      "initial loss -6.24582432398909\n",
      "initial loss -5.700503297203604\n",
      "initial loss -6.411153613901259\n",
      "initial loss -6.116876258597222\n",
      "initial loss -5.839414135948195\n",
      "initial loss -6.3640774069242525\n",
      "initial loss -6.428529386358399\n",
      "initial loss -6.29108683252995\n",
      "initial loss -6.265618858642958\n",
      "initial loss -6.15358106646065\n",
      "initial loss -5.432240212931226\n",
      "initial loss -5.1743000190316195\n",
      "initial loss -5.29197490794127\n",
      "initial loss -5.81367265066215\n",
      "initial loss -5.505715107932677\n",
      "initial loss -5.372047815897045\n",
      "initial loss -4.791046174042067\n",
      "initial loss -5.368363336501532\n",
      "initial loss -5.381990142817808\n",
      "initial loss -5.418664946892448\n",
      "initial loss -4.38911113785364\n",
      "initial loss -4.5658853374860655\n",
      "initial loss -4.681927142251523\n",
      "initial loss -4.356818585773199\n",
      "initial loss -4.679634855524863\n",
      "initial loss -4.5976859067722256\n",
      "initial loss -4.613316782412255\n",
      "initial loss -4.683493521065368\n",
      "initial loss -4.462402751956151\n",
      "initial loss -4.843464315384305\n",
      "initial loss -4.270326376728343\n",
      "initial loss -4.041597617696176\n",
      "initial loss -4.29123088493504\n",
      "initial loss -4.08003512227559\n",
      "initial loss -4.088427203465914\n",
      "initial loss -3.9853624099026006\n",
      "initial loss -4.1136226914594065\n",
      "initial loss -4.164916205782636\n",
      "initial loss -4.0725826321044085\n",
      "initial loss -3.8908073505519107\n",
      "initial loss -3.6422111341070864\n",
      "initial loss -3.5712949364421727\n",
      "initial loss -3.852805760413126\n",
      "initial loss -3.945670182339666\n",
      "initial loss -3.8148291379102384\n",
      "initial loss -3.6767334479972598\n",
      "initial loss -3.640451689135306\n",
      "initial loss -3.7715098998588443\n",
      "initial loss -3.7811453566066486\n",
      "initial loss -3.8016588875101025\n",
      "initial loss -3.2436123302343205\n",
      "initial loss -3.5331627225987696\n",
      "initial loss -3.2705112850162337\n",
      "initial loss -3.4698426958275546\n",
      "initial loss -3.390520000608109\n",
      "initial loss -3.5827034728322973\n",
      "initial loss -3.385812997770888\n",
      "initial loss -3.4378635176856105\n",
      "initial loss -3.270464353127174\n",
      "initial loss -3.445429065411868\n",
      "initial loss -3.0755917897765226\n",
      "initial loss -3.0328962071042556\n",
      "initial loss -2.9577321984120553\n",
      "initial loss -3.2662065312877098\n",
      "initial loss -3.111989125445912\n",
      "initial loss -3.132422222208595\n",
      "initial loss -3.3379477362056154\n",
      "initial loss -3.265001313002478\n",
      "initial loss -3.091984554928635\n",
      "initial loss -3.1946959369003984\n",
      "initial loss -2.8406575584810834\n",
      "initial loss -2.873449763152311\n",
      "initial loss -2.8825847790156063\n",
      "initial loss -2.9357321645309713\n",
      "initial loss -2.9546344377112748\n",
      "initial loss -2.9515438462188692\n",
      "initial loss -2.8347529873000723\n",
      "initial loss -2.6552921528770095\n",
      "initial loss -2.822604117543042\n",
      "initial loss -2.875115890516539\n",
      "initial loss -2.7676456273256966\n",
      "initial loss -2.663170560954631\n",
      "initial loss -2.7587838930046646\n",
      "initial loss -2.6228863366085498\n",
      "initial loss -2.5381626059284623\n",
      "initial loss -2.7299500204110156\n",
      "initial loss -2.6068519570549715\n",
      "initial loss -2.8534568666763542\n",
      "initial loss -2.5466653044493492\n",
      "initial loss -2.724182786390776\n",
      "initial loss -2.5905700807850356\n",
      "initial loss -2.5173687367145607\n",
      "initial loss -2.5459417344254764\n",
      "initial loss -2.5503391607265735\n",
      "initial loss -2.5659415278734343\n",
      "initial loss -2.593857322482104\n",
      "initial loss -2.479444177180593\n",
      "initial loss -2.4126155353028684\n",
      "initial loss -2.6496196618012817\n",
      "initial loss -2.4266150291352293\n",
      "4999: -3.3690829\r"
     ]
    },
    {
     "name": "stderr",
     "output_type": "stream",
     "text": [
      " 60%|██████████████████████████▍                 | 3/5 [6:58:37<4:32:43, 8181.83s/it]"
     ]
    },
    {
     "name": "stdout",
     "output_type": "stream",
     "text": [
      "initial loss -3.228567554021078\n",
      "initial loss -3.4616999740813723\n",
      "initial loss -3.3436590480839663\n",
      "initial loss -3.3395133729131548\n",
      "initial loss -3.4147129975116055\n",
      "initial loss -3.079654293522383\n",
      "initial loss -3.4757345842048704\n",
      "initial loss -3.3201537277226825\n",
      "initial loss -2.848781492476508\n",
      "initial loss -3.0267322945562776\n",
      "initial loss -3.4214411731756362\n",
      "initial loss -3.764451101161094\n",
      "initial loss -3.6772924202518302\n",
      "initial loss -3.610149721897598\n",
      "initial loss -4.007522188971067\n",
      "initial loss -3.618193370786902\n",
      "initial loss -3.786152670165051\n",
      "initial loss -3.519283294170898\n",
      "initial loss -3.8000733501950643\n",
      "initial loss -3.8510054486917165\n",
      "initial loss -3.7547598323636464\n",
      "initial loss -3.4799613971118752\n",
      "initial loss -3.49909720517175\n",
      "initial loss -3.5299527754629647\n",
      "initial loss -3.794206887816521\n",
      "initial loss -3.634750957857363\n",
      "initial loss -4.054733144610454\n",
      "initial loss -3.4738541494349797\n",
      "initial loss -3.492290525097377\n",
      "initial loss -3.616094136270486\n",
      "initial loss -3.3349782746209047\n",
      "initial loss -3.507379597151494\n",
      "initial loss -3.229636512188068\n",
      "initial loss -3.4887755547421166\n",
      "initial loss -3.5107890241296014\n",
      "initial loss -3.6065446767825065\n",
      "initial loss -3.222104716698113\n",
      "initial loss -3.360876802120522\n",
      "initial loss -3.458971819944439\n",
      "initial loss -3.539091293620916\n",
      "initial loss -3.350582998666014\n",
      "initial loss -3.212798569333477\n",
      "initial loss -3.1401547360281237\n",
      "initial loss -3.3768160246286767\n",
      "initial loss -3.752514289234753\n",
      "initial loss -3.2117755350817916\n",
      "initial loss -3.2570074977871095\n",
      "initial loss -3.315118458747035\n",
      "initial loss -3.4307583867816445\n",
      "initial loss -3.146527946440485\n",
      "initial loss -2.951798043511935\n",
      "initial loss -3.30910879935459\n",
      "initial loss -3.3047600474130676\n",
      "initial loss -3.241080479348627\n",
      "initial loss -3.367153831439864\n",
      "initial loss -3.514021652558957\n",
      "initial loss -2.7951674527553108\n",
      "initial loss -2.9011515898774185\n",
      "initial loss -3.421453127020244\n",
      "initial loss -3.29004735592439\n",
      "initial loss -2.8511297173836168\n",
      "initial loss -2.709801747771304\n",
      "initial loss -2.9153778075898904\n",
      "initial loss -3.007354170522021\n",
      "initial loss -2.9115385365235937\n",
      "initial loss -2.953648901174913\n",
      "initial loss -2.8976183116362733\n",
      "initial loss -2.780006992719904\n",
      "initial loss -2.59261661937243\n",
      "initial loss -2.7719232292989417\n",
      "initial loss -2.4422539940507213\n",
      "initial loss -2.499765007042353\n",
      "initial loss -2.504010682440877\n",
      "initial loss -2.2528858359184025\n",
      "initial loss -2.2627417477746263\n",
      "initial loss -2.5711697389923116\n",
      "initial loss -2.608261676582226\n",
      "initial loss -2.3080519024192547\n",
      "initial loss -2.7139112757610357\n",
      "initial loss -2.5416216042372013\n",
      "initial loss -2.3246675792733016\n",
      "initial loss -2.3291267508554476\n",
      "initial loss -1.9740933344211198\n",
      "initial loss -2.0985129682921717\n",
      "initial loss -2.2552005618333917\n",
      "initial loss -2.129441133257383\n",
      "initial loss -2.202536680755802\n",
      "initial loss -2.2010573463820853\n",
      "initial loss -2.0846643218040284\n",
      "initial loss -2.240688753455237\n",
      "initial loss -2.124958988090767\n",
      "initial loss -1.8865671043284826\n",
      "initial loss -2.1389106536093343\n",
      "initial loss -2.1634536148557695\n",
      "initial loss -1.8599959336220984\n",
      "initial loss -2.1333286495919315\n",
      "initial loss -2.1464816119861565\n",
      "initial loss -2.0924156294392033\n",
      "initial loss -2.023588825331212\n",
      "initial loss -2.0900049054493297\n",
      "initial loss -1.784065879122773\n",
      "initial loss -1.93056629899018\n",
      "initial loss -1.9424546570820767\n",
      "initial loss -1.7615996416550093\n",
      "initial loss -2.0587088841336625\n",
      "initial loss -1.7068009880439645\n",
      "initial loss -1.8312991001403018\n",
      "initial loss -1.8399691002503318\n",
      "initial loss -1.8793402395078866\n",
      "initial loss -1.9617309668972582\n",
      "initial loss -1.743387071055289\n",
      "initial loss -1.799908829818456\n",
      "initial loss -1.6434833018748207\n",
      "initial loss -1.831441629369534\n",
      "initial loss -1.7562523058498385\n",
      "initial loss -1.832096458289381\n",
      "initial loss -1.7974865150989454\n",
      "initial loss -1.619686934748582\n",
      "initial loss -1.6980662015105836\n",
      "initial loss -1.7666556571073027\n",
      "initial loss -1.6439594811276044\n",
      "initial loss -1.4338768325267182\n",
      "initial loss -1.7270256638044603\n",
      "initial loss -1.5764413882214674\n",
      "initial loss -1.6891155179876274\n",
      "initial loss -1.4775246590559157\n",
      "initial loss -1.75923459659179\n",
      "initial loss -1.5774443730662067\n",
      "initial loss -1.6264252158082144\n",
      "initial loss -1.739048793165204\n",
      "initial loss -1.468550308421812\n",
      "initial loss -1.5676898143690774\n",
      "initial loss -1.6246681146518942\n",
      "initial loss -1.6453229234297264\n",
      "initial loss -1.5530336762747305\n",
      "initial loss -1.6233624922958703\n",
      "initial loss -1.6637616883211275\n",
      "initial loss -1.5046866173995816\n",
      "initial loss -1.3405717913043795\n",
      "initial loss -1.596855202533597\n",
      "initial loss -1.4162762890378002\n",
      "initial loss -1.3816064344970311\n",
      "initial loss -1.5190428321325637\n",
      "initial loss -1.3792569920272681\n",
      "initial loss -1.3530953751839647\n",
      "initial loss -1.5009534953952657\n",
      "initial loss -1.3944089198799132\n",
      "initial loss -1.45177215151951\n",
      "initial loss -1.3946452931856563\n",
      "initial loss -1.4860659855570142\n",
      "4999: -2.2606005\r"
     ]
    },
    {
     "name": "stderr",
     "output_type": "stream",
     "text": [
      " 80%|███████████████████████████████████▏        | 4/5 [8:58:14<2:09:44, 7784.81s/it]"
     ]
    },
    {
     "name": "stdout",
     "output_type": "stream",
     "text": [
      "initial loss -1.3976239409461724\n",
      "initial loss -1.2856994475259214\n",
      "initial loss -1.1649052013652226\n",
      "initial loss -1.4313327658372448\n",
      "initial loss -1.4943683012104103\n",
      "initial loss -1.7148922623869387\n",
      "initial loss -1.3268535225619118\n",
      "initial loss -1.5038106381012066\n",
      "initial loss -1.5252560787493048\n",
      "initial loss -1.5790456519269216\n",
      "initial loss -1.85425867729359\n",
      "initial loss -2.0984189323261235\n",
      "initial loss -2.1808340671380275\n",
      "initial loss -1.9718232586133062\n",
      "initial loss -1.7152329077513468\n",
      "initial loss -1.7558711956107431\n",
      "initial loss -1.7176219213574748\n",
      "initial loss -1.5669690645252277\n",
      "initial loss -1.859298746571354\n",
      "initial loss -1.5805492202317648\n",
      "initial loss -1.6661248721979882\n",
      "initial loss -1.7370357553655644\n",
      "initial loss -1.9502856661135544\n",
      "initial loss -1.7284986070621666\n",
      "initial loss -1.770531797767207\n",
      "initial loss -1.9071534151824616\n",
      "initial loss -1.8978924523099898\n",
      "initial loss -1.7777720539352844\n",
      "initial loss -1.846929204659647\n",
      "initial loss -1.896553765860747\n",
      "initial loss -2.0053806067415905\n",
      "initial loss -1.6720708136133589\n",
      "initial loss -1.8117810509822363\n",
      "initial loss -1.409891420242378\n",
      "initial loss -1.4492279512801294\n",
      "initial loss -1.5715751567523732\n",
      "initial loss -1.7415003959660684\n",
      "initial loss -1.6943273095280134\n",
      "initial loss -1.5709487638297601\n",
      "initial loss -1.4054690897029953\n",
      "initial loss -1.7126300701497998\n",
      "initial loss -1.372807853619916\n",
      "initial loss -1.9025346346173684\n",
      "initial loss -1.7147036270970475\n",
      "initial loss -1.4520300594943976\n",
      "initial loss -1.5956996908623846\n",
      "initial loss -1.4301107060710896\n",
      "initial loss -1.859041487392503\n",
      "initial loss -1.5244280592629953\n",
      "initial loss -1.586370503258424\n",
      "initial loss -1.8011955013001244\n",
      "initial loss -1.5432748775419778\n",
      "initial loss -1.5333031103432013\n",
      "initial loss -1.4521362679008243\n",
      "initial loss -1.5250696035324443\n",
      "initial loss -1.7373676352939267\n",
      "initial loss -1.5932723843145356\n",
      "initial loss -1.4778607519196603\n",
      "initial loss -1.3960849968056344\n",
      "initial loss -1.6389454332276114\n",
      "initial loss -1.12415092159249\n",
      "initial loss -1.256920530225822\n",
      "initial loss -1.2161598072167423\n",
      "initial loss -1.3657597670944508\n",
      "initial loss -1.5122316471077433\n",
      "initial loss -1.493797241894579\n",
      "initial loss -1.3153543860461883\n",
      "initial loss -1.1034572267529867\n",
      "initial loss -1.4814783503211537\n",
      "initial loss -1.6039315196959778\n",
      "initial loss -1.4086121539141427\n",
      "initial loss -1.2388215122847912\n",
      "initial loss -1.3783267102813515\n",
      "initial loss -1.362381767075555\n",
      "initial loss -1.3290992789893503\n",
      "initial loss -1.2117932146449286\n",
      "initial loss -1.3959534603779509\n",
      "initial loss -1.4652748716252284\n",
      "initial loss -1.3136553567975402\n",
      "initial loss -1.1783051122040002\n",
      "initial loss -1.1821130733663954\n",
      "initial loss -1.363124651195259\n",
      "initial loss -1.2377136186830728\n",
      "initial loss -1.0869660066805633\n",
      "initial loss -1.1562051624276977\n",
      "initial loss -1.0816671341834247\n",
      "initial loss -1.1539636053426583\n",
      "initial loss -1.2446622397059182\n",
      "initial loss -1.2810363394820654\n",
      "initial loss -1.2652738842611293\n",
      "initial loss -1.1297949899194775\n",
      "initial loss -1.1661580350420275\n",
      "initial loss -0.9323534940186841\n",
      "initial loss -1.1007387697752276\n",
      "initial loss -1.036614146493489\n",
      "initial loss -0.9611607704122584\n",
      "initial loss -1.164410417785043\n",
      "initial loss -0.8107565766350732\n",
      "initial loss -1.1678396948270666\n",
      "initial loss -0.9731604272730591\n",
      "initial loss -1.029437725750186\n",
      "initial loss -1.0307956613510272\n",
      "initial loss -1.066605189626158\n",
      "initial loss -0.9521003680501474\n",
      "initial loss -0.8368392733668839\n",
      "initial loss -1.014502423674874\n",
      "initial loss -0.9416706142854261\n",
      "initial loss -0.911042755415628\n",
      "initial loss -0.9704682424416609\n",
      "initial loss -0.8013250810228738\n",
      "initial loss -0.8740678692304115\n",
      "initial loss -0.8974371227310344\n",
      "initial loss -1.138702878400171\n",
      "initial loss -0.9899298716462123\n",
      "initial loss -0.8251048299529691\n",
      "initial loss -1.0646870796650294\n",
      "initial loss -0.9012009861023507\n",
      "initial loss -0.8627748807198574\n",
      "initial loss -1.0928644113958097\n",
      "initial loss -0.9899085647602472\n",
      "initial loss -0.7502193147056356\n",
      "initial loss -0.8254453359866608\n",
      "initial loss -0.8124640312676237\n",
      "initial loss -0.8874192660799521\n",
      "initial loss -0.8628204397260707\n",
      "initial loss -0.7870412441648867\n",
      "initial loss -0.7371750940976286\n",
      "initial loss -0.8294359533133371\n",
      "initial loss -0.8982876063867139\n",
      "initial loss -0.8184214303504231\n",
      "initial loss -0.9341162966392802\n",
      "initial loss -0.8184362047539953\n",
      "initial loss -0.8537235223510118\n",
      "initial loss -0.8328202787022752\n",
      "initial loss -0.8469291782418218\n",
      "initial loss -0.9191754059913285\n",
      "initial loss -0.7710535391279866\n",
      "initial loss -0.6638405623076432\n",
      "initial loss -0.6635913311393045\n",
      "initial loss -0.846426763090396\n",
      "initial loss -0.7533527209184868\n",
      "initial loss -0.6658345321609516\n",
      "initial loss -0.8220308136916348\n",
      "initial loss -0.8973686490200437\n",
      "initial loss -0.6513527190566033\n",
      "initial loss -0.8168364769741159\n",
      "initial loss -0.7295051086534183\n",
      "initial loss -0.8700003355905219\n",
      "initial loss -0.7209098362078958\n",
      "initial loss -0.7897290979942021\n",
      "4999: -1.6025406\r"
     ]
    },
    {
     "name": "stderr",
     "output_type": "stream",
     "text": [
      "100%|█████████████████████████████████████████████| 5/5 [10:57:40<00:00, 7892.10s/it]\n"
     ]
    }
   ],
   "source": [
    "N_objects = 2000\n",
    "num_bootstraps = 10\n",
    "num_samples = np.linspace(2, 96, 15).astype(int)\n",
    "\n",
    "objects_fn = lambda : np.array([sample_amplitude_object('delta', num_deltas=1, gaussian_mixture_position=False) for i in range(N_objects)])\n",
    "\n",
    "noise_sigma_list = [1e-6, 1e-5, 1e-4, 1e-3, 4e-3]\n",
    "\n",
    "mi_vs_num_samples_by_noise = {}\n",
    "for noise_sigma in tqdm(noise_sigma_list):\n",
    "  mutual_information = []\n",
    "  for N in num_samples:\n",
    "    erasure_mask = onp.zeros(OBJECT_LENGTH)\n",
    "    sample_indices = onp.linspace(0, OBJECT_LENGTH - 1, N).astype(int)\n",
    "    erasure_mask[sample_indices] = 1\n",
    "    erasure_mask = np.array(erasure_mask, dtype=bool)\n",
    "    mi_bootstraps = []\n",
    "    for k in range(num_bootstraps):\n",
    "      initial_kernel, initial_params, optimized_params, objects, initial_mi, optimized_mi = optimize_PSF_and_estimate_mi(\n",
    "          objects_fn, noise_sigma, erasure_mask, num_nyquist_samples=NUM_NYQUIST_SAMPLES, nyquist_sample_output=False)\n",
    "      mi_bootstraps.append(optimized_mi)\n",
    "\n",
    "    mutual_information.append(onp.array(mi_bootstraps).max())\n",
    "  mi_vs_num_samples_by_noise[noise_sigma] = mutual_information\n"
   ]
  },
  {
   "cell_type": "code",
   "execution_count": 7,
   "metadata": {
    "execution": {
     "iopub.execute_input": "2023-11-25T16:07:36.068215Z",
     "iopub.status.busy": "2023-11-25T16:07:36.067974Z",
     "iopub.status.idle": "2023-11-25T16:07:36.602188Z",
     "shell.execute_reply": "2023-11-25T16:07:36.601651Z"
    }
   },
   "outputs": [
    {
     "data": {
      "text/plain": [
       "[Text(0.5, 1.0, 'SNR comparison')]"
      ]
     },
     "execution_count": 7,
     "metadata": {},
     "output_type": "execute_result"
    },
    {
     "data": {
      "image/png": "[encoded data removed]",
      "text/plain": [
       "<Figure size 500x500 with 1 Axes>"
      ]
     },
     "metadata": {},
     "output_type": "display_data"
    }
   ],
   "source": [
    "snrs = (1 / NUM_NYQUIST_SAMPLES) / np.array(noise_sigma_list)\n",
    "\n",
    "fig, ax = plt.subplots(1, 1, figsize=(5, 5))\n",
    "\n",
    "for (noise_sigma, mutual_information), snr in zip(mi_vs_num_samples_by_noise.items(), snrs):\n",
    "\n",
    "    total_mi = np.array(mutual_information) * num_samples\n",
    "\n",
    "    # ax.plot(num_samples, mutual_information, 'o-')\n",
    "    ax.plot(num_samples, total_mi, 'o-', label=snr)\n",
    "    ax.set_xlabel('Number of samples')\n",
    "    ax.set_ylabel('Total mutual information (bits)')\n",
    "\n",
    "    # ax.set(ylim=(0, max(1.1 * np.max(total_mi), ax.get_ylim()[1])))\n",
    "\n",
    "# plot a dashed line at the number of nyquist samples\n",
    "ax.axvline(NUM_NYQUIST_SAMPLES, linestyle='--', color='k')\n",
    "ax.text(NUM_NYQUIST_SAMPLES + 3, 0.2 * np.max(total_mi), 'Nyquist sampling rate', rotation=0, va='center')\n",
    "clear_spines(ax)\n",
    "ax.legend()\n",
    "ax.set(title='SNR comparison')"
   ]
  }
 ],
 "metadata": {
  "kernelspec": {
   "display_name": "phenotypes",
   "language": "python",
   "name": "python3"
  },
  "language_info": {
   "codemirror_mode": {
    "name": "ipython",
    "version": 3
   },
   "file_extension": ".py",
   "mimetype": "text/x-python",
   "name": "python",
   "nbconvert_exporter": "python",
   "pygments_lexer": "ipython3",
   "version": "3.10.6"
  }
 },
 "nbformat": 4,
 "nbformat_minor": 2
}
