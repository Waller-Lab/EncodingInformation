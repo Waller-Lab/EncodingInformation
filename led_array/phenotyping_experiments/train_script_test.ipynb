{
 "cells": [
  {
   "cell_type": "code",
   "execution_count": 1,
   "metadata": {},
   "outputs": [
    {
     "name": "stdout",
     "output_type": "stream",
     "text": [
      "~~~~~~~~~~~~~running train script~~~~~~~~~~~~~~\n",
      "/home/hpinkard_waller/GitRepos/EncodingInformation/led_array/phenotyping_experiments/config_files/staging/template.yaml\n",
      "already elapsed from previous training: 0.0h\n"
     ]
    },
    {
     "name": "stderr",
     "output_type": "stream",
     "text": [
      "2023-12-13 10:49:18.353562: I tensorflow/core/util/port.cc:110] oneDNN custom operations are on. You may see slightly different numerical results due to floating-point round-off errors from different computation orders. To turn them off, set the environment variable `TF_ENABLE_ONEDNN_OPTS=0`.\n",
      "2023-12-13 10:49:18.409202: I tensorflow/core/platform/cpu_feature_guard.cc:182] This TensorFlow binary is optimized to use available CPU instructions in performance-critical operations.\n",
      "To enable the following instructions: AVX2 AVX512F AVX512_VNNI FMA, in other operations, rebuild TensorFlow with the appropriate compiler flags.\n",
      "2023-12-13 10:49:19.748806: W tensorflow/compiler/tf2tensorrt/utils/py_utils.cc:38] TF-TRT Warning: Could not find TensorRT\n"
     ]
    },
    {
     "name": "stdout",
     "output_type": "stream",
     "text": [
      "preparing datasets\n",
      "Opening BSCCM\n",
      "Opened BSCCM\n"
     ]
    },
    {
     "ename": "Exception",
     "evalue": "Rescale fraction must be less than 1",
     "output_type": "error",
     "traceback": [
      "\u001b[0;31m---------------------------------------------------------------------------\u001b[0m",
      "\u001b[0;31mException\u001b[0m                                 Traceback (most recent call last)",
      "File \u001b[0;32m/ssd2tb/hpinkard_waller/GitRepos/EncodingInformation/led_array/phenotyping_experiments/train_model.py:36\u001b[0m\n\u001b[1;32m     34\u001b[0m bsccm \u001b[38;5;241m=\u001b[39m BSCCM(config[\u001b[38;5;124m'\u001b[39m\u001b[38;5;124mdata\u001b[39m\u001b[38;5;124m'\u001b[39m][\u001b[38;5;124m'\u001b[39m\u001b[38;5;124mdata_dir\u001b[39m\u001b[38;5;124m'\u001b[39m] \u001b[38;5;241m+\u001b[39m \u001b[38;5;124m'\u001b[39m\u001b[38;5;124m/\u001b[39m\u001b[38;5;132;01m{}\u001b[39;00m\u001b[38;5;124m/\u001b[39m\u001b[38;5;124m'\u001b[39m\u001b[38;5;241m.\u001b[39mformat(config[\u001b[38;5;124m'\u001b[39m\u001b[38;5;124mdata\u001b[39m\u001b[38;5;124m'\u001b[39m][\u001b[38;5;124m'\u001b[39m\u001b[38;5;124mdataset_name\u001b[39m\u001b[38;5;124m'\u001b[39m]), cache_index\u001b[38;5;241m=\u001b[39m\u001b[38;5;28;01mTrue\u001b[39;00m)\n\u001b[1;32m     35\u001b[0m image_dim \u001b[38;5;241m=\u001b[39m bsccm\u001b[38;5;241m.\u001b[39mglobal_metadata[\u001b[38;5;124m'\u001b[39m\u001b[38;5;124mled_array\u001b[39m\u001b[38;5;124m'\u001b[39m][\u001b[38;5;124m'\u001b[39m\u001b[38;5;124mimage_shape\u001b[39m\u001b[38;5;124m'\u001b[39m][\u001b[38;5;241m0\u001b[39m]\n\u001b[0;32m---> 36\u001b[0m markers, image_target_generator, dataset_size, display_range, _ \u001b[38;5;241m=\u001b[39m \u001b[43mget_bsccm_image_marker_generator\u001b[49m\u001b[43m(\u001b[49m\u001b[43mbsccm\u001b[49m\u001b[43m,\u001b[49m\u001b[43m \u001b[49m\u001b[43mimage_dim\u001b[49m\u001b[38;5;241;43m=\u001b[39;49m\u001b[43mimage_dim\u001b[49m\u001b[43m,\u001b[49m\u001b[43m \u001b[49m\u001b[38;5;241;43m*\u001b[39;49m\u001b[38;5;241;43m*\u001b[39;49m\u001b[43mconfig\u001b[49m\u001b[43m[\u001b[49m\u001b[38;5;124;43m\"\u001b[39;49m\u001b[38;5;124;43mdata\u001b[39;49m\u001b[38;5;124;43m\"\u001b[39;49m\u001b[43m]\u001b[49m\u001b[43m \u001b[49m\u001b[43m)\u001b[49m\n\u001b[1;32m     37\u001b[0m \u001b[38;5;66;03m##########################\u001b[39;00m\n\u001b[1;32m     38\u001b[0m \n\u001b[1;32m     39\u001b[0m \n\u001b[1;32m     40\u001b[0m \n\u001b[1;32m     41\u001b[0m \u001b[38;5;66;03m###### Create callbacks #######\u001b[39;00m\n\u001b[1;32m     42\u001b[0m tfk\u001b[38;5;241m.\u001b[39mutils\u001b[38;5;241m.\u001b[39mset_random_seed(hyperparameters[\u001b[38;5;124m'\u001b[39m\u001b[38;5;124mseed\u001b[39m\u001b[38;5;124m'\u001b[39m])\n",
      "File \u001b[0;32m~/GitRepos/EncodingInformation/encoding_information/bsccm_utils.py:137\u001b[0m, in \u001b[0;36mget_bsccm_image_marker_generator\u001b[0;34m(bsccm, channels, use_two_spectrum_unmixing, batch, shuffle, shuffle_seed, single_marker, synthetic_noise, median_filter, **kwargs)\u001b[0m\n\u001b[1;32m    135\u001b[0m     rescale_fraction \u001b[38;5;241m=\u001b[39m photons_per_pixel \u001b[38;5;241m/\u001b[39m mean_photons_per_pixel\n\u001b[1;32m    136\u001b[0m     \u001b[38;5;28;01mif\u001b[39;00m rescale_fraction \u001b[38;5;241m>\u001b[39m \u001b[38;5;241m1\u001b[39m:\n\u001b[0;32m--> 137\u001b[0m         \u001b[38;5;28;01mraise\u001b[39;00m \u001b[38;5;167;01mException\u001b[39;00m(\u001b[38;5;124m'\u001b[39m\u001b[38;5;124mRescale fraction must be less than 1\u001b[39m\u001b[38;5;124m'\u001b[39m)\n\u001b[1;32m    138\u001b[0m     \u001b[38;5;28mprint\u001b[39m(\u001b[38;5;124m'\u001b[39m\u001b[38;5;124mRescale fraction: \u001b[39m\u001b[38;5;124m'\u001b[39m, rescale_fraction)\n\u001b[1;32m    140\u001b[0m \u001b[38;5;28;01mdef\u001b[39;00m \u001b[38;5;21madd_noise_to_image\u001b[39m(image, index):\n",
      "\u001b[0;31mException\u001b[0m: Rescale fraction must be less than 1"
     ]
    }
   ],
   "source": [
    "%load_ext autoreload\n",
    "%autoreload 2\n",
    "\n",
    "import os\n",
    "import shutil\n",
    "\n",
    "config_file = \"/home/hpinkard_waller/GitRepos/EncodingInformation/led_array/phenotyping_experiments/config_files/staging/template.yaml\"\n",
    "\n",
    "\n",
    "model_dir = \"/home/hpinkard_waller/models/\" + os.path.basename(config_file).split(\".\")[0]\n",
    "\n",
    "if os.path.isdir(model_dir):\n",
    "    shutil.rmtree(model_dir)\n",
    "os.mkdir(model_dir)\n",
    "\n",
    "%run train_model.py \"2\" {model_dir} {config_file}"
   ]
  },
  {
   "cell_type": "code",
   "execution_count": null,
   "metadata": {},
   "outputs": [],
   "source": []
  }
 ],
 "metadata": {
  "kernelspec": {
   "display_name": "encoding_info",
   "language": "python",
   "name": "python3"
  },
  "language_info": {
   "codemirror_mode": {
    "name": "ipython",
    "version": 3
   },
   "file_extension": ".py",
   "mimetype": "text/x-python",
   "name": "python",
   "nbconvert_exporter": "python",
   "pygments_lexer": "ipython3",
   "version": "3.10.13"
  }
 },
 "nbformat": 4,
 "nbformat_minor": 2
}
