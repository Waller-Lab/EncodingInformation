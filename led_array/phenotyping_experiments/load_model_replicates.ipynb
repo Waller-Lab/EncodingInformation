{
 "cells": [
  {
   "cell_type": "markdown",
   "metadata": {},
   "source": [
    "For eric to make a model number vs estimate chart"
   ]
  },
  {
   "cell_type": "code",
   "execution_count": 1,
   "metadata": {},
   "outputs": [
    {
     "name": "stderr",
     "output_type": "stream",
     "text": [
      "2024-10-20 08:18:15.553014: W tensorflow/compiler/tf2tensorrt/utils/py_utils.cc:38] TF-TRT Warning: Could not find TensorRT\n"
     ]
    },
    {
     "name": "stdout",
     "output_type": "stream",
     "text": [
      "Opening BSCCM\n",
      "Opened BSCCM\n"
     ]
    }
   ],
   "source": [
    "%load_ext autoreload\n",
    "%autoreload 2\n",
    "# this only works on startup!\n",
    "from jax import config\n",
    "config.update(\"jax_enable_x64\", True)\n",
    "\n",
    "import os\n",
    "os.environ[\"CUDA_DEVICE_ORDER\"] = \"PCI_BUS_ID\" \n",
    "os.environ[\"CUDA_VISIBLE_DEVICES\"] = '2'\n",
    "from encoding_information.gpu_utils import limit_gpu_memory_growth\n",
    "limit_gpu_memory_growth()\n",
    "\n",
    "from cleanplots import *\n",
    "from tqdm import tqdm\n",
    "from encoding_information.information_estimation import *\n",
    "from encoding_information.image_utils import *\n",
    "\n",
    "import matplotlib.colors as mcolors\n",
    "\n",
    "from encoding_information.datasets.bsccm_utils import *\n",
    "from bsccm import BSCCM\n",
    "from jax import jit\n",
    "import numpy as np\n",
    "import yaml\n",
    "from led_array.tf_util import prepare_test_dataset\n",
    "import tensorflow.keras as tfk\n",
    "\n",
    "\n",
    "bsccm = BSCCM('/home/hpinkard_waller/data/BSCCM/')\n"
   ]
  },
  {
   "cell_type": "code",
   "execution_count": null,
   "metadata": {},
   "outputs": [],
   "source": [
    "\n",
    "experiment_dir = '/home/hpinkard_waller/models/Synthetic_Noise_v10/'\n",
    "patch_size = 40\n",
    "\n",
    "mi_estimates_gp = {}\n",
    "mi_estimates_pixel_cnn = {}\n",
    "phenotype_nlls = {}\n",
    "phenotype_marker_indices = {}\n",
    "for dir_name in os.listdir(experiment_dir):\n",
    "    # check if complete.txt is in this directory\n",
    "    if not os.path.exists(os.path.join(experiment_dir, dir_name, 'complete.txt')):\n",
    "        # print('Skipping', dir_name)\n",
    "        continue\n",
    "    if 'Analysis' in dir_name:\n",
    "        config_file_name = [d for d in os.listdir(os.path.join(experiment_dir, dir_name)) if '.yaml' in d][0]\n",
    "        config_file_full_path = os.path.join(experiment_dir, dir_name, config_file_name)\n",
    "        config = yaml.load(open(config_file_full_path, 'r'), Loader=yaml.FullLoader)\n",
    "        if config['patch_size'] != patch_size:\n",
    "            continue\n",
    "        photons_per_pixel = config['data']['synthetic_noise']['photons_per_pixel']\n",
    "        channel = config['data']['channels'][0]\n",
    "        replicate = config['metadata']['replicate']\n",
    "        saving_dir = os.path.join(experiment_dir, dir_name)\n",
    "        analysis_dir = os.path.join(saving_dir, 'analysis')\n",
    "        mi_estimate_file = np.load(os.path.join(analysis_dir, [f for f in os.listdir(analysis_dir) if 'mi_estimates' in f][0]))\n",
    "        # mi_estimates_gp[(channel, photons_per_pixel, replicate)] = mi_estimate_file['mi_gp']\n",
    "\n",
    "\n",
    "        mi_estimates_pixel_cnn[(channel, photons_per_pixel, replicate)] = (mi_estimate_file['mi_pixel_cnn'], \n",
    "                                                                           mi_estimate_file['pixel_cnn_lower_bound'], \n",
    "                                                                            mi_estimate_file['pixel_cnn_upper_bound'])\n",
    "        nll_file = np.load(os.path.join(analysis_dir, [f for f in os.listdir(analysis_dir) if 'phenotyping_nll' in f][0]))\n",
    "        phenotype_nlls[(channel, photons_per_pixel, replicate)] = nll_file['nlls']\n",
    "        phenotype_marker_indices[(channel, photons_per_pixel, replicate)] = nll_file['marker_indices']\n",
    "\n",
    "        # print the channel, photons and mi_gp\n",
    "        print(channel, photons_per_pixel, mi_estimates_pixel_cnn[(channel, photons_per_pixel, replicate)])    \n",
    "\n"
   ]
  },
  {
   "cell_type": "code",
   "execution_count": 4,
   "metadata": {},
   "outputs": [],
   "source": [
    "import numpy as np\n",
    "\n",
    "# Initialize an empty dictionary to hold the reorganized data\n",
    "reorganized_data = {}\n",
    "\n",
    "# Iterate over the keys and values in the original data\n",
    "for (channel_name, num_photons, replicate_idx), value_tuple in mi_estimates_pixel_cnn.items():\n",
    "    # If the channel_name is not already a key in reorganized_data, add it\n",
    "    if channel_name not in reorganized_data:\n",
    "        reorganized_data[channel_name] = {}\n",
    "    # If num_photons is not already a key under channel_name, add it\n",
    "    if num_photons not in reorganized_data[channel_name]:\n",
    "        reorganized_data[channel_name][num_photons] = []\n",
    "    # Append the value_tuple to the list under the appropriate keys\n",
    "    reorganized_data[channel_name][num_photons].append(value_tuple)\n",
    "\n",
    "# Convert the lists of tuples into Nx3 NumPy arrays\n",
    "for channel_name in reorganized_data:\n",
    "    for num_photons in reorganized_data[channel_name]:\n",
    "        data_list = reorganized_data[channel_name][num_photons]\n",
    "        n_replicates = len(data_list)\n",
    "        # Initialize an empty array to hold the data\n",
    "        data_array = np.zeros((n_replicates, 3))\n",
    "        for i, value_tuple in enumerate(data_list):\n",
    "            # Each value_tuple contains three arrays with scalar values\n",
    "            data_array[i, 0] = value_tuple[0]\n",
    "            data_array[i, 1] = value_tuple[1]\n",
    "            data_array[i, 2] = value_tuple[2]\n",
    "        # Replace the list with the NumPy array\n",
    "        reorganized_data[channel_name][num_photons] = data_array\n",
    "\n",
    "# Now, reorganized_data is your nested dictionary with Nx3 arrays\n"
   ]
  },
  {
   "cell_type": "code",
   "execution_count": 9,
   "metadata": {},
   "outputs": [],
   "source": [
    "import numpy as np\n",
    "\n",
    "# Flatten the nested dictionary\n",
    "flattened_data = {}\n",
    "for channel_name, photons_dict in reorganized_data.items():\n",
    "    for num_photons, data_array in photons_dict.items():\n",
    "        key = f\"{channel_name}_{num_photons}\"\n",
    "        flattened_data[key] = data_array\n",
    "\n",
    "# Save the flattened data to a .npz file\n",
    "np.savez('reorganized_data.npz', **flattened_data)"
   ]
  },
  {
   "cell_type": "code",
   "execution_count": 13,
   "metadata": {},
   "outputs": [
    {
     "data": {
      "text/plain": [
       "dict_keys(['DPC_Right', 'Brightfield', 'LED119'])"
      ]
     },
     "execution_count": 13,
     "metadata": {},
     "output_type": "execute_result"
    }
   ],
   "source": [
    "loaded_data.keys()"
   ]
  },
  {
   "cell_type": "code",
   "execution_count": 11,
   "metadata": {},
   "outputs": [
    {
     "data": {
      "text/plain": [
       "[<matplotlib.lines.Line2D at 0x7f33c0437c70>]"
      ]
     },
     "execution_count": 11,
     "metadata": {},
     "output_type": "execute_result"
    },
    {
     "data": {
      "image/png": "[encoded data removed]",
      "text/plain": [
       "<Figure size 640x480 with 1 Axes>"
      ]
     },
     "metadata": {},
     "output_type": "display_data"
    }
   ],
   "source": [
    "# To load the data back:\n",
    "loaded_npz = np.load('reorganized_data.npz')\n",
    "\n",
    "# Reconstruct the nested dictionary\n",
    "loaded_data = {}\n",
    "for key in loaded_npz.files:\n",
    "    channel_name, num_photons = key.rsplit('_', 1)\n",
    "    num_photons = int(num_photons)\n",
    "    if channel_name not in loaded_data:\n",
    "        loaded_data[channel_name] = {}\n",
    "    loaded_data[channel_name][num_photons] = loaded_npz[key]\n",
    "\n",
    "\n",
    "# Channels are ['DPC_Right', 'Brightfield', 'LED119']\n",
    "# Photons are [50, 150, 450]\n",
    "dpc_right_150_photons_models = loaded_data['DPC_Right'][150]\n",
    "\n",
    "# N x 3 array with columns for estimates, lower bounds, and upper bounds\n",
    "estimates, lower_bounds, upper_bounds = dpc_right_150_photons_models.T\n",
    "\n",
    "# sort the estimates and plot them\n",
    "sorted_indices = np.argsort(estimates)\n",
    "sorted_estimates = estimates[sorted_indices]\n",
    "\n",
    "fig, ax = plt.subplots()\n",
    "ax.plot(sorted_estimates, '-o')"
   ]
  }
 ],
 "metadata": {
  "kernelspec": {
   "display_name": "encoding_info",
   "language": "python",
   "name": "python3"
  },
  "language_info": {
   "codemirror_mode": {
    "name": "ipython",
    "version": 3
   },
   "file_extension": ".py",
   "mimetype": "text/x-python",
   "name": "python",
   "nbconvert_exporter": "python",
   "pygments_lexer": "ipython3",
   "version": "3.10.13"
  }
 },
 "nbformat": 4,
 "nbformat_minor": 2
}
