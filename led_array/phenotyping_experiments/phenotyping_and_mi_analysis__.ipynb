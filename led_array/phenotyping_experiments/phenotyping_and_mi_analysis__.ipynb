{
 "cells": [
  {
   "cell_type": "code",
   "execution_count": 8,
   "metadata": {},
   "outputs": [
    {
     "name": "stdout",
     "output_type": "stream",
     "text": [
      "The autoreload extension is already loaded. To reload it, use:\n",
      "  %reload_ext autoreload\n",
      "Opening BSCCM\n",
      "Opened BSCCM\n"
     ]
    }
   ],
   "source": [
    "%load_ext autoreload\n",
    "%autoreload 2\n",
    "# this only works on startup!\n",
    "from jax import config\n",
    "config.update(\"jax_enable_x64\", True)\n",
    "\n",
    "import os\n",
    "os.environ[\"CUDA_DEVICE_ORDER\"] = \"PCI_BUS_ID\" \n",
    "os.environ[\"CUDA_VISIBLE_DEVICES\"] = '1'\n",
    "from encoding_information.gpu_utils import limit_gpu_memory_growth\n",
    "limit_gpu_memory_growth()\n",
    "\n",
    "from cleanplots import *\n",
    "from tqdm import tqdm\n",
    "from encoding_information.information_estimation import *\n",
    "from encoding_information.image_utils import *\n",
    "from encoding_information.models.gaussian_process import StationaryGaussianProcess\n",
    "\n",
    "from encoding_information.bsccm_utils import *\n",
    "from bsccm import BSCCM\n",
    "from jax import jit\n",
    "import numpy as np\n",
    "import yaml\n",
    "from led_array.tf_util import prepare_test_dataset\n",
    "import tensorflow.keras as tfk\n",
    "\n",
    "bsccm = BSCCM('/home/hpinkard_waller/data/BSCCM/')"
   ]
  },
  {
   "cell_type": "code",
   "execution_count": 58,
   "metadata": {},
   "outputs": [],
   "source": [
    "def get_marker_index(target_row):\n",
    "    return np.flatnonzero(np.logical_not(np.isnan(target_row)))[0]\n",
    "\n",
    "#compute negative log_likelihood over test set\n",
    "def compute_nlls(model, test_dataset, max_num):\n",
    "    negative_log_likelihoods = []\n",
    "    marker_indices = []\n",
    "    for i, (image, target) in tqdm(enumerate(test_dataset), total=max_num):\n",
    "        if max_num is not None and i > max_num:\n",
    "            break\n",
    "        marker_index = get_marker_index(target)\n",
    "        marker_indices.append(marker_index)\n",
    "        marker = markers[marker_index]\n",
    "        mixture = model(image[None])[marker]\n",
    "        nll = -mixture.log_prob(target[marker_index]).numpy() \n",
    "        negative_log_likelihoods.append(nll)\n",
    "    return np.array(negative_log_likelihoods), np.array(marker_indices)\n",
    "\n",
    "\n",
    "def estimate_mi(model_name, config, indices, test_dataset_size, patch_size):\n",
    "    saving_name = f'{model_name}_{patch_size}patch_mi_estimates.npz'\n",
    "\n",
    "        # check if already cached\n",
    "    if os.path.exists(f'.cached/{saving_name}'):\n",
    "        print(f'Loading cached results for {model_name}')\n",
    "        return np.load(f'.cached/{saving_name}')\n",
    "\n",
    "    median_filter = config['data']['synthetic_noise']['median_filter']\n",
    "\n",
    "    images = load_bsccm_images(bsccm, indices=indices[:test_dataset_size], channel=config['data']['channels'][0], \n",
    "                convert_units_to_photons=True, edge_crop=config['data']['synthetic_noise']['edge_crop'],\n",
    "                median_filter=median_filter)\n",
    "\n",
    "    mean_photons_per_pixel = np.mean(images)\n",
    "    rescale_fraction = config['data']['synthetic_noise']['photons_per_pixel'] / mean_photons_per_pixel\n",
    "    if rescale_fraction > 1:\n",
    "        raise Exception('Rescale fraction must be less than 1')\n",
    "\n",
    "    patches = extract_patches(images, patch_size=patch_size)\n",
    "\n",
    "    if median_filter:\n",
    "        # assume noiseless\n",
    "        noisy_patches = add_noise(patches * rescale_fraction)\n",
    "    else:\n",
    "        noisy_patches = add_shot_noise_to_experimenal_data(patches, rescale_fraction)\n",
    "    \n",
    "    mi_pixel_cnn = estimate_mutual_information(noisy_patches, clean_images=patches if median_filter else None, \n",
    "                    entropy_model='pixel_cnn', verbose=True)\n",
    "    mi_gp = estimate_mutual_information(noisy_patches, clean_images=patches if median_filter else None,\n",
    "                     entropy_model='gaussian', verbose=True)\n",
    "\n",
    "    # save the cached results (both nlls and marker indices in a single file)\n",
    "    np.savez(f'.cached/{saving_name}.npz', mi_pixel_cnn=mi_pixel_cnn, mi_gp=mi_gp)\n",
    "    return np.load(f'.cached/{saving_name}.npz')\n",
    "    \n",
    "\n",
    "def test_set_phenotyping_nll(model_name, config):\n",
    "    saving_name = f'{model_name}_phenotyping_nll.npz'\n",
    "\n",
    "    # check if already cached\n",
    "    if os.path.exists(f'.cached/{saving_name}'):\n",
    "        print(f'Loading cached results for {model_name}')\n",
    "        return np.load(f'.cached/{saving_name}')\n",
    "    \n",
    "    markers, image_target_generator, dataset_size, display_range, indices = get_bsccm_image_marker_generator(bsccm, **config['data'])\n",
    "    test_dataset, test_dataset_size = prepare_test_dataset(config['hyperparameters']['test_fraction'], image_target_generator, dataset_size)\n",
    "    \n",
    "    model = tfk.models.load_model(config['saving_dir'] + model_name + os.sep + 'model/saved_model.h5', compile=False)\n",
    "\n",
    "    nlls, marker_indices = compute_nlls(model, test_dataset, max_num=test_dataset_size)\n",
    "\n",
    "    # save the cached results (both nlls and marker indices in a single file)\n",
    "    np.savez(f'.cached/{saving_name}', nlls=nlls, marker_indices=marker_indices)\n",
    "    return np.load(f'.cached/{saving_name}')\n",
    "    "
   ]
  },
  {
   "cell_type": "markdown",
   "metadata": {},
   "source": [
    "## Compute and cache protein prediction performance"
   ]
  },
  {
   "cell_type": "code",
   "execution_count": 60,
   "metadata": {},
   "outputs": [
    {
     "name": "stdout",
     "output_type": "stream",
     "text": [
      "file 0 of 23\n"
     ]
    },
    {
     "ename": "TypeError",
     "evalue": "PRNG key seed must be an integer; got Traced<ShapedArray(float64[])>with<DynamicJaxprTrace(level=1/0)>",
     "output_type": "error",
     "traceback": [
      "\u001b[0;31m---------------------------------------------------------------------------\u001b[0m",
      "\u001b[0;31mTypeError\u001b[0m                                 Traceback (most recent call last)",
      "\u001b[1;32m/home/hpinkard_waller/GitRepos/EncodingInformation/led_array/phenotyping_experiments/phenotyping_and_mi_analysis__.ipynb Cell 4\u001b[0m line \u001b[0;36m2\n\u001b[1;32m     <a href='vscode-notebook-cell://ssh-remote%2B169.229.228.36/home/hpinkard_waller/GitRepos/EncodingInformation/led_array/phenotyping_experiments/phenotyping_and_mi_analysis__.ipynb#W1sdnNjb2RlLXJlbW90ZQ%3D%3D?line=20'>21</a>\u001b[0m \u001b[39mwith\u001b[39;00m \u001b[39mopen\u001b[39m(config_dir \u001b[39m+\u001b[39m file, \u001b[39m'\u001b[39m\u001b[39mr\u001b[39m\u001b[39m'\u001b[39m) \u001b[39mas\u001b[39;00m f:\n\u001b[1;32m     <a href='vscode-notebook-cell://ssh-remote%2B169.229.228.36/home/hpinkard_waller/GitRepos/EncodingInformation/led_array/phenotyping_experiments/phenotyping_and_mi_analysis__.ipynb#W1sdnNjb2RlLXJlbW90ZQ%3D%3D?line=21'>22</a>\u001b[0m     config \u001b[39m=\u001b[39m yaml\u001b[39m.\u001b[39msafe_load(f)\n\u001b[0;32m---> <a href='vscode-notebook-cell://ssh-remote%2B169.229.228.36/home/hpinkard_waller/GitRepos/EncodingInformation/led_array/phenotyping_experiments/phenotyping_and_mi_analysis__.ipynb#W1sdnNjb2RlLXJlbW90ZQ%3D%3D?line=23'>24</a>\u001b[0m mi \u001b[39m=\u001b[39m estimate_mi(model_name, config, indices, test_dataset_size, patch_size)\n\u001b[1;32m     <a href='vscode-notebook-cell://ssh-remote%2B169.229.228.36/home/hpinkard_waller/GitRepos/EncodingInformation/led_array/phenotyping_experiments/phenotyping_and_mi_analysis__.ipynb#W1sdnNjb2RlLXJlbW90ZQ%3D%3D?line=24'>25</a>\u001b[0m results \u001b[39m=\u001b[39m {\u001b[39m*\u001b[39m\u001b[39m*\u001b[39mresults, \u001b[39m*\u001b[39m\u001b[39m*\u001b[39mmi}\n\u001b[1;32m     <a href='vscode-notebook-cell://ssh-remote%2B169.229.228.36/home/hpinkard_waller/GitRepos/EncodingInformation/led_array/phenotyping_experiments/phenotyping_and_mi_analysis__.ipynb#W1sdnNjb2RlLXJlbW90ZQ%3D%3D?line=26'>27</a>\u001b[0m phenotyping_nll \u001b[39m=\u001b[39m test_set_phenotyping_nll(model_name, config)\n",
      "\u001b[1;32m/home/hpinkard_waller/GitRepos/EncodingInformation/led_array/phenotyping_experiments/phenotyping_and_mi_analysis__.ipynb Cell 4\u001b[0m line \u001b[0;36m4\n\u001b[1;32m     <a href='vscode-notebook-cell://ssh-remote%2B169.229.228.36/home/hpinkard_waller/GitRepos/EncodingInformation/led_array/phenotyping_experiments/phenotyping_and_mi_analysis__.ipynb#W1sdnNjb2RlLXJlbW90ZQ%3D%3D?line=42'>43</a>\u001b[0m     noisy_patches \u001b[39m=\u001b[39m add_noise(patches \u001b[39m*\u001b[39m rescale_fraction)\n\u001b[1;32m     <a href='vscode-notebook-cell://ssh-remote%2B169.229.228.36/home/hpinkard_waller/GitRepos/EncodingInformation/led_array/phenotyping_experiments/phenotyping_and_mi_analysis__.ipynb#W1sdnNjb2RlLXJlbW90ZQ%3D%3D?line=43'>44</a>\u001b[0m \u001b[39melse\u001b[39;00m:\n\u001b[0;32m---> <a href='vscode-notebook-cell://ssh-remote%2B169.229.228.36/home/hpinkard_waller/GitRepos/EncodingInformation/led_array/phenotyping_experiments/phenotyping_and_mi_analysis__.ipynb#W1sdnNjb2RlLXJlbW90ZQ%3D%3D?line=44'>45</a>\u001b[0m     noisy_patches \u001b[39m=\u001b[39m add_shot_noise_to_experimenal_data(patches, rescale_fraction)\n\u001b[1;32m     <a href='vscode-notebook-cell://ssh-remote%2B169.229.228.36/home/hpinkard_waller/GitRepos/EncodingInformation/led_array/phenotyping_experiments/phenotyping_and_mi_analysis__.ipynb#W1sdnNjb2RlLXJlbW90ZQ%3D%3D?line=46'>47</a>\u001b[0m mi_pixel_cnn \u001b[39m=\u001b[39m estimate_mutual_information(noisy_patches, clean_images\u001b[39m=\u001b[39mpatches \u001b[39mif\u001b[39;00m median_filter \u001b[39melse\u001b[39;00m \u001b[39mNone\u001b[39;00m, \n\u001b[1;32m     <a href='vscode-notebook-cell://ssh-remote%2B169.229.228.36/home/hpinkard_waller/GitRepos/EncodingInformation/led_array/phenotyping_experiments/phenotyping_and_mi_analysis__.ipynb#W1sdnNjb2RlLXJlbW90ZQ%3D%3D?line=47'>48</a>\u001b[0m                 entropy_model\u001b[39m=\u001b[39m\u001b[39m'\u001b[39m\u001b[39mpixel_cnn\u001b[39m\u001b[39m'\u001b[39m, verbose\u001b[39m=\u001b[39m\u001b[39mTrue\u001b[39;00m)\n\u001b[1;32m     <a href='vscode-notebook-cell://ssh-remote%2B169.229.228.36/home/hpinkard_waller/GitRepos/EncodingInformation/led_array/phenotyping_experiments/phenotyping_and_mi_analysis__.ipynb#W1sdnNjb2RlLXJlbW90ZQ%3D%3D?line=48'>49</a>\u001b[0m mi_gp \u001b[39m=\u001b[39m estimate_mutual_information(noisy_patches, clean_images\u001b[39m=\u001b[39mpatches \u001b[39mif\u001b[39;00m median_filter \u001b[39melse\u001b[39;00m \u001b[39mNone\u001b[39;00m,\n\u001b[1;32m     <a href='vscode-notebook-cell://ssh-remote%2B169.229.228.36/home/hpinkard_waller/GitRepos/EncodingInformation/led_array/phenotyping_experiments/phenotyping_and_mi_analysis__.ipynb#W1sdnNjb2RlLXJlbW90ZQ%3D%3D?line=49'>50</a>\u001b[0m                  entropy_model\u001b[39m=\u001b[39m\u001b[39m'\u001b[39m\u001b[39mgaussian\u001b[39m\u001b[39m'\u001b[39m, verbose\u001b[39m=\u001b[39m\u001b[39mTrue\u001b[39;00m)\n",
      "File \u001b[0;32m~/GitRepos/EncodingInformation/encoding_information/bsccm_utils.py:308\u001b[0m, in \u001b[0;36madd_shot_noise_to_experimenal_data\u001b[0;34m(image_stack, photon_fraction, seed)\u001b[0m\n\u001b[1;32m    306\u001b[0m \u001b[39mif\u001b[39;00m seed \u001b[39mis\u001b[39;00m \u001b[39mnot\u001b[39;00m \u001b[39mNone\u001b[39;00m:\n\u001b[1;32m    307\u001b[0m     seed \u001b[39m=\u001b[39m onp\u001b[39m.\u001b[39mrandom\u001b[39m.\u001b[39mrandint(\u001b[39m0\u001b[39m, \u001b[39m100000\u001b[39m)\n\u001b[0;32m--> 308\u001b[0m key \u001b[39m=\u001b[39m jax\u001b[39m.\u001b[39;49mrandom\u001b[39m.\u001b[39;49mPRNGKey(seed)\n\u001b[1;32m    309\u001b[0m \u001b[39mif\u001b[39;00m photon_fraction \u001b[39m>\u001b[39m \u001b[39m1\u001b[39m \u001b[39mor\u001b[39;00m photon_fraction \u001b[39m<\u001b[39m\u001b[39m=\u001b[39m \u001b[39m0\u001b[39m:\n\u001b[1;32m    310\u001b[0m     \u001b[39mraise\u001b[39;00m \u001b[39mException\u001b[39;00m(\u001b[39m'\u001b[39m\u001b[39mphoton_fraction must be less than 1 and greater than 0\u001b[39m\u001b[39m'\u001b[39m)\n",
      "File \u001b[0;32m~/mambaforge/envs/encoding_info/lib/python3.10/site-packages/jax/_src/random.py:221\u001b[0m, in \u001b[0;36mPRNGKey\u001b[0;34m(seed, impl)\u001b[0m\n\u001b[1;32m    204\u001b[0m \u001b[39mdef\u001b[39;00m \u001b[39mPRNGKey\u001b[39m(seed: Union[\u001b[39mint\u001b[39m, Array], \u001b[39m*\u001b[39m,\n\u001b[1;32m    205\u001b[0m             impl: Optional[\u001b[39mstr\u001b[39m] \u001b[39m=\u001b[39m \u001b[39mNone\u001b[39;00m) \u001b[39m-\u001b[39m\u001b[39m>\u001b[39m KeyArray:\n\u001b[1;32m    206\u001b[0m \u001b[39m  \u001b[39m\u001b[39m\"\"\"Create a pseudo-random number generator (PRNG) key given an integer seed.\u001b[39;00m\n\u001b[1;32m    207\u001b[0m \n\u001b[1;32m    208\u001b[0m \u001b[39m  The resulting key carries the default PRNG implementation, as\u001b[39;00m\n\u001b[0;32m   (...)\u001b[0m\n\u001b[1;32m    219\u001b[0m \u001b[39m    and ``fold_in``.\u001b[39;00m\n\u001b[1;32m    220\u001b[0m \u001b[39m  \"\"\"\u001b[39;00m\n\u001b[0;32m--> 221\u001b[0m   \u001b[39mreturn\u001b[39;00m _return_prng_keys(\u001b[39mTrue\u001b[39;00m, _key(\u001b[39m'\u001b[39;49m\u001b[39mPRNGKey\u001b[39;49m\u001b[39m'\u001b[39;49m, seed, impl))\n",
      "File \u001b[0;32m~/mambaforge/envs/encoding_info/lib/python3.10/site-packages/jax/_src/random.py:183\u001b[0m, in \u001b[0;36m_key\u001b[0;34m(ctor_name, seed, impl_spec)\u001b[0m\n\u001b[1;32m    179\u001b[0m \u001b[39mif\u001b[39;00m np\u001b[39m.\u001b[39mndim(seed):\n\u001b[1;32m    180\u001b[0m   \u001b[39mraise\u001b[39;00m \u001b[39mTypeError\u001b[39;00m(\n\u001b[1;32m    181\u001b[0m       \u001b[39mf\u001b[39m\u001b[39m\"\u001b[39m\u001b[39m{\u001b[39;00mctor_name\u001b[39m}\u001b[39;00m\u001b[39m accepts a scalar seed, but was given an array of \u001b[39m\u001b[39m\"\u001b[39m\n\u001b[1;32m    182\u001b[0m       \u001b[39mf\u001b[39m\u001b[39m\"\u001b[39m\u001b[39mshape \u001b[39m\u001b[39m{\u001b[39;00mnp\u001b[39m.\u001b[39mshape(seed)\u001b[39m}\u001b[39;00m\u001b[39m != (). Use jax.vmap for batching\u001b[39m\u001b[39m\"\u001b[39m)\n\u001b[0;32m--> 183\u001b[0m \u001b[39mreturn\u001b[39;00m prng\u001b[39m.\u001b[39;49mrandom_seed(seed, impl\u001b[39m=\u001b[39;49mimpl)\n",
      "File \u001b[0;32m~/mambaforge/envs/encoding_info/lib/python3.10/site-packages/jax/_src/prng.py:716\u001b[0m, in \u001b[0;36mrandom_seed\u001b[0;34m(seeds, impl)\u001b[0m\n\u001b[1;32m    714\u001b[0m \u001b[39melse\u001b[39;00m:\n\u001b[1;32m    715\u001b[0m   seeds_arr \u001b[39m=\u001b[39m jnp\u001b[39m.\u001b[39masarray(seeds)\n\u001b[0;32m--> 716\u001b[0m \u001b[39mreturn\u001b[39;00m random_seed_p\u001b[39m.\u001b[39;49mbind(seeds_arr, impl\u001b[39m=\u001b[39;49mimpl)\n",
      "File \u001b[0;32m~/mambaforge/envs/encoding_info/lib/python3.10/site-packages/jax/_src/core.py:385\u001b[0m, in \u001b[0;36mPrimitive.bind\u001b[0;34m(self, *args, **params)\u001b[0m\n\u001b[1;32m    382\u001b[0m \u001b[39mdef\u001b[39;00m \u001b[39mbind\u001b[39m(\u001b[39mself\u001b[39m, \u001b[39m*\u001b[39margs, \u001b[39m*\u001b[39m\u001b[39m*\u001b[39mparams):\n\u001b[1;32m    383\u001b[0m   \u001b[39massert\u001b[39;00m (\u001b[39mnot\u001b[39;00m config\u001b[39m.\u001b[39menable_checks\u001b[39m.\u001b[39mvalue \u001b[39mor\u001b[39;00m\n\u001b[1;32m    384\u001b[0m           \u001b[39mall\u001b[39m(\u001b[39misinstance\u001b[39m(arg, Tracer) \u001b[39mor\u001b[39;00m valid_jaxtype(arg) \u001b[39mfor\u001b[39;00m arg \u001b[39min\u001b[39;00m args)), args\n\u001b[0;32m--> 385\u001b[0m   \u001b[39mreturn\u001b[39;00m \u001b[39mself\u001b[39;49m\u001b[39m.\u001b[39;49mbind_with_trace(find_top_trace(args), args, params)\n",
      "File \u001b[0;32m~/mambaforge/envs/encoding_info/lib/python3.10/site-packages/jax/_src/core.py:388\u001b[0m, in \u001b[0;36mPrimitive.bind_with_trace\u001b[0;34m(self, trace, args, params)\u001b[0m\n\u001b[1;32m    387\u001b[0m \u001b[39mdef\u001b[39;00m \u001b[39mbind_with_trace\u001b[39m(\u001b[39mself\u001b[39m, trace, args, params):\n\u001b[0;32m--> 388\u001b[0m   out \u001b[39m=\u001b[39m trace\u001b[39m.\u001b[39;49mprocess_primitive(\u001b[39mself\u001b[39;49m, \u001b[39mmap\u001b[39;49m(trace\u001b[39m.\u001b[39;49mfull_raise, args), params)\n\u001b[1;32m    389\u001b[0m   \u001b[39mreturn\u001b[39;00m \u001b[39mmap\u001b[39m(full_lower, out) \u001b[39mif\u001b[39;00m \u001b[39mself\u001b[39m\u001b[39m.\u001b[39mmultiple_results \u001b[39melse\u001b[39;00m full_lower(out)\n",
      "File \u001b[0;32m~/mambaforge/envs/encoding_info/lib/python3.10/site-packages/jax/_src/core.py:868\u001b[0m, in \u001b[0;36mEvalTrace.process_primitive\u001b[0;34m(self, primitive, tracers, params)\u001b[0m\n\u001b[1;32m    867\u001b[0m \u001b[39mdef\u001b[39;00m \u001b[39mprocess_primitive\u001b[39m(\u001b[39mself\u001b[39m, primitive, tracers, params):\n\u001b[0;32m--> 868\u001b[0m   \u001b[39mreturn\u001b[39;00m primitive\u001b[39m.\u001b[39;49mimpl(\u001b[39m*\u001b[39;49mtracers, \u001b[39m*\u001b[39;49m\u001b[39m*\u001b[39;49mparams)\n",
      "File \u001b[0;32m~/mambaforge/envs/encoding_info/lib/python3.10/site-packages/jax/_src/prng.py:728\u001b[0m, in \u001b[0;36mrandom_seed_impl\u001b[0;34m(seeds, impl)\u001b[0m\n\u001b[1;32m    726\u001b[0m \u001b[39m@random_seed_p\u001b[39m\u001b[39m.\u001b[39mdef_impl\n\u001b[1;32m    727\u001b[0m \u001b[39mdef\u001b[39;00m \u001b[39mrandom_seed_impl\u001b[39m(seeds, \u001b[39m*\u001b[39m, impl):\n\u001b[0;32m--> 728\u001b[0m   base_arr \u001b[39m=\u001b[39m random_seed_impl_base(seeds, impl\u001b[39m=\u001b[39;49mimpl)\n\u001b[1;32m    729\u001b[0m   \u001b[39mreturn\u001b[39;00m PRNGKeyArrayImpl(impl, base_arr)\n",
      "File \u001b[0;32m~/mambaforge/envs/encoding_info/lib/python3.10/site-packages/jax/_src/prng.py:733\u001b[0m, in \u001b[0;36mrandom_seed_impl_base\u001b[0;34m(seeds, impl)\u001b[0m\n\u001b[1;32m    731\u001b[0m \u001b[39mdef\u001b[39;00m \u001b[39mrandom_seed_impl_base\u001b[39m(seeds, \u001b[39m*\u001b[39m, impl):\n\u001b[1;32m    732\u001b[0m   seed \u001b[39m=\u001b[39m iterated_vmap_unary(seeds\u001b[39m.\u001b[39mndim, impl\u001b[39m.\u001b[39mseed)\n\u001b[0;32m--> 733\u001b[0m   \u001b[39mreturn\u001b[39;00m seed(seeds)\n",
      "File \u001b[0;32m~/mambaforge/envs/encoding_info/lib/python3.10/site-packages/jax/_src/prng.py:962\u001b[0m, in \u001b[0;36mthreefry_seed\u001b[0;34m(seed)\u001b[0m\n\u001b[1;32m    950\u001b[0m \u001b[39mdef\u001b[39;00m \u001b[39mthreefry_seed\u001b[39m(seed: typing\u001b[39m.\u001b[39mArray) \u001b[39m-\u001b[39m\u001b[39m>\u001b[39m typing\u001b[39m.\u001b[39mArray:\n\u001b[1;32m    951\u001b[0m \u001b[39m  \u001b[39m\u001b[39m\"\"\"Create a single raw threefry PRNG key from an integer seed.\u001b[39;00m\n\u001b[1;32m    952\u001b[0m \n\u001b[1;32m    953\u001b[0m \u001b[39m  Args:\u001b[39;00m\n\u001b[0;32m   (...)\u001b[0m\n\u001b[1;32m    960\u001b[0m \u001b[39m    first padding out with zeros).\u001b[39;00m\n\u001b[1;32m    961\u001b[0m \u001b[39m  \"\"\"\u001b[39;00m\n\u001b[0;32m--> 962\u001b[0m   \u001b[39mreturn\u001b[39;00m _threefry_seed(seed)\n",
      "    \u001b[0;31m[... skipping hidden 12 frame]\u001b[0m\n",
      "File \u001b[0;32m~/mambaforge/envs/encoding_info/lib/python3.10/site-packages/jax/_src/prng.py:969\u001b[0m, in \u001b[0;36m_threefry_seed\u001b[0;34m(seed)\u001b[0m\n\u001b[1;32m    967\u001b[0m   \u001b[39mraise\u001b[39;00m \u001b[39mTypeError\u001b[39;00m(\u001b[39mf\u001b[39m\u001b[39m\"\u001b[39m\u001b[39mPRNG key seed must be a scalar; got \u001b[39m\u001b[39m{\u001b[39;00mseed\u001b[39m!r}\u001b[39;00m\u001b[39m.\u001b[39m\u001b[39m\"\u001b[39m)\n\u001b[1;32m    968\u001b[0m \u001b[39mif\u001b[39;00m \u001b[39mnot\u001b[39;00m np\u001b[39m.\u001b[39missubdtype(seed\u001b[39m.\u001b[39mdtype, np\u001b[39m.\u001b[39minteger):\n\u001b[0;32m--> 969\u001b[0m   \u001b[39mraise\u001b[39;00m \u001b[39mTypeError\u001b[39;00m(\u001b[39mf\u001b[39m\u001b[39m\"\u001b[39m\u001b[39mPRNG key seed must be an integer; got \u001b[39m\u001b[39m{\u001b[39;00mseed\u001b[39m!r}\u001b[39;00m\u001b[39m\"\u001b[39m)\n\u001b[1;32m    970\u001b[0m convert \u001b[39m=\u001b[39m \u001b[39mlambda\u001b[39;00m k: lax\u001b[39m.\u001b[39mreshape(lax\u001b[39m.\u001b[39mconvert_element_type(k, np\u001b[39m.\u001b[39muint32), [\u001b[39m1\u001b[39m])\n\u001b[1;32m    971\u001b[0m k1 \u001b[39m=\u001b[39m convert(\n\u001b[1;32m    972\u001b[0m     lax\u001b[39m.\u001b[39mshift_right_logical(seed, lax_internal\u001b[39m.\u001b[39m_const(seed, \u001b[39m32\u001b[39m)))\n",
      "\u001b[0;31mTypeError\u001b[0m: PRNG key seed must be an integer; got Traced<ShapedArray(float64[])>with<DynamicJaxprTrace(level=1/0)>"
     ]
    }
   ],
   "source": [
    "patch_size = 25\n",
    "\n",
    "config_dir = '/home/hpinkard_waller/GitRepos/EncodingInformation/led_array/phenotyping_experiments/config_files/complete/'\n",
    "# config_name = 'Synthetic_Noise_Brightfield_300_photons_replicate_1.yaml'\n",
    "# TODO: when theyre all in subfolders, this will need to be changed\n",
    "config_prefix = 'Synthetic_Noise'\n",
    "\n",
    "# make a cached_results directory if it doesn't exist\n",
    "if not os.path.exists('.cached'):\n",
    "    os.makedirs('.cached')\n",
    "\n",
    "results = {}\n",
    "files = os.listdir(config_dir)\n",
    "for i, file in enumerate(files):\n",
    "    print(f'file {i} of {len(files)}')\n",
    "    if not file.startswith(config_prefix):\n",
    "        continue # TODO remove this once subfolders\n",
    "\n",
    "    model_name = file.split('.')[0]\n",
    "\n",
    "    with open(config_dir + file, 'r') as f:\n",
    "        config = yaml.safe_load(f)\n",
    "\n",
    "    mi = estimate_mi(model_name, config, indices, test_dataset_size, patch_size)\n",
    "    results = {**results, **mi}\n",
    "\n",
    "    phenotyping_nll = test_set_phenotyping_nll(model_name, config)\n",
    "    results = {**results, **phenotyping_nll}\n"
   ]
  },
  {
   "cell_type": "markdown",
   "metadata": {},
   "source": [
    "## compute and cache MI estimates"
   ]
  }
 ],
 "metadata": {
  "kernelspec": {
   "display_name": "phenotypes",
   "language": "python",
   "name": "python3"
  },
  "language_info": {
   "codemirror_mode": {
    "name": "ipython",
    "version": 3
   },
   "file_extension": ".py",
   "mimetype": "text/x-python",
   "name": "python",
   "nbconvert_exporter": "python",
   "pygments_lexer": "ipython3",
   "version": "3.10.13"
  }
 },
 "nbformat": 4,
 "nbformat_minor": 2
}
