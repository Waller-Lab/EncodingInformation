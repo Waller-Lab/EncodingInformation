{
 "cells": [
  {
   "cell_type": "code",
   "execution_count": 22,
   "metadata": {},
   "outputs": [
    {
     "name": "stdout",
     "output_type": "stream",
     "text": [
      "The autoreload extension is already loaded. To reload it, use:\n",
      "  %reload_ext autoreload\n",
      "Opening BSCCM\n",
      "Opened BSCCM\n"
     ]
    }
   ],
   "source": [
    "%load_ext autoreload\n",
    "%autoreload 2\n",
    "# this only works on startup!\n",
    "from jax import config\n",
    "config.update(\"jax_enable_x64\", True)\n",
    "\n",
    "import os\n",
    "os.environ[\"CUDA_DEVICE_ORDER\"] = \"PCI_BUS_ID\" \n",
    "os.environ[\"CUDA_VISIBLE_DEVICES\"] = '3'\n",
    "from encoding_information.gpu_utils import limit_gpu_memory_growth\n",
    "limit_gpu_memory_growth()\n",
    "\n",
    "from cleanplots import *\n",
    "from tqdm import tqdm\n",
    "from encoding_information.information_estimation import *\n",
    "from encoding_information.image_utils import *\n",
    "from encoding_information.models.gaussian_process import StationaryGaussianProcess\n",
    "\n",
    "from encoding_information.bsccm_utils import *\n",
    "from bsccm import BSCCM\n",
    "from jax import jit\n",
    "import numpy as np\n",
    "import yaml\n",
    "from led_array.tf_util import prepare_test_dataset\n",
    "import tensorflow.keras as tfk\n",
    "\n",
    "\n",
    "bsccm = BSCCM('/home/hpinkard_waller/data/BSCCM/')"
   ]
  },
  {
   "cell_type": "code",
   "execution_count": 23,
   "metadata": {},
   "outputs": [
    {
     "name": "stdout",
     "output_type": "stream",
     "text": [
      "Brightfield 100 0.0067025289114603995\n",
      "DPC_Right 200 0.18682976686783798\n",
      "LED119 100 0.1737961598447649\n",
      "DPC_Right 100 0.15349971802799633\n",
      "Brightfield 50 0.01649572142894274\n",
      "LED119 50 0.21715179876290358\n",
      "LED119 200 -0.06727053724992393\n",
      "Brightfield 200 -0.007740177124709098\n",
      "DPC_Right 50 0.12765267719660095\n"
     ]
    }
   ],
   "source": [
    "experiment_dir = '/home/hpinkard_waller/models/Synthetic_Noise_v4/'\n",
    "\n",
    "mi_estimates_gp = {}\n",
    "mi_estimates_pixel_cnn = {}\n",
    "phenotype_nlls = {}\n",
    "phenotype_marker_indices = {}\n",
    "for dir_name in os.listdir(experiment_dir):\n",
    "    if 'Analysis' in dir_name:\n",
    "        config_file_name = [d for d in os.listdir(os.path.join(experiment_dir, dir_name)) if '.yaml' in d][0]\n",
    "        config_file_full_path = os.path.join(experiment_dir, dir_name, config_file_name)\n",
    "        config = yaml.load(open(config_file_full_path, 'r'), Loader=yaml.FullLoader)\n",
    "        photons_per_pixel = config['data']['synthetic_noise']['photons_per_pixel']\n",
    "        channel = config['data']['channels'][0]\n",
    "        replicate = config['metadata']['replicate']\n",
    "        saving_dir = os.path.join(experiment_dir, dir_name)\n",
    "        analysis_dir = os.path.join(saving_dir, 'analysis')\n",
    "        mi_estimate_file = np.load(os.path.join(analysis_dir, [f for f in os.listdir(analysis_dir) if 'mi_estimates' in f][0]))\n",
    "        mi_estimates_gp[(channel, photons_per_pixel, replicate)] = mi_estimate_file['mi_gp']\n",
    "\n",
    "        # print the channel, photons and mi_gp\n",
    "        print(channel, photons_per_pixel, mi_estimates_gp[(channel, photons_per_pixel, replicate)])\n",
    "\n",
    "        mi_estimates_pixel_cnn[(channel, photons_per_pixel, replicate)] = mi_estimate_file['mi_pixel_cnn']\n",
    "        nll_file = np.load(os.path.join(analysis_dir, [f for f in os.listdir(analysis_dir) if 'phenotyping_nll' in f][0]))\n",
    "        phenotype_nlls[(channel, photons_per_pixel, replicate)] = nll_file['nlls']\n",
    "        phenotype_marker_indices[(channel, photons_per_pixel, replicate)] = nll_file['marker_indices']\n",
    "    "
   ]
  },
  {
   "cell_type": "code",
   "execution_count": 24,
   "metadata": {},
   "outputs": [
    {
     "data": {
      "text/plain": [
       "['CD45', 'CD123', 'CD19', 'CD56', 'CD14', 'CD16', 'HLA-DR', 'CD3']"
      ]
     },
     "execution_count": 24,
     "metadata": {},
     "output_type": "execute_result"
    }
   ],
   "source": [
    "markers, _, _, _, _ = get_targets_and_display_range(bsccm=bsccm, use_two_spectrum_unmixing=True)\n",
    "markers"
   ]
  },
  {
   "cell_type": "code",
   "execution_count": 25,
   "metadata": {},
   "outputs": [
    {
     "name": "stdout",
     "output_type": "stream",
     "text": [
      "Channel: LED119, photons per pixel: 50, MI: 0.15, NLL: 0.10\n",
      "Channel: LED119, photons per pixel: 100, MI: 0.11, NLL: 0.00\n",
      "Channel: LED119, photons per pixel: 200, MI: -0.18, NLL: 0.05\n"
     ]
    },
    {
     "data": {
      "image/png": "[encoded data removed]",
      "text/plain": [
       "<Figure size 500x500 with 1 Axes>"
      ]
     },
     "metadata": {},
     "output_type": "display_data"
    }
   ],
   "source": [
    "photons_per_pixel = 50\n",
    "\n",
    "mis = []\n",
    "nlls = []\n",
    "# for channel in ['DPC_Right', 'Brightfield', 'LED119']:\n",
    "channel = 'LED119'\n",
    "photons_per_pixel_list = [50, 100, 200]\n",
    "for photons_per_pixel in photons_per_pixel_list:\n",
    "    test_set_nlls = np.array(phenotype_nlls[(channel, photons_per_pixel, 0)])\n",
    "    marker_indices = phenotype_marker_indices[(channel, photons_per_pixel, 0)]\n",
    "    nll = test_set_nlls.mean()\n",
    "    mi = mi_estimates_pixel_cnn[(channel, photons_per_pixel, 0)]\n",
    "    mis.append(mi)\n",
    "    nlls.append(nll)\n",
    "    # print with nice formatting\n",
    "    print(f'Channel: {channel}, photons per pixel: {photons_per_pixel}, MI: {mi:.2f}, NLL: {nll:.2f}')\n",
    "\n",
    "# plot phenotype nll vs mi pixel cnn for 200 photons per pixel\n",
    "fig, ax = plt.subplots(1, 1, figsize=(5, 5))\n",
    "ax.plot(photons_per_pixel_list, mis, 'o')\n",
    "ax.set_xlabel('Photons per pixel')\n",
    "clear_spines(ax)"
   ]
  },
  {
   "cell_type": "code",
   "execution_count": 28,
   "metadata": {},
   "outputs": [],
   "source": [
    "num_images = 1000\n",
    "num_patches = 1000\n",
    "patch_size = 30\n",
    "\n",
    "def estimate_gp_mi(config):\n",
    "    median_filter = True\n",
    "\n",
    "    markers, image_target_generator, dataset_size, display_range, indices = get_bsccm_image_marker_generator(bsccm, **config['data'])\n",
    "    images = load_bsccm_images(bsccm, indices=indices[:num_images], channel=config['data']['channels'][0], \n",
    "                convert_units_to_photons=True, edge_crop=config['data']['synthetic_noise']['edge_crop'],\n",
    "                median_filter=median_filter, verbose=True)\n",
    "\n",
    "    mean_photons_per_pixel = np.mean(images)\n",
    "    rescale_fraction = config['data']['synthetic_noise']['photons_per_pixel'] / mean_photons_per_pixel\n",
    "    if rescale_fraction > 1:\n",
    "        raise Exception('Rescale fraction must be less than 1')\n",
    "\n",
    "    patches = extract_patches(images, patch_size=patch_size, num_patches=num_patches, verbose=True)\n",
    "\n",
    "    if median_filter:\n",
    "        # assume noiseless\n",
    "        noisy_patches = add_noise(patches * rescale_fraction)\n",
    "    else:\n",
    "        noisy_patches = add_shot_noise_to_experimenal_data(patches, rescale_fraction)\n",
    "    clean_patches = patches * rescale_fraction\n",
    "\n",
    "    print('mean pixel_val', np.mean(clean_patches), np.mean(noisy_patches))\n",
    "\n",
    "    mi =  estimate_mutual_information(noisy_patches, clean_images=clean_patches if median_filter else None,\n",
    "                        entropy_model='gaussian', max_epochs=10,\n",
    "                        verbose=True)\n",
    "    return mi\n",
    "\n",
    "\n"
   ]
  },
  {
   "cell_type": "code",
   "execution_count": 30,
   "metadata": {},
   "outputs": [
    {
     "name": "stdout",
     "output_type": "stream",
     "text": [
      "[]\n"
     ]
    }
   ],
   "source": [
    "mis = []\n",
    "\n",
    "for photons_per_pixel in [50, 100, 200]:\n",
    "    channel = 'DPC_Right'\n",
    "    experiment_name = 'Synthetic_Noise_v4_{}_{}photons_replicate_0'.format(channel, photons_per_pixel)\n",
    "    config_file_full_path = os.path.join(experiment_dir, experiment_name, experiment_name + '.yaml')\n",
    "    config = yaml.load(open(config_file_full_path, 'r'), Loader=yaml.FullLoader)\n",
    "    break\n",
    "    mis.append(estimate_gp_mi(config))\n",
    "\n",
    "print(mis)"
   ]
  },
  {
   "cell_type": "code",
   "execution_count": null,
   "metadata": {},
   "outputs": [],
   "source": [
    "\n",
    "markers, image_target_generator, dataset_size, display_range, indices = get_bsccm_image_marker_generator(bsccm, **config['data'])\n",
    "images = load_bsccm_images(bsccm, indices=indices[:num_images], channel=config['data']['channels'][0], \n",
    "            convert_units_to_photons=True, edge_crop=config['data']['synthetic_noise']['edge_crop'],\n",
    "            median_filter=median_filter, verbose=True)\n"
   ]
  }
 ],
 "metadata": {
  "kernelspec": {
   "display_name": "encoding_info",
   "language": "python",
   "name": "python3"
  },
  "language_info": {
   "codemirror_mode": {
    "name": "ipython",
    "version": 3
   },
   "file_extension": ".py",
   "mimetype": "text/x-python",
   "name": "python",
   "nbconvert_exporter": "python",
   "pygments_lexer": "ipython3",
   "version": "3.10.13"
  }
 },
 "nbformat": 4,
 "nbformat_minor": 2
}
