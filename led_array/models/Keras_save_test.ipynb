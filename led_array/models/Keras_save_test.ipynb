{
 "cells": [
  {
   "cell_type": "code",
   "execution_count": 2,
   "id": "3ee52b3b-80a8-41e0-a068-0d680c9a9401",
   "metadata": {},
   "outputs": [
    {
     "name": "stdout",
     "output_type": "stream",
     "text": [
      "WARNING:tensorflow:Compiled the loaded model, but the compiled metrics have yet to be built. `model.compile_metrics` will be empty until you train or evaluate the model.\n"
     ]
    }
   ],
   "source": [
    "import tensorflow.keras as tfk\n",
    "import tensorflow_probability as tfp\n",
    "import os\n",
    "\n",
    "os.environ[\"CUDA_DEVICE_ORDER\"] = \"PCI_BUS_ID\" \n",
    "os.environ[\"CUDA_VISIBLE_DEVICES\"] = \"1\"\n",
    "\n",
    "input_shape = (28, )\n",
    "\n",
    "inputs = tfk.Input(shape=input_shape)\n",
    "x = tfk.layers.Dense(9)(inputs)\n",
    "out = tfp.layers.MixtureLogistic(9, [1,])(x)\n",
    "\n",
    "model = tfk.Model(inputs, out)\n",
    "\n",
    "tfk.models.save_model(model, '/home/hpinkard_waller/' + 'test', save_format='h5')\n",
    "\n",
    "\n",
    "tfk.callbacks.ModelCheckpoint(filepath=model_dir, monitor=monitor, save_best_only=True),\n",
    "tfk.callbacks.TensorBoard(log_dir=tensorboard_dir)\n"
   ]
  },
  {
   "cell_type": "code",
   "execution_count": 4,
   "id": "d8eb9148-c7a5-4819-a6b1-6b5da33898b4",
   "metadata": {},
   "outputs": [],
   "source": [
    "inputs = tfk.Input(shape=input_shape)\n"
   ]
  },
  {
   "cell_type": "code",
   "execution_count": 5,
   "id": "f7bb384d-5ed8-4f9a-901e-905ae9b952f2",
   "metadata": {},
   "outputs": [],
   "source": [
    "x = tfk.layers.Dense(9)"
   ]
  },
  {
   "cell_type": "code",
   "execution_count": 6,
   "id": "49b88cb9-4fbf-4961-b17e-d584b9ce55ba",
   "metadata": {},
   "outputs": [
    {
     "name": "stderr",
     "output_type": "stream",
     "text": [
      "2022-11-11 12:26:27.647259: I tensorflow/core/platform/cpu_feature_guard.cc:193] This TensorFlow binary is optimized with oneAPI Deep Neural Network Library (oneDNN) to use the following CPU instructions in performance-critical operations:  SSE4.1 SSE4.2 AVX AVX2 AVX512F AVX512_VNNI FMA\n",
      "To enable them in other operations, rebuild TensorFlow with the appropriate compiler flags.\n",
      "2022-11-11 12:26:28.389250: I tensorflow/core/common_runtime/gpu/gpu_device.cc:1616] Created device /job:localhost/replica:0/task:0/device:GPU:0 with 11413 MB memory:  -> device: 0, name: NVIDIA TITAN Xp, pci bus id: 0000:3b:00.0, compute capability: 6.1\n"
     ]
    }
   ],
   "source": [
    "x = x(inputs)"
   ]
  },
  {
   "cell_type": "code",
   "execution_count": 4,
   "id": "726ad5fe-b613-45b7-8575-15aa3ecfa8f4",
   "metadata": {},
   "outputs": [
    {
     "data": {
      "text/plain": [
       "<keras.layers.core.dense.Dense at 0x7f63a06df220>"
      ]
     },
     "execution_count": 4,
     "metadata": {},
     "output_type": "execute_result"
    }
   ],
   "source": [
    "x"
   ]
  }
 ],
 "metadata": {
  "kernelspec": {
   "display_name": "Python 3 (ipykernel)",
   "language": "python",
   "name": "python3"
  },
  "language_info": {
   "codemirror_mode": {
    "name": "ipython",
    "version": 3
   },
   "file_extension": ".py",
   "mimetype": "text/x-python",
   "name": "python",
   "nbconvert_exporter": "python",
   "pygments_lexer": "ipython3",
   "version": "3.10.6"
  }
 },
 "nbformat": 4,
 "nbformat_minor": 5
}
