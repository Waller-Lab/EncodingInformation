{
 "cells": [
  {
   "cell_type": "code",
   "execution_count": 4,
   "metadata": {},
   "outputs": [
    {
     "name": "stdout",
     "output_type": "stream",
     "text": [
      "The autoreload extension is already loaded. To reload it, use:\n",
      "  %reload_ext autoreload\n",
      "Identity\n",
      "True entropy:  28.37877\n",
      "KL NN entropy estimate:  29.093527\n",
      "\n",
      "Random\n",
      "True entropy:  10.929836\n",
      "KL NN entropy estimate:  18.432587\n",
      "\n"
     ]
    }
   ],
   "source": [
    "import os\n",
    "os.environ[\"CUDA_DEVICE_ORDER\"] = \"PCI_BUS_ID\" \n",
    "os.environ[\"CUDA_VISIBLE_DEVICES\"] = '0'\n",
    "\n",
    "import numpy as onp\n",
    "import jax.numpy as np\n",
    "from jax.scipy.special import digamma, gammaln\n",
    "\n",
    "def nearest_neighbors_distance(X, k):\n",
    "    \"\"\"\n",
    "    Compute the distance to the kth nearest neighbor for each point in X by\n",
    "    exhaustively searching all points in X.\n",
    "    \n",
    "    X : ndarray, shape (n_samples, W, H) or (n_samples, num_features)\n",
    "    k : int\n",
    "    \"\"\"\n",
    "    X = X.reshape(X.shape[0], -1)\n",
    "    distance_matrix = np.sum((X[:, None, :] - X[None, :, :]) ** 2, axis=-1)\n",
    "    kth_nn_index = np.argsort(distance_matrix, axis=-1)[:, k]\n",
    "    kth_nn = X[kth_nn_index, :]\n",
    "    kth_nn_dist = np.sqrt(np.sum((X - kth_nn)**2, axis=-1))\n",
    "    return kth_nn_dist\n",
    "\n",
    "\n",
    "def nearest_neighbors_entropy_estimate(X, k):\n",
    "    nn = nearest_neighbors_distance(X, k)\n",
    "    N, d = X.shape\n",
    "\n",
    "    # compute the log volume of the d-dimensional ball with raidus of the nearest neighbor distance\n",
    "    log_vd = d * np.log(nn) + d/2 * np.log(np.pi) - gammaln(d/2 + 1)\n",
    "    h = np.log(k) - digamma(k) + np.mean(log_vd + np.log(N) - np.log(k))\n",
    "    return h \n",
    "\n",
    "\n",
    "def multivariate_gaussian_entropy(cov_matrix):\n",
    "    \"\"\"\n",
    "    Numerically stable computation of the analytics entropy of a multivariate gaussian\n",
    "    \"\"\"\n",
    "    d = cov_matrix.shape[0]\n",
    "    det_cov_matrix = np.linalg.det(cov_matrix)\n",
    "    if np.isinf(det_cov_matrix):\n",
    "        raise ValueError('Determinant of covariance matrix is infinite')\n",
    "    entropy = 0.5 * d * np.log(2 * np.pi * np.e) + 0.5 * np.sum(np.log(np.linalg.eigvalsh(cov_matrix)))\n",
    "    return entropy\n",
    "\n",
    "\n",
    "num_samples = 10000\n",
    "num_dimensions = 20\n",
    "\n",
    "# make a random covariance matrix\n",
    "cov_mat = onp.random.randn(num_dimensions, num_dimensions)\n",
    "cov_mat = cov_mat.T @ cov_mat\n",
    "cov_mat_random = cov_mat / np.max(cov_mat) # for numerical stability\n",
    "\n",
    "# identity covariance matrix\n",
    "cov_mat_identity = np.eye(num_dimensions)\n",
    "\n",
    "\n",
    "for cov_mat, name in zip([cov_mat_identity, cov_mat_random], ['Identity', 'Random']):\n",
    "    print(name)\n",
    "    X = onp.random.multivariate_normal(np.zeros(cov_mat.shape[0]), cov_mat, size=num_samples)    \n",
    "    entropy_true = multivariate_gaussian_entropy(cov_mat)\n",
    "    entropy_nn = nearest_neighbors_entropy_estimate(X, 3)\n",
    "    print('True entropy: ', entropy_true)\n",
    "    print('KL NN entropy estimate: ', entropy_nn)\n",
    "    print('')\n"
   ]
  }
 ],
 "metadata": {
  "kernelspec": {
   "display_name": "phenotypes",
   "language": "python",
   "name": "python3"
  },
  "language_info": {
   "codemirror_mode": {
    "name": "ipython",
    "version": 3
   },
   "file_extension": ".py",
   "mimetype": "text/x-python",
   "name": "python",
   "nbconvert_exporter": "python",
   "pygments_lexer": "ipython3",
   "version": "3.10.6"
  },
  "orig_nbformat": 4
 },
 "nbformat": 4,
 "nbformat_minor": 2
}
