{
 "cells": [
  {
   "cell_type": "code",
   "execution_count": 5,
   "metadata": {},
   "outputs": [
    {
     "name": "stdout",
     "output_type": "stream",
     "text": [
      "The autoreload extension is already loaded. To reload it, use:\n",
      "  %reload_ext autoreload\n",
      "Opening BSCCM\n",
      "Opened BSCCM\n"
     ]
    }
   ],
   "source": [
    "%load_ext autoreload\n",
    "%autoreload 2\n",
    "# this only works on startup!\n",
    "from jax import config\n",
    "config.update(\"jax_enable_x64\", True)\n",
    "\n",
    "import os\n",
    "os.environ[\"CUDA_DEVICE_ORDER\"] = \"PCI_BUS_ID\" \n",
    "os.environ[\"CUDA_VISIBLE_DEVICES\"] = '3'\n",
    "from encoding_information.gpu_utils import limit_gpu_memory_growth\n",
    "limit_gpu_memory_growth()\n",
    "\n",
    "from cleanplots import *\n",
    "from tqdm import tqdm\n",
    "from encoding_information.information_estimation import *\n",
    "from encoding_information.image_utils import *\n",
    "from encoding_information.bsccm_utils import *\n",
    "from bsccm import BSCCM\n",
    "from jax import jit\n",
    "import numpy as onp\n",
    "import jax.numpy as np\n",
    "\n",
    "bsccm = BSCCM('/home/hpinkard_waller/data/BSCCM/')"
   ]
  },
  {
   "cell_type": "markdown",
   "metadata": {},
   "source": [
    "## MI vs num photons"
   ]
  },
  {
   "cell_type": "code",
   "execution_count": 8,
   "metadata": {},
   "outputs": [
    {
     "name": "stderr",
     "output_type": "stream",
     "text": [
      "  0%|          | 0/3 [00:00<?, ?it/s]"
     ]
    },
    {
     "name": "stderr",
     "output_type": "stream",
     "text": [
      "/home/hpinkard_waller/GitRepos/EncodingInformation/encoding_information/information_estimation.py:203: UserWarning: Mean pixel value is 19.87. More accurate results can probably be obtainedby setting estimate_conditional_from_model_samples=True\n",
      "  warnings.warn(f\"Mean pixel value is {np.mean(clean_images_if_available):.2f}. More accurate results can probably be obtained\"\n",
      "/home/hpinkard_waller/GitRepos/EncodingInformation/encoding_information/information_estimation.py:203: UserWarning: Mean pixel value is 19.80. More accurate results can probably be obtainedby setting estimate_conditional_from_model_samples=True\n",
      "  warnings.warn(f\"Mean pixel value is {np.mean(clean_images_if_available):.2f}. More accurate results can probably be obtained\"\n",
      "Running bootstraps: 100%|██████████| 3/3 [00:09<00:00,  3.12s/it]\n",
      "/home/hpinkard_waller/GitRepos/EncodingInformation/encoding_information/information_estimation.py:203: UserWarning: Mean pixel value is 19.88. More accurate results can probably be obtainedby setting estimate_conditional_from_model_samples=True\n",
      "  warnings.warn(f\"Mean pixel value is {np.mean(clean_images_if_available):.2f}. More accurate results can probably be obtained\"\n",
      "Running bootstraps:   0%|          | 0/3 [00:05<?, ?it/s]\n",
      "  0%|          | 0/3 [00:20<?, ?it/s]\n"
     ]
    },
    {
     "ename": "ValueError",
     "evalue": "Number of validation samples must be less than the number of training samples",
     "output_type": "error",
     "traceback": [
      "\u001b[0;31m---------------------------------------------------------------------------\u001b[0m",
      "\u001b[0;31mValueError\u001b[0m                                Traceback (most recent call last)",
      "\u001b[1;32m/home/hpinkard_waller/GitRepos/EncodingInformation/mi_estimator_experiments/analytic_gaussian_entropy_vs_test_set_nll.ipynb Cell 3\u001b[0m line \u001b[0;36m4\n\u001b[1;32m     <a href='vscode-notebook-cell://ssh-remote%2B169.229.228.36/home/hpinkard_waller/GitRepos/EncodingInformation/mi_estimator_experiments/analytic_gaussian_entropy_vs_test_set_nll.ipynb#W5sdnNjb2RlLXJlbW90ZQ%3D%3D?line=37'>38</a>\u001b[0m mi_means_by_channel_photons[channel_name]\u001b[39m.\u001b[39mappend(mi_mean)\n\u001b[1;32m     <a href='vscode-notebook-cell://ssh-remote%2B169.229.228.36/home/hpinkard_waller/GitRepos/EncodingInformation/mi_estimator_experiments/analytic_gaussian_entropy_vs_test_set_nll.ipynb#W5sdnNjb2RlLXJlbW90ZQ%3D%3D?line=38'>39</a>\u001b[0m mi_confidences_by_channel_photons[channel_name]\u001b[39m.\u001b[39mappend(mi_confidence)\n\u001b[0;32m---> <a href='vscode-notebook-cell://ssh-remote%2B169.229.228.36/home/hpinkard_waller/GitRepos/EncodingInformation/mi_estimator_experiments/analytic_gaussian_entropy_vs_test_set_nll.ipynb#W5sdnNjb2RlLXJlbW90ZQ%3D%3D?line=40'>41</a>\u001b[0m mi_mean_pixel_cnn, mi_confidence_pixel_cnn \u001b[39m=\u001b[39m run_bootstrap(noisy_patches, num_bootstrap_samples\u001b[39m=\u001b[39;49mnum_bootstrap_samples, confidence_interval\u001b[39m=\u001b[39;49mconfidence_interval,\n\u001b[1;32m     <a href='vscode-notebook-cell://ssh-remote%2B169.229.228.36/home/hpinkard_waller/GitRepos/EncodingInformation/mi_estimator_experiments/analytic_gaussian_entropy_vs_test_set_nll.ipynb#W5sdnNjb2RlLXJlbW90ZQ%3D%3D?line=41'>42</a>\u001b[0m             estimation_fn\u001b[39m=\u001b[39;49m\u001b[39mlambda\u001b[39;49;00m noisy_images: estimate_mutual_information(noisy_images\u001b[39m=\u001b[39;49mnoisy_images, entropy_model\u001b[39m=\u001b[39;49m\u001b[39m'\u001b[39;49m\u001b[39mpixel_cnn\u001b[39;49m\u001b[39m'\u001b[39;49m,verbose\u001b[39m=\u001b[39;49m\u001b[39mFalse\u001b[39;49;00m),\n\u001b[1;32m     <a href='vscode-notebook-cell://ssh-remote%2B169.229.228.36/home/hpinkard_waller/GitRepos/EncodingInformation/mi_estimator_experiments/analytic_gaussian_entropy_vs_test_set_nll.ipynb#W5sdnNjb2RlLXJlbW90ZQ%3D%3D?line=42'>43</a>\u001b[0m               verbose\u001b[39m=\u001b[39;49m\u001b[39mTrue\u001b[39;49;00m)\n\u001b[1;32m     <a href='vscode-notebook-cell://ssh-remote%2B169.229.228.36/home/hpinkard_waller/GitRepos/EncodingInformation/mi_estimator_experiments/analytic_gaussian_entropy_vs_test_set_nll.ipynb#W5sdnNjb2RlLXJlbW90ZQ%3D%3D?line=43'>44</a>\u001b[0m mi_means_by_channel_photons_pixel_cnn[channel_name]\u001b[39m.\u001b[39mappend(mi_mean_pixel_cnn)\n\u001b[1;32m     <a href='vscode-notebook-cell://ssh-remote%2B169.229.228.36/home/hpinkard_waller/GitRepos/EncodingInformation/mi_estimator_experiments/analytic_gaussian_entropy_vs_test_set_nll.ipynb#W5sdnNjb2RlLXJlbW90ZQ%3D%3D?line=44'>45</a>\u001b[0m mi_confidences_by_channel_photons_pixel_cnn[channel_name]\u001b[39m.\u001b[39mappend(mi_confidence_pixel_cnn)\n",
      "File \u001b[0;32m~/GitRepos/EncodingInformation/encoding_information/information_estimation.py:141\u001b[0m, in \u001b[0;36mrun_bootstrap\u001b[0;34m(data, estimation_fn, num_bootstrap_samples, confidence_interval, seed, verbose)\u001b[0m\n\u001b[1;32m    139\u001b[0m \u001b[39mif\u001b[39;00m \u001b[39mnot\u001b[39;00m \u001b[39misinstance\u001b[39m(data, \u001b[39mdict\u001b[39m):\n\u001b[1;32m    140\u001b[0m     data_sample \u001b[39m=\u001b[39m jax\u001b[39m.\u001b[39mrandom\u001b[39m.\u001b[39mchoice(subkey, data, shape\u001b[39m=\u001b[39m(N,), replace\u001b[39m=\u001b[39m\u001b[39mTrue\u001b[39;00m)\n\u001b[0;32m--> 141\u001b[0m     results\u001b[39m.\u001b[39mappend(estimation_fn(data_sample))\n\u001b[1;32m    142\u001b[0m \u001b[39melse\u001b[39;00m:\n\u001b[1;32m    143\u001b[0m     data_samples \u001b[39m=\u001b[39m {}\n",
      "\u001b[1;32m/home/hpinkard_waller/GitRepos/EncodingInformation/mi_estimator_experiments/analytic_gaussian_entropy_vs_test_set_nll.ipynb Cell 3\u001b[0m line \u001b[0;36m4\n\u001b[1;32m     <a href='vscode-notebook-cell://ssh-remote%2B169.229.228.36/home/hpinkard_waller/GitRepos/EncodingInformation/mi_estimator_experiments/analytic_gaussian_entropy_vs_test_set_nll.ipynb#W5sdnNjb2RlLXJlbW90ZQ%3D%3D?line=37'>38</a>\u001b[0m mi_means_by_channel_photons[channel_name]\u001b[39m.\u001b[39mappend(mi_mean)\n\u001b[1;32m     <a href='vscode-notebook-cell://ssh-remote%2B169.229.228.36/home/hpinkard_waller/GitRepos/EncodingInformation/mi_estimator_experiments/analytic_gaussian_entropy_vs_test_set_nll.ipynb#W5sdnNjb2RlLXJlbW90ZQ%3D%3D?line=38'>39</a>\u001b[0m mi_confidences_by_channel_photons[channel_name]\u001b[39m.\u001b[39mappend(mi_confidence)\n\u001b[1;32m     <a href='vscode-notebook-cell://ssh-remote%2B169.229.228.36/home/hpinkard_waller/GitRepos/EncodingInformation/mi_estimator_experiments/analytic_gaussian_entropy_vs_test_set_nll.ipynb#W5sdnNjb2RlLXJlbW90ZQ%3D%3D?line=40'>41</a>\u001b[0m mi_mean_pixel_cnn, mi_confidence_pixel_cnn \u001b[39m=\u001b[39m run_bootstrap(noisy_patches, num_bootstrap_samples\u001b[39m=\u001b[39mnum_bootstrap_samples, confidence_interval\u001b[39m=\u001b[39mconfidence_interval,\n\u001b[0;32m---> <a href='vscode-notebook-cell://ssh-remote%2B169.229.228.36/home/hpinkard_waller/GitRepos/EncodingInformation/mi_estimator_experiments/analytic_gaussian_entropy_vs_test_set_nll.ipynb#W5sdnNjb2RlLXJlbW90ZQ%3D%3D?line=41'>42</a>\u001b[0m             estimation_fn\u001b[39m=\u001b[39m\u001b[39mlambda\u001b[39;00m noisy_images: estimate_mutual_information(noisy_images\u001b[39m=\u001b[39;49mnoisy_images, entropy_model\u001b[39m=\u001b[39;49m\u001b[39m'\u001b[39;49m\u001b[39mpixel_cnn\u001b[39;49m\u001b[39m'\u001b[39;49m,verbose\u001b[39m=\u001b[39;49m\u001b[39mFalse\u001b[39;49;00m),\n\u001b[1;32m     <a href='vscode-notebook-cell://ssh-remote%2B169.229.228.36/home/hpinkard_waller/GitRepos/EncodingInformation/mi_estimator_experiments/analytic_gaussian_entropy_vs_test_set_nll.ipynb#W5sdnNjb2RlLXJlbW90ZQ%3D%3D?line=42'>43</a>\u001b[0m               verbose\u001b[39m=\u001b[39m\u001b[39mTrue\u001b[39;00m)\n\u001b[1;32m     <a href='vscode-notebook-cell://ssh-remote%2B169.229.228.36/home/hpinkard_waller/GitRepos/EncodingInformation/mi_estimator_experiments/analytic_gaussian_entropy_vs_test_set_nll.ipynb#W5sdnNjb2RlLXJlbW90ZQ%3D%3D?line=43'>44</a>\u001b[0m mi_means_by_channel_photons_pixel_cnn[channel_name]\u001b[39m.\u001b[39mappend(mi_mean_pixel_cnn)\n\u001b[1;32m     <a href='vscode-notebook-cell://ssh-remote%2B169.229.228.36/home/hpinkard_waller/GitRepos/EncodingInformation/mi_estimator_experiments/analytic_gaussian_entropy_vs_test_set_nll.ipynb#W5sdnNjb2RlLXJlbW90ZQ%3D%3D?line=44'>45</a>\u001b[0m mi_confidences_by_channel_photons_pixel_cnn[channel_name]\u001b[39m.\u001b[39mappend(mi_confidence_pixel_cnn)\n",
      "File \u001b[0;32m~/GitRepos/EncodingInformation/encoding_information/information_estimation.py:244\u001b[0m, in \u001b[0;36mestimate_mutual_information\u001b[0;34m(noisy_images, clean_images, entropy_model, test_set_fraction, gaussian_noise_sigma, estimate_conditional_from_model_samples, patience, num_val_samples, batch_size, max_epochs, learning_rate, use_iterative_optimization, eigenvalue_floor, gradient_clip, momentum, analytic_marginal_entropy, steps_per_epoch, num_hidden_channels, num_mixture_components, return_entropy_model, verbose)\u001b[0m\n\u001b[1;32m    242\u001b[0m             \u001b[39mif\u001b[39;00m v \u001b[39mis\u001b[39;00m \u001b[39mnot\u001b[39;00m \u001b[39mNone\u001b[39;00m:\n\u001b[1;32m    243\u001b[0m              hyperparams[k] \u001b[39m=\u001b[39m v\n\u001b[0;32m--> 244\u001b[0m     noisy_image_model\u001b[39m.\u001b[39;49mfit(training_set, verbose\u001b[39m=\u001b[39;49mverbose, \u001b[39m*\u001b[39;49m\u001b[39m*\u001b[39;49mhyperparams)\n\u001b[1;32m    245\u001b[0m \u001b[39melse\u001b[39;00m:\n\u001b[1;32m    246\u001b[0m     \u001b[39mraise\u001b[39;00m \u001b[39mValueError\u001b[39;00m(\u001b[39mf\u001b[39m\u001b[39m\"\u001b[39m\u001b[39mUnrecognized entropy model \u001b[39m\u001b[39m{\u001b[39;00mentropy_model\u001b[39m}\u001b[39;00m\u001b[39m\"\u001b[39m)\n",
      "File \u001b[0;32m~/GitRepos/EncodingInformation/encoding_information/models/pixel_cnn.py:293\u001b[0m, in \u001b[0;36mPixelCNN.fit\u001b[0;34m(self, train_images, learning_rate, max_epochs, steps_per_epoch, patience, sigma_min, batch_size, num_val_samples, seed, verbose)\u001b[0m\n\u001b[1;32m    289\u001b[0m         \u001b[39mreturn\u001b[39;00m \u001b[39mself\u001b[39m\u001b[39m.\u001b[39m_flax_model\u001b[39m.\u001b[39mcompute_loss(\u001b[39m*\u001b[39moutput, x)\n\u001b[1;32m    291\u001b[0m     \u001b[39mself\u001b[39m\u001b[39m.\u001b[39m_state \u001b[39m=\u001b[39m TrainState\u001b[39m.\u001b[39mcreate(apply_fn\u001b[39m=\u001b[39mapply_fn, params\u001b[39m=\u001b[39minitial_params, tx\u001b[39m=\u001b[39m\u001b[39mself\u001b[39m\u001b[39m.\u001b[39m_optimizer)        \n\u001b[0;32m--> 293\u001b[0m best_params, val_loss_history \u001b[39m=\u001b[39m train_model(train_images\u001b[39m=\u001b[39;49mtrain_images, state\u001b[39m=\u001b[39;49m\u001b[39mself\u001b[39;49m\u001b[39m.\u001b[39;49m_state, batch_size\u001b[39m=\u001b[39;49mbatch_size, num_val_samples\u001b[39m=\u001b[39;49m\u001b[39mint\u001b[39;49m(num_val_samples),\n\u001b[1;32m    294\u001b[0m                                             steps_per_epoch\u001b[39m=\u001b[39;49msteps_per_epoch, num_epochs\u001b[39m=\u001b[39;49mmax_epochs, patience\u001b[39m=\u001b[39;49mpatience, verbose\u001b[39m=\u001b[39;49mverbose)\n\u001b[1;32m    295\u001b[0m \u001b[39mself\u001b[39m\u001b[39m.\u001b[39m_state \u001b[39m=\u001b[39m \u001b[39mself\u001b[39m\u001b[39m.\u001b[39m_state\u001b[39m.\u001b[39mreplace(params\u001b[39m=\u001b[39mbest_params)\n\u001b[1;32m    296\u001b[0m \u001b[39mreturn\u001b[39;00m val_loss_history\n",
      "File \u001b[0;32m~/GitRepos/EncodingInformation/encoding_information/models/image_distribution_models.py:173\u001b[0m, in \u001b[0;36mtrain_model\u001b[0;34m(train_images, state, batch_size, num_val_samples, steps_per_epoch, num_epochs, patience, train_step, verbose)\u001b[0m\n\u001b[1;32m    169\u001b[0m \u001b[39m\u001b[39m\u001b[39m\"\"\"\u001b[39;00m\n\u001b[1;32m    170\u001b[0m \u001b[39mTraining loop with early stopping. Returns a callable with \u001b[39;00m\n\u001b[1;32m    171\u001b[0m \u001b[39m\"\"\"\u001b[39;00m\n\u001b[1;32m    172\u001b[0m \u001b[39mif\u001b[39;00m num_val_samples \u001b[39m>\u001b[39m\u001b[39m=\u001b[39m train_images\u001b[39m.\u001b[39mshape[\u001b[39m0\u001b[39m]:\n\u001b[0;32m--> 173\u001b[0m     \u001b[39mraise\u001b[39;00m \u001b[39mValueError\u001b[39;00m(\u001b[39m\"\u001b[39m\u001b[39mNumber of validation samples must be less than the number of training samples\u001b[39m\u001b[39m\"\u001b[39m)\n\u001b[1;32m    174\u001b[0m train_ds_iterator, val_loader_maker_fn \u001b[39m=\u001b[39m _make_dataset_generators(train_images, batch_size\u001b[39m=\u001b[39mbatch_size, num_val_samples\u001b[39m=\u001b[39mnum_val_samples)\n\u001b[1;32m    176\u001b[0m \u001b[39mif\u001b[39;00m train_step \u001b[39mis\u001b[39;00m \u001b[39mNone\u001b[39;00m:\n",
      "\u001b[0;31mValueError\u001b[0m: Number of validation samples must be less than the number of training samples"
     ]
    }
   ],
   "source": [
    "channel_names = ['Brightfield', 'DPC_Right', 'LED119' ]\n",
    "edge_crop = 32\n",
    "num_images = 5000\n",
    "num_patches = 5000\n",
    "photons_per_pixel = [20, 40, 80, 160, 300]\n",
    "num_bootstrap_samples = 20\n",
    "confidence_interval = 90\n",
    "patch_size = 20\n",
    "\n",
    "# patch_size = 5\n",
    "# num_bootstrap_samples = 3\n",
    "# num_images = 500\n",
    "# num_patches = 500\n",
    "# photons_per_pixel = [20, 200]\n",
    "\n",
    "mi_means_by_channel_photons = {}\n",
    "mi_confidences_by_channel_photons = {}\n",
    "mi_means_by_channel_photons_pixel_cnn = {}\n",
    "mi_confidences_by_channel_photons_pixel_cnn = {}\n",
    "mi_means_by_channel_photons_analytic = {}\n",
    "mi_confidences_by_channel_photons_analytic = {}\n",
    "for channel_name in tqdm(channel_names):\n",
    "    mi_means_by_channel_photons[channel_name] = []\n",
    "    mi_confidences_by_channel_photons[channel_name] = []\n",
    "    mi_means_by_channel_photons_pixel_cnn[channel_name] = []\n",
    "    mi_confidences_by_channel_photons_pixel_cnn[channel_name] = []\n",
    "    mi_means_by_channel_photons_analytic[channel_name] = []\n",
    "    mi_confidences_by_channel_photons_analytic[channel_name] = []\n",
    "\n",
    "    images = load_bsccm_images(bsccm, channel_name, num_images=num_images, edge_crop=edge_crop, convert_units_to_photons=True, median_filter=False, verbose=False)\n",
    "    for num_photons in photons_per_pixel:\n",
    "        patches = extract_patches(images, patch_size=patch_size, num_patches=num_patches, verbose=False)\n",
    "        noisy_patches = add_shot_noise_to_experimenal_data(patches, num_photons / np.mean(images))\n",
    "\n",
    "        mi_mean, mi_confidence = run_bootstrap(noisy_patches, num_bootstrap_samples=num_bootstrap_samples, confidence_interval=confidence_interval, \n",
    "                    estimation_fn=lambda noisy_images: estimate_mutual_information(noisy_images=noisy_images, verbose=False),\n",
    "                      verbose=True)\n",
    "        mi_means_by_channel_photons[channel_name].append(mi_mean)\n",
    "        mi_confidences_by_channel_photons[channel_name].append(mi_confidence)\n",
    "\n",
    "        mi_mean_pixel_cnn, mi_confidence_pixel_cnn = run_bootstrap(noisy_patches, num_bootstrap_samples=num_bootstrap_samples, confidence_interval=confidence_interval,\n",
    "                    estimation_fn=lambda noisy_images: estimate_mutual_information(noisy_images=noisy_images, entropy_model='pixel_cnn',verbose=False),\n",
    "                      verbose=True)\n",
    "        mi_means_by_channel_photons_pixel_cnn[channel_name].append(mi_mean_pixel_cnn)\n",
    "        mi_confidences_by_channel_photons_pixel_cnn[channel_name].append(mi_confidence_pixel_cnn)\n",
    "\n",
    "        mi_mean_analytic, mi_confidence_analytic =  run_bootstrap(noisy_patches, num_bootstrap_samples=num_bootstrap_samples, confidence_interval=confidence_interval, \n",
    "                    estimation_fn=lambda noisy_images: estimate_mutual_information(noisy_images=noisy_images, verbose=False,  analytic_marginal_entropy=True),\n",
    "                      verbose=True)\n",
    "        mi_means_by_channel_photons_analytic[channel_name].append(mi_mean_analytic)\n",
    "        mi_confidences_by_channel_photons_analytic[channel_name].append(mi_confidence_analytic)\n",
    "    \n",
    "mi_means_by_channel_photons = {channel: np.array(v) for channel, v in mi_means_by_channel_photons.items()}\n",
    "mi_confidences_by_channel_photons = {channel: np.array(v) for channel, v in mi_confidences_by_channel_photons.items()}\n",
    "mi_means_by_channel_photons_pixel_cnn = {channel: np.array(v) for channel, v in mi_means_by_channel_photons_pixel_cnn.items()}\n",
    "mi_confidences_by_channel_photons_pixel_cnn = {channel: np.array(v) for channel, v in mi_confidences_by_channel_photons_pixel_cnn.items()}\n",
    "mi_means_by_channel_photons_analytic = {channel: np.array(v) for channel, v in mi_means_by_channel_photons_analytic.items()}\n",
    "mi_confidences_by_channel_photons_analytic = {channel: np.array(v) for channel, v in mi_confidences_by_channel_photons_analytic.items()}"
   ]
  },
  {
   "cell_type": "code",
   "execution_count": 4,
   "metadata": {},
   "outputs": [
    {
     "ename": "NameError",
     "evalue": "name 'mi_means_by_channel_photons' is not defined",
     "output_type": "error",
     "traceback": [
      "\u001b[0;31m---------------------------------------------------------------------------\u001b[0m",
      "\u001b[0;31mNameError\u001b[0m                                 Traceback (most recent call last)",
      "\u001b[1;32m/home/hpinkard_waller/GitRepos/EncodingInformation/mi_estimator_experiments/analytic_gaussian_entropy_vs_test_set_nll.ipynb Cell 4\u001b[0m line \u001b[0;36m5\n\u001b[1;32m      <a href='vscode-notebook-cell://ssh-remote%2B169.229.228.36/home/hpinkard_waller/GitRepos/EncodingInformation/mi_estimator_experiments/analytic_gaussian_entropy_vs_test_set_nll.ipynb#W6sdnNjb2RlLXJlbW90ZQ%3D%3D?line=2'>3</a>\u001b[0m colors \u001b[39m=\u001b[39m  get_color_cycle()\n\u001b[1;32m      <a href='vscode-notebook-cell://ssh-remote%2B169.229.228.36/home/hpinkard_waller/GitRepos/EncodingInformation/mi_estimator_experiments/analytic_gaussian_entropy_vs_test_set_nll.ipynb#W6sdnNjb2RlLXJlbW90ZQ%3D%3D?line=3'>4</a>\u001b[0m fig, ax \u001b[39m=\u001b[39m plt\u001b[39m.\u001b[39msubplots(\u001b[39m1\u001b[39m, \u001b[39m1\u001b[39m, figsize\u001b[39m=\u001b[39m(\u001b[39m5\u001b[39m, \u001b[39m5\u001b[39m))\n\u001b[0;32m----> <a href='vscode-notebook-cell://ssh-remote%2B169.229.228.36/home/hpinkard_waller/GitRepos/EncodingInformation/mi_estimator_experiments/analytic_gaussian_entropy_vs_test_set_nll.ipynb#W6sdnNjb2RlLXJlbW90ZQ%3D%3D?line=4'>5</a>\u001b[0m ax\u001b[39m.\u001b[39mplot(photons_per_pixel, mi_means_by_channel_photons[\u001b[39m'\u001b[39m\u001b[39mBrightfield\u001b[39m\u001b[39m'\u001b[39m], label\u001b[39m=\u001b[39mget_display_channel_names(\u001b[39m'\u001b[39m\u001b[39mBrightfield\u001b[39m\u001b[39m'\u001b[39m), color\u001b[39m=\u001b[39mcolors[\u001b[39m0\u001b[39m])\n\u001b[1;32m      <a href='vscode-notebook-cell://ssh-remote%2B169.229.228.36/home/hpinkard_waller/GitRepos/EncodingInformation/mi_estimator_experiments/analytic_gaussian_entropy_vs_test_set_nll.ipynb#W6sdnNjb2RlLXJlbW90ZQ%3D%3D?line=5'>6</a>\u001b[0m ax\u001b[39m.\u001b[39mfill_between(photons_per_pixel, mi_confidences_by_channel_photons[\u001b[39m'\u001b[39m\u001b[39mBrightfield\u001b[39m\u001b[39m'\u001b[39m][:, \u001b[39m0\u001b[39m], mi_confidences_by_channel_photons[\u001b[39m'\u001b[39m\u001b[39mBrightfield\u001b[39m\u001b[39m'\u001b[39m][:, \u001b[39m1\u001b[39m], alpha\u001b[39m=\u001b[39m\u001b[39m0.25\u001b[39m, color\u001b[39m=\u001b[39mcolors[\u001b[39m0\u001b[39m])\n\u001b[1;32m      <a href='vscode-notebook-cell://ssh-remote%2B169.229.228.36/home/hpinkard_waller/GitRepos/EncodingInformation/mi_estimator_experiments/analytic_gaussian_entropy_vs_test_set_nll.ipynb#W6sdnNjb2RlLXJlbW90ZQ%3D%3D?line=6'>7</a>\u001b[0m ax\u001b[39m.\u001b[39mplot(photons_per_pixel, mi_means_by_channel_photons_analytic[\u001b[39m'\u001b[39m\u001b[39mBrightfield\u001b[39m\u001b[39m'\u001b[39m], label\u001b[39m=\u001b[39mget_display_channel_names(\u001b[39m'\u001b[39m\u001b[39mBrightfield\u001b[39m\u001b[39m'\u001b[39m) \u001b[39m+\u001b[39m \u001b[39m'\u001b[39m\u001b[39m (analytic)\u001b[39m\u001b[39m'\u001b[39m, color\u001b[39m=\u001b[39mcolors[\u001b[39m0\u001b[39m], linestyle\u001b[39m=\u001b[39m\u001b[39m'\u001b[39m\u001b[39m--\u001b[39m\u001b[39m'\u001b[39m)\n",
      "\u001b[0;31mNameError\u001b[0m: name 'mi_means_by_channel_photons' is not defined"
     ]
    },
    {
     "data": {
      "image/png": "[encoded data removed]",
      "text/plain": [
       "<Figure size 500x500 with 1 Axes>"
      ]
     },
     "metadata": {},
     "output_type": "display_data"
    }
   ],
   "source": [
    "from cleanplots import *\n",
    "\n",
    "colors =  get_color_cycle()\n",
    "markers = ['o', 'x', 's']\n",
    "models = ['gaussian (upper bound)', 'pixel_cnn', 'analytic']\n",
    "fig, ax = plt.subplots(1, 1, figsize=(5, 5))\n",
    "for i, (means, confidences) in enumerate(zip([mi_means_by_channel_photons, mi_means_by_channel_photons_pixel_cnn, mi_means_by_channel_photons_analytic], \n",
    "                              [mi_confidences_by_channel_photons, mi_confidences_by_channel_photons_pixel_cnn, mi_confidences_by_channel_photons_analytic])):\n",
    "    for channel, color in zip(channel_names, colors):\n",
    "        ax.plot(photons_per_pixel, means[channel], label=get_display_channel_names(channel) + ' ' + models[i],\n",
    "                color=color, linestyle='-', marker=markers[i])\n",
    "        ax.fill_between(photons_per_pixel, confidences[channel][:, 0], confidences[channel][:, 1], alpha=0.25, color=color)\n",
    "\n",
    "ax.set(xlabel='Photons per pixel', ylabel='Estimated information\\n(bits/pixel)')\n",
    "ax.legend()\n",
    "clear_spines(ax)\n",
    "ax.title.set_text(f'{confidence_interval}% confidence interval')"
   ]
  }
 ],
 "metadata": {
  "kernelspec": {
   "display_name": "phenotypes",
   "language": "python",
   "name": "python3"
  },
  "language_info": {
   "codemirror_mode": {
    "name": "ipython",
    "version": 3
   },
   "file_extension": ".py",
   "mimetype": "text/x-python",
   "name": "python",
   "nbconvert_exporter": "python",
   "pygments_lexer": "ipython3",
   "version": "3.10.13"
  }
 },
 "nbformat": 4,
 "nbformat_minor": 2
}
