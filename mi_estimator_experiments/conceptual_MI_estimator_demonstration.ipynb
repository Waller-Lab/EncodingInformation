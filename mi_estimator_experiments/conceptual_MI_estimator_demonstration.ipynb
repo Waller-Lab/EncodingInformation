{
 "cells": [
  {
   "cell_type": "code",
   "execution_count": 1,
   "metadata": {
    "execution": {
     "iopub.execute_input": "2023-11-14T20:06:59.584005Z",
     "iopub.status.busy": "2023-11-14T20:06:59.583295Z",
     "iopub.status.idle": "2023-11-14T20:07:06.370173Z",
     "shell.execute_reply": "2023-11-14T20:07:06.369167Z"
    }
   },
   "outputs": [
    {
     "name": "stderr",
     "output_type": "stream",
     "text": [
      "2024-01-08 13:52:50.476841: E tensorflow/stream_executor/cuda/cuda_blas.cc:2981] Unable to register cuBLAS factory: Attempting to register factory for plugin cuBLAS when one has already been registered\n",
      "2024-01-08 13:52:51.097999: W tensorflow/stream_executor/platform/default/dso_loader.cc:64] Could not load dynamic library 'libnvinfer.so.7'; dlerror: libnvinfer.so.7: cannot open shared object file: No such file or directory; LD_LIBRARY_PATH: /home/hpinkard_waller/mambaforge/envs/phenotypes/lib/python3.10/site-packages/nvidia/cublas/lib:/home/hpinkard_waller/mambaforge/envs/phenotypes/lib/python3.10/site-packages/nvidia/cuda_cupti/lib:/home/hpinkard_waller/mambaforge/envs/phenotypes/lib/python3.10/site-packages/nvidia/cuda_nvcc/lib:/home/hpinkard_waller/mambaforge/envs/phenotypes/lib/python3.10/site-packages/nvidia/cuda_nvrtc/lib:/home/hpinkard_waller/mambaforge/envs/phenotypes/lib/python3.10/site-packages/nvidia/cuda_runtime/lib:/home/hpinkard_waller/mambaforge/envs/phenotypes/lib/python3.10/site-packages/nvidia/cudnn/lib:/home/hpinkard_waller/mambaforge/envs/phenotypes/lib/python3.10/site-packages/nvidia/cufft/lib:/home/hpinkard_waller/mambaforge/envs/phenotypes/lib/python3.10/site-packages/nvidia/cusolver/lib:/home/hpinkard_waller/mambaforge/envs/phenotypes/lib/python3.10/site-packages/nvidia/cusparse/lib:/home/hpinkard_waller/mambaforge/envs/phenotypes/lib/python3.10/site-packages/nvidia/nccl/lib\n",
      "2024-01-08 13:52:51.098092: W tensorflow/stream_executor/platform/default/dso_loader.cc:64] Could not load dynamic library 'libnvinfer_plugin.so.7'; dlerror: libnvinfer_plugin.so.7: cannot open shared object file: No such file or directory; LD_LIBRARY_PATH: /home/hpinkard_waller/mambaforge/envs/phenotypes/lib/python3.10/site-packages/nvidia/cublas/lib:/home/hpinkard_waller/mambaforge/envs/phenotypes/lib/python3.10/site-packages/nvidia/cuda_cupti/lib:/home/hpinkard_waller/mambaforge/envs/phenotypes/lib/python3.10/site-packages/nvidia/cuda_nvcc/lib:/home/hpinkard_waller/mambaforge/envs/phenotypes/lib/python3.10/site-packages/nvidia/cuda_nvrtc/lib:/home/hpinkard_waller/mambaforge/envs/phenotypes/lib/python3.10/site-packages/nvidia/cuda_runtime/lib:/home/hpinkard_waller/mambaforge/envs/phenotypes/lib/python3.10/site-packages/nvidia/cudnn/lib:/home/hpinkard_waller/mambaforge/envs/phenotypes/lib/python3.10/site-packages/nvidia/cufft/lib:/home/hpinkard_waller/mambaforge/envs/phenotypes/lib/python3.10/site-packages/nvidia/cusolver/lib:/home/hpinkard_waller/mambaforge/envs/phenotypes/lib/python3.10/site-packages/nvidia/cusparse/lib:/home/hpinkard_waller/mambaforge/envs/phenotypes/lib/python3.10/site-packages/nvidia/nccl/lib\n",
      "2024-01-08 13:52:51.098101: W tensorflow/compiler/tf2tensorrt/utils/py_utils.cc:38] TF-TRT Warning: Cannot dlopen some TensorRT libraries. If you would like to use Nvidia GPU with TensorRT, please make sure the missing libraries mentioned above are installed properly.\n"
     ]
    },
    {
     "name": "stdout",
     "output_type": "stream",
     "text": [
      "Opening BSCCM\n",
      "Opened BSCCM\n"
     ]
    }
   ],
   "source": [
    "%load_ext autoreload\n",
    "%autoreload 2\n",
    "# this only works on startup!\n",
    "from jax import config\n",
    "config.update(\"jax_enable_x64\", True)\n",
    "\n",
    "import os\n",
    "os.environ[\"CUDA_DEVICE_ORDER\"] = \"PCI_BUS_ID\" \n",
    "os.environ[\"CUDA_VISIBLE_DEVICES\"] = '3'\n",
    "from encoding_information.gpu_utils import limit_gpu_memory_growth\n",
    "limit_gpu_memory_growth()\n",
    "\n",
    "from cleanplots import *\n",
    "from tqdm import tqdm\n",
    "from encoding_information.information_estimation import *\n",
    "from encoding_information.image_utils import *\n",
    "from encoding_information.bsccm_utils import *\n",
    "from bsccm import BSCCM\n",
    "from jax import jit\n",
    "import numpy as onp\n",
    "import jax.numpy as np\n",
    "\n",
    "bsccm = BSCCM('/home/hpinkard_waller/data/BSCCM/')"
   ]
  },
  {
   "cell_type": "code",
   "execution_count": 2,
   "metadata": {
    "execution": {
     "iopub.execute_input": "2023-11-14T20:07:06.374079Z",
     "iopub.status.busy": "2023-11-14T20:07:06.373883Z",
     "iopub.status.idle": "2023-11-14T20:19:26.470896Z",
     "shell.execute_reply": "2023-11-14T20:19:26.469992Z"
    }
   },
   "outputs": [
    {
     "name": "stderr",
     "output_type": "stream",
     "text": [
      "  0%|                                                                 | 0/3 [00:00<?, ?it/s]\n",
      "Running bootstraps:   0%|                                            | 0/10 [00:00<?, ?it/s]\u001b[A"
     ]
    },
    {
     "name": "stdout",
     "output_type": "stream",
     "text": [
      "key [  41504071 2870943612] \n",
      "\n"
     ]
    },
    {
     "name": "stderr",
     "output_type": "stream",
     "text": [
      "2023-11-14 12:08:26.033800: W tensorflow/core/common_runtime/gpu/gpu_bfc_allocator.cc:47] Overriding orig_value setting because the TF_FORCE_GPU_ALLOW_GROWTH environment variable is set. Original config value was 0.\n",
      "\n",
      "Running bootstraps:  10%|███▌                                | 1/10 [00:22<03:25, 22.84s/it]\u001b[A"
     ]
    },
    {
     "name": "stdout",
     "output_type": "stream",
     "text": [
      "key [3324173179 1386242495] \n",
      "\n"
     ]
    },
    {
     "name": "stderr",
     "output_type": "stream",
     "text": [
      "\n",
      "Running bootstraps:  20%|███████▏                            | 2/10 [00:38<02:30, 18.75s/it]\u001b[A"
     ]
    },
    {
     "name": "stdout",
     "output_type": "stream",
     "text": [
      "key [1278494563 2057685557] \n",
      "\n"
     ]
    },
    {
     "name": "stderr",
     "output_type": "stream",
     "text": [
      "\n",
      "Running bootstraps:  30%|██████████▊                         | 3/10 [00:49<01:45, 15.05s/it]\u001b[A"
     ]
    },
    {
     "name": "stdout",
     "output_type": "stream",
     "text": [
      "key [ 805574445 3257057739] \n",
      "\n"
     ]
    },
    {
     "name": "stderr",
     "output_type": "stream",
     "text": [
      "\n",
      "Running bootstraps:  40%|██████████████▍                     | 4/10 [01:00<01:21, 13.53s/it]\u001b[A"
     ]
    },
    {
     "name": "stdout",
     "output_type": "stream",
     "text": [
      "key [1389345704 2538136628] \n",
      "\n"
     ]
    },
    {
     "name": "stderr",
     "output_type": "stream",
     "text": [
      "\n",
      "Running bootstraps:  50%|██████████████████                  | 5/10 [01:13<01:06, 13.29s/it]\u001b[A"
     ]
    },
    {
     "name": "stdout",
     "output_type": "stream",
     "text": [
      "key [2018855166 2806402627] \n",
      "\n"
     ]
    },
    {
     "name": "stderr",
     "output_type": "stream",
     "text": [
      "\n",
      "Running bootstraps:  60%|█████████████████████▌              | 6/10 [01:30<00:58, 14.52s/it]\u001b[A"
     ]
    },
    {
     "name": "stdout",
     "output_type": "stream",
     "text": [
      "key [ 764401292 3764316053] \n",
      "\n"
     ]
    },
    {
     "name": "stderr",
     "output_type": "stream",
     "text": [
      "\n",
      "Running bootstraps:  70%|█████████████████████████▏          | 7/10 [01:40<00:39, 13.17s/it]\u001b[A"
     ]
    },
    {
     "name": "stdout",
     "output_type": "stream",
     "text": [
      "key [2347025603 4009249415] \n",
      "\n"
     ]
    },
    {
     "name": "stderr",
     "output_type": "stream",
     "text": [
      "\n",
      "Running bootstraps:  80%|████████████████████████████▊       | 8/10 [01:53<00:25, 12.96s/it]\u001b[A"
     ]
    },
    {
     "name": "stdout",
     "output_type": "stream",
     "text": [
      "key [2031761950 4016837207] \n",
      "\n"
     ]
    },
    {
     "name": "stderr",
     "output_type": "stream",
     "text": [
      "\n",
      "Running bootstraps:  90%|████████████████████████████████▍   | 9/10 [02:07<00:13, 13.36s/it]\u001b[A"
     ]
    },
    {
     "name": "stdout",
     "output_type": "stream",
     "text": [
      "key [ 409274162 3351612957] \n",
      "\n"
     ]
    },
    {
     "name": "stderr",
     "output_type": "stream",
     "text": [
      "\n",
      "Running bootstraps: 100%|███████████████████████████████████| 10/10 [02:20<00:00, 14.08s/it]\n",
      "\n",
      "Running bootstraps:   0%|                                            | 0/10 [00:00<?, ?it/s]\u001b[A\n",
      "Running bootstraps: 100%|███████████████████████████████████| 10/10 [00:00<00:00, 75.18it/s]\n"
     ]
    },
    {
     "name": "stdout",
     "output_type": "stream",
     "text": [
      "key [ 659119695 4249401838] \n",
      "\n",
      "key [1816267968 4271703188] \n",
      "\n",
      "key [794685257 619504766] \n",
      "\n",
      "key [2457977630 2461028850] \n",
      "\n",
      "key [2523615756 3494674791] \n",
      "\n",
      "key [1453026657 2123504630] \n",
      "\n",
      "key [ 933834012 2976714570] \n",
      "\n",
      "key [1182581520 2151218444] \n",
      "\n",
      "key [ 143145421 2960718169] \n",
      "\n",
      "key [3136434120  392815497] \n",
      "\n"
     ]
    },
    {
     "name": "stderr",
     "output_type": "stream",
     "text": [
      " 33%|██████████████████▋                                     | 1/3 [03:34<07:09, 214.67s/it]\n",
      "Running bootstraps:   0%|                                            | 0/10 [00:00<?, ?it/s]\u001b[A"
     ]
    },
    {
     "name": "stdout",
     "output_type": "stream",
     "text": [
      "key [ 412095135 3579142245] \n",
      "\n"
     ]
    },
    {
     "name": "stderr",
     "output_type": "stream",
     "text": [
      "\n",
      "Running bootstraps:  10%|███▌                                | 1/10 [00:15<02:22, 15.82s/it]\u001b[A"
     ]
    },
    {
     "name": "stdout",
     "output_type": "stream",
     "text": [
      "key [ 446964436 1361266962] \n",
      "\n"
     ]
    },
    {
     "name": "stderr",
     "output_type": "stream",
     "text": [
      "\n",
      "Running bootstraps:  20%|███████▏                            | 2/10 [00:27<01:47, 13.48s/it]\u001b[A"
     ]
    },
    {
     "name": "stdout",
     "output_type": "stream",
     "text": [
      "key [1375123404 1134289726] \n",
      "\n"
     ]
    },
    {
     "name": "stderr",
     "output_type": "stream",
     "text": [
      "\n",
      "Running bootstraps:  30%|██████████▊                         | 3/10 [00:42<01:39, 14.28s/it]\u001b[A"
     ]
    },
    {
     "name": "stdout",
     "output_type": "stream",
     "text": [
      "key [1026142356 1313225167] \n",
      "\n"
     ]
    },
    {
     "name": "stderr",
     "output_type": "stream",
     "text": [
      "\n",
      "Running bootstraps:  40%|██████████████▍                     | 4/10 [00:52<01:15, 12.53s/it]\u001b[A"
     ]
    },
    {
     "name": "stdout",
     "output_type": "stream",
     "text": [
      "key [ 630236372 1337407409] \n",
      "\n"
     ]
    },
    {
     "name": "stderr",
     "output_type": "stream",
     "text": [
      "\n",
      "Running bootstraps:  50%|██████████████████                  | 5/10 [01:10<01:11, 14.40s/it]\u001b[A"
     ]
    },
    {
     "name": "stdout",
     "output_type": "stream",
     "text": [
      "key [725946702 227104107] \n",
      "\n"
     ]
    },
    {
     "name": "stderr",
     "output_type": "stream",
     "text": [
      "\n",
      "Running bootstraps:  60%|█████████████████████▌              | 6/10 [01:20<00:51, 12.90s/it]\u001b[A"
     ]
    },
    {
     "name": "stdout",
     "output_type": "stream",
     "text": [
      "key [3030397640 1026959178] \n",
      "\n"
     ]
    },
    {
     "name": "stderr",
     "output_type": "stream",
     "text": [
      "\n",
      "Running bootstraps:  70%|█████████████████████████▏          | 7/10 [01:41<00:47, 15.69s/it]\u001b[A"
     ]
    },
    {
     "name": "stdout",
     "output_type": "stream",
     "text": [
      "key [2660744910 1115718829] \n",
      "\n"
     ]
    },
    {
     "name": "stderr",
     "output_type": "stream",
     "text": [
      "\n",
      "Running bootstraps:  80%|████████████████████████████▊       | 8/10 [01:55<00:30, 15.09s/it]\u001b[A"
     ]
    },
    {
     "name": "stdout",
     "output_type": "stream",
     "text": [
      "key [3460395990 3478027694] \n",
      "\n"
     ]
    },
    {
     "name": "stderr",
     "output_type": "stream",
     "text": [
      "\n",
      "Running bootstraps:  90%|████████████████████████████████▍   | 9/10 [02:11<00:15, 15.42s/it]\u001b[A"
     ]
    },
    {
     "name": "stdout",
     "output_type": "stream",
     "text": [
      "key [1578749067  117423547] \n",
      "\n"
     ]
    },
    {
     "name": "stderr",
     "output_type": "stream",
     "text": [
      "\n",
      "Running bootstraps: 100%|███████████████████████████████████| 10/10 [02:30<00:00, 15.04s/it]\n",
      "\n",
      "Running bootstraps:   0%|                                            | 0/10 [00:00<?, ?it/s]\u001b[A\n",
      "Running bootstraps: 100%|███████████████████████████████████| 10/10 [00:00<00:00, 68.31it/s]\n",
      " 67%|█████████████████████████████████████▎                  | 2/3 [07:56<04:02, 242.35s/it]"
     ]
    },
    {
     "name": "stdout",
     "output_type": "stream",
     "text": [
      "key [2023417103 2131174981] \n",
      "\n",
      "key [1068530326  367990977] \n",
      "\n",
      "key [1298670164 1890453679] \n",
      "\n",
      "key [2656505615 1484121858] \n",
      "\n",
      "key [3542516574  684776657] \n",
      "\n",
      "key [3521886657 2770292510] \n",
      "\n",
      "key [  6560939 391541631] \n",
      "\n",
      "key [1316819750 3229605598] \n",
      "\n",
      "key [3854553962 2021647108] \n",
      "\n",
      "key [3005052785 2438364199] \n",
      "\n"
     ]
    },
    {
     "name": "stderr",
     "output_type": "stream",
     "text": [
      "\n",
      "Running bootstraps:   0%|                                            | 0/10 [00:00<?, ?it/s]\u001b[A"
     ]
    },
    {
     "name": "stdout",
     "output_type": "stream",
     "text": [
      "key [2361769590 1023945524] \n",
      "\n"
     ]
    },
    {
     "name": "stderr",
     "output_type": "stream",
     "text": [
      "\n",
      "Running bootstraps:  10%|███▌                                | 1/10 [00:18<02:48, 18.73s/it]\u001b[A"
     ]
    },
    {
     "name": "stdout",
     "output_type": "stream",
     "text": [
      "key [   8286518 1748382744] \n",
      "\n"
     ]
    },
    {
     "name": "stderr",
     "output_type": "stream",
     "text": [
      "\n",
      "Running bootstraps:  20%|███████▏                            | 2/10 [00:34<02:17, 17.15s/it]\u001b[A"
     ]
    },
    {
     "name": "stdout",
     "output_type": "stream",
     "text": [
      "key [1465970799 2090481814] \n",
      "\n"
     ]
    },
    {
     "name": "stderr",
     "output_type": "stream",
     "text": [
      "\n",
      "Running bootstraps:  30%|██████████▊                         | 3/10 [00:47<01:46, 15.19s/it]\u001b[A"
     ]
    },
    {
     "name": "stdout",
     "output_type": "stream",
     "text": [
      "key [1996155907 3380831180] \n",
      "\n"
     ]
    },
    {
     "name": "stderr",
     "output_type": "stream",
     "text": [
      "\n",
      "Running bootstraps:  40%|██████████████▍                     | 4/10 [01:05<01:37, 16.31s/it]\u001b[A"
     ]
    },
    {
     "name": "stdout",
     "output_type": "stream",
     "text": [
      "key [ 554013287 1396658677] \n",
      "\n"
     ]
    },
    {
     "name": "stderr",
     "output_type": "stream",
     "text": [
      "\n",
      "Running bootstraps:  50%|██████████████████                  | 5/10 [01:17<01:13, 14.79s/it]\u001b[A"
     ]
    },
    {
     "name": "stdout",
     "output_type": "stream",
     "text": [
      "key [4072509729 2698354255] \n",
      "\n"
     ]
    },
    {
     "name": "stderr",
     "output_type": "stream",
     "text": [
      "\n",
      "Running bootstraps:  60%|█████████████████████▌              | 6/10 [01:35<01:03, 15.95s/it]\u001b[A"
     ]
    },
    {
     "name": "stdout",
     "output_type": "stream",
     "text": [
      "key [2266076193 3567061038] \n",
      "\n"
     ]
    },
    {
     "name": "stderr",
     "output_type": "stream",
     "text": [
      "\n",
      "Running bootstraps:  70%|█████████████████████████▏          | 7/10 [01:51<00:47, 15.92s/it]\u001b[A"
     ]
    },
    {
     "name": "stdout",
     "output_type": "stream",
     "text": [
      "key [3960095311 1687258059] \n",
      "\n"
     ]
    },
    {
     "name": "stderr",
     "output_type": "stream",
     "text": [
      "\n",
      "Running bootstraps:  80%|████████████████████████████▊       | 8/10 [02:07<00:31, 15.77s/it]\u001b[A"
     ]
    },
    {
     "name": "stdout",
     "output_type": "stream",
     "text": [
      "key [2076593856 1275821805] \n",
      "\n"
     ]
    },
    {
     "name": "stderr",
     "output_type": "stream",
     "text": [
      "\n",
      "Running bootstraps:  90%|████████████████████████████████▍   | 9/10 [02:26<00:16, 16.72s/it]\u001b[A"
     ]
    },
    {
     "name": "stdout",
     "output_type": "stream",
     "text": [
      "key [3771148140  900716745] \n",
      "\n"
     ]
    },
    {
     "name": "stderr",
     "output_type": "stream",
     "text": [
      "\n",
      "Running bootstraps: 100%|███████████████████████████████████| 10/10 [02:35<00:00, 15.59s/it]\n",
      "\n",
      "Running bootstraps: 100%|██████████████████████████████████| 10/10 [00:00<00:00, 107.52it/s]\n",
      "100%|████████████████████████████████████████████████████████| 3/3 [12:19<00:00, 246.56s/it]\n"
     ]
    },
    {
     "name": "stdout",
     "output_type": "stream",
     "text": [
      "key [4267729859 1213424540] \n",
      "\n",
      "key [ 484353863 3822075549] \n",
      "\n",
      "key [ 406842671 1522322952] \n",
      "\n",
      "key [2715300459  194506411] \n",
      "\n",
      "key [ 672725966 1871739486] \n",
      "\n",
      "key [4280747572 1202471399] \n",
      "\n",
      "key [3858957482 4097394804] \n",
      "\n",
      "key [161909657 577834068] \n",
      "\n",
      "key [2297537071  628747643] \n",
      "\n",
      "key [ 377578120 3686565864] \n",
      "\n"
     ]
    }
   ],
   "source": [
    "channel_names = ['Brightfield', 'DPC_Right', 'LED119' ]\n",
    "edge_crop = 32\n",
    "num_images = 5000\n",
    "num_patches = 5000\n",
    "photons_per_pixel = 300\n",
    "num_bootstrap_samples = 10\n",
    "confidence_interval = 99\n",
    "patch_size = 10\n",
    "\n",
    "mi_means = []\n",
    "mi_confidences = []\n",
    "h_y_given_x_means = []\n",
    "h_y_given_x_confidences = []\n",
    "for channel_name in tqdm(channel_names):\n",
    "    images = load_bsccm_images(bsccm, channel_name, num_images=num_images, edge_crop=edge_crop, convert_units_to_photons=True, median_filter=True, verbose=False, batch=1)\n",
    "    patches = extract_patches(images, patch_size=patch_size, num_patches=num_patches, verbose=False)\n",
    "    patches = patches * photons_per_pixel / np.mean(images)\n",
    "    noisy_patches = add_noise(patches)\n",
    "\n",
    "    mi_mean, mi_confidence = run_bootstrap(noisy_patches, num_bootstrap_samples=num_bootstrap_samples, confidence_interval=confidence_interval, \n",
    "                estimation_fn=lambda noisy_images: estimate_mutual_information(noisy_images=noisy_images, verbose=False), verbose=True)\n",
    "    \n",
    "    h_y_given_x_mean, h_y_given_x_confidence = run_bootstrap(noisy_patches, num_bootstrap_samples=num_bootstrap_samples, confidence_interval=confidence_interval,\n",
    "                estimation_fn=lambda noisy_images: estimate_conditional_entropy(noisy_images), verbose=True)\n",
    "\n",
    "    mi_means.append(mi_mean)\n",
    "    mi_confidences.append(mi_confidence)\n",
    "    h_y_given_x_means.append(h_y_given_x_mean)\n",
    "    h_y_given_x_confidences.append(h_y_given_x_confidence)\n",
    "    \n",
    "mi_means = np.array(mi_means)\n",
    "mi_confidences = np.array(mi_confidences)\n",
    "h_y_given_x_means = np.array(h_y_given_x_means)\n",
    "h_y_given_x_confidences = np.array(h_y_given_x_confidences)"
   ]
  },
  {
   "cell_type": "code",
   "execution_count": 3,
   "metadata": {
    "execution": {
     "iopub.execute_input": "2023-11-14T20:19:26.475452Z",
     "iopub.status.busy": "2023-11-14T20:19:26.475053Z",
     "iopub.status.idle": "2023-11-14T20:19:28.212841Z",
     "shell.execute_reply": "2023-11-14T20:19:28.212023Z"
    }
   },
   "outputs": [
    {
     "data": {
      "image/png": "[encoded data removed]",
      "text/plain": [
       "<Figure size 400x400 with 1 Axes>"
      ]
     },
     "metadata": {},
     "output_type": "display_data"
    },
    {
     "data": {
      "image/png": "[encoded data removed]",
      "text/plain": [
       "<Figure size 400x400 with 1 Axes>"
      ]
     },
     "metadata": {},
     "output_type": "display_data"
    }
   ],
   "source": [
    "# set the width of the bars\n",
    "bar_width = 0.35\n",
    "error_kw = {'capsize': 12, 'capthick': 2}\n",
    "\n",
    "# create a paired bar plot of results\n",
    "fig, ax = plt.subplots(1, 1, figsize=(4, 4))\n",
    "\n",
    "\n",
    "# create the bar plots\n",
    "bar_width = 0.5\n",
    "lower_errors = mi_means - mi_confidences[:, 0]\n",
    "upper_errors = mi_confidences[:, 1] - mi_means\n",
    "\n",
    "# Calculate the positions where the bars should be placed to be centered on the ticks\n",
    "positions = np.arange(len(channel_names)) + 0.5 * bar_width\n",
    "\n",
    "ax.bar(\n",
    "    positions,\n",
    "    mi_means,\n",
    "    yerr=np.array([lower_errors, upper_errors]),\n",
    "    width=bar_width,\n",
    "    color=colors[0],\n",
    "    edgecolor='k',\n",
    "    linewidth=1,\n",
    "    error_kw=error_kw\n",
    ")\n",
    "\n",
    "# add labels, title, and legend\n",
    "ax.set_xticks(np.arange(len(channel_names)) + bar_width / 2, channel_names)\n",
    "ax.set_ylabel('Estimated mutual information per pixel (bits)')\n",
    "fig.suptitle(f'{confidence_interval}% confidence interval')\n",
    "clear_spines(ax)\n",
    "\n",
    "# make another plot for conditional entropy\n",
    "fig, ax = plt.subplots(1, 1, figsize=(4, 4))\n",
    "\n",
    "lower_errors = h_y_given_x_means - h_y_given_x_confidences[:, 0]\n",
    "upper_errors = h_y_given_x_confidences[:, 1] - h_y_given_x_means\n",
    "\n",
    "ax.bar(\n",
    "    positions,\n",
    "    h_y_given_x_means,\n",
    "    yerr=np.array([lower_errors, upper_errors]),\n",
    "    width=bar_width,\n",
    "    color=colors[0],\n",
    "    edgecolor='k',\n",
    "    linewidth=1,\n",
    "    error_kw=error_kw\n",
    ")\n",
    "\n",
    "# add labels, title, and legend\n",
    "ax.set_xticks(np.arange(len(channel_names)) + bar_width / 2, channel_names)\n",
    "ax.set_ylabel('Estimated conditional entropy per pixel (bits)')\n",
    "fig.suptitle(f'{confidence_interval}% confidence interval')\n",
    "clear_spines(ax)"
   ]
  },
  {
   "cell_type": "markdown",
   "metadata": {},
   "source": [
    "## MI vs num photons"
   ]
  },
  {
   "cell_type": "code",
   "execution_count": 3,
   "metadata": {
    "execution": {
     "iopub.execute_input": "2023-11-14T20:19:28.217152Z",
     "iopub.status.busy": "2023-11-14T20:19:28.216391Z",
     "iopub.status.idle": "2023-11-14T22:37:18.274185Z",
     "shell.execute_reply": "2023-11-14T22:37:18.273219Z"
    }
   },
   "outputs": [
    {
     "name": "stderr",
     "output_type": "stream",
     "text": [
      "  0%|          | 0/1 [00:38<?, ?it/s]\n"
     ]
    },
    {
     "ename": "KeyboardInterrupt",
     "evalue": "",
     "output_type": "error",
     "traceback": [
      "\u001b[0;31m---------------------------------------------------------------------------\u001b[0m",
      "\u001b[0;31mKeyboardInterrupt\u001b[0m                         Traceback (most recent call last)",
      "Cell \u001b[0;32mIn [3], line 29\u001b[0m\n\u001b[1;32m     27\u001b[0m \u001b[38;5;28;01mfor\u001b[39;00m num_photons \u001b[38;5;129;01min\u001b[39;00m photons_per_pixel:\n\u001b[1;32m     28\u001b[0m     patches \u001b[38;5;241m=\u001b[39m extract_patches(images, patch_size\u001b[38;5;241m=\u001b[39mpatch_size, num_patches\u001b[38;5;241m=\u001b[39mnum_patches, verbose\u001b[38;5;241m=\u001b[39m\u001b[38;5;28;01mFalse\u001b[39;00m)\n\u001b[0;32m---> 29\u001b[0m     noisy_patches \u001b[38;5;241m=\u001b[39m \u001b[43madd_shot_noise_to_experimenal_data\u001b[49m(patches, num_photons \u001b[38;5;241m/\u001b[39m np\u001b[38;5;241m.\u001b[39mmean(images))\n\u001b[1;32m     30\u001b[0m     \u001b[38;5;66;03m# noisy_patches = add_noise(patches * num_photons / np.mean(images))\u001b[39;00m\n\u001b[1;32m     32\u001b[0m     mi_mean, mi_confidence \u001b[38;5;241m=\u001b[39m run_bootstrap(noisy_patches, num_bootstrap_samples\u001b[38;5;241m=\u001b[39mnum_bootstrap_samples, confidence_interval\u001b[38;5;241m=\u001b[39mconfidence_interval, \n\u001b[1;32m     33\u001b[0m                 estimation_fn\u001b[38;5;241m=\u001b[39m\u001b[38;5;28;01mlambda\u001b[39;00m noisy_images: estimate_mutual_information(noisy_images\u001b[38;5;241m=\u001b[39mnoisy_images, verbose\u001b[38;5;241m=\u001b[39m\u001b[38;5;28;01mTrue\u001b[39;00m, use_iterative_optimization\u001b[38;5;241m=\u001b[39m\u001b[38;5;28;01mTrue\u001b[39;00m),\n\u001b[1;32m     34\u001b[0m                   verbose\u001b[38;5;241m=\u001b[39m\u001b[38;5;28;01mTrue\u001b[39;00m)\n",
      "Cell \u001b[0;32mIn [3], line 29\u001b[0m\n\u001b[1;32m     27\u001b[0m \u001b[38;5;28;01mfor\u001b[39;00m num_photons \u001b[38;5;129;01min\u001b[39;00m photons_per_pixel:\n\u001b[1;32m     28\u001b[0m     patches \u001b[38;5;241m=\u001b[39m extract_patches(images, patch_size\u001b[38;5;241m=\u001b[39mpatch_size, num_patches\u001b[38;5;241m=\u001b[39mnum_patches, verbose\u001b[38;5;241m=\u001b[39m\u001b[38;5;28;01mFalse\u001b[39;00m)\n\u001b[0;32m---> 29\u001b[0m     noisy_patches \u001b[38;5;241m=\u001b[39m \u001b[43madd_shot_noise_to_experimenal_data\u001b[49m(patches, num_photons \u001b[38;5;241m/\u001b[39m np\u001b[38;5;241m.\u001b[39mmean(images))\n\u001b[1;32m     30\u001b[0m     \u001b[38;5;66;03m# noisy_patches = add_noise(patches * num_photons / np.mean(images))\u001b[39;00m\n\u001b[1;32m     32\u001b[0m     mi_mean, mi_confidence \u001b[38;5;241m=\u001b[39m run_bootstrap(noisy_patches, num_bootstrap_samples\u001b[38;5;241m=\u001b[39mnum_bootstrap_samples, confidence_interval\u001b[38;5;241m=\u001b[39mconfidence_interval, \n\u001b[1;32m     33\u001b[0m                 estimation_fn\u001b[38;5;241m=\u001b[39m\u001b[38;5;28;01mlambda\u001b[39;00m noisy_images: estimate_mutual_information(noisy_images\u001b[38;5;241m=\u001b[39mnoisy_images, verbose\u001b[38;5;241m=\u001b[39m\u001b[38;5;28;01mTrue\u001b[39;00m, use_iterative_optimization\u001b[38;5;241m=\u001b[39m\u001b[38;5;28;01mTrue\u001b[39;00m),\n\u001b[1;32m     34\u001b[0m                   verbose\u001b[38;5;241m=\u001b[39m\u001b[38;5;28;01mTrue\u001b[39;00m)\n",
      "File \u001b[0;32m_pydevd_bundle/pydevd_cython.pyx:1457\u001b[0m, in \u001b[0;36m_pydevd_bundle.pydevd_cython.SafeCallWrapper.__call__\u001b[0;34m()\u001b[0m\n",
      "File \u001b[0;32m_pydevd_bundle/pydevd_cython.pyx:701\u001b[0m, in \u001b[0;36m_pydevd_bundle.pydevd_cython.PyDBFrame.trace_dispatch\u001b[0;34m()\u001b[0m\n",
      "File \u001b[0;32m_pydevd_bundle/pydevd_cython.pyx:1395\u001b[0m, in \u001b[0;36m_pydevd_bundle.pydevd_cython.PyDBFrame.trace_dispatch\u001b[0;34m()\u001b[0m\n",
      "File \u001b[0;32m_pydevd_bundle/pydevd_cython.pyx:1344\u001b[0m, in \u001b[0;36m_pydevd_bundle.pydevd_cython.PyDBFrame.trace_dispatch\u001b[0;34m()\u001b[0m\n",
      "File \u001b[0;32m_pydevd_bundle/pydevd_cython.pyx:312\u001b[0m, in \u001b[0;36m_pydevd_bundle.pydevd_cython.PyDBFrame.do_wait_suspend\u001b[0;34m()\u001b[0m\n",
      "File \u001b[0;32m~/mambaforge/envs/phenotypes/lib/python3.10/site-packages/debugpy/_vendored/pydevd/pydevd.py:2070\u001b[0m, in \u001b[0;36mPyDB.do_wait_suspend\u001b[0;34m(self, thread, frame, event, arg, exception_type)\u001b[0m\n\u001b[1;32m   2067\u001b[0m             from_this_thread\u001b[38;5;241m.\u001b[39mappend(frame_custom_thread_id)\n\u001b[1;32m   2069\u001b[0m     \u001b[38;5;28;01mwith\u001b[39;00m \u001b[38;5;28mself\u001b[39m\u001b[38;5;241m.\u001b[39m_threads_suspended_single_notification\u001b[38;5;241m.\u001b[39mnotify_thread_suspended(thread_id, thread, stop_reason):\n\u001b[0;32m-> 2070\u001b[0m         keep_suspended \u001b[38;5;241m=\u001b[39m \u001b[38;5;28;43mself\u001b[39;49m\u001b[38;5;241;43m.\u001b[39;49m\u001b[43m_do_wait_suspend\u001b[49m\u001b[43m(\u001b[49m\u001b[43mthread\u001b[49m\u001b[43m,\u001b[49m\u001b[43m \u001b[49m\u001b[43mframe\u001b[49m\u001b[43m,\u001b[49m\u001b[43m \u001b[49m\u001b[43mevent\u001b[49m\u001b[43m,\u001b[49m\u001b[43m \u001b[49m\u001b[43marg\u001b[49m\u001b[43m,\u001b[49m\u001b[43m \u001b[49m\u001b[43msuspend_type\u001b[49m\u001b[43m,\u001b[49m\u001b[43m \u001b[49m\u001b[43mfrom_this_thread\u001b[49m\u001b[43m,\u001b[49m\u001b[43m \u001b[49m\u001b[43mframes_tracker\u001b[49m\u001b[43m)\u001b[49m\n\u001b[1;32m   2072\u001b[0m frames_list \u001b[38;5;241m=\u001b[39m \u001b[38;5;28;01mNone\u001b[39;00m\n\u001b[1;32m   2074\u001b[0m \u001b[38;5;28;01mif\u001b[39;00m keep_suspended:\n\u001b[1;32m   2075\u001b[0m     \u001b[38;5;66;03m# This means that we should pause again after a set next statement.\u001b[39;00m\n",
      "File \u001b[0;32m~/mambaforge/envs/phenotypes/lib/python3.10/site-packages/debugpy/_vendored/pydevd/pydevd.py:2105\u001b[0m, in \u001b[0;36mPyDB._do_wait_suspend\u001b[0;34m(self, thread, frame, event, arg, suspend_type, from_this_thread, frames_tracker)\u001b[0m\n\u001b[1;32m   2101\u001b[0m     \u001b[38;5;28;01mif\u001b[39;00m in_main_thread \u001b[38;5;129;01mand\u001b[39;00m \u001b[38;5;28mself\u001b[39m\u001b[38;5;241m.\u001b[39mgui_in_use:\n\u001b[1;32m   2102\u001b[0m         \u001b[38;5;66;03m# call input hooks if only GUI is in use\u001b[39;00m\n\u001b[1;32m   2103\u001b[0m         \u001b[38;5;28mself\u001b[39m\u001b[38;5;241m.\u001b[39m_call_input_hook()\n\u001b[0;32m-> 2105\u001b[0m     \u001b[38;5;28;43mself\u001b[39;49m\u001b[38;5;241;43m.\u001b[39;49m\u001b[43mprocess_internal_commands\u001b[49m\u001b[43m(\u001b[49m\u001b[43m)\u001b[49m\n\u001b[1;32m   2106\u001b[0m     time\u001b[38;5;241m.\u001b[39msleep(\u001b[38;5;241m0.01\u001b[39m)\n\u001b[1;32m   2108\u001b[0m \u001b[38;5;28mself\u001b[39m\u001b[38;5;241m.\u001b[39mcancel_async_evaluation(get_current_thread_id(thread), \u001b[38;5;28mstr\u001b[39m(\u001b[38;5;28mid\u001b[39m(frame)))\n",
      "File \u001b[0;32m~/mambaforge/envs/phenotypes/lib/python3.10/site-packages/debugpy/_vendored/pydevd/pydevd.py:1745\u001b[0m, in \u001b[0;36mPyDB.process_internal_commands\u001b[0;34m(self)\u001b[0m\n\u001b[1;32m   1742\u001b[0m     process_thread_ids \u001b[38;5;241m=\u001b[39m (\u001b[38;5;124m'\u001b[39m\u001b[38;5;124m*\u001b[39m\u001b[38;5;124m'\u001b[39m,)\n\u001b[1;32m   1744\u001b[0m \u001b[38;5;28;01mfor\u001b[39;00m thread_id \u001b[38;5;129;01min\u001b[39;00m process_thread_ids:\n\u001b[0;32m-> 1745\u001b[0m     queue \u001b[38;5;241m=\u001b[39m \u001b[38;5;28;43mself\u001b[39;49m\u001b[38;5;241;43m.\u001b[39;49m\u001b[43mget_internal_queue\u001b[49m\u001b[43m(\u001b[49m\u001b[43mthread_id\u001b[49m\u001b[43m)\u001b[49m\n\u001b[1;32m   1747\u001b[0m     \u001b[38;5;66;03m# some commands must be processed by the thread itself... if that's the case,\u001b[39;00m\n\u001b[1;32m   1748\u001b[0m     \u001b[38;5;66;03m# we will re-add the commands to the queue after executing.\u001b[39;00m\n\u001b[1;32m   1749\u001b[0m     cmds_to_add_back \u001b[38;5;241m=\u001b[39m []\n",
      "\u001b[0;31mKeyboardInterrupt\u001b[0m: "
     ]
    }
   ],
   "source": [
    "channel_names = ['Brightfield', 'DPC_Right', 'LED119' ]\n",
    "edge_crop = 32\n",
    "num_images = 5000\n",
    "num_patches = 5000\n",
    "photons_per_pixel = [20, 40, 80, 160, 300]\n",
    "num_bootstrap_samples = 10\n",
    "confidence_interval = 99\n",
    "patch_size = 20\n",
    "\n",
    "\n",
    "edge_crop = 32\n",
    "num_images = 1000\n",
    "num_patches = 1000\n",
    "photons_per_pixel = [200]\n",
    "num_bootstrap_samples = 1\n",
    "confidence_interval = 99\n",
    "patch_size = 20\n",
    "channel_names = ['Brightfield']\n",
    "\n",
    "\n",
    "mi_means_by_channel_photons = {}\n",
    "mi_confidences_by_channel_photons = {}\n",
    "for channel_name in tqdm(channel_names):\n",
    "    mi_means_by_channel_photons[channel_name] = []\n",
    "    mi_confidences_by_channel_photons[channel_name] = []\n",
    "    images = load_bsccm_images(bsccm, channel_name, num_images=num_images, edge_crop=edge_crop, convert_units_to_photons=True, median_filter=False, verbose=False)\n",
    "    for num_photons in photons_per_pixel:\n",
    "        patches = extract_patches(images, patch_size=patch_size, num_patches=num_patches, verbose=False)\n",
    "        noisy_patches = add_shot_noise_to_experimenal_data(patches, num_photons / np.mean(images))\n",
    "        # noisy_patches = add_noise(patches * num_photons / np.mean(images))\n",
    "\n",
    "        mi_mean, mi_confidence = run_bootstrap(noisy_patches, num_bootstrap_samples=num_bootstrap_samples, confidence_interval=confidence_interval, \n",
    "                    estimation_fn=lambda noisy_images: estimate_mutual_information(noisy_images=noisy_images, verbose=True, use_iterative_optimization=True),\n",
    "                      verbose=True)\n",
    "        mi_means_by_channel_photons[channel_name].append(mi_mean)\n",
    "        mi_confidences_by_channel_photons[channel_name].append(mi_confidence)\n",
    "    \n",
    "mi_means_by_channel_photons = {channel: np.array(v) for channel, v in mi_means_by_channel_photons.items()}\n",
    "mi_confidences_by_channel_photons = {channel: np.array(v) for channel, v in mi_confidences_by_channel_photons.items()}"
   ]
  },
  {
   "cell_type": "code",
   "execution_count": 3,
   "metadata": {
    "execution": {
     "iopub.execute_input": "2023-11-14T22:37:18.278423Z",
     "iopub.status.busy": "2023-11-14T22:37:18.277984Z",
     "iopub.status.idle": "2023-11-14T22:37:18.729694Z",
     "shell.execute_reply": "2023-11-14T22:37:18.728924Z"
    }
   },
   "outputs": [
    {
     "data": {
      "image/png": "[encoded data removed]",
      "text/plain": [
       "<Figure size 500x500 with 1 Axes>"
      ]
     },
     "metadata": {},
     "output_type": "display_data"
    }
   ],
   "source": [
    "fig, ax = plt.subplots(1, 1, figsize=(5, 5))\n",
    "ax.plot(photons_per_pixel, mi_means_by_channel_photons['Brightfield'], '-o',\n",
    "         label=get_display_channel_names('Brightfield'))\n",
    "ax.fill_between(photons_per_pixel, mi_confidences_by_channel_photons['Brightfield'][:, 0], \n",
    "                mi_confidences_by_channel_photons['Brightfield'][:, 1], alpha=0.5)\n",
    "ax.plot(photons_per_pixel, mi_means_by_channel_photons['DPC_Right'], '-o',\n",
    "        label=get_display_channel_names('DPC_Right'))\n",
    "ax.fill_between(photons_per_pixel, mi_confidences_by_channel_photons['DPC_Right'][:, 0],\n",
    "                 mi_confidences_by_channel_photons['DPC_Right'][:, 1], alpha=0.5)\n",
    "ax.plot(photons_per_pixel, mi_means_by_channel_photons['LED119'], '-o',\n",
    "        label=get_display_channel_names('LED119'))\n",
    "ax.fill_between(photons_per_pixel, mi_confidences_by_channel_photons['LED119'][:, 0], \n",
    "                mi_confidences_by_channel_photons['LED119'][:, 1], alpha=0.5)\n",
    "ax.set(xlabel='Photons per pixel', ylabel='Estimated information\\n(bits/pixel)')\n",
    "ax.legend()\n",
    "clear_spines(ax)\n",
    "ax.title.set_text(f'{confidence_interval}% confidence interval')\n"
   ]
  },
  {
   "cell_type": "code",
   "execution_count": null,
   "metadata": {},
   "outputs": [],
   "source": [
    "# show representative images for each channel at each photon level \n",
    "num_images = 5\n",
    "\n",
    "for photons in photons_per_pixel:\n",
    "    fig, axes = plt.subplots(3, num_images, figsize=(num_images, 3))\n",
    "    for channel_idx, channel_name in enumerate(channel_names):\n",
    "        images = load_bsccm_images(bsccm, channel_name, num_images=5, edge_crop=edge_crop, convert_units_to_photons=True, median_filter=False, verbose=False)\n",
    "        noisy_images = add_shot_noise_to_experimenal_data(images, photons / np.mean(images))\n",
    "        for i in range(num_images):\n",
    "            axes[channel_idx, i].imshow(noisy_images[i])\n",
    "            axes[channel_idx, i].axis('off')\n",
    "    fig.suptitle(f'{photons} photons/pixel')\n",
    "    "
   ]
  }
 ],
 "metadata": {
  "kernelspec": {
   "display_name": "phenotypes",
   "language": "python",
   "name": "python3"
  },
  "language_info": {
   "codemirror_mode": {
    "name": "ipython",
    "version": 3
   },
   "file_extension": ".py",
   "mimetype": "text/x-python",
   "name": "python",
   "nbconvert_exporter": "python",
   "pygments_lexer": "ipython3",
   "version": "3.10.6"
  }
 },
 "nbformat": 4,
 "nbformat_minor": 2
}
