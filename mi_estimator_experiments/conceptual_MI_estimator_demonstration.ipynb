{
 "cells": [
  {
   "cell_type": "code",
   "execution_count": 1,
   "metadata": {
    "execution": {
     "iopub.execute_input": "2023-11-14T20:06:59.584005Z",
     "iopub.status.busy": "2023-11-14T20:06:59.583295Z",
     "iopub.status.idle": "2023-11-14T20:07:06.370173Z",
     "shell.execute_reply": "2023-11-14T20:07:06.369167Z"
    }
   },
   "outputs": [
    {
     "name": "stderr",
     "output_type": "stream",
     "text": [
      "2023-11-14 12:07:01.784415: W tensorflow/compiler/tf2tensorrt/utils/py_utils.cc:38] TF-TRT Warning: Could not find TensorRT\n"
     ]
    },
    {
     "name": "stdout",
     "output_type": "stream",
     "text": [
      "Opening BSCCM\n",
      "Opened BSCCM\n"
     ]
    }
   ],
   "source": [
    "%load_ext autoreload\n",
    "%autoreload 2\n",
    "# this only works on startup!\n",
    "from jax import config\n",
    "config.update(\"jax_enable_x64\", True)\n",
    "\n",
    "import os\n",
    "os.environ[\"CUDA_DEVICE_ORDER\"] = \"PCI_BUS_ID\" \n",
    "os.environ[\"CUDA_VISIBLE_DEVICES\"] = '2'\n",
    "from encoding_information.gpu_utils import limit_gpu_memory_growth\n",
    "limit_gpu_memory_growth()\n",
    "\n",
    "from cleanplots import *\n",
    "from tqdm import tqdm\n",
    "from encoding_information.information_estimation import *\n",
    "from encoding_information.image_utils import *\n",
    "from encoding_information.bsccm_utils import *\n",
    "from bsccm import BSCCM\n",
    "from jax import jit\n",
    "import numpy as onp\n",
    "import jax.numpy as np\n",
    "\n",
    "bsccm = BSCCM('/home/hpinkard_waller/data/BSCCM/')"
   ]
  },
  {
   "cell_type": "code",
   "execution_count": 2,
   "metadata": {
    "execution": {
     "iopub.execute_input": "2023-11-14T20:07:06.374079Z",
     "iopub.status.busy": "2023-11-14T20:07:06.373883Z",
     "iopub.status.idle": "2023-11-14T20:19:26.470896Z",
     "shell.execute_reply": "2023-11-14T20:19:26.469992Z"
    }
   },
   "outputs": [
    {
     "name": "stderr",
     "output_type": "stream",
     "text": [
      "  0%|                                                                 | 0/3 [00:00<?, ?it/s]\n",
      "Running bootstraps:   0%|                                            | 0/10 [00:00<?, ?it/s]\u001b[A"
     ]
    },
    {
     "name": "stdout",
     "output_type": "stream",
     "text": [
      "key [  41504071 2870943612] \n",
      "\n"
     ]
    },
    {
     "name": "stderr",
     "output_type": "stream",
     "text": [
      "2023-11-14 12:08:26.033800: W tensorflow/core/common_runtime/gpu/gpu_bfc_allocator.cc:47] Overriding orig_value setting because the TF_FORCE_GPU_ALLOW_GROWTH environment variable is set. Original config value was 0.\n",
      "\n",
      "Running bootstraps:  10%|███▌                                | 1/10 [00:22<03:25, 22.84s/it]\u001b[A"
     ]
    },
    {
     "name": "stdout",
     "output_type": "stream",
     "text": [
      "key [3324173179 1386242495] \n",
      "\n"
     ]
    },
    {
     "name": "stderr",
     "output_type": "stream",
     "text": [
      "\n",
      "Running bootstraps:  20%|███████▏                            | 2/10 [00:38<02:30, 18.75s/it]\u001b[A"
     ]
    },
    {
     "name": "stdout",
     "output_type": "stream",
     "text": [
      "key [1278494563 2057685557] \n",
      "\n"
     ]
    },
    {
     "name": "stderr",
     "output_type": "stream",
     "text": [
      "\n",
      "Running bootstraps:  30%|██████████▊                         | 3/10 [00:49<01:45, 15.05s/it]\u001b[A"
     ]
    },
    {
     "name": "stdout",
     "output_type": "stream",
     "text": [
      "key [ 805574445 3257057739] \n",
      "\n"
     ]
    },
    {
     "name": "stderr",
     "output_type": "stream",
     "text": [
      "\n",
      "Running bootstraps:  40%|██████████████▍                     | 4/10 [01:00<01:21, 13.53s/it]\u001b[A"
     ]
    },
    {
     "name": "stdout",
     "output_type": "stream",
     "text": [
      "key [1389345704 2538136628] \n",
      "\n"
     ]
    },
    {
     "name": "stderr",
     "output_type": "stream",
     "text": [
      "\n",
      "Running bootstraps:  50%|██████████████████                  | 5/10 [01:13<01:06, 13.29s/it]\u001b[A"
     ]
    },
    {
     "name": "stdout",
     "output_type": "stream",
     "text": [
      "key [2018855166 2806402627] \n",
      "\n"
     ]
    },
    {
     "name": "stderr",
     "output_type": "stream",
     "text": [
      "\n",
      "Running bootstraps:  60%|█████████████████████▌              | 6/10 [01:30<00:58, 14.52s/it]\u001b[A"
     ]
    },
    {
     "name": "stdout",
     "output_type": "stream",
     "text": [
      "key [ 764401292 3764316053] \n",
      "\n"
     ]
    },
    {
     "name": "stderr",
     "output_type": "stream",
     "text": [
      "\n",
      "Running bootstraps:  70%|█████████████████████████▏          | 7/10 [01:40<00:39, 13.17s/it]\u001b[A"
     ]
    },
    {
     "name": "stdout",
     "output_type": "stream",
     "text": [
      "key [2347025603 4009249415] \n",
      "\n"
     ]
    },
    {
     "name": "stderr",
     "output_type": "stream",
     "text": [
      "\n",
      "Running bootstraps:  80%|████████████████████████████▊       | 8/10 [01:53<00:25, 12.96s/it]\u001b[A"
     ]
    },
    {
     "name": "stdout",
     "output_type": "stream",
     "text": [
      "key [2031761950 4016837207] \n",
      "\n"
     ]
    },
    {
     "name": "stderr",
     "output_type": "stream",
     "text": [
      "\n",
      "Running bootstraps:  90%|████████████████████████████████▍   | 9/10 [02:07<00:13, 13.36s/it]\u001b[A"
     ]
    },
    {
     "name": "stdout",
     "output_type": "stream",
     "text": [
      "key [ 409274162 3351612957] \n",
      "\n"
     ]
    },
    {
     "name": "stderr",
     "output_type": "stream",
     "text": [
      "\n",
      "Running bootstraps: 100%|███████████████████████████████████| 10/10 [02:20<00:00, 14.08s/it]\n",
      "\n",
      "Running bootstraps:   0%|                                            | 0/10 [00:00<?, ?it/s]\u001b[A\n",
      "Running bootstraps: 100%|███████████████████████████████████| 10/10 [00:00<00:00, 75.18it/s]\n"
     ]
    },
    {
     "name": "stdout",
     "output_type": "stream",
     "text": [
      "key [ 659119695 4249401838] \n",
      "\n",
      "key [1816267968 4271703188] \n",
      "\n",
      "key [794685257 619504766] \n",
      "\n",
      "key [2457977630 2461028850] \n",
      "\n",
      "key [2523615756 3494674791] \n",
      "\n",
      "key [1453026657 2123504630] \n",
      "\n",
      "key [ 933834012 2976714570] \n",
      "\n",
      "key [1182581520 2151218444] \n",
      "\n",
      "key [ 143145421 2960718169] \n",
      "\n",
      "key [3136434120  392815497] \n",
      "\n"
     ]
    },
    {
     "name": "stderr",
     "output_type": "stream",
     "text": [
      " 33%|██████████████████▋                                     | 1/3 [03:34<07:09, 214.67s/it]\n",
      "Running bootstraps:   0%|                                            | 0/10 [00:00<?, ?it/s]\u001b[A"
     ]
    },
    {
     "name": "stdout",
     "output_type": "stream",
     "text": [
      "key [ 412095135 3579142245] \n",
      "\n"
     ]
    },
    {
     "name": "stderr",
     "output_type": "stream",
     "text": [
      "\n",
      "Running bootstraps:  10%|███▌                                | 1/10 [00:15<02:22, 15.82s/it]\u001b[A"
     ]
    },
    {
     "name": "stdout",
     "output_type": "stream",
     "text": [
      "key [ 446964436 1361266962] \n",
      "\n"
     ]
    },
    {
     "name": "stderr",
     "output_type": "stream",
     "text": [
      "\n",
      "Running bootstraps:  20%|███████▏                            | 2/10 [00:27<01:47, 13.48s/it]\u001b[A"
     ]
    },
    {
     "name": "stdout",
     "output_type": "stream",
     "text": [
      "key [1375123404 1134289726] \n",
      "\n"
     ]
    },
    {
     "name": "stderr",
     "output_type": "stream",
     "text": [
      "\n",
      "Running bootstraps:  30%|██████████▊                         | 3/10 [00:42<01:39, 14.28s/it]\u001b[A"
     ]
    },
    {
     "name": "stdout",
     "output_type": "stream",
     "text": [
      "key [1026142356 1313225167] \n",
      "\n"
     ]
    },
    {
     "name": "stderr",
     "output_type": "stream",
     "text": [
      "\n",
      "Running bootstraps:  40%|██████████████▍                     | 4/10 [00:52<01:15, 12.53s/it]\u001b[A"
     ]
    },
    {
     "name": "stdout",
     "output_type": "stream",
     "text": [
      "key [ 630236372 1337407409] \n",
      "\n"
     ]
    },
    {
     "name": "stderr",
     "output_type": "stream",
     "text": [
      "\n",
      "Running bootstraps:  50%|██████████████████                  | 5/10 [01:10<01:11, 14.40s/it]\u001b[A"
     ]
    },
    {
     "name": "stdout",
     "output_type": "stream",
     "text": [
      "key [725946702 227104107] \n",
      "\n"
     ]
    },
    {
     "name": "stderr",
     "output_type": "stream",
     "text": [
      "\n",
      "Running bootstraps:  60%|█████████████████████▌              | 6/10 [01:20<00:51, 12.90s/it]\u001b[A"
     ]
    },
    {
     "name": "stdout",
     "output_type": "stream",
     "text": [
      "key [3030397640 1026959178] \n",
      "\n"
     ]
    },
    {
     "name": "stderr",
     "output_type": "stream",
     "text": [
      "\n",
      "Running bootstraps:  70%|█████████████████████████▏          | 7/10 [01:41<00:47, 15.69s/it]\u001b[A"
     ]
    },
    {
     "name": "stdout",
     "output_type": "stream",
     "text": [
      "key [2660744910 1115718829] \n",
      "\n"
     ]
    },
    {
     "name": "stderr",
     "output_type": "stream",
     "text": [
      "\n",
      "Running bootstraps:  80%|████████████████████████████▊       | 8/10 [01:55<00:30, 15.09s/it]\u001b[A"
     ]
    },
    {
     "name": "stdout",
     "output_type": "stream",
     "text": [
      "key [3460395990 3478027694] \n",
      "\n"
     ]
    },
    {
     "name": "stderr",
     "output_type": "stream",
     "text": [
      "\n",
      "Running bootstraps:  90%|████████████████████████████████▍   | 9/10 [02:11<00:15, 15.42s/it]\u001b[A"
     ]
    },
    {
     "name": "stdout",
     "output_type": "stream",
     "text": [
      "key [1578749067  117423547] \n",
      "\n"
     ]
    },
    {
     "name": "stderr",
     "output_type": "stream",
     "text": [
      "\n",
      "Running bootstraps: 100%|███████████████████████████████████| 10/10 [02:30<00:00, 15.04s/it]\n",
      "\n",
      "Running bootstraps:   0%|                                            | 0/10 [00:00<?, ?it/s]\u001b[A\n",
      "Running bootstraps: 100%|███████████████████████████████████| 10/10 [00:00<00:00, 68.31it/s]\n",
      " 67%|█████████████████████████████████████▎                  | 2/3 [07:56<04:02, 242.35s/it]"
     ]
    },
    {
     "name": "stdout",
     "output_type": "stream",
     "text": [
      "key [2023417103 2131174981] \n",
      "\n",
      "key [1068530326  367990977] \n",
      "\n",
      "key [1298670164 1890453679] \n",
      "\n",
      "key [2656505615 1484121858] \n",
      "\n",
      "key [3542516574  684776657] \n",
      "\n",
      "key [3521886657 2770292510] \n",
      "\n",
      "key [  6560939 391541631] \n",
      "\n",
      "key [1316819750 3229605598] \n",
      "\n",
      "key [3854553962 2021647108] \n",
      "\n",
      "key [3005052785 2438364199] \n",
      "\n"
     ]
    },
    {
     "name": "stderr",
     "output_type": "stream",
     "text": [
      "\n",
      "Running bootstraps:   0%|                                            | 0/10 [00:00<?, ?it/s]\u001b[A"
     ]
    },
    {
     "name": "stdout",
     "output_type": "stream",
     "text": [
      "key [2361769590 1023945524] \n",
      "\n"
     ]
    },
    {
     "name": "stderr",
     "output_type": "stream",
     "text": [
      "\n",
      "Running bootstraps:  10%|███▌                                | 1/10 [00:18<02:48, 18.73s/it]\u001b[A"
     ]
    },
    {
     "name": "stdout",
     "output_type": "stream",
     "text": [
      "key [   8286518 1748382744] \n",
      "\n"
     ]
    },
    {
     "name": "stderr",
     "output_type": "stream",
     "text": [
      "\n",
      "Running bootstraps:  20%|███████▏                            | 2/10 [00:34<02:17, 17.15s/it]\u001b[A"
     ]
    },
    {
     "name": "stdout",
     "output_type": "stream",
     "text": [
      "key [1465970799 2090481814] \n",
      "\n"
     ]
    },
    {
     "name": "stderr",
     "output_type": "stream",
     "text": [
      "\n",
      "Running bootstraps:  30%|██████████▊                         | 3/10 [00:47<01:46, 15.19s/it]\u001b[A"
     ]
    },
    {
     "name": "stdout",
     "output_type": "stream",
     "text": [
      "key [1996155907 3380831180] \n",
      "\n"
     ]
    },
    {
     "name": "stderr",
     "output_type": "stream",
     "text": [
      "\n",
      "Running bootstraps:  40%|██████████████▍                     | 4/10 [01:05<01:37, 16.31s/it]\u001b[A"
     ]
    },
    {
     "name": "stdout",
     "output_type": "stream",
     "text": [
      "key [ 554013287 1396658677] \n",
      "\n"
     ]
    },
    {
     "name": "stderr",
     "output_type": "stream",
     "text": [
      "\n",
      "Running bootstraps:  50%|██████████████████                  | 5/10 [01:17<01:13, 14.79s/it]\u001b[A"
     ]
    },
    {
     "name": "stdout",
     "output_type": "stream",
     "text": [
      "key [4072509729 2698354255] \n",
      "\n"
     ]
    },
    {
     "name": "stderr",
     "output_type": "stream",
     "text": [
      "\n",
      "Running bootstraps:  60%|█████████████████████▌              | 6/10 [01:35<01:03, 15.95s/it]\u001b[A"
     ]
    },
    {
     "name": "stdout",
     "output_type": "stream",
     "text": [
      "key [2266076193 3567061038] \n",
      "\n"
     ]
    },
    {
     "name": "stderr",
     "output_type": "stream",
     "text": [
      "\n",
      "Running bootstraps:  70%|█████████████████████████▏          | 7/10 [01:51<00:47, 15.92s/it]\u001b[A"
     ]
    },
    {
     "name": "stdout",
     "output_type": "stream",
     "text": [
      "key [3960095311 1687258059] \n",
      "\n"
     ]
    },
    {
     "name": "stderr",
     "output_type": "stream",
     "text": [
      "\n",
      "Running bootstraps:  80%|████████████████████████████▊       | 8/10 [02:07<00:31, 15.77s/it]\u001b[A"
     ]
    },
    {
     "name": "stdout",
     "output_type": "stream",
     "text": [
      "key [2076593856 1275821805] \n",
      "\n"
     ]
    },
    {
     "name": "stderr",
     "output_type": "stream",
     "text": [
      "\n",
      "Running bootstraps:  90%|████████████████████████████████▍   | 9/10 [02:26<00:16, 16.72s/it]\u001b[A"
     ]
    },
    {
     "name": "stdout",
     "output_type": "stream",
     "text": [
      "key [3771148140  900716745] \n",
      "\n"
     ]
    },
    {
     "name": "stderr",
     "output_type": "stream",
     "text": [
      "\n",
      "Running bootstraps: 100%|███████████████████████████████████| 10/10 [02:35<00:00, 15.59s/it]\n",
      "\n",
      "Running bootstraps: 100%|██████████████████████████████████| 10/10 [00:00<00:00, 107.52it/s]\n",
      "100%|████████████████████████████████████████████████████████| 3/3 [12:19<00:00, 246.56s/it]\n"
     ]
    },
    {
     "name": "stdout",
     "output_type": "stream",
     "text": [
      "key [4267729859 1213424540] \n",
      "\n",
      "key [ 484353863 3822075549] \n",
      "\n",
      "key [ 406842671 1522322952] \n",
      "\n",
      "key [2715300459  194506411] \n",
      "\n",
      "key [ 672725966 1871739486] \n",
      "\n",
      "key [4280747572 1202471399] \n",
      "\n",
      "key [3858957482 4097394804] \n",
      "\n",
      "key [161909657 577834068] \n",
      "\n",
      "key [2297537071  628747643] \n",
      "\n",
      "key [ 377578120 3686565864] \n",
      "\n"
     ]
    }
   ],
   "source": [
    "channel_names = ['Brightfield', 'DPC_Right', 'LED119' ]\n",
    "edge_crop = 32\n",
    "num_images = 5000\n",
    "num_patches = 5000\n",
    "photons_per_pixel = 300\n",
    "num_bootstrap_samples = 10\n",
    "confidence_interval = 99\n",
    "patch_size = 10\n",
    "\n",
    "mi_means = []\n",
    "mi_confidences = []\n",
    "h_y_given_x_means = []\n",
    "h_y_given_x_confidences = []\n",
    "for channel_name in tqdm(channel_names):\n",
    "    images = load_bsccm_images(bsccm, channel_name, num_images=num_images, edge_crop=edge_crop, convert_units_to_photons=True, median_filter=True, verbose=False, batch=1)\n",
    "    patches = extract_patches(images, patch_size=patch_size, num_patches=num_patches, verbose=False)\n",
    "    patches = patches * photons_per_pixel / np.mean(images)\n",
    "    noisy_patches = add_noise(patches)\n",
    "\n",
    "    mi_mean, mi_confidence = run_bootstrap(noisy_patches, num_bootstrap_samples=num_bootstrap_samples, confidence_interval=confidence_interval, \n",
    "                estimation_fn=lambda noisy_images: estimate_mutual_information(noisy_images=noisy_images, verbose=False), verbose=True)\n",
    "    \n",
    "    h_y_given_x_mean, h_y_given_x_confidence = run_bootstrap(noisy_patches, num_bootstrap_samples=num_bootstrap_samples, confidence_interval=confidence_interval,\n",
    "                estimation_fn=lambda noisy_images: estimate_conditional_entropy(noisy_images), verbose=True)\n",
    "\n",
    "    mi_means.append(mi_mean)\n",
    "    mi_confidences.append(mi_confidence)\n",
    "    h_y_given_x_means.append(h_y_given_x_mean)\n",
    "    h_y_given_x_confidences.append(h_y_given_x_confidence)\n",
    "    \n",
    "mi_means = np.array(mi_means)\n",
    "mi_confidences = np.array(mi_confidences)\n",
    "h_y_given_x_means = np.array(h_y_given_x_means)\n",
    "h_y_given_x_confidences = np.array(h_y_given_x_confidences)"
   ]
  },
  {
   "cell_type": "code",
   "execution_count": 3,
   "metadata": {
    "execution": {
     "iopub.execute_input": "2023-11-14T20:19:26.475452Z",
     "iopub.status.busy": "2023-11-14T20:19:26.475053Z",
     "iopub.status.idle": "2023-11-14T20:19:28.212841Z",
     "shell.execute_reply": "2023-11-14T20:19:28.212023Z"
    }
   },
   "outputs": [
    {
     "data": {
      "image/png": "[encoded data removed]",
      "text/plain": [
       "<Figure size 400x400 with 1 Axes>"
      ]
     },
     "metadata": {},
     "output_type": "display_data"
    },
    {
     "data": {
      "image/png": "[encoded data removed]",
      "text/plain": [
       "<Figure size 400x400 with 1 Axes>"
      ]
     },
     "metadata": {},
     "output_type": "display_data"
    }
   ],
   "source": [
    "# set the width of the bars\n",
    "bar_width = 0.35\n",
    "error_kw = {'capsize': 12, 'capthick': 2}\n",
    "\n",
    "# create a paired bar plot of results\n",
    "fig, ax = plt.subplots(1, 1, figsize=(4, 4))\n",
    "\n",
    "\n",
    "# create the bar plots\n",
    "bar_width = 0.5\n",
    "lower_errors = mi_means - mi_confidences[:, 0]\n",
    "upper_errors = mi_confidences[:, 1] - mi_means\n",
    "\n",
    "# Calculate the positions where the bars should be placed to be centered on the ticks\n",
    "positions = np.arange(len(channel_names)) + 0.5 * bar_width\n",
    "\n",
    "ax.bar(\n",
    "    positions,\n",
    "    mi_means,\n",
    "    yerr=np.array([lower_errors, upper_errors]),\n",
    "    width=bar_width,\n",
    "    color=colors[0],\n",
    "    edgecolor='k',\n",
    "    linewidth=1,\n",
    "    error_kw=error_kw\n",
    ")\n",
    "\n",
    "# add labels, title, and legend\n",
    "ax.set_xticks(np.arange(len(channel_names)) + bar_width / 2, channel_names)\n",
    "ax.set_ylabel('Estimated mutual information per pixel (bits)')\n",
    "fig.suptitle(f'{confidence_interval}% confidence interval')\n",
    "clear_spines(ax)\n",
    "\n",
    "# make another plot for conditional entropy\n",
    "fig, ax = plt.subplots(1, 1, figsize=(4, 4))\n",
    "\n",
    "lower_errors = h_y_given_x_means - h_y_given_x_confidences[:, 0]\n",
    "upper_errors = h_y_given_x_confidences[:, 1] - h_y_given_x_means\n",
    "\n",
    "ax.bar(\n",
    "    positions,\n",
    "    h_y_given_x_means,\n",
    "    yerr=np.array([lower_errors, upper_errors]),\n",
    "    width=bar_width,\n",
    "    color=colors[0],\n",
    "    edgecolor='k',\n",
    "    linewidth=1,\n",
    "    error_kw=error_kw\n",
    ")\n",
    "\n",
    "# add labels, title, and legend\n",
    "ax.set_xticks(np.arange(len(channel_names)) + bar_width / 2, channel_names)\n",
    "ax.set_ylabel('Estimated conditional entropy per pixel (bits)')\n",
    "fig.suptitle(f'{confidence_interval}% confidence interval')\n",
    "clear_spines(ax)"
   ]
  },
  {
   "cell_type": "markdown",
   "metadata": {},
   "source": [
    "## MI vs num photons"
   ]
  },
  {
   "cell_type": "code",
   "execution_count": 4,
   "metadata": {
    "execution": {
     "iopub.execute_input": "2023-11-14T20:19:28.217152Z",
     "iopub.status.busy": "2023-11-14T20:19:28.216391Z",
     "iopub.status.idle": "2023-11-14T22:37:18.274185Z",
     "shell.execute_reply": "2023-11-14T22:37:18.273219Z"
    }
   },
   "outputs": [
    {
     "name": "stderr",
     "output_type": "stream",
     "text": [
      "  0%|                                                                 | 0/3 [00:00<?, ?it/s]\n",
      "Running bootstraps:   0%|                                            | 0/10 [00:00<?, ?it/s]\u001b[A"
     ]
    },
    {
     "name": "stdout",
     "output_type": "stream",
     "text": [
      "key [2190584864 1423786288] \n",
      "\n"
     ]
    },
    {
     "name": "stderr",
     "output_type": "stream",
     "text": [
      "/home/hpinkard_waller/GitRepos/EncodingInformation/encoding_information/information_estimation.py:211: UserWarning: Mean pixel value is 19.77. More accurate results can probably be obtainedby setting estimate_conditional_from_model_samples=True\n",
      "  warnings.warn(f\"Mean pixel value is {np.mean(clean_images_if_available):.2f}. More accurate results can probably be obtained\"\n",
      "\n",
      "Running bootstraps:  10%|███▌                                | 1/10 [00:38<05:48, 38.68s/it]\u001b[A/home/hpinkard_waller/GitRepos/EncodingInformation/encoding_information/information_estimation.py:211: UserWarning: Mean pixel value is 19.76. More accurate results can probably be obtainedby setting estimate_conditional_from_model_samples=True\n",
      "  warnings.warn(f\"Mean pixel value is {np.mean(clean_images_if_available):.2f}. More accurate results can probably be obtained\"\n"
     ]
    },
    {
     "name": "stdout",
     "output_type": "stream",
     "text": [
      "key [3380453435 3194845310] \n",
      "\n"
     ]
    },
    {
     "name": "stderr",
     "output_type": "stream",
     "text": [
      "\n",
      "Running bootstraps:  20%|███████▏                            | 2/10 [01:08<04:26, 33.25s/it]\u001b[A"
     ]
    },
    {
     "name": "stdout",
     "output_type": "stream",
     "text": [
      "key [1178884483 2217818671] \n",
      "\n"
     ]
    },
    {
     "name": "stderr",
     "output_type": "stream",
     "text": [
      "\n",
      "Running bootstraps:  30%|██████████▊                         | 3/10 [01:36<03:36, 30.91s/it]\u001b[A/home/hpinkard_waller/GitRepos/EncodingInformation/encoding_information/information_estimation.py:211: UserWarning: Mean pixel value is 19.75. More accurate results can probably be obtainedby setting estimate_conditional_from_model_samples=True\n",
      "  warnings.warn(f\"Mean pixel value is {np.mean(clean_images_if_available):.2f}. More accurate results can probably be obtained\"\n"
     ]
    },
    {
     "name": "stdout",
     "output_type": "stream",
     "text": [
      "key [4026364801 1549660235] \n",
      "\n"
     ]
    },
    {
     "name": "stderr",
     "output_type": "stream",
     "text": [
      "\n",
      "Running bootstraps:  40%|██████████████▍                     | 4/10 [02:10<03:13, 32.29s/it]\u001b[A"
     ]
    },
    {
     "name": "stdout",
     "output_type": "stream",
     "text": [
      "key [1145493063 3265275861] \n",
      "\n"
     ]
    },
    {
     "name": "stderr",
     "output_type": "stream",
     "text": [
      "\n",
      "Running bootstraps:  50%|██████████████████                  | 5/10 [02:40<02:36, 31.24s/it]\u001b[A"
     ]
    },
    {
     "name": "stdout",
     "output_type": "stream",
     "text": [
      "key [1248459358 3138548554] \n",
      "\n"
     ]
    },
    {
     "name": "stderr",
     "output_type": "stream",
     "text": [
      "\n",
      "Running bootstraps:  60%|█████████████████████▌              | 6/10 [03:06<01:58, 29.64s/it]\u001b[A"
     ]
    },
    {
     "name": "stdout",
     "output_type": "stream",
     "text": [
      "key [1115165421 1404801660] \n",
      "\n"
     ]
    },
    {
     "name": "stderr",
     "output_type": "stream",
     "text": [
      "\n",
      "Running bootstraps:  70%|█████████████████████████▏          | 7/10 [03:32<01:25, 28.51s/it]\u001b[A"
     ]
    },
    {
     "name": "stdout",
     "output_type": "stream",
     "text": [
      "key [2055827265 1074138542] \n",
      "\n"
     ]
    },
    {
     "name": "stderr",
     "output_type": "stream",
     "text": [
      "\n",
      "Running bootstraps:  80%|████████████████████████████▊       | 8/10 [04:01<00:57, 28.74s/it]\u001b[A/home/hpinkard_waller/GitRepos/EncodingInformation/encoding_information/information_estimation.py:211: UserWarning: Mean pixel value is 19.74. More accurate results can probably be obtainedby setting estimate_conditional_from_model_samples=True\n",
      "  warnings.warn(f\"Mean pixel value is {np.mean(clean_images_if_available):.2f}. More accurate results can probably be obtained\"\n"
     ]
    },
    {
     "name": "stdout",
     "output_type": "stream",
     "text": [
      "key [3909301158 3566466470] \n",
      "\n"
     ]
    },
    {
     "name": "stderr",
     "output_type": "stream",
     "text": [
      "\n",
      "Running bootstraps:  90%|████████████████████████████████▍   | 9/10 [04:35<00:30, 30.16s/it]\u001b[A"
     ]
    },
    {
     "name": "stdout",
     "output_type": "stream",
     "text": [
      "key [ 435561101 3944890672] \n",
      "\n"
     ]
    },
    {
     "name": "stderr",
     "output_type": "stream",
     "text": [
      "\n",
      "Running bootstraps: 100%|███████████████████████████████████| 10/10 [05:07<00:00, 30.80s/it]\n",
      "\n",
      "Running bootstraps:   0%|                                            | 0/10 [00:00<?, ?it/s]\u001b[A"
     ]
    },
    {
     "name": "stdout",
     "output_type": "stream",
     "text": [
      "key [2167074990 4277150544] \n",
      "\n"
     ]
    },
    {
     "name": "stderr",
     "output_type": "stream",
     "text": [
      "\n",
      "Running bootstraps:  10%|███▌                                | 1/10 [00:31<04:45, 31.72s/it]\u001b[A"
     ]
    },
    {
     "name": "stdout",
     "output_type": "stream",
     "text": [
      "key [4252905796 3426509340] \n",
      "\n"
     ]
    },
    {
     "name": "stderr",
     "output_type": "stream",
     "text": [
      "\n",
      "Running bootstraps:  20%|███████▏                            | 2/10 [01:03<04:14, 31.78s/it]\u001b[A"
     ]
    },
    {
     "name": "stdout",
     "output_type": "stream",
     "text": [
      "key [ 828204100 2866390130] \n",
      "\n"
     ]
    },
    {
     "name": "stderr",
     "output_type": "stream",
     "text": [
      "\n",
      "Running bootstraps:  30%|██████████▊                         | 3/10 [01:33<03:36, 30.87s/it]\u001b[A"
     ]
    },
    {
     "name": "stdout",
     "output_type": "stream",
     "text": [
      "key [ 781121966 1071906914] \n",
      "\n"
     ]
    },
    {
     "name": "stderr",
     "output_type": "stream",
     "text": [
      "\n",
      "Running bootstraps:  40%|██████████████▍                     | 4/10 [02:10<03:19, 33.21s/it]\u001b[A"
     ]
    },
    {
     "name": "stdout",
     "output_type": "stream",
     "text": [
      "key [ 430953796 3542174609] \n",
      "\n"
     ]
    },
    {
     "name": "stderr",
     "output_type": "stream",
     "text": [
      "\n",
      "Running bootstraps:  50%|██████████████████                  | 5/10 [02:48<02:56, 35.23s/it]\u001b[A"
     ]
    },
    {
     "name": "stdout",
     "output_type": "stream",
     "text": [
      "key [4130496131  502806341] \n",
      "\n"
     ]
    },
    {
     "name": "stderr",
     "output_type": "stream",
     "text": [
      "\n",
      "Running bootstraps:  60%|█████████████████████▌              | 6/10 [03:24<02:21, 35.42s/it]\u001b[A"
     ]
    },
    {
     "name": "stdout",
     "output_type": "stream",
     "text": [
      "key [4042918098 1688188290] \n",
      "\n"
     ]
    },
    {
     "name": "stderr",
     "output_type": "stream",
     "text": [
      "\n",
      "Running bootstraps:  70%|█████████████████████████▏          | 7/10 [04:01<01:47, 35.93s/it]\u001b[A"
     ]
    },
    {
     "name": "stdout",
     "output_type": "stream",
     "text": [
      "key [3011861487 3789813597] \n",
      "\n"
     ]
    },
    {
     "name": "stderr",
     "output_type": "stream",
     "text": [
      "\n",
      "Running bootstraps:  80%|████████████████████████████▊       | 8/10 [04:30<01:07, 33.66s/it]\u001b[A"
     ]
    },
    {
     "name": "stdout",
     "output_type": "stream",
     "text": [
      "key [  46637837 3278703700] \n",
      "\n"
     ]
    },
    {
     "name": "stderr",
     "output_type": "stream",
     "text": [
      "\n",
      "Running bootstraps:  90%|████████████████████████████████▍   | 9/10 [05:04<00:33, 33.91s/it]\u001b[A"
     ]
    },
    {
     "name": "stdout",
     "output_type": "stream",
     "text": [
      "key [4270019043 3575259431] \n",
      "\n"
     ]
    },
    {
     "name": "stderr",
     "output_type": "stream",
     "text": [
      "\n",
      "Running bootstraps: 100%|███████████████████████████████████| 10/10 [05:36<00:00, 33.64s/it]\n",
      "\n",
      "Running bootstraps:   0%|                                            | 0/10 [00:00<?, ?it/s]\u001b[A"
     ]
    },
    {
     "name": "stdout",
     "output_type": "stream",
     "text": [
      "key [ 716639038 3496364749] \n",
      "\n"
     ]
    },
    {
     "name": "stderr",
     "output_type": "stream",
     "text": [
      "\n",
      "Running bootstraps:  10%|███▌                                | 1/10 [00:38<05:43, 38.14s/it]\u001b[A"
     ]
    },
    {
     "name": "stdout",
     "output_type": "stream",
     "text": [
      "key [208780447 387705175] \n",
      "\n"
     ]
    },
    {
     "name": "stderr",
     "output_type": "stream",
     "text": [
      "\n",
      "Running bootstraps:  20%|███████▏                            | 2/10 [01:10<04:37, 34.65s/it]\u001b[A"
     ]
    },
    {
     "name": "stdout",
     "output_type": "stream",
     "text": [
      "key [3837953281 3320032251] \n",
      "\n"
     ]
    },
    {
     "name": "stderr",
     "output_type": "stream",
     "text": [
      "\n",
      "Running bootstraps:  30%|██████████▊                         | 3/10 [01:49<04:18, 36.88s/it]\u001b[A"
     ]
    },
    {
     "name": "stdout",
     "output_type": "stream",
     "text": [
      "key [ 267345298 1022175786] \n",
      "\n"
     ]
    },
    {
     "name": "stderr",
     "output_type": "stream",
     "text": [
      "\n",
      "Running bootstraps:  40%|██████████████▍                     | 4/10 [02:30<03:49, 38.27s/it]\u001b[A"
     ]
    },
    {
     "name": "stdout",
     "output_type": "stream",
     "text": [
      "key [4021471678 3397528312] \n",
      "\n"
     ]
    },
    {
     "name": "stderr",
     "output_type": "stream",
     "text": [
      "\n",
      "Running bootstraps:  50%|██████████████████                  | 5/10 [03:05<03:06, 37.24s/it]\u001b[A"
     ]
    },
    {
     "name": "stdout",
     "output_type": "stream",
     "text": [
      "key [380386768 631598034] \n",
      "\n"
     ]
    },
    {
     "name": "stderr",
     "output_type": "stream",
     "text": [
      "\n",
      "Running bootstraps:  60%|█████████████████████▌              | 6/10 [03:41<02:26, 36.63s/it]\u001b[A"
     ]
    },
    {
     "name": "stdout",
     "output_type": "stream",
     "text": [
      "key [3772232484 2166100371] \n",
      "\n"
     ]
    },
    {
     "name": "stderr",
     "output_type": "stream",
     "text": [
      "\n",
      "Running bootstraps:  70%|█████████████████████████▏          | 7/10 [04:13<01:45, 35.14s/it]\u001b[A"
     ]
    },
    {
     "name": "stdout",
     "output_type": "stream",
     "text": [
      "key [4159057908 1001074303] \n",
      "\n"
     ]
    },
    {
     "name": "stderr",
     "output_type": "stream",
     "text": [
      "\n",
      "Running bootstraps:  80%|████████████████████████████▊       | 8/10 [04:45<01:08, 34.21s/it]\u001b[A"
     ]
    },
    {
     "name": "stdout",
     "output_type": "stream",
     "text": [
      "key [  72753693 1611344256] \n",
      "\n"
     ]
    },
    {
     "name": "stderr",
     "output_type": "stream",
     "text": [
      "\n",
      "Running bootstraps:  90%|████████████████████████████████▍   | 9/10 [05:12<00:31, 31.94s/it]\u001b[A"
     ]
    },
    {
     "name": "stdout",
     "output_type": "stream",
     "text": [
      "key [ 393890028 1462944059] \n",
      "\n"
     ]
    },
    {
     "name": "stderr",
     "output_type": "stream",
     "text": [
      "\n",
      "Running bootstraps: 100%|███████████████████████████████████| 10/10 [05:46<00:00, 34.63s/it]\n",
      "\n",
      "Running bootstraps:   0%|                                            | 0/10 [00:00<?, ?it/s]\u001b[A"
     ]
    },
    {
     "name": "stdout",
     "output_type": "stream",
     "text": [
      "key [ 379602743 1638854118] \n",
      "\n"
     ]
    },
    {
     "name": "stderr",
     "output_type": "stream",
     "text": [
      "\n",
      "Running bootstraps:  10%|███▌                                | 1/10 [00:35<05:21, 35.70s/it]\u001b[A"
     ]
    },
    {
     "name": "stdout",
     "output_type": "stream",
     "text": [
      "key [2902075736 4059794933] \n",
      "\n"
     ]
    },
    {
     "name": "stderr",
     "output_type": "stream",
     "text": [
      "\n",
      "Running bootstraps:  20%|███████▏                            | 2/10 [01:11<04:46, 35.81s/it]\u001b[A"
     ]
    },
    {
     "name": "stdout",
     "output_type": "stream",
     "text": [
      "key [3427877793 3650309252] \n",
      "\n"
     ]
    },
    {
     "name": "stderr",
     "output_type": "stream",
     "text": [
      "\n",
      "Running bootstraps:  30%|██████████▊                         | 3/10 [01:54<04:32, 38.88s/it]\u001b[A"
     ]
    },
    {
     "name": "stdout",
     "output_type": "stream",
     "text": [
      "key [ 860327407 1287124823] \n",
      "\n"
     ]
    },
    {
     "name": "stderr",
     "output_type": "stream",
     "text": [
      "\n",
      "Running bootstraps:  40%|██████████████▍                     | 4/10 [02:29<03:45, 37.66s/it]\u001b[A"
     ]
    },
    {
     "name": "stdout",
     "output_type": "stream",
     "text": [
      "key [3005317669  815939294] \n",
      "\n"
     ]
    },
    {
     "name": "stderr",
     "output_type": "stream",
     "text": [
      "\n",
      "Running bootstraps:  50%|██████████████████                  | 5/10 [02:58<02:52, 34.43s/it]\u001b[A"
     ]
    },
    {
     "name": "stdout",
     "output_type": "stream",
     "text": [
      "key [3943757567 1599794352] \n",
      "\n"
     ]
    },
    {
     "name": "stderr",
     "output_type": "stream",
     "text": [
      "\n",
      "Running bootstraps:  60%|█████████████████████▌              | 6/10 [03:37<02:24, 36.01s/it]\u001b[A"
     ]
    },
    {
     "name": "stdout",
     "output_type": "stream",
     "text": [
      "key [3973618774 3463045936] \n",
      "\n"
     ]
    },
    {
     "name": "stderr",
     "output_type": "stream",
     "text": [
      "\n",
      "Running bootstraps:  70%|█████████████████████████▏          | 7/10 [04:06<01:40, 33.64s/it]\u001b[A"
     ]
    },
    {
     "name": "stdout",
     "output_type": "stream",
     "text": [
      "key [3119885948 1668230774] \n",
      "\n"
     ]
    },
    {
     "name": "stderr",
     "output_type": "stream",
     "text": [
      "\n",
      "Running bootstraps:  80%|████████████████████████████▊       | 8/10 [04:37<01:05, 32.85s/it]\u001b[A"
     ]
    },
    {
     "name": "stdout",
     "output_type": "stream",
     "text": [
      "key [ 375838189 1947035292] \n",
      "\n"
     ]
    },
    {
     "name": "stderr",
     "output_type": "stream",
     "text": [
      "\n",
      "Running bootstraps:  90%|████████████████████████████████▍   | 9/10 [05:07<00:32, 32.08s/it]\u001b[A"
     ]
    },
    {
     "name": "stdout",
     "output_type": "stream",
     "text": [
      "key [2907861538 3241368314] \n",
      "\n"
     ]
    },
    {
     "name": "stderr",
     "output_type": "stream",
     "text": [
      "\n",
      "Running bootstraps: 100%|███████████████████████████████████| 10/10 [05:43<00:00, 34.32s/it]\n",
      "\n",
      "Running bootstraps:   0%|                                            | 0/10 [00:00<?, ?it/s]\u001b[A"
     ]
    },
    {
     "name": "stdout",
     "output_type": "stream",
     "text": [
      "key [1961071172 1348145093] \n",
      "\n"
     ]
    },
    {
     "name": "stderr",
     "output_type": "stream",
     "text": [
      "\n",
      "Running bootstraps:  10%|███▌                                | 1/10 [00:50<07:37, 50.85s/it]\u001b[A"
     ]
    },
    {
     "name": "stdout",
     "output_type": "stream",
     "text": [
      "key [1283487883 2602957654] \n",
      "\n"
     ]
    },
    {
     "name": "stderr",
     "output_type": "stream",
     "text": [
      "\n",
      "Running bootstraps:  20%|███████▏                            | 2/10 [01:45<07:04, 53.10s/it]\u001b[A"
     ]
    },
    {
     "name": "stdout",
     "output_type": "stream",
     "text": [
      "key [4032198736 3331520293] \n",
      "\n"
     ]
    },
    {
     "name": "stderr",
     "output_type": "stream",
     "text": [
      "\n",
      "Running bootstraps:  30%|██████████▊                         | 3/10 [02:36<06:04, 52.03s/it]\u001b[A"
     ]
    },
    {
     "name": "stdout",
     "output_type": "stream",
     "text": [
      "key [ 430074176 1346180374] \n",
      "\n"
     ]
    },
    {
     "name": "stderr",
     "output_type": "stream",
     "text": [
      "\n",
      "Running bootstraps:  40%|██████████████▍                     | 4/10 [03:24<05:03, 50.65s/it]\u001b[A"
     ]
    },
    {
     "name": "stdout",
     "output_type": "stream",
     "text": [
      "key [2512511343  410690261] \n",
      "\n"
     ]
    },
    {
     "name": "stderr",
     "output_type": "stream",
     "text": [
      "\n",
      "Running bootstraps:  50%|██████████████████                  | 5/10 [03:57<03:40, 44.09s/it]\u001b[A"
     ]
    },
    {
     "name": "stdout",
     "output_type": "stream",
     "text": [
      "key [ 953545701 2870194515] \n",
      "\n"
     ]
    },
    {
     "name": "stderr",
     "output_type": "stream",
     "text": [
      "\n",
      "Running bootstraps:  60%|█████████████████████▌              | 6/10 [04:44<03:00, 45.12s/it]\u001b[A"
     ]
    },
    {
     "name": "stdout",
     "output_type": "stream",
     "text": [
      "key [661939014 417050572] \n",
      "\n"
     ]
    },
    {
     "name": "stderr",
     "output_type": "stream",
     "text": [
      "\n",
      "Running bootstraps:  70%|█████████████████████████▏          | 7/10 [05:21<02:07, 42.47s/it]\u001b[A"
     ]
    },
    {
     "name": "stdout",
     "output_type": "stream",
     "text": [
      "key [ 923982175 4193327460] \n",
      "\n"
     ]
    },
    {
     "name": "stderr",
     "output_type": "stream",
     "text": [
      "\n",
      "Running bootstraps:  80%|████████████████████████████▊       | 8/10 [06:27<01:40, 50.04s/it]\u001b[A"
     ]
    },
    {
     "name": "stdout",
     "output_type": "stream",
     "text": [
      "key [ 782933894 3796777254] \n",
      "\n"
     ]
    },
    {
     "name": "stderr",
     "output_type": "stream",
     "text": [
      "\n",
      "Running bootstraps:  90%|████████████████████████████████▍   | 9/10 [07:06<00:46, 46.51s/it]\u001b[A"
     ]
    },
    {
     "name": "stdout",
     "output_type": "stream",
     "text": [
      "key [2594047710 1996133484] \n",
      "\n"
     ]
    },
    {
     "name": "stderr",
     "output_type": "stream",
     "text": [
      "\n",
      "Running bootstraps: 100%|███████████████████████████████████| 10/10 [08:00<00:00, 48.05s/it]\n",
      " 33%|█████████████████▋                                   | 1/3 [40:03<1:20:06, 2403.14s/it]\n",
      "Running bootstraps:   0%|                                            | 0/10 [00:00<?, ?it/s]\u001b[A/home/hpinkard_waller/GitRepos/EncodingInformation/encoding_information/information_estimation.py:211: UserWarning: Mean pixel value is 19.73. More accurate results can probably be obtainedby setting estimate_conditional_from_model_samples=True\n",
      "  warnings.warn(f\"Mean pixel value is {np.mean(clean_images_if_available):.2f}. More accurate results can probably be obtained\"\n"
     ]
    },
    {
     "name": "stdout",
     "output_type": "stream",
     "text": [
      "key [1195361927 3819558077] \n",
      "\n"
     ]
    },
    {
     "name": "stderr",
     "output_type": "stream",
     "text": [
      "\n",
      "Running bootstraps:  10%|███▌                                | 1/10 [00:53<08:04, 53.82s/it]\u001b[A/home/hpinkard_waller/GitRepos/EncodingInformation/encoding_information/information_estimation.py:211: UserWarning: Mean pixel value is 19.79. More accurate results can probably be obtainedby setting estimate_conditional_from_model_samples=True\n",
      "  warnings.warn(f\"Mean pixel value is {np.mean(clean_images_if_available):.2f}. More accurate results can probably be obtained\"\n"
     ]
    },
    {
     "name": "stdout",
     "output_type": "stream",
     "text": [
      "key [3806480831 2550192098] \n",
      "\n"
     ]
    },
    {
     "name": "stderr",
     "output_type": "stream",
     "text": [
      "\n",
      "Running bootstraps:  20%|███████▏                            | 2/10 [01:47<07:08, 53.61s/it]\u001b[A/home/hpinkard_waller/GitRepos/EncodingInformation/encoding_information/information_estimation.py:211: UserWarning: Mean pixel value is 19.77. More accurate results can probably be obtainedby setting estimate_conditional_from_model_samples=True\n",
      "  warnings.warn(f\"Mean pixel value is {np.mean(clean_images_if_available):.2f}. More accurate results can probably be obtained\"\n"
     ]
    },
    {
     "name": "stdout",
     "output_type": "stream",
     "text": [
      "key [2744627787 2182927456] \n",
      "\n"
     ]
    },
    {
     "name": "stderr",
     "output_type": "stream",
     "text": [
      "\n",
      "Running bootstraps:  30%|██████████▊                         | 3/10 [02:32<05:48, 49.72s/it]\u001b[A"
     ]
    },
    {
     "name": "stdout",
     "output_type": "stream",
     "text": [
      "key [336100062 289963373] \n",
      "\n"
     ]
    },
    {
     "name": "stderr",
     "output_type": "stream",
     "text": [
      "\n",
      "Running bootstraps:  40%|██████████████▍                     | 4/10 [03:24<05:03, 50.53s/it]\u001b[A/home/hpinkard_waller/GitRepos/EncodingInformation/encoding_information/information_estimation.py:211: UserWarning: Mean pixel value is 19.82. More accurate results can probably be obtainedby setting estimate_conditional_from_model_samples=True\n",
      "  warnings.warn(f\"Mean pixel value is {np.mean(clean_images_if_available):.2f}. More accurate results can probably be obtained\"\n"
     ]
    },
    {
     "name": "stdout",
     "output_type": "stream",
     "text": [
      "key [2856597857 1590298586] \n",
      "\n"
     ]
    },
    {
     "name": "stderr",
     "output_type": "stream",
     "text": [
      "\n",
      "Running bootstraps:  50%|██████████████████                  | 5/10 [04:11<04:07, 49.43s/it]\u001b[A/home/hpinkard_waller/GitRepos/EncodingInformation/encoding_information/information_estimation.py:211: UserWarning: Mean pixel value is 19.68. More accurate results can probably be obtainedby setting estimate_conditional_from_model_samples=True\n",
      "  warnings.warn(f\"Mean pixel value is {np.mean(clean_images_if_available):.2f}. More accurate results can probably be obtained\"\n"
     ]
    },
    {
     "name": "stdout",
     "output_type": "stream",
     "text": [
      "key [3455770998 1918885064] \n",
      "\n"
     ]
    },
    {
     "name": "stderr",
     "output_type": "stream",
     "text": [
      "\n",
      "Running bootstraps:  60%|█████████████████████▌              | 6/10 [04:57<03:12, 48.09s/it]\u001b[A/home/hpinkard_waller/GitRepos/EncodingInformation/encoding_information/information_estimation.py:211: UserWarning: Mean pixel value is 19.78. More accurate results can probably be obtainedby setting estimate_conditional_from_model_samples=True\n",
      "  warnings.warn(f\"Mean pixel value is {np.mean(clean_images_if_available):.2f}. More accurate results can probably be obtained\"\n"
     ]
    },
    {
     "name": "stdout",
     "output_type": "stream",
     "text": [
      "key [1292636496   91724388] \n",
      "\n"
     ]
    },
    {
     "name": "stderr",
     "output_type": "stream",
     "text": [
      "\n",
      "Running bootstraps:  70%|█████████████████████████▏          | 7/10 [05:54<02:33, 51.08s/it]\u001b[A"
     ]
    },
    {
     "name": "stdout",
     "output_type": "stream",
     "text": [
      "key [1929269542 1054383881] \n",
      "\n"
     ]
    },
    {
     "name": "stderr",
     "output_type": "stream",
     "text": [
      "\n",
      "Running bootstraps:  80%|████████████████████████████▊       | 8/10 [06:44<01:41, 50.74s/it]\u001b[A"
     ]
    },
    {
     "name": "stdout",
     "output_type": "stream",
     "text": [
      "key [ 334845235 2167752812] \n",
      "\n"
     ]
    },
    {
     "name": "stderr",
     "output_type": "stream",
     "text": [
      "\n",
      "Running bootstraps:  90%|████████████████████████████████▍   | 9/10 [07:25<00:47, 47.76s/it]\u001b[A"
     ]
    },
    {
     "name": "stdout",
     "output_type": "stream",
     "text": [
      "key [3543088664 4078186661] \n",
      "\n"
     ]
    },
    {
     "name": "stderr",
     "output_type": "stream",
     "text": [
      "\n",
      "Running bootstraps: 100%|███████████████████████████████████| 10/10 [08:07<00:00, 48.72s/it]\n",
      "\n",
      "Running bootstraps:   0%|                                            | 0/10 [00:00<?, ?it/s]\u001b[A"
     ]
    },
    {
     "name": "stdout",
     "output_type": "stream",
     "text": [
      "key [2010250682 3488634278] \n",
      "\n"
     ]
    },
    {
     "name": "stderr",
     "output_type": "stream",
     "text": [
      "\n",
      "Running bootstraps:  10%|███▌                                | 1/10 [00:45<06:53, 45.90s/it]\u001b[A"
     ]
    },
    {
     "name": "stdout",
     "output_type": "stream",
     "text": [
      "key [4163627947 1168939237] \n",
      "\n"
     ]
    },
    {
     "name": "stderr",
     "output_type": "stream",
     "text": [
      "\n",
      "Running bootstraps:  20%|███████▏                            | 2/10 [01:25<05:39, 42.44s/it]\u001b[A"
     ]
    },
    {
     "name": "stdout",
     "output_type": "stream",
     "text": [
      "key [3479885364 1245586717] \n",
      "\n"
     ]
    },
    {
     "name": "stderr",
     "output_type": "stream",
     "text": [
      "\n",
      "Running bootstraps:  30%|██████████▊                         | 3/10 [02:18<05:29, 47.09s/it]\u001b[A"
     ]
    },
    {
     "name": "stdout",
     "output_type": "stream",
     "text": [
      "key [3033046507 2622888964] \n",
      "\n"
     ]
    },
    {
     "name": "stderr",
     "output_type": "stream",
     "text": [
      "\n",
      "Running bootstraps:  40%|██████████████▍                     | 4/10 [03:04<04:40, 46.81s/it]\u001b[A"
     ]
    },
    {
     "name": "stdout",
     "output_type": "stream",
     "text": [
      "key [1775365569 3223915422] \n",
      "\n"
     ]
    },
    {
     "name": "stderr",
     "output_type": "stream",
     "text": [
      "\n",
      "Running bootstraps:  50%|██████████████████                  | 5/10 [03:46<03:45, 45.06s/it]\u001b[A"
     ]
    },
    {
     "name": "stdout",
     "output_type": "stream",
     "text": [
      "key [3435252793 2725962724] \n",
      "\n"
     ]
    },
    {
     "name": "stderr",
     "output_type": "stream",
     "text": [
      "\n",
      "Running bootstraps:  60%|█████████████████████▌              | 6/10 [04:36<03:06, 46.53s/it]\u001b[A"
     ]
    },
    {
     "name": "stdout",
     "output_type": "stream",
     "text": [
      "key [4131161912 2652568589] \n",
      "\n"
     ]
    },
    {
     "name": "stderr",
     "output_type": "stream",
     "text": [
      "\n",
      "Running bootstraps:  70%|█████████████████████████▏          | 7/10 [05:23<02:19, 46.63s/it]\u001b[A"
     ]
    },
    {
     "name": "stdout",
     "output_type": "stream",
     "text": [
      "key [2918177742 3634067041] \n",
      "\n"
     ]
    },
    {
     "name": "stderr",
     "output_type": "stream",
     "text": [
      "\n",
      "Running bootstraps:  80%|████████████████████████████▊       | 8/10 [06:17<01:38, 49.15s/it]\u001b[A"
     ]
    },
    {
     "name": "stdout",
     "output_type": "stream",
     "text": [
      "key [1122079692  923479101] \n",
      "\n"
     ]
    },
    {
     "name": "stderr",
     "output_type": "stream",
     "text": [
      "\n",
      "Running bootstraps:  90%|████████████████████████████████▍   | 9/10 [06:54<00:45, 45.23s/it]\u001b[A"
     ]
    },
    {
     "name": "stdout",
     "output_type": "stream",
     "text": [
      "key [3436696184 2054774903] \n",
      "\n"
     ]
    },
    {
     "name": "stderr",
     "output_type": "stream",
     "text": [
      "\n",
      "Running bootstraps: 100%|███████████████████████████████████| 10/10 [07:44<00:00, 46.48s/it]\n",
      "\n",
      "Running bootstraps:   0%|                                            | 0/10 [00:00<?, ?it/s]\u001b[A"
     ]
    },
    {
     "name": "stdout",
     "output_type": "stream",
     "text": [
      "key [3578938284 2041152314] \n",
      "\n"
     ]
    },
    {
     "name": "stderr",
     "output_type": "stream",
     "text": [
      "\n",
      "Running bootstraps:  10%|███▌                                | 1/10 [00:44<06:39, 44.42s/it]\u001b[A"
     ]
    },
    {
     "name": "stdout",
     "output_type": "stream",
     "text": [
      "key [1110136737  681546009] \n",
      "\n"
     ]
    },
    {
     "name": "stderr",
     "output_type": "stream",
     "text": [
      "\n",
      "Running bootstraps:  20%|███████▏                            | 2/10 [01:14<04:46, 35.87s/it]\u001b[A"
     ]
    },
    {
     "name": "stdout",
     "output_type": "stream",
     "text": [
      "key [3656055320 4029668515] \n",
      "\n"
     ]
    },
    {
     "name": "stderr",
     "output_type": "stream",
     "text": [
      "\n",
      "Running bootstraps:  30%|██████████▊                         | 3/10 [01:53<04:22, 37.54s/it]\u001b[A"
     ]
    },
    {
     "name": "stdout",
     "output_type": "stream",
     "text": [
      "key [ 672312161 3991515289] \n",
      "\n"
     ]
    },
    {
     "name": "stderr",
     "output_type": "stream",
     "text": [
      "\n",
      "Running bootstraps:  40%|██████████████▍                     | 4/10 [02:39<04:05, 40.87s/it]\u001b[A"
     ]
    },
    {
     "name": "stdout",
     "output_type": "stream",
     "text": [
      "key [3247477074  117872073] \n",
      "\n"
     ]
    },
    {
     "name": "stderr",
     "output_type": "stream",
     "text": [
      "\n",
      "Running bootstraps:  50%|██████████████████                  | 5/10 [03:17<03:18, 39.64s/it]\u001b[A"
     ]
    },
    {
     "name": "stdout",
     "output_type": "stream",
     "text": [
      "key [3201066414 2753931855] \n",
      "\n"
     ]
    },
    {
     "name": "stderr",
     "output_type": "stream",
     "text": [
      "\n",
      "Running bootstraps:  60%|█████████████████████▌              | 6/10 [04:02<02:45, 41.39s/it]\u001b[A"
     ]
    },
    {
     "name": "stdout",
     "output_type": "stream",
     "text": [
      "key [ 491291913 1345864566] \n",
      "\n"
     ]
    },
    {
     "name": "stderr",
     "output_type": "stream",
     "text": [
      "\n",
      "Running bootstraps:  70%|█████████████████████████▏          | 7/10 [04:42<02:03, 41.05s/it]\u001b[A"
     ]
    },
    {
     "name": "stdout",
     "output_type": "stream",
     "text": [
      "key [2184356485 1950927659] \n",
      "\n"
     ]
    },
    {
     "name": "stderr",
     "output_type": "stream",
     "text": [
      "\n",
      "Running bootstraps:  80%|████████████████████████████▊       | 8/10 [05:31<01:27, 43.57s/it]\u001b[A"
     ]
    },
    {
     "name": "stdout",
     "output_type": "stream",
     "text": [
      "key [3957437860 3811547222] \n",
      "\n"
     ]
    },
    {
     "name": "stderr",
     "output_type": "stream",
     "text": [
      "\n",
      "Running bootstraps:  90%|████████████████████████████████▍   | 9/10 [06:14<00:43, 43.41s/it]\u001b[A"
     ]
    },
    {
     "name": "stdout",
     "output_type": "stream",
     "text": [
      "key [ 677868983 2408554682] \n",
      "\n"
     ]
    },
    {
     "name": "stderr",
     "output_type": "stream",
     "text": [
      "\n",
      "Running bootstraps: 100%|███████████████████████████████████| 10/10 [07:04<00:00, 42.46s/it]\n",
      "\n",
      "Running bootstraps:   0%|                                            | 0/10 [00:00<?, ?it/s]\u001b[A"
     ]
    },
    {
     "name": "stdout",
     "output_type": "stream",
     "text": [
      "key [2244917211  383143165] \n",
      "\n"
     ]
    },
    {
     "name": "stderr",
     "output_type": "stream",
     "text": [
      "\n",
      "Running bootstraps:  10%|███▌                                | 1/10 [00:45<06:51, 45.70s/it]\u001b[A"
     ]
    },
    {
     "name": "stdout",
     "output_type": "stream",
     "text": [
      "key [ 82831865 378584995] \n",
      "\n"
     ]
    },
    {
     "name": "stderr",
     "output_type": "stream",
     "text": [
      "\n",
      "Running bootstraps:  20%|███████▏                            | 2/10 [01:38<06:40, 50.03s/it]\u001b[A"
     ]
    },
    {
     "name": "stdout",
     "output_type": "stream",
     "text": [
      "key [3658504974  244538505] \n",
      "\n"
     ]
    },
    {
     "name": "stderr",
     "output_type": "stream",
     "text": [
      "\n",
      "Running bootstraps:  30%|██████████▊                         | 3/10 [02:24<05:35, 47.88s/it]\u001b[A"
     ]
    },
    {
     "name": "stdout",
     "output_type": "stream",
     "text": [
      "key [1812175259 1916682218] \n",
      "\n"
     ]
    },
    {
     "name": "stderr",
     "output_type": "stream",
     "text": [
      "\n",
      "Running bootstraps:  40%|██████████████▍                     | 4/10 [03:00<04:20, 43.46s/it]\u001b[A"
     ]
    },
    {
     "name": "stdout",
     "output_type": "stream",
     "text": [
      "key [1118316189 1423107766] \n",
      "\n"
     ]
    },
    {
     "name": "stderr",
     "output_type": "stream",
     "text": [
      "\n",
      "Running bootstraps:  50%|██████████████████                  | 5/10 [03:42<03:33, 42.66s/it]\u001b[A"
     ]
    },
    {
     "name": "stdout",
     "output_type": "stream",
     "text": [
      "key [2049412896 3352660423] \n",
      "\n"
     ]
    },
    {
     "name": "stderr",
     "output_type": "stream",
     "text": [
      "\n",
      "Running bootstraps:  60%|█████████████████████▌              | 6/10 [04:40<03:12, 48.20s/it]\u001b[A"
     ]
    },
    {
     "name": "stdout",
     "output_type": "stream",
     "text": [
      "key [3470770022  814388089] \n",
      "\n"
     ]
    },
    {
     "name": "stderr",
     "output_type": "stream",
     "text": [
      "\n",
      "Running bootstraps:  70%|█████████████████████████▏          | 7/10 [05:09<02:05, 41.85s/it]\u001b[A"
     ]
    },
    {
     "name": "stdout",
     "output_type": "stream",
     "text": [
      "key [ 262783556 1784034061] \n",
      "\n"
     ]
    },
    {
     "name": "stderr",
     "output_type": "stream",
     "text": [
      "\n",
      "Running bootstraps:  80%|████████████████████████████▊       | 8/10 [05:59<01:28, 44.25s/it]\u001b[A"
     ]
    },
    {
     "name": "stdout",
     "output_type": "stream",
     "text": [
      "key [1907558181 1492938038] \n",
      "\n"
     ]
    },
    {
     "name": "stderr",
     "output_type": "stream",
     "text": [
      "\n",
      "Running bootstraps:  90%|████████████████████████████████▍   | 9/10 [06:42<00:44, 44.04s/it]\u001b[A"
     ]
    },
    {
     "name": "stdout",
     "output_type": "stream",
     "text": [
      "key [1661834627 1474648643] \n",
      "\n"
     ]
    },
    {
     "name": "stderr",
     "output_type": "stream",
     "text": [
      "\n",
      "Running bootstraps: 100%|███████████████████████████████████| 10/10 [07:22<00:00, 44.22s/it]\n",
      "\n",
      "Running bootstraps:   0%|                                            | 0/10 [00:00<?, ?it/s]\u001b[A"
     ]
    },
    {
     "name": "stdout",
     "output_type": "stream",
     "text": [
      "key [ 802440365 1474202931] \n",
      "\n"
     ]
    },
    {
     "name": "stderr",
     "output_type": "stream",
     "text": [
      "\n",
      "Running bootstraps:  10%|███▌                                | 1/10 [00:47<07:03, 47.04s/it]\u001b[A"
     ]
    },
    {
     "name": "stdout",
     "output_type": "stream",
     "text": [
      "key [3921327878  449036812] \n",
      "\n"
     ]
    },
    {
     "name": "stderr",
     "output_type": "stream",
     "text": [
      "\n",
      "Running bootstraps:  20%|███████▏                            | 2/10 [01:13<04:41, 35.13s/it]\u001b[A"
     ]
    },
    {
     "name": "stdout",
     "output_type": "stream",
     "text": [
      "key [3773995643 1284302401] \n",
      "\n"
     ]
    },
    {
     "name": "stderr",
     "output_type": "stream",
     "text": [
      "\n",
      "Running bootstraps:  30%|██████████▊                         | 3/10 [02:04<04:56, 42.37s/it]\u001b[A"
     ]
    },
    {
     "name": "stdout",
     "output_type": "stream",
     "text": [
      "key [1818209701 1955357616] \n",
      "\n"
     ]
    },
    {
     "name": "stderr",
     "output_type": "stream",
     "text": [
      "\n",
      "Running bootstraps:  40%|██████████████▍                     | 4/10 [02:48<04:17, 42.88s/it]\u001b[A"
     ]
    },
    {
     "name": "stdout",
     "output_type": "stream",
     "text": [
      "key [3155912453  160650670] \n",
      "\n"
     ]
    },
    {
     "name": "stderr",
     "output_type": "stream",
     "text": [
      "\n",
      "Running bootstraps:  50%|██████████████████                  | 5/10 [03:36<03:43, 44.72s/it]\u001b[A"
     ]
    },
    {
     "name": "stdout",
     "output_type": "stream",
     "text": [
      "key [1587864527 3114400555] \n",
      "\n"
     ]
    },
    {
     "name": "stderr",
     "output_type": "stream",
     "text": [
      "\n",
      "Running bootstraps:  60%|█████████████████████▌              | 6/10 [04:16<02:52, 43.10s/it]\u001b[A"
     ]
    },
    {
     "name": "stdout",
     "output_type": "stream",
     "text": [
      "key [1887014161  890962323] \n",
      "\n"
     ]
    },
    {
     "name": "stderr",
     "output_type": "stream",
     "text": [
      "\n",
      "Running bootstraps:  70%|█████████████████████████▏          | 7/10 [04:46<01:56, 38.79s/it]\u001b[A"
     ]
    },
    {
     "name": "stdout",
     "output_type": "stream",
     "text": [
      "key [2108288038 2219240071] \n",
      "\n"
     ]
    },
    {
     "name": "stderr",
     "output_type": "stream",
     "text": [
      "\n",
      "Running bootstraps:  80%|████████████████████████████▊       | 8/10 [05:29<01:20, 40.31s/it]\u001b[A"
     ]
    },
    {
     "name": "stdout",
     "output_type": "stream",
     "text": [
      "key [807937226 196371938] \n",
      "\n"
     ]
    },
    {
     "name": "stderr",
     "output_type": "stream",
     "text": [
      "\n",
      "Running bootstraps:  90%|████████████████████████████████▍   | 9/10 [06:12<00:41, 41.14s/it]\u001b[A"
     ]
    },
    {
     "name": "stdout",
     "output_type": "stream",
     "text": [
      "key [2734989542  376670503] \n",
      "\n"
     ]
    },
    {
     "name": "stderr",
     "output_type": "stream",
     "text": [
      "\n",
      "Running bootstraps: 100%|███████████████████████████████████| 10/10 [06:54<00:00, 41.42s/it]\n",
      " 67%|███████████████████████████████████▎                 | 2/3 [1:29:33<45:36, 2736.71s/it]\n",
      "Running bootstraps:   0%|                                            | 0/10 [00:00<?, ?it/s]\u001b[A/home/hpinkard_waller/GitRepos/EncodingInformation/encoding_information/information_estimation.py:211: UserWarning: Mean pixel value is 19.57. More accurate results can probably be obtainedby setting estimate_conditional_from_model_samples=True\n",
      "  warnings.warn(f\"Mean pixel value is {np.mean(clean_images_if_available):.2f}. More accurate results can probably be obtained\"\n"
     ]
    },
    {
     "name": "stdout",
     "output_type": "stream",
     "text": [
      "key [3840961916 1373422730] \n",
      "\n"
     ]
    },
    {
     "name": "stderr",
     "output_type": "stream",
     "text": [
      "\n",
      "Running bootstraps:  10%|███▌                                | 1/10 [00:49<07:23, 49.31s/it]\u001b[A/home/hpinkard_waller/GitRepos/EncodingInformation/encoding_information/information_estimation.py:211: UserWarning: Mean pixel value is 19.53. More accurate results can probably be obtainedby setting estimate_conditional_from_model_samples=True\n",
      "  warnings.warn(f\"Mean pixel value is {np.mean(clean_images_if_available):.2f}. More accurate results can probably be obtained\"\n"
     ]
    },
    {
     "name": "stdout",
     "output_type": "stream",
     "text": [
      "key [1256983728 2661970759] \n",
      "\n"
     ]
    },
    {
     "name": "stderr",
     "output_type": "stream",
     "text": [
      "\n",
      "Running bootstraps:  20%|███████▏                            | 2/10 [01:27<05:43, 42.92s/it]\u001b[A/home/hpinkard_waller/GitRepos/EncodingInformation/encoding_information/information_estimation.py:211: UserWarning: Mean pixel value is 19.52. More accurate results can probably be obtainedby setting estimate_conditional_from_model_samples=True\n",
      "  warnings.warn(f\"Mean pixel value is {np.mean(clean_images_if_available):.2f}. More accurate results can probably be obtained\"\n"
     ]
    },
    {
     "name": "stdout",
     "output_type": "stream",
     "text": [
      "key [1937544440 3665965159] \n",
      "\n"
     ]
    },
    {
     "name": "stderr",
     "output_type": "stream",
     "text": [
      "\n",
      "Running bootstraps:  30%|██████████▊                         | 3/10 [02:14<05:11, 44.45s/it]\u001b[A/home/hpinkard_waller/GitRepos/EncodingInformation/encoding_information/information_estimation.py:211: UserWarning: Mean pixel value is 19.50. More accurate results can probably be obtainedby setting estimate_conditional_from_model_samples=True\n",
      "  warnings.warn(f\"Mean pixel value is {np.mean(clean_images_if_available):.2f}. More accurate results can probably be obtained\"\n"
     ]
    },
    {
     "name": "stdout",
     "output_type": "stream",
     "text": [
      "key [3199936784 3975824708] \n",
      "\n"
     ]
    },
    {
     "name": "stderr",
     "output_type": "stream",
     "text": [
      "\n",
      "Running bootstraps:  40%|██████████████▍                     | 4/10 [02:55<04:19, 43.24s/it]\u001b[A/home/hpinkard_waller/GitRepos/EncodingInformation/encoding_information/information_estimation.py:211: UserWarning: Mean pixel value is 19.58. More accurate results can probably be obtainedby setting estimate_conditional_from_model_samples=True\n",
      "  warnings.warn(f\"Mean pixel value is {np.mean(clean_images_if_available):.2f}. More accurate results can probably be obtained\"\n"
     ]
    },
    {
     "name": "stdout",
     "output_type": "stream",
     "text": [
      "key [2896888746 2775190413] \n",
      "\n"
     ]
    },
    {
     "name": "stderr",
     "output_type": "stream",
     "text": [
      "\n",
      "Running bootstraps:  50%|██████████████████                  | 5/10 [03:37<03:34, 42.95s/it]\u001b[A/home/hpinkard_waller/GitRepos/EncodingInformation/encoding_information/information_estimation.py:211: UserWarning: Mean pixel value is 19.56. More accurate results can probably be obtainedby setting estimate_conditional_from_model_samples=True\n",
      "  warnings.warn(f\"Mean pixel value is {np.mean(clean_images_if_available):.2f}. More accurate results can probably be obtained\"\n"
     ]
    },
    {
     "name": "stdout",
     "output_type": "stream",
     "text": [
      "key [ 658959082 1713799109] \n",
      "\n"
     ]
    },
    {
     "name": "stderr",
     "output_type": "stream",
     "text": [
      "\n",
      "Running bootstraps:  60%|█████████████████████▌              | 6/10 [04:20<02:51, 43.00s/it]\u001b[A"
     ]
    },
    {
     "name": "stdout",
     "output_type": "stream",
     "text": [
      "key [1542655319 1477626681] \n",
      "\n"
     ]
    },
    {
     "name": "stderr",
     "output_type": "stream",
     "text": [
      "\n",
      "Running bootstraps:  70%|█████████████████████████▏          | 7/10 [05:02<02:07, 42.55s/it]\u001b[A"
     ]
    },
    {
     "name": "stdout",
     "output_type": "stream",
     "text": [
      "key [1097437712  221114346] \n",
      "\n"
     ]
    },
    {
     "name": "stderr",
     "output_type": "stream",
     "text": [
      "\n",
      "Running bootstraps:  80%|████████████████████████████▊       | 8/10 [05:34<01:18, 39.08s/it]\u001b[A/home/hpinkard_waller/GitRepos/EncodingInformation/encoding_information/information_estimation.py:211: UserWarning: Mean pixel value is 19.54. More accurate results can probably be obtainedby setting estimate_conditional_from_model_samples=True\n",
      "  warnings.warn(f\"Mean pixel value is {np.mean(clean_images_if_available):.2f}. More accurate results can probably be obtained\"\n"
     ]
    },
    {
     "name": "stdout",
     "output_type": "stream",
     "text": [
      "key [ 934944847 2718582678] \n",
      "\n"
     ]
    },
    {
     "name": "stderr",
     "output_type": "stream",
     "text": [
      "\n",
      "Running bootstraps:  90%|████████████████████████████████▍   | 9/10 [06:25<00:42, 42.96s/it]\u001b[A/home/hpinkard_waller/GitRepos/EncodingInformation/encoding_information/information_estimation.py:211: UserWarning: Mean pixel value is 19.64. More accurate results can probably be obtainedby setting estimate_conditional_from_model_samples=True\n",
      "  warnings.warn(f\"Mean pixel value is {np.mean(clean_images_if_available):.2f}. More accurate results can probably be obtained\"\n"
     ]
    },
    {
     "name": "stdout",
     "output_type": "stream",
     "text": [
      "key [2339353479  796402069] \n",
      "\n"
     ]
    },
    {
     "name": "stderr",
     "output_type": "stream",
     "text": [
      "\n",
      "Running bootstraps: 100%|███████████████████████████████████| 10/10 [07:00<00:00, 42.07s/it]\n",
      "\n",
      "Running bootstraps:   0%|                                            | 0/10 [00:00<?, ?it/s]\u001b[A"
     ]
    },
    {
     "name": "stdout",
     "output_type": "stream",
     "text": [
      "key [3505324509 2747965867] \n",
      "\n"
     ]
    },
    {
     "name": "stderr",
     "output_type": "stream",
     "text": [
      "\n",
      "Running bootstraps:  10%|███▌                                | 1/10 [00:45<06:49, 45.45s/it]\u001b[A"
     ]
    },
    {
     "name": "stdout",
     "output_type": "stream",
     "text": [
      "key [3250840239  368495852] \n",
      "\n"
     ]
    },
    {
     "name": "stderr",
     "output_type": "stream",
     "text": [
      "\n",
      "Running bootstraps:  20%|███████▏                            | 2/10 [01:28<05:51, 43.89s/it]\u001b[A"
     ]
    },
    {
     "name": "stdout",
     "output_type": "stream",
     "text": [
      "key [ 236763159 2661608078] \n",
      "\n"
     ]
    },
    {
     "name": "stderr",
     "output_type": "stream",
     "text": [
      "\n",
      "Running bootstraps:  30%|██████████▊                         | 3/10 [02:04<04:43, 40.52s/it]\u001b[A"
     ]
    },
    {
     "name": "stdout",
     "output_type": "stream",
     "text": [
      "key [ 990342560 2020845909] \n",
      "\n"
     ]
    },
    {
     "name": "stderr",
     "output_type": "stream",
     "text": [
      "\n",
      "Running bootstraps:  40%|██████████████▍                     | 4/10 [02:58<04:34, 45.72s/it]\u001b[A"
     ]
    },
    {
     "name": "stdout",
     "output_type": "stream",
     "text": [
      "key [1063548294 4037068823] \n",
      "\n"
     ]
    },
    {
     "name": "stderr",
     "output_type": "stream",
     "text": [
      "\n",
      "Running bootstraps:  50%|██████████████████                  | 5/10 [03:37<03:36, 43.23s/it]\u001b[A"
     ]
    },
    {
     "name": "stdout",
     "output_type": "stream",
     "text": [
      "key [1345337157 1737428300] \n",
      "\n"
     ]
    },
    {
     "name": "stderr",
     "output_type": "stream",
     "text": [
      "\n",
      "Running bootstraps:  60%|█████████████████████▌              | 6/10 [04:28<03:04, 46.08s/it]\u001b[A"
     ]
    },
    {
     "name": "stdout",
     "output_type": "stream",
     "text": [
      "key [1858005998   56215269] \n",
      "\n"
     ]
    },
    {
     "name": "stderr",
     "output_type": "stream",
     "text": [
      "\n",
      "Running bootstraps:  70%|█████████████████████████▏          | 7/10 [05:24<02:27, 49.05s/it]\u001b[A"
     ]
    },
    {
     "name": "stdout",
     "output_type": "stream",
     "text": [
      "key [1631136646 2835830601] \n",
      "\n"
     ]
    },
    {
     "name": "stderr",
     "output_type": "stream",
     "text": [
      "\n",
      "Running bootstraps:  80%|████████████████████████████▊       | 8/10 [06:09<01:35, 47.95s/it]\u001b[A"
     ]
    },
    {
     "name": "stdout",
     "output_type": "stream",
     "text": [
      "key [2284663867 2842780016] \n",
      "\n"
     ]
    },
    {
     "name": "stderr",
     "output_type": "stream",
     "text": [
      "\n",
      "Running bootstraps:  90%|████████████████████████████████▍   | 9/10 [06:54<00:47, 47.11s/it]\u001b[A"
     ]
    },
    {
     "name": "stdout",
     "output_type": "stream",
     "text": [
      "key [3071252116 2984909307] \n",
      "\n"
     ]
    },
    {
     "name": "stderr",
     "output_type": "stream",
     "text": [
      "\n",
      "Running bootstraps: 100%|███████████████████████████████████| 10/10 [07:42<00:00, 46.25s/it]\n",
      "\n",
      "Running bootstraps:   0%|                                            | 0/10 [00:00<?, ?it/s]\u001b[A"
     ]
    },
    {
     "name": "stdout",
     "output_type": "stream",
     "text": [
      "key [ 672134110 2323226642] \n",
      "\n"
     ]
    },
    {
     "name": "stderr",
     "output_type": "stream",
     "text": [
      "\n",
      "Running bootstraps:  10%|███▌                                | 1/10 [00:42<06:22, 42.49s/it]\u001b[A"
     ]
    },
    {
     "name": "stdout",
     "output_type": "stream",
     "text": [
      "key [ 753608079 1752519382] \n",
      "\n"
     ]
    },
    {
     "name": "stderr",
     "output_type": "stream",
     "text": [
      "\n",
      "Running bootstraps:  20%|███████▏                            | 2/10 [01:22<05:30, 41.32s/it]\u001b[A"
     ]
    },
    {
     "name": "stdout",
     "output_type": "stream",
     "text": [
      "key [4118035115  499120274] \n",
      "\n"
     ]
    },
    {
     "name": "stderr",
     "output_type": "stream",
     "text": [
      "\n",
      "Running bootstraps:  30%|██████████▊                         | 3/10 [02:15<05:25, 46.54s/it]\u001b[A"
     ]
    },
    {
     "name": "stdout",
     "output_type": "stream",
     "text": [
      "key [1620867578 3024248638] \n",
      "\n"
     ]
    },
    {
     "name": "stderr",
     "output_type": "stream",
     "text": [
      "\n",
      "Running bootstraps:  40%|██████████████▍                     | 4/10 [03:04<04:44, 47.42s/it]\u001b[A"
     ]
    },
    {
     "name": "stdout",
     "output_type": "stream",
     "text": [
      "key [ 36547412 987136481] \n",
      "\n"
     ]
    },
    {
     "name": "stderr",
     "output_type": "stream",
     "text": [
      "\n",
      "Running bootstraps:  50%|██████████████████                  | 5/10 [03:51<03:56, 47.28s/it]\u001b[A"
     ]
    },
    {
     "name": "stdout",
     "output_type": "stream",
     "text": [
      "key [2315143699 2093439704] \n",
      "\n"
     ]
    },
    {
     "name": "stderr",
     "output_type": "stream",
     "text": [
      "\n",
      "Running bootstraps:  60%|█████████████████████▌              | 6/10 [04:31<02:59, 44.81s/it]\u001b[A"
     ]
    },
    {
     "name": "stdout",
     "output_type": "stream",
     "text": [
      "key [ 766922665 3905404536] \n",
      "\n"
     ]
    },
    {
     "name": "stderr",
     "output_type": "stream",
     "text": [
      "\n",
      "Running bootstraps:  70%|█████████████████████████▏          | 7/10 [05:15<02:13, 44.57s/it]\u001b[A"
     ]
    },
    {
     "name": "stdout",
     "output_type": "stream",
     "text": [
      "key [2810036281 1176189630] \n",
      "\n"
     ]
    },
    {
     "name": "stderr",
     "output_type": "stream",
     "text": [
      "\n",
      "Running bootstraps:  80%|████████████████████████████▊       | 8/10 [05:55<01:26, 43.06s/it]\u001b[A"
     ]
    },
    {
     "name": "stdout",
     "output_type": "stream",
     "text": [
      "key [4050374881 2188754314] \n",
      "\n"
     ]
    },
    {
     "name": "stderr",
     "output_type": "stream",
     "text": [
      "\n",
      "Running bootstraps:  90%|████████████████████████████████▍   | 9/10 [06:39<00:43, 43.31s/it]\u001b[A"
     ]
    },
    {
     "name": "stdout",
     "output_type": "stream",
     "text": [
      "key [2788807593 2845645635] \n",
      "\n"
     ]
    },
    {
     "name": "stderr",
     "output_type": "stream",
     "text": [
      "\n",
      "Running bootstraps: 100%|███████████████████████████████████| 10/10 [07:17<00:00, 43.74s/it]\n",
      "\n",
      "Running bootstraps:   0%|                                            | 0/10 [00:00<?, ?it/s]\u001b[A"
     ]
    },
    {
     "name": "stdout",
     "output_type": "stream",
     "text": [
      "key [3458108215 3196978898] \n",
      "\n"
     ]
    },
    {
     "name": "stderr",
     "output_type": "stream",
     "text": [
      "\n",
      "Running bootstraps:  10%|███▌                                | 1/10 [00:32<04:51, 32.42s/it]\u001b[A"
     ]
    },
    {
     "name": "stdout",
     "output_type": "stream",
     "text": [
      "key [ 457617869 3192350895] \n",
      "\n"
     ]
    },
    {
     "name": "stderr",
     "output_type": "stream",
     "text": [
      "\n",
      "Running bootstraps:  20%|███████▏                            | 2/10 [01:14<05:04, 38.04s/it]\u001b[A"
     ]
    },
    {
     "name": "stdout",
     "output_type": "stream",
     "text": [
      "key [ 367253544 2074709336] \n",
      "\n"
     ]
    },
    {
     "name": "stderr",
     "output_type": "stream",
     "text": [
      "\n",
      "Running bootstraps:  30%|██████████▊                         | 3/10 [01:46<04:08, 35.44s/it]\u001b[A"
     ]
    },
    {
     "name": "stdout",
     "output_type": "stream",
     "text": [
      "key [3802314483 3612330169] \n",
      "\n"
     ]
    },
    {
     "name": "stderr",
     "output_type": "stream",
     "text": [
      "\n",
      "Running bootstraps:  40%|██████████████▍                     | 4/10 [02:31<03:54, 39.01s/it]\u001b[A"
     ]
    },
    {
     "name": "stdout",
     "output_type": "stream",
     "text": [
      "key [339520880 601657401] \n",
      "\n"
     ]
    },
    {
     "name": "stderr",
     "output_type": "stream",
     "text": [
      "\n",
      "Running bootstraps:  50%|██████████████████                  | 5/10 [03:06<03:07, 37.56s/it]\u001b[A"
     ]
    },
    {
     "name": "stdout",
     "output_type": "stream",
     "text": [
      "key [3537358580 2488938124] \n",
      "\n"
     ]
    },
    {
     "name": "stderr",
     "output_type": "stream",
     "text": [
      "\n",
      "Running bootstraps:  60%|█████████████████████▌              | 6/10 [04:07<03:02, 45.51s/it]\u001b[A"
     ]
    },
    {
     "name": "stdout",
     "output_type": "stream",
     "text": [
      "key [2600750901 2592941781] \n",
      "\n"
     ]
    },
    {
     "name": "stderr",
     "output_type": "stream",
     "text": [
      "\n",
      "Running bootstraps:  70%|█████████████████████████▏          | 7/10 [04:35<01:59, 39.85s/it]\u001b[A"
     ]
    },
    {
     "name": "stdout",
     "output_type": "stream",
     "text": [
      "key [3172680771 1686201260] \n",
      "\n"
     ]
    },
    {
     "name": "stderr",
     "output_type": "stream",
     "text": [
      "\n",
      "Running bootstraps:  80%|████████████████████████████▊       | 8/10 [05:18<01:21, 40.99s/it]\u001b[A"
     ]
    },
    {
     "name": "stdout",
     "output_type": "stream",
     "text": [
      "key [4101243966  101425980] \n",
      "\n"
     ]
    },
    {
     "name": "stderr",
     "output_type": "stream",
     "text": [
      "\n",
      "Running bootstraps:  90%|████████████████████████████████▍   | 9/10 [05:47<00:37, 37.08s/it]\u001b[A"
     ]
    },
    {
     "name": "stdout",
     "output_type": "stream",
     "text": [
      "key [1976073717 4216272598] \n",
      "\n"
     ]
    },
    {
     "name": "stderr",
     "output_type": "stream",
     "text": [
      "\n",
      "Running bootstraps: 100%|███████████████████████████████████| 10/10 [06:37<00:00, 39.71s/it]\n",
      "\n",
      "Running bootstraps:   0%|                                            | 0/10 [00:00<?, ?it/s]\u001b[A"
     ]
    },
    {
     "name": "stdout",
     "output_type": "stream",
     "text": [
      "key [3678153117 1623021365] \n",
      "\n"
     ]
    },
    {
     "name": "stderr",
     "output_type": "stream",
     "text": [
      "\n",
      "Running bootstraps:  10%|███▌                                | 1/10 [00:43<06:35, 43.95s/it]\u001b[A"
     ]
    },
    {
     "name": "stdout",
     "output_type": "stream",
     "text": [
      "key [ 857392302 2667796803] \n",
      "\n"
     ]
    },
    {
     "name": "stderr",
     "output_type": "stream",
     "text": [
      "\n",
      "Running bootstraps:  20%|███████▏                            | 2/10 [01:24<05:35, 41.89s/it]\u001b[A"
     ]
    },
    {
     "name": "stdout",
     "output_type": "stream",
     "text": [
      "key [1398110005 4031808925] \n",
      "\n"
     ]
    },
    {
     "name": "stderr",
     "output_type": "stream",
     "text": [
      "\n",
      "Running bootstraps:  30%|██████████▊                         | 3/10 [02:05<04:49, 41.36s/it]\u001b[A"
     ]
    },
    {
     "name": "stdout",
     "output_type": "stream",
     "text": [
      "key [2456638743 3563709112] \n",
      "\n"
     ]
    },
    {
     "name": "stderr",
     "output_type": "stream",
     "text": [
      "\n",
      "Running bootstraps:  40%|██████████████▍                     | 4/10 [02:49<04:14, 42.37s/it]\u001b[A"
     ]
    },
    {
     "name": "stdout",
     "output_type": "stream",
     "text": [
      "key [ 864274724 3456410380] \n",
      "\n"
     ]
    },
    {
     "name": "stderr",
     "output_type": "stream",
     "text": [
      "\n",
      "Running bootstraps:  50%|██████████████████                  | 5/10 [03:33<03:36, 43.27s/it]\u001b[A"
     ]
    },
    {
     "name": "stdout",
     "output_type": "stream",
     "text": [
      "key [2978989649  405555438] \n",
      "\n"
     ]
    },
    {
     "name": "stderr",
     "output_type": "stream",
     "text": [
      "\n",
      "Running bootstraps:  60%|█████████████████████▌              | 6/10 [04:20<02:56, 44.25s/it]\u001b[A"
     ]
    },
    {
     "name": "stdout",
     "output_type": "stream",
     "text": [
      "key [3349928372 3586181161] \n",
      "\n"
     ]
    },
    {
     "name": "stderr",
     "output_type": "stream",
     "text": [
      "\n",
      "Running bootstraps:  70%|█████████████████████████▏          | 7/10 [05:04<02:13, 44.45s/it]\u001b[A"
     ]
    },
    {
     "name": "stdout",
     "output_type": "stream",
     "text": [
      "key [3482951695 3589218406] \n",
      "\n"
     ]
    },
    {
     "name": "stderr",
     "output_type": "stream",
     "text": [
      "\n",
      "Running bootstraps:  80%|████████████████████████████▊       | 8/10 [05:48<01:28, 44.12s/it]\u001b[A"
     ]
    },
    {
     "name": "stdout",
     "output_type": "stream",
     "text": [
      "key [4138326808 3609659218] \n",
      "\n"
     ]
    },
    {
     "name": "stderr",
     "output_type": "stream",
     "text": [
      "\n",
      "Running bootstraps:  90%|████████████████████████████████▍   | 9/10 [06:33<00:44, 44.39s/it]\u001b[A"
     ]
    },
    {
     "name": "stdout",
     "output_type": "stream",
     "text": [
      "key [1595428084 3196696101] \n",
      "\n"
     ]
    },
    {
     "name": "stderr",
     "output_type": "stream",
     "text": [
      "\n",
      "Running bootstraps: 100%|███████████████████████████████████| 10/10 [07:06<00:00, 42.63s/it]\n",
      "100%|█████████████████████████████████████████████████████| 3/3 [2:17:49<00:00, 2756.62s/it]\n"
     ]
    }
   ],
   "source": [
    "channel_names = ['Brightfield', 'DPC_Right', 'LED119' ]\n",
    "edge_crop = 32\n",
    "num_images = 5000\n",
    "num_patches = 5000\n",
    "photons_per_pixel = [20, 40, 80, 160, 300]\n",
    "num_bootstrap_samples = 10\n",
    "confidence_interval = 99\n",
    "patch_size = 20\n",
    "\n",
    "mi_means_by_channel_photons = {}\n",
    "mi_confidences_by_channel_photons = {}\n",
    "for channel_name in tqdm(channel_names):\n",
    "    mi_means_by_channel_photons[channel_name] = []\n",
    "    mi_confidences_by_channel_photons[channel_name] = []\n",
    "    images = load_bsccm_images(bsccm, channel_name, num_images=num_images, edge_crop=edge_crop, convert_units_to_photons=True, median_filter=True, verbose=False, batch=1)\n",
    "    for num_photons in photons_per_pixel:\n",
    "        patches = extract_patches(images, patch_size=patch_size, num_patches=num_patches, verbose=False)\n",
    "        # noisy_patches = add_shot_noise_to_experimenal_data(patches, num_photons / np.mean(images))\n",
    "        noisy_patches = add_noise(patches * num_photons / np.mean(images))\n",
    "\n",
    "        mi_mean, mi_confidence = run_bootstrap(noisy_patches, num_bootstrap_samples=num_bootstrap_samples, confidence_interval=confidence_interval, \n",
    "                    estimation_fn=lambda noisy_images: estimate_mutual_information(noisy_images=noisy_images, verbose=False, use_iterative_optimization=True),\n",
    "                      verbose=True)\n",
    "        mi_means_by_channel_photons[channel_name].append(mi_mean)\n",
    "        mi_confidences_by_channel_photons[channel_name].append(mi_confidence)\n",
    "    \n",
    "mi_means_by_channel_photons = {channel: np.array(v) for channel, v in mi_means_by_channel_photons.items()}\n",
    "mi_confidences_by_channel_photons = {channel: np.array(v) for channel, v in mi_confidences_by_channel_photons.items()}"
   ]
  },
  {
   "cell_type": "code",
   "execution_count": 5,
   "metadata": {
    "execution": {
     "iopub.execute_input": "2023-11-14T22:37:18.278423Z",
     "iopub.status.busy": "2023-11-14T22:37:18.277984Z",
     "iopub.status.idle": "2023-11-14T22:37:18.729694Z",
     "shell.execute_reply": "2023-11-14T22:37:18.728924Z"
    }
   },
   "outputs": [
    {
     "data": {
      "image/png": "[encoded data removed]",
      "text/plain": [
       "<Figure size 500x500 with 1 Axes>"
      ]
     },
     "metadata": {},
     "output_type": "display_data"
    }
   ],
   "source": [
    "fig, ax = plt.subplots(1, 1, figsize=(5, 5))\n",
    "ax.plot(photons_per_pixel, mi_means_by_channel_photons['Brightfield'], label=get_display_channel_names('Brightfield'))\n",
    "ax.fill_between(photons_per_pixel, mi_confidences_by_channel_photons['Brightfield'][:, 0], mi_confidences_by_channel_photons['Brightfield'][:, 1], alpha=0.5)\n",
    "ax.plot(photons_per_pixel, mi_means_by_channel_photons['DPC_Right'], label=get_display_channel_names('DPC_Right'))\n",
    "ax.fill_between(photons_per_pixel, mi_confidences_by_channel_photons['DPC_Right'][:, 0], mi_confidences_by_channel_photons['DPC_Right'][:, 1], alpha=0.5)\n",
    "ax.plot(photons_per_pixel, mi_means_by_channel_photons['LED119'], label=get_display_channel_names('LED119'))\n",
    "ax.fill_between(photons_per_pixel, mi_confidences_by_channel_photons['LED119'][:, 0], mi_confidences_by_channel_photons['LED119'][:, 1], alpha=0.5)\n",
    "ax.set(xlabel='Photons per pixel', ylabel='Estimated information\\n(bits/pixel)')\n",
    "ax.legend()\n",
    "clear_spines(ax)\n",
    "ax.title.set_text(f'{confidence_interval}% confidence interval')\n"
   ]
  }
 ],
 "metadata": {
  "kernelspec": {
   "display_name": "phenotypes",
   "language": "python",
   "name": "python3"
  },
  "language_info": {
   "codemirror_mode": {
    "name": "ipython",
    "version": 3
   },
   "file_extension": ".py",
   "mimetype": "text/x-python",
   "name": "python",
   "nbconvert_exporter": "python",
   "pygments_lexer": "ipython3",
   "version": "3.10.13"
  }
 },
 "nbformat": 4,
 "nbformat_minor": 2
}
