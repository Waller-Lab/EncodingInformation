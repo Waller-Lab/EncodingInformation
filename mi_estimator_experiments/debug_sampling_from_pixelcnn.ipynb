{
 "cells": [
  {
   "cell_type": "code",
   "execution_count": 17,
   "metadata": {},
   "outputs": [
    {
     "name": "stdout",
     "output_type": "stream",
     "text": [
      "The autoreload extension is already loaded. To reload it, use:\n",
      "  %reload_ext autoreload\n"
     ]
    }
   ],
   "source": [
    "%load_ext autoreload\n",
    "%autoreload 2\n",
    "# this only works on startup!\n",
    "from jax import config\n",
    "config.update(\"jax_enable_x64\", True)\n",
    "\n",
    "import os\n",
    "os.environ[\"CUDA_DEVICE_ORDER\"] = \"PCI_BUS_ID\" \n",
    "os.environ[\"CUDA_VISIBLE_DEVICES\"] = '1'\n",
    "from encoding_information.gpu_utils import limit_gpu_memory_growth\n",
    "limit_gpu_memory_growth()\n",
    "\n",
    "from cleanplots import *\n",
    "from tqdm import tqdm\n",
    "from encoding_information.information_estimation import *\n",
    "from encoding_information.image_utils import *\n",
    "from encoding_information.models.gaussian_process import StationaryGaussianProcess\n",
    "\n",
    "from encoding_information.bsccm_utils import *\n",
    "from bsccm import BSCCM\n",
    "from jax import jit\n",
    "import numpy as onp\n",
    "import jax.numpy as np\n"
   ]
  },
  {
   "cell_type": "code",
   "execution_count": 18,
   "metadata": {},
   "outputs": [
    {
     "name": "stdout",
     "output_type": "stream",
     "text": [
      "Opening BSCCM\n",
      "Opened BSCCM\n"
     ]
    }
   ],
   "source": [
    "from encoding_information.bsccm_utils import *\n",
    "from encoding_information.image_utils import *\n",
    "\n",
    "bsccm = BSCCM('/home/hpinkard_waller/data/BSCCM/')\n",
    "\n",
    "# load images, extract patches, and compute cov mats\n",
    "edge_crop = 32\n",
    "patch_size = 10\n",
    "num_images = 1000\n",
    "\n",
    "# channel = 'LED119'\n",
    "channel = 'DPC_Right'\n",
    "\n",
    "num_test_images = 500\n",
    "\n",
    "all_images = load_bsccm_images(bsccm, channel=channel, num_images=num_images + num_test_images, edge_crop=edge_crop, median_filter=False)\n",
    "images = all_images[:num_images]\n",
    "test_images = all_images[num_images:]\n",
    "test_patches = extract_patches(test_images, patch_size, num_patches=num_test_images, seed=0)\n",
    "\n",
    "num_patches = 1000\n",
    "seed = 10\n",
    "\n",
    "patches = extract_patches(images, patch_size, num_patches=num_patches, seed=seed)\n"
   ]
  },
  {
   "cell_type": "code",
   "execution_count": 27,
   "metadata": {},
   "outputs": [
    {
     "name": "stderr",
     "output_type": "stream",
     "text": [
      "Computing loss: 2it [00:02,  1.49s/it]\n"
     ]
    },
    {
     "name": "stdout",
     "output_type": "stream",
     "text": [
      "Initial validation NLL: 369.88\n"
     ]
    },
    {
     "name": "stderr",
     "output_type": "stream",
     "text": [
      "Epoch 1: 100%|██████████| 100/100 [00:07<00:00, 13.60it/s]\n",
      "Computing loss: 2it [00:00, 24.61it/s]\n"
     ]
    },
    {
     "name": "stdout",
     "output_type": "stream",
     "text": [
      "Epoch 1: validation NLL: 5.96\n"
     ]
    },
    {
     "name": "stderr",
     "output_type": "stream",
     "text": [
      "Epoch 2: 100%|██████████| 100/100 [00:01<00:00, 70.51it/s]\n",
      "Computing loss: 2it [00:00, 62.87it/s]\n"
     ]
    },
    {
     "name": "stdout",
     "output_type": "stream",
     "text": [
      "Epoch 2: validation NLL: 5.47\n"
     ]
    },
    {
     "name": "stderr",
     "output_type": "stream",
     "text": [
      "Epoch 3: 100%|██████████| 100/100 [00:01<00:00, 70.76it/s]\n",
      "Computing loss: 2it [00:00, 60.66it/s]\n"
     ]
    },
    {
     "name": "stdout",
     "output_type": "stream",
     "text": [
      "Epoch 3: validation NLL: 5.21\n"
     ]
    },
    {
     "name": "stderr",
     "output_type": "stream",
     "text": [
      "Epoch 4: 100%|██████████| 100/100 [00:01<00:00, 69.69it/s]\n",
      "Computing loss: 2it [00:00, 68.83it/s]\n"
     ]
    },
    {
     "name": "stdout",
     "output_type": "stream",
     "text": [
      "Epoch 4: validation NLL: 5.20\n"
     ]
    },
    {
     "name": "stderr",
     "output_type": "stream",
     "text": [
      "Epoch 5: 100%|██████████| 100/100 [00:01<00:00, 70.35it/s]\n",
      "Computing loss: 2it [00:00, 63.63it/s]"
     ]
    },
    {
     "name": "stdout",
     "output_type": "stream",
     "text": [
      "Epoch 5: validation NLL: 5.03\n"
     ]
    },
    {
     "name": "stderr",
     "output_type": "stream",
     "text": [
      "\n"
     ]
    },
    {
     "data": {
      "text/plain": [
       "[369.8825988769531,\n",
       " 5.964324474334717,\n",
       " 5.471066951751709,\n",
       " 5.205574035644531,\n",
       " 5.197755813598633,\n",
       " 5.030706405639648]"
      ]
     },
     "execution_count": 27,
     "metadata": {},
     "output_type": "execute_result"
    }
   ],
   "source": [
    "eigenvalue_floor = 1e-3\n",
    "\n",
    "from encoding_information.models.pixel_cnn import PixelCNN\n",
    "\n",
    "pixel_cnn = PixelCNN()\n",
    "\n",
    "pixel_cnn.fit(patches, max_epochs=5, num_val_samples=100)"
   ]
  },
  {
   "cell_type": "code",
   "execution_count": 1,
   "metadata": {},
   "outputs": [
    {
     "ename": "NameError",
     "evalue": "name 'plt' is not defined",
     "output_type": "error",
     "traceback": [
      "\u001b[0;31m---------------------------------------------------------------------------\u001b[0m",
      "\u001b[0;31mNameError\u001b[0m                                 Traceback (most recent call last)",
      "\u001b[1;32m/home/hpinkard_waller/GitRepos/EncodingInformation/mi_estimator_experiments/debug_sampling_from_pixelcnn.ipynb Cell 4\u001b[0m line \u001b[0;36m3\n\u001b[1;32m      <a href='vscode-notebook-cell://ssh-remote%2B169.229.228.36/home/hpinkard_waller/GitRepos/EncodingInformation/mi_estimator_experiments/debug_sampling_from_pixelcnn.ipynb#W3sdnNjb2RlLXJlbW90ZQ%3D%3D?line=0'>1</a>\u001b[0m \u001b[39m# samples = pixel_cnn.generate_samples(6, 20)\u001b[39;00m\n\u001b[0;32m----> <a href='vscode-notebook-cell://ssh-remote%2B169.229.228.36/home/hpinkard_waller/GitRepos/EncodingInformation/mi_estimator_experiments/debug_sampling_from_pixelcnn.ipynb#W3sdnNjb2RlLXJlbW90ZQ%3D%3D?line=2'>3</a>\u001b[0m fig, axs \u001b[39m=\u001b[39m plt\u001b[39m.\u001b[39msubplots(\u001b[39m1\u001b[39m, \u001b[39m6\u001b[39m, figsize\u001b[39m=\u001b[39m(\u001b[39m10\u001b[39m, \u001b[39m10\u001b[39m))\n\u001b[1;32m      <a href='vscode-notebook-cell://ssh-remote%2B169.229.228.36/home/hpinkard_waller/GitRepos/EncodingInformation/mi_estimator_experiments/debug_sampling_from_pixelcnn.ipynb#W3sdnNjb2RlLXJlbW90ZQ%3D%3D?line=3'>4</a>\u001b[0m \u001b[39mfor\u001b[39;00m k \u001b[39min\u001b[39;00m \u001b[39mrange\u001b[39m(\u001b[39m6\u001b[39m):\n\u001b[1;32m      <a href='vscode-notebook-cell://ssh-remote%2B169.229.228.36/home/hpinkard_waller/GitRepos/EncodingInformation/mi_estimator_experiments/debug_sampling_from_pixelcnn.ipynb#W3sdnNjb2RlLXJlbW90ZQ%3D%3D?line=4'>5</a>\u001b[0m     axs[k]\u001b[39m.\u001b[39mimshow(samples[k], cmap\u001b[39m=\u001b[39m\u001b[39m'\u001b[39m\u001b[39minferno\u001b[39m\u001b[39m'\u001b[39m)\n",
      "\u001b[0;31mNameError\u001b[0m: name 'plt' is not defined"
     ]
    }
   ],
   "source": [
    "samples = pixel_cnn.generate_samples(6, 20)\n",
    "\n",
    "fig, axs = plt.subplots(1, 6, figsize=(10, 10))\n",
    "for k in range(6):\n",
    "    axs[k].imshow(samples[k], cmap='inferno')\n",
    "    axs[k].axis('off')\n",
    "    "
   ]
  }
 ],
 "metadata": {
  "kernelspec": {
   "display_name": "phenotypes",
   "language": "python",
   "name": "python3"
  },
  "language_info": {
   "codemirror_mode": {
    "name": "ipython",
    "version": 3
   },
   "file_extension": ".py",
   "mimetype": "text/x-python",
   "name": "python",
   "nbconvert_exporter": "python",
   "pygments_lexer": "ipython3",
   "version": "3.10.6"
  }
 },
 "nbformat": 4,
 "nbformat_minor": 2
}
