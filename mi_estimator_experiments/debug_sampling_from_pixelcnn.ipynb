{
 "cells": [
  {
   "cell_type": "code",
   "execution_count": 1,
   "metadata": {},
   "outputs": [
    {
     "name": "stderr",
     "output_type": "stream",
     "text": [
      "2023-10-30 13:37:19.773701: W tensorflow/compiler/tf2tensorrt/utils/py_utils.cc:38] TF-TRT Warning: Could not find TensorRT\n"
     ]
    }
   ],
   "source": [
    "%load_ext autoreload\n",
    "%autoreload 2\n",
    "# this only works on startup!\n",
    "from jax import config\n",
    "config.update(\"jax_enable_x64\", True)\n",
    "\n",
    "import os\n",
    "os.environ[\"CUDA_DEVICE_ORDER\"] = \"PCI_BUS_ID\" \n",
    "os.environ[\"CUDA_VISIBLE_DEVICES\"] = '3'\n",
    "from encoding_information.gpu_utils import limit_gpu_memory_growth\n",
    "limit_gpu_memory_growth()\n",
    "\n",
    "from cleanplots import *\n",
    "from tqdm import tqdm\n",
    "from encoding_information.information_estimation import *\n",
    "from encoding_information.image_utils import *\n",
    "from encoding_information.models.gaussian_process import StationaryGaussianProcess\n",
    "\n",
    "from encoding_information.bsccm_utils import *\n",
    "from bsccm import BSCCM\n",
    "from jax import jit\n",
    "import numpy as onp\n",
    "import jax.numpy as np\n"
   ]
  },
  {
   "cell_type": "code",
   "execution_count": 2,
   "metadata": {},
   "outputs": [
    {
     "name": "stdout",
     "output_type": "stream",
     "text": [
      "Opening BSCCM\n",
      "Opened BSCCM\n"
     ]
    },
    {
     "ename": "",
     "evalue": "",
     "output_type": "error",
     "traceback": [
      "\u001b[1;31mThe Kernel crashed while executing code in the the current cell or a previous cell. Please review the code in the cell(s) to identify a possible cause of the failure. Click <a href='https://aka.ms/vscodeJupyterKernelCrash'>here</a> for more info. View Jupyter <a href='command:jupyter.viewOutput'>log</a> for further details."
     ]
    }
   ],
   "source": [
    "from encoding_information.bsccm_utils import *\n",
    "from encoding_information.image_utils import *\n",
    "\n",
    "bsccm = BSCCM('/home/hpinkard_waller/data/BSCCM/')\n",
    "\n",
    "# load images, extract patches, and compute cov mats\n",
    "edge_crop = 32\n",
    "patch_size = 5\n",
    "num_images = 1000\n",
    "\n",
    "# channel = 'LED119'\n",
    "channel = 'DPC_Right'\n",
    "\n",
    "num_test_images = 500\n",
    "\n",
    "all_images = load_bsccm_images(bsccm, channel=channel, num_images=num_images + num_test_images, edge_crop=edge_crop, median_filter=False)\n",
    "images = all_images[:num_images]\n",
    "test_images = all_images[num_images:]\n",
    "test_patches = extract_patches(test_images, patch_size, num_patches=num_test_images, seed=0)\n",
    "\n",
    "num_patches = 1000\n",
    "seed = 10\n",
    "\n",
    "patches = extract_patches(images, patch_size, num_patches=num_patches, seed=seed)\n"
   ]
  },
  {
   "cell_type": "code",
   "execution_count": 1,
   "metadata": {},
   "outputs": [
    {
     "name": "stderr",
     "output_type": "stream",
     "text": [
      "2023-11-25 12:38:56.520661: E tensorflow/stream_executor/cuda/cuda_blas.cc:2981] Unable to register cuBLAS factory: Attempting to register factory for plugin cuBLAS when one has already been registered\n",
      "2023-11-25 12:38:57.074165: W tensorflow/stream_executor/platform/default/dso_loader.cc:64] Could not load dynamic library 'libnvinfer.so.7'; dlerror: libnvinfer.so.7: cannot open shared object file: No such file or directory; LD_LIBRARY_PATH: /home/hpinkard_waller/mambaforge/envs/phenotypes/lib/python3.10/site-packages/nvidia/cublas/lib:/home/hpinkard_waller/mambaforge/envs/phenotypes/lib/python3.10/site-packages/nvidia/cuda_cupti/lib:/home/hpinkard_waller/mambaforge/envs/phenotypes/lib/python3.10/site-packages/nvidia/cuda_nvcc/lib:/home/hpinkard_waller/mambaforge/envs/phenotypes/lib/python3.10/site-packages/nvidia/cuda_nvrtc/lib:/home/hpinkard_waller/mambaforge/envs/phenotypes/lib/python3.10/site-packages/nvidia/cuda_runtime/lib:/home/hpinkard_waller/mambaforge/envs/phenotypes/lib/python3.10/site-packages/nvidia/cudnn/lib:/home/hpinkard_waller/mambaforge/envs/phenotypes/lib/python3.10/site-packages/nvidia/cufft/lib:/home/hpinkard_waller/mambaforge/envs/phenotypes/lib/python3.10/site-packages/nvidia/cusolver/lib:/home/hpinkard_waller/mambaforge/envs/phenotypes/lib/python3.10/site-packages/nvidia/cusparse/lib:/home/hpinkard_waller/mambaforge/envs/phenotypes/lib/python3.10/site-packages/nvidia/nccl/lib\n",
      "2023-11-25 12:38:57.074261: W tensorflow/stream_executor/platform/default/dso_loader.cc:64] Could not load dynamic library 'libnvinfer_plugin.so.7'; dlerror: libnvinfer_plugin.so.7: cannot open shared object file: No such file or directory; LD_LIBRARY_PATH: /home/hpinkard_waller/mambaforge/envs/phenotypes/lib/python3.10/site-packages/nvidia/cublas/lib:/home/hpinkard_waller/mambaforge/envs/phenotypes/lib/python3.10/site-packages/nvidia/cuda_cupti/lib:/home/hpinkard_waller/mambaforge/envs/phenotypes/lib/python3.10/site-packages/nvidia/cuda_nvcc/lib:/home/hpinkard_waller/mambaforge/envs/phenotypes/lib/python3.10/site-packages/nvidia/cuda_nvrtc/lib:/home/hpinkard_waller/mambaforge/envs/phenotypes/lib/python3.10/site-packages/nvidia/cuda_runtime/lib:/home/hpinkard_waller/mambaforge/envs/phenotypes/lib/python3.10/site-packages/nvidia/cudnn/lib:/home/hpinkard_waller/mambaforge/envs/phenotypes/lib/python3.10/site-packages/nvidia/cufft/lib:/home/hpinkard_waller/mambaforge/envs/phenotypes/lib/python3.10/site-packages/nvidia/cusolver/lib:/home/hpinkard_waller/mambaforge/envs/phenotypes/lib/python3.10/site-packages/nvidia/cusparse/lib:/home/hpinkard_waller/mambaforge/envs/phenotypes/lib/python3.10/site-packages/nvidia/nccl/lib\n",
      "2023-11-25 12:38:57.074270: W tensorflow/compiler/tf2tensorrt/utils/py_utils.cc:38] TF-TRT Warning: Cannot dlopen some TensorRT libraries. If you would like to use Nvidia GPU with TensorRT, please make sure the missing libraries mentioned above are installed properly.\n"
     ]
    },
    {
     "ename": "NameError",
     "evalue": "name 'patches' is not defined",
     "output_type": "error",
     "traceback": [
      "\u001b[0;31m---------------------------------------------------------------------------\u001b[0m",
      "\u001b[0;31mNameError\u001b[0m                                 Traceback (most recent call last)",
      "\u001b[1;32m/home/hpinkard_waller/GitRepos/EncodingInformation/mi_estimator_experiments/debug_sampling_from_pixelcnn.ipynb Cell 3\u001b[0m line \u001b[0;36m7\n\u001b[1;32m      <a href='vscode-notebook-cell://ssh-remote%2Bwaller-fuoco.eecs.berkeley.edu/home/hpinkard_waller/GitRepos/EncodingInformation/mi_estimator_experiments/debug_sampling_from_pixelcnn.ipynb#W2sdnNjb2RlLXJlbW90ZQ%3D%3D?line=2'>3</a>\u001b[0m \u001b[39mfrom\u001b[39;00m \u001b[39mencoding_information\u001b[39;00m\u001b[39m.\u001b[39;00m\u001b[39mmodels\u001b[39;00m\u001b[39m.\u001b[39;00m\u001b[39mpixel_cnn\u001b[39;00m \u001b[39mimport\u001b[39;00m PixelCNN\n\u001b[1;32m      <a href='vscode-notebook-cell://ssh-remote%2Bwaller-fuoco.eecs.berkeley.edu/home/hpinkard_waller/GitRepos/EncodingInformation/mi_estimator_experiments/debug_sampling_from_pixelcnn.ipynb#W2sdnNjb2RlLXJlbW90ZQ%3D%3D?line=4'>5</a>\u001b[0m pixel_cnn \u001b[39m=\u001b[39m PixelCNN()\n\u001b[0;32m----> <a href='vscode-notebook-cell://ssh-remote%2Bwaller-fuoco.eecs.berkeley.edu/home/hpinkard_waller/GitRepos/EncodingInformation/mi_estimator_experiments/debug_sampling_from_pixelcnn.ipynb#W2sdnNjb2RlLXJlbW90ZQ%3D%3D?line=6'>7</a>\u001b[0m pixel_cnn\u001b[39m.\u001b[39mfit(patches, max_epochs\u001b[39m=\u001b[39m\u001b[39m5\u001b[39m, num_val_samples\u001b[39m=\u001b[39m\u001b[39m100\u001b[39m)\n",
      "\u001b[0;31mNameError\u001b[0m: name 'patches' is not defined"
     ]
    }
   ],
   "source": [
    "eigenvalue_floor = 1e-3\n",
    "\n",
    "from encoding_information.models.pixel_cnn import PixelCNN\n",
    "\n",
    "pixel_cnn = PixelCNN()\n",
    "\n",
    "pixel_cnn.fit(patches, max_epochs=5, num_val_samples=100)"
   ]
  },
  {
   "cell_type": "code",
   "execution_count": 7,
   "metadata": {},
   "outputs": [
    {
     "name": "stderr",
     "output_type": "stream",
     "text": [
      "Generating PixelCNN samples: 100%|██████████| 10/10 [01:20<00:00,  8.08s/it]\n"
     ]
    },
    {
     "data": {
      "image/png": "[encoded data removed]",
      "text/plain": [
       "<Figure size 1000x1000 with 6 Axes>"
      ]
     },
     "metadata": {},
     "output_type": "display_data"
    }
   ],
   "source": [
    "samples = pixel_cnn.generate_samples(3, 10)\n",
    "\n",
    "fig, axs = plt.subplots(1, samples.shape[0], figsize=(10, 10))\n",
    "for k in range(samples.shape[0]):\n",
    "    axs[k].imshow(samples[k], cmap='inferno')\n",
    "    axs[k].axis('off')\n",
    "    "
   ]
  },
  {
   "cell_type": "code",
   "execution_count": 6,
   "metadata": {},
   "outputs": [
    {
     "data": {
      "text/plain": [
       "Array([[[ 979.5630178 ,  880.66045281,  761.95074457],\n",
       "        [ 885.43834494,  723.84068121,  644.24404599],\n",
       "        [ 748.8026461 ,  560.66636878,  601.30195573]],\n",
       "\n",
       "       [[1283.72662769, 1403.83734892, 1581.57750844],\n",
       "        [1283.25113277, 1550.82644136, 1796.39901114],\n",
       "        [ 947.08028326, 1392.07069234, 1168.86379635]],\n",
       "\n",
       "       [[ 999.59443133,  911.38851727,  839.62646281],\n",
       "        [ 957.62144962,  856.67709323,  756.54578246],\n",
       "        [ 861.73339913,  839.58960085,  703.14856307]],\n",
       "\n",
       "       [[1065.15969607,  969.12269501,  860.13496664],\n",
       "        [1041.52647655,  964.26257383,  872.03370449],\n",
       "        [1085.67603411, 1024.84835926,  871.44331605]],\n",
       "\n",
       "       [[1101.28831028, 1027.08923216,  917.18187474],\n",
       "        [1268.81597105, 1252.271136  , 1129.24344299],\n",
       "        [1446.37916364, 1346.25084914, 1178.17906044]],\n",
       "\n",
       "       [[ 781.90730468,  639.78026758,  452.95015475],\n",
       "        [ 617.962327  ,  453.22134183,  367.81894293],\n",
       "        [ 483.99323737,  390.5566132 ,  521.75807769]],\n",
       "\n",
       "       [[1380.03735108, 1567.0577256 , 1651.91876673],\n",
       "        [ 848.18484622, 1199.76022807, 1612.27463847],\n",
       "        [ 647.73775637,  763.91080437, 1240.87210422]],\n",
       "\n",
       "       [[1208.91286674, 1136.3899239 , 1028.82309387],\n",
       "        [1384.46339147, 1333.74241291, 1151.37549453],\n",
       "        [1293.96194235, 1369.58272563, 1269.84709902]],\n",
       "\n",
       "       [[1095.95542082, 1057.95264433, 1083.35489338],\n",
       "        [1171.27077644, 1129.83400156, 1062.61089981],\n",
       "        [1217.46233441, 1148.13155043, 1167.61789342]],\n",
       "\n",
       "       [[1223.82111011, 1336.74206525, 1584.98664183],\n",
       "        [1557.49150692, 1640.06806546, 1696.14693472],\n",
       "        [ 731.64744329,  818.96020337, 1048.84671235]]], dtype=float64)"
      ]
     },
     "execution_count": 6,
     "metadata": {},
     "output_type": "execute_result"
    }
   ],
   "source": [
    "samples"
   ]
  }
 ],
 "metadata": {
  "kernelspec": {
   "display_name": "phenotypes",
   "language": "python",
   "name": "python3"
  },
  "language_info": {
   "codemirror_mode": {
    "name": "ipython",
    "version": 3
   },
   "file_extension": ".py",
   "mimetype": "text/x-python",
   "name": "python",
   "nbconvert_exporter": "python",
   "pygments_lexer": "ipython3",
   "version": "3.10.6"
  }
 },
 "nbformat": 4,
 "nbformat_minor": 2
}
