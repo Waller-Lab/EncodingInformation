{
 "cells": [
  {
   "cell_type": "code",
   "execution_count": 1,
   "metadata": {},
   "outputs": [
    {
     "name": "stderr",
     "output_type": "stream",
     "text": [
      "2023-10-25 20:29:36.068236: E tensorflow/stream_executor/cuda/cuda_blas.cc:2981] Unable to register cuBLAS factory: Attempting to register factory for plugin cuBLAS when one has already been registered\n",
      "2023-10-25 20:29:37.792988: W tensorflow/stream_executor/platform/default/dso_loader.cc:64] Could not load dynamic library 'libnvinfer.so.7'; dlerror: libnvinfer.so.7: cannot open shared object file: No such file or directory; LD_LIBRARY_PATH: /home/hpinkard_waller/mambaforge/envs/phenotypes/lib/python3.10/site-packages/nvidia/cublas/lib:/home/hpinkard_waller/mambaforge/envs/phenotypes/lib/python3.10/site-packages/nvidia/cuda_cupti/lib:/home/hpinkard_waller/mambaforge/envs/phenotypes/lib/python3.10/site-packages/nvidia/cuda_nvcc/lib:/home/hpinkard_waller/mambaforge/envs/phenotypes/lib/python3.10/site-packages/nvidia/cuda_nvrtc/lib:/home/hpinkard_waller/mambaforge/envs/phenotypes/lib/python3.10/site-packages/nvidia/cuda_runtime/lib:/home/hpinkard_waller/mambaforge/envs/phenotypes/lib/python3.10/site-packages/nvidia/cudnn/lib:/home/hpinkard_waller/mambaforge/envs/phenotypes/lib/python3.10/site-packages/nvidia/cufft/lib:/home/hpinkard_waller/mambaforge/envs/phenotypes/lib/python3.10/site-packages/nvidia/cusolver/lib:/home/hpinkard_waller/mambaforge/envs/phenotypes/lib/python3.10/site-packages/nvidia/cusparse/lib:/home/hpinkard_waller/mambaforge/envs/phenotypes/lib/python3.10/site-packages/nvidia/nccl/lib\n",
      "2023-10-25 20:29:37.793451: W tensorflow/stream_executor/platform/default/dso_loader.cc:64] Could not load dynamic library 'libnvinfer_plugin.so.7'; dlerror: libnvinfer_plugin.so.7: cannot open shared object file: No such file or directory; LD_LIBRARY_PATH: /home/hpinkard_waller/mambaforge/envs/phenotypes/lib/python3.10/site-packages/nvidia/cublas/lib:/home/hpinkard_waller/mambaforge/envs/phenotypes/lib/python3.10/site-packages/nvidia/cuda_cupti/lib:/home/hpinkard_waller/mambaforge/envs/phenotypes/lib/python3.10/site-packages/nvidia/cuda_nvcc/lib:/home/hpinkard_waller/mambaforge/envs/phenotypes/lib/python3.10/site-packages/nvidia/cuda_nvrtc/lib:/home/hpinkard_waller/mambaforge/envs/phenotypes/lib/python3.10/site-packages/nvidia/cuda_runtime/lib:/home/hpinkard_waller/mambaforge/envs/phenotypes/lib/python3.10/site-packages/nvidia/cudnn/lib:/home/hpinkard_waller/mambaforge/envs/phenotypes/lib/python3.10/site-packages/nvidia/cufft/lib:/home/hpinkard_waller/mambaforge/envs/phenotypes/lib/python3.10/site-packages/nvidia/cusolver/lib:/home/hpinkard_waller/mambaforge/envs/phenotypes/lib/python3.10/site-packages/nvidia/cusparse/lib:/home/hpinkard_waller/mambaforge/envs/phenotypes/lib/python3.10/site-packages/nvidia/nccl/lib\n",
      "2023-10-25 20:29:37.793481: W tensorflow/compiler/tf2tensorrt/utils/py_utils.cc:38] TF-TRT Warning: Cannot dlopen some TensorRT libraries. If you would like to use Nvidia GPU with TensorRT, please make sure the missing libraries mentioned above are installed properly.\n"
     ]
    },
    {
     "name": "stdout",
     "output_type": "stream",
     "text": [
      "Opening BSCCM\n"
     ]
    }
   ],
   "source": [
    "%load_ext autoreload\n",
    "%autoreload 2\n",
    "# this only works on startup!\n",
    "from jax import config\n",
    "config.update(\"jax_enable_x64\", True)\n",
    "\n",
    "import os\n",
    "os.environ[\"CUDA_DEVICE_ORDER\"] = \"PCI_BUS_ID\" \n",
    "os.environ[\"CUDA_VISIBLE_DEVICES\"] = '1'\n",
    "from encoding_information.gpu_utils import limit_gpu_memory_growth\n",
    "limit_gpu_memory_growth()\n",
    "\n",
    "from cleanplots import *\n",
    "from tqdm import tqdm\n",
    "from encoding_information.information_estimation import *\n",
    "from encoding_information.image_utils import *\n",
    "from encoding_information.models.gaussian_process import *\n",
    "from encoding_information.plot_utils import *\n",
    "\n",
    "from encoding_information.bsccm_utils import *\n",
    "from bsccm import BSCCM\n",
    "from jax import jit\n",
    "import numpy as onp\n",
    "import jax.numpy as np\n",
    "\n",
    "bsccm = BSCCM('/home/hpinkard_waller/data/BSCCM/')"
   ]
  },
  {
   "cell_type": "code",
   "execution_count": 2,
   "metadata": {},
   "outputs": [],
   "source": [
    "# load images, extract patches, and compute cov mats\n",
    "edge_crop = 32\n",
    "num_images = 10000\n",
    "num_patches = 10000\n",
    "channel = 'LED119'\n",
    "eigenvalue_floor = 1e-3\n",
    "\n",
    "num_test_images = 1000\n",
    "\n",
    "all_images = load_bsccm_images(bsccm, channel=channel, num_images=num_images + num_test_images, edge_crop=edge_crop, median_filter=False)\n",
    "images = all_images[:num_images]\n",
    "test_images = all_images[num_images:]\n"
   ]
  },
  {
   "cell_type": "code",
   "execution_count": 6,
   "metadata": {},
   "outputs": [
    {
     "name": "stderr",
     "output_type": "stream",
     "text": [
      "100%|██████████| 10000/10000 [03:54<00:00, 42.68it/s]\n",
      "100%|██████████| 1000/1000 [00:27<00:00, 36.46it/s]\n",
      "Computing loss: 9it [00:01,  5.41it/s]\n"
     ]
    },
    {
     "name": "stdout",
     "output_type": "stream",
     "text": [
      "Initial validation NLL: 6.21\n"
     ]
    },
    {
     "name": "stderr",
     "output_type": "stream",
     "text": [
      "Epoch 1: 100%|██████████| 1/1 [00:03<00:00,  3.64s/it]\n",
      "Computing loss: 9it [00:00, 117.42it/s]\n"
     ]
    },
    {
     "name": "stdout",
     "output_type": "stream",
     "text": [
      "Epoch 1: validation NLL: 6.25\n"
     ]
    },
    {
     "name": "stderr",
     "output_type": "stream",
     "text": [
      "Epoch 2: 100%|██████████| 1/1 [00:00<00:00, 120.75it/s]\n",
      "Computing loss: 9it [00:00, 101.03it/s]\n"
     ]
    },
    {
     "name": "stdout",
     "output_type": "stream",
     "text": [
      "Epoch 2: validation NLL: 6.22\n"
     ]
    },
    {
     "name": "stderr",
     "output_type": "stream",
     "text": [
      "Epoch 3: 100%|██████████| 1/1 [00:00<00:00, 201.64it/s]\n",
      "Computing loss: 9it [00:00, 151.30it/s]\n"
     ]
    },
    {
     "name": "stdout",
     "output_type": "stream",
     "text": [
      "Epoch 3: validation NLL: 6.23\n"
     ]
    },
    {
     "name": "stderr",
     "output_type": "stream",
     "text": [
      "Epoch 4: 100%|██████████| 1/1 [00:00<00:00, 119.54it/s]\n",
      "Computing loss: 9it [00:00, 128.84it/s]\n"
     ]
    },
    {
     "name": "stdout",
     "output_type": "stream",
     "text": [
      "Epoch 4: validation NLL: 6.24\n"
     ]
    },
    {
     "name": "stderr",
     "output_type": "stream",
     "text": [
      "Epoch 5: 100%|██████████| 1/1 [00:00<00:00, 132.51it/s]\n",
      "Computing loss: 9it [00:00, 112.61it/s]\n"
     ]
    },
    {
     "name": "stdout",
     "output_type": "stream",
     "text": [
      "Epoch 5: validation NLL: 6.22\n"
     ]
    },
    {
     "name": "stderr",
     "output_type": "stream",
     "text": [
      "precomputing masks and variances: 100%|██████████| 1/1 [00:00<00:00, 510.50it/s]\n"
     ]
    },
    {
     "name": "stdout",
     "output_type": "stream",
     "text": [
      "evaluating likelihood\n"
     ]
    },
    {
     "name": "stderr",
     "output_type": "stream",
     "text": [
      "computing log likelihoods: 100%|██████████| 1/1 [00:00<00:00, 332.06it/s]\n"
     ]
    },
    {
     "name": "stdout",
     "output_type": "stream",
     "text": [
      "Estimated H(Y|X) = 4.368 differential entropy/pixel\n",
      "Estimated H(Y) (upper bound) = 6.303 differential entropy/pixel\n",
      "Estimated I(Y;X) = 2.792 bits/pixel\n"
     ]
    },
    {
     "name": "stderr",
     "output_type": "stream",
     "text": [
      "precomputing masks and variances: 100%|██████████| 1/1 [00:00<00:00, 132.19it/s]\n"
     ]
    },
    {
     "name": "stdout",
     "output_type": "stream",
     "text": [
      "evaluating likelihood\n"
     ]
    },
    {
     "name": "stderr",
     "output_type": "stream",
     "text": [
      "computing log likelihoods: 100%|██████████| 1/1 [00:00<00:00, 167.74it/s]\n",
      "Computing loss: 16it [00:09,  1.71it/s]\n"
     ]
    },
    {
     "name": "stdout",
     "output_type": "stream",
     "text": [
      "Initial validation NLL: 135.67\n"
     ]
    },
    {
     "name": "stderr",
     "output_type": "stream",
     "text": [
      "Epoch 1: 100%|██████████| 100/100 [00:20<00:00,  5.00it/s]\n",
      "Computing loss: 16it [00:00, 24.72it/s]\n"
     ]
    },
    {
     "name": "stdout",
     "output_type": "stream",
     "text": [
      "Epoch 1: validation NLL: 6.31\n"
     ]
    },
    {
     "name": "stderr",
     "output_type": "stream",
     "text": [
      "Epoch 2: 100%|██████████| 100/100 [00:03<00:00, 31.88it/s]\n",
      "Computing loss: 16it [00:00, 57.39it/s]\n"
     ]
    },
    {
     "name": "stdout",
     "output_type": "stream",
     "text": [
      "Epoch 2: validation NLL: 6.32\n"
     ]
    },
    {
     "name": "stderr",
     "output_type": "stream",
     "text": [
      "Epoch 3: 100%|██████████| 100/100 [00:03<00:00, 30.66it/s]\n",
      "Computing loss: 16it [00:00, 57.68it/s]\n"
     ]
    },
    {
     "name": "stdout",
     "output_type": "stream",
     "text": [
      "Epoch 3: validation NLL: 6.31\n"
     ]
    },
    {
     "name": "stderr",
     "output_type": "stream",
     "text": [
      "Epoch 4: 100%|██████████| 100/100 [00:03<00:00, 30.37it/s]\n",
      "Computing loss: 16it [00:00, 33.44it/s]\n"
     ]
    },
    {
     "name": "stdout",
     "output_type": "stream",
     "text": [
      "Epoch 4: validation NLL: 6.32\n"
     ]
    },
    {
     "name": "stderr",
     "output_type": "stream",
     "text": [
      "Epoch 5: 100%|██████████| 100/100 [00:03<00:00, 33.32it/s]\n",
      "Computing loss: 16it [00:00, 77.16it/s]\n"
     ]
    },
    {
     "name": "stdout",
     "output_type": "stream",
     "text": [
      "Epoch 5: validation NLL: 6.31\n"
     ]
    },
    {
     "name": "stderr",
     "output_type": "stream",
     "text": [
      "Epoch 6: 100%|██████████| 100/100 [00:03<00:00, 31.88it/s]\n",
      "Computing loss: 16it [00:00, 46.28it/s]\n"
     ]
    },
    {
     "name": "stdout",
     "output_type": "stream",
     "text": [
      "Epoch 6: validation NLL: 6.31\n"
     ]
    },
    {
     "name": "stderr",
     "output_type": "stream",
     "text": [
      "Epoch 7: 100%|██████████| 100/100 [00:02<00:00, 37.58it/s]\n",
      "Computing loss: 16it [00:00, 29.53it/s]\n"
     ]
    },
    {
     "name": "stdout",
     "output_type": "stream",
     "text": [
      "Epoch 7: validation NLL: 6.31\n"
     ]
    },
    {
     "name": "stderr",
     "output_type": "stream",
     "text": [
      "Epoch 8: 100%|██████████| 100/100 [00:02<00:00, 36.76it/s]\n",
      "Computing loss: 16it [00:00, 29.45it/s]\n"
     ]
    },
    {
     "name": "stdout",
     "output_type": "stream",
     "text": [
      "Epoch 8: validation NLL: 6.31\n"
     ]
    },
    {
     "name": "stderr",
     "output_type": "stream",
     "text": [
      "Epoch 9: 100%|██████████| 100/100 [00:03<00:00, 33.25it/s]\n",
      "Computing loss: 16it [00:00, 63.08it/s]\n"
     ]
    },
    {
     "name": "stdout",
     "output_type": "stream",
     "text": [
      "Epoch 9: validation NLL: 6.32\n"
     ]
    },
    {
     "name": "stderr",
     "output_type": "stream",
     "text": [
      "Epoch 10: 100%|██████████| 100/100 [00:03<00:00, 31.00it/s]\n",
      "Computing loss: 16it [00:00, 25.22it/s]\n"
     ]
    },
    {
     "name": "stdout",
     "output_type": "stream",
     "text": [
      "Epoch 10: validation NLL: 6.32\n"
     ]
    },
    {
     "name": "stderr",
     "output_type": "stream",
     "text": [
      "Epoch 11: 100%|██████████| 100/100 [00:03<00:00, 30.98it/s]\n",
      "Computing loss: 16it [00:00, 57.14it/s]\n"
     ]
    },
    {
     "name": "stdout",
     "output_type": "stream",
     "text": [
      "Epoch 11: validation NLL: 6.31\n"
     ]
    },
    {
     "name": "stderr",
     "output_type": "stream",
     "text": [
      "Epoch 12: 100%|██████████| 100/100 [00:02<00:00, 34.98it/s]\n",
      "Computing loss: 16it [00:00, 81.40it/s]\n"
     ]
    },
    {
     "name": "stdout",
     "output_type": "stream",
     "text": [
      "Epoch 12: validation NLL: 6.32\n"
     ]
    },
    {
     "name": "stderr",
     "output_type": "stream",
     "text": [
      "Epoch 13: 100%|██████████| 100/100 [00:03<00:00, 32.10it/s]\n",
      "Computing loss: 16it [00:00, 27.85it/s]\n"
     ]
    },
    {
     "name": "stdout",
     "output_type": "stream",
     "text": [
      "Epoch 13: validation NLL: 6.32\n"
     ]
    },
    {
     "name": "stderr",
     "output_type": "stream",
     "text": [
      "Epoch 14: 100%|██████████| 100/100 [00:02<00:00, 34.36it/s]\n",
      "Computing loss: 16it [00:00, 71.18it/s]\n"
     ]
    },
    {
     "name": "stdout",
     "output_type": "stream",
     "text": [
      "Epoch 14: validation NLL: 6.31\n"
     ]
    },
    {
     "name": "stderr",
     "output_type": "stream",
     "text": [
      "Epoch 15: 100%|██████████| 100/100 [00:02<00:00, 34.19it/s]\n",
      "Computing loss: 16it [00:00, 78.70it/s]\n"
     ]
    },
    {
     "name": "stdout",
     "output_type": "stream",
     "text": [
      "Epoch 15: validation NLL: 6.31\n"
     ]
    },
    {
     "name": "stderr",
     "output_type": "stream",
     "text": [
      "Epoch 16: 100%|██████████| 100/100 [00:03<00:00, 31.90it/s]\n",
      "Computing loss: 16it [00:00, 31.41it/s]\n"
     ]
    },
    {
     "name": "stdout",
     "output_type": "stream",
     "text": [
      "Epoch 16: validation NLL: 6.32\n"
     ]
    },
    {
     "name": "stderr",
     "output_type": "stream",
     "text": [
      "Computing loss: 100%|██████████| 32/32 [00:09<00:00,  3.34it/s]\n"
     ]
    },
    {
     "name": "stdout",
     "output_type": "stream",
     "text": [
      "Estimated H(Y|X) = 4.368 differential entropy/pixel\n",
      "Estimated H(Y) (upper bound) = 6.305 differential entropy/pixel\n",
      "Estimated I(Y;X) = 2.795 bits/pixel\n"
     ]
    },
    {
     "name": "stderr",
     "output_type": "stream",
     "text": [
      "Computing loss: 100%|██████████| 32/32 [00:00<00:00, 38.23it/s]\n",
      "Computing loss: 9it [00:02,  3.76it/s].39s/it]\n"
     ]
    },
    {
     "name": "stdout",
     "output_type": "stream",
     "text": [
      "Initial validation NLL: 5.29\n"
     ]
    },
    {
     "name": "stderr",
     "output_type": "stream",
     "text": [
      "Epoch 1: 100%|██████████| 1/1 [00:03<00:00,  3.66s/it]\n",
      "Computing loss: 9it [00:00, 65.06it/s]\n"
     ]
    },
    {
     "name": "stdout",
     "output_type": "stream",
     "text": [
      "Epoch 1: validation NLL: 5.29\n"
     ]
    },
    {
     "name": "stderr",
     "output_type": "stream",
     "text": [
      "Epoch 2: 100%|██████████| 1/1 [00:00<00:00, 51.05it/s]\n",
      "Computing loss: 9it [00:00, 96.79it/s]\n"
     ]
    },
    {
     "name": "stdout",
     "output_type": "stream",
     "text": [
      "Epoch 2: validation NLL: 5.32\n"
     ]
    },
    {
     "name": "stderr",
     "output_type": "stream",
     "text": [
      "Epoch 3: 100%|██████████| 1/1 [00:00<00:00, 129.27it/s]\n",
      "Computing loss: 9it [00:00, 92.29it/s]\n"
     ]
    },
    {
     "name": "stdout",
     "output_type": "stream",
     "text": [
      "Epoch 3: validation NLL: 5.29\n"
     ]
    },
    {
     "name": "stderr",
     "output_type": "stream",
     "text": [
      "Epoch 4: 100%|██████████| 1/1 [00:00<00:00, 146.87it/s]\n",
      "Computing loss: 9it [00:00, 97.80it/s]\n"
     ]
    },
    {
     "name": "stdout",
     "output_type": "stream",
     "text": [
      "Epoch 4: validation NLL: 5.33\n"
     ]
    },
    {
     "name": "stderr",
     "output_type": "stream",
     "text": [
      "Epoch 5: 100%|██████████| 1/1 [00:00<00:00, 56.43it/s]\n",
      "Computing loss: 9it [00:00, 106.35it/s]\n"
     ]
    },
    {
     "name": "stdout",
     "output_type": "stream",
     "text": [
      "Epoch 5: validation NLL: 5.31\n"
     ]
    },
    {
     "name": "stderr",
     "output_type": "stream",
     "text": [
      "Epoch 6: 100%|██████████| 1/1 [00:00<00:00, 154.71it/s]\n",
      "Computing loss: 9it [00:00, 99.00it/s]\n"
     ]
    },
    {
     "name": "stdout",
     "output_type": "stream",
     "text": [
      "Epoch 6: validation NLL: 5.29\n"
     ]
    },
    {
     "name": "stderr",
     "output_type": "stream",
     "text": [
      "Epoch 7: 100%|██████████| 1/1 [00:00<00:00, 137.17it/s]\n",
      "Computing loss: 9it [00:00, 22.73it/s]\n"
     ]
    },
    {
     "name": "stdout",
     "output_type": "stream",
     "text": [
      "Epoch 7: validation NLL: 5.31\n"
     ]
    },
    {
     "name": "stderr",
     "output_type": "stream",
     "text": [
      "Epoch 8: 100%|██████████| 1/1 [00:00<00:00, 138.94it/s]\n",
      "Computing loss: 9it [00:00, 69.27it/s]\n"
     ]
    },
    {
     "name": "stdout",
     "output_type": "stream",
     "text": [
      "Epoch 8: validation NLL: 5.30\n"
     ]
    },
    {
     "name": "stderr",
     "output_type": "stream",
     "text": [
      "precomputing masks and variances: 100%|██████████| 2/2 [00:00<00:00, 134.84it/s]\n"
     ]
    },
    {
     "name": "stdout",
     "output_type": "stream",
     "text": [
      "evaluating likelihood\n"
     ]
    },
    {
     "name": "stderr",
     "output_type": "stream",
     "text": [
      "computing log likelihoods: 100%|██████████| 2/2 [00:00<00:00, 90.98it/s]\n"
     ]
    },
    {
     "name": "stdout",
     "output_type": "stream",
     "text": [
      "Estimated H(Y|X) = 4.366 differential entropy/pixel\n",
      "Estimated H(Y) (upper bound) = 5.367 differential entropy/pixel\n",
      "Estimated I(Y;X) = 1.445 bits/pixel\n"
     ]
    },
    {
     "name": "stderr",
     "output_type": "stream",
     "text": [
      "precomputing masks and variances: 100%|██████████| 2/2 [00:00<00:00, 327.87it/s]\n"
     ]
    },
    {
     "name": "stdout",
     "output_type": "stream",
     "text": [
      "evaluating likelihood\n"
     ]
    },
    {
     "name": "stderr",
     "output_type": "stream",
     "text": [
      "computing log likelihoods: 100%|██████████| 2/2 [00:00<00:00, 374.84it/s]\n",
      "Computing loss: 16it [00:11,  1.39it/s]\n"
     ]
    },
    {
     "name": "stdout",
     "output_type": "stream",
     "text": [
      "Initial validation NLL: 129.95\n"
     ]
    },
    {
     "name": "stderr",
     "output_type": "stream",
     "text": [
      "Epoch 1: 100%|██████████| 100/100 [00:23<00:00,  4.25it/s]\n",
      "Computing loss: 16it [00:00, 66.30it/s]\n"
     ]
    },
    {
     "name": "stdout",
     "output_type": "stream",
     "text": [
      "Epoch 1: validation NLL: 6.26\n"
     ]
    },
    {
     "name": "stderr",
     "output_type": "stream",
     "text": [
      "Epoch 2: 100%|██████████| 100/100 [00:03<00:00, 25.27it/s]\n",
      "Computing loss: 16it [00:00, 67.21it/s]\n"
     ]
    },
    {
     "name": "stdout",
     "output_type": "stream",
     "text": [
      "Epoch 2: validation NLL: 6.23\n"
     ]
    },
    {
     "name": "stderr",
     "output_type": "stream",
     "text": [
      "Epoch 3: 100%|██████████| 100/100 [00:03<00:00, 28.97it/s]\n",
      "Computing loss: 16it [00:00, 68.60it/s]\n"
     ]
    },
    {
     "name": "stdout",
     "output_type": "stream",
     "text": [
      "Epoch 3: validation NLL: 6.06\n"
     ]
    },
    {
     "name": "stderr",
     "output_type": "stream",
     "text": [
      "Epoch 4: 100%|██████████| 100/100 [00:03<00:00, 26.19it/s]\n",
      "Computing loss: 16it [00:00, 59.54it/s]\n"
     ]
    },
    {
     "name": "stdout",
     "output_type": "stream",
     "text": [
      "Epoch 4: validation NLL: 5.97\n"
     ]
    },
    {
     "name": "stderr",
     "output_type": "stream",
     "text": [
      "Epoch 5: 100%|██████████| 100/100 [00:04<00:00, 24.85it/s]\n",
      "Computing loss: 16it [00:00, 73.49it/s]\n"
     ]
    },
    {
     "name": "stdout",
     "output_type": "stream",
     "text": [
      "Epoch 5: validation NLL: 6.11\n"
     ]
    },
    {
     "name": "stderr",
     "output_type": "stream",
     "text": [
      "Epoch 6: 100%|██████████| 100/100 [00:04<00:00, 22.43it/s]\n",
      "Computing loss: 16it [00:00, 98.79it/s]\n"
     ]
    },
    {
     "name": "stdout",
     "output_type": "stream",
     "text": [
      "Epoch 6: validation NLL: 5.95\n"
     ]
    },
    {
     "name": "stderr",
     "output_type": "stream",
     "text": [
      "Epoch 7: 100%|██████████| 100/100 [00:03<00:00, 29.57it/s]\n",
      "Computing loss: 16it [00:00, 55.92it/s]\n"
     ]
    },
    {
     "name": "stdout",
     "output_type": "stream",
     "text": [
      "Epoch 7: validation NLL: 5.95\n"
     ]
    },
    {
     "name": "stderr",
     "output_type": "stream",
     "text": [
      "Epoch 8: 100%|██████████| 100/100 [00:04<00:00, 24.12it/s]\n",
      "Computing loss: 16it [00:00, 82.20it/s]\n"
     ]
    },
    {
     "name": "stdout",
     "output_type": "stream",
     "text": [
      "Epoch 8: validation NLL: 5.95\n"
     ]
    },
    {
     "name": "stderr",
     "output_type": "stream",
     "text": [
      "Epoch 9: 100%|██████████| 100/100 [00:04<00:00, 23.32it/s]\n",
      "Computing loss: 16it [00:00, 70.70it/s]\n"
     ]
    },
    {
     "name": "stdout",
     "output_type": "stream",
     "text": [
      "Epoch 9: validation NLL: 5.95\n"
     ]
    },
    {
     "name": "stderr",
     "output_type": "stream",
     "text": [
      "Epoch 10: 100%|██████████| 100/100 [00:03<00:00, 27.36it/s]\n",
      "Computing loss: 16it [00:00, 73.48it/s]\n"
     ]
    },
    {
     "name": "stdout",
     "output_type": "stream",
     "text": [
      "Epoch 10: validation NLL: 5.95\n"
     ]
    },
    {
     "name": "stderr",
     "output_type": "stream",
     "text": [
      "Epoch 11: 100%|██████████| 100/100 [00:03<00:00, 25.23it/s]\n",
      "Computing loss: 16it [00:00, 106.84it/s]\n"
     ]
    },
    {
     "name": "stdout",
     "output_type": "stream",
     "text": [
      "Epoch 11: validation NLL: 5.95\n"
     ]
    },
    {
     "name": "stderr",
     "output_type": "stream",
     "text": [
      "Epoch 12: 100%|██████████| 100/100 [00:03<00:00, 28.13it/s]\n",
      "Computing loss: 16it [00:00, 103.35it/s]\n"
     ]
    },
    {
     "name": "stdout",
     "output_type": "stream",
     "text": [
      "Epoch 12: validation NLL: 5.95\n"
     ]
    },
    {
     "name": "stderr",
     "output_type": "stream",
     "text": [
      "Epoch 13: 100%|██████████| 100/100 [00:03<00:00, 26.52it/s]\n",
      "Computing loss: 16it [00:00, 78.21it/s]\n"
     ]
    },
    {
     "name": "stdout",
     "output_type": "stream",
     "text": [
      "Epoch 13: validation NLL: 5.95\n"
     ]
    },
    {
     "name": "stderr",
     "output_type": "stream",
     "text": [
      "Epoch 14: 100%|██████████| 100/100 [00:04<00:00, 24.00it/s]\n",
      "Computing loss: 16it [00:00, 81.52it/s]\n"
     ]
    },
    {
     "name": "stdout",
     "output_type": "stream",
     "text": [
      "Epoch 14: validation NLL: 5.95\n"
     ]
    },
    {
     "name": "stderr",
     "output_type": "stream",
     "text": [
      "Epoch 15: 100%|██████████| 100/100 [00:04<00:00, 22.02it/s]\n",
      "Computing loss: 16it [00:00, 80.36it/s]\n"
     ]
    },
    {
     "name": "stdout",
     "output_type": "stream",
     "text": [
      "Epoch 15: validation NLL: 5.95\n"
     ]
    },
    {
     "name": "stderr",
     "output_type": "stream",
     "text": [
      "Epoch 16: 100%|██████████| 100/100 [00:03<00:00, 27.59it/s]\n",
      "Computing loss: 16it [00:00, 81.70it/s]\n"
     ]
    },
    {
     "name": "stdout",
     "output_type": "stream",
     "text": [
      "Epoch 16: validation NLL: 5.95\n"
     ]
    },
    {
     "name": "stderr",
     "output_type": "stream",
     "text": [
      "Epoch 17: 100%|██████████| 100/100 [00:04<00:00, 22.80it/s]\n",
      "Computing loss: 16it [00:00, 95.70it/s]\n"
     ]
    },
    {
     "name": "stdout",
     "output_type": "stream",
     "text": [
      "Epoch 17: validation NLL: 5.97\n"
     ]
    },
    {
     "name": "stderr",
     "output_type": "stream",
     "text": [
      "Computing loss: 100%|██████████| 32/32 [00:12<00:00,  2.49it/s]\n"
     ]
    },
    {
     "name": "stdout",
     "output_type": "stream",
     "text": [
      "Estimated H(Y|X) = 4.366 differential entropy/pixel\n",
      "Estimated H(Y) (upper bound) = 5.953 differential entropy/pixel\n",
      "Estimated I(Y;X) = 2.290 bits/pixel\n"
     ]
    },
    {
     "name": "stderr",
     "output_type": "stream",
     "text": [
      "Computing loss: 100%|██████████| 32/32 [00:00<00:00, 55.49it/s]\n",
      "Computing loss: 9it [00:02,  4.32it/s].21s/it]\n"
     ]
    },
    {
     "name": "stdout",
     "output_type": "stream",
     "text": [
      "Initial validation NLL: 5.00\n"
     ]
    },
    {
     "name": "stderr",
     "output_type": "stream",
     "text": [
      "Epoch 1: 100%|██████████| 1/1 [00:03<00:00,  3.58s/it]\n",
      "Computing loss: 9it [00:00, 32.28it/s]\n"
     ]
    },
    {
     "name": "stdout",
     "output_type": "stream",
     "text": [
      "Epoch 1: validation NLL: 5.00\n"
     ]
    },
    {
     "name": "stderr",
     "output_type": "stream",
     "text": [
      "Epoch 2: 100%|██████████| 1/1 [00:00<00:00, 66.70it/s]\n",
      "Computing loss: 9it [00:00, 70.66it/s]\n"
     ]
    },
    {
     "name": "stdout",
     "output_type": "stream",
     "text": [
      "Epoch 2: validation NLL: 4.98\n"
     ]
    },
    {
     "name": "stderr",
     "output_type": "stream",
     "text": [
      "Epoch 3: 100%|██████████| 1/1 [00:00<00:00, 120.07it/s]\n",
      "Computing loss: 9it [00:00, 77.07it/s]\n"
     ]
    },
    {
     "name": "stdout",
     "output_type": "stream",
     "text": [
      "Epoch 3: validation NLL: 5.00\n"
     ]
    },
    {
     "name": "stderr",
     "output_type": "stream",
     "text": [
      "Epoch 4: 100%|██████████| 1/1 [00:00<00:00, 65.87it/s]\n",
      "Computing loss: 9it [00:00, 104.27it/s]\n"
     ]
    },
    {
     "name": "stdout",
     "output_type": "stream",
     "text": [
      "Epoch 4: validation NLL: 5.00\n"
     ]
    },
    {
     "name": "stderr",
     "output_type": "stream",
     "text": [
      "Epoch 5: 100%|██████████| 1/1 [00:00<00:00, 53.91it/s]\n",
      "Computing loss: 9it [00:00, 65.37it/s]\n"
     ]
    },
    {
     "name": "stdout",
     "output_type": "stream",
     "text": [
      "Epoch 5: validation NLL: 4.98\n"
     ]
    },
    {
     "name": "stderr",
     "output_type": "stream",
     "text": [
      "Epoch 6: 100%|██████████| 1/1 [00:00<00:00, 76.86it/s]\n",
      "Computing loss: 9it [00:00, 40.76it/s]\n"
     ]
    },
    {
     "name": "stdout",
     "output_type": "stream",
     "text": [
      "Epoch 6: validation NLL: 5.00\n"
     ]
    },
    {
     "name": "stderr",
     "output_type": "stream",
     "text": [
      "Epoch 7: 100%|██████████| 1/1 [00:00<00:00, 116.14it/s]\n",
      "Computing loss: 9it [00:00, 68.13it/s]\n"
     ]
    },
    {
     "name": "stdout",
     "output_type": "stream",
     "text": [
      "Epoch 7: validation NLL: 5.02\n"
     ]
    },
    {
     "name": "stderr",
     "output_type": "stream",
     "text": [
      "precomputing masks and variances: 100%|██████████| 3/3 [00:00<00:00, 194.98it/s]\n"
     ]
    },
    {
     "name": "stdout",
     "output_type": "stream",
     "text": [
      "evaluating likelihood\n"
     ]
    },
    {
     "name": "stderr",
     "output_type": "stream",
     "text": [
      "computing log likelihoods: 100%|██████████| 3/3 [00:00<00:00, 164.69it/s]\n"
     ]
    },
    {
     "name": "stdout",
     "output_type": "stream",
     "text": [
      "Estimated H(Y|X) = 4.366 differential entropy/pixel\n",
      "Estimated H(Y) (upper bound) = 5.017 differential entropy/pixel\n",
      "Estimated I(Y;X) = 0.940 bits/pixel\n"
     ]
    },
    {
     "name": "stderr",
     "output_type": "stream",
     "text": [
      "precomputing masks and variances: 100%|██████████| 3/3 [00:00<00:00, 175.41it/s]\n"
     ]
    },
    {
     "name": "stdout",
     "output_type": "stream",
     "text": [
      "evaluating likelihood\n"
     ]
    },
    {
     "name": "stderr",
     "output_type": "stream",
     "text": [
      "computing log likelihoods: 100%|██████████| 3/3 [00:00<00:00, 141.92it/s]\n",
      "Computing loss: 16it [00:16,  1.04s/it]\n"
     ]
    },
    {
     "name": "stdout",
     "output_type": "stream",
     "text": [
      "Initial validation NLL: 124.46\n"
     ]
    },
    {
     "name": "stderr",
     "output_type": "stream",
     "text": [
      "Epoch 1: 100%|██████████| 100/100 [00:26<00:00,  3.75it/s]\n",
      "Computing loss: 16it [00:00, 68.19it/s]\n"
     ]
    },
    {
     "name": "stdout",
     "output_type": "stream",
     "text": [
      "Epoch 1: validation NLL: 5.99\n"
     ]
    },
    {
     "name": "stderr",
     "output_type": "stream",
     "text": [
      "Epoch 2: 100%|██████████| 100/100 [00:04<00:00, 24.90it/s]\n",
      "Computing loss: 16it [00:00, 50.12it/s]\n"
     ]
    },
    {
     "name": "stdout",
     "output_type": "stream",
     "text": [
      "Epoch 2: validation NLL: 5.91\n"
     ]
    },
    {
     "name": "stderr",
     "output_type": "stream",
     "text": [
      "Epoch 3: 100%|██████████| 100/100 [00:03<00:00, 25.87it/s]\n",
      "Computing loss: 16it [00:00, 65.08it/s]\n"
     ]
    },
    {
     "name": "stdout",
     "output_type": "stream",
     "text": [
      "Epoch 3: validation NLL: 5.44\n"
     ]
    },
    {
     "name": "stderr",
     "output_type": "stream",
     "text": [
      "Epoch 4: 100%|██████████| 100/100 [00:03<00:00, 31.80it/s]\n",
      "Computing loss: 16it [00:00, 64.01it/s]\n"
     ]
    },
    {
     "name": "stdout",
     "output_type": "stream",
     "text": [
      "Epoch 4: validation NLL: 5.21\n"
     ]
    },
    {
     "name": "stderr",
     "output_type": "stream",
     "text": [
      "Epoch 5: 100%|██████████| 100/100 [00:03<00:00, 25.10it/s]\n",
      "Computing loss: 16it [00:00, 28.12it/s]\n"
     ]
    },
    {
     "name": "stdout",
     "output_type": "stream",
     "text": [
      "Epoch 5: validation NLL: 5.11\n"
     ]
    },
    {
     "name": "stderr",
     "output_type": "stream",
     "text": [
      "Epoch 6: 100%|██████████| 100/100 [00:03<00:00, 30.22it/s]\n",
      "Computing loss: 16it [00:00, 87.44it/s]\n"
     ]
    },
    {
     "name": "stdout",
     "output_type": "stream",
     "text": [
      "Epoch 6: validation NLL: 5.07\n"
     ]
    },
    {
     "name": "stderr",
     "output_type": "stream",
     "text": [
      "Epoch 7: 100%|██████████| 100/100 [00:03<00:00, 27.99it/s]\n",
      "Computing loss: 16it [00:00, 68.05it/s]\n"
     ]
    },
    {
     "name": "stdout",
     "output_type": "stream",
     "text": [
      "Epoch 7: validation NLL: 5.04\n"
     ]
    },
    {
     "name": "stderr",
     "output_type": "stream",
     "text": [
      "Epoch 8: 100%|██████████| 100/100 [00:03<00:00, 30.84it/s]\n",
      "Computing loss: 16it [00:00, 35.45it/s]\n"
     ]
    },
    {
     "name": "stdout",
     "output_type": "stream",
     "text": [
      "Epoch 8: validation NLL: 5.02\n"
     ]
    },
    {
     "name": "stderr",
     "output_type": "stream",
     "text": [
      "Epoch 9: 100%|██████████| 100/100 [00:03<00:00, 28.74it/s]\n",
      "Computing loss: 16it [00:00, 28.88it/s]\n"
     ]
    },
    {
     "name": "stdout",
     "output_type": "stream",
     "text": [
      "Epoch 9: validation NLL: 5.04\n"
     ]
    },
    {
     "name": "stderr",
     "output_type": "stream",
     "text": [
      "Epoch 10: 100%|██████████| 100/100 [00:03<00:00, 29.84it/s]\n",
      "Computing loss: 16it [00:00, 87.20it/s]\n"
     ]
    },
    {
     "name": "stdout",
     "output_type": "stream",
     "text": [
      "Epoch 10: validation NLL: 5.05\n"
     ]
    },
    {
     "name": "stderr",
     "output_type": "stream",
     "text": [
      "Epoch 11: 100%|██████████| 100/100 [00:03<00:00, 31.63it/s]\n",
      "Computing loss: 16it [00:00, 31.14it/s]\n"
     ]
    },
    {
     "name": "stdout",
     "output_type": "stream",
     "text": [
      "Epoch 11: validation NLL: 5.02\n"
     ]
    },
    {
     "name": "stderr",
     "output_type": "stream",
     "text": [
      "Epoch 12: 100%|██████████| 100/100 [00:03<00:00, 30.45it/s]\n",
      "Computing loss: 16it [00:00, 79.66it/s]\n"
     ]
    },
    {
     "name": "stdout",
     "output_type": "stream",
     "text": [
      "Epoch 12: validation NLL: 5.02\n"
     ]
    },
    {
     "name": "stderr",
     "output_type": "stream",
     "text": [
      "Epoch 13: 100%|██████████| 100/100 [00:02<00:00, 34.32it/s]\n",
      "Computing loss: 16it [00:00, 76.88it/s]\n"
     ]
    },
    {
     "name": "stdout",
     "output_type": "stream",
     "text": [
      "Epoch 13: validation NLL: 5.06\n"
     ]
    },
    {
     "name": "stderr",
     "output_type": "stream",
     "text": [
      "Epoch 14: 100%|██████████| 100/100 [00:03<00:00, 28.95it/s]\n",
      "Computing loss: 16it [00:00, 36.04it/s]\n"
     ]
    },
    {
     "name": "stdout",
     "output_type": "stream",
     "text": [
      "Epoch 14: validation NLL: 5.02\n"
     ]
    },
    {
     "name": "stderr",
     "output_type": "stream",
     "text": [
      "Epoch 15: 100%|██████████| 100/100 [00:03<00:00, 28.34it/s]\n",
      "Computing loss: 16it [00:00, 29.68it/s]\n"
     ]
    },
    {
     "name": "stdout",
     "output_type": "stream",
     "text": [
      "Epoch 15: validation NLL: 5.03\n"
     ]
    },
    {
     "name": "stderr",
     "output_type": "stream",
     "text": [
      "Epoch 16: 100%|██████████| 100/100 [00:03<00:00, 28.88it/s]\n",
      "Computing loss: 16it [00:00, 23.29it/s]\n"
     ]
    },
    {
     "name": "stdout",
     "output_type": "stream",
     "text": [
      "Epoch 16: validation NLL: 5.02\n"
     ]
    },
    {
     "name": "stderr",
     "output_type": "stream",
     "text": [
      "Epoch 17: 100%|██████████| 100/100 [00:04<00:00, 24.78it/s]\n",
      "Computing loss: 16it [00:00, 24.98it/s]\n"
     ]
    },
    {
     "name": "stdout",
     "output_type": "stream",
     "text": [
      "Epoch 17: validation NLL: 5.01\n"
     ]
    },
    {
     "name": "stderr",
     "output_type": "stream",
     "text": [
      "Epoch 18: 100%|██████████| 100/100 [00:03<00:00, 26.31it/s]\n",
      "Computing loss: 16it [00:00, 29.45it/s]\n"
     ]
    },
    {
     "name": "stdout",
     "output_type": "stream",
     "text": [
      "Epoch 18: validation NLL: 5.01\n"
     ]
    },
    {
     "name": "stderr",
     "output_type": "stream",
     "text": [
      "Epoch 19: 100%|██████████| 100/100 [00:03<00:00, 30.67it/s]\n",
      "Computing loss: 16it [00:00, 79.24it/s]\n"
     ]
    },
    {
     "name": "stdout",
     "output_type": "stream",
     "text": [
      "Epoch 19: validation NLL: 5.03\n"
     ]
    },
    {
     "name": "stderr",
     "output_type": "stream",
     "text": [
      "Epoch 20: 100%|██████████| 100/100 [00:03<00:00, 25.31it/s]\n",
      "Computing loss: 16it [00:00, 76.43it/s]\n"
     ]
    },
    {
     "name": "stdout",
     "output_type": "stream",
     "text": [
      "Epoch 20: validation NLL: 5.03\n"
     ]
    },
    {
     "name": "stderr",
     "output_type": "stream",
     "text": [
      "Epoch 21: 100%|██████████| 100/100 [00:03<00:00, 25.84it/s]\n",
      "Computing loss: 16it [00:00, 62.04it/s]\n"
     ]
    },
    {
     "name": "stdout",
     "output_type": "stream",
     "text": [
      "Epoch 21: validation NLL: 5.03\n"
     ]
    },
    {
     "name": "stderr",
     "output_type": "stream",
     "text": [
      "Epoch 22: 100%|██████████| 100/100 [00:04<00:00, 23.59it/s]\n",
      "Computing loss: 16it [00:00, 52.24it/s]\n"
     ]
    },
    {
     "name": "stdout",
     "output_type": "stream",
     "text": [
      "Epoch 22: validation NLL: 5.04\n"
     ]
    },
    {
     "name": "stderr",
     "output_type": "stream",
     "text": [
      "Epoch 23: 100%|██████████| 100/100 [00:04<00:00, 24.76it/s]\n",
      "Computing loss: 16it [00:00, 81.35it/s]\n"
     ]
    },
    {
     "name": "stdout",
     "output_type": "stream",
     "text": [
      "Epoch 23: validation NLL: 5.02\n"
     ]
    },
    {
     "name": "stderr",
     "output_type": "stream",
     "text": [
      "Epoch 24: 100%|██████████| 100/100 [00:03<00:00, 30.20it/s]\n",
      "Computing loss: 16it [00:00, 83.70it/s]\n"
     ]
    },
    {
     "name": "stdout",
     "output_type": "stream",
     "text": [
      "Epoch 24: validation NLL: 5.02\n"
     ]
    },
    {
     "name": "stderr",
     "output_type": "stream",
     "text": [
      "Epoch 25: 100%|██████████| 100/100 [00:03<00:00, 26.40it/s]\n",
      "Computing loss: 16it [00:00, 86.23it/s]\n"
     ]
    },
    {
     "name": "stdout",
     "output_type": "stream",
     "text": [
      "Epoch 25: validation NLL: 5.10\n"
     ]
    },
    {
     "name": "stderr",
     "output_type": "stream",
     "text": [
      "Epoch 26: 100%|██████████| 100/100 [00:02<00:00, 33.62it/s]\n",
      "Computing loss: 16it [00:00, 17.73it/s]\n"
     ]
    },
    {
     "name": "stdout",
     "output_type": "stream",
     "text": [
      "Epoch 26: validation NLL: 5.04\n"
     ]
    },
    {
     "name": "stderr",
     "output_type": "stream",
     "text": [
      "Epoch 27: 100%|██████████| 100/100 [00:02<00:00, 34.23it/s]\n",
      "Computing loss: 16it [00:00, 87.64it/s]\n"
     ]
    },
    {
     "name": "stdout",
     "output_type": "stream",
     "text": [
      "Epoch 27: validation NLL: 5.08\n"
     ]
    },
    {
     "name": "stderr",
     "output_type": "stream",
     "text": [
      "Epoch 28: 100%|██████████| 100/100 [00:02<00:00, 34.55it/s]\n",
      "Computing loss: 16it [00:00, 64.45it/s]\n"
     ]
    },
    {
     "name": "stdout",
     "output_type": "stream",
     "text": [
      "Epoch 28: validation NLL: 5.03\n"
     ]
    },
    {
     "name": "stderr",
     "output_type": "stream",
     "text": [
      "2023-10-25 10:12:30.693179: W external/xla/xla/service/gpu/conv_algorithm_picker.cc:808] None of the algorithms provided by cuDNN heuristics worked; trying fallback algorithms.\n",
      "2023-10-25 10:12:30.693236: W external/xla/xla/service/gpu/conv_algorithm_picker.cc:811] Conv: (f64[32,128,3,3]{3,2,1,0}, u8[0]{0}) custom-call(f64[32,64,3,3]{3,2,1,0}, f64[128,64,3,3]{3,2,1,0}, f64[128]{0}), window={size=3x3 pad=1_1x1_1}, dim_labels=bf01_oi01->bf01, custom_call_target=\"__cudnn$convBiasActivationForward\", backend_config={\"conv_result_scale\":1,\"activation_mode\":\"kNone\",\"side_input_scale\":0,\"leakyrelu_alpha\":0}\n",
      "2023-10-25 10:12:35.523153: W external/xla/xla/service/gpu/conv_algorithm_picker.cc:808] None of the algorithms provided by cuDNN heuristics worked; trying fallback algorithms.\n",
      "2023-10-25 10:12:35.523204: W external/xla/xla/service/gpu/conv_algorithm_picker.cc:811] Conv: (f64[31,128,3,3]{3,2,1,0}, u8[0]{0}) custom-call(f64[31,64,3,3]{3,2,1,0}, f64[128,64,3,3]{3,2,1,0}, f64[128]{0}), window={size=3x3 pad=1_1x1_1}, dim_labels=bf01_oi01->bf01, custom_call_target=\"__cudnn$convBiasActivationForward\", backend_config={\"conv_result_scale\":1,\"activation_mode\":\"kNone\",\"side_input_scale\":0,\"leakyrelu_alpha\":0}\n",
      "Computing loss: 100%|██████████| 32/32 [00:09<00:00,  3.35it/s]\n"
     ]
    },
    {
     "name": "stdout",
     "output_type": "stream",
     "text": [
      "Estimated H(Y|X) = 4.366 differential entropy/pixel\n",
      "Estimated H(Y) (upper bound) = 5.030 differential entropy/pixel\n",
      "Estimated I(Y;X) = 0.959 bits/pixel\n"
     ]
    },
    {
     "name": "stderr",
     "output_type": "stream",
     "text": [
      "Computing loss: 100%|██████████| 32/32 [00:00<00:00, 38.44it/s]\n",
      "Computing loss: 9it [00:01,  5.42it/s].81s/it]\n"
     ]
    },
    {
     "name": "stdout",
     "output_type": "stream",
     "text": [
      "Initial validation NLL: 4.76\n"
     ]
    },
    {
     "name": "stderr",
     "output_type": "stream",
     "text": [
      "Epoch 1: 100%|██████████| 1/1 [00:03<00:00,  3.73s/it]\n",
      "Computing loss: 9it [00:00, 101.67it/s]\n"
     ]
    },
    {
     "name": "stdout",
     "output_type": "stream",
     "text": [
      "Epoch 1: validation NLL: 4.77\n"
     ]
    },
    {
     "name": "stderr",
     "output_type": "stream",
     "text": [
      "Epoch 2: 100%|██████████| 1/1 [00:00<00:00, 70.25it/s]\n",
      "Computing loss: 9it [00:00, 98.53it/s]\n"
     ]
    },
    {
     "name": "stdout",
     "output_type": "stream",
     "text": [
      "Epoch 2: validation NLL: 4.76\n"
     ]
    },
    {
     "name": "stderr",
     "output_type": "stream",
     "text": [
      "Epoch 3: 100%|██████████| 1/1 [00:00<00:00, 79.37it/s]\n",
      "Computing loss: 9it [00:00, 95.96it/s]\n"
     ]
    },
    {
     "name": "stdout",
     "output_type": "stream",
     "text": [
      "Epoch 3: validation NLL: 4.76\n"
     ]
    },
    {
     "name": "stderr",
     "output_type": "stream",
     "text": [
      "Epoch 4: 100%|██████████| 1/1 [00:00<00:00, 65.64it/s]\n",
      "Computing loss: 9it [00:00, 32.47it/s]\n"
     ]
    },
    {
     "name": "stdout",
     "output_type": "stream",
     "text": [
      "Epoch 4: validation NLL: 4.76\n"
     ]
    },
    {
     "name": "stderr",
     "output_type": "stream",
     "text": [
      "Epoch 5: 100%|██████████| 1/1 [00:00<00:00, 81.89it/s]\n",
      "Computing loss: 9it [00:00, 115.62it/s]\n"
     ]
    },
    {
     "name": "stdout",
     "output_type": "stream",
     "text": [
      "Epoch 5: validation NLL: 4.77\n"
     ]
    },
    {
     "name": "stderr",
     "output_type": "stream",
     "text": [
      "Epoch 6: 100%|██████████| 1/1 [00:00<00:00, 79.70it/s]\n",
      "Computing loss: 9it [00:00, 108.59it/s]\n"
     ]
    },
    {
     "name": "stdout",
     "output_type": "stream",
     "text": [
      "Epoch 6: validation NLL: 4.77\n"
     ]
    },
    {
     "name": "stderr",
     "output_type": "stream",
     "text": [
      "Epoch 7: 100%|██████████| 1/1 [00:00<00:00, 80.30it/s]\n",
      "Computing loss: 9it [00:00, 113.20it/s]\n"
     ]
    },
    {
     "name": "stdout",
     "output_type": "stream",
     "text": [
      "Epoch 7: validation NLL: 4.78\n"
     ]
    },
    {
     "name": "stderr",
     "output_type": "stream",
     "text": [
      "Epoch 8: 100%|██████████| 1/1 [00:00<00:00, 74.70it/s]\n",
      "Computing loss: 9it [00:00, 131.41it/s]\n"
     ]
    },
    {
     "name": "stdout",
     "output_type": "stream",
     "text": [
      "Epoch 8: validation NLL: 4.78\n"
     ]
    },
    {
     "name": "stderr",
     "output_type": "stream",
     "text": [
      "precomputing masks and variances: 100%|██████████| 5/5 [00:00<00:00, 138.33it/s]\n"
     ]
    },
    {
     "name": "stdout",
     "output_type": "stream",
     "text": [
      "evaluating likelihood\n"
     ]
    },
    {
     "name": "stderr",
     "output_type": "stream",
     "text": [
      "computing log likelihoods: 100%|██████████| 5/5 [00:00<00:00, 151.71it/s]\n"
     ]
    },
    {
     "name": "stdout",
     "output_type": "stream",
     "text": [
      "Estimated H(Y|X) = 4.365 differential entropy/pixel\n",
      "Estimated H(Y) (upper bound) = 4.741 differential entropy/pixel\n",
      "Estimated I(Y;X) = 0.543 bits/pixel\n"
     ]
    },
    {
     "name": "stderr",
     "output_type": "stream",
     "text": [
      "precomputing masks and variances: 100%|██████████| 5/5 [00:00<00:00, 61.50it/s]\n"
     ]
    },
    {
     "name": "stdout",
     "output_type": "stream",
     "text": [
      "evaluating likelihood\n"
     ]
    },
    {
     "name": "stderr",
     "output_type": "stream",
     "text": [
      "computing log likelihoods: 100%|██████████| 5/5 [00:00<00:00, 71.79it/s]\n",
      "Computing loss: 16it [00:13,  1.20it/s]\n"
     ]
    },
    {
     "name": "stdout",
     "output_type": "stream",
     "text": [
      "Initial validation NLL: 116.79\n"
     ]
    },
    {
     "name": "stderr",
     "output_type": "stream",
     "text": [
      "Epoch 1: 100%|██████████| 100/100 [00:21<00:00,  4.65it/s]\n",
      "Computing loss: 16it [00:00, 27.02it/s]\n"
     ]
    },
    {
     "name": "stdout",
     "output_type": "stream",
     "text": [
      "Epoch 1: validation NLL: 5.64\n"
     ]
    },
    {
     "name": "stderr",
     "output_type": "stream",
     "text": [
      "Epoch 2: 100%|██████████| 100/100 [00:03<00:00, 27.13it/s]\n",
      "Computing loss: 16it [00:00, 26.47it/s]\n"
     ]
    },
    {
     "name": "stdout",
     "output_type": "stream",
     "text": [
      "Epoch 2: validation NLL: 5.17\n"
     ]
    },
    {
     "name": "stderr",
     "output_type": "stream",
     "text": [
      "Epoch 3: 100%|██████████| 100/100 [00:03<00:00, 29.27it/s]\n",
      "Computing loss: 16it [00:00, 49.74it/s]\n"
     ]
    },
    {
     "name": "stdout",
     "output_type": "stream",
     "text": [
      "Epoch 3: validation NLL: 4.91\n"
     ]
    },
    {
     "name": "stderr",
     "output_type": "stream",
     "text": [
      "Epoch 4: 100%|██████████| 100/100 [00:03<00:00, 29.59it/s]\n",
      "Computing loss: 16it [00:00, 79.70it/s]\n"
     ]
    },
    {
     "name": "stdout",
     "output_type": "stream",
     "text": [
      "Epoch 4: validation NLL: 4.81\n"
     ]
    },
    {
     "name": "stderr",
     "output_type": "stream",
     "text": [
      "Epoch 5: 100%|██████████| 100/100 [00:04<00:00, 23.45it/s]\n",
      "Computing loss: 16it [00:00, 72.83it/s]\n"
     ]
    },
    {
     "name": "stdout",
     "output_type": "stream",
     "text": [
      "Epoch 5: validation NLL: 4.83\n"
     ]
    },
    {
     "name": "stderr",
     "output_type": "stream",
     "text": [
      "Epoch 6: 100%|██████████| 100/100 [00:03<00:00, 31.35it/s]\n",
      "Computing loss: 16it [00:00, 28.29it/s]\n"
     ]
    },
    {
     "name": "stdout",
     "output_type": "stream",
     "text": [
      "Epoch 6: validation NLL: 4.76\n"
     ]
    },
    {
     "name": "stderr",
     "output_type": "stream",
     "text": [
      "Epoch 7: 100%|██████████| 100/100 [00:03<00:00, 31.71it/s]\n",
      "Computing loss: 16it [00:00, 60.83it/s]\n"
     ]
    },
    {
     "name": "stdout",
     "output_type": "stream",
     "text": [
      "Epoch 7: validation NLL: 4.78\n"
     ]
    },
    {
     "name": "stderr",
     "output_type": "stream",
     "text": [
      "Epoch 8: 100%|██████████| 100/100 [00:03<00:00, 32.05it/s]\n",
      "Computing loss: 16it [00:00, 32.26it/s]\n"
     ]
    },
    {
     "name": "stdout",
     "output_type": "stream",
     "text": [
      "Epoch 8: validation NLL: 4.82\n"
     ]
    },
    {
     "name": "stderr",
     "output_type": "stream",
     "text": [
      "Epoch 9: 100%|██████████| 100/100 [00:03<00:00, 31.90it/s]\n",
      "Computing loss: 16it [00:00, 75.13it/s]\n"
     ]
    },
    {
     "name": "stdout",
     "output_type": "stream",
     "text": [
      "Epoch 9: validation NLL: 4.76\n"
     ]
    },
    {
     "name": "stderr",
     "output_type": "stream",
     "text": [
      "Epoch 10: 100%|██████████| 100/100 [00:03<00:00, 29.02it/s]\n",
      "Computing loss: 16it [00:00, 96.76it/s]\n"
     ]
    },
    {
     "name": "stdout",
     "output_type": "stream",
     "text": [
      "Epoch 10: validation NLL: 4.75\n"
     ]
    },
    {
     "name": "stderr",
     "output_type": "stream",
     "text": [
      "Epoch 11: 100%|██████████| 100/100 [00:03<00:00, 31.12it/s]\n",
      "Computing loss: 16it [00:00, 105.93it/s]\n"
     ]
    },
    {
     "name": "stdout",
     "output_type": "stream",
     "text": [
      "Epoch 11: validation NLL: 4.75\n"
     ]
    },
    {
     "name": "stderr",
     "output_type": "stream",
     "text": [
      "Epoch 12: 100%|██████████| 100/100 [00:03<00:00, 28.17it/s]\n",
      "Computing loss: 16it [00:00, 63.32it/s]\n"
     ]
    },
    {
     "name": "stdout",
     "output_type": "stream",
     "text": [
      "Epoch 12: validation NLL: 4.74\n"
     ]
    },
    {
     "name": "stderr",
     "output_type": "stream",
     "text": [
      "Epoch 13: 100%|██████████| 100/100 [00:03<00:00, 30.36it/s]\n",
      "Computing loss: 16it [00:00, 38.34it/s]\n"
     ]
    },
    {
     "name": "stdout",
     "output_type": "stream",
     "text": [
      "Epoch 13: validation NLL: 4.74\n"
     ]
    },
    {
     "name": "stderr",
     "output_type": "stream",
     "text": [
      "Epoch 14: 100%|██████████| 100/100 [00:03<00:00, 31.30it/s]\n",
      "Computing loss: 16it [00:00, 90.77it/s]\n"
     ]
    },
    {
     "name": "stdout",
     "output_type": "stream",
     "text": [
      "Epoch 14: validation NLL: 4.75\n"
     ]
    },
    {
     "name": "stderr",
     "output_type": "stream",
     "text": [
      "Epoch 15: 100%|██████████| 100/100 [00:03<00:00, 26.36it/s]\n",
      "Computing loss: 16it [00:00, 73.54it/s]\n"
     ]
    },
    {
     "name": "stdout",
     "output_type": "stream",
     "text": [
      "Epoch 15: validation NLL: 4.79\n"
     ]
    },
    {
     "name": "stderr",
     "output_type": "stream",
     "text": [
      "Epoch 16: 100%|██████████| 100/100 [00:03<00:00, 32.59it/s]\n",
      "Computing loss: 16it [00:00, 32.58it/s]\n"
     ]
    },
    {
     "name": "stdout",
     "output_type": "stream",
     "text": [
      "Epoch 16: validation NLL: 4.74\n"
     ]
    },
    {
     "name": "stderr",
     "output_type": "stream",
     "text": [
      "Epoch 17: 100%|██████████| 100/100 [00:03<00:00, 32.47it/s]\n",
      "Computing loss: 16it [00:00, 85.61it/s]\n"
     ]
    },
    {
     "name": "stdout",
     "output_type": "stream",
     "text": [
      "Epoch 17: validation NLL: 4.74\n"
     ]
    },
    {
     "name": "stderr",
     "output_type": "stream",
     "text": [
      "Epoch 18: 100%|██████████| 100/100 [00:03<00:00, 31.77it/s]\n",
      "Computing loss: 16it [00:00, 84.21it/s]\n"
     ]
    },
    {
     "name": "stdout",
     "output_type": "stream",
     "text": [
      "Epoch 18: validation NLL: 4.75\n"
     ]
    },
    {
     "name": "stderr",
     "output_type": "stream",
     "text": [
      "Epoch 19: 100%|██████████| 100/100 [00:03<00:00, 32.91it/s]\n",
      "Computing loss: 16it [00:00, 36.69it/s]\n"
     ]
    },
    {
     "name": "stdout",
     "output_type": "stream",
     "text": [
      "Epoch 19: validation NLL: 4.77\n"
     ]
    },
    {
     "name": "stderr",
     "output_type": "stream",
     "text": [
      "Epoch 20: 100%|██████████| 100/100 [00:03<00:00, 33.13it/s]\n",
      "Computing loss: 16it [00:00, 72.36it/s]\n"
     ]
    },
    {
     "name": "stdout",
     "output_type": "stream",
     "text": [
      "Epoch 20: validation NLL: 4.78\n"
     ]
    },
    {
     "name": "stderr",
     "output_type": "stream",
     "text": [
      "Epoch 21: 100%|██████████| 100/100 [00:04<00:00, 24.75it/s]\n",
      "Computing loss: 16it [00:00, 58.58it/s]\n"
     ]
    },
    {
     "name": "stdout",
     "output_type": "stream",
     "text": [
      "Epoch 21: validation NLL: 4.75\n"
     ]
    },
    {
     "name": "stderr",
     "output_type": "stream",
     "text": [
      "Epoch 22: 100%|██████████| 100/100 [00:04<00:00, 24.21it/s]\n",
      "Computing loss: 16it [00:00, 67.39it/s]\n"
     ]
    },
    {
     "name": "stdout",
     "output_type": "stream",
     "text": [
      "Epoch 22: validation NLL: 4.75\n"
     ]
    },
    {
     "name": "stderr",
     "output_type": "stream",
     "text": [
      "Epoch 23: 100%|██████████| 100/100 [00:03<00:00, 28.12it/s]\n",
      "Computing loss: 16it [00:00, 55.69it/s]\n"
     ]
    },
    {
     "name": "stdout",
     "output_type": "stream",
     "text": [
      "Epoch 23: validation NLL: 4.75\n"
     ]
    },
    {
     "name": "stderr",
     "output_type": "stream",
     "text": [
      "Epoch 24: 100%|██████████| 100/100 [00:03<00:00, 26.47it/s]\n",
      "Computing loss: 16it [00:00, 29.41it/s]\n"
     ]
    },
    {
     "name": "stdout",
     "output_type": "stream",
     "text": [
      "Epoch 24: validation NLL: 4.77\n"
     ]
    },
    {
     "name": "stderr",
     "output_type": "stream",
     "text": [
      "Epoch 25: 100%|██████████| 100/100 [00:03<00:00, 28.36it/s]\n",
      "Computing loss: 16it [00:00, 59.73it/s]\n"
     ]
    },
    {
     "name": "stdout",
     "output_type": "stream",
     "text": [
      "Epoch 25: validation NLL: 4.74\n"
     ]
    },
    {
     "name": "stderr",
     "output_type": "stream",
     "text": [
      "Epoch 26: 100%|██████████| 100/100 [00:03<00:00, 26.76it/s]\n",
      "Computing loss: 16it [00:00, 62.38it/s]\n"
     ]
    },
    {
     "name": "stdout",
     "output_type": "stream",
     "text": [
      "Epoch 26: validation NLL: 4.77\n"
     ]
    },
    {
     "name": "stderr",
     "output_type": "stream",
     "text": [
      "Epoch 27: 100%|██████████| 100/100 [00:02<00:00, 37.54it/s]\n",
      "Computing loss: 16it [00:00, 95.93it/s]\n"
     ]
    },
    {
     "name": "stdout",
     "output_type": "stream",
     "text": [
      "Epoch 27: validation NLL: 4.80\n"
     ]
    },
    {
     "name": "stderr",
     "output_type": "stream",
     "text": [
      "2023-10-25 10:20:11.889026: W external/xla/xla/service/gpu/conv_algorithm_picker.cc:808] None of the algorithms provided by cuDNN heuristics worked; trying fallback algorithms.\n",
      "2023-10-25 10:20:11.889274: W external/xla/xla/service/gpu/conv_algorithm_picker.cc:811] Conv: (f64[32,128,5,5]{3,2,1,0}, u8[0]{0}) custom-call(f64[32,64,5,5]{3,2,1,0}, f64[128,64,3,3]{3,2,1,0}, f64[128]{0}), window={size=3x3 pad=1_1x1_1}, dim_labels=bf01_oi01->bf01, custom_call_target=\"__cudnn$convBiasActivationForward\", backend_config={\"conv_result_scale\":1,\"activation_mode\":\"kNone\",\"side_input_scale\":0,\"leakyrelu_alpha\":0}\n",
      "2023-10-25 10:20:17.219104: W external/xla/xla/service/gpu/conv_algorithm_picker.cc:808] None of the algorithms provided by cuDNN heuristics worked; trying fallback algorithms.\n",
      "2023-10-25 10:20:17.219332: W external/xla/xla/service/gpu/conv_algorithm_picker.cc:811] Conv: (f64[31,128,5,5]{3,2,1,0}, u8[0]{0}) custom-call(f64[31,64,5,5]{3,2,1,0}, f64[128,64,3,3]{3,2,1,0}, f64[128]{0}), window={size=3x3 pad=1_1x1_1}, dim_labels=bf01_oi01->bf01, custom_call_target=\"__cudnn$convBiasActivationForward\", backend_config={\"conv_result_scale\":1,\"activation_mode\":\"kNone\",\"side_input_scale\":0,\"leakyrelu_alpha\":0}\n",
      "Computing loss: 100%|██████████| 32/32 [00:10<00:00,  3.05it/s]\n"
     ]
    },
    {
     "name": "stdout",
     "output_type": "stream",
     "text": [
      "Estimated H(Y|X) = 4.365 differential entropy/pixel\n",
      "Estimated H(Y) (upper bound) = 4.745 differential entropy/pixel\n",
      "Estimated I(Y;X) = 0.548 bits/pixel\n"
     ]
    },
    {
     "name": "stderr",
     "output_type": "stream",
     "text": [
      "Computing loss: 100%|██████████| 32/32 [00:00<00:00, 32.27it/s]\n",
      "Computing loss: 9it [00:01,  5.51it/s].30s/it]\n"
     ]
    },
    {
     "name": "stdout",
     "output_type": "stream",
     "text": [
      "Initial validation NLL: 4.55\n"
     ]
    },
    {
     "name": "stderr",
     "output_type": "stream",
     "text": [
      "Epoch 1: 100%|██████████| 1/1 [00:05<00:00,  5.87s/it]\n",
      "Computing loss: 9it [00:00, 80.05it/s]\n"
     ]
    },
    {
     "name": "stdout",
     "output_type": "stream",
     "text": [
      "Epoch 1: validation NLL: 4.55\n"
     ]
    },
    {
     "name": "stderr",
     "output_type": "stream",
     "text": [
      "Epoch 2: 100%|██████████| 1/1 [00:00<00:00, 40.73it/s]\n",
      "Computing loss: 9it [00:00, 83.49it/s]\n"
     ]
    },
    {
     "name": "stdout",
     "output_type": "stream",
     "text": [
      "Epoch 2: validation NLL: 4.57\n"
     ]
    },
    {
     "name": "stderr",
     "output_type": "stream",
     "text": [
      "Epoch 3: 100%|██████████| 1/1 [00:00<00:00, 42.38it/s]\n",
      "Computing loss: 9it [00:00, 79.03it/s]\n"
     ]
    },
    {
     "name": "stdout",
     "output_type": "stream",
     "text": [
      "Epoch 3: validation NLL: 4.56\n"
     ]
    },
    {
     "name": "stderr",
     "output_type": "stream",
     "text": [
      "Epoch 4: 100%|██████████| 1/1 [00:00<00:00, 43.21it/s]\n",
      "Computing loss: 9it [00:00, 78.52it/s]\n"
     ]
    },
    {
     "name": "stdout",
     "output_type": "stream",
     "text": [
      "Epoch 4: validation NLL: 4.55\n"
     ]
    },
    {
     "name": "stderr",
     "output_type": "stream",
     "text": [
      "Epoch 5: 100%|██████████| 1/1 [00:00<00:00,  3.64it/s]\n",
      "Computing loss: 9it [00:00, 79.38it/s]\n"
     ]
    },
    {
     "name": "stdout",
     "output_type": "stream",
     "text": [
      "Epoch 5: validation NLL: 4.56\n"
     ]
    },
    {
     "name": "stderr",
     "output_type": "stream",
     "text": [
      "Epoch 6: 100%|██████████| 1/1 [00:00<00:00, 41.04it/s]\n",
      "Computing loss: 9it [00:00, 78.62it/s]\n"
     ]
    },
    {
     "name": "stdout",
     "output_type": "stream",
     "text": [
      "Epoch 6: validation NLL: 4.56\n"
     ]
    },
    {
     "name": "stderr",
     "output_type": "stream",
     "text": [
      "precomputing masks and variances: 100%|██████████| 10/10 [00:00<00:00, 88.39it/s]\n"
     ]
    },
    {
     "name": "stdout",
     "output_type": "stream",
     "text": [
      "evaluating likelihood\n"
     ]
    },
    {
     "name": "stderr",
     "output_type": "stream",
     "text": [
      "computing log likelihoods: 100%|██████████| 10/10 [00:00<00:00, 67.26it/s]\n"
     ]
    },
    {
     "name": "stdout",
     "output_type": "stream",
     "text": [
      "Estimated H(Y|X) = 4.369 differential entropy/pixel\n",
      "Estimated H(Y) (upper bound) = 4.554 differential entropy/pixel\n",
      "Estimated I(Y;X) = 0.267 bits/pixel\n"
     ]
    },
    {
     "name": "stderr",
     "output_type": "stream",
     "text": [
      "precomputing masks and variances: 100%|██████████| 10/10 [00:00<00:00, 80.76it/s]\n"
     ]
    },
    {
     "name": "stdout",
     "output_type": "stream",
     "text": [
      "evaluating likelihood\n"
     ]
    },
    {
     "name": "stderr",
     "output_type": "stream",
     "text": [
      "computing log likelihoods: 100%|██████████| 10/10 [00:00<00:00, 54.78it/s]\n",
      "Computing loss: 16it [00:09,  1.75it/s]\n"
     ]
    },
    {
     "name": "stdout",
     "output_type": "stream",
     "text": [
      "Initial validation NLL: 121.44\n"
     ]
    },
    {
     "name": "stderr",
     "output_type": "stream",
     "text": [
      "Epoch 1: 100%|██████████| 100/100 [00:17<00:00,  5.61it/s]\n",
      "Computing loss: 16it [00:00, 49.86it/s]\n"
     ]
    },
    {
     "name": "stdout",
     "output_type": "stream",
     "text": [
      "Epoch 1: validation NLL: 5.22\n"
     ]
    },
    {
     "name": "stderr",
     "output_type": "stream",
     "text": [
      "Epoch 2: 100%|██████████| 100/100 [00:03<00:00, 31.01it/s]\n",
      "Computing loss: 16it [00:00, 69.02it/s]\n"
     ]
    },
    {
     "name": "stdout",
     "output_type": "stream",
     "text": [
      "Epoch 2: validation NLL: 5.10\n"
     ]
    },
    {
     "name": "stderr",
     "output_type": "stream",
     "text": [
      "Epoch 3: 100%|██████████| 100/100 [00:02<00:00, 37.55it/s]\n",
      "Computing loss: 16it [00:00, 62.43it/s]\n"
     ]
    },
    {
     "name": "stdout",
     "output_type": "stream",
     "text": [
      "Epoch 3: validation NLL: 4.79\n"
     ]
    },
    {
     "name": "stderr",
     "output_type": "stream",
     "text": [
      "Epoch 4: 100%|██████████| 100/100 [00:03<00:00, 29.19it/s]\n",
      "Computing loss: 16it [00:00, 41.30it/s]\n"
     ]
    },
    {
     "name": "stdout",
     "output_type": "stream",
     "text": [
      "Epoch 4: validation NLL: 4.67\n"
     ]
    },
    {
     "name": "stderr",
     "output_type": "stream",
     "text": [
      "Epoch 5: 100%|██████████| 100/100 [00:03<00:00, 28.27it/s]\n",
      "Computing loss: 16it [00:00, 104.43it/s]\n"
     ]
    },
    {
     "name": "stdout",
     "output_type": "stream",
     "text": [
      "Epoch 5: validation NLL: 4.62\n"
     ]
    },
    {
     "name": "stderr",
     "output_type": "stream",
     "text": [
      "Epoch 6: 100%|██████████| 100/100 [00:02<00:00, 36.59it/s]\n",
      "Computing loss: 16it [00:00, 113.55it/s]\n"
     ]
    },
    {
     "name": "stdout",
     "output_type": "stream",
     "text": [
      "Epoch 6: validation NLL: 4.62\n"
     ]
    },
    {
     "name": "stderr",
     "output_type": "stream",
     "text": [
      "Epoch 7: 100%|██████████| 100/100 [00:02<00:00, 47.81it/s]\n",
      "Computing loss: 16it [00:00, 134.60it/s]\n"
     ]
    },
    {
     "name": "stdout",
     "output_type": "stream",
     "text": [
      "Epoch 7: validation NLL: 4.64\n"
     ]
    },
    {
     "name": "stderr",
     "output_type": "stream",
     "text": [
      "Epoch 8: 100%|██████████| 100/100 [00:02<00:00, 35.42it/s]\n",
      "Computing loss: 16it [00:00, 85.57it/s]\n"
     ]
    },
    {
     "name": "stdout",
     "output_type": "stream",
     "text": [
      "Epoch 8: validation NLL: 4.70\n"
     ]
    },
    {
     "name": "stderr",
     "output_type": "stream",
     "text": [
      "Epoch 9: 100%|██████████| 100/100 [00:02<00:00, 37.27it/s]\n",
      "Computing loss: 16it [00:00, 94.95it/s]\n"
     ]
    },
    {
     "name": "stdout",
     "output_type": "stream",
     "text": [
      "Epoch 9: validation NLL: 4.55\n"
     ]
    },
    {
     "name": "stderr",
     "output_type": "stream",
     "text": [
      "Epoch 10: 100%|██████████| 100/100 [00:02<00:00, 39.16it/s]\n",
      "Computing loss: 16it [00:00, 49.85it/s]\n"
     ]
    },
    {
     "name": "stdout",
     "output_type": "stream",
     "text": [
      "Epoch 10: validation NLL: 4.55\n"
     ]
    },
    {
     "name": "stderr",
     "output_type": "stream",
     "text": [
      "Epoch 11: 100%|██████████| 100/100 [00:02<00:00, 39.62it/s]\n",
      "Computing loss: 16it [00:00, 110.94it/s]\n"
     ]
    },
    {
     "name": "stdout",
     "output_type": "stream",
     "text": [
      "Epoch 11: validation NLL: 4.56\n"
     ]
    },
    {
     "name": "stderr",
     "output_type": "stream",
     "text": [
      "Epoch 12: 100%|██████████| 100/100 [00:02<00:00, 36.03it/s]\n",
      "Computing loss: 16it [00:00, 105.04it/s]\n"
     ]
    },
    {
     "name": "stdout",
     "output_type": "stream",
     "text": [
      "Epoch 12: validation NLL: 4.55\n"
     ]
    },
    {
     "name": "stderr",
     "output_type": "stream",
     "text": [
      "Epoch 13: 100%|██████████| 100/100 [00:02<00:00, 36.05it/s]\n",
      "Computing loss: 16it [00:00, 87.95it/s]\n"
     ]
    },
    {
     "name": "stdout",
     "output_type": "stream",
     "text": [
      "Epoch 13: validation NLL: 4.69\n"
     ]
    },
    {
     "name": "stderr",
     "output_type": "stream",
     "text": [
      "Epoch 14: 100%|██████████| 100/100 [00:02<00:00, 38.11it/s]\n",
      "Computing loss: 16it [00:00, 39.68it/s]\n"
     ]
    },
    {
     "name": "stdout",
     "output_type": "stream",
     "text": [
      "Epoch 14: validation NLL: 4.55\n"
     ]
    },
    {
     "name": "stderr",
     "output_type": "stream",
     "text": [
      "Epoch 15: 100%|██████████| 100/100 [00:02<00:00, 39.32it/s]\n",
      "Computing loss: 16it [00:00, 124.88it/s]\n"
     ]
    },
    {
     "name": "stdout",
     "output_type": "stream",
     "text": [
      "Epoch 15: validation NLL: 4.53\n"
     ]
    },
    {
     "name": "stderr",
     "output_type": "stream",
     "text": [
      "Epoch 16: 100%|██████████| 100/100 [00:02<00:00, 38.09it/s]\n",
      "Computing loss: 16it [00:00, 107.81it/s]\n"
     ]
    },
    {
     "name": "stdout",
     "output_type": "stream",
     "text": [
      "Epoch 16: validation NLL: 4.55\n"
     ]
    },
    {
     "name": "stderr",
     "output_type": "stream",
     "text": [
      "Epoch 17: 100%|██████████| 100/100 [00:02<00:00, 42.79it/s]\n",
      "Computing loss: 16it [00:00, 36.78it/s]\n"
     ]
    },
    {
     "name": "stdout",
     "output_type": "stream",
     "text": [
      "Epoch 17: validation NLL: 4.53\n"
     ]
    },
    {
     "name": "stderr",
     "output_type": "stream",
     "text": [
      "Epoch 18: 100%|██████████| 100/100 [00:02<00:00, 45.02it/s]\n",
      "Computing loss: 16it [00:00, 87.29it/s]\n"
     ]
    },
    {
     "name": "stdout",
     "output_type": "stream",
     "text": [
      "Epoch 18: validation NLL: 4.57\n"
     ]
    },
    {
     "name": "stderr",
     "output_type": "stream",
     "text": [
      "Epoch 19: 100%|██████████| 100/100 [00:02<00:00, 35.83it/s]\n",
      "Computing loss: 16it [00:00, 88.84it/s]\n"
     ]
    },
    {
     "name": "stdout",
     "output_type": "stream",
     "text": [
      "Epoch 19: validation NLL: 4.53\n"
     ]
    },
    {
     "name": "stderr",
     "output_type": "stream",
     "text": [
      "Epoch 20: 100%|██████████| 100/100 [00:02<00:00, 36.54it/s]\n",
      "Computing loss: 16it [00:00, 34.85it/s]\n"
     ]
    },
    {
     "name": "stdout",
     "output_type": "stream",
     "text": [
      "Epoch 20: validation NLL: 4.53\n"
     ]
    },
    {
     "name": "stderr",
     "output_type": "stream",
     "text": [
      "Epoch 21: 100%|██████████| 100/100 [00:02<00:00, 44.29it/s]\n",
      "Computing loss: 16it [00:00, 29.08it/s]\n"
     ]
    },
    {
     "name": "stdout",
     "output_type": "stream",
     "text": [
      "Epoch 21: validation NLL: 4.56\n"
     ]
    },
    {
     "name": "stderr",
     "output_type": "stream",
     "text": [
      "Epoch 22: 100%|██████████| 100/100 [00:02<00:00, 35.91it/s]\n",
      "Computing loss: 16it [00:00, 53.64it/s]\n"
     ]
    },
    {
     "name": "stdout",
     "output_type": "stream",
     "text": [
      "Epoch 22: validation NLL: 4.62\n"
     ]
    },
    {
     "name": "stderr",
     "output_type": "stream",
     "text": [
      "Epoch 23: 100%|██████████| 100/100 [00:02<00:00, 35.21it/s]\n",
      "Computing loss: 16it [00:00, 94.70it/s]\n"
     ]
    },
    {
     "name": "stdout",
     "output_type": "stream",
     "text": [
      "Epoch 23: validation NLL: 4.55\n"
     ]
    },
    {
     "name": "stderr",
     "output_type": "stream",
     "text": [
      "Epoch 24: 100%|██████████| 100/100 [00:02<00:00, 41.92it/s]\n",
      "Computing loss: 16it [00:00, 37.23it/s]\n"
     ]
    },
    {
     "name": "stdout",
     "output_type": "stream",
     "text": [
      "Epoch 24: validation NLL: 4.53\n"
     ]
    },
    {
     "name": "stderr",
     "output_type": "stream",
     "text": [
      "Epoch 25: 100%|██████████| 100/100 [00:02<00:00, 42.74it/s]\n",
      "Computing loss: 16it [00:00, 98.25it/s]\n"
     ]
    },
    {
     "name": "stdout",
     "output_type": "stream",
     "text": [
      "Epoch 25: validation NLL: 4.57\n"
     ]
    },
    {
     "name": "stderr",
     "output_type": "stream",
     "text": [
      "Epoch 26: 100%|██████████| 100/100 [00:02<00:00, 35.60it/s]\n",
      "Computing loss: 16it [00:00, 83.88it/s]\n"
     ]
    },
    {
     "name": "stdout",
     "output_type": "stream",
     "text": [
      "Epoch 26: validation NLL: 4.53\n"
     ]
    },
    {
     "name": "stderr",
     "output_type": "stream",
     "text": [
      "Epoch 27: 100%|██████████| 100/100 [00:02<00:00, 36.07it/s]\n",
      "Computing loss: 16it [00:00, 31.86it/s]\n"
     ]
    },
    {
     "name": "stdout",
     "output_type": "stream",
     "text": [
      "Epoch 27: validation NLL: 4.64\n"
     ]
    },
    {
     "name": "stderr",
     "output_type": "stream",
     "text": [
      "Epoch 28: 100%|██████████| 100/100 [00:02<00:00, 39.44it/s]\n",
      "Computing loss: 16it [00:00, 38.73it/s]\n"
     ]
    },
    {
     "name": "stdout",
     "output_type": "stream",
     "text": [
      "Epoch 28: validation NLL: 4.53\n"
     ]
    },
    {
     "name": "stderr",
     "output_type": "stream",
     "text": [
      "Epoch 29: 100%|██████████| 100/100 [00:02<00:00, 45.94it/s]\n",
      "Computing loss: 16it [00:00, 106.67it/s]\n"
     ]
    },
    {
     "name": "stdout",
     "output_type": "stream",
     "text": [
      "Epoch 29: validation NLL: 4.53\n"
     ]
    },
    {
     "name": "stderr",
     "output_type": "stream",
     "text": [
      "Epoch 30: 100%|██████████| 100/100 [00:02<00:00, 36.56it/s]\n",
      "Computing loss: 16it [00:00, 87.38it/s]\n"
     ]
    },
    {
     "name": "stdout",
     "output_type": "stream",
     "text": [
      "Epoch 30: validation NLL: 4.54\n"
     ]
    },
    {
     "name": "stderr",
     "output_type": "stream",
     "text": [
      "2023-10-25 10:26:58.816557: W external/xla/xla/service/gpu/conv_algorithm_picker.cc:808] None of the algorithms provided by cuDNN heuristics worked; trying fallback algorithms.\n",
      "2023-10-25 10:26:58.817904: W external/xla/xla/service/gpu/conv_algorithm_picker.cc:811] Conv: (f64[32,128,10,10]{3,2,1,0}, u8[0]{0}) custom-call(f64[32,64,10,10]{3,2,1,0}, f64[128,64,3,3]{3,2,1,0}, f64[128]{0}), window={size=3x3 pad=1_1x1_1}, dim_labels=bf01_oi01->bf01, custom_call_target=\"__cudnn$convBiasActivationForward\", backend_config={\"conv_result_scale\":1,\"activation_mode\":\"kNone\",\"side_input_scale\":0,\"leakyrelu_alpha\":0}\n",
      "2023-10-25 10:27:04.035690: W external/xla/xla/service/gpu/conv_algorithm_picker.cc:808] None of the algorithms provided by cuDNN heuristics worked; trying fallback algorithms.\n",
      "2023-10-25 10:27:04.035907: W external/xla/xla/service/gpu/conv_algorithm_picker.cc:811] Conv: (f64[31,128,10,10]{3,2,1,0}, u8[0]{0}) custom-call(f64[31,64,10,10]{3,2,1,0}, f64[128,64,3,3]{3,2,1,0}, f64[128]{0}), window={size=3x3 pad=1_1x1_1}, dim_labels=bf01_oi01->bf01, custom_call_target=\"__cudnn$convBiasActivationForward\", backend_config={\"conv_result_scale\":1,\"activation_mode\":\"kNone\",\"side_input_scale\":0,\"leakyrelu_alpha\":0}\n",
      "Computing loss: 100%|██████████| 32/32 [00:10<00:00,  2.97it/s]\n"
     ]
    },
    {
     "name": "stdout",
     "output_type": "stream",
     "text": [
      "Estimated H(Y|X) = 4.369 differential entropy/pixel\n",
      "Estimated H(Y) (upper bound) = 4.525 differential entropy/pixel\n",
      "Estimated I(Y;X) = 0.226 bits/pixel\n"
     ]
    },
    {
     "name": "stderr",
     "output_type": "stream",
     "text": [
      "Computing loss: 100%|██████████| 32/32 [00:00<00:00, 32.30it/s]\n",
      "Computing loss: 9it [00:02,  3.13it/s].03s/it]\n"
     ]
    },
    {
     "name": "stdout",
     "output_type": "stream",
     "text": [
      "Initial validation NLL: 4.46\n"
     ]
    },
    {
     "name": "stderr",
     "output_type": "stream",
     "text": [
      "Epoch 1: 100%|██████████| 1/1 [00:16<00:00, 16.78s/it]\n",
      "Computing loss: 9it [00:00, 12.40it/s]\n"
     ]
    },
    {
     "name": "stdout",
     "output_type": "stream",
     "text": [
      "Epoch 1: validation NLL: 4.46\n"
     ]
    },
    {
     "name": "stderr",
     "output_type": "stream",
     "text": [
      "Epoch 2: 100%|██████████| 1/1 [00:00<00:00, 10.06it/s]\n",
      "Computing loss: 9it [00:00, 23.29it/s]\n"
     ]
    },
    {
     "name": "stdout",
     "output_type": "stream",
     "text": [
      "Epoch 2: validation NLL: 4.47\n"
     ]
    },
    {
     "name": "stderr",
     "output_type": "stream",
     "text": [
      "Epoch 3: 100%|██████████| 1/1 [00:00<00:00, 11.07it/s]\n",
      "Computing loss: 9it [00:00, 13.65it/s]\n"
     ]
    },
    {
     "name": "stdout",
     "output_type": "stream",
     "text": [
      "Epoch 3: validation NLL: 4.46\n"
     ]
    },
    {
     "name": "stderr",
     "output_type": "stream",
     "text": [
      "Epoch 4: 100%|██████████| 1/1 [00:00<00:00, 11.83it/s]\n",
      "Computing loss: 9it [00:00, 13.37it/s]\n"
     ]
    },
    {
     "name": "stdout",
     "output_type": "stream",
     "text": [
      "Epoch 4: validation NLL: 4.47\n"
     ]
    },
    {
     "name": "stderr",
     "output_type": "stream",
     "text": [
      "Epoch 5: 100%|██████████| 1/1 [00:00<00:00, 11.82it/s]\n",
      "Computing loss: 9it [00:00, 20.98it/s]\n"
     ]
    },
    {
     "name": "stdout",
     "output_type": "stream",
     "text": [
      "Epoch 5: validation NLL: 4.47\n"
     ]
    },
    {
     "name": "stderr",
     "output_type": "stream",
     "text": [
      "Epoch 6: 100%|██████████| 1/1 [00:00<00:00,  4.97it/s]\n",
      "Computing loss: 9it [00:00, 17.47it/s]\n"
     ]
    },
    {
     "name": "stdout",
     "output_type": "stream",
     "text": [
      "Epoch 6: validation NLL: 4.46\n"
     ]
    },
    {
     "name": "stderr",
     "output_type": "stream",
     "text": [
      "Epoch 7: 100%|██████████| 1/1 [00:00<00:00,  8.69it/s]\n",
      "Computing loss: 9it [00:00, 13.47it/s]\n"
     ]
    },
    {
     "name": "stdout",
     "output_type": "stream",
     "text": [
      "Epoch 7: validation NLL: 4.47\n"
     ]
    },
    {
     "name": "stderr",
     "output_type": "stream",
     "text": [
      "Epoch 8: 100%|██████████| 1/1 [00:00<00:00,  8.61it/s]\n",
      "Computing loss: 9it [00:00, 20.44it/s]\n"
     ]
    },
    {
     "name": "stdout",
     "output_type": "stream",
     "text": [
      "Epoch 8: validation NLL: 4.46\n"
     ]
    },
    {
     "name": "stderr",
     "output_type": "stream",
     "text": [
      "Epoch 9: 100%|██████████| 1/1 [00:00<00:00,  1.96it/s]\n",
      "Computing loss: 9it [00:00, 24.62it/s]\n"
     ]
    },
    {
     "name": "stdout",
     "output_type": "stream",
     "text": [
      "Epoch 9: validation NLL: 4.47\n"
     ]
    },
    {
     "name": "stderr",
     "output_type": "stream",
     "text": [
      "Epoch 10: 100%|██████████| 1/1 [00:00<00:00,  1.70it/s]\n",
      "Computing loss: 9it [00:00, 22.01it/s]\n"
     ]
    },
    {
     "name": "stdout",
     "output_type": "stream",
     "text": [
      "Epoch 10: validation NLL: 4.47\n"
     ]
    },
    {
     "name": "stderr",
     "output_type": "stream",
     "text": [
      "Epoch 11: 100%|██████████| 1/1 [00:00<00:00,  9.49it/s]\n",
      "Computing loss: 9it [00:00, 12.66it/s]\n"
     ]
    },
    {
     "name": "stdout",
     "output_type": "stream",
     "text": [
      "Epoch 11: validation NLL: 4.47\n"
     ]
    },
    {
     "name": "stderr",
     "output_type": "stream",
     "text": [
      "Epoch 12: 100%|██████████| 1/1 [00:00<00:00,  4.21it/s]\n",
      "Computing loss: 9it [00:00, 23.24it/s]\n"
     ]
    },
    {
     "name": "stdout",
     "output_type": "stream",
     "text": [
      "Epoch 12: validation NLL: 4.47\n"
     ]
    },
    {
     "name": "stderr",
     "output_type": "stream",
     "text": [
      "Epoch 13: 100%|██████████| 1/1 [00:00<00:00,  3.16it/s]\n",
      "Computing loss: 9it [00:00, 20.26it/s]\n"
     ]
    },
    {
     "name": "stdout",
     "output_type": "stream",
     "text": [
      "Epoch 13: validation NLL: 4.47\n"
     ]
    },
    {
     "name": "stderr",
     "output_type": "stream",
     "text": [
      "precomputing masks and variances: 100%|██████████| 20/20 [00:00<00:00, 33.06it/s]\n"
     ]
    },
    {
     "name": "stdout",
     "output_type": "stream",
     "text": [
      "evaluating likelihood\n"
     ]
    },
    {
     "name": "stderr",
     "output_type": "stream",
     "text": [
      "computing log likelihoods: 100%|██████████| 20/20 [00:00<00:00, 31.24it/s]\n"
     ]
    },
    {
     "name": "stdout",
     "output_type": "stream",
     "text": [
      "Estimated H(Y|X) = 4.373 differential entropy/pixel\n",
      "Estimated H(Y) (upper bound) = 4.459 differential entropy/pixel\n",
      "Estimated I(Y;X) = 0.124 bits/pixel\n"
     ]
    },
    {
     "name": "stderr",
     "output_type": "stream",
     "text": [
      "precomputing masks and variances: 100%|██████████| 20/20 [00:00<00:00, 28.17it/s]\n"
     ]
    },
    {
     "name": "stdout",
     "output_type": "stream",
     "text": [
      "evaluating likelihood\n"
     ]
    },
    {
     "name": "stderr",
     "output_type": "stream",
     "text": [
      "computing log likelihoods: 100%|██████████| 20/20 [00:00<00:00, 32.16it/s]\n",
      "Computing loss: 16it [00:20,  1.27s/it]\n"
     ]
    },
    {
     "name": "stdout",
     "output_type": "stream",
     "text": [
      "Initial validation NLL: 117.94\n"
     ]
    },
    {
     "name": "stderr",
     "output_type": "stream",
     "text": [
      "Epoch 1: 100%|██████████| 100/100 [00:27<00:00,  3.58it/s]\n",
      "Computing loss: 16it [00:00, 27.18it/s]\n"
     ]
    },
    {
     "name": "stdout",
     "output_type": "stream",
     "text": [
      "Epoch 1: validation NLL: 5.23\n"
     ]
    },
    {
     "name": "stderr",
     "output_type": "stream",
     "text": [
      "Epoch 2: 100%|██████████| 100/100 [00:05<00:00, 18.80it/s]\n",
      "Computing loss: 16it [00:00, 67.93it/s]\n"
     ]
    },
    {
     "name": "stdout",
     "output_type": "stream",
     "text": [
      "Epoch 2: validation NLL: 4.92\n"
     ]
    },
    {
     "name": "stderr",
     "output_type": "stream",
     "text": [
      "Epoch 3: 100%|██████████| 100/100 [00:04<00:00, 21.59it/s]\n",
      "Computing loss: 16it [00:00, 31.38it/s]\n"
     ]
    },
    {
     "name": "stdout",
     "output_type": "stream",
     "text": [
      "Epoch 3: validation NLL: 4.60\n"
     ]
    },
    {
     "name": "stderr",
     "output_type": "stream",
     "text": [
      "Epoch 4: 100%|██████████| 100/100 [00:05<00:00, 18.63it/s]\n",
      "Computing loss: 16it [00:00, 55.71it/s]\n"
     ]
    },
    {
     "name": "stdout",
     "output_type": "stream",
     "text": [
      "Epoch 4: validation NLL: 4.50\n"
     ]
    },
    {
     "name": "stderr",
     "output_type": "stream",
     "text": [
      "Epoch 5: 100%|██████████| 100/100 [00:05<00:00, 18.19it/s]\n",
      "Computing loss: 16it [00:00, 46.88it/s]\n"
     ]
    },
    {
     "name": "stdout",
     "output_type": "stream",
     "text": [
      "Epoch 5: validation NLL: 4.48\n"
     ]
    },
    {
     "name": "stderr",
     "output_type": "stream",
     "text": [
      "Epoch 6: 100%|██████████| 100/100 [00:05<00:00, 19.42it/s]\n",
      "Computing loss: 16it [00:00, 27.27it/s]\n"
     ]
    },
    {
     "name": "stdout",
     "output_type": "stream",
     "text": [
      "Epoch 6: validation NLL: 4.45\n"
     ]
    },
    {
     "name": "stderr",
     "output_type": "stream",
     "text": [
      "Epoch 7: 100%|██████████| 100/100 [00:04<00:00, 24.90it/s]\n",
      "Computing loss: 16it [00:00, 80.16it/s]\n"
     ]
    },
    {
     "name": "stdout",
     "output_type": "stream",
     "text": [
      "Epoch 7: validation NLL: 4.44\n"
     ]
    },
    {
     "name": "stderr",
     "output_type": "stream",
     "text": [
      "Epoch 8: 100%|██████████| 100/100 [00:03<00:00, 26.92it/s]\n",
      "Computing loss: 16it [00:00, 66.95it/s]\n"
     ]
    },
    {
     "name": "stdout",
     "output_type": "stream",
     "text": [
      "Epoch 8: validation NLL: 4.47\n"
     ]
    },
    {
     "name": "stderr",
     "output_type": "stream",
     "text": [
      "Epoch 9: 100%|██████████| 100/100 [00:03<00:00, 28.08it/s]\n",
      "Computing loss: 16it [00:00, 80.25it/s]\n"
     ]
    },
    {
     "name": "stdout",
     "output_type": "stream",
     "text": [
      "Epoch 9: validation NLL: 4.44\n"
     ]
    },
    {
     "name": "stderr",
     "output_type": "stream",
     "text": [
      "Epoch 10: 100%|██████████| 100/100 [00:03<00:00, 25.19it/s]\n",
      "Computing loss: 16it [00:00, 28.11it/s]\n"
     ]
    },
    {
     "name": "stdout",
     "output_type": "stream",
     "text": [
      "Epoch 10: validation NLL: 4.47\n"
     ]
    },
    {
     "name": "stderr",
     "output_type": "stream",
     "text": [
      "Epoch 11: 100%|██████████| 100/100 [00:04<00:00, 23.80it/s]\n",
      "Computing loss: 16it [00:00, 64.11it/s]\n"
     ]
    },
    {
     "name": "stdout",
     "output_type": "stream",
     "text": [
      "Epoch 11: validation NLL: 4.47\n"
     ]
    },
    {
     "name": "stderr",
     "output_type": "stream",
     "text": [
      "Epoch 12: 100%|██████████| 100/100 [00:04<00:00, 22.69it/s]\n",
      "Computing loss: 16it [00:00, 70.99it/s]\n"
     ]
    },
    {
     "name": "stdout",
     "output_type": "stream",
     "text": [
      "Epoch 12: validation NLL: 4.44\n"
     ]
    },
    {
     "name": "stderr",
     "output_type": "stream",
     "text": [
      "Epoch 13: 100%|██████████| 100/100 [00:04<00:00, 24.21it/s]\n",
      "Computing loss: 16it [00:00, 83.48it/s]\n"
     ]
    },
    {
     "name": "stdout",
     "output_type": "stream",
     "text": [
      "Epoch 13: validation NLL: 4.50\n"
     ]
    },
    {
     "name": "stderr",
     "output_type": "stream",
     "text": [
      "Epoch 14: 100%|██████████| 100/100 [00:04<00:00, 24.31it/s]\n",
      "Computing loss: 16it [00:00, 29.09it/s]\n"
     ]
    },
    {
     "name": "stdout",
     "output_type": "stream",
     "text": [
      "Epoch 14: validation NLL: 4.43\n"
     ]
    },
    {
     "name": "stderr",
     "output_type": "stream",
     "text": [
      "Epoch 15: 100%|██████████| 100/100 [00:04<00:00, 24.14it/s]\n",
      "Computing loss: 16it [00:00, 73.97it/s]\n"
     ]
    },
    {
     "name": "stdout",
     "output_type": "stream",
     "text": [
      "Epoch 15: validation NLL: 4.44\n"
     ]
    },
    {
     "name": "stderr",
     "output_type": "stream",
     "text": [
      "Epoch 16: 100%|██████████| 100/100 [00:04<00:00, 21.28it/s]\n",
      "Computing loss: 16it [00:00, 79.87it/s]\n"
     ]
    },
    {
     "name": "stdout",
     "output_type": "stream",
     "text": [
      "Epoch 16: validation NLL: 4.44\n"
     ]
    },
    {
     "name": "stderr",
     "output_type": "stream",
     "text": [
      "Epoch 17: 100%|██████████| 100/100 [00:04<00:00, 20.95it/s]\n",
      "Computing loss: 16it [00:00, 69.59it/s]\n"
     ]
    },
    {
     "name": "stdout",
     "output_type": "stream",
     "text": [
      "Epoch 17: validation NLL: 4.43\n"
     ]
    },
    {
     "name": "stderr",
     "output_type": "stream",
     "text": [
      "Epoch 18: 100%|██████████| 100/100 [00:04<00:00, 23.14it/s]\n",
      "Computing loss: 16it [00:00, 28.85it/s]\n"
     ]
    },
    {
     "name": "stdout",
     "output_type": "stream",
     "text": [
      "Epoch 18: validation NLL: 4.41\n"
     ]
    },
    {
     "name": "stderr",
     "output_type": "stream",
     "text": [
      "Epoch 19: 100%|██████████| 100/100 [00:04<00:00, 23.40it/s]\n",
      "Computing loss: 16it [00:00, 67.25it/s]\n"
     ]
    },
    {
     "name": "stdout",
     "output_type": "stream",
     "text": [
      "Epoch 19: validation NLL: 4.42\n"
     ]
    },
    {
     "name": "stderr",
     "output_type": "stream",
     "text": [
      "Epoch 20: 100%|██████████| 100/100 [00:04<00:00, 21.55it/s]\n",
      "Computing loss: 16it [00:00, 65.82it/s]\n"
     ]
    },
    {
     "name": "stdout",
     "output_type": "stream",
     "text": [
      "Epoch 20: validation NLL: 4.41\n"
     ]
    },
    {
     "name": "stderr",
     "output_type": "stream",
     "text": [
      "Epoch 21: 100%|██████████| 100/100 [00:04<00:00, 20.48it/s]\n",
      "Computing loss: 16it [00:00, 63.53it/s]\n"
     ]
    },
    {
     "name": "stdout",
     "output_type": "stream",
     "text": [
      "Epoch 21: validation NLL: 4.49\n"
     ]
    },
    {
     "name": "stderr",
     "output_type": "stream",
     "text": [
      "Epoch 22: 100%|██████████| 100/100 [00:04<00:00, 21.10it/s]\n",
      "Computing loss: 16it [00:00, 72.38it/s]\n"
     ]
    },
    {
     "name": "stdout",
     "output_type": "stream",
     "text": [
      "Epoch 22: validation NLL: 4.43\n"
     ]
    },
    {
     "name": "stderr",
     "output_type": "stream",
     "text": [
      "Epoch 23: 100%|██████████| 100/100 [00:04<00:00, 21.21it/s]\n",
      "Computing loss: 16it [00:00, 58.26it/s]\n"
     ]
    },
    {
     "name": "stdout",
     "output_type": "stream",
     "text": [
      "Epoch 23: validation NLL: 4.41\n"
     ]
    },
    {
     "name": "stderr",
     "output_type": "stream",
     "text": [
      "Epoch 24: 100%|██████████| 100/100 [00:04<00:00, 21.81it/s]\n",
      "Computing loss: 16it [00:00, 65.18it/s]\n"
     ]
    },
    {
     "name": "stdout",
     "output_type": "stream",
     "text": [
      "Epoch 24: validation NLL: 4.41\n"
     ]
    },
    {
     "name": "stderr",
     "output_type": "stream",
     "text": [
      "Epoch 25: 100%|██████████| 100/100 [00:04<00:00, 22.83it/s]\n",
      "Computing loss: 16it [00:00, 31.96it/s]\n"
     ]
    },
    {
     "name": "stdout",
     "output_type": "stream",
     "text": [
      "Epoch 25: validation NLL: 4.40\n"
     ]
    },
    {
     "name": "stderr",
     "output_type": "stream",
     "text": [
      "Epoch 26: 100%|██████████| 100/100 [00:05<00:00, 19.86it/s]\n",
      "Computing loss: 16it [00:00, 57.92it/s]\n"
     ]
    },
    {
     "name": "stdout",
     "output_type": "stream",
     "text": [
      "Epoch 26: validation NLL: 4.42\n"
     ]
    },
    {
     "name": "stderr",
     "output_type": "stream",
     "text": [
      "Epoch 27: 100%|██████████| 100/100 [00:04<00:00, 22.08it/s]\n",
      "Computing loss: 16it [00:00, 66.21it/s]\n"
     ]
    },
    {
     "name": "stdout",
     "output_type": "stream",
     "text": [
      "Epoch 27: validation NLL: 4.42\n"
     ]
    },
    {
     "name": "stderr",
     "output_type": "stream",
     "text": [
      "Epoch 28: 100%|██████████| 100/100 [00:04<00:00, 23.10it/s]\n",
      "Computing loss: 16it [00:00, 30.12it/s]\n"
     ]
    },
    {
     "name": "stdout",
     "output_type": "stream",
     "text": [
      "Epoch 28: validation NLL: 4.41\n"
     ]
    },
    {
     "name": "stderr",
     "output_type": "stream",
     "text": [
      "Epoch 29: 100%|██████████| 100/100 [00:04<00:00, 23.46it/s]\n",
      "Computing loss: 16it [00:00, 25.17it/s]\n"
     ]
    },
    {
     "name": "stdout",
     "output_type": "stream",
     "text": [
      "Epoch 29: validation NLL: 4.41\n"
     ]
    },
    {
     "name": "stderr",
     "output_type": "stream",
     "text": [
      "Epoch 30: 100%|██████████| 100/100 [00:04<00:00, 22.14it/s]\n",
      "Computing loss: 16it [00:00, 63.00it/s]\n"
     ]
    },
    {
     "name": "stdout",
     "output_type": "stream",
     "text": [
      "Epoch 30: validation NLL: 4.42\n"
     ]
    },
    {
     "name": "stderr",
     "output_type": "stream",
     "text": [
      "Epoch 31: 100%|██████████| 100/100 [00:04<00:00, 21.59it/s]\n",
      "Computing loss: 16it [00:00, 74.67it/s]\n"
     ]
    },
    {
     "name": "stdout",
     "output_type": "stream",
     "text": [
      "Epoch 31: validation NLL: 4.40\n"
     ]
    },
    {
     "name": "stderr",
     "output_type": "stream",
     "text": [
      "Epoch 32: 100%|██████████| 100/100 [00:04<00:00, 23.26it/s]\n",
      "Computing loss: 16it [00:00, 29.07it/s]\n"
     ]
    },
    {
     "name": "stdout",
     "output_type": "stream",
     "text": [
      "Epoch 32: validation NLL: 4.40\n"
     ]
    },
    {
     "name": "stderr",
     "output_type": "stream",
     "text": [
      "Epoch 33: 100%|██████████| 100/100 [00:04<00:00, 23.20it/s]\n",
      "Computing loss: 16it [00:00, 65.59it/s]\n"
     ]
    },
    {
     "name": "stdout",
     "output_type": "stream",
     "text": [
      "Epoch 33: validation NLL: 4.44\n"
     ]
    },
    {
     "name": "stderr",
     "output_type": "stream",
     "text": [
      "Epoch 34: 100%|██████████| 100/100 [00:04<00:00, 21.65it/s]\n",
      "Computing loss: 16it [00:00, 57.91it/s]\n"
     ]
    },
    {
     "name": "stdout",
     "output_type": "stream",
     "text": [
      "Epoch 34: validation NLL: 4.40\n"
     ]
    },
    {
     "name": "stderr",
     "output_type": "stream",
     "text": [
      "Epoch 35: 100%|██████████| 100/100 [00:04<00:00, 21.62it/s]\n",
      "Computing loss: 16it [00:00, 61.79it/s]\n"
     ]
    },
    {
     "name": "stdout",
     "output_type": "stream",
     "text": [
      "Epoch 35: validation NLL: 4.40\n"
     ]
    },
    {
     "name": "stderr",
     "output_type": "stream",
     "text": [
      "Epoch 36: 100%|██████████| 100/100 [00:04<00:00, 23.09it/s]\n",
      "Computing loss: 16it [00:00, 29.90it/s]\n"
     ]
    },
    {
     "name": "stdout",
     "output_type": "stream",
     "text": [
      "Epoch 36: validation NLL: 4.40\n"
     ]
    },
    {
     "name": "stderr",
     "output_type": "stream",
     "text": [
      "Epoch 37: 100%|██████████| 100/100 [00:04<00:00, 22.31it/s]\n",
      "Computing loss: 16it [00:00, 28.57it/s]\n"
     ]
    },
    {
     "name": "stdout",
     "output_type": "stream",
     "text": [
      "Epoch 37: validation NLL: 4.43\n"
     ]
    },
    {
     "name": "stderr",
     "output_type": "stream",
     "text": [
      "Epoch 38: 100%|██████████| 100/100 [00:04<00:00, 23.54it/s]\n",
      "Computing loss: 16it [00:00, 59.75it/s]\n"
     ]
    },
    {
     "name": "stdout",
     "output_type": "stream",
     "text": [
      "Epoch 38: validation NLL: 4.40\n"
     ]
    },
    {
     "name": "stderr",
     "output_type": "stream",
     "text": [
      "Epoch 39: 100%|██████████| 100/100 [00:04<00:00, 21.49it/s]\n",
      "Computing loss: 16it [00:00, 74.18it/s]\n"
     ]
    },
    {
     "name": "stdout",
     "output_type": "stream",
     "text": [
      "Epoch 39: validation NLL: 4.41\n"
     ]
    },
    {
     "name": "stderr",
     "output_type": "stream",
     "text": [
      "Epoch 40: 100%|██████████| 100/100 [00:04<00:00, 21.02it/s]\n",
      "Computing loss: 16it [00:00, 66.43it/s]\n"
     ]
    },
    {
     "name": "stdout",
     "output_type": "stream",
     "text": [
      "Epoch 40: validation NLL: 4.42\n"
     ]
    },
    {
     "name": "stderr",
     "output_type": "stream",
     "text": [
      "Epoch 41: 100%|██████████| 100/100 [00:04<00:00, 21.69it/s]\n",
      "Computing loss: 16it [00:00, 66.27it/s]\n"
     ]
    },
    {
     "name": "stdout",
     "output_type": "stream",
     "text": [
      "Epoch 41: validation NLL: 4.48\n"
     ]
    },
    {
     "name": "stderr",
     "output_type": "stream",
     "text": [
      "Epoch 42: 100%|██████████| 100/100 [00:04<00:00, 20.35it/s]\n",
      "Computing loss: 16it [00:00, 75.64it/s]\n"
     ]
    },
    {
     "name": "stdout",
     "output_type": "stream",
     "text": [
      "Epoch 42: validation NLL: 4.40\n"
     ]
    },
    {
     "name": "stderr",
     "output_type": "stream",
     "text": [
      "Epoch 43: 100%|██████████| 100/100 [00:03<00:00, 25.07it/s]\n",
      "Computing loss: 16it [00:00, 73.90it/s]\n"
     ]
    },
    {
     "name": "stdout",
     "output_type": "stream",
     "text": [
      "Epoch 43: validation NLL: 4.42\n"
     ]
    },
    {
     "name": "stderr",
     "output_type": "stream",
     "text": [
      "Epoch 44: 100%|██████████| 100/100 [00:04<00:00, 24.43it/s]\n",
      "Computing loss: 16it [00:00, 65.04it/s]\n"
     ]
    },
    {
     "name": "stdout",
     "output_type": "stream",
     "text": [
      "Epoch 44: validation NLL: 4.43\n"
     ]
    },
    {
     "name": "stderr",
     "output_type": "stream",
     "text": [
      "2023-10-25 10:38:07.531267: W external/xla/xla/service/gpu/conv_algorithm_picker.cc:808] None of the algorithms provided by cuDNN heuristics worked; trying fallback algorithms.\n",
      "2023-10-25 10:38:07.531937: W external/xla/xla/service/gpu/conv_algorithm_picker.cc:811] Conv: (f64[32,128,20,20]{3,2,1,0}, u8[0]{0}) custom-call(f64[32,64,20,20]{3,2,1,0}, f64[128,64,3,3]{3,2,1,0}, f64[128]{0}), window={size=3x3 pad=1_1x1_1}, dim_labels=bf01_oi01->bf01, custom_call_target=\"__cudnn$convBiasActivationForward\", backend_config={\"conv_result_scale\":1,\"activation_mode\":\"kNone\",\"side_input_scale\":0,\"leakyrelu_alpha\":0}\n",
      "2023-10-25 10:38:14.436097: W external/xla/xla/service/gpu/conv_algorithm_picker.cc:808] None of the algorithms provided by cuDNN heuristics worked; trying fallback algorithms.\n",
      "2023-10-25 10:38:14.436160: W external/xla/xla/service/gpu/conv_algorithm_picker.cc:811] Conv: (f64[31,128,20,20]{3,2,1,0}, u8[0]{0}) custom-call(f64[31,64,20,20]{3,2,1,0}, f64[128,64,3,3]{3,2,1,0}, f64[128]{0}), window={size=3x3 pad=1_1x1_1}, dim_labels=bf01_oi01->bf01, custom_call_target=\"__cudnn$convBiasActivationForward\", backend_config={\"conv_result_scale\":1,\"activation_mode\":\"kNone\",\"side_input_scale\":0,\"leakyrelu_alpha\":0}\n",
      "2023-10-25 10:38:15.879833: W external/xla/xla/service/gpu/conv_algorithm_picker.cc:808] None of the algorithms provided by cuDNN heuristics worked; trying fallback algorithms.\n",
      "2023-10-25 10:38:15.880346: W external/xla/xla/service/gpu/conv_algorithm_picker.cc:811] Conv: (f64[31,128,20,20]{3,2,1,0}, u8[0]{0}) custom-call(f64[31,128,20,20]{3,2,1,0}, f64[128,128,1,1]{3,2,1,0}, f64[128]{0}), window={size=1x1}, dim_labels=bf01_oi01->bf01, custom_call_target=\"__cudnn$convBiasActivationForward\", backend_config={\"conv_result_scale\":1,\"activation_mode\":\"kNone\",\"side_input_scale\":0,\"leakyrelu_alpha\":0}\n",
      "2023-10-25 10:38:16.551176: W external/xla/xla/service/gpu/conv_algorithm_picker.cc:808] None of the algorithms provided by cuDNN heuristics worked; trying fallback algorithms.\n",
      "2023-10-25 10:38:16.551695: W external/xla/xla/service/gpu/conv_algorithm_picker.cc:811] Conv: (f64[31,128,20,20]{3,2,1,0}, u8[0]{0}) custom-call(f64[31,128,20,20]{3,2,1,0}, f64[128,128,1,1]{3,2,1,0}, f64[128]{0}, f64[31,128,20,20]{3,2,1,0}), window={size=1x1}, dim_labels=bf01_oi01->bf01, custom_call_target=\"__cudnn$convBiasActivationForward\", backend_config={\"conv_result_scale\":1,\"activation_mode\":\"kNone\",\"side_input_scale\":1,\"leakyrelu_alpha\":0}\n",
      "Computing loss: 100%|██████████| 32/32 [00:14<00:00,  2.24it/s]\n"
     ]
    },
    {
     "name": "stdout",
     "output_type": "stream",
     "text": [
      "Estimated H(Y|X) = 4.373 differential entropy/pixel\n",
      "Estimated H(Y) (upper bound) = 4.400 differential entropy/pixel\n",
      "Estimated I(Y;X) = 0.039 bits/pixel\n"
     ]
    },
    {
     "name": "stderr",
     "output_type": "stream",
     "text": [
      "Computing loss: 100%|██████████| 32/32 [00:02<00:00, 13.88it/s]\n",
      "Computing loss: 9it [00:05,  1.78it/s].87s/it]\n"
     ]
    },
    {
     "name": "stdout",
     "output_type": "stream",
     "text": [
      "Initial validation NLL: 418.10\n"
     ]
    },
    {
     "name": "stderr",
     "output_type": "stream",
     "text": [
      "Epoch 1: 100%|██████████| 1/1 [01:56<00:00, 116.79s/it]\n",
      "Computing loss: 9it [00:01,  6.09it/s]\n"
     ]
    },
    {
     "name": "stdout",
     "output_type": "stream",
     "text": [
      "Epoch 1: validation NLL: 4.48\n"
     ]
    },
    {
     "name": "stderr",
     "output_type": "stream",
     "text": [
      "Epoch 2: 100%|██████████| 1/1 [00:00<00:00,  1.27it/s]\n",
      "Computing loss: 9it [00:01,  5.45it/s]\n"
     ]
    },
    {
     "name": "stdout",
     "output_type": "stream",
     "text": [
      "Epoch 2: validation NLL: 4.46\n"
     ]
    },
    {
     "name": "stderr",
     "output_type": "stream",
     "text": [
      "Epoch 3: 100%|██████████| 1/1 [00:00<00:00,  1.78it/s]\n",
      "Computing loss: 9it [00:01,  5.15it/s]\n"
     ]
    },
    {
     "name": "stdout",
     "output_type": "stream",
     "text": [
      "Epoch 3: validation NLL: 4.45\n"
     ]
    },
    {
     "name": "stderr",
     "output_type": "stream",
     "text": [
      "Epoch 4: 100%|██████████| 1/1 [00:00<00:00,  1.79it/s]\n",
      "Computing loss: 9it [00:01,  5.02it/s]\n"
     ]
    },
    {
     "name": "stdout",
     "output_type": "stream",
     "text": [
      "Epoch 4: validation NLL: 4.45\n"
     ]
    },
    {
     "name": "stderr",
     "output_type": "stream",
     "text": [
      "Epoch 5: 100%|██████████| 1/1 [00:00<00:00,  1.47it/s]\n",
      "Computing loss: 9it [00:01,  5.56it/s]\n"
     ]
    },
    {
     "name": "stdout",
     "output_type": "stream",
     "text": [
      "Epoch 5: validation NLL: 4.44\n"
     ]
    },
    {
     "name": "stderr",
     "output_type": "stream",
     "text": [
      "Epoch 6: 100%|██████████| 1/1 [00:00<00:00,  1.75it/s]\n",
      "Computing loss: 9it [00:01,  6.36it/s]\n"
     ]
    },
    {
     "name": "stdout",
     "output_type": "stream",
     "text": [
      "Epoch 6: validation NLL: 4.45\n"
     ]
    },
    {
     "name": "stderr",
     "output_type": "stream",
     "text": [
      "Epoch 7: 100%|██████████| 1/1 [00:00<00:00,  1.57it/s]\n",
      "Computing loss: 9it [00:01,  5.70it/s]\n"
     ]
    },
    {
     "name": "stdout",
     "output_type": "stream",
     "text": [
      "Epoch 7: validation NLL: 4.44\n"
     ]
    },
    {
     "name": "stderr",
     "output_type": "stream",
     "text": [
      "Epoch 8: 100%|██████████| 1/1 [00:00<00:00,  1.32it/s]\n",
      "Computing loss: 9it [00:01,  4.85it/s]\n"
     ]
    },
    {
     "name": "stdout",
     "output_type": "stream",
     "text": [
      "Epoch 8: validation NLL: 4.44\n"
     ]
    },
    {
     "name": "stderr",
     "output_type": "stream",
     "text": [
      "Epoch 9: 100%|██████████| 1/1 [00:00<00:00,  1.53it/s]\n",
      "Computing loss: 9it [00:01,  5.24it/s]\n"
     ]
    },
    {
     "name": "stdout",
     "output_type": "stream",
     "text": [
      "Epoch 9: validation NLL: 4.44\n"
     ]
    },
    {
     "name": "stderr",
     "output_type": "stream",
     "text": [
      "Epoch 10: 100%|██████████| 1/1 [00:00<00:00,  1.71it/s]\n",
      "Computing loss: 9it [00:01,  5.76it/s]\n"
     ]
    },
    {
     "name": "stdout",
     "output_type": "stream",
     "text": [
      "Epoch 10: validation NLL: 4.45\n"
     ]
    },
    {
     "name": "stderr",
     "output_type": "stream",
     "text": [
      "Epoch 11: 100%|██████████| 1/1 [00:00<00:00,  1.50it/s]\n",
      "Computing loss: 9it [00:01,  5.03it/s]\n"
     ]
    },
    {
     "name": "stdout",
     "output_type": "stream",
     "text": [
      "Epoch 11: validation NLL: 4.44\n"
     ]
    },
    {
     "name": "stderr",
     "output_type": "stream",
     "text": [
      "Epoch 12: 100%|██████████| 1/1 [00:00<00:00,  1.41it/s]\n",
      "Computing loss: 9it [00:01,  5.55it/s]\n"
     ]
    },
    {
     "name": "stdout",
     "output_type": "stream",
     "text": [
      "Epoch 12: validation NLL: 4.44\n"
     ]
    },
    {
     "name": "stderr",
     "output_type": "stream",
     "text": [
      "Epoch 13: 100%|██████████| 1/1 [00:00<00:00,  1.71it/s]\n",
      "Computing loss: 9it [00:01,  5.53it/s]\n"
     ]
    },
    {
     "name": "stdout",
     "output_type": "stream",
     "text": [
      "Epoch 13: validation NLL: 4.44\n"
     ]
    },
    {
     "name": "stderr",
     "output_type": "stream",
     "text": [
      "Epoch 14: 100%|██████████| 1/1 [00:00<00:00,  1.74it/s]\n",
      "Computing loss: 9it [00:01,  5.93it/s]\n"
     ]
    },
    {
     "name": "stdout",
     "output_type": "stream",
     "text": [
      "Epoch 14: validation NLL: 4.44\n"
     ]
    },
    {
     "name": "stderr",
     "output_type": "stream",
     "text": [
      "Epoch 15: 100%|██████████| 1/1 [00:00<00:00,  1.75it/s]\n",
      "Computing loss: 9it [00:01,  5.04it/s]\n"
     ]
    },
    {
     "name": "stdout",
     "output_type": "stream",
     "text": [
      "Epoch 15: validation NLL: 4.44\n"
     ]
    },
    {
     "name": "stderr",
     "output_type": "stream",
     "text": [
      "Epoch 16: 100%|██████████| 1/1 [00:00<00:00,  1.35it/s]\n",
      "Computing loss: 9it [00:01,  4.82it/s]\n"
     ]
    },
    {
     "name": "stdout",
     "output_type": "stream",
     "text": [
      "Epoch 16: validation NLL: 4.44\n"
     ]
    },
    {
     "name": "stderr",
     "output_type": "stream",
     "text": [
      "Epoch 17: 100%|██████████| 1/1 [00:00<00:00,  1.45it/s]\n",
      "Computing loss: 9it [00:01,  5.67it/s]\n"
     ]
    },
    {
     "name": "stdout",
     "output_type": "stream",
     "text": [
      "Epoch 17: validation NLL: 4.44\n"
     ]
    },
    {
     "name": "stderr",
     "output_type": "stream",
     "text": [
      "Epoch 18: 100%|██████████| 1/1 [00:00<00:00,  1.72it/s]\n",
      "Computing loss: 9it [00:01,  5.27it/s]\n"
     ]
    },
    {
     "name": "stdout",
     "output_type": "stream",
     "text": [
      "Epoch 18: validation NLL: 4.44\n"
     ]
    },
    {
     "name": "stderr",
     "output_type": "stream",
     "text": [
      "Epoch 19: 100%|██████████| 1/1 [00:00<00:00,  1.34it/s]\n",
      "Computing loss: 9it [00:01,  4.78it/s]\n"
     ]
    },
    {
     "name": "stdout",
     "output_type": "stream",
     "text": [
      "Epoch 19: validation NLL: 4.44\n"
     ]
    },
    {
     "name": "stderr",
     "output_type": "stream",
     "text": [
      "Epoch 20: 100%|██████████| 1/1 [00:00<00:00,  1.45it/s]\n",
      "Computing loss: 9it [00:01,  5.02it/s]\n"
     ]
    },
    {
     "name": "stdout",
     "output_type": "stream",
     "text": [
      "Epoch 20: validation NLL: 4.44\n"
     ]
    },
    {
     "name": "stderr",
     "output_type": "stream",
     "text": [
      "Epoch 21: 100%|██████████| 1/1 [00:00<00:00,  1.53it/s]\n",
      "Computing loss: 9it [00:01,  5.45it/s]\n"
     ]
    },
    {
     "name": "stdout",
     "output_type": "stream",
     "text": [
      "Epoch 21: validation NLL: 4.44\n"
     ]
    },
    {
     "name": "stderr",
     "output_type": "stream",
     "text": [
      "Epoch 22: 100%|██████████| 1/1 [00:00<00:00,  1.76it/s]\n",
      "Computing loss: 9it [00:01,  5.80it/s]\n"
     ]
    },
    {
     "name": "stdout",
     "output_type": "stream",
     "text": [
      "Epoch 22: validation NLL: 4.44\n"
     ]
    },
    {
     "name": "stderr",
     "output_type": "stream",
     "text": [
      "Epoch 23: 100%|██████████| 1/1 [00:00<00:00,  1.75it/s]\n",
      "Computing loss: 9it [00:01,  5.11it/s]\n"
     ]
    },
    {
     "name": "stdout",
     "output_type": "stream",
     "text": [
      "Epoch 23: validation NLL: 4.44\n"
     ]
    },
    {
     "name": "stderr",
     "output_type": "stream",
     "text": [
      "Epoch 24: 100%|██████████| 1/1 [00:00<00:00,  1.46it/s]\n",
      "Computing loss: 9it [00:01,  4.97it/s]\n"
     ]
    },
    {
     "name": "stdout",
     "output_type": "stream",
     "text": [
      "Epoch 24: validation NLL: 4.45\n"
     ]
    },
    {
     "name": "stderr",
     "output_type": "stream",
     "text": [
      "Epoch 25: 100%|██████████| 1/1 [00:00<00:00,  1.67it/s]\n",
      "Computing loss: 9it [00:01,  5.70it/s]\n"
     ]
    },
    {
     "name": "stdout",
     "output_type": "stream",
     "text": [
      "Epoch 25: validation NLL: 4.45\n"
     ]
    },
    {
     "name": "stderr",
     "output_type": "stream",
     "text": [
      "Epoch 26: 100%|██████████| 1/1 [00:00<00:00,  1.74it/s]\n",
      "Computing loss: 9it [00:01,  5.81it/s]\n"
     ]
    },
    {
     "name": "stdout",
     "output_type": "stream",
     "text": [
      "Epoch 26: validation NLL: 4.45\n"
     ]
    },
    {
     "name": "stderr",
     "output_type": "stream",
     "text": [
      "precomputing masks and variances: 100%|██████████| 35/35 [00:02<00:00, 12.64it/s]\n"
     ]
    },
    {
     "name": "stdout",
     "output_type": "stream",
     "text": [
      "evaluating likelihood\n"
     ]
    },
    {
     "name": "stderr",
     "output_type": "stream",
     "text": [
      "computing log likelihoods: 100%|██████████| 35/35 [00:01<00:00, 23.81it/s]\n"
     ]
    },
    {
     "name": "stdout",
     "output_type": "stream",
     "text": [
      "Estimated H(Y|X) = 4.372 differential entropy/pixel\n",
      "Estimated H(Y) (upper bound) = 4.439 differential entropy/pixel\n",
      "Estimated I(Y;X) = 0.097 bits/pixel\n"
     ]
    },
    {
     "name": "stderr",
     "output_type": "stream",
     "text": [
      "precomputing masks and variances: 100%|██████████| 35/35 [00:01<00:00, 20.87it/s]\n"
     ]
    },
    {
     "name": "stdout",
     "output_type": "stream",
     "text": [
      "evaluating likelihood\n"
     ]
    },
    {
     "name": "stderr",
     "output_type": "stream",
     "text": [
      "computing log likelihoods: 100%|██████████| 35/35 [00:01<00:00, 19.42it/s]\n",
      "Computing loss: 16it [00:29,  1.83s/it]\n"
     ]
    },
    {
     "name": "stdout",
     "output_type": "stream",
     "text": [
      "Initial validation NLL: 113.77\n"
     ]
    },
    {
     "name": "stderr",
     "output_type": "stream",
     "text": [
      "Epoch 1: 100%|██████████| 100/100 [00:36<00:00,  2.72it/s]\n",
      "Computing loss: 16it [00:00, 20.45it/s]\n"
     ]
    },
    {
     "name": "stdout",
     "output_type": "stream",
     "text": [
      "Epoch 1: validation NLL: 4.96\n"
     ]
    },
    {
     "name": "stderr",
     "output_type": "stream",
     "text": [
      "Epoch 2: 100%|██████████| 100/100 [00:09<00:00, 10.27it/s]\n",
      "Computing loss: 16it [00:00, 31.54it/s]\n"
     ]
    },
    {
     "name": "stdout",
     "output_type": "stream",
     "text": [
      "Epoch 2: validation NLL: 4.73\n"
     ]
    },
    {
     "name": "stderr",
     "output_type": "stream",
     "text": [
      "Epoch 3: 100%|██████████| 100/100 [00:09<00:00, 10.67it/s]\n",
      "Computing loss: 16it [00:00, 17.70it/s]\n"
     ]
    },
    {
     "name": "stdout",
     "output_type": "stream",
     "text": [
      "Epoch 3: validation NLL: 4.53\n"
     ]
    },
    {
     "name": "stderr",
     "output_type": "stream",
     "text": [
      "Epoch 4: 100%|██████████| 100/100 [00:09<00:00, 10.28it/s]\n",
      "Computing loss: 16it [00:00, 31.30it/s]\n"
     ]
    },
    {
     "name": "stdout",
     "output_type": "stream",
     "text": [
      "Epoch 4: validation NLL: 4.45\n"
     ]
    },
    {
     "name": "stderr",
     "output_type": "stream",
     "text": [
      "Epoch 5: 100%|██████████| 100/100 [00:09<00:00, 11.10it/s]\n",
      "Computing loss: 16it [00:00, 22.36it/s]\n"
     ]
    },
    {
     "name": "stdout",
     "output_type": "stream",
     "text": [
      "Epoch 5: validation NLL: 4.50\n"
     ]
    },
    {
     "name": "stderr",
     "output_type": "stream",
     "text": [
      "Epoch 6: 100%|██████████| 100/100 [00:09<00:00, 10.60it/s]\n",
      "Computing loss: 16it [00:00, 21.11it/s]\n"
     ]
    },
    {
     "name": "stdout",
     "output_type": "stream",
     "text": [
      "Epoch 6: validation NLL: 4.42\n"
     ]
    },
    {
     "name": "stderr",
     "output_type": "stream",
     "text": [
      "Epoch 7: 100%|██████████| 100/100 [00:08<00:00, 11.24it/s]\n",
      "Computing loss: 16it [00:00, 21.18it/s]\n"
     ]
    },
    {
     "name": "stdout",
     "output_type": "stream",
     "text": [
      "Epoch 7: validation NLL: 4.54\n"
     ]
    },
    {
     "name": "stderr",
     "output_type": "stream",
     "text": [
      "Epoch 8: 100%|██████████| 100/100 [00:08<00:00, 11.19it/s]\n",
      "Computing loss: 16it [00:00, 36.23it/s]\n"
     ]
    },
    {
     "name": "stdout",
     "output_type": "stream",
     "text": [
      "Epoch 8: validation NLL: 4.68\n"
     ]
    },
    {
     "name": "stderr",
     "output_type": "stream",
     "text": [
      "Epoch 9: 100%|██████████| 100/100 [00:08<00:00, 11.30it/s]\n",
      "Computing loss: 16it [00:00, 32.66it/s]\n"
     ]
    },
    {
     "name": "stdout",
     "output_type": "stream",
     "text": [
      "Epoch 9: validation NLL: 4.41\n"
     ]
    },
    {
     "name": "stderr",
     "output_type": "stream",
     "text": [
      "Epoch 10: 100%|██████████| 100/100 [00:08<00:00, 11.92it/s]\n",
      "Computing loss: 16it [00:00, 25.44it/s]\n"
     ]
    },
    {
     "name": "stdout",
     "output_type": "stream",
     "text": [
      "Epoch 10: validation NLL: 4.40\n"
     ]
    },
    {
     "name": "stderr",
     "output_type": "stream",
     "text": [
      "Epoch 11: 100%|██████████| 100/100 [00:08<00:00, 11.68it/s]\n",
      "Computing loss: 16it [00:00, 25.59it/s]\n"
     ]
    },
    {
     "name": "stdout",
     "output_type": "stream",
     "text": [
      "Epoch 11: validation NLL: 4.38\n"
     ]
    },
    {
     "name": "stderr",
     "output_type": "stream",
     "text": [
      "Epoch 12: 100%|██████████| 100/100 [00:08<00:00, 11.99it/s]\n",
      "Computing loss: 16it [00:00, 45.92it/s]\n"
     ]
    },
    {
     "name": "stdout",
     "output_type": "stream",
     "text": [
      "Epoch 12: validation NLL: 4.39\n"
     ]
    },
    {
     "name": "stderr",
     "output_type": "stream",
     "text": [
      "Epoch 13: 100%|██████████| 100/100 [00:08<00:00, 11.86it/s]\n",
      "Computing loss: 16it [00:00, 41.08it/s]\n"
     ]
    },
    {
     "name": "stdout",
     "output_type": "stream",
     "text": [
      "Epoch 13: validation NLL: 4.37\n"
     ]
    },
    {
     "name": "stderr",
     "output_type": "stream",
     "text": [
      "Epoch 14: 100%|██████████| 100/100 [00:08<00:00, 12.06it/s]\n",
      "Computing loss: 16it [00:00, 21.02it/s]\n"
     ]
    },
    {
     "name": "stdout",
     "output_type": "stream",
     "text": [
      "Epoch 14: validation NLL: 4.43\n"
     ]
    },
    {
     "name": "stderr",
     "output_type": "stream",
     "text": [
      "Epoch 15: 100%|██████████| 100/100 [00:08<00:00, 11.27it/s]\n",
      "Computing loss: 16it [00:00, 41.62it/s]\n"
     ]
    },
    {
     "name": "stdout",
     "output_type": "stream",
     "text": [
      "Epoch 15: validation NLL: 4.37\n"
     ]
    },
    {
     "name": "stderr",
     "output_type": "stream",
     "text": [
      "Epoch 16: 100%|██████████| 100/100 [00:09<00:00, 10.76it/s]\n",
      "Computing loss: 16it [00:00, 44.41it/s]\n"
     ]
    },
    {
     "name": "stdout",
     "output_type": "stream",
     "text": [
      "Epoch 16: validation NLL: 4.37\n"
     ]
    },
    {
     "name": "stderr",
     "output_type": "stream",
     "text": [
      "Epoch 17: 100%|██████████| 100/100 [00:08<00:00, 11.14it/s]\n",
      "Computing loss: 16it [00:00, 25.32it/s]\n"
     ]
    },
    {
     "name": "stdout",
     "output_type": "stream",
     "text": [
      "Epoch 17: validation NLL: 4.46\n"
     ]
    },
    {
     "name": "stderr",
     "output_type": "stream",
     "text": [
      "Epoch 18: 100%|██████████| 100/100 [00:08<00:00, 11.27it/s]\n",
      "Computing loss: 16it [00:00, 23.51it/s]\n"
     ]
    },
    {
     "name": "stdout",
     "output_type": "stream",
     "text": [
      "Epoch 18: validation NLL: 4.36\n"
     ]
    },
    {
     "name": "stderr",
     "output_type": "stream",
     "text": [
      "Epoch 19: 100%|██████████| 100/100 [00:08<00:00, 11.12it/s]\n",
      "Computing loss: 16it [00:00, 27.93it/s]\n"
     ]
    },
    {
     "name": "stdout",
     "output_type": "stream",
     "text": [
      "Epoch 19: validation NLL: 4.37\n"
     ]
    },
    {
     "name": "stderr",
     "output_type": "stream",
     "text": [
      "Epoch 20: 100%|██████████| 100/100 [00:09<00:00, 10.88it/s]\n",
      "Computing loss: 16it [00:00, 35.98it/s]\n"
     ]
    },
    {
     "name": "stdout",
     "output_type": "stream",
     "text": [
      "Epoch 20: validation NLL: 4.36\n"
     ]
    },
    {
     "name": "stderr",
     "output_type": "stream",
     "text": [
      "Epoch 21: 100%|██████████| 100/100 [00:08<00:00, 11.50it/s]\n",
      "Computing loss: 16it [00:00, 23.88it/s]\n"
     ]
    },
    {
     "name": "stdout",
     "output_type": "stream",
     "text": [
      "Epoch 21: validation NLL: 4.36\n"
     ]
    },
    {
     "name": "stderr",
     "output_type": "stream",
     "text": [
      "Epoch 22: 100%|██████████| 100/100 [00:09<00:00, 11.04it/s]\n",
      "Computing loss: 16it [00:00, 35.27it/s]\n"
     ]
    },
    {
     "name": "stdout",
     "output_type": "stream",
     "text": [
      "Epoch 22: validation NLL: 4.36\n"
     ]
    },
    {
     "name": "stderr",
     "output_type": "stream",
     "text": [
      "Epoch 23: 100%|██████████| 100/100 [00:09<00:00, 10.79it/s]\n",
      "Computing loss: 16it [00:00, 35.80it/s]\n"
     ]
    },
    {
     "name": "stdout",
     "output_type": "stream",
     "text": [
      "Epoch 23: validation NLL: 4.36\n"
     ]
    },
    {
     "name": "stderr",
     "output_type": "stream",
     "text": [
      "Epoch 24: 100%|██████████| 100/100 [00:08<00:00, 11.11it/s]\n",
      "Computing loss: 16it [00:00, 28.02it/s]\n"
     ]
    },
    {
     "name": "stdout",
     "output_type": "stream",
     "text": [
      "Epoch 24: validation NLL: 4.36\n"
     ]
    },
    {
     "name": "stderr",
     "output_type": "stream",
     "text": [
      "Epoch 25: 100%|██████████| 100/100 [00:09<00:00, 10.87it/s]\n",
      "Computing loss: 16it [00:00, 31.96it/s]\n"
     ]
    },
    {
     "name": "stdout",
     "output_type": "stream",
     "text": [
      "Epoch 25: validation NLL: 4.51\n"
     ]
    },
    {
     "name": "stderr",
     "output_type": "stream",
     "text": [
      "Epoch 26: 100%|██████████| 100/100 [00:08<00:00, 11.28it/s]\n",
      "Computing loss: 16it [00:00, 27.96it/s]\n"
     ]
    },
    {
     "name": "stdout",
     "output_type": "stream",
     "text": [
      "Epoch 26: validation NLL: 4.35\n"
     ]
    },
    {
     "name": "stderr",
     "output_type": "stream",
     "text": [
      "Epoch 27: 100%|██████████| 100/100 [00:07<00:00, 12.69it/s]\n",
      "Computing loss: 16it [00:00, 39.27it/s]\n"
     ]
    },
    {
     "name": "stdout",
     "output_type": "stream",
     "text": [
      "Epoch 27: validation NLL: 4.36\n"
     ]
    },
    {
     "name": "stderr",
     "output_type": "stream",
     "text": [
      "Epoch 28: 100%|██████████| 100/100 [00:07<00:00, 12.53it/s]\n",
      "Computing loss: 16it [00:00, 42.40it/s]\n"
     ]
    },
    {
     "name": "stdout",
     "output_type": "stream",
     "text": [
      "Epoch 28: validation NLL: 4.35\n"
     ]
    },
    {
     "name": "stderr",
     "output_type": "stream",
     "text": [
      "Epoch 29: 100%|██████████| 100/100 [00:07<00:00, 13.13it/s]\n",
      "Computing loss: 16it [00:00, 40.63it/s]\n"
     ]
    },
    {
     "name": "stdout",
     "output_type": "stream",
     "text": [
      "Epoch 29: validation NLL: 4.38\n"
     ]
    },
    {
     "name": "stderr",
     "output_type": "stream",
     "text": [
      "Epoch 30: 100%|██████████| 100/100 [00:07<00:00, 12.51it/s]\n",
      "Computing loss: 16it [00:00, 49.76it/s]\n"
     ]
    },
    {
     "name": "stdout",
     "output_type": "stream",
     "text": [
      "Epoch 30: validation NLL: 4.35\n"
     ]
    },
    {
     "name": "stderr",
     "output_type": "stream",
     "text": [
      "Epoch 31: 100%|██████████| 100/100 [00:08<00:00, 11.68it/s]\n",
      "Computing loss: 16it [00:00, 20.27it/s]\n"
     ]
    },
    {
     "name": "stdout",
     "output_type": "stream",
     "text": [
      "Epoch 31: validation NLL: 4.37\n"
     ]
    },
    {
     "name": "stderr",
     "output_type": "stream",
     "text": [
      "Epoch 32: 100%|██████████| 100/100 [00:08<00:00, 11.45it/s]\n",
      "Computing loss: 16it [00:00, 23.66it/s]\n"
     ]
    },
    {
     "name": "stdout",
     "output_type": "stream",
     "text": [
      "Epoch 32: validation NLL: 4.37\n"
     ]
    },
    {
     "name": "stderr",
     "output_type": "stream",
     "text": [
      "Epoch 33: 100%|██████████| 100/100 [00:07<00:00, 12.61it/s]\n",
      "Computing loss: 16it [00:00, 48.97it/s]\n"
     ]
    },
    {
     "name": "stdout",
     "output_type": "stream",
     "text": [
      "Epoch 33: validation NLL: 4.36\n"
     ]
    },
    {
     "name": "stderr",
     "output_type": "stream",
     "text": [
      "Epoch 34: 100%|██████████| 100/100 [00:08<00:00, 11.84it/s]\n",
      "Computing loss: 16it [00:00, 21.11it/s]\n"
     ]
    },
    {
     "name": "stdout",
     "output_type": "stream",
     "text": [
      "Epoch 34: validation NLL: 4.35\n"
     ]
    },
    {
     "name": "stderr",
     "output_type": "stream",
     "text": [
      "Epoch 35: 100%|██████████| 100/100 [00:08<00:00, 11.92it/s]\n",
      "Computing loss: 16it [00:00, 18.78it/s]\n"
     ]
    },
    {
     "name": "stdout",
     "output_type": "stream",
     "text": [
      "Epoch 35: validation NLL: 4.34\n"
     ]
    },
    {
     "name": "stderr",
     "output_type": "stream",
     "text": [
      "Epoch 36: 100%|██████████| 100/100 [00:07<00:00, 13.75it/s]\n",
      "Computing loss: 16it [00:00, 44.71it/s]\n"
     ]
    },
    {
     "name": "stdout",
     "output_type": "stream",
     "text": [
      "Epoch 36: validation NLL: 4.41\n"
     ]
    },
    {
     "name": "stderr",
     "output_type": "stream",
     "text": [
      "Epoch 37: 100%|██████████| 100/100 [00:08<00:00, 12.24it/s]\n",
      "Computing loss: 16it [00:00, 51.85it/s]\n"
     ]
    },
    {
     "name": "stdout",
     "output_type": "stream",
     "text": [
      "Epoch 37: validation NLL: 5.75\n"
     ]
    },
    {
     "name": "stderr",
     "output_type": "stream",
     "text": [
      "Epoch 38: 100%|██████████| 100/100 [00:07<00:00, 12.53it/s]\n",
      "Computing loss: 16it [00:00, 23.86it/s]\n"
     ]
    },
    {
     "name": "stdout",
     "output_type": "stream",
     "text": [
      "Epoch 38: validation NLL: 5.74\n"
     ]
    },
    {
     "name": "stderr",
     "output_type": "stream",
     "text": [
      "Epoch 39: 100%|██████████| 100/100 [00:07<00:00, 13.21it/s]\n",
      "Computing loss: 16it [00:00, 48.02it/s]\n"
     ]
    },
    {
     "name": "stdout",
     "output_type": "stream",
     "text": [
      "Epoch 39: validation NLL: 5.74\n"
     ]
    },
    {
     "name": "stderr",
     "output_type": "stream",
     "text": [
      "Epoch 40: 100%|██████████| 100/100 [00:07<00:00, 12.66it/s]\n",
      "Computing loss: 16it [00:00, 48.48it/s]\n"
     ]
    },
    {
     "name": "stdout",
     "output_type": "stream",
     "text": [
      "Epoch 40: validation NLL: 5.74\n"
     ]
    },
    {
     "name": "stderr",
     "output_type": "stream",
     "text": [
      "Epoch 41: 100%|██████████| 100/100 [00:07<00:00, 13.17it/s]\n",
      "Computing loss: 16it [00:00, 16.65it/s]\n"
     ]
    },
    {
     "name": "stdout",
     "output_type": "stream",
     "text": [
      "Epoch 41: validation NLL: 5.74\n"
     ]
    },
    {
     "name": "stderr",
     "output_type": "stream",
     "text": [
      "Epoch 42: 100%|██████████| 100/100 [00:07<00:00, 14.28it/s]\n",
      "Computing loss: 16it [00:00, 25.73it/s]\n"
     ]
    },
    {
     "name": "stdout",
     "output_type": "stream",
     "text": [
      "Epoch 42: validation NLL: 5.74\n"
     ]
    },
    {
     "name": "stderr",
     "output_type": "stream",
     "text": [
      "Epoch 43: 100%|██████████| 100/100 [00:07<00:00, 13.62it/s]\n",
      "Computing loss: 16it [00:00, 24.25it/s]\n"
     ]
    },
    {
     "name": "stdout",
     "output_type": "stream",
     "text": [
      "Epoch 43: validation NLL: 5.74\n"
     ]
    },
    {
     "name": "stderr",
     "output_type": "stream",
     "text": [
      "Epoch 44: 100%|██████████| 100/100 [00:08<00:00, 12.42it/s]\n",
      "Computing loss: 16it [00:00, 18.43it/s]\n"
     ]
    },
    {
     "name": "stdout",
     "output_type": "stream",
     "text": [
      "Epoch 44: validation NLL: 5.74\n"
     ]
    },
    {
     "name": "stderr",
     "output_type": "stream",
     "text": [
      "Epoch 45: 100%|██████████| 100/100 [00:08<00:00, 12.11it/s]\n",
      "Computing loss: 16it [00:00, 34.56it/s]\n"
     ]
    },
    {
     "name": "stdout",
     "output_type": "stream",
     "text": [
      "Epoch 45: validation NLL: 5.74\n"
     ]
    },
    {
     "name": "stderr",
     "output_type": "stream",
     "text": [
      "2023-10-25 10:58:15.821112: W external/xla/xla/service/gpu/conv_algorithm_picker.cc:808] None of the algorithms provided by cuDNN heuristics worked; trying fallback algorithms.\n",
      "2023-10-25 10:58:15.821303: W external/xla/xla/service/gpu/conv_algorithm_picker.cc:811] Conv: (f64[32,128,35,35]{3,2,1,0}, u8[0]{0}) custom-call(f64[32,64,35,35]{3,2,1,0}, f64[128,64,3,3]{3,2,1,0}, f64[128]{0}), window={size=3x3 pad=1_1x1_1}, dim_labels=bf01_oi01->bf01, custom_call_target=\"__cudnn$convBiasActivationForward\", backend_config={\"conv_result_scale\":1,\"activation_mode\":\"kNone\",\"side_input_scale\":0,\"leakyrelu_alpha\":0}\n",
      "2023-10-25 10:58:20.347485: W external/xla/xla/service/gpu/conv_algorithm_picker.cc:808] None of the algorithms provided by cuDNN heuristics worked; trying fallback algorithms.\n",
      "2023-10-25 10:58:20.347791: W external/xla/xla/service/gpu/conv_algorithm_picker.cc:811] Conv: (f64[32,128,35,35]{3,2,1,0}, u8[0]{0}) custom-call(f64[32,128,35,35]{3,2,1,0}, f64[128,128,1,1]{3,2,1,0}, f64[128]{0}), window={size=1x1}, dim_labels=bf01_oi01->bf01, custom_call_target=\"__cudnn$convBiasActivationForward\", backend_config={\"conv_result_scale\":1,\"activation_mode\":\"kNone\",\"side_input_scale\":0,\"leakyrelu_alpha\":0}\n",
      "2023-10-25 10:58:20.399611: W external/xla/xla/service/gpu/conv_algorithm_picker.cc:808] None of the algorithms provided by cuDNN heuristics worked; trying fallback algorithms.\n",
      "2023-10-25 10:58:20.399673: W external/xla/xla/service/gpu/conv_algorithm_picker.cc:811] Conv: (f64[32,128,35,35]{3,2,1,0}, u8[0]{0}) custom-call(f64[32,64,35,35]{3,2,1,0}, f64[128,64,1,3]{3,2,1,0}, f64[128]{0}, f64[32,128,35,35]{3,2,1,0}), window={size=1x3 pad=0_0x1_1}, dim_labels=bf01_oi01->bf01, custom_call_target=\"__cudnn$convBiasActivationForward\", backend_config={\"conv_result_scale\":1,\"activation_mode\":\"kNone\",\"side_input_scale\":1,\"leakyrelu_alpha\":0}\n",
      "2023-10-25 10:58:21.657113: W external/xla/xla/service/gpu/conv_algorithm_picker.cc:808] None of the algorithms provided by cuDNN heuristics worked; trying fallback algorithms.\n",
      "2023-10-25 10:58:21.657312: W external/xla/xla/service/gpu/conv_algorithm_picker.cc:811] Conv: (f64[32,128,35,35]{3,2,1,0}, u8[0]{0}) custom-call(f64[32,128,35,35]{3,2,1,0}, f64[128,128,1,1]{3,2,1,0}, f64[128]{0}, f64[32,128,35,35]{3,2,1,0}), window={size=1x1}, dim_labels=bf01_oi01->bf01, custom_call_target=\"__cudnn$convBiasActivationForward\", backend_config={\"conv_result_scale\":1,\"activation_mode\":\"kNone\",\"side_input_scale\":1,\"leakyrelu_alpha\":0}\n",
      "2023-10-25 10:58:27.266264: W external/xla/xla/service/gpu/conv_algorithm_picker.cc:808] None of the algorithms provided by cuDNN heuristics worked; trying fallback algorithms.\n",
      "2023-10-25 10:58:27.266503: W external/xla/xla/service/gpu/conv_algorithm_picker.cc:811] Conv: (f64[31,128,35,35]{3,2,1,0}, u8[0]{0}) custom-call(f64[31,64,35,35]{3,2,1,0}, f64[128,64,3,3]{3,2,1,0}, f64[128]{0}), window={size=3x3 pad=1_1x1_1}, dim_labels=bf01_oi01->bf01, custom_call_target=\"__cudnn$convBiasActivationForward\", backend_config={\"conv_result_scale\":1,\"activation_mode\":\"kNone\",\"side_input_scale\":0,\"leakyrelu_alpha\":0}\n",
      "2023-10-25 10:58:32.086365: W external/xla/xla/service/gpu/conv_algorithm_picker.cc:808] None of the algorithms provided by cuDNN heuristics worked; trying fallback algorithms.\n",
      "2023-10-25 10:58:32.086418: W external/xla/xla/service/gpu/conv_algorithm_picker.cc:811] Conv: (f64[31,128,35,35]{3,2,1,0}, u8[0]{0}) custom-call(f64[31,64,35,35]{3,2,1,0}, f64[128,64,1,3]{3,2,1,0}, f64[128]{0}, f64[31,128,35,35]{3,2,1,0}), window={size=1x3 pad=0_0x1_1}, dim_labels=bf01_oi01->bf01, custom_call_target=\"__cudnn$convBiasActivationForward\", backend_config={\"conv_result_scale\":1,\"activation_mode\":\"kNone\",\"side_input_scale\":1,\"leakyrelu_alpha\":0}\n",
      "Computing loss: 100%|██████████| 32/32 [00:26<00:00,  1.19it/s]\n"
     ]
    },
    {
     "name": "stdout",
     "output_type": "stream",
     "text": [
      "Estimated H(Y|X) = 4.372 differential entropy/pixel\n",
      "Estimated H(Y) (upper bound) = 4.349 differential entropy/pixel\n",
      "Estimated I(Y;X) = -0.033 bits/pixel\n"
     ]
    },
    {
     "name": "stderr",
     "output_type": "stream",
     "text": [
      "Computing loss: 100%|██████████| 32/32 [00:05<00:00,  5.94it/s]\n",
      " 88%|████████▊ | 7/8 [1:07:49<12:27, 747.90s/it]2023-10-25 11:06:02.612839: E external/xla/xla/service/slow_operation_alarm.cc:65] \n",
      "********************************\n",
      "[Compiling module jit_average_diagonals_to_make_doubly_toeplitz] Very slow compile? If you want to file a bug, run with envvar XLA_FLAGS=--xla_dump_to=/tmp/foo and attach the results.\n",
      "********************************\n",
      "2023-10-25 11:10:25.719161: E external/xla/xla/service/slow_operation_alarm.cc:133] The operation took 6m23.098041511s\n",
      "\n",
      "********************************\n",
      "[Compiling module jit_average_diagonals_to_make_doubly_toeplitz] Very slow compile? If you want to file a bug, run with envvar XLA_FLAGS=--xla_dump_to=/tmp/foo and attach the results.\n",
      "********************************\n",
      "2023-10-25 11:10:29.647450: W tensorflow/core/framework/cpu_allocator_impl.cc:82] Allocation of 89000000 exceeds 10% of free system memory.\n",
      "2023-10-25 11:10:29.748421: W tensorflow/core/framework/cpu_allocator_impl.cc:82] Allocation of 89000000 exceeds 10% of free system memory.\n",
      "Computing loss: 9it [00:09,  1.07s/it]\n"
     ]
    },
    {
     "name": "stdout",
     "output_type": "stream",
     "text": [
      "Initial validation NLL: 5404.93\n"
     ]
    },
    {
     "name": "stderr",
     "output_type": "stream",
     "text": [
      "2023-10-25 11:19:20.192546: E external/xla/xla/service/slow_operation_alarm.cc:133] The operation took 6m30.935068551s\n",
      "\n",
      "********************************\n",
      "[Compiling module jit__train_step] Very slow compile? If you want to file a bug, run with envvar XLA_FLAGS=--xla_dump_to=/tmp/foo and attach the results.\n",
      "********************************\n",
      "Epoch 1: 100%|██████████| 1/1 [08:45<00:00, 525.12s/it]\n",
      "Computing loss: 9it [00:06,  1.32it/s]\n"
     ]
    },
    {
     "name": "stdout",
     "output_type": "stream",
     "text": [
      "Epoch 1: validation NLL: 459.44\n"
     ]
    },
    {
     "name": "stderr",
     "output_type": "stream",
     "text": [
      "Epoch 2: 100%|██████████| 1/1 [00:03<00:00,  3.69s/it]\n",
      "Computing loss: 9it [00:06,  1.31it/s]\n"
     ]
    },
    {
     "name": "stdout",
     "output_type": "stream",
     "text": [
      "Epoch 2: validation NLL: 4.45\n"
     ]
    },
    {
     "name": "stderr",
     "output_type": "stream",
     "text": [
      "Epoch 3: 100%|██████████| 1/1 [00:03<00:00,  3.57s/it]\n",
      "Computing loss: 9it [00:06,  1.39it/s]\n"
     ]
    },
    {
     "name": "stdout",
     "output_type": "stream",
     "text": [
      "Epoch 3: validation NLL: 4.43\n"
     ]
    },
    {
     "name": "stderr",
     "output_type": "stream",
     "text": [
      "Epoch 4: 100%|██████████| 1/1 [00:03<00:00,  3.54s/it]\n",
      "Computing loss: 9it [00:06,  1.38it/s]\n"
     ]
    },
    {
     "name": "stdout",
     "output_type": "stream",
     "text": [
      "Epoch 4: validation NLL: 4.43\n"
     ]
    },
    {
     "name": "stderr",
     "output_type": "stream",
     "text": [
      "Epoch 5: 100%|██████████| 1/1 [00:03<00:00,  3.58s/it]\n",
      "Computing loss: 9it [00:05,  1.62it/s]\n"
     ]
    },
    {
     "name": "stdout",
     "output_type": "stream",
     "text": [
      "Epoch 5: validation NLL: 4.42\n"
     ]
    },
    {
     "name": "stderr",
     "output_type": "stream",
     "text": [
      "Epoch 6: 100%|██████████| 1/1 [00:03<00:00,  3.45s/it]\n",
      "Computing loss: 9it [00:06,  1.37it/s]\n"
     ]
    },
    {
     "name": "stdout",
     "output_type": "stream",
     "text": [
      "Epoch 6: validation NLL: 4.43\n"
     ]
    },
    {
     "name": "stderr",
     "output_type": "stream",
     "text": [
      "Epoch 7: 100%|██████████| 1/1 [00:03<00:00,  3.17s/it]\n",
      "Computing loss: 9it [00:06,  1.30it/s]\n"
     ]
    },
    {
     "name": "stdout",
     "output_type": "stream",
     "text": [
      "Epoch 7: validation NLL: 4.43\n"
     ]
    },
    {
     "name": "stderr",
     "output_type": "stream",
     "text": [
      "Epoch 8: 100%|██████████| 1/1 [00:03<00:00,  3.91s/it]\n",
      "Computing loss: 9it [00:06,  1.34it/s]\n"
     ]
    },
    {
     "name": "stdout",
     "output_type": "stream",
     "text": [
      "Epoch 8: validation NLL: 4.43\n"
     ]
    },
    {
     "name": "stderr",
     "output_type": "stream",
     "text": [
      "Epoch 9: 100%|██████████| 1/1 [00:03<00:00,  3.17s/it]\n",
      "Computing loss: 9it [00:05,  1.60it/s]\n"
     ]
    },
    {
     "name": "stdout",
     "output_type": "stream",
     "text": [
      "Epoch 9: validation NLL: 4.43\n"
     ]
    },
    {
     "name": "stderr",
     "output_type": "stream",
     "text": [
      "Epoch 10: 100%|██████████| 1/1 [00:03<00:00,  3.78s/it]\n",
      "Computing loss: 9it [00:05,  1.55it/s]\n"
     ]
    },
    {
     "name": "stdout",
     "output_type": "stream",
     "text": [
      "Epoch 10: validation NLL: 4.42\n"
     ]
    },
    {
     "name": "stderr",
     "output_type": "stream",
     "text": [
      "precomputing masks and variances: 100%|██████████| 50/50 [00:04<00:00, 10.43it/s]\n"
     ]
    },
    {
     "name": "stdout",
     "output_type": "stream",
     "text": [
      "evaluating likelihood\n"
     ]
    },
    {
     "name": "stderr",
     "output_type": "stream",
     "text": [
      "computing log likelihoods: 100%|██████████| 50/50 [00:02<00:00, 20.43it/s]\n"
     ]
    },
    {
     "name": "stdout",
     "output_type": "stream",
     "text": [
      "Estimated H(Y|X) = 4.368 differential entropy/pixel\n",
      "Estimated H(Y) (upper bound) = 4.425 differential entropy/pixel\n",
      "Estimated I(Y;X) = 0.083 bits/pixel\n"
     ]
    },
    {
     "name": "stderr",
     "output_type": "stream",
     "text": [
      "precomputing masks and variances: 100%|██████████| 50/50 [00:02<00:00, 20.12it/s]\n"
     ]
    },
    {
     "name": "stdout",
     "output_type": "stream",
     "text": [
      "evaluating likelihood\n"
     ]
    },
    {
     "name": "stderr",
     "output_type": "stream",
     "text": [
      "computing log likelihoods: 100%|██████████| 50/50 [00:02<00:00, 18.61it/s]\n",
      "2023-10-25 11:25:27.659184: W tensorflow/core/framework/cpu_allocator_impl.cc:82] Allocation of 80000000 exceeds 10% of free system memory.\n",
      "2023-10-25 11:25:27.718928: W tensorflow/core/framework/cpu_allocator_impl.cc:82] Allocation of 80000000 exceeds 10% of free system memory.\n",
      "Computing loss: 16it [00:30,  1.90s/it]\n"
     ]
    },
    {
     "name": "stdout",
     "output_type": "stream",
     "text": [
      "Initial validation NLL: 120.02\n"
     ]
    },
    {
     "name": "stderr",
     "output_type": "stream",
     "text": [
      "Epoch 1: 100%|██████████| 100/100 [00:44<00:00,  2.27it/s]\n",
      "Computing loss: 16it [00:00, 18.34it/s]\n"
     ]
    },
    {
     "name": "stdout",
     "output_type": "stream",
     "text": [
      "Epoch 1: validation NLL: 5.12\n"
     ]
    },
    {
     "name": "stderr",
     "output_type": "stream",
     "text": [
      "Epoch 2: 100%|██████████| 100/100 [00:13<00:00,  7.57it/s]\n",
      "Computing loss: 16it [00:00, 29.66it/s]\n"
     ]
    },
    {
     "name": "stdout",
     "output_type": "stream",
     "text": [
      "Epoch 2: validation NLL: 4.72\n"
     ]
    },
    {
     "name": "stderr",
     "output_type": "stream",
     "text": [
      "Epoch 3: 100%|██████████| 100/100 [00:12<00:00,  7.86it/s]\n",
      "Computing loss: 16it [00:00, 19.73it/s]\n"
     ]
    },
    {
     "name": "stdout",
     "output_type": "stream",
     "text": [
      "Epoch 3: validation NLL: 4.77\n"
     ]
    },
    {
     "name": "stderr",
     "output_type": "stream",
     "text": [
      "Epoch 4: 100%|██████████| 100/100 [00:12<00:00,  8.25it/s]\n",
      "Computing loss: 16it [00:00, 20.36it/s]\n"
     ]
    },
    {
     "name": "stdout",
     "output_type": "stream",
     "text": [
      "Epoch 4: validation NLL: 4.46\n"
     ]
    },
    {
     "name": "stderr",
     "output_type": "stream",
     "text": [
      "Epoch 5: 100%|██████████| 100/100 [00:12<00:00,  8.21it/s]\n",
      "Computing loss: 16it [00:00, 34.30it/s]\n"
     ]
    },
    {
     "name": "stdout",
     "output_type": "stream",
     "text": [
      "Epoch 5: validation NLL: 4.51\n"
     ]
    },
    {
     "name": "stderr",
     "output_type": "stream",
     "text": [
      "Epoch 6: 100%|██████████| 100/100 [00:12<00:00,  8.26it/s]\n",
      "Computing loss: 16it [00:00, 23.52it/s]\n"
     ]
    },
    {
     "name": "stdout",
     "output_type": "stream",
     "text": [
      "Epoch 6: validation NLL: 4.40\n"
     ]
    },
    {
     "name": "stderr",
     "output_type": "stream",
     "text": [
      "Epoch 7: 100%|██████████| 100/100 [00:11<00:00,  8.49it/s]\n",
      "Computing loss: 16it [00:00, 21.26it/s]\n"
     ]
    },
    {
     "name": "stdout",
     "output_type": "stream",
     "text": [
      "Epoch 7: validation NLL: 4.40\n"
     ]
    },
    {
     "name": "stderr",
     "output_type": "stream",
     "text": [
      "Epoch 8: 100%|██████████| 100/100 [00:11<00:00,  8.34it/s]\n",
      "Computing loss: 16it [00:00, 33.83it/s]\n"
     ]
    },
    {
     "name": "stdout",
     "output_type": "stream",
     "text": [
      "Epoch 8: validation NLL: 4.59\n"
     ]
    },
    {
     "name": "stderr",
     "output_type": "stream",
     "text": [
      "Epoch 9: 100%|██████████| 100/100 [00:12<00:00,  8.31it/s]\n",
      "Computing loss: 16it [00:00, 20.29it/s]\n"
     ]
    },
    {
     "name": "stdout",
     "output_type": "stream",
     "text": [
      "Epoch 9: validation NLL: 4.55\n"
     ]
    },
    {
     "name": "stderr",
     "output_type": "stream",
     "text": [
      "Epoch 10: 100%|██████████| 100/100 [00:11<00:00,  8.61it/s]\n",
      "Computing loss: 16it [00:00, 21.92it/s]\n"
     ]
    },
    {
     "name": "stdout",
     "output_type": "stream",
     "text": [
      "Epoch 10: validation NLL: 4.43\n"
     ]
    },
    {
     "name": "stderr",
     "output_type": "stream",
     "text": [
      "Epoch 11: 100%|██████████| 100/100 [00:11<00:00,  8.44it/s]\n",
      "Computing loss: 16it [00:00, 34.00it/s]\n"
     ]
    },
    {
     "name": "stdout",
     "output_type": "stream",
     "text": [
      "Epoch 11: validation NLL: 4.38\n"
     ]
    },
    {
     "name": "stderr",
     "output_type": "stream",
     "text": [
      "Epoch 12: 100%|██████████| 100/100 [00:12<00:00,  8.23it/s]\n",
      "Computing loss: 16it [00:00, 20.93it/s]\n"
     ]
    },
    {
     "name": "stdout",
     "output_type": "stream",
     "text": [
      "Epoch 12: validation NLL: 4.39\n"
     ]
    },
    {
     "name": "stderr",
     "output_type": "stream",
     "text": [
      "Epoch 13: 100%|██████████| 100/100 [00:11<00:00,  8.57it/s]\n",
      "Computing loss: 16it [00:00, 23.57it/s]\n"
     ]
    },
    {
     "name": "stdout",
     "output_type": "stream",
     "text": [
      "Epoch 13: validation NLL: 4.38\n"
     ]
    },
    {
     "name": "stderr",
     "output_type": "stream",
     "text": [
      "Epoch 14: 100%|██████████| 100/100 [00:12<00:00,  8.24it/s]\n",
      "Computing loss: 16it [00:00, 19.51it/s]\n"
     ]
    },
    {
     "name": "stdout",
     "output_type": "stream",
     "text": [
      "Epoch 14: validation NLL: 4.37\n"
     ]
    },
    {
     "name": "stderr",
     "output_type": "stream",
     "text": [
      "Epoch 15: 100%|██████████| 100/100 [00:11<00:00,  8.52it/s]\n",
      "Computing loss: 16it [00:00, 20.34it/s]\n"
     ]
    },
    {
     "name": "stdout",
     "output_type": "stream",
     "text": [
      "Epoch 15: validation NLL: 4.35\n"
     ]
    },
    {
     "name": "stderr",
     "output_type": "stream",
     "text": [
      "Epoch 16: 100%|██████████| 100/100 [00:11<00:00,  8.47it/s]\n",
      "Computing loss: 16it [00:00, 20.42it/s]\n"
     ]
    },
    {
     "name": "stdout",
     "output_type": "stream",
     "text": [
      "Epoch 16: validation NLL: 4.36\n"
     ]
    },
    {
     "name": "stderr",
     "output_type": "stream",
     "text": [
      "Epoch 17: 100%|██████████| 100/100 [00:12<00:00,  8.25it/s]\n",
      "Computing loss: 16it [00:00, 20.28it/s]\n"
     ]
    },
    {
     "name": "stdout",
     "output_type": "stream",
     "text": [
      "Epoch 17: validation NLL: 4.35\n"
     ]
    },
    {
     "name": "stderr",
     "output_type": "stream",
     "text": [
      "Epoch 18: 100%|██████████| 100/100 [00:11<00:00,  8.57it/s]\n",
      "Computing loss: 16it [00:00, 23.04it/s]\n"
     ]
    },
    {
     "name": "stdout",
     "output_type": "stream",
     "text": [
      "Epoch 18: validation NLL: 4.44\n"
     ]
    },
    {
     "name": "stderr",
     "output_type": "stream",
     "text": [
      "Epoch 19: 100%|██████████| 100/100 [00:11<00:00,  8.38it/s]\n",
      "Computing loss: 16it [00:00, 20.17it/s]\n"
     ]
    },
    {
     "name": "stdout",
     "output_type": "stream",
     "text": [
      "Epoch 19: validation NLL: 4.34\n"
     ]
    },
    {
     "name": "stderr",
     "output_type": "stream",
     "text": [
      "Epoch 20: 100%|██████████| 100/100 [00:11<00:00,  8.59it/s]\n",
      "Computing loss: 16it [00:00, 20.57it/s]\n"
     ]
    },
    {
     "name": "stdout",
     "output_type": "stream",
     "text": [
      "Epoch 20: validation NLL: 4.37\n"
     ]
    },
    {
     "name": "stderr",
     "output_type": "stream",
     "text": [
      "Epoch 21: 100%|██████████| 100/100 [00:11<00:00,  8.57it/s]\n",
      "Computing loss: 16it [00:00, 22.60it/s]\n"
     ]
    },
    {
     "name": "stdout",
     "output_type": "stream",
     "text": [
      "Epoch 21: validation NLL: 4.35\n"
     ]
    },
    {
     "name": "stderr",
     "output_type": "stream",
     "text": [
      "Epoch 22: 100%|██████████| 100/100 [00:12<00:00,  8.25it/s]\n",
      "Computing loss: 16it [00:00, 33.40it/s]\n"
     ]
    },
    {
     "name": "stdout",
     "output_type": "stream",
     "text": [
      "Epoch 22: validation NLL: 4.34\n"
     ]
    },
    {
     "name": "stderr",
     "output_type": "stream",
     "text": [
      "Epoch 23: 100%|██████████| 100/100 [00:12<00:00,  8.26it/s]\n",
      "Computing loss: 16it [00:00, 20.10it/s]\n"
     ]
    },
    {
     "name": "stdout",
     "output_type": "stream",
     "text": [
      "Epoch 23: validation NLL: 4.33\n"
     ]
    },
    {
     "name": "stderr",
     "output_type": "stream",
     "text": [
      "Epoch 24: 100%|██████████| 100/100 [00:11<00:00,  8.55it/s]\n",
      "Computing loss: 16it [00:00, 21.39it/s]\n"
     ]
    },
    {
     "name": "stdout",
     "output_type": "stream",
     "text": [
      "Epoch 24: validation NLL: 4.32\n"
     ]
    },
    {
     "name": "stderr",
     "output_type": "stream",
     "text": [
      "Epoch 25: 100%|██████████| 100/100 [00:11<00:00,  8.38it/s]\n",
      "Computing loss: 16it [00:00, 33.67it/s]\n"
     ]
    },
    {
     "name": "stdout",
     "output_type": "stream",
     "text": [
      "Epoch 25: validation NLL: 4.33\n"
     ]
    },
    {
     "name": "stderr",
     "output_type": "stream",
     "text": [
      "Epoch 26: 100%|██████████| 100/100 [00:11<00:00,  8.37it/s]\n",
      "Computing loss: 16it [00:00, 20.33it/s]\n"
     ]
    },
    {
     "name": "stdout",
     "output_type": "stream",
     "text": [
      "Epoch 26: validation NLL: 4.33\n"
     ]
    },
    {
     "name": "stderr",
     "output_type": "stream",
     "text": [
      "Epoch 27: 100%|██████████| 100/100 [00:11<00:00,  8.59it/s]\n",
      "Computing loss: 16it [00:00, 20.95it/s]\n"
     ]
    },
    {
     "name": "stdout",
     "output_type": "stream",
     "text": [
      "Epoch 27: validation NLL: 4.32\n"
     ]
    },
    {
     "name": "stderr",
     "output_type": "stream",
     "text": [
      "Epoch 28: 100%|██████████| 100/100 [00:11<00:00,  8.61it/s]\n",
      "Computing loss: 16it [00:00, 23.04it/s]\n"
     ]
    },
    {
     "name": "stdout",
     "output_type": "stream",
     "text": [
      "Epoch 28: validation NLL: 4.34\n"
     ]
    },
    {
     "name": "stderr",
     "output_type": "stream",
     "text": [
      "Epoch 29: 100%|██████████| 100/100 [00:12<00:00,  8.26it/s]\n",
      "Computing loss: 16it [00:00, 26.91it/s]\n"
     ]
    },
    {
     "name": "stdout",
     "output_type": "stream",
     "text": [
      "Epoch 29: validation NLL: 4.34\n"
     ]
    },
    {
     "name": "stderr",
     "output_type": "stream",
     "text": [
      "Epoch 30: 100%|██████████| 100/100 [00:12<00:00,  7.89it/s]\n",
      "Computing loss: 16it [00:00, 33.49it/s]\n"
     ]
    },
    {
     "name": "stdout",
     "output_type": "stream",
     "text": [
      "Epoch 30: validation NLL: 4.35\n"
     ]
    },
    {
     "name": "stderr",
     "output_type": "stream",
     "text": [
      "Epoch 31: 100%|██████████| 100/100 [00:13<00:00,  7.54it/s]\n",
      "Computing loss: 16it [00:00, 34.51it/s]\n"
     ]
    },
    {
     "name": "stdout",
     "output_type": "stream",
     "text": [
      "Epoch 31: validation NLL: 4.33\n"
     ]
    },
    {
     "name": "stderr",
     "output_type": "stream",
     "text": [
      "Epoch 32: 100%|██████████| 100/100 [00:12<00:00,  7.75it/s]\n",
      "Computing loss: 16it [00:00, 27.84it/s]\n"
     ]
    },
    {
     "name": "stdout",
     "output_type": "stream",
     "text": [
      "Epoch 32: validation NLL: 4.31\n"
     ]
    },
    {
     "name": "stderr",
     "output_type": "stream",
     "text": [
      "Epoch 33: 100%|██████████| 100/100 [00:12<00:00,  7.77it/s]\n",
      "Computing loss: 16it [00:00, 20.15it/s]\n"
     ]
    },
    {
     "name": "stdout",
     "output_type": "stream",
     "text": [
      "Epoch 33: validation NLL: 4.31\n"
     ]
    },
    {
     "name": "stderr",
     "output_type": "stream",
     "text": [
      "Epoch 34: 100%|██████████| 100/100 [00:12<00:00,  7.71it/s]\n",
      "Computing loss: 16it [00:00, 22.23it/s]\n"
     ]
    },
    {
     "name": "stdout",
     "output_type": "stream",
     "text": [
      "Epoch 34: validation NLL: 4.31\n"
     ]
    },
    {
     "name": "stderr",
     "output_type": "stream",
     "text": [
      "Epoch 35: 100%|██████████| 100/100 [00:12<00:00,  7.89it/s]\n",
      "Computing loss: 16it [00:00, 20.90it/s]\n"
     ]
    },
    {
     "name": "stdout",
     "output_type": "stream",
     "text": [
      "Epoch 35: validation NLL: 4.34\n"
     ]
    },
    {
     "name": "stderr",
     "output_type": "stream",
     "text": [
      "Epoch 36: 100%|██████████| 100/100 [00:12<00:00,  7.88it/s]\n",
      "Computing loss: 16it [00:00, 33.30it/s]\n"
     ]
    },
    {
     "name": "stdout",
     "output_type": "stream",
     "text": [
      "Epoch 36: validation NLL: 4.35\n"
     ]
    },
    {
     "name": "stderr",
     "output_type": "stream",
     "text": [
      "Epoch 37: 100%|██████████| 100/100 [00:13<00:00,  7.50it/s]\n",
      "Computing loss: 16it [00:00, 20.82it/s]\n"
     ]
    },
    {
     "name": "stdout",
     "output_type": "stream",
     "text": [
      "Epoch 37: validation NLL: 4.32\n"
     ]
    },
    {
     "name": "stderr",
     "output_type": "stream",
     "text": [
      "Epoch 38: 100%|██████████| 100/100 [00:13<00:00,  7.69it/s]\n",
      "Computing loss: 16it [00:00, 17.33it/s]\n"
     ]
    },
    {
     "name": "stdout",
     "output_type": "stream",
     "text": [
      "Epoch 38: validation NLL: 4.31\n"
     ]
    },
    {
     "name": "stderr",
     "output_type": "stream",
     "text": [
      "Epoch 39: 100%|██████████| 100/100 [00:12<00:00,  7.75it/s]\n",
      "Computing loss: 16it [00:00, 20.70it/s]\n"
     ]
    },
    {
     "name": "stdout",
     "output_type": "stream",
     "text": [
      "Epoch 39: validation NLL: 4.31\n"
     ]
    },
    {
     "name": "stderr",
     "output_type": "stream",
     "text": [
      "Epoch 40: 100%|██████████| 100/100 [00:12<00:00,  7.75it/s]\n",
      "Computing loss: 16it [00:00, 19.21it/s]\n"
     ]
    },
    {
     "name": "stdout",
     "output_type": "stream",
     "text": [
      "Epoch 40: validation NLL: 4.32\n"
     ]
    },
    {
     "name": "stderr",
     "output_type": "stream",
     "text": [
      "Epoch 41: 100%|██████████| 100/100 [00:12<00:00,  7.73it/s]\n",
      "Computing loss: 16it [00:00, 21.88it/s]\n"
     ]
    },
    {
     "name": "stdout",
     "output_type": "stream",
     "text": [
      "Epoch 41: validation NLL: 4.31\n"
     ]
    },
    {
     "name": "stderr",
     "output_type": "stream",
     "text": [
      "Epoch 42: 100%|██████████| 100/100 [00:12<00:00,  7.81it/s]\n",
      "Computing loss: 16it [00:00, 21.90it/s]\n"
     ]
    },
    {
     "name": "stdout",
     "output_type": "stream",
     "text": [
      "Epoch 42: validation NLL: 4.30\n"
     ]
    },
    {
     "name": "stderr",
     "output_type": "stream",
     "text": [
      "Epoch 43: 100%|██████████| 100/100 [00:12<00:00,  7.77it/s]\n",
      "Computing loss: 16it [00:00, 22.57it/s]\n"
     ]
    },
    {
     "name": "stdout",
     "output_type": "stream",
     "text": [
      "Epoch 43: validation NLL: 4.30\n"
     ]
    },
    {
     "name": "stderr",
     "output_type": "stream",
     "text": [
      "Epoch 44: 100%|██████████| 100/100 [00:13<00:00,  7.63it/s]\n",
      "Computing loss: 16it [00:00, 20.55it/s]\n"
     ]
    },
    {
     "name": "stdout",
     "output_type": "stream",
     "text": [
      "Epoch 44: validation NLL: 4.30\n"
     ]
    },
    {
     "name": "stderr",
     "output_type": "stream",
     "text": [
      "Epoch 45: 100%|██████████| 100/100 [00:12<00:00,  7.75it/s]\n",
      "Computing loss: 16it [00:00, 17.47it/s]\n"
     ]
    },
    {
     "name": "stdout",
     "output_type": "stream",
     "text": [
      "Epoch 45: validation NLL: 4.30\n"
     ]
    },
    {
     "name": "stderr",
     "output_type": "stream",
     "text": [
      "Epoch 46: 100%|██████████| 100/100 [00:12<00:00,  7.79it/s]\n",
      "Computing loss: 16it [00:00, 34.14it/s]\n"
     ]
    },
    {
     "name": "stdout",
     "output_type": "stream",
     "text": [
      "Epoch 46: validation NLL: 4.31\n"
     ]
    },
    {
     "name": "stderr",
     "output_type": "stream",
     "text": [
      "Epoch 47: 100%|██████████| 100/100 [00:12<00:00,  7.94it/s]\n",
      "Computing loss: 16it [00:00, 20.22it/s]\n"
     ]
    },
    {
     "name": "stdout",
     "output_type": "stream",
     "text": [
      "Epoch 47: validation NLL: 4.33\n"
     ]
    },
    {
     "name": "stderr",
     "output_type": "stream",
     "text": [
      "Epoch 48: 100%|██████████| 100/100 [00:12<00:00,  7.97it/s]\n",
      "Computing loss: 16it [00:00, 20.56it/s]\n"
     ]
    },
    {
     "name": "stdout",
     "output_type": "stream",
     "text": [
      "Epoch 48: validation NLL: 4.31\n"
     ]
    },
    {
     "name": "stderr",
     "output_type": "stream",
     "text": [
      "Epoch 49: 100%|██████████| 100/100 [00:12<00:00,  8.00it/s]\n",
      "Computing loss: 16it [00:00, 20.99it/s]\n"
     ]
    },
    {
     "name": "stdout",
     "output_type": "stream",
     "text": [
      "Epoch 49: validation NLL: 4.30\n"
     ]
    },
    {
     "name": "stderr",
     "output_type": "stream",
     "text": [
      "Epoch 50: 100%|██████████| 100/100 [00:12<00:00,  7.93it/s]\n",
      "Computing loss: 16it [00:00, 22.56it/s]\n"
     ]
    },
    {
     "name": "stdout",
     "output_type": "stream",
     "text": [
      "Epoch 50: validation NLL: 4.30\n"
     ]
    },
    {
     "name": "stderr",
     "output_type": "stream",
     "text": [
      "Epoch 51: 100%|██████████| 100/100 [00:12<00:00,  7.75it/s]\n",
      "Computing loss: 16it [00:00, 28.87it/s]\n"
     ]
    },
    {
     "name": "stdout",
     "output_type": "stream",
     "text": [
      "Epoch 51: validation NLL: 4.31\n"
     ]
    },
    {
     "name": "stderr",
     "output_type": "stream",
     "text": [
      "Epoch 52: 100%|██████████| 100/100 [00:13<00:00,  7.29it/s]\n",
      "Computing loss: 16it [00:00, 29.07it/s]\n"
     ]
    },
    {
     "name": "stdout",
     "output_type": "stream",
     "text": [
      "Epoch 52: validation NLL: 4.30\n"
     ]
    },
    {
     "name": "stderr",
     "output_type": "stream",
     "text": [
      "Epoch 53: 100%|██████████| 100/100 [00:13<00:00,  7.40it/s]\n",
      "Computing loss: 16it [00:00, 33.62it/s]\n"
     ]
    },
    {
     "name": "stdout",
     "output_type": "stream",
     "text": [
      "Epoch 53: validation NLL: 4.30\n"
     ]
    },
    {
     "name": "stderr",
     "output_type": "stream",
     "text": [
      "Epoch 54: 100%|██████████| 100/100 [00:12<00:00,  7.90it/s]\n",
      "Computing loss: 16it [00:00, 17.03it/s]\n"
     ]
    },
    {
     "name": "stdout",
     "output_type": "stream",
     "text": [
      "Epoch 54: validation NLL: 4.30\n"
     ]
    },
    {
     "name": "stderr",
     "output_type": "stream",
     "text": [
      "Epoch 55: 100%|██████████| 100/100 [00:13<00:00,  7.19it/s]\n",
      "Computing loss: 16it [00:00, 28.25it/s]\n"
     ]
    },
    {
     "name": "stdout",
     "output_type": "stream",
     "text": [
      "Epoch 55: validation NLL: 4.30\n"
     ]
    },
    {
     "name": "stderr",
     "output_type": "stream",
     "text": [
      "Epoch 56: 100%|██████████| 100/100 [00:13<00:00,  7.44it/s]\n",
      "Computing loss: 16it [00:01, 14.83it/s]\n"
     ]
    },
    {
     "name": "stdout",
     "output_type": "stream",
     "text": [
      "Epoch 56: validation NLL: 4.29\n"
     ]
    },
    {
     "name": "stderr",
     "output_type": "stream",
     "text": [
      "Epoch 57: 100%|██████████| 100/100 [00:13<00:00,  7.52it/s]\n",
      "Computing loss: 16it [00:00, 18.20it/s]\n"
     ]
    },
    {
     "name": "stdout",
     "output_type": "stream",
     "text": [
      "Epoch 57: validation NLL: 4.30\n"
     ]
    },
    {
     "name": "stderr",
     "output_type": "stream",
     "text": [
      "Epoch 58: 100%|██████████| 100/100 [00:13<00:00,  7.58it/s]\n",
      "Computing loss: 16it [00:00, 21.02it/s]\n"
     ]
    },
    {
     "name": "stdout",
     "output_type": "stream",
     "text": [
      "Epoch 58: validation NLL: 4.31\n"
     ]
    },
    {
     "name": "stderr",
     "output_type": "stream",
     "text": [
      "Epoch 59: 100%|██████████| 100/100 [00:13<00:00,  7.50it/s]\n",
      "Computing loss: 16it [00:00, 18.75it/s]\n"
     ]
    },
    {
     "name": "stdout",
     "output_type": "stream",
     "text": [
      "Epoch 59: validation NLL: 4.30\n"
     ]
    },
    {
     "name": "stderr",
     "output_type": "stream",
     "text": [
      "Epoch 60: 100%|██████████| 100/100 [00:13<00:00,  7.31it/s]\n",
      "Computing loss: 16it [00:00, 24.01it/s]\n"
     ]
    },
    {
     "name": "stdout",
     "output_type": "stream",
     "text": [
      "Epoch 60: validation NLL: 4.52\n"
     ]
    },
    {
     "name": "stderr",
     "output_type": "stream",
     "text": [
      "Epoch 61: 100%|██████████| 100/100 [00:13<00:00,  7.38it/s]\n",
      "Computing loss: 16it [00:00, 31.00it/s]\n"
     ]
    },
    {
     "name": "stdout",
     "output_type": "stream",
     "text": [
      "Epoch 61: validation NLL: 4.31\n"
     ]
    },
    {
     "name": "stderr",
     "output_type": "stream",
     "text": [
      "Epoch 62: 100%|██████████| 100/100 [00:13<00:00,  7.34it/s]\n",
      "Computing loss: 16it [00:00, 32.09it/s]\n"
     ]
    },
    {
     "name": "stdout",
     "output_type": "stream",
     "text": [
      "Epoch 62: validation NLL: 4.33\n"
     ]
    },
    {
     "name": "stderr",
     "output_type": "stream",
     "text": [
      "Epoch 63: 100%|██████████| 100/100 [00:13<00:00,  7.64it/s]\n",
      "Computing loss: 16it [00:00, 20.74it/s]\n"
     ]
    },
    {
     "name": "stdout",
     "output_type": "stream",
     "text": [
      "Epoch 63: validation NLL: 4.32\n"
     ]
    },
    {
     "name": "stderr",
     "output_type": "stream",
     "text": [
      "Epoch 64: 100%|██████████| 100/100 [00:12<00:00,  7.71it/s]\n",
      "Computing loss: 16it [00:00, 18.25it/s]\n"
     ]
    },
    {
     "name": "stdout",
     "output_type": "stream",
     "text": [
      "Epoch 64: validation NLL: 4.29\n"
     ]
    },
    {
     "name": "stderr",
     "output_type": "stream",
     "text": [
      "Epoch 65: 100%|██████████| 100/100 [00:13<00:00,  7.59it/s]\n",
      "Computing loss: 16it [00:00, 20.13it/s]\n"
     ]
    },
    {
     "name": "stdout",
     "output_type": "stream",
     "text": [
      "Epoch 65: validation NLL: 4.30\n"
     ]
    },
    {
     "name": "stderr",
     "output_type": "stream",
     "text": [
      "Epoch 66: 100%|██████████| 100/100 [00:12<00:00,  7.80it/s]\n",
      "Computing loss: 16it [00:00, 21.35it/s]\n"
     ]
    },
    {
     "name": "stdout",
     "output_type": "stream",
     "text": [
      "Epoch 66: validation NLL: 4.29\n"
     ]
    },
    {
     "name": "stderr",
     "output_type": "stream",
     "text": [
      "Epoch 67: 100%|██████████| 100/100 [00:13<00:00,  7.65it/s]\n",
      "Computing loss: 16it [00:00, 19.84it/s]\n"
     ]
    },
    {
     "name": "stdout",
     "output_type": "stream",
     "text": [
      "Epoch 67: validation NLL: 4.29\n"
     ]
    },
    {
     "name": "stderr",
     "output_type": "stream",
     "text": [
      "Epoch 68: 100%|██████████| 100/100 [00:12<00:00,  7.84it/s]\n",
      "Computing loss: 16it [00:00, 21.11it/s]\n"
     ]
    },
    {
     "name": "stdout",
     "output_type": "stream",
     "text": [
      "Epoch 68: validation NLL: 4.30\n"
     ]
    },
    {
     "name": "stderr",
     "output_type": "stream",
     "text": [
      "Epoch 69: 100%|██████████| 100/100 [00:12<00:00,  8.15it/s]\n",
      "Computing loss: 16it [00:00, 18.74it/s]\n"
     ]
    },
    {
     "name": "stdout",
     "output_type": "stream",
     "text": [
      "Epoch 69: validation NLL: 4.29\n"
     ]
    },
    {
     "name": "stderr",
     "output_type": "stream",
     "text": [
      "Epoch 70: 100%|██████████| 100/100 [00:12<00:00,  7.69it/s]\n",
      "Computing loss: 16it [00:00, 21.25it/s]\n"
     ]
    },
    {
     "name": "stdout",
     "output_type": "stream",
     "text": [
      "Epoch 70: validation NLL: 4.31\n"
     ]
    },
    {
     "name": "stderr",
     "output_type": "stream",
     "text": [
      "Epoch 71: 100%|██████████| 100/100 [00:11<00:00,  8.44it/s]\n",
      "Computing loss: 16it [00:00, 20.12it/s]\n"
     ]
    },
    {
     "name": "stdout",
     "output_type": "stream",
     "text": [
      "Epoch 71: validation NLL: 4.31\n"
     ]
    },
    {
     "name": "stderr",
     "output_type": "stream",
     "text": [
      "Epoch 72: 100%|██████████| 100/100 [00:13<00:00,  7.46it/s]\n",
      "Computing loss: 16it [00:00, 31.27it/s]\n"
     ]
    },
    {
     "name": "stdout",
     "output_type": "stream",
     "text": [
      "Epoch 72: validation NLL: 4.29\n"
     ]
    },
    {
     "name": "stderr",
     "output_type": "stream",
     "text": [
      "Epoch 73: 100%|██████████| 100/100 [00:12<00:00,  8.13it/s]\n",
      "Computing loss: 16it [00:00, 21.11it/s]\n"
     ]
    },
    {
     "name": "stdout",
     "output_type": "stream",
     "text": [
      "Epoch 73: validation NLL: 4.29\n"
     ]
    },
    {
     "name": "stderr",
     "output_type": "stream",
     "text": [
      "Epoch 74: 100%|██████████| 100/100 [00:12<00:00,  8.27it/s]\n",
      "Computing loss: 16it [00:00, 24.01it/s]\n"
     ]
    },
    {
     "name": "stdout",
     "output_type": "stream",
     "text": [
      "Epoch 74: validation NLL: 4.30\n"
     ]
    },
    {
     "name": "stderr",
     "output_type": "stream",
     "text": [
      "Epoch 75: 100%|██████████| 100/100 [00:13<00:00,  7.53it/s]\n",
      "Computing loss: 16it [00:00, 27.47it/s]\n"
     ]
    },
    {
     "name": "stdout",
     "output_type": "stream",
     "text": [
      "Epoch 75: validation NLL: 4.29\n"
     ]
    },
    {
     "name": "stderr",
     "output_type": "stream",
     "text": [
      "Epoch 76: 100%|██████████| 100/100 [00:12<00:00,  8.09it/s]\n",
      "Computing loss: 16it [00:00, 21.43it/s]\n"
     ]
    },
    {
     "name": "stdout",
     "output_type": "stream",
     "text": [
      "Epoch 76: validation NLL: 4.31\n"
     ]
    },
    {
     "name": "stderr",
     "output_type": "stream",
     "text": [
      "Epoch 77: 100%|██████████| 100/100 [00:11<00:00,  8.64it/s]\n",
      "Computing loss: 16it [00:00, 20.97it/s]\n"
     ]
    },
    {
     "name": "stdout",
     "output_type": "stream",
     "text": [
      "Epoch 77: validation NLL: 4.29\n"
     ]
    },
    {
     "name": "stderr",
     "output_type": "stream",
     "text": [
      "Epoch 78: 100%|██████████| 100/100 [00:11<00:00,  8.58it/s]\n",
      "Computing loss: 16it [00:00, 20.64it/s]\n"
     ]
    },
    {
     "name": "stdout",
     "output_type": "stream",
     "text": [
      "Epoch 78: validation NLL: 4.29\n"
     ]
    },
    {
     "name": "stderr",
     "output_type": "stream",
     "text": [
      "Epoch 79: 100%|██████████| 100/100 [00:11<00:00,  8.42it/s]\n",
      "Computing loss: 16it [00:00, 26.01it/s]\n"
     ]
    },
    {
     "name": "stdout",
     "output_type": "stream",
     "text": [
      "Epoch 79: validation NLL: 4.30\n"
     ]
    },
    {
     "name": "stderr",
     "output_type": "stream",
     "text": [
      "Epoch 80: 100%|██████████| 100/100 [00:11<00:00,  8.39it/s]\n",
      "Computing loss: 16it [00:00, 20.24it/s]\n"
     ]
    },
    {
     "name": "stdout",
     "output_type": "stream",
     "text": [
      "Epoch 80: validation NLL: 4.29\n"
     ]
    },
    {
     "name": "stderr",
     "output_type": "stream",
     "text": [
      "Epoch 81: 100%|██████████| 100/100 [00:11<00:00,  8.39it/s]\n",
      "Computing loss: 16it [00:00, 21.88it/s]\n"
     ]
    },
    {
     "name": "stdout",
     "output_type": "stream",
     "text": [
      "Epoch 81: validation NLL: 4.29\n"
     ]
    },
    {
     "name": "stderr",
     "output_type": "stream",
     "text": [
      "Epoch 82: 100%|██████████| 100/100 [00:11<00:00,  8.37it/s]\n",
      "Computing loss: 16it [00:00, 21.15it/s]\n"
     ]
    },
    {
     "name": "stdout",
     "output_type": "stream",
     "text": [
      "Epoch 82: validation NLL: 4.29\n"
     ]
    },
    {
     "name": "stderr",
     "output_type": "stream",
     "text": [
      "Epoch 83: 100%|██████████| 100/100 [00:11<00:00,  8.48it/s]\n",
      "Computing loss: 16it [00:00, 26.05it/s]\n"
     ]
    },
    {
     "name": "stdout",
     "output_type": "stream",
     "text": [
      "Epoch 83: validation NLL: 4.34\n"
     ]
    },
    {
     "name": "stderr",
     "output_type": "stream",
     "text": [
      "Epoch 84: 100%|██████████| 100/100 [00:11<00:00,  8.34it/s]\n",
      "Computing loss: 16it [00:00, 20.75it/s]\n"
     ]
    },
    {
     "name": "stdout",
     "output_type": "stream",
     "text": [
      "Epoch 84: validation NLL: 4.29\n"
     ]
    },
    {
     "name": "stderr",
     "output_type": "stream",
     "text": [
      "Epoch 85: 100%|██████████| 100/100 [00:11<00:00,  8.42it/s]\n",
      "Computing loss: 16it [00:00, 26.42it/s]\n"
     ]
    },
    {
     "name": "stdout",
     "output_type": "stream",
     "text": [
      "Epoch 85: validation NLL: 4.30\n"
     ]
    },
    {
     "name": "stderr",
     "output_type": "stream",
     "text": [
      "Epoch 86: 100%|██████████| 100/100 [00:11<00:00,  8.42it/s]\n",
      "Computing loss: 16it [00:00, 33.34it/s]\n"
     ]
    },
    {
     "name": "stdout",
     "output_type": "stream",
     "text": [
      "Epoch 86: validation NLL: 4.29\n"
     ]
    },
    {
     "name": "stderr",
     "output_type": "stream",
     "text": [
      "Epoch 87: 100%|██████████| 100/100 [00:11<00:00,  8.40it/s]\n",
      "Computing loss: 16it [00:00, 19.88it/s]\n"
     ]
    },
    {
     "name": "stdout",
     "output_type": "stream",
     "text": [
      "Epoch 87: validation NLL: 4.31\n"
     ]
    },
    {
     "name": "stderr",
     "output_type": "stream",
     "text": [
      "Epoch 88: 100%|██████████| 100/100 [00:12<00:00,  8.28it/s]\n",
      "Computing loss: 16it [00:00, 20.71it/s]\n"
     ]
    },
    {
     "name": "stdout",
     "output_type": "stream",
     "text": [
      "Epoch 88: validation NLL: 4.29\n"
     ]
    },
    {
     "name": "stderr",
     "output_type": "stream",
     "text": [
      "Epoch 89: 100%|██████████| 100/100 [00:11<00:00,  8.55it/s]\n",
      "Computing loss: 16it [00:00, 20.86it/s]\n"
     ]
    },
    {
     "name": "stdout",
     "output_type": "stream",
     "text": [
      "Epoch 89: validation NLL: 4.29\n"
     ]
    },
    {
     "name": "stderr",
     "output_type": "stream",
     "text": [
      "Epoch 90: 100%|██████████| 100/100 [00:11<00:00,  8.60it/s]\n",
      "Computing loss: 16it [00:00, 21.01it/s]\n"
     ]
    },
    {
     "name": "stdout",
     "output_type": "stream",
     "text": [
      "Epoch 90: validation NLL: 4.28\n"
     ]
    },
    {
     "name": "stderr",
     "output_type": "stream",
     "text": [
      "Epoch 91: 100%|██████████| 100/100 [00:11<00:00,  8.61it/s]\n",
      "Computing loss: 16it [00:00, 20.62it/s]\n"
     ]
    },
    {
     "name": "stdout",
     "output_type": "stream",
     "text": [
      "Epoch 91: validation NLL: 4.30\n"
     ]
    },
    {
     "name": "stderr",
     "output_type": "stream",
     "text": [
      "Epoch 92: 100%|██████████| 100/100 [00:11<00:00,  8.60it/s]\n",
      "Computing loss: 16it [00:00, 19.37it/s]\n"
     ]
    },
    {
     "name": "stdout",
     "output_type": "stream",
     "text": [
      "Epoch 92: validation NLL: 4.31\n"
     ]
    },
    {
     "name": "stderr",
     "output_type": "stream",
     "text": [
      "Epoch 93: 100%|██████████| 100/100 [00:11<00:00,  8.33it/s]\n",
      "Computing loss: 16it [00:00, 29.58it/s]\n"
     ]
    },
    {
     "name": "stdout",
     "output_type": "stream",
     "text": [
      "Epoch 93: validation NLL: 4.29\n"
     ]
    },
    {
     "name": "stderr",
     "output_type": "stream",
     "text": [
      "Epoch 94: 100%|██████████| 100/100 [00:11<00:00,  8.40it/s]\n",
      "Computing loss: 16it [00:00, 19.65it/s]\n"
     ]
    },
    {
     "name": "stdout",
     "output_type": "stream",
     "text": [
      "Epoch 94: validation NLL: 4.29\n"
     ]
    },
    {
     "name": "stderr",
     "output_type": "stream",
     "text": [
      "Epoch 95: 100%|██████████| 100/100 [00:12<00:00,  7.96it/s]\n",
      "Computing loss: 16it [00:00, 17.75it/s]\n"
     ]
    },
    {
     "name": "stdout",
     "output_type": "stream",
     "text": [
      "Epoch 95: validation NLL: 4.30\n"
     ]
    },
    {
     "name": "stderr",
     "output_type": "stream",
     "text": [
      "Epoch 96: 100%|██████████| 100/100 [00:13<00:00,  7.62it/s]\n",
      "Computing loss: 16it [00:00, 18.96it/s]\n"
     ]
    },
    {
     "name": "stdout",
     "output_type": "stream",
     "text": [
      "Epoch 96: validation NLL: 4.29\n"
     ]
    },
    {
     "name": "stderr",
     "output_type": "stream",
     "text": [
      "Epoch 97: 100%|██████████| 100/100 [00:11<00:00,  8.43it/s]\n",
      "Computing loss: 16it [00:00, 22.46it/s]\n"
     ]
    },
    {
     "name": "stdout",
     "output_type": "stream",
     "text": [
      "Epoch 97: validation NLL: 4.29\n"
     ]
    },
    {
     "name": "stderr",
     "output_type": "stream",
     "text": [
      "Epoch 98: 100%|██████████| 100/100 [00:12<00:00,  7.92it/s]\n",
      "Computing loss: 16it [00:00, 20.22it/s]\n"
     ]
    },
    {
     "name": "stdout",
     "output_type": "stream",
     "text": [
      "Epoch 98: validation NLL: 4.29\n"
     ]
    },
    {
     "name": "stderr",
     "output_type": "stream",
     "text": [
      "Epoch 99: 100%|██████████| 100/100 [00:12<00:00,  8.09it/s]\n",
      "Computing loss: 16it [00:00, 32.18it/s]\n"
     ]
    },
    {
     "name": "stdout",
     "output_type": "stream",
     "text": [
      "Epoch 99: validation NLL: 4.30\n"
     ]
    },
    {
     "name": "stderr",
     "output_type": "stream",
     "text": [
      "Epoch 100: 100%|██████████| 100/100 [00:12<00:00,  7.87it/s]\n",
      "Computing loss: 16it [00:00, 19.28it/s]\n"
     ]
    },
    {
     "name": "stdout",
     "output_type": "stream",
     "text": [
      "Epoch 100: validation NLL: 4.29\n"
     ]
    },
    {
     "name": "stderr",
     "output_type": "stream",
     "text": [
      "2023-10-25 11:48:52.958285: W external/xla/xla/service/gpu/conv_algorithm_picker.cc:808] None of the algorithms provided by cuDNN heuristics worked; trying fallback algorithms.\n",
      "2023-10-25 11:48:52.958340: W external/xla/xla/service/gpu/conv_algorithm_picker.cc:811] Conv: (f64[32,128,50,50]{3,2,1,0}, u8[0]{0}) custom-call(f64[32,64,50,50]{3,2,1,0}, f64[128,64,3,3]{3,2,1,0}, f64[128]{0}), window={size=3x3 pad=1_1x1_1}, dim_labels=bf01_oi01->bf01, custom_call_target=\"__cudnn$convBiasActivationForward\", backend_config={\"conv_result_scale\":1,\"activation_mode\":\"kNone\",\"side_input_scale\":0,\"leakyrelu_alpha\":0}\n",
      "2023-10-25 11:49:02.259687: W external/xla/xla/service/gpu/conv_algorithm_picker.cc:808] None of the algorithms provided by cuDNN heuristics worked; trying fallback algorithms.\n",
      "2023-10-25 11:49:02.260278: W external/xla/xla/service/gpu/conv_algorithm_picker.cc:811] Conv: (f64[32,128,50,50]{3,2,1,0}, u8[0]{0}) custom-call(f64[32,64,50,50]{3,2,1,0}, f64[128,64,1,3]{3,2,1,0}, f64[128]{0}, f64[32,128,50,50]{3,2,1,0}), window={size=1x3 pad=0_0x1_1}, dim_labels=bf01_oi01->bf01, custom_call_target=\"__cudnn$convBiasActivationForward\", backend_config={\"conv_result_scale\":1,\"activation_mode\":\"kNone\",\"side_input_scale\":1,\"leakyrelu_alpha\":0}\n",
      "2023-10-25 11:49:13.210968: W external/xla/xla/service/gpu/conv_algorithm_picker.cc:808] None of the algorithms provided by cuDNN heuristics worked; trying fallback algorithms.\n",
      "2023-10-25 11:49:13.211626: W external/xla/xla/service/gpu/conv_algorithm_picker.cc:811] Conv: (f64[31,128,50,50]{3,2,1,0}, u8[0]{0}) custom-call(f64[31,64,50,50]{3,2,1,0}, f64[128,64,3,3]{3,2,1,0}, f64[128]{0}), window={size=3x3 pad=1_1x1_1}, dim_labels=bf01_oi01->bf01, custom_call_target=\"__cudnn$convBiasActivationForward\", backend_config={\"conv_result_scale\":1,\"activation_mode\":\"kNone\",\"side_input_scale\":0,\"leakyrelu_alpha\":0}\n",
      "2023-10-25 11:49:22.071465: W external/xla/xla/service/gpu/conv_algorithm_picker.cc:808] None of the algorithms provided by cuDNN heuristics worked; trying fallback algorithms.\n",
      "2023-10-25 11:49:22.071537: W external/xla/xla/service/gpu/conv_algorithm_picker.cc:811] Conv: (f64[31,128,50,50]{3,2,1,0}, u8[0]{0}) custom-call(f64[31,64,50,50]{3,2,1,0}, f64[128,64,1,3]{3,2,1,0}, f64[128]{0}, f64[31,128,50,50]{3,2,1,0}), window={size=1x3 pad=0_0x1_1}, dim_labels=bf01_oi01->bf01, custom_call_target=\"__cudnn$convBiasActivationForward\", backend_config={\"conv_result_scale\":1,\"activation_mode\":\"kNone\",\"side_input_scale\":1,\"leakyrelu_alpha\":0}\n",
      "Computing loss: 100%|██████████| 32/32 [00:46<00:00,  1.45s/it]\n"
     ]
    },
    {
     "name": "stdout",
     "output_type": "stream",
     "text": [
      "Estimated H(Y|X) = 4.368 differential entropy/pixel\n",
      "Estimated H(Y) (upper bound) = 4.289 differential entropy/pixel\n",
      "Estimated I(Y;X) = -0.114 bits/pixel\n"
     ]
    },
    {
     "name": "stderr",
     "output_type": "stream",
     "text": [
      "Computing loss: 100%|██████████| 32/32 [00:11<00:00,  2.80it/s]\n",
      "100%|██████████| 8/8 [1:58:52<00:00, 891.59s/it] \n"
     ]
    }
   ],
   "source": [
    "patch_sizes = [1, 2, 3, 5, 10, 20, 35, 50]\n",
    "\n",
    "# load train and test patches corresponding to the biggest patch size\n",
    "patches = extract_patches(images, patch_sizes[-1], num_patches=num_patches, seed=0, verbose=True)\n",
    "test_patches = extract_patches(test_images, patch_sizes[-1], num_patches=num_test_images, seed=0, verbose=True)\n",
    "\n",
    "stationary_gp_models = {}\n",
    "pixel_cnn_models = {}\n",
    "test_set_NLL_gp = {}\n",
    "test_set_NLL_pixel_cnn = {}\n",
    "mi_estimates_gp = {}\n",
    "mi_estimates_pixel_cnn = {}\n",
    "for patch_size in tqdm(patch_sizes):\n",
    "    # take a random sub crop from the patchs\n",
    "    subpatches = extract_patches(patches, patch_size, num_patches=num_patches, seed=0, verbose=False)\n",
    "    test_subpatches = extract_patches(test_patches, patch_size, num_patches=num_test_images, seed=0, verbose=False)\n",
    "\n",
    "\n",
    "    mi_estimates_gp[patch_size], stationary_gp_models[patch_size] = estimate_mutual_information(\n",
    "        subpatches, eigenvalue_floor=eigenvalue_floor, use_iterative_optimization=True, return_entropy_model=True,\n",
    "        verbose=True)\n",
    "    test_set_NLL_gp[patch_size] = stationary_gp_models[patch_size].compute_negative_log_likelihood(test_subpatches)\n",
    "\n",
    "    mi_estimates_pixel_cnn[patch_size], pixel_cnn_models[patch_size] = estimate_mutual_information(\n",
    "        subpatches, entropy_model='pixelcnn', return_entropy_model=True, verbose=True)\n",
    "    test_set_NLL_pixel_cnn[patch_size] = pixel_cnn_models[patch_size].compute_negative_log_likelihood(test_subpatches)\n"
   ]
  },
  {
   "cell_type": "code",
   "execution_count": 7,
   "metadata": {},
   "outputs": [
    {
     "name": "stderr",
     "output_type": "stream",
     "text": [
      "precomputing masks and variances:  61%|██████▏   | 49/80 [03:11<02:01,  3.90s/it]\n",
      "  0%|          | 0/8 [03:11<?, ?it/s]\n"
     ]
    },
    {
     "ename": "KeyboardInterrupt",
     "evalue": "",
     "output_type": "error",
     "traceback": [
      "\u001b[0;31m---------------------------------------------------------------------------\u001b[0m",
      "\u001b[0;31mKeyboardInterrupt\u001b[0m                         Traceback (most recent call last)",
      "\u001b[1;32m/home/hpinkard_waller/GitRepos/EncodingInformation/mi_estimator_experiments/_patch_size_and_fit_quality.ipynb Cell 5\u001b[0m line \u001b[0;36m1\n\u001b[1;32m      <a href='vscode-notebook-cell://ssh-remote%2Bwaller-fuoco.eecs.berkeley.edu/home/hpinkard_waller/GitRepos/EncodingInformation/mi_estimator_experiments/_patch_size_and_fit_quality.ipynb#W4sdnNjb2RlLXJlbW90ZQ%3D%3D?line=6'>7</a>\u001b[0m     samples[patch_size] \u001b[39m=\u001b[39m {}\n\u001b[1;32m      <a href='vscode-notebook-cell://ssh-remote%2Bwaller-fuoco.eecs.berkeley.edu/home/hpinkard_waller/GitRepos/EncodingInformation/mi_estimator_experiments/_patch_size_and_fit_quality.ipynb#W4sdnNjb2RlLXJlbW90ZQ%3D%3D?line=7'>8</a>\u001b[0m     \u001b[39mfor\u001b[39;00m model, name \u001b[39min\u001b[39;00m \u001b[39mzip\u001b[39m([stationary_gp_models[patch_size], pixel_cnn_models[patch_size]],\n\u001b[1;32m      <a href='vscode-notebook-cell://ssh-remote%2Bwaller-fuoco.eecs.berkeley.edu/home/hpinkard_waller/GitRepos/EncodingInformation/mi_estimator_experiments/_patch_size_and_fit_quality.ipynb#W4sdnNjb2RlLXJlbW90ZQ%3D%3D?line=8'>9</a>\u001b[0m                            [\u001b[39m'\u001b[39m\u001b[39mGP\u001b[39m\u001b[39m'\u001b[39m, \u001b[39m'\u001b[39m\u001b[39mPixelCNN\u001b[39m\u001b[39m'\u001b[39m]):\n\u001b[0;32m---> <a href='vscode-notebook-cell://ssh-remote%2Bwaller-fuoco.eecs.berkeley.edu/home/hpinkard_waller/GitRepos/EncodingInformation/mi_estimator_experiments/_patch_size_and_fit_quality.ipynb#W4sdnNjb2RlLXJlbW90ZQ%3D%3D?line=9'>10</a>\u001b[0m         samples[patch_size][name] \u001b[39m=\u001b[39m model\u001b[39m.\u001b[39;49mgenerate_samples(num_samples\u001b[39m=\u001b[39;49mnum_samples, sample_size\u001b[39m=\u001b[39;49msample_size, seed\u001b[39m=\u001b[39;49m\u001b[39mNone\u001b[39;49;00m)\n\u001b[1;32m     <a href='vscode-notebook-cell://ssh-remote%2Bwaller-fuoco.eecs.berkeley.edu/home/hpinkard_waller/GitRepos/EncodingInformation/mi_estimator_experiments/_patch_size_and_fit_quality.ipynb#W4sdnNjb2RlLXJlbW90ZQ%3D%3D?line=11'>12</a>\u001b[0m \u001b[39mfor\u001b[39;00m model_name \u001b[39min\u001b[39;00m [\u001b[39m'\u001b[39m\u001b[39mGP\u001b[39m\u001b[39m'\u001b[39m, \u001b[39m'\u001b[39m\u001b[39mPixelCNN\u001b[39m\u001b[39m'\u001b[39m]:\n\u001b[1;32m     <a href='vscode-notebook-cell://ssh-remote%2Bwaller-fuoco.eecs.berkeley.edu/home/hpinkard_waller/GitRepos/EncodingInformation/mi_estimator_experiments/_patch_size_and_fit_quality.ipynb#W4sdnNjb2RlLXJlbW90ZQ%3D%3D?line=12'>13</a>\u001b[0m     fig, axs \u001b[39m=\u001b[39m plt\u001b[39m.\u001b[39msubplots(num_samples, \u001b[39mlen\u001b[39m(patch_sizes) \u001b[39m+\u001b[39m \u001b[39m1\u001b[39m, figsize\u001b[39m=\u001b[39m( \u001b[39mlen\u001b[39m(patch_sizes), num_samples ), sharex\u001b[39m=\u001b[39m\u001b[39mTrue\u001b[39;00m, sharey\u001b[39m=\u001b[39m\u001b[39mTrue\u001b[39;00m)\n",
      "File \u001b[0;32m~/GitRepos/EncodingInformation/encoding_information/models/gaussian_process.py:542\u001b[0m, in \u001b[0;36mStationaryGaussianProcess.generate_samples\u001b[0;34m(self, num_samples, sample_size, ensure_nonnegative, seed, verbose)\u001b[0m\n\u001b[1;32m    540\u001b[0m eig_vals, eig_vecs, mean_vec \u001b[39m=\u001b[39m \u001b[39mself\u001b[39m\u001b[39m.\u001b[39m_get_current_params()\n\u001b[1;32m    541\u001b[0m cov_mat \u001b[39m=\u001b[39m eig_vecs \u001b[39m@\u001b[39m np\u001b[39m.\u001b[39mdiag(eig_vals) \u001b[39m@\u001b[39m eig_vecs\u001b[39m.\u001b[39mT\n\u001b[0;32m--> 542\u001b[0m samples \u001b[39m=\u001b[39m generate_stationary_gaussian_process_samples( \n\u001b[1;32m    543\u001b[0m             mean_vec, cov_mat, num_samples, sample_size, ensure_nonnegative\u001b[39m=\u001b[39;49mensure_nonnegative, seed\u001b[39m=\u001b[39;49mseed, verbose\u001b[39m=\u001b[39;49mverbose)\n\u001b[1;32m    544\u001b[0m \u001b[39mreturn\u001b[39;00m samples\n",
      "File \u001b[0;32m~/GitRepos/EncodingInformation/encoding_information/models/gaussian_process.py:267\u001b[0m, in \u001b[0;36mgenerate_stationary_gaussian_process_samples\u001b[0;34m(mean_vec, cov_mat, num_samples, sample_size, ensure_nonnegative, prefer_iterative_sampling, seed, verbose)\u001b[0m\n\u001b[1;32m    265\u001b[0m pixel_to_predict_index \u001b[39m=\u001b[39m np\u001b[39m.\u001b[39mmin(np\u001b[39m.\u001b[39marray([i, patch_size \u001b[39m-\u001b[39m \u001b[39m1\u001b[39m])) \u001b[39m*\u001b[39m patch_size \u001b[39m+\u001b[39m np\u001b[39m.\u001b[39mmin(np\u001b[39m.\u001b[39marray([j, patch_size \u001b[39m-\u001b[39m \u001b[39m1\u001b[39m]))\n\u001b[1;32m    266\u001b[0m sigma_11 \u001b[39m=\u001b[39m cov_mat[vectorized_mask][:, vectorized_mask]\u001b[39m.\u001b[39mreshape(pixel_to_predict_index, pixel_to_predict_index) \n\u001b[0;32m--> 267\u001b[0m sigma_12 \u001b[39m=\u001b[39m cov_mat[vectorized_mask][:, pixel_to_predict_index]\u001b[39m.\u001b[39mreshape(\u001b[39m-\u001b[39m\u001b[39m1\u001b[39m, \u001b[39m1\u001b[39m)\n\u001b[1;32m    268\u001b[0m sigma_21 \u001b[39m=\u001b[39m sigma_12\u001b[39m.\u001b[39mreshape(\u001b[39m1\u001b[39m, \u001b[39m-\u001b[39m\u001b[39m1\u001b[39m)\n\u001b[1;32m    269\u001b[0m sigma_22 \u001b[39m=\u001b[39m cov_mat[pixel_to_predict_index, pixel_to_predict_index]\u001b[39m.\u001b[39mreshape(\u001b[39m1\u001b[39m, \u001b[39m1\u001b[39m)\n",
      "File \u001b[0;32m~/mambaforge/envs/phenotypes/lib/python3.10/site-packages/jax/_src/array.py:323\u001b[0m, in \u001b[0;36mArrayImpl.__getitem__\u001b[0;34m(self, idx)\u001b[0m\n\u001b[1;32m    321\u001b[0m   \u001b[39mreturn\u001b[39;00m lax_numpy\u001b[39m.\u001b[39m_rewriting_take(\u001b[39mself\u001b[39m, idx)\n\u001b[1;32m    322\u001b[0m \u001b[39melse\u001b[39;00m:\n\u001b[0;32m--> 323\u001b[0m   \u001b[39mreturn\u001b[39;00m lax_numpy\u001b[39m.\u001b[39;49m_rewriting_take(\u001b[39mself\u001b[39;49m, idx)\n",
      "File \u001b[0;32m~/mambaforge/envs/phenotypes/lib/python3.10/site-packages/jax/_src/numpy/lax_numpy.py:4323\u001b[0m, in \u001b[0;36m_rewriting_take\u001b[0;34m(arr, idx, indices_are_sorted, unique_indices, mode, fill_value)\u001b[0m\n\u001b[1;32m   4320\u001b[0m       \u001b[39mreturn\u001b[39;00m lax\u001b[39m.\u001b[39mdynamic_index_in_dim(arr, idx, keepdims\u001b[39m=\u001b[39m\u001b[39mFalse\u001b[39;00m)\n\u001b[1;32m   4322\u001b[0m treedef, static_idx, dynamic_idx \u001b[39m=\u001b[39m _split_index_for_jit(idx, arr\u001b[39m.\u001b[39mshape)\n\u001b[0;32m-> 4323\u001b[0m \u001b[39mreturn\u001b[39;00m _gather(arr, treedef, static_idx, dynamic_idx, indices_are_sorted,\n\u001b[1;32m   4324\u001b[0m                unique_indices, mode, fill_value)\n",
      "File \u001b[0;32m~/mambaforge/envs/phenotypes/lib/python3.10/site-packages/jax/_src/numpy/lax_numpy.py:4332\u001b[0m, in \u001b[0;36m_gather\u001b[0;34m(arr, treedef, static_idx, dynamic_idx, indices_are_sorted, unique_indices, mode, fill_value)\u001b[0m\n\u001b[1;32m   4329\u001b[0m \u001b[39mdef\u001b[39;00m \u001b[39m_gather\u001b[39m(arr, treedef, static_idx, dynamic_idx, indices_are_sorted,\n\u001b[1;32m   4330\u001b[0m             unique_indices, mode, fill_value):\n\u001b[1;32m   4331\u001b[0m   idx \u001b[39m=\u001b[39m _merge_static_and_dynamic_indices(treedef, static_idx, dynamic_idx)\n\u001b[0;32m-> 4332\u001b[0m   indexer \u001b[39m=\u001b[39m _index_to_gather(shape(arr), idx)  \u001b[39m# shared with _scatter_update\u001b[39;00m\n\u001b[1;32m   4333\u001b[0m   y \u001b[39m=\u001b[39m arr\n\u001b[1;32m   4335\u001b[0m   \u001b[39mif\u001b[39;00m fill_value \u001b[39mis\u001b[39;00m \u001b[39mnot\u001b[39;00m \u001b[39mNone\u001b[39;00m:\n",
      "File \u001b[0;32m~/mambaforge/envs/phenotypes/lib/python3.10/site-packages/jax/_src/numpy/lax_numpy.py:4459\u001b[0m, in \u001b[0;36m_index_to_gather\u001b[0;34m(x_shape, idx, normalize_indices)\u001b[0m\n\u001b[1;32m   4456\u001b[0m   \u001b[39mif\u001b[39;00m normalize_indices:\n\u001b[1;32m   4457\u001b[0m     advanced_pairs \u001b[39m=\u001b[39m ((_normalize_index(e, x_shape[j]), i, j)\n\u001b[1;32m   4458\u001b[0m                       \u001b[39mfor\u001b[39;00m e, i, j \u001b[39min\u001b[39;00m advanced_pairs)\n\u001b[0;32m-> 4459\u001b[0m   advanced_indexes, idx_advanced_axes, x_advanced_axes \u001b[39m=\u001b[39m \u001b[39mzip\u001b[39;49m(\u001b[39m*\u001b[39;49madvanced_pairs)\n\u001b[1;32m   4460\u001b[0m   advanced_axes_are_contiguous \u001b[39m=\u001b[39m \u001b[39mbool\u001b[39m(np\u001b[39m.\u001b[39mall(np\u001b[39m.\u001b[39mdiff(idx_advanced_axes) \u001b[39m==\u001b[39m \u001b[39m1\u001b[39m))\n\u001b[1;32m   4462\u001b[0m x_axis \u001b[39m=\u001b[39m \u001b[39m0\u001b[39m  \u001b[39m# Current axis in x.\u001b[39;00m\n",
      "File \u001b[0;32m~/mambaforge/envs/phenotypes/lib/python3.10/site-packages/jax/_src/numpy/lax_numpy.py:4457\u001b[0m, in \u001b[0;36m<genexpr>\u001b[0;34m(.0)\u001b[0m\n\u001b[1;32m   4453\u001b[0m advanced_pairs \u001b[39m=\u001b[39m (\n\u001b[1;32m   4454\u001b[0m   (asarray(e), i, j) \u001b[39mfor\u001b[39;00m j, (i, e) \u001b[39min\u001b[39;00m \u001b[39menumerate\u001b[39m(idx_no_nones)\n\u001b[1;32m   4455\u001b[0m   \u001b[39mif\u001b[39;00m isscalar(e) \u001b[39mor\u001b[39;00m \u001b[39misinstance\u001b[39m(e, (Sequence, Array, np\u001b[39m.\u001b[39mndarray)))\n\u001b[1;32m   4456\u001b[0m \u001b[39mif\u001b[39;00m normalize_indices:\n\u001b[0;32m-> 4457\u001b[0m   advanced_pairs \u001b[39m=\u001b[39m ((_normalize_index(e, x_shape[j]), i, j)\n\u001b[1;32m   4458\u001b[0m                     \u001b[39mfor\u001b[39;00m e, i, j \u001b[39min\u001b[39;00m advanced_pairs)\n\u001b[1;32m   4459\u001b[0m advanced_indexes, idx_advanced_axes, x_advanced_axes \u001b[39m=\u001b[39m \u001b[39mzip\u001b[39m(\u001b[39m*\u001b[39madvanced_pairs)\n\u001b[1;32m   4460\u001b[0m advanced_axes_are_contiguous \u001b[39m=\u001b[39m \u001b[39mbool\u001b[39m(np\u001b[39m.\u001b[39mall(np\u001b[39m.\u001b[39mdiff(idx_advanced_axes) \u001b[39m==\u001b[39m \u001b[39m1\u001b[39m))\n",
      "File \u001b[0;32m~/mambaforge/envs/phenotypes/lib/python3.10/site-packages/jax/_src/numpy/lax_numpy.py:4093\u001b[0m, in \u001b[0;36m_normalize_index\u001b[0;34m(index, axis_size)\u001b[0m\n\u001b[1;32m   4091\u001b[0m   \u001b[39mreturn\u001b[39;00m lax\u001b[39m.\u001b[39madd(index, axis_size_val) \u001b[39mif\u001b[39;00m index \u001b[39m<\u001b[39m \u001b[39m0\u001b[39m \u001b[39melse\u001b[39;00m index\n\u001b[1;32m   4092\u001b[0m \u001b[39melse\u001b[39;00m:\n\u001b[0;32m-> 4093\u001b[0m   \u001b[39mreturn\u001b[39;00m lax\u001b[39m.\u001b[39;49mselect(index \u001b[39m<\u001b[39;49m \u001b[39m0\u001b[39;49m, lax\u001b[39m.\u001b[39;49madd(index, axis_size_val), index)\n",
      "File \u001b[0;32m~/mambaforge/envs/phenotypes/lib/python3.10/site-packages/jax/_src/lax/lax.py:920\u001b[0m, in \u001b[0;36mselect\u001b[0;34m(pred, on_true, on_false)\u001b[0m\n\u001b[1;32m    898\u001b[0m \u001b[39m\"\"\"Selects between two branches based on a boolean predicate.\u001b[39;00m\n\u001b[1;32m    899\u001b[0m \n\u001b[1;32m    900\u001b[0m \u001b[39mWraps XLA's `Select\u001b[39;00m\n\u001b[0;32m   (...)\u001b[0m\n\u001b[1;32m    916\u001b[0m \u001b[39m  result: array with same shape and dtype as ``on_true`` and ``on_false``.\u001b[39;00m\n\u001b[1;32m    917\u001b[0m \u001b[39m\"\"\"\u001b[39;00m\n\u001b[1;32m    918\u001b[0m \u001b[39m# Caution! The select_n_p primitive has the *opposite* order of arguments to\u001b[39;00m\n\u001b[1;32m    919\u001b[0m \u001b[39m# select(). This is because it implements `select_n`.\u001b[39;00m\n\u001b[0;32m--> 920\u001b[0m \u001b[39mreturn\u001b[39;00m select_n_p\u001b[39m.\u001b[39;49mbind(pred, on_false, on_true)\n",
      "File \u001b[0;32m~/mambaforge/envs/phenotypes/lib/python3.10/site-packages/jax/_src/core.py:386\u001b[0m, in \u001b[0;36mPrimitive.bind\u001b[0;34m(self, *args, **params)\u001b[0m\n\u001b[1;32m    383\u001b[0m \u001b[39mdef\u001b[39;00m \u001b[39mbind\u001b[39m(\u001b[39mself\u001b[39m, \u001b[39m*\u001b[39margs, \u001b[39m*\u001b[39m\u001b[39m*\u001b[39mparams):\n\u001b[1;32m    384\u001b[0m   \u001b[39massert\u001b[39;00m (\u001b[39mnot\u001b[39;00m config\u001b[39m.\u001b[39mjax_enable_checks \u001b[39mor\u001b[39;00m\n\u001b[1;32m    385\u001b[0m           \u001b[39mall\u001b[39m(\u001b[39misinstance\u001b[39m(arg, Tracer) \u001b[39mor\u001b[39;00m valid_jaxtype(arg) \u001b[39mfor\u001b[39;00m arg \u001b[39min\u001b[39;00m args)), args\n\u001b[0;32m--> 386\u001b[0m   \u001b[39mreturn\u001b[39;00m \u001b[39mself\u001b[39;49m\u001b[39m.\u001b[39;49mbind_with_trace(find_top_trace(args), args, params)\n",
      "File \u001b[0;32m~/mambaforge/envs/phenotypes/lib/python3.10/site-packages/jax/_src/core.py:389\u001b[0m, in \u001b[0;36mPrimitive.bind_with_trace\u001b[0;34m(self, trace, args, params)\u001b[0m\n\u001b[1;32m    388\u001b[0m \u001b[39mdef\u001b[39;00m \u001b[39mbind_with_trace\u001b[39m(\u001b[39mself\u001b[39m, trace, args, params):\n\u001b[0;32m--> 389\u001b[0m   out \u001b[39m=\u001b[39m trace\u001b[39m.\u001b[39;49mprocess_primitive(\u001b[39mself\u001b[39;49m, \u001b[39mmap\u001b[39;49m(trace\u001b[39m.\u001b[39;49mfull_raise, args), params)\n\u001b[1;32m    390\u001b[0m   \u001b[39mreturn\u001b[39;00m \u001b[39mmap\u001b[39m(full_lower, out) \u001b[39mif\u001b[39;00m \u001b[39mself\u001b[39m\u001b[39m.\u001b[39mmultiple_results \u001b[39melse\u001b[39;00m full_lower(out)\n",
      "File \u001b[0;32m~/mambaforge/envs/phenotypes/lib/python3.10/site-packages/jax/_src/core.py:869\u001b[0m, in \u001b[0;36mEvalTrace.process_primitive\u001b[0;34m(self, primitive, tracers, params)\u001b[0m\n\u001b[1;32m    868\u001b[0m \u001b[39mdef\u001b[39;00m \u001b[39mprocess_primitive\u001b[39m(\u001b[39mself\u001b[39m, primitive, tracers, params):\n\u001b[0;32m--> 869\u001b[0m   \u001b[39mreturn\u001b[39;00m primitive\u001b[39m.\u001b[39;49mimpl(\u001b[39m*\u001b[39;49mtracers, \u001b[39m*\u001b[39;49m\u001b[39m*\u001b[39;49mparams)\n",
      "File \u001b[0;32m~/mambaforge/envs/phenotypes/lib/python3.10/site-packages/jax/_src/dispatch.py:127\u001b[0m, in \u001b[0;36mapply_primitive\u001b[0;34m(prim, *args, **params)\u001b[0m\n\u001b[1;32m    125\u001b[0m \u001b[39mtry\u001b[39;00m:\n\u001b[1;32m    126\u001b[0m   in_avals, in_shardings \u001b[39m=\u001b[39m util\u001b[39m.\u001b[39munzip2([_arg_spec(a) \u001b[39mfor\u001b[39;00m a \u001b[39min\u001b[39;00m args])\n\u001b[0;32m--> 127\u001b[0m   in_tree \u001b[39m=\u001b[39m tree_util\u001b[39m.\u001b[39;49mtree_structure(args)\n\u001b[1;32m    128\u001b[0m   compiled_fun \u001b[39m=\u001b[39m xla_primitive_callable(\n\u001b[1;32m    129\u001b[0m       prim, in_avals, in_tree, OrigShardings(in_shardings), \u001b[39m*\u001b[39m\u001b[39m*\u001b[39mparams)\n\u001b[1;32m    130\u001b[0m \u001b[39mexcept\u001b[39;00m pxla\u001b[39m.\u001b[39mDeviceAssignmentMismatchError \u001b[39mas\u001b[39;00m e:\n",
      "File \u001b[0;32m~/mambaforge/envs/phenotypes/lib/python3.10/site-packages/jax/_src/tree_util.py:114\u001b[0m, in \u001b[0;36mtree_structure\u001b[0;34m(tree, is_leaf)\u001b[0m\n\u001b[1;32m    110\u001b[0m \u001b[39mdef\u001b[39;00m \u001b[39mtree_structure\u001b[39m(tree: Any,\n\u001b[1;32m    111\u001b[0m                    is_leaf: \u001b[39mNone\u001b[39;00m \u001b[39m|\u001b[39m (Callable[[Any],\n\u001b[1;32m    112\u001b[0m                                               \u001b[39mbool\u001b[39m]) \u001b[39m=\u001b[39m \u001b[39mNone\u001b[39;00m) \u001b[39m-\u001b[39m\u001b[39m>\u001b[39m PyTreeDef:\n\u001b[1;32m    113\u001b[0m   \u001b[39m\"\"\"Gets the treedef for a pytree.\"\"\"\u001b[39;00m\n\u001b[0;32m--> 114\u001b[0m   \u001b[39mreturn\u001b[39;00m default_registry\u001b[39m.\u001b[39;49mflatten(tree, is_leaf)[\u001b[39m1\u001b[39m]\n",
      "\u001b[0;31mKeyboardInterrupt\u001b[0m: "
     ]
    },
    {
     "ename": "",
     "evalue": "",
     "output_type": "error",
     "traceback": [
      "\u001b[1;31mThe Kernel crashed while executing code in the the current cell or a previous cell. Please review the code in the cell(s) to identify a possible cause of the failure. Click <a href='https://aka.ms/vscodeJupyterKernelCrash'>here</a> for more info. View Jupyter <a href='command:jupyter.viewOutput'>log</a> for further details."
     ]
    }
   ],
   "source": [
    "num_samples = 8\n",
    "sample_size = 80\n",
    "\n",
    "\n",
    "samples = {}\n",
    "for patch_size in tqdm(patch_sizes):\n",
    "    samples[patch_size] = {}\n",
    "    for model, name in zip([stationary_gp_models[patch_size], pixel_cnn_models[patch_size]],\n",
    "                           ['GP', 'PixelCNN']):\n",
    "        samples[patch_size][name] = model.generate_samples(num_samples=num_samples, sample_size=sample_size, seed=None)\n",
    "\n",
    "for model_name in ['GP', 'PixelCNN']:\n",
    "    fig, axs = plt.subplots(num_samples, len(patch_sizes) + 1, figsize=( len(patch_sizes), num_samples ), sharex=True, sharey=True)\n",
    "    vmin, vmax = np.percentile(samples[patch_sizes[0]][name][0], .1), np.percentile(samples[patch_sizes[0]][name][0], 99.9)\n",
    "    for j, patch_size in enumerate(patch_sizes):\n",
    "        for i in range(num_samples):\n",
    "            im = axs[i, j].imshow(samples[patch_size][i], cmap='inferno', vmin=vmin, vmax=vmax, interpolation='none')\n",
    "            axs[i, j].axis('off')\n",
    "\n",
    "    # show ground truth patch\n",
    "    display_patches = extract_patches(images, sample_size, num_patches=num_samples, seed=7)\n",
    "    for i in range(num_samples):\n",
    "        axs[i, -1].imshow(display_patches[i], cmap='inferno', vmin=vmin, vmax=vmax, interpolation='none')\n",
    "        axs[i, -1].axis('off')\n",
    "\n",
    "    # add colorbar\n",
    "    fig.subplots_adjust(right=0.8)\n",
    "    cbar_ax = fig.add_axes([0.85, 0.15, 0.02, 0.7])\n",
    "    fig.colorbar(im, cax=cbar_ax)\n",
    "    cbar_ax.set_ylabel('Photons')\n",
    "\n",
    "    # add a label to each col\n",
    "    for j, patch_size in enumerate(patch_sizes):\n",
    "        axs[0, j].set_title(f'{patch_size}x{patch_size}', fontsize=10)\n",
    "    fig.suptitle(f'{model_name} samples', fontsize=12)"
   ]
  },
  {
   "cell_type": "code",
   "execution_count": 14,
   "metadata": {},
   "outputs": [
    {
     "name": "stderr",
     "output_type": "stream",
     "text": [
      "/tmp/ipykernel_954/1978279045.py:19: UserWarning: set_ticklabels() should only be used with a fixed number of ticks, i.e. after set_ticks() or using a FixedLocator.\n",
      "  ax.set(xticklabels=[''] + [f'{ps}x{ps}' for ps in np.arange(10, 51, 10)], xticks=np.arange(0, 51, 10))\n"
     ]
    },
    {
     "data": {
      "image/png": "[encoded data removed]",
      "text/plain": [
       "<Figure size 640x480 with 1 Axes>"
      ]
     },
     "metadata": {},
     "output_type": "display_data"
    },
    {
     "data": {
      "image/png": "[encoded data removed]",
      "text/plain": [
       "<Figure size 640x480 with 1 Axes>"
      ]
     },
     "metadata": {},
     "output_type": "display_data"
    },
    {
     "ename": "",
     "evalue": "",
     "output_type": "error",
     "traceback": [
      "\u001b[1;31mThe Kernel crashed while executing code in the the current cell or a previous cell. Please review the code in the cell(s) to identify a possible cause of the failure. Click <a href='https://aka.ms/vscodeJupyterKernelCrash'>here</a> for more info. View Jupyter <a href='command:jupyter.viewOutput'>log</a> for further details."
     ]
    }
   ],
   "source": [
    "from matplotlib.ticker import MaxNLocator\n",
    "\n",
    "# Mutual information vs patch size\n",
    "fig, ax = plt.subplots()\n",
    "ax.plot(patch_sizes, [mi_estimates_gp[ps] for ps in patch_sizes], 'o-', label='GP')\n",
    "ax.plot(patch_sizes, [mi_estimates_pixel_cnn[ps] for ps in patch_sizes], 'o-', label='PixelCNN')\n",
    "clear_spines(ax)\n",
    "ax.set(xlabel='Patch size', ylabel='Estimated information (bits per pixel)', ylim=[0, 1.1 * \n",
    "                        max(max(mi_estimates.values()), max(mi_estimates_pixel_cnn.values()))  ],\n",
    "        xlim=[0, 1.1 * max(patch_sizes)], xticks=np.arange(0, 51, 10))\n",
    "ax.set(xticklabels=[''] +[f'{ps}x{ps}' for ps in np.arange(10, 51, 10)])\n",
    "ax.legend()\n",
    "\n",
    "fig, ax = plt.subplots()\n",
    "nll_per_pixel_gp = [test_set_NLL_gp[ps] for ps in patch_sizes]\n",
    "nll_per_pixel_pixel_cnn = [test_set_NLL_pixel_cnn[ps] for ps in patch_sizes]\n",
    "\n",
    "ax.plot(patch_sizes, nll_per_pixel_gp, 'o-', label='GP')\n",
    "ax.plot(patch_sizes, nll_per_pixel_pixel_cnn, 'o-', label='PixelCNN')\n",
    "\n",
    "clear_spines(ax)\n",
    "ax.set(xlabel='Patch size', ylabel='Negative Log likelihood per pixel')\n",
    "ax.set(xticklabels=[''] + [f'{ps}x{ps}' for ps in np.arange(10, 51, 10)], xticks=np.arange(0, 51, 10))\n",
    "ax.yaxis.set_major_locator(MaxNLocator(integer=True))\n",
    "ax.legend()\n"
   ]
  }
 ],
 "metadata": {
  "kernelspec": {
   "display_name": "phenotypes",
   "language": "python",
   "name": "python3"
  },
  "language_info": {
   "codemirror_mode": {
    "name": "ipython",
    "version": 3
   },
   "file_extension": ".py",
   "mimetype": "text/x-python",
   "name": "python",
   "nbconvert_exporter": "python",
   "pygments_lexer": "ipython3",
   "version": "3.10.6"
  }
 },
 "nbformat": 4,
 "nbformat_minor": 2
}
