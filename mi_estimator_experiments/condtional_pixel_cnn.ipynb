{
 "cells": [
  {
   "cell_type": "code",
   "execution_count": 1,
   "metadata": {},
   "outputs": [
    {
     "name": "stderr",
     "output_type": "stream",
     "text": [
      "2023-11-25 21:30:28.253157: E tensorflow/stream_executor/cuda/cuda_blas.cc:2981] Unable to register cuBLAS factory: Attempting to register factory for plugin cuBLAS when one has already been registered\n",
      "2023-11-25 21:30:28.791043: W tensorflow/stream_executor/platform/default/dso_loader.cc:64] Could not load dynamic library 'libnvinfer.so.7'; dlerror: libnvinfer.so.7: cannot open shared object file: No such file or directory; LD_LIBRARY_PATH: /home/hpinkard_waller/mambaforge/envs/phenotypes/lib/python3.10/site-packages/nvidia/cublas/lib:/home/hpinkard_waller/mambaforge/envs/phenotypes/lib/python3.10/site-packages/nvidia/cuda_cupti/lib:/home/hpinkard_waller/mambaforge/envs/phenotypes/lib/python3.10/site-packages/nvidia/cuda_nvcc/lib:/home/hpinkard_waller/mambaforge/envs/phenotypes/lib/python3.10/site-packages/nvidia/cuda_nvrtc/lib:/home/hpinkard_waller/mambaforge/envs/phenotypes/lib/python3.10/site-packages/nvidia/cuda_runtime/lib:/home/hpinkard_waller/mambaforge/envs/phenotypes/lib/python3.10/site-packages/nvidia/cudnn/lib:/home/hpinkard_waller/mambaforge/envs/phenotypes/lib/python3.10/site-packages/nvidia/cufft/lib:/home/hpinkard_waller/mambaforge/envs/phenotypes/lib/python3.10/site-packages/nvidia/cusolver/lib:/home/hpinkard_waller/mambaforge/envs/phenotypes/lib/python3.10/site-packages/nvidia/cusparse/lib:/home/hpinkard_waller/mambaforge/envs/phenotypes/lib/python3.10/site-packages/nvidia/nccl/lib\n",
      "2023-11-25 21:30:28.791133: W tensorflow/stream_executor/platform/default/dso_loader.cc:64] Could not load dynamic library 'libnvinfer_plugin.so.7'; dlerror: libnvinfer_plugin.so.7: cannot open shared object file: No such file or directory; LD_LIBRARY_PATH: /home/hpinkard_waller/mambaforge/envs/phenotypes/lib/python3.10/site-packages/nvidia/cublas/lib:/home/hpinkard_waller/mambaforge/envs/phenotypes/lib/python3.10/site-packages/nvidia/cuda_cupti/lib:/home/hpinkard_waller/mambaforge/envs/phenotypes/lib/python3.10/site-packages/nvidia/cuda_nvcc/lib:/home/hpinkard_waller/mambaforge/envs/phenotypes/lib/python3.10/site-packages/nvidia/cuda_nvrtc/lib:/home/hpinkard_waller/mambaforge/envs/phenotypes/lib/python3.10/site-packages/nvidia/cuda_runtime/lib:/home/hpinkard_waller/mambaforge/envs/phenotypes/lib/python3.10/site-packages/nvidia/cudnn/lib:/home/hpinkard_waller/mambaforge/envs/phenotypes/lib/python3.10/site-packages/nvidia/cufft/lib:/home/hpinkard_waller/mambaforge/envs/phenotypes/lib/python3.10/site-packages/nvidia/cusolver/lib:/home/hpinkard_waller/mambaforge/envs/phenotypes/lib/python3.10/site-packages/nvidia/cusparse/lib:/home/hpinkard_waller/mambaforge/envs/phenotypes/lib/python3.10/site-packages/nvidia/nccl/lib\n",
      "2023-11-25 21:30:28.791142: W tensorflow/compiler/tf2tensorrt/utils/py_utils.cc:38] TF-TRT Warning: Cannot dlopen some TensorRT libraries. If you would like to use Nvidia GPU with TensorRT, please make sure the missing libraries mentioned above are installed properly.\n"
     ]
    }
   ],
   "source": [
    "%load_ext autoreload\n",
    "%autoreload 2\n",
    "\n",
    "import os\n",
    "from jax import config\n",
    "config.update(\"jax_enable_x64\", True)\n",
    "\n",
    "os.environ[\"CUDA_DEVICE_ORDER\"] = \"PCI_BUS_ID\" \n",
    "os.environ[\"CUDA_VISIBLE_DEVICES\"] = '0'\n",
    "from encoding_information.gpu_utils import limit_gpu_memory_growth\n",
    "limit_gpu_memory_growth()\n",
    "\n",
    "import tensorflow_datasets as tfds  # TFDS for MNIST\n",
    "import tensorflow as tf             # TensorFlow operations\n",
    "\n",
    "# from image_distribution_models import PixelCNN\n",
    "\n",
    "from cleanplots import *\n",
    "import jax.numpy as np\n",
    "from jax.scipy.special import logsumexp\n",
    "import numpy as onp\n",
    "from encoding_information.image_utils import *\n",
    "from encoding_information.bsccm_utils import *\n",
    "from encoding_information.image_utils import *"
   ]
  },
  {
   "cell_type": "code",
   "execution_count": 48,
   "metadata": {},
   "outputs": [
    {
     "name": "stdout",
     "output_type": "stream",
     "text": [
      "Opening BSCCMNIST\n",
      "Opened BSCCMNIST\n"
     ]
    }
   ],
   "source": [
    "\n",
    "\n",
    "bsccm = BSCCM('/home/hpinkard_waller/data/BSCCMNIST/')\n",
    "cell_images = load_bsccm_images(bsccm, channel='LED119', num_images=10000).astype(np.float32)"
   ]
  },
  {
   "cell_type": "code",
   "execution_count": 49,
   "metadata": {},
   "outputs": [],
   "source": [
    "(mnist, mnist_labels), (_ , _) = tf.keras.datasets.mnist.load_data()\n",
    "mnist = (mnist.astype(np.float32) / 255.) * 300 + 25 \n",
    "mnsit = mnist[:cell_images.shape[0]]\n",
    "\n",
    "\n",
    "# rescale cell_images to the same range as mnist\n",
    "(cell_images - cell_images.mean()) / cell_images.std() * mnist.std() + mnist.mean()\n",
    "\n",
    "\n",
    "# concatenate mnist and cell images and create binary labels \n",
    "images = np.concatenate([cell_images, mnist])\n",
    "labels = np.concatenate([np.ones(len(cell_images)), np.zeros(len(mnist))])\n",
    "# convert to one-hot\n",
    "labels = np.eye(2)[labels.astype(np.int32)]\n",
    "\n",
    "# shuffle\n",
    "idx = onp.arange(len(images))\n",
    "onp.random.shuffle(idx)\n",
    "images = images[idx]\n",
    "labels = labels[idx]\n",
    "\n",
    "\n",
    "# plot some images with their lebels as titles\n",
    "fig, ax = plt.subplots(2, 5, figsize=(10, 4))\n"
   ]
  },
  {
   "cell_type": "code",
   "execution_count": 2,
   "metadata": {},
   "outputs": [
    {
     "name": "stderr",
     "output_type": "stream",
     "text": [
      "2023-11-25 21:30:34.622920: W tensorflow/core/common_runtime/gpu/gpu_bfc_allocator.cc:42] Overriding orig_value setting because the TF_FORCE_GPU_ALLOW_GROWTH environment variable is set. Original config value was 0.\n"
     ]
    },
    {
     "data": {
      "text/plain": [
       "array([[0., 0., 0., ..., 0., 0., 0.],\n",
       "       [1., 0., 0., ..., 0., 0., 0.],\n",
       "       [0., 0., 0., ..., 0., 0., 0.],\n",
       "       ...,\n",
       "       [0., 0., 0., ..., 0., 0., 0.],\n",
       "       [0., 0., 0., ..., 0., 0., 0.],\n",
       "       [0., 0., 0., ..., 0., 1., 0.]], dtype=float32)"
      ]
     },
     "execution_count": 2,
     "metadata": {},
     "output_type": "execute_result"
    }
   ],
   "source": [
    "# #MNIST\n",
    "# (patches, labels), (_ , _) = tf.keras.datasets.mnist.load_data()\n",
    "# patches = (patches.astype(np.float32) / 255.) * 300 + 25 \n",
    "\n",
    "# # patches = add_noise(patches)\n",
    "\n",
    "# # convert labels to one-hot encoding\n",
    "# labels = tf.one_hot(labels, 10).numpy()\n",
    "# labels  \n"
   ]
  },
  {
   "cell_type": "code",
   "execution_count": 51,
   "metadata": {},
   "outputs": [
    {
     "name": "stdout",
     "output_type": "stream",
     "text": [
      "Initial validation NLL: 9.67\n"
     ]
    },
    {
     "name": "stderr",
     "output_type": "stream",
     "text": [
      "Epoch 1: 100%|██████████| 100/100 [00:07<00:00, 12.97it/s]\n"
     ]
    },
    {
     "name": "stdout",
     "output_type": "stream",
     "text": [
      "Epoch 1: validation NLL: 2.12\n"
     ]
    },
    {
     "name": "stderr",
     "output_type": "stream",
     "text": [
      "Epoch 2: 100%|██████████| 100/100 [00:03<00:00, 32.39it/s]\n"
     ]
    },
    {
     "name": "stdout",
     "output_type": "stream",
     "text": [
      "Epoch 2: validation NLL: 1.90\n"
     ]
    },
    {
     "name": "stderr",
     "output_type": "stream",
     "text": [
      "Epoch 3: 100%|██████████| 100/100 [00:03<00:00, 31.94it/s]\n"
     ]
    },
    {
     "name": "stdout",
     "output_type": "stream",
     "text": [
      "Epoch 3: validation NLL: 1.83\n"
     ]
    },
    {
     "name": "stderr",
     "output_type": "stream",
     "text": [
      "Epoch 4: 100%|██████████| 100/100 [00:03<00:00, 31.99it/s]\n"
     ]
    },
    {
     "name": "stdout",
     "output_type": "stream",
     "text": [
      "Epoch 4: validation NLL: 3.74\n"
     ]
    },
    {
     "name": "stderr",
     "output_type": "stream",
     "text": [
      "Epoch 5: 100%|██████████| 100/100 [00:03<00:00, 32.31it/s]\n"
     ]
    },
    {
     "name": "stdout",
     "output_type": "stream",
     "text": [
      "Epoch 5: validation NLL: 1.84\n"
     ]
    },
    {
     "data": {
      "text/plain": [
       "[9.674720764160156,\n",
       " 2.1182289123535156,\n",
       " 1.8953875303268433,\n",
       " 1.833936095237732,\n",
       " 3.741502046585083,\n",
       " 1.837880253791809]"
      ]
     },
     "execution_count": 51,
     "metadata": {},
     "output_type": "execute_result"
    }
   ],
   "source": [
    "from encoding_information.models.pixel_cnn import PixelCNN\n",
    "\n",
    "pixel_cnn = PixelCNN()\n",
    "pixel_cnn.fit(images, max_epochs=5, num_val_samples=100, condition_vectors=labels)\n",
    "\n"
   ]
  },
  {
   "cell_type": "code",
   "execution_count": 52,
   "metadata": {},
   "outputs": [
    {
     "name": "stderr",
     "output_type": "stream",
     "text": [
      "Generating PixelCNN samples: 100%|██████████| 28/28 [07:35<00:00, 16.27s/it]\n"
     ]
    }
   ],
   "source": [
    "num_samples = 10\n",
    "\n",
    "# create 5 samples conditioned on one hot for class 0\n",
    "conditioning_vecs = onp.zeros((num_samples, 2))\n",
    "conditioning_vecs[0:num_samples//2, 0] = 1\n",
    "conditioning_vecs[num_samples//2:, 1] = 1\n",
    "\n",
    "\n",
    "samples = pixel_cnn.generate_samples(num_samples=num_samples, conditioning_vecs=conditioning_vecs)"
   ]
  },
  {
   "cell_type": "code",
   "execution_count": 53,
   "metadata": {},
   "outputs": [
    {
     "data": {
      "image/png": "[encoded data removed]",
      "text/plain": [
       "<Figure size 1500x1500 with 10 Axes>"
      ]
     },
     "metadata": {},
     "output_type": "display_data"
    }
   ],
   "source": [
    "# plot samples\n",
    "fig, axs = plt.subplots(1, num_samples, figsize=(15, 15))\n",
    "for i in range(num_samples):\n",
    "    axs[i].imshow(samples[i], cmap='gray')\n",
    "    axs[i].axis('off')"
   ]
  }
 ],
 "metadata": {
  "kernelspec": {
   "display_name": "phenotypes",
   "language": "python",
   "name": "python3"
  },
  "language_info": {
   "codemirror_mode": {
    "name": "ipython",
    "version": 3
   },
   "file_extension": ".py",
   "mimetype": "text/x-python",
   "name": "python",
   "nbconvert_exporter": "python",
   "pygments_lexer": "ipython3",
   "version": "3.10.6"
  }
 },
 "nbformat": 4,
 "nbformat_minor": 2
}
