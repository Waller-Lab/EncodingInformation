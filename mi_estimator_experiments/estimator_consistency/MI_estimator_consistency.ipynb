{
 "cells": [
  {
   "cell_type": "code",
   "execution_count": 1,
   "metadata": {
    "execution": {
     "iopub.execute_input": "2024-01-13T05:00:50.175137Z",
     "iopub.status.busy": "2024-01-13T05:00:50.174428Z",
     "iopub.status.idle": "2024-01-13T05:00:57.205447Z",
     "shell.execute_reply": "2024-01-13T05:00:57.204294Z"
    }
   },
   "outputs": [
    {
     "name": "stderr",
     "output_type": "stream",
     "text": [
      "2024-01-14 10:34:40.925688: E tensorflow/stream_executor/cuda/cuda_blas.cc:2981] Unable to register cuBLAS factory: Attempting to register factory for plugin cuBLAS when one has already been registered\n",
      "2024-01-14 10:34:41.573573: W tensorflow/stream_executor/platform/default/dso_loader.cc:64] Could not load dynamic library 'libnvinfer.so.7'; dlerror: libnvinfer.so.7: cannot open shared object file: No such file or directory; LD_LIBRARY_PATH: /home/hpinkard_waller/mambaforge/envs/phenotypes/lib/python3.10/site-packages/nvidia/cublas/lib:/home/hpinkard_waller/mambaforge/envs/phenotypes/lib/python3.10/site-packages/nvidia/cuda_cupti/lib:/home/hpinkard_waller/mambaforge/envs/phenotypes/lib/python3.10/site-packages/nvidia/cuda_nvcc/lib:/home/hpinkard_waller/mambaforge/envs/phenotypes/lib/python3.10/site-packages/nvidia/cuda_nvrtc/lib:/home/hpinkard_waller/mambaforge/envs/phenotypes/lib/python3.10/site-packages/nvidia/cuda_runtime/lib:/home/hpinkard_waller/mambaforge/envs/phenotypes/lib/python3.10/site-packages/nvidia/cudnn/lib:/home/hpinkard_waller/mambaforge/envs/phenotypes/lib/python3.10/site-packages/nvidia/cufft/lib:/home/hpinkard_waller/mambaforge/envs/phenotypes/lib/python3.10/site-packages/nvidia/cusolver/lib:/home/hpinkard_waller/mambaforge/envs/phenotypes/lib/python3.10/site-packages/nvidia/cusparse/lib:/home/hpinkard_waller/mambaforge/envs/phenotypes/lib/python3.10/site-packages/nvidia/nccl/lib\n",
      "2024-01-14 10:34:41.573665: W tensorflow/stream_executor/platform/default/dso_loader.cc:64] Could not load dynamic library 'libnvinfer_plugin.so.7'; dlerror: libnvinfer_plugin.so.7: cannot open shared object file: No such file or directory; LD_LIBRARY_PATH: /home/hpinkard_waller/mambaforge/envs/phenotypes/lib/python3.10/site-packages/nvidia/cublas/lib:/home/hpinkard_waller/mambaforge/envs/phenotypes/lib/python3.10/site-packages/nvidia/cuda_cupti/lib:/home/hpinkard_waller/mambaforge/envs/phenotypes/lib/python3.10/site-packages/nvidia/cuda_nvcc/lib:/home/hpinkard_waller/mambaforge/envs/phenotypes/lib/python3.10/site-packages/nvidia/cuda_nvrtc/lib:/home/hpinkard_waller/mambaforge/envs/phenotypes/lib/python3.10/site-packages/nvidia/cuda_runtime/lib:/home/hpinkard_waller/mambaforge/envs/phenotypes/lib/python3.10/site-packages/nvidia/cudnn/lib:/home/hpinkard_waller/mambaforge/envs/phenotypes/lib/python3.10/site-packages/nvidia/cufft/lib:/home/hpinkard_waller/mambaforge/envs/phenotypes/lib/python3.10/site-packages/nvidia/cusolver/lib:/home/hpinkard_waller/mambaforge/envs/phenotypes/lib/python3.10/site-packages/nvidia/cusparse/lib:/home/hpinkard_waller/mambaforge/envs/phenotypes/lib/python3.10/site-packages/nvidia/nccl/lib\n",
      "2024-01-14 10:34:41.573673: W tensorflow/compiler/tf2tensorrt/utils/py_utils.cc:38] TF-TRT Warning: Cannot dlopen some TensorRT libraries. If you would like to use Nvidia GPU with TensorRT, please make sure the missing libraries mentioned above are installed properly.\n"
     ]
    },
    {
     "name": "stdout",
     "output_type": "stream",
     "text": [
      "Opening BSCCM\n",
      "Opened BSCCM\n"
     ]
    }
   ],
   "source": [
    "%load_ext autoreload\n",
    "%autoreload 2\n",
    "# this only works on startup!\n",
    "from jax import config\n",
    "config.update(\"jax_enable_x64\", True)\n",
    "\n",
    "import os\n",
    "os.environ[\"CUDA_DEVICE_ORDER\"] = \"PCI_BUS_ID\" \n",
    "os.environ[\"CUDA_VISIBLE_DEVICES\"] = '3'\n",
    "\n",
    "from encoding_information.gpu_utils import limit_gpu_memory_growth\n",
    "limit_gpu_memory_growth()\n",
    "\n",
    "from cleanplots import *\n",
    "from tqdm import tqdm\n",
    "from encoding_information.information_estimation import *\n",
    "from encoding_information.image_utils import *\n",
    "from encoding_information.models.gaussian_process import *\n",
    "\n",
    "\n",
    "from encoding_information.bsccm_utils import *\n",
    "from bsccm import BSCCM\n",
    "from jax import jit\n",
    "import numpy as onp\n",
    "import jax.numpy as np\n",
    "\n",
    "bsccm = BSCCM('/home/hpinkard_waller/data/BSCCM/')"
   ]
  },
  {
   "cell_type": "markdown",
   "metadata": {},
   "source": [
    "### Generate a ground truth stationary matrix by estimating from samples"
   ]
  },
  {
   "cell_type": "code",
   "execution_count": 3,
   "metadata": {
    "execution": {
     "iopub.execute_input": "2024-01-13T05:00:57.209172Z",
     "iopub.status.busy": "2024-01-13T05:00:57.208699Z",
     "iopub.status.idle": "2024-01-13T05:04:07.644758Z",
     "shell.execute_reply": "2024-01-13T05:04:07.644100Z"
    }
   },
   "outputs": [
    {
     "name": "stderr",
     "output_type": "stream",
     "text": [
      "100%|██████████| 10000/10000 [00:05<00:00, 1936.85it/s]\n",
      "100%|██████████| 10000/10000 [01:16<00:00, 130.68it/s]\n",
      "2024-01-14 10:36:58.123668: W tensorflow/core/common_runtime/gpu/gpu_bfc_allocator.cc:42] Overriding orig_value setting because the TF_FORCE_GPU_ALLOW_GROWTH environment variable is set. Original config value was 0.\n"
     ]
    },
    {
     "name": "stdout",
     "output_type": "stream",
     "text": [
      "Initial validation NLL: 47465.32\n"
     ]
    },
    {
     "name": "stderr",
     "output_type": "stream",
     "text": [
      "Epoch 1: 100%|██████████| 1/1 [00:09<00:00,  9.31s/it]\n"
     ]
    },
    {
     "name": "stdout",
     "output_type": "stream",
     "text": [
      "Epoch 1: validation NLL: 24159.65\n"
     ]
    },
    {
     "name": "stderr",
     "output_type": "stream",
     "text": [
      "Epoch 2: 100%|██████████| 1/1 [00:00<00:00, 17.74it/s]\n"
     ]
    },
    {
     "name": "stdout",
     "output_type": "stream",
     "text": [
      "Epoch 2: validation NLL: 5.91\n"
     ]
    },
    {
     "name": "stderr",
     "output_type": "stream",
     "text": [
      "Epoch 3: 100%|██████████| 1/1 [00:00<00:00, 18.22it/s]\n"
     ]
    },
    {
     "name": "stdout",
     "output_type": "stream",
     "text": [
      "Epoch 3: validation NLL: 5.45\n"
     ]
    },
    {
     "name": "stderr",
     "output_type": "stream",
     "text": [
      "Epoch 4: 100%|██████████| 1/1 [00:00<00:00, 18.56it/s]\n"
     ]
    },
    {
     "name": "stdout",
     "output_type": "stream",
     "text": [
      "Epoch 4: validation NLL: 5.41\n"
     ]
    },
    {
     "name": "stderr",
     "output_type": "stream",
     "text": [
      "Epoch 5: 100%|██████████| 1/1 [00:00<00:00, 18.14it/s]\n"
     ]
    },
    {
     "name": "stdout",
     "output_type": "stream",
     "text": [
      "Epoch 5: validation NLL: 5.39\n"
     ]
    },
    {
     "name": "stderr",
     "output_type": "stream",
     "text": [
      "Epoch 6: 100%|██████████| 1/1 [00:00<00:00, 18.42it/s]\n"
     ]
    },
    {
     "name": "stdout",
     "output_type": "stream",
     "text": [
      "Epoch 6: validation NLL: 5.38\n"
     ]
    },
    {
     "name": "stderr",
     "output_type": "stream",
     "text": [
      "Epoch 7: 100%|██████████| 1/1 [00:00<00:00, 17.78it/s]\n"
     ]
    },
    {
     "name": "stdout",
     "output_type": "stream",
     "text": [
      "Epoch 7: validation NLL: 5.37\n"
     ]
    },
    {
     "name": "stderr",
     "output_type": "stream",
     "text": [
      "Epoch 8: 100%|██████████| 1/1 [00:00<00:00, 18.58it/s]\n"
     ]
    },
    {
     "name": "stdout",
     "output_type": "stream",
     "text": [
      "Epoch 8: validation NLL: 5.37\n"
     ]
    },
    {
     "name": "stderr",
     "output_type": "stream",
     "text": [
      "Epoch 9: 100%|██████████| 1/1 [00:00<00:00, 18.71it/s]\n"
     ]
    },
    {
     "name": "stdout",
     "output_type": "stream",
     "text": [
      "Epoch 9: validation NLL: 5.36\n"
     ]
    },
    {
     "name": "stderr",
     "output_type": "stream",
     "text": [
      "Epoch 10: 100%|██████████| 1/1 [00:00<00:00, 18.38it/s]\n"
     ]
    },
    {
     "name": "stdout",
     "output_type": "stream",
     "text": [
      "Epoch 10: validation NLL: 5.36\n"
     ]
    },
    {
     "name": "stderr",
     "output_type": "stream",
     "text": [
      "Epoch 11: 100%|██████████| 1/1 [00:00<00:00, 18.28it/s]\n"
     ]
    },
    {
     "name": "stdout",
     "output_type": "stream",
     "text": [
      "Epoch 11: validation NLL: 5.36\n"
     ]
    },
    {
     "name": "stderr",
     "output_type": "stream",
     "text": [
      "Epoch 12: 100%|██████████| 1/1 [00:00<00:00, 18.38it/s]\n"
     ]
    },
    {
     "name": "stdout",
     "output_type": "stream",
     "text": [
      "Epoch 12: validation NLL: 5.36\n"
     ]
    },
    {
     "name": "stderr",
     "output_type": "stream",
     "text": [
      "Epoch 13: 100%|██████████| 1/1 [00:00<00:00, 18.26it/s]\n"
     ]
    },
    {
     "name": "stdout",
     "output_type": "stream",
     "text": [
      "Epoch 13: validation NLL: 5.36\n"
     ]
    },
    {
     "name": "stderr",
     "output_type": "stream",
     "text": [
      "Epoch 14: 100%|██████████| 1/1 [00:00<00:00, 18.74it/s]\n"
     ]
    },
    {
     "name": "stdout",
     "output_type": "stream",
     "text": [
      "Epoch 14: validation NLL: 5.36\n"
     ]
    },
    {
     "name": "stderr",
     "output_type": "stream",
     "text": [
      "Epoch 15: 100%|██████████| 1/1 [00:00<00:00, 18.44it/s]\n"
     ]
    },
    {
     "name": "stdout",
     "output_type": "stream",
     "text": [
      "Epoch 15: validation NLL: 5.36\n"
     ]
    },
    {
     "name": "stderr",
     "output_type": "stream",
     "text": [
      "Epoch 16: 100%|██████████| 1/1 [00:00<00:00, 18.40it/s]\n"
     ]
    },
    {
     "name": "stdout",
     "output_type": "stream",
     "text": [
      "Epoch 16: validation NLL: 5.36\n"
     ]
    },
    {
     "name": "stderr",
     "output_type": "stream",
     "text": [
      "Epoch 17: 100%|██████████| 1/1 [00:00<00:00, 18.16it/s]\n"
     ]
    },
    {
     "name": "stdout",
     "output_type": "stream",
     "text": [
      "Epoch 17: validation NLL: 5.36\n"
     ]
    },
    {
     "name": "stderr",
     "output_type": "stream",
     "text": [
      "Epoch 18: 100%|██████████| 1/1 [00:00<00:00, 18.23it/s]\n"
     ]
    },
    {
     "name": "stdout",
     "output_type": "stream",
     "text": [
      "Epoch 18: validation NLL: 5.35\n"
     ]
    },
    {
     "name": "stderr",
     "output_type": "stream",
     "text": [
      "Epoch 19: 100%|██████████| 1/1 [00:00<00:00, 18.33it/s]\n"
     ]
    },
    {
     "name": "stdout",
     "output_type": "stream",
     "text": [
      "Epoch 19: validation NLL: 5.35\n"
     ]
    },
    {
     "name": "stderr",
     "output_type": "stream",
     "text": [
      "Epoch 20: 100%|██████████| 1/1 [00:00<00:00, 18.64it/s]\n"
     ]
    },
    {
     "name": "stdout",
     "output_type": "stream",
     "text": [
      "Epoch 20: validation NLL: 5.35\n"
     ]
    },
    {
     "name": "stderr",
     "output_type": "stream",
     "text": [
      "Epoch 21: 100%|██████████| 1/1 [00:00<00:00, 18.62it/s]\n"
     ]
    },
    {
     "name": "stdout",
     "output_type": "stream",
     "text": [
      "Epoch 21: validation NLL: 5.35\n"
     ]
    },
    {
     "name": "stderr",
     "output_type": "stream",
     "text": [
      "Epoch 22: 100%|██████████| 1/1 [00:00<00:00, 18.14it/s]\n"
     ]
    },
    {
     "name": "stdout",
     "output_type": "stream",
     "text": [
      "Epoch 22: validation NLL: 5.35\n"
     ]
    },
    {
     "name": "stderr",
     "output_type": "stream",
     "text": [
      "Epoch 23: 100%|██████████| 1/1 [00:00<00:00, 18.21it/s]\n"
     ]
    },
    {
     "name": "stdout",
     "output_type": "stream",
     "text": [
      "Epoch 23: validation NLL: 5.35\n"
     ]
    },
    {
     "name": "stderr",
     "output_type": "stream",
     "text": [
      "Epoch 24: 100%|██████████| 1/1 [00:00<00:00, 18.46it/s]\n"
     ]
    },
    {
     "name": "stdout",
     "output_type": "stream",
     "text": [
      "Epoch 24: validation NLL: 5.35\n"
     ]
    },
    {
     "name": "stderr",
     "output_type": "stream",
     "text": [
      "Epoch 25: 100%|██████████| 1/1 [00:00<00:00, 18.59it/s]\n"
     ]
    },
    {
     "name": "stdout",
     "output_type": "stream",
     "text": [
      "Epoch 25: validation NLL: 5.35\n"
     ]
    },
    {
     "name": "stderr",
     "output_type": "stream",
     "text": [
      "Epoch 26: 100%|██████████| 1/1 [00:00<00:00, 18.64it/s]\n"
     ]
    },
    {
     "name": "stdout",
     "output_type": "stream",
     "text": [
      "Epoch 26: validation NLL: 5.35\n"
     ]
    },
    {
     "name": "stderr",
     "output_type": "stream",
     "text": [
      "Epoch 27: 100%|██████████| 1/1 [00:00<00:00, 18.63it/s]\n"
     ]
    },
    {
     "name": "stdout",
     "output_type": "stream",
     "text": [
      "Epoch 27: validation NLL: 5.35\n"
     ]
    },
    {
     "name": "stderr",
     "output_type": "stream",
     "text": [
      "Epoch 28: 100%|██████████| 1/1 [00:00<00:00, 18.63it/s]\n"
     ]
    },
    {
     "name": "stdout",
     "output_type": "stream",
     "text": [
      "Epoch 28: validation NLL: 5.35\n"
     ]
    },
    {
     "name": "stderr",
     "output_type": "stream",
     "text": [
      "Epoch 29: 100%|██████████| 1/1 [00:00<00:00, 18.70it/s]\n"
     ]
    },
    {
     "name": "stdout",
     "output_type": "stream",
     "text": [
      "Epoch 29: validation NLL: 5.35\n"
     ]
    },
    {
     "name": "stderr",
     "output_type": "stream",
     "text": [
      "Epoch 30: 100%|██████████| 1/1 [00:00<00:00, 18.46it/s]\n"
     ]
    },
    {
     "name": "stdout",
     "output_type": "stream",
     "text": [
      "Epoch 30: validation NLL: 5.35\n"
     ]
    },
    {
     "name": "stderr",
     "output_type": "stream",
     "text": [
      "Epoch 31: 100%|██████████| 1/1 [00:00<00:00, 18.75it/s]\n"
     ]
    },
    {
     "name": "stdout",
     "output_type": "stream",
     "text": [
      "Epoch 31: validation NLL: 5.35\n"
     ]
    },
    {
     "name": "stderr",
     "output_type": "stream",
     "text": [
      "Epoch 32: 100%|██████████| 1/1 [00:00<00:00, 18.58it/s]\n"
     ]
    },
    {
     "name": "stdout",
     "output_type": "stream",
     "text": [
      "Epoch 32: validation NLL: 5.35\n"
     ]
    },
    {
     "name": "stderr",
     "output_type": "stream",
     "text": [
      "Epoch 33: 100%|██████████| 1/1 [00:00<00:00, 18.28it/s]\n"
     ]
    },
    {
     "name": "stdout",
     "output_type": "stream",
     "text": [
      "Epoch 33: validation NLL: 5.35\n"
     ]
    },
    {
     "name": "stderr",
     "output_type": "stream",
     "text": [
      "Epoch 34: 100%|██████████| 1/1 [00:00<00:00, 18.24it/s]\n"
     ]
    },
    {
     "name": "stdout",
     "output_type": "stream",
     "text": [
      "Epoch 34: validation NLL: 5.35\n"
     ]
    },
    {
     "name": "stderr",
     "output_type": "stream",
     "text": [
      "Epoch 35: 100%|██████████| 1/1 [00:00<00:00, 18.17it/s]\n"
     ]
    },
    {
     "name": "stdout",
     "output_type": "stream",
     "text": [
      "Epoch 35: validation NLL: 5.35\n"
     ]
    },
    {
     "name": "stderr",
     "output_type": "stream",
     "text": [
      "Epoch 36: 100%|██████████| 1/1 [00:00<00:00, 18.35it/s]\n"
     ]
    },
    {
     "name": "stdout",
     "output_type": "stream",
     "text": [
      "Epoch 36: validation NLL: 5.35\n"
     ]
    },
    {
     "name": "stderr",
     "output_type": "stream",
     "text": [
      "Epoch 37: 100%|██████████| 1/1 [00:00<00:00, 18.66it/s]\n"
     ]
    },
    {
     "name": "stdout",
     "output_type": "stream",
     "text": [
      "Epoch 37: validation NLL: 5.35\n"
     ]
    },
    {
     "name": "stderr",
     "output_type": "stream",
     "text": [
      "Epoch 38: 100%|██████████| 1/1 [00:00<00:00, 18.57it/s]\n"
     ]
    },
    {
     "name": "stdout",
     "output_type": "stream",
     "text": [
      "Epoch 38: validation NLL: 5.35\n"
     ]
    },
    {
     "name": "stderr",
     "output_type": "stream",
     "text": [
      "Epoch 39: 100%|██████████| 1/1 [00:00<00:00, 18.57it/s]\n"
     ]
    },
    {
     "name": "stdout",
     "output_type": "stream",
     "text": [
      "Epoch 39: validation NLL: 5.35\n"
     ]
    },
    {
     "name": "stderr",
     "output_type": "stream",
     "text": [
      "Epoch 40: 100%|██████████| 1/1 [00:00<00:00, 17.86it/s]\n"
     ]
    },
    {
     "name": "stdout",
     "output_type": "stream",
     "text": [
      "Epoch 40: validation NLL: 5.35\n"
     ]
    },
    {
     "name": "stderr",
     "output_type": "stream",
     "text": [
      "Epoch 41: 100%|██████████| 1/1 [00:00<00:00, 18.59it/s]\n"
     ]
    },
    {
     "name": "stdout",
     "output_type": "stream",
     "text": [
      "Epoch 41: validation NLL: 5.35\n"
     ]
    },
    {
     "name": "stderr",
     "output_type": "stream",
     "text": [
      "Epoch 42: 100%|██████████| 1/1 [00:00<00:00, 18.44it/s]\n"
     ]
    },
    {
     "name": "stdout",
     "output_type": "stream",
     "text": [
      "Epoch 42: validation NLL: 5.35\n"
     ]
    },
    {
     "name": "stderr",
     "output_type": "stream",
     "text": [
      "Epoch 43: 100%|██████████| 1/1 [00:00<00:00, 18.00it/s]\n"
     ]
    },
    {
     "name": "stdout",
     "output_type": "stream",
     "text": [
      "Epoch 43: validation NLL: 5.35\n"
     ]
    },
    {
     "name": "stderr",
     "output_type": "stream",
     "text": [
      "Epoch 44: 100%|██████████| 1/1 [00:00<00:00, 18.30it/s]\n"
     ]
    },
    {
     "name": "stdout",
     "output_type": "stream",
     "text": [
      "Epoch 44: validation NLL: 5.35\n"
     ]
    },
    {
     "name": "stderr",
     "output_type": "stream",
     "text": [
      "Epoch 45: 100%|██████████| 1/1 [00:00<00:00, 18.61it/s]\n"
     ]
    },
    {
     "name": "stdout",
     "output_type": "stream",
     "text": [
      "Epoch 45: validation NLL: 5.35\n"
     ]
    },
    {
     "name": "stderr",
     "output_type": "stream",
     "text": [
      "Epoch 46: 100%|██████████| 1/1 [00:00<00:00, 18.29it/s]\n"
     ]
    },
    {
     "name": "stdout",
     "output_type": "stream",
     "text": [
      "Epoch 46: validation NLL: 5.35\n"
     ]
    },
    {
     "name": "stderr",
     "output_type": "stream",
     "text": [
      "Epoch 47: 100%|██████████| 1/1 [00:00<00:00, 18.08it/s]\n"
     ]
    },
    {
     "name": "stdout",
     "output_type": "stream",
     "text": [
      "Epoch 47: validation NLL: 5.35\n"
     ]
    },
    {
     "name": "stderr",
     "output_type": "stream",
     "text": [
      "Epoch 48: 100%|██████████| 1/1 [00:00<00:00, 18.00it/s]\n"
     ]
    },
    {
     "name": "stdout",
     "output_type": "stream",
     "text": [
      "Epoch 48: validation NLL: 5.35\n"
     ]
    },
    {
     "name": "stderr",
     "output_type": "stream",
     "text": [
      "Epoch 49: 100%|██████████| 1/1 [00:00<00:00, 17.23it/s]\n"
     ]
    },
    {
     "name": "stdout",
     "output_type": "stream",
     "text": [
      "Epoch 49: validation NLL: 5.35\n"
     ]
    },
    {
     "name": "stderr",
     "output_type": "stream",
     "text": [
      "Epoch 50: 100%|██████████| 1/1 [00:00<00:00, 18.02it/s]\n"
     ]
    },
    {
     "name": "stdout",
     "output_type": "stream",
     "text": [
      "Epoch 50: validation NLL: 5.35\n"
     ]
    },
    {
     "name": "stderr",
     "output_type": "stream",
     "text": [
      "Epoch 51: 100%|██████████| 1/1 [00:00<00:00, 18.41it/s]\n"
     ]
    },
    {
     "name": "stdout",
     "output_type": "stream",
     "text": [
      "Epoch 51: validation NLL: 5.35\n"
     ]
    },
    {
     "name": "stderr",
     "output_type": "stream",
     "text": [
      "Epoch 52: 100%|██████████| 1/1 [00:00<00:00, 18.55it/s]\n"
     ]
    },
    {
     "name": "stdout",
     "output_type": "stream",
     "text": [
      "Epoch 52: validation NLL: 5.35\n"
     ]
    },
    {
     "name": "stderr",
     "output_type": "stream",
     "text": [
      "Epoch 53: 100%|██████████| 1/1 [00:00<00:00, 18.47it/s]\n"
     ]
    },
    {
     "name": "stdout",
     "output_type": "stream",
     "text": [
      "Epoch 53: validation NLL: 5.35\n"
     ]
    },
    {
     "name": "stderr",
     "output_type": "stream",
     "text": [
      "Epoch 54: 100%|██████████| 1/1 [00:00<00:00, 18.02it/s]\n"
     ]
    },
    {
     "name": "stdout",
     "output_type": "stream",
     "text": [
      "Epoch 54: validation NLL: 5.35\n"
     ]
    },
    {
     "name": "stderr",
     "output_type": "stream",
     "text": [
      "Epoch 55: 100%|██████████| 1/1 [00:00<00:00, 18.61it/s]\n"
     ]
    },
    {
     "name": "stdout",
     "output_type": "stream",
     "text": [
      "Epoch 55: validation NLL: 5.35\n"
     ]
    },
    {
     "name": "stderr",
     "output_type": "stream",
     "text": [
      "Epoch 56: 100%|██████████| 1/1 [00:00<00:00, 18.34it/s]\n"
     ]
    },
    {
     "name": "stdout",
     "output_type": "stream",
     "text": [
      "Epoch 56: validation NLL: 5.35\n"
     ]
    },
    {
     "name": "stderr",
     "output_type": "stream",
     "text": [
      "Epoch 57: 100%|██████████| 1/1 [00:00<00:00, 17.80it/s]\n"
     ]
    },
    {
     "name": "stdout",
     "output_type": "stream",
     "text": [
      "Epoch 57: validation NLL: 5.35\n"
     ]
    },
    {
     "name": "stderr",
     "output_type": "stream",
     "text": [
      "Epoch 58: 100%|██████████| 1/1 [00:00<00:00, 18.66it/s]\n"
     ]
    },
    {
     "name": "stdout",
     "output_type": "stream",
     "text": [
      "Epoch 58: validation NLL: 5.35\n"
     ]
    },
    {
     "name": "stderr",
     "output_type": "stream",
     "text": [
      "Epoch 59: 100%|██████████| 1/1 [00:00<00:00, 18.43it/s]\n"
     ]
    },
    {
     "name": "stdout",
     "output_type": "stream",
     "text": [
      "Epoch 59: validation NLL: 5.35\n"
     ]
    },
    {
     "name": "stderr",
     "output_type": "stream",
     "text": [
      "Epoch 60: 100%|██████████| 1/1 [00:00<00:00, 18.22it/s]\n"
     ]
    },
    {
     "name": "stdout",
     "output_type": "stream",
     "text": [
      "Epoch 60: validation NLL: 5.35\n"
     ]
    }
   ],
   "source": [
    "# Generate a ground truth covariance matrix for each channel, and then noiseless samples from it\n",
    "from encoding_information.models.gaussian_process import StationaryGaussianProcess\n",
    "\n",
    "num_images = 10000\n",
    "num_patches = 10000\n",
    "# num_images = 1000\n",
    "# num_patches = 1000\n",
    "edge_crop = 24\n",
    "\n",
    "patch_size = 20\n",
    "\n",
    "channel = 'LED119'\n",
    "\n",
    "\n",
    "images = load_bsccm_images(bsccm, channel=channel, num_images=num_images, edge_crop=edge_crop, median_filter=False, verbose=True)\n",
    "patches = extract_patches(images, patch_size, num_patches=num_patches, verbose=True)\n",
    "\n",
    "cov_mat = estimate_full_cov_mat(patches)\n",
    "gp = StationaryGaussianProcess(patches)\n",
    "gp.fit(patches)\n",
    "true_cov_mat_px = gp.get_cov_mat()\n",
    "true_mean_px = np.mean(images)\n",
    "\n",
    "samples = gp.generate_samples(num_samples=num_patches, sample_shape=patch_size, ensure_nonnegative=True)"
   ]
  },
  {
   "cell_type": "markdown",
   "metadata": {},
   "source": [
    "### Verify that mutual information estimates are consistent: they converge to the correct value given enough samples (for stationary gaussian, optimized stationary gaussian, pixelCNN)\n",
    "Of course, this is on data that is sampled form a stationary gaussian process, so its only really showing that the gaussian approximation estimator can estimate gaussian entropy and MI. \n",
    "\n",
    "\n",
    "This all uses additive gaussian noise, which has an easy analytic formula for h(y | x)\n"
   ]
  },
  {
   "cell_type": "code",
   "execution_count": 17,
   "metadata": {
    "execution": {
     "iopub.execute_input": "2024-01-13T05:04:07.650068Z",
     "iopub.status.busy": "2024-01-13T05:04:07.649884Z",
     "iopub.status.idle": "2024-01-13T05:04:10.058460Z",
     "shell.execute_reply": "2024-01-13T05:04:10.057697Z"
    }
   },
   "outputs": [
    {
     "name": "stderr",
     "output_type": "stream",
     "text": [
      "100%|██████████| 9/9 [00:00<00:00, 836.19it/s]"
     ]
    },
    {
     "name": "stdout",
     "output_type": "stream",
     "text": [
      "loading cached version of MI estimates\n",
      "loading cached version of MI estimates\n",
      "loading cached version of MI estimates\n",
      "loading cached version of MI estimates\n",
      "loading cached version of MI estimates\n",
      "loading cached version of MI estimates\n",
      "loading cached version of MI estimates\n",
      "loading cached version of MI estimates\n",
      "loading cached version of MI estimates\n"
     ]
    },
    {
     "name": "stderr",
     "output_type": "stream",
     "text": [
      "\n"
     ]
    }
   ],
   "source": [
    "num_samples_to_use = np.array([10, 20, 40, 80, 160, 320, 640, 1280, 2560]).astype(int)\n",
    "# num_bootstrap_samples = 10\n",
    "num_bootstrap_samples = 80\n",
    "\n",
    "gaussian_sigma = 50\n",
    "confidence_interval = 90\n",
    "\n",
    "true_cov_mat_py = true_cov_mat_px + gaussian_sigma**2 * np.eye(patch_size**2)\n",
    "h_y_analytic = analytic_multivariate_gaussian_entropy(true_cov_mat_py) \n",
    "# Constant conditional entropy for Gaussian noise\n",
    "h_y_given_x_analytic = analytic_multivariate_gaussian_entropy(np.eye(patch_size**2) * gaussian_sigma**2) \n",
    "mi_analytic_per_pixel = (h_y_analytic - h_y_given_x_analytic) / np.log(2)\n",
    "\n",
    "noisy_samples = add_noise(samples, gaussian_sigma=gaussian_sigma, ensure_positive=True)\n",
    "\n",
    "\n",
    "stationary_mi_estimates_gp_mean = []\n",
    "stationary_mi_estimates_gp_conf_int = []\n",
    "stationary_mi_estimates_gp_optimized_mean = []\n",
    "stationary_mi_estimates_gp_optimized_conf_int = []\n",
    "stationary_mi_estimates_pixelcnn_optimized_mean = []\n",
    "stationary_mi_estimates_pixelcnn_optimized_conf_int = []\n",
    "\n",
    "ev_floor = 1e-1\n",
    "for num_to_use in tqdm(num_samples_to_use):\n",
    "\n",
    "\n",
    "    if not os.path.exists('.cache'):\n",
    "        os.mkdir('.cache')\n",
    "    if os.path.exists('.cache/mi_estimates_{}_cache_{}_samples.npz'.format(channel, num_to_use)):\n",
    "        print('loading cached version of MI estimates')\n",
    "        loaded = onp.load('.cache/mi_estimates_{}_cache_{}_samples.npz'.format(channel, num_to_use))\n",
    "        # append to the list of estimates\n",
    "        stationary_mi_estimates_gp_mean.append(loaded['stationary_mi_estimates_gp_mean'])\n",
    "        stationary_mi_estimates_gp_conf_int.append(loaded['stationary_mi_estimates_gp_conf_int'])\n",
    "        stationary_mi_estimates_gp_optimized_mean.append(loaded['stationary_mi_estimates_gp_optimized_mean'])\n",
    "        stationary_mi_estimates_gp_optimized_conf_int.append(loaded['stationary_mi_estimates_gp_optimized_conf_int'])\n",
    "        stationary_mi_estimates_pixelcnn_optimized_mean.append(loaded['stationary_mi_estimates_pixelcnn_optimized_mean'])\n",
    "        stationary_mi_estimates_pixelcnn_optimized_conf_int.append(loaded['stationary_mi_estimates_pixelcnn_optimized_conf_int'])\n",
    "    else:\n",
    "\n",
    "        # estimate MI using stationary estimator\n",
    "        num_val_samples = max(1, min(1000, 0.1 * num_to_use))\n",
    "        \n",
    "\n",
    "        # stationary estimator with GP no optimization\n",
    "        mean, conf_int = run_bootstrap(noisy_samples[:num_to_use],\n",
    "                        num_bootstrap_samples=num_bootstrap_samples, confidence_interval=confidence_interval, estimation_fn=\n",
    "                        lambda noisy_images: estimate_mutual_information(noisy_images, num_val_samples=num_val_samples,\n",
    "                        eigenvalue_floor=ev_floor, gaussian_noise_sigma = gaussian_sigma, use_iterative_optimization=False ) ,\n",
    "                        upper_bound_confidence_interval=True,\n",
    "                        )\n",
    "        stationary_mi_estimates_gp_mean.append(mean)\n",
    "        stationary_mi_estimates_gp_conf_int.append(conf_int)\n",
    "\n",
    "        # stationary estimator with GP optimization\n",
    "        mean, conf_int = run_bootstrap(noisy_samples[:num_to_use], \n",
    "                        num_bootstrap_samples=num_bootstrap_samples, confidence_interval=confidence_interval, estimation_fn=\n",
    "                        lambda noisy_images: estimate_mutual_information(noisy_images, num_val_samples=num_val_samples,\n",
    "                        eigenvalue_floor=ev_floor, gaussian_noise_sigma = gaussian_sigma, patience=50, max_epochs=100, use_iterative_optimization=True),\n",
    "                         upper_bound_confidence_interval=True,\n",
    "                          )\n",
    "        stationary_mi_estimates_gp_optimized_mean.append(mean)\n",
    "        stationary_mi_estimates_gp_optimized_conf_int.append(conf_int)\n",
    "\n",
    "        # pixelcnn\n",
    "        mean, conf_int = run_bootstrap(noisy_samples[:num_to_use],\n",
    "                        num_bootstrap_samples=num_bootstrap_samples, confidence_interval=confidence_interval, estimation_fn=\n",
    "                        lambda noisy_images: estimate_mutual_information(noisy_images, num_val_samples=num_val_samples,\n",
    "                        eigenvalue_floor=ev_floor, gaussian_noise_sigma = gaussian_sigma, \n",
    "                        entropy_model='pixel_cnn'),\n",
    "                        upper_bound_confidence_interval=True,\n",
    "                        )\n",
    "        stationary_mi_estimates_pixelcnn_optimized_mean.append(mean)\n",
    "        stationary_mi_estimates_pixelcnn_optimized_conf_int.append(conf_int)\n",
    "\n",
    "\n",
    "            # save all these results to a numpy file\n",
    "        onp.savez('.cache/mi_estimates_{}_cache_{}_samples'.format(channel, num_to_use),\n",
    "                stationary_mi_estimates_gp_mean=onp.array(stationary_mi_estimates_gp_mean[-1]),\n",
    "                stationary_mi_estimates_gp_conf_int=onp.array(stationary_mi_estimates_gp_conf_int[-1]),\n",
    "                stationary_mi_estimates_gp_optimized_mean=onp.array(stationary_mi_estimates_gp_optimized_mean[-1]),\n",
    "                stationary_mi_estimates_gp_optimized_conf_int=onp.array(stationary_mi_estimates_gp_optimized_conf_int[-1]),\n",
    "                stationary_mi_estimates_pixelcnn_optimized_mean=onp.array(stationary_mi_estimates_pixelcnn_optimized_mean[-1]),\n",
    "                stationary_mi_estimates_pixelcnn_optimized_conf_int=onp.array(stationary_mi_estimates_pixelcnn_optimized_conf_int[-1]),\n",
    "                )\n",
    "                \n",
    "\n",
    "\n",
    "stationary_mi_estimates_gp_mean = np.array(stationary_mi_estimates_gp_mean)\n",
    "stationary_mi_estimates_gp_conf_int = np.array(stationary_mi_estimates_gp_conf_int)\n",
    "stationary_mi_estimates_gp_optimized_mean = np.array(stationary_mi_estimates_gp_optimized_mean)\n",
    "stationary_mi_estimates_gp_optimized_conf_int = np.array(stationary_mi_estimates_gp_optimized_conf_int)\n",
    "stationary_mi_estimates_pixelcnn_optimized_mean = np.array(stationary_mi_estimates_pixelcnn_optimized_mean)\n",
    "stationary_mi_estimates_pixelcnn_optimized_conf_int = np.array(stationary_mi_estimates_pixelcnn_optimized_conf_int)"
   ]
  },
  {
   "cell_type": "code",
   "execution_count": 21,
   "metadata": {
    "execution": {
     "iopub.execute_input": "2024-01-13T05:04:10.064364Z",
     "iopub.status.busy": "2024-01-13T05:04:10.064146Z",
     "iopub.status.idle": "2024-01-13T05:04:11.385178Z",
     "shell.execute_reply": "2024-01-13T05:04:11.384560Z"
    }
   },
   "outputs": [
    {
     "data": {
      "image/png": "[encoded data removed]",
      "text/plain": [
       "<Figure size 1000x500 with 2 Axes>"
      ]
     },
     "metadata": {},
     "output_type": "display_data"
    }
   ],
   "source": [
    "colors = get_color_cycle()\n",
    "fig, ax = plt.subplots(1, 2, figsize=(10, 5), sharex=True)\n",
    "ax[0].fill_between(num_samples_to_use, stationary_mi_estimates_gp_conf_int[:,0], \n",
    "                stationary_mi_estimates_gp_conf_int[:,1], alpha=0.5, label=f'{confidence_interval}% confidence interval', color=colors[2])\n",
    "ax[0].fill_between(num_samples_to_use, stationary_mi_estimates_gp_optimized_conf_int[:,0],\n",
    "                stationary_mi_estimates_gp_optimized_conf_int[:,1], alpha=0.5, label=f'{confidence_interval}% confidence interval', color=colors[0])\n",
    "ax[0].fill_between(num_samples_to_use, stationary_mi_estimates_pixelcnn_optimized_conf_int[:,0],\n",
    "                stationary_mi_estimates_pixelcnn_optimized_conf_int[:,1], alpha=0.5, label=f'{confidence_interval}% confidence interval', color=colors[1])\n",
    "ax[0].semilogx(num_samples_to_use, stationary_mi_estimates_gp_mean, label='GP', color=colors[2])\n",
    "ax[0].semilogx(num_samples_to_use, stationary_mi_estimates_gp_optimized_mean, label='Optimized GP', color=colors[0])\n",
    "ax[0].semilogx(num_samples_to_use, stationary_mi_estimates_pixelcnn_optimized_mean, label='PixelCNN', color=colors[1])\n",
    "\n",
    "ax[0].axhline(mi_analytic_per_pixel, color='k', linestyle='--', label='True')\n",
    "\n",
    "# ax[0].set(ylim=[0, 10], yticks=[0, 200])\n",
    "# set log scale\n",
    "ax[0].set_yscale('log')\n",
    "\n",
    "ax[0].set(xlabel='Number of samples', title='stationary MI estimate\\nper pixel', ylabel='bits per pixel')\n",
    "clear_spines(ax[0])\n",
    "ax[0].legend()\n",
    "\n",
    "\n",
    "ax[1].fill_between(num_samples_to_use, stationary_mi_estimates_gp_conf_int[:,0], \n",
    "                stationary_mi_estimates_gp_conf_int[:,1], alpha=0.5, label=f'{confidence_interval}% confidence interval', color=colors[2])\n",
    "ax[1].fill_between(num_samples_to_use, stationary_mi_estimates_gp_optimized_conf_int[:,0],\n",
    "                stationary_mi_estimates_gp_optimized_conf_int[:,1], alpha=0.5, label=f'{confidence_interval}% confidence interval', color=colors[0])\n",
    "ax[1].fill_between(num_samples_to_use, stationary_mi_estimates_pixelcnn_optimized_conf_int[:,0],\n",
    "                stationary_mi_estimates_pixelcnn_optimized_conf_int[:,1], alpha=0.5, label=f'{confidence_interval}% confidence interval', color=colors[1])\n",
    "ax[1].semilogx(num_samples_to_use, stationary_mi_estimates_gp_mean, label='GP', color=colors[2])\n",
    "ax[1].semilogx(num_samples_to_use, stationary_mi_estimates_gp_optimized_mean, label='Optimized GP', color=colors[0])\n",
    "ax[1].semilogx(num_samples_to_use, stationary_mi_estimates_pixelcnn_optimized_mean, label='PixelCNN', color=colors[1])\n",
    "\n",
    "ax[1].axhline(mi_analytic_per_pixel, color='k', linestyle='--', label='True')\n",
    "\n",
    "ax[1].set(ylim=[0, 2], yticks=[0, 1, 2])\n",
    "clear_spines(ax[1])\n",
    "\n",
    "fig.savefig('/home/hpinkard_waller/figures/mi_estimation/' + 'mi_estimator_consistency_gaussian_target' + '.pdf', transparent=True)"
   ]
  },
  {
   "cell_type": "markdown",
   "metadata": {},
   "source": [
    "# Same MI consistency plot, but with samples from data distrbution instead of GP\n",
    "Cant show it converging to true value, but can show that it converges to a (probably biased) estimate"
   ]
  },
  {
   "cell_type": "code",
   "execution_count": 22,
   "metadata": {
    "execution": {
     "iopub.execute_input": "2024-01-13T05:04:11.390812Z",
     "iopub.status.busy": "2024-01-13T05:04:11.390632Z",
     "iopub.status.idle": "2024-01-14T07:00:10.309425Z",
     "shell.execute_reply": "2024-01-14T07:00:10.308801Z"
    }
   },
   "outputs": [
    {
     "name": "stderr",
     "output_type": "stream",
     "text": [
      "100%|██████████| 9/9 [00:00<00:00, 327.99it/s]"
     ]
    },
    {
     "name": "stdout",
     "output_type": "stream",
     "text": [
      "loading cached version of MI estimates\n",
      "loading cached version of MI estimates\n",
      "loading cached version of MI estimates\n",
      "loading cached version of MI estimates\n",
      "loading cached version of MI estimates\n",
      "loading cached version of MI estimates\n",
      "loading cached version of MI estimates\n",
      "loading cached version of MI estimates\n",
      "loading cached version of MI estimates\n"
     ]
    },
    {
     "name": "stderr",
     "output_type": "stream",
     "text": [
      "\n"
     ]
    }
   ],
   "source": [
    "\n",
    "stationary_mi_estimates_gp_mean = []\n",
    "stationary_mi_estimates_gp_conf_int = []\n",
    "stationary_mi_estimates_gp_optimized_mean = []\n",
    "stationary_mi_estimates_gp_optimized_conf_int = []\n",
    "stationary_mi_estimates_pixelcnn_optimized_mean = []\n",
    "stationary_mi_estimates_pixelcnn_optimized_conf_int = []\n",
    "\n",
    "\n",
    "# images = load_bsccm_images(bsccm, channel=channel, num_images=num_images, edge_crop=edge_crop, median_filter=True)\n",
    "# patches = extract_patches(images, patch_size, num_patches=num_patches)\n",
    "# patches = add_noise(patches)\n",
    "\n",
    "ev_floor = 1e-3\n",
    "for num_to_use in tqdm(num_samples_to_use):\n",
    "\n",
    "    if not os.path.exists('.cache'):\n",
    "        os.mkdir('.cache')\n",
    "    if os.path.exists('.cache/mi_estimates_{}_no_gt_cache_{}_samples.npz'.format(channel, num_to_use)):\n",
    "        print('loading cached version of MI estimates')\n",
    "        loaded = onp.load('.cache/mi_estimates_{}_no_gt_cache_{}_samples.npz'.format(channel, num_to_use))\n",
    "        # append to the list of estimates\n",
    "        stationary_mi_estimates_gp_mean.append(loaded['stationary_mi_estimates_gp_mean'])\n",
    "        stationary_mi_estimates_gp_conf_int.append(loaded['stationary_mi_estimates_gp_conf_int'])\n",
    "        stationary_mi_estimates_gp_optimized_mean.append(loaded['stationary_mi_estimates_gp_optimized_mean'])\n",
    "        stationary_mi_estimates_gp_optimized_conf_int.append(loaded['stationary_mi_estimates_gp_optimized_conf_int'])\n",
    "        stationary_mi_estimates_pixelcnn_optimized_mean.append(loaded['stationary_mi_estimates_pixelcnn_optimized_mean'])\n",
    "        stationary_mi_estimates_pixelcnn_optimized_conf_int.append(loaded['stationary_mi_estimates_pixelcnn_optimized_conf_int'])\n",
    "    else:\n",
    "\n",
    "        # estimate MI using stationary estimator\n",
    "        num_val_samples = max(1, min(1000, 0.1 * num_to_use))\n",
    "\n",
    "        mean, conf_int = run_bootstrap(patches[:num_to_use], \n",
    "                        num_bootstrap_samples=num_bootstrap_samples, confidence_interval=confidence_interval, estimation_fn=\n",
    "                        lambda noisy_images: estimate_mutual_information(noisy_images, num_val_samples=num_val_samples,\n",
    "                        eigenvalue_floor=ev_floor, use_iterative_optimization=False, verbose=True) ,\n",
    "                        upper_bound_confidence_interval=True,\n",
    "                        )\n",
    "        stationary_mi_estimates_gp_mean.append(mean)\n",
    "        stationary_mi_estimates_gp_conf_int.append(conf_int)\n",
    "\n",
    "        mean, conf_int = run_bootstrap(patches[:num_to_use], \n",
    "                        num_bootstrap_samples=num_bootstrap_samples, confidence_interval=confidence_interval, estimation_fn=\n",
    "                        lambda noisy_images: estimate_mutual_information(noisy_images, num_val_samples=num_val_samples,\n",
    "                        eigenvalue_floor=ev_floor, patience=50, max_epochs=100, use_iterative_optimization=True) ,\n",
    "                        upper_bound_confidence_interval=True,                        \n",
    "                        )\n",
    "        stationary_mi_estimates_gp_optimized_mean.append(mean)\n",
    "        stationary_mi_estimates_gp_optimized_conf_int.append(conf_int)\n",
    "\n",
    "        mean, conf_int = run_bootstrap(patches[:num_to_use],\n",
    "                        num_bootstrap_samples=num_bootstrap_samples, confidence_interval=confidence_interval, estimation_fn=\n",
    "                        lambda noisy_images: estimate_mutual_information(noisy_images, num_val_samples=num_val_samples,\n",
    "                        eigenvalue_floor=ev_floor,  entropy_model='pixel_cnn') ,\n",
    "                        upper_bound_confidence_interval=True,\n",
    "                        )\n",
    "        stationary_mi_estimates_pixelcnn_optimized_mean.append(mean)\n",
    "        stationary_mi_estimates_pixelcnn_optimized_conf_int.append(conf_int)\n",
    "\n",
    "\n",
    "\n",
    "            # save all these results to a numpy file\n",
    "        onp.savez('.cache/mi_estimates_{}_no_gt_cache_{}_samples'.format(channel, num_to_use),\n",
    "                stationary_mi_estimates_gp_mean=onp.array(stationary_mi_estimates_gp_mean[-1]),\n",
    "                stationary_mi_estimates_gp_conf_int=onp.array(stationary_mi_estimates_gp_conf_int[-1]),\n",
    "                stationary_mi_estimates_gp_optimized_mean=onp.array(stationary_mi_estimates_gp_optimized_mean[-1]),\n",
    "                stationary_mi_estimates_gp_optimized_conf_int=onp.array(stationary_mi_estimates_gp_optimized_conf_int[-1]),\n",
    "                stationary_mi_estimates_pixelcnn_optimized_mean=onp.array(stationary_mi_estimates_pixelcnn_optimized_mean[-1]),\n",
    "                stationary_mi_estimates_pixelcnn_optimized_conf_int=onp.array(stationary_mi_estimates_pixelcnn_optimized_conf_int[-1]),\n",
    "                )\n",
    "                \n",
    "\n",
    "stationary_mi_estimates_gp_mean = np.array(stationary_mi_estimates_gp_mean)\n",
    "stationary_mi_estimates_gp_conf_int = np.array(stationary_mi_estimates_gp_conf_int)\n",
    "stationary_mi_estimates_gp_optimized_mean = np.array(stationary_mi_estimates_gp_optimized_mean)\n",
    "stationary_mi_estimates_gp_optimized_conf_int = np.array(stationary_mi_estimates_gp_optimized_conf_int)\n",
    "stationary_mi_estimates_pixelcnn_optimized_mean = np.array(stationary_mi_estimates_pixelcnn_optimized_mean)\n",
    "stationary_mi_estimates_pixelcnn_optimized_conf_int = np.array(stationary_mi_estimates_pixelcnn_optimized_conf_int)"
   ]
  },
  {
   "cell_type": "code",
   "execution_count": 14,
   "metadata": {},
   "outputs": [
    {
     "data": {
      "text/plain": [
       "Array([1004958.0754122 ,  328071.83320122,  165867.97846841,\n",
       "        178996.2762604 ,  109044.85014423,  106842.67150193,\n",
       "         96142.91782633,   86159.90052236,   76933.15423024],      dtype=float64)"
      ]
     },
     "execution_count": 14,
     "metadata": {},
     "output_type": "execute_result"
    }
   ],
   "source": [
    "stationary_mi_estimates_gp_mean"
   ]
  },
  {
   "cell_type": "code",
   "execution_count": 23,
   "metadata": {
    "execution": {
     "iopub.execute_input": "2024-01-14T07:00:10.313733Z",
     "iopub.status.busy": "2024-01-14T07:00:10.313239Z",
     "iopub.status.idle": "2024-01-14T07:00:10.990448Z",
     "shell.execute_reply": "2024-01-14T07:00:10.989932Z"
    }
   },
   "outputs": [
    {
     "data": {
      "image/png": "[encoded data removed]",
      "text/plain": [
       "<Figure size 1000x500 with 2 Axes>"
      ]
     },
     "metadata": {},
     "output_type": "display_data"
    }
   ],
   "source": [
    "colors = get_color_cycle()\n",
    "\n",
    "fig, ax = plt.subplots(1, 2, figsize=(10, 5), sharex=True)\n",
    "ax[0].fill_between(num_samples_to_use, stationary_mi_estimates_gp_optimized_conf_int[:,0],\n",
    "                stationary_mi_estimates_gp_optimized_conf_int[:,1], alpha=0.5, label=f'{confidence_interval}% confidence interval', color=colors[0])\n",
    "ax[0].fill_between(num_samples_to_use, stationary_mi_estimates_pixelcnn_optimized_conf_int[:,0],\n",
    "                stationary_mi_estimates_pixelcnn_optimized_conf_int[:,1], alpha=0.5, label=f'{confidence_interval}% confidence interval', color=colors[1])\n",
    "ax[0].fill_between(num_samples_to_use, stationary_mi_estimates_gp_conf_int[:,0], \n",
    "                stationary_mi_estimates_gp_conf_int[:,1], alpha=0.5, label=f'{confidence_interval}% confidence interval', color=colors[2])\n",
    "\n",
    "ax[0].semilogx(num_samples_to_use, stationary_mi_estimates_gp_optimized_mean, label='Estimated (optimized)', color=colors[0])\n",
    "ax[0].semilogx(num_samples_to_use, stationary_mi_estimates_pixelcnn_optimized_mean, label='Estimated (optimized, PixelCNN)', color=colors[1])\n",
    "ax[0].semilogx(num_samples_to_use, stationary_mi_estimates_gp_mean, label='Estimated regular GP', color=colors[2])\n",
    "\n",
    "\n",
    "# ax[0].set(ylim=[0, 10], yticks=[0, 10])\n",
    "# set log scale\n",
    "ax[0].set_yscale('log')\n",
    "\n",
    "ax[0].set(xlabel='Number of samples', title='stationary MI estimate\\nper pixel', ylabel='bits per pixel')\n",
    "clear_spines(ax[0])\n",
    "ax[0].legend()\n",
    "\n",
    "\n",
    "ax[1].fill_between(num_samples_to_use, stationary_mi_estimates_gp_optimized_conf_int[:,0],\n",
    "                stationary_mi_estimates_gp_optimized_conf_int[:,1], alpha=0.5, label=f'{confidence_interval}% confidence interval', color=colors[0])\n",
    "ax[1].fill_between(num_samples_to_use, stationary_mi_estimates_pixelcnn_optimized_conf_int[:,0],\n",
    "                stationary_mi_estimates_pixelcnn_optimized_conf_int[:,1], alpha=0.5, label=f'{confidence_interval}% confidence interval', color=colors[1])\n",
    "ax[1].fill_between(num_samples_to_use, stationary_mi_estimates_gp_conf_int[:,0], \n",
    "                stationary_mi_estimates_gp_conf_int[:,1], alpha=0.5, label=f'{confidence_interval}% confidence interval', color=colors[2])\n",
    "ax[1].semilogx(num_samples_to_use, stationary_mi_estimates_gp_optimized_mean, label='Estimated (optimized)', color=colors[0])\n",
    "ax[1].semilogx(num_samples_to_use, stationary_mi_estimates_pixelcnn_optimized_mean, label='Estimated (optimized, PixelCNN)', color=colors[1])\n",
    "ax[1].semilogx(num_samples_to_use, stationary_mi_estimates_gp_mean, label='Estimated', color=colors[2])\n",
    "\n",
    "\n",
    "ax[1].set(ylim=[0, 2], yticks=[0, 1, 2])\n",
    "clear_spines(ax[1])\n",
    "\n",
    "fig.savefig('/home/hpinkard_waller/figures/mi_estimation/' + 'mi_estimator_consistency_real_samples' + '.pdf', transparent=True)"
   ]
  }
 ],
 "metadata": {
  "kernelspec": {
   "display_name": "phenotypes",
   "language": "python",
   "name": "python3"
  },
  "language_info": {
   "codemirror_mode": {
    "name": "ipython",
    "version": 3
   },
   "file_extension": ".py",
   "mimetype": "text/x-python",
   "name": "python",
   "nbconvert_exporter": "python",
   "pygments_lexer": "ipython3",
   "version": "3.10.6"
  }
 },
 "nbformat": 4,
 "nbformat_minor": 2
}
