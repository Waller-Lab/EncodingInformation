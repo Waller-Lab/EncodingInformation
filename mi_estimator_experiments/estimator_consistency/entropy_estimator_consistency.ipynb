{
 "cells": [
  {
   "cell_type": "code",
   "execution_count": 1,
   "metadata": {
    "execution": {
     "iopub.execute_input": "2023-10-27T04:53:28.743116Z",
     "iopub.status.busy": "2023-10-27T04:53:28.742478Z",
     "iopub.status.idle": "2023-10-27T04:53:36.340614Z",
     "shell.execute_reply": "2023-10-27T04:53:36.339970Z"
    }
   },
   "outputs": [
    {
     "name": "stderr",
     "output_type": "stream",
     "text": [
      "2023-10-30 10:07:46.704148: E tensorflow/stream_executor/cuda/cuda_blas.cc:2981] Unable to register cuBLAS factory: Attempting to register factory for plugin cuBLAS when one has already been registered\n",
      "2023-10-30 10:07:47.390259: W tensorflow/stream_executor/platform/default/dso_loader.cc:64] Could not load dynamic library 'libnvinfer.so.7'; dlerror: libnvinfer.so.7: cannot open shared object file: No such file or directory; LD_LIBRARY_PATH: /home/hpinkard_waller/mambaforge/envs/phenotypes/lib/python3.10/site-packages/nvidia/cublas/lib:/home/hpinkard_waller/mambaforge/envs/phenotypes/lib/python3.10/site-packages/nvidia/cuda_cupti/lib:/home/hpinkard_waller/mambaforge/envs/phenotypes/lib/python3.10/site-packages/nvidia/cuda_nvcc/lib:/home/hpinkard_waller/mambaforge/envs/phenotypes/lib/python3.10/site-packages/nvidia/cuda_nvrtc/lib:/home/hpinkard_waller/mambaforge/envs/phenotypes/lib/python3.10/site-packages/nvidia/cuda_runtime/lib:/home/hpinkard_waller/mambaforge/envs/phenotypes/lib/python3.10/site-packages/nvidia/cudnn/lib:/home/hpinkard_waller/mambaforge/envs/phenotypes/lib/python3.10/site-packages/nvidia/cufft/lib:/home/hpinkard_waller/mambaforge/envs/phenotypes/lib/python3.10/site-packages/nvidia/cusolver/lib:/home/hpinkard_waller/mambaforge/envs/phenotypes/lib/python3.10/site-packages/nvidia/cusparse/lib:/home/hpinkard_waller/mambaforge/envs/phenotypes/lib/python3.10/site-packages/nvidia/nccl/lib\n",
      "2023-10-30 10:07:47.390348: W tensorflow/stream_executor/platform/default/dso_loader.cc:64] Could not load dynamic library 'libnvinfer_plugin.so.7'; dlerror: libnvinfer_plugin.so.7: cannot open shared object file: No such file or directory; LD_LIBRARY_PATH: /home/hpinkard_waller/mambaforge/envs/phenotypes/lib/python3.10/site-packages/nvidia/cublas/lib:/home/hpinkard_waller/mambaforge/envs/phenotypes/lib/python3.10/site-packages/nvidia/cuda_cupti/lib:/home/hpinkard_waller/mambaforge/envs/phenotypes/lib/python3.10/site-packages/nvidia/cuda_nvcc/lib:/home/hpinkard_waller/mambaforge/envs/phenotypes/lib/python3.10/site-packages/nvidia/cuda_nvrtc/lib:/home/hpinkard_waller/mambaforge/envs/phenotypes/lib/python3.10/site-packages/nvidia/cuda_runtime/lib:/home/hpinkard_waller/mambaforge/envs/phenotypes/lib/python3.10/site-packages/nvidia/cudnn/lib:/home/hpinkard_waller/mambaforge/envs/phenotypes/lib/python3.10/site-packages/nvidia/cufft/lib:/home/hpinkard_waller/mambaforge/envs/phenotypes/lib/python3.10/site-packages/nvidia/cusolver/lib:/home/hpinkard_waller/mambaforge/envs/phenotypes/lib/python3.10/site-packages/nvidia/cusparse/lib:/home/hpinkard_waller/mambaforge/envs/phenotypes/lib/python3.10/site-packages/nvidia/nccl/lib\n",
      "2023-10-30 10:07:47.390356: W tensorflow/compiler/tf2tensorrt/utils/py_utils.cc:38] TF-TRT Warning: Cannot dlopen some TensorRT libraries. If you would like to use Nvidia GPU with TensorRT, please make sure the missing libraries mentioned above are installed properly.\n"
     ]
    },
    {
     "name": "stdout",
     "output_type": "stream",
     "text": [
      "Opening BSCCM\n",
      "Opened BSCCM\n"
     ]
    }
   ],
   "source": [
    "%load_ext autoreload\n",
    "%autoreload 2\n",
    "# this only works on startup!\n",
    "from jax import config\n",
    "config.update(\"jax_enable_x64\", True)\n",
    "\n",
    "import os\n",
    "os.environ[\"CUDA_DEVICE_ORDER\"] = \"PCI_BUS_ID\" \n",
    "os.environ[\"CUDA_VISIBLE_DEVICES\"] = '3'\n",
    "\n",
    "from encoding_information.gpu_utils import limit_gpu_memory_growth\n",
    "limit_gpu_memory_growth()\n",
    "\n",
    "from cleanplots import *\n",
    "from tqdm import tqdm\n",
    "from encoding_information.information_estimation import *\n",
    "from encoding_information.image_utils import *\n",
    "from encoding_information.models.gaussian_process import *\n",
    "\n",
    "\n",
    "from encoding_information.bsccm_utils import *\n",
    "from bsccm import BSCCM\n",
    "from jax import jit\n",
    "import numpy as onp\n",
    "import jax.numpy as np\n",
    "\n",
    "bsccm = BSCCM('/home/hpinkard_waller/data/BSCCM/')"
   ]
  },
  {
   "cell_type": "markdown",
   "metadata": {},
   "source": [
    "## Do the entropy estimators give correct values for gaussian processes"
   ]
  },
  {
   "cell_type": "code",
   "execution_count": 2,
   "metadata": {
    "execution": {
     "iopub.execute_input": "2023-10-27T04:53:36.345125Z",
     "iopub.status.busy": "2023-10-27T04:53:36.344828Z",
     "iopub.status.idle": "2023-10-27T04:56:33.727699Z",
     "shell.execute_reply": "2023-10-27T04:56:33.726928Z"
    }
   },
   "outputs": [
    {
     "name": "stderr",
     "output_type": "stream",
     "text": [
      "2023-10-30 10:10:14.602486: W tensorflow/core/common_runtime/gpu/gpu_bfc_allocator.cc:42] Overriding orig_value setting because the TF_FORCE_GPU_ALLOW_GROWTH environment variable is set. Original config value was 0.\n"
     ]
    },
    {
     "name": "stdout",
     "output_type": "stream",
     "text": [
      "Initial validation NLL: 2567.30\n"
     ]
    },
    {
     "name": "stderr",
     "output_type": "stream",
     "text": [
      "Epoch 1: 100%|██████████| 1/1 [00:10<00:00, 10.20s/it]\n"
     ]
    },
    {
     "name": "stdout",
     "output_type": "stream",
     "text": [
      "Epoch 1: validation NLL: 4.27\n"
     ]
    },
    {
     "name": "stderr",
     "output_type": "stream",
     "text": [
      "Epoch 2: 100%|██████████| 1/1 [00:00<00:00, 17.29it/s]\n"
     ]
    },
    {
     "name": "stdout",
     "output_type": "stream",
     "text": [
      "Epoch 2: validation NLL: 4.25\n"
     ]
    },
    {
     "name": "stderr",
     "output_type": "stream",
     "text": [
      "Epoch 3: 100%|██████████| 1/1 [00:00<00:00, 18.21it/s]\n"
     ]
    },
    {
     "name": "stdout",
     "output_type": "stream",
     "text": [
      "Epoch 3: validation NLL: 4.24\n"
     ]
    },
    {
     "name": "stderr",
     "output_type": "stream",
     "text": [
      "Epoch 4: 100%|██████████| 1/1 [00:00<00:00, 18.18it/s]\n"
     ]
    },
    {
     "name": "stdout",
     "output_type": "stream",
     "text": [
      "Epoch 4: validation NLL: 4.25\n"
     ]
    },
    {
     "name": "stderr",
     "output_type": "stream",
     "text": [
      "Epoch 5: 100%|██████████| 1/1 [00:00<00:00, 17.77it/s]\n"
     ]
    },
    {
     "name": "stdout",
     "output_type": "stream",
     "text": [
      "Epoch 5: validation NLL: 4.25\n"
     ]
    },
    {
     "name": "stderr",
     "output_type": "stream",
     "text": [
      "Epoch 6: 100%|██████████| 1/1 [00:00<00:00, 17.82it/s]\n"
     ]
    },
    {
     "name": "stdout",
     "output_type": "stream",
     "text": [
      "Epoch 6: validation NLL: 4.25\n"
     ]
    },
    {
     "name": "stderr",
     "output_type": "stream",
     "text": [
      "Epoch 7: 100%|██████████| 1/1 [00:00<00:00, 17.89it/s]\n"
     ]
    },
    {
     "name": "stdout",
     "output_type": "stream",
     "text": [
      "Epoch 7: validation NLL: 4.25\n"
     ]
    },
    {
     "name": "stderr",
     "output_type": "stream",
     "text": [
      "Epoch 8: 100%|██████████| 1/1 [00:00<00:00, 18.19it/s]\n"
     ]
    },
    {
     "name": "stdout",
     "output_type": "stream",
     "text": [
      "Epoch 8: validation NLL: 4.25\n"
     ]
    }
   ],
   "source": [
    "# Compute a \"true\" reference covariance matrix\n",
    "num_images = 5000\n",
    "num_patches = 15000\n",
    "# num_images = 1000\n",
    "# num_patches = 1000\n",
    "edge_crop = 32\n",
    "# patch_size = 50\n",
    "patch_size = 20\n",
    "channel = 'LED119'\n",
    "eigenvalue_floor = 1e-3\n",
    "\n",
    "\n",
    "images = load_bsccm_images(bsccm, channel=channel, num_images=num_images, edge_crop=edge_crop, median_filter=True)\n",
    "patches = extract_patches(images, patch_size, num_patches=num_patches)\n",
    "\n",
    "cov_mat = estimate_full_cov_mat(patches)\n",
    "cov_mat_pd = make_positive_definite(cov_mat, eigenvalue_floor=eigenvalue_floor)\n",
    "gp = StationaryGaussianProcess(patches, eigenvalue_floor=eigenvalue_floor)\n",
    "cov_mat_stationary_pd = gp.get_cov_mat()\n",
    "gp.fit(patches)\n",
    "cov_mat_stationary_optimized = gp.get_cov_mat()\n"
   ]
  },
  {
   "cell_type": "markdown",
   "metadata": {},
   "source": [
    "### Now verify that mutual information estimates converge to the true value with increasing number of samples"
   ]
  },
  {
   "cell_type": "code",
   "execution_count": 3,
   "metadata": {
    "execution": {
     "iopub.execute_input": "2023-10-27T04:56:33.731698Z",
     "iopub.status.busy": "2023-10-27T04:56:33.731109Z",
     "iopub.status.idle": "2023-10-27T05:05:31.905130Z",
     "shell.execute_reply": "2023-10-27T05:05:31.904382Z"
    }
   },
   "outputs": [
    {
     "name": "stdout",
     "output_type": "stream",
     "text": [
      "Initial validation NLL: 12079.07\n"
     ]
    },
    {
     "name": "stderr",
     "output_type": "stream",
     "text": [
      "Epoch 1: 100%|██████████| 1/1 [00:05<00:00,  5.95s/it]\n"
     ]
    },
    {
     "name": "stdout",
     "output_type": "stream",
     "text": [
      "Epoch 1: validation NLL: 3184.58\n"
     ]
    },
    {
     "name": "stderr",
     "output_type": "stream",
     "text": [
      "Epoch 2: 100%|██████████| 1/1 [00:00<00:00, 29.23it/s]\n"
     ]
    },
    {
     "name": "stdout",
     "output_type": "stream",
     "text": [
      "Epoch 2: validation NLL: 4.94\n"
     ]
    },
    {
     "name": "stderr",
     "output_type": "stream",
     "text": [
      "Epoch 3: 100%|██████████| 1/1 [00:00<00:00, 28.79it/s]\n"
     ]
    },
    {
     "name": "stdout",
     "output_type": "stream",
     "text": [
      "Epoch 3: validation NLL: 4.93\n"
     ]
    },
    {
     "name": "stderr",
     "output_type": "stream",
     "text": [
      "Epoch 4: 100%|██████████| 1/1 [00:00<00:00, 29.41it/s]\n"
     ]
    },
    {
     "name": "stdout",
     "output_type": "stream",
     "text": [
      "Epoch 4: validation NLL: 4.92\n"
     ]
    },
    {
     "name": "stderr",
     "output_type": "stream",
     "text": [
      "Epoch 5: 100%|██████████| 1/1 [00:00<00:00, 30.09it/s]\n"
     ]
    },
    {
     "name": "stdout",
     "output_type": "stream",
     "text": [
      "Epoch 5: validation NLL: 4.92\n"
     ]
    },
    {
     "name": "stderr",
     "output_type": "stream",
     "text": [
      "Epoch 6: 100%|██████████| 1/1 [00:00<00:00, 28.56it/s]\n"
     ]
    },
    {
     "name": "stdout",
     "output_type": "stream",
     "text": [
      "Epoch 6: validation NLL: 4.92\n"
     ]
    },
    {
     "name": "stderr",
     "output_type": "stream",
     "text": [
      "Epoch 7: 100%|██████████| 1/1 [00:00<00:00, 29.26it/s]\n"
     ]
    },
    {
     "name": "stdout",
     "output_type": "stream",
     "text": [
      "Epoch 7: validation NLL: 4.91\n"
     ]
    },
    {
     "name": "stderr",
     "output_type": "stream",
     "text": [
      "Epoch 8: 100%|██████████| 1/1 [00:00<00:00, 27.54it/s]\n"
     ]
    },
    {
     "name": "stdout",
     "output_type": "stream",
     "text": [
      "Epoch 8: validation NLL: 4.91\n"
     ]
    },
    {
     "name": "stderr",
     "output_type": "stream",
     "text": [
      "Epoch 9: 100%|██████████| 1/1 [00:00<00:00, 29.65it/s]\n"
     ]
    },
    {
     "name": "stdout",
     "output_type": "stream",
     "text": [
      "Epoch 9: validation NLL: 4.91\n"
     ]
    },
    {
     "name": "stderr",
     "output_type": "stream",
     "text": [
      "Epoch 10: 100%|██████████| 1/1 [00:00<00:00, 29.20it/s]\n"
     ]
    },
    {
     "name": "stdout",
     "output_type": "stream",
     "text": [
      "Epoch 10: validation NLL: 4.91\n"
     ]
    },
    {
     "name": "stderr",
     "output_type": "stream",
     "text": [
      "Epoch 11: 100%|██████████| 1/1 [00:00<00:00, 29.85it/s]\n"
     ]
    },
    {
     "name": "stdout",
     "output_type": "stream",
     "text": [
      "Epoch 11: validation NLL: 4.91\n"
     ]
    },
    {
     "name": "stderr",
     "output_type": "stream",
     "text": [
      "Epoch 12: 100%|██████████| 1/1 [00:00<00:00, 29.03it/s]\n"
     ]
    },
    {
     "name": "stdout",
     "output_type": "stream",
     "text": [
      "Epoch 12: validation NLL: 4.91\n"
     ]
    },
    {
     "name": "stderr",
     "output_type": "stream",
     "text": [
      "Epoch 13: 100%|██████████| 1/1 [00:00<00:00, 29.88it/s]\n"
     ]
    },
    {
     "name": "stdout",
     "output_type": "stream",
     "text": [
      "Epoch 13: validation NLL: 4.91\n"
     ]
    },
    {
     "name": "stderr",
     "output_type": "stream",
     "text": [
      "Epoch 14: 100%|██████████| 1/1 [00:00<00:00, 28.95it/s]\n"
     ]
    },
    {
     "name": "stdout",
     "output_type": "stream",
     "text": [
      "Epoch 14: validation NLL: 4.91\n"
     ]
    }
   ],
   "source": [
    "# Generate a ground truth covariance matrix for each channel, and then noiseless samples from it\n",
    "from encoding_information.models.gaussian_process import StationaryGaussianProcess\n",
    "\n",
    "num_images = 10000\n",
    "num_patches = 10000\n",
    "# num_images = 1000\n",
    "# num_patches = 1000\n",
    "edge_crop = 24\n",
    "\n",
    "patch_size = 15\n",
    "\n",
    "channel = 'DPC_Right'\n",
    "\n",
    "\n",
    "images = load_bsccm_images(bsccm, channel=channel, num_images=num_images, edge_crop=edge_crop, median_filter=False)\n",
    "patches = extract_patches(images, patch_size, num_patches=num_patches)\n",
    "\n",
    "cov_mat = estimate_full_cov_mat(patches)\n",
    "gp = StationaryGaussianProcess(patches)\n",
    "gp.fit(patches)\n",
    "true_cov_mat_px = gp.get_cov_mat()\n",
    "true_mean_px = np.mean(images)\n",
    "samples = gp.generate_samples(num_samples=num_patches, sample_shape=patch_size, ensure_nonnegative=True)"
   ]
  },
  {
   "cell_type": "markdown",
   "metadata": {},
   "source": [
    "### Verify that entrpoy and mutual information estimates are consistent: they converge to the correct value given enough samples\n",
    "Of course, this is on data that is sampled form a stationary gaussian process, so its only really showing that the gaussian approximation estimator can estimate gaussian entropy and MI. \n",
    "\n",
    "\n",
    "This all uses additive gaussian noise, which has an easy analytic formula for h(y | x)"
   ]
  },
  {
   "cell_type": "code",
   "execution_count": 4,
   "metadata": {
    "execution": {
     "iopub.execute_input": "2023-10-27T05:05:31.910608Z",
     "iopub.status.busy": "2023-10-27T05:05:31.910318Z",
     "iopub.status.idle": "2023-10-27T19:34:03.486408Z",
     "shell.execute_reply": "2023-10-27T19:34:03.483807Z"
    }
   },
   "outputs": [
    {
     "name": "stderr",
     "output_type": "stream",
     "text": [
      "  0%|          | 0/5 [00:00<?, ?it/s]"
     ]
    },
    {
     "name": "stdout",
     "output_type": "stream",
     "text": [
      "Using 10 samples\n",
      "full covariance gp\n"
     ]
    },
    {
     "name": "stderr",
     "output_type": "stream",
     "text": [
      "Running bootstraps: 100%|██████████| 80/80 [00:03<00:00, 24.68it/s]\n"
     ]
    },
    {
     "name": "stdout",
     "output_type": "stream",
     "text": [
      "stationary gp\n"
     ]
    },
    {
     "name": "stderr",
     "output_type": "stream",
     "text": [
      "Running bootstraps: 100%|██████████| 80/80 [06:44<00:00,  5.06s/it]\n"
     ]
    },
    {
     "name": "stdout",
     "output_type": "stream",
     "text": [
      "optimized stationary gp\n"
     ]
    },
    {
     "name": "stderr",
     "output_type": "stream",
     "text": [
      "Running bootstraps: 100%|██████████| 80/80 [06:51<00:00,  5.14s/it]\n"
     ]
    },
    {
     "name": "stdout",
     "output_type": "stream",
     "text": [
      "pixelcnn\n"
     ]
    },
    {
     "name": "stderr",
     "output_type": "stream",
     "text": [
      "\n",
      "\u001b[A2023-10-30 10:26:30.651492: W external/xla/xla/service/gpu/conv_algorithm_picker.cc:808] None of the algorithms provided by cuDNN heuristics worked; trying fallback algorithms.\n",
      "2023-10-30 10:26:30.651518: W external/xla/xla/service/gpu/conv_algorithm_picker.cc:811] Conv: (f64[8,128,15,15]{3,2,1,0}, u8[0]{0}) custom-call(f64[8,64,15,15]{3,2,1,0}, f64[128,64,3,3]{3,2,1,0}, f64[128]{0}), window={size=3x3 pad=1_1x1_1}, dim_labels=bf01_oi01->bf01, custom_call_target=\"__cudnn$convBiasActivationForward\", backend_config={\"conv_result_scale\":1,\"activation_mode\":\"kNone\",\"side_input_scale\":0,\"leakyrelu_alpha\":0}\n",
      "\n",
      "Computing loss: 100%|██████████| 1/1 [00:01<00:00,  1.81s/it]\n",
      "\n",
      "\u001b[A\n",
      "Computing loss: 100%|██████████| 1/1 [00:00<00:00,  1.09it/s]\n",
      "\n",
      "\u001b[A\n",
      "Computing loss: 100%|██████████| 1/1 [00:00<00:00,  1.07it/s]\n",
      "\n",
      "\u001b[A\n",
      "Computing loss: 100%|██████████| 1/1 [00:00<00:00,  1.08it/s]\n",
      "\n",
      "\u001b[A\n",
      "Computing loss: 100%|██████████| 1/1 [00:00<00:00,  1.11it/s]\n",
      "\n",
      "\u001b[A\n",
      "Computing loss: 100%|██████████| 1/1 [00:00<00:00,  1.09it/s]\n",
      "\n",
      "\u001b[A\n",
      "Computing loss: 100%|██████████| 1/1 [00:00<00:00,  1.07it/s]\n",
      "\n",
      "\u001b[A\n",
      "Computing loss: 100%|██████████| 1/1 [00:00<00:00,  1.11it/s]\n",
      "\n",
      "\u001b[A\n",
      "Computing loss: 100%|██████████| 1/1 [00:00<00:00,  1.10it/s]\n",
      "\n",
      "\u001b[A\n",
      "Computing loss: 100%|██████████| 1/1 [00:00<00:00,  1.12it/s]\n",
      "\n",
      "\u001b[A\n",
      "Computing loss: 100%|██████████| 1/1 [00:00<00:00,  1.11it/s]\n",
      "\n",
      "\u001b[A\n",
      "Computing loss: 100%|██████████| 1/1 [00:01<00:00,  1.30s/it]\n",
      "\n",
      "\u001b[A\n",
      "Computing loss: 100%|██████████| 1/1 [00:00<00:00,  1.05it/s]\n",
      "\n",
      "\u001b[A\n",
      "Computing loss: 100%|██████████| 1/1 [00:00<00:00,  1.13it/s]\n",
      "\n",
      "\u001b[A\n",
      "Computing loss: 100%|██████████| 1/1 [00:00<00:00,  1.10it/s]\n",
      "\n",
      "\u001b[A\n",
      "Computing loss: 100%|██████████| 1/1 [00:00<00:00,  1.11it/s]\n",
      "\n",
      "\u001b[A\n",
      "Computing loss: 100%|██████████| 1/1 [00:00<00:00,  1.10it/s]\n",
      "\n",
      "\u001b[A\n",
      "Computing loss: 100%|██████████| 1/1 [00:00<00:00,  1.10it/s]\n",
      "\n",
      "\u001b[A\n",
      "Computing loss: 100%|██████████| 1/1 [00:00<00:00,  1.11it/s]\n",
      "\n",
      "\u001b[A\n",
      "Computing loss: 100%|██████████| 1/1 [00:00<00:00,  1.09it/s]\n",
      "\n",
      "\u001b[A\n",
      "Computing loss: 100%|██████████| 1/1 [00:00<00:00,  1.16it/s]\n",
      "\n",
      "\u001b[A\n",
      "Computing loss: 100%|██████████| 1/1 [00:00<00:00,  1.14it/s]\n",
      "\n",
      "\u001b[A\n",
      "Computing loss: 100%|██████████| 1/1 [00:00<00:00,  1.15it/s]\n",
      "\n",
      "\u001b[A\n",
      "Computing loss: 100%|██████████| 1/1 [00:00<00:00,  1.11it/s]\n",
      "\n",
      "\u001b[A\n",
      "Computing loss: 100%|██████████| 1/1 [00:00<00:00,  1.08it/s]\n",
      "\n",
      "\u001b[A\n",
      "Computing loss: 100%|██████████| 1/1 [00:00<00:00,  1.22it/s]\n",
      "\n",
      "\u001b[A\n",
      "Computing loss: 100%|██████████| 1/1 [00:00<00:00,  1.11it/s]\n",
      "\n",
      "\u001b[A\n",
      "Computing loss: 100%|██████████| 1/1 [00:00<00:00,  1.09it/s]\n",
      "\n",
      "\u001b[A\n",
      "Computing loss: 100%|██████████| 1/1 [00:00<00:00,  1.10it/s]\n",
      "\n",
      "\u001b[A\n",
      "Computing loss: 100%|██████████| 1/1 [00:01<00:00,  1.45s/it]\n",
      "\n",
      "\u001b[A\n",
      "Computing loss: 100%|██████████| 1/1 [00:00<00:00,  1.11it/s]\n",
      "\n",
      "\u001b[A\n",
      "Computing loss: 100%|██████████| 1/1 [00:00<00:00,  1.09it/s]\n",
      "\n",
      "\u001b[A\n",
      "Computing loss: 100%|██████████| 1/1 [00:00<00:00,  1.13it/s]\n",
      "\n",
      "\u001b[A\n",
      "Computing loss: 100%|██████████| 1/1 [00:00<00:00,  1.15it/s]\n",
      "\n",
      "\u001b[A\n",
      "Computing loss: 100%|██████████| 1/1 [00:00<00:00,  1.13it/s]\n",
      "\n",
      "\u001b[A\n",
      "Computing loss: 100%|██████████| 1/1 [00:00<00:00,  1.15it/s]\n",
      "\n",
      "\u001b[A\n",
      "Computing loss: 100%|██████████| 1/1 [00:00<00:00,  1.09it/s]\n",
      "\n",
      "\u001b[A\n",
      "Computing loss: 100%|██████████| 1/1 [00:00<00:00,  1.09it/s]\n",
      "\n",
      "\u001b[A\n",
      "Computing loss: 100%|██████████| 1/1 [00:00<00:00,  1.10it/s]\n",
      "\n",
      "\u001b[A\n",
      "Computing loss: 100%|██████████| 1/1 [00:00<00:00,  1.09it/s]\n",
      "\n",
      "\u001b[A\n",
      "Computing loss: 100%|██████████| 1/1 [00:00<00:00,  1.10it/s]\n",
      "Running bootstraps:  51%|█████▏    | 41/80 [17:21<16:30, 25.40s/it]\n",
      "  0%|          | 0/5 [31:01<?, ?it/s]\n"
     ]
    },
    {
     "ename": "KeyboardInterrupt",
     "evalue": "",
     "output_type": "error",
     "traceback": [
      "\u001b[0;31m---------------------------------------------------------------------------\u001b[0m",
      "\u001b[0;31mKeyboardInterrupt\u001b[0m                         Traceback (most recent call last)",
      "\u001b[1;32m/home/hpinkard_waller/GitRepos/EncodingInformation/mi_estimator_experiments/estimator_consistency/entropy_estimator_consistency.ipynb Cell 7\u001b[0m line \u001b[0;36m8\n\u001b[1;32m     <a href='vscode-notebook-cell://ssh-remote%2Bwaller-fuoco.eecs.berkeley.edu/home/hpinkard_waller/GitRepos/EncodingInformation/mi_estimator_experiments/estimator_consistency/entropy_estimator_consistency.ipynb#W6sdnNjb2RlLXJlbW90ZQ%3D%3D?line=85'>86</a>\u001b[0m stationary_h_y_estimates_optimized_conf_int\u001b[39m.\u001b[39mappend(conf_int)\n\u001b[1;32m     <a href='vscode-notebook-cell://ssh-remote%2Bwaller-fuoco.eecs.berkeley.edu/home/hpinkard_waller/GitRepos/EncodingInformation/mi_estimator_experiments/estimator_consistency/entropy_estimator_consistency.ipynb#W6sdnNjb2RlLXJlbW90ZQ%3D%3D?line=87'>88</a>\u001b[0m \u001b[39mprint\u001b[39m(\u001b[39m'\u001b[39m\u001b[39mpixelcnn\u001b[39m\u001b[39m'\u001b[39m)\n\u001b[0;32m---> <a href='vscode-notebook-cell://ssh-remote%2Bwaller-fuoco.eecs.berkeley.edu/home/hpinkard_waller/GitRepos/EncodingInformation/mi_estimator_experiments/estimator_consistency/entropy_estimator_consistency.ipynb#W6sdnNjb2RlLXJlbW90ZQ%3D%3D?line=88'>89</a>\u001b[0m mean, conf_int \u001b[39m=\u001b[39m run_bootstrap(noisy_samples[:num_to_use], num_bootstrap_samples\u001b[39m=\u001b[39;49mnum_bootstrap_samples, estimation_fn\u001b[39m=\u001b[39;49m\n\u001b[1;32m     <a href='vscode-notebook-cell://ssh-remote%2Bwaller-fuoco.eecs.berkeley.edu/home/hpinkard_waller/GitRepos/EncodingInformation/mi_estimator_experiments/estimator_consistency/entropy_estimator_consistency.ipynb#W6sdnNjb2RlLXJlbW90ZQ%3D%3D?line=89'>90</a>\u001b[0m                 \u001b[39mlambda\u001b[39;49;00m data: pixelcnn_entropy_estimate(data), confidence_interval\u001b[39m=\u001b[39;49mconfidence_interval, verbose\u001b[39m=\u001b[39;49m\u001b[39mTrue\u001b[39;49;00m )\n\u001b[1;32m     <a href='vscode-notebook-cell://ssh-remote%2Bwaller-fuoco.eecs.berkeley.edu/home/hpinkard_waller/GitRepos/EncodingInformation/mi_estimator_experiments/estimator_consistency/entropy_estimator_consistency.ipynb#W6sdnNjb2RlLXJlbW90ZQ%3D%3D?line=90'>91</a>\u001b[0m pixelcnn_h_y_estimates_mean\u001b[39m.\u001b[39mappend(mean)\n\u001b[1;32m     <a href='vscode-notebook-cell://ssh-remote%2Bwaller-fuoco.eecs.berkeley.edu/home/hpinkard_waller/GitRepos/EncodingInformation/mi_estimator_experiments/estimator_consistency/entropy_estimator_consistency.ipynb#W6sdnNjb2RlLXJlbW90ZQ%3D%3D?line=91'>92</a>\u001b[0m pixelcnn_h_y_estimates_conf_int\u001b[39m.\u001b[39mappend(conf_int)\n",
      "File \u001b[0;32m~/GitRepos/EncodingInformation/encoding_information/information_estimation.py:188\u001b[0m, in \u001b[0;36mrun_bootstrap\u001b[0;34m(data, estimation_fn, num_bootstrap_samples, confidence_interval, seed, verbose)\u001b[0m\n\u001b[1;32m    186\u001b[0m \u001b[39mif\u001b[39;00m \u001b[39mnot\u001b[39;00m \u001b[39misinstance\u001b[39m(data, \u001b[39mdict\u001b[39m):\n\u001b[1;32m    187\u001b[0m     data_sample \u001b[39m=\u001b[39m jax\u001b[39m.\u001b[39mrandom\u001b[39m.\u001b[39mchoice(subkey, data, shape\u001b[39m=\u001b[39m(N,), replace\u001b[39m=\u001b[39m\u001b[39mTrue\u001b[39;00m)\n\u001b[0;32m--> 188\u001b[0m     results\u001b[39m.\u001b[39mappend(estimation_fn(data_sample))\n\u001b[1;32m    189\u001b[0m \u001b[39melse\u001b[39;00m:\n\u001b[1;32m    190\u001b[0m     data_samples \u001b[39m=\u001b[39m {}\n",
      "\u001b[1;32m/home/hpinkard_waller/GitRepos/EncodingInformation/mi_estimator_experiments/estimator_consistency/entropy_estimator_consistency.ipynb Cell 7\u001b[0m line \u001b[0;36m9\n\u001b[1;32m     <a href='vscode-notebook-cell://ssh-remote%2Bwaller-fuoco.eecs.berkeley.edu/home/hpinkard_waller/GitRepos/EncodingInformation/mi_estimator_experiments/estimator_consistency/entropy_estimator_consistency.ipynb#W6sdnNjb2RlLXJlbW90ZQ%3D%3D?line=85'>86</a>\u001b[0m stationary_h_y_estimates_optimized_conf_int\u001b[39m.\u001b[39mappend(conf_int)\n\u001b[1;32m     <a href='vscode-notebook-cell://ssh-remote%2Bwaller-fuoco.eecs.berkeley.edu/home/hpinkard_waller/GitRepos/EncodingInformation/mi_estimator_experiments/estimator_consistency/entropy_estimator_consistency.ipynb#W6sdnNjb2RlLXJlbW90ZQ%3D%3D?line=87'>88</a>\u001b[0m \u001b[39mprint\u001b[39m(\u001b[39m'\u001b[39m\u001b[39mpixelcnn\u001b[39m\u001b[39m'\u001b[39m)\n\u001b[1;32m     <a href='vscode-notebook-cell://ssh-remote%2Bwaller-fuoco.eecs.berkeley.edu/home/hpinkard_waller/GitRepos/EncodingInformation/mi_estimator_experiments/estimator_consistency/entropy_estimator_consistency.ipynb#W6sdnNjb2RlLXJlbW90ZQ%3D%3D?line=88'>89</a>\u001b[0m mean, conf_int \u001b[39m=\u001b[39m run_bootstrap(noisy_samples[:num_to_use], num_bootstrap_samples\u001b[39m=\u001b[39mnum_bootstrap_samples, estimation_fn\u001b[39m=\u001b[39m\n\u001b[0;32m---> <a href='vscode-notebook-cell://ssh-remote%2Bwaller-fuoco.eecs.berkeley.edu/home/hpinkard_waller/GitRepos/EncodingInformation/mi_estimator_experiments/estimator_consistency/entropy_estimator_consistency.ipynb#W6sdnNjb2RlLXJlbW90ZQ%3D%3D?line=89'>90</a>\u001b[0m                 \u001b[39mlambda\u001b[39;00m data: pixelcnn_entropy_estimate(data), confidence_interval\u001b[39m=\u001b[39mconfidence_interval, verbose\u001b[39m=\u001b[39m\u001b[39mTrue\u001b[39;00m )\n\u001b[1;32m     <a href='vscode-notebook-cell://ssh-remote%2Bwaller-fuoco.eecs.berkeley.edu/home/hpinkard_waller/GitRepos/EncodingInformation/mi_estimator_experiments/estimator_consistency/entropy_estimator_consistency.ipynb#W6sdnNjb2RlLXJlbW90ZQ%3D%3D?line=90'>91</a>\u001b[0m pixelcnn_h_y_estimates_mean\u001b[39m.\u001b[39mappend(mean)\n\u001b[1;32m     <a href='vscode-notebook-cell://ssh-remote%2Bwaller-fuoco.eecs.berkeley.edu/home/hpinkard_waller/GitRepos/EncodingInformation/mi_estimator_experiments/estimator_consistency/entropy_estimator_consistency.ipynb#W6sdnNjb2RlLXJlbW90ZQ%3D%3D?line=91'>92</a>\u001b[0m pixelcnn_h_y_estimates_conf_int\u001b[39m.\u001b[39mappend(conf_int)\n",
      "\u001b[1;32m/home/hpinkard_waller/GitRepos/EncodingInformation/mi_estimator_experiments/estimator_consistency/entropy_estimator_consistency.ipynb Cell 7\u001b[0m line \u001b[0;36m3\n\u001b[1;32m     <a href='vscode-notebook-cell://ssh-remote%2Bwaller-fuoco.eecs.berkeley.edu/home/hpinkard_waller/GitRepos/EncodingInformation/mi_estimator_experiments/estimator_consistency/entropy_estimator_consistency.ipynb#W6sdnNjb2RlLXJlbW90ZQ%3D%3D?line=34'>35</a>\u001b[0m test_data \u001b[39m=\u001b[39m data[num_train:]\n\u001b[1;32m     <a href='vscode-notebook-cell://ssh-remote%2Bwaller-fuoco.eecs.berkeley.edu/home/hpinkard_waller/GitRepos/EncodingInformation/mi_estimator_experiments/estimator_consistency/entropy_estimator_consistency.ipynb#W6sdnNjb2RlLXJlbW90ZQ%3D%3D?line=35'>36</a>\u001b[0m model \u001b[39m=\u001b[39m PixelCNN()\n\u001b[0;32m---> <a href='vscode-notebook-cell://ssh-remote%2Bwaller-fuoco.eecs.berkeley.edu/home/hpinkard_waller/GitRepos/EncodingInformation/mi_estimator_experiments/estimator_consistency/entropy_estimator_consistency.ipynb#W6sdnNjb2RlLXJlbW90ZQ%3D%3D?line=36'>37</a>\u001b[0m model\u001b[39m.\u001b[39;49mfit(train_data, num_val_samples\u001b[39m=\u001b[39;49mnum_val_samples, max_epochs\u001b[39m=\u001b[39;49m\u001b[39m25\u001b[39;49m, verbose\u001b[39m=\u001b[39;49m\u001b[39mFalse\u001b[39;49;00m)\n\u001b[1;32m     <a href='vscode-notebook-cell://ssh-remote%2Bwaller-fuoco.eecs.berkeley.edu/home/hpinkard_waller/GitRepos/EncodingInformation/mi_estimator_experiments/estimator_consistency/entropy_estimator_consistency.ipynb#W6sdnNjb2RlLXJlbW90ZQ%3D%3D?line=37'>38</a>\u001b[0m nll_per_pixel \u001b[39m=\u001b[39m model\u001b[39m.\u001b[39mcompute_negative_log_likelihood(test_data)\n\u001b[1;32m     <a href='vscode-notebook-cell://ssh-remote%2Bwaller-fuoco.eecs.berkeley.edu/home/hpinkard_waller/GitRepos/EncodingInformation/mi_estimator_experiments/estimator_consistency/entropy_estimator_consistency.ipynb#W6sdnNjb2RlLXJlbW90ZQ%3D%3D?line=38'>39</a>\u001b[0m \u001b[39mreturn\u001b[39;00m nll_per_pixel\n",
      "File \u001b[0;32m~/GitRepos/EncodingInformation/encoding_information/models/pixel_cnn.py:295\u001b[0m, in \u001b[0;36mPixelCNN.fit\u001b[0;34m(self, train_images, learning_rate, max_epochs, steps_per_epoch, patience, sigma_min, batch_size, num_val_samples, seed, verbose)\u001b[0m\n\u001b[1;32m    291\u001b[0m         \u001b[39mreturn\u001b[39;00m \u001b[39mself\u001b[39m\u001b[39m.\u001b[39m_flax_model\u001b[39m.\u001b[39mcompute_loss(\u001b[39m*\u001b[39moutput, x)\n\u001b[1;32m    293\u001b[0m     \u001b[39mself\u001b[39m\u001b[39m.\u001b[39m_state \u001b[39m=\u001b[39m TrainState\u001b[39m.\u001b[39mcreate(apply_fn\u001b[39m=\u001b[39mapply_fn, params\u001b[39m=\u001b[39minitial_params, tx\u001b[39m=\u001b[39m\u001b[39mself\u001b[39m\u001b[39m.\u001b[39m_optimizer)        \n\u001b[0;32m--> 295\u001b[0m best_params, val_loss_history \u001b[39m=\u001b[39m train_model(train_images\u001b[39m=\u001b[39;49mtrain_images, state\u001b[39m=\u001b[39;49m\u001b[39mself\u001b[39;49m\u001b[39m.\u001b[39;49m_state, batch_size\u001b[39m=\u001b[39;49mbatch_size, num_val_samples\u001b[39m=\u001b[39;49m\u001b[39mint\u001b[39;49m(num_val_samples),\n\u001b[1;32m    296\u001b[0m                                             steps_per_epoch\u001b[39m=\u001b[39;49msteps_per_epoch, num_epochs\u001b[39m=\u001b[39;49mmax_epochs, patience\u001b[39m=\u001b[39;49mpatience, verbose\u001b[39m=\u001b[39;49mverbose)\n\u001b[1;32m    297\u001b[0m \u001b[39mself\u001b[39m\u001b[39m.\u001b[39m_state \u001b[39m=\u001b[39m \u001b[39mself\u001b[39m\u001b[39m.\u001b[39m_state\u001b[39m.\u001b[39mreplace(params\u001b[39m=\u001b[39mbest_params)\n\u001b[1;32m    298\u001b[0m \u001b[39mreturn\u001b[39;00m val_loss_history\n",
      "File \u001b[0;32m~/GitRepos/EncodingInformation/encoding_information/models/image_distribution_models.py:192\u001b[0m, in \u001b[0;36mtrain_model\u001b[0;34m(train_images, state, batch_size, num_val_samples, steps_per_epoch, num_epochs, patience, train_step, verbose)\u001b[0m\n\u001b[1;32m    190\u001b[0m \u001b[39mfor\u001b[39;00m _ \u001b[39min\u001b[39;00m \u001b[39miter\u001b[39m \u001b[39mif\u001b[39;00m \u001b[39mnot\u001b[39;00m verbose \u001b[39melse\u001b[39;00m tqdm(\u001b[39miter\u001b[39m, desc\u001b[39m=\u001b[39m\u001b[39mf\u001b[39m\u001b[39m'\u001b[39m\u001b[39mEpoch \u001b[39m\u001b[39m{\u001b[39;00mepoch_idx\u001b[39m}\u001b[39;00m\u001b[39m'\u001b[39m):\n\u001b[1;32m    191\u001b[0m     batch \u001b[39m=\u001b[39m \u001b[39mnext\u001b[39m(train_ds_iterator)\n\u001b[0;32m--> 192\u001b[0m     state, loss \u001b[39m=\u001b[39m train_step(state, batch)\n\u001b[1;32m    194\u001b[0m     avg_loss \u001b[39m+\u001b[39m\u001b[39m=\u001b[39m loss \u001b[39m/\u001b[39m steps_per_epoch\n\u001b[1;32m    196\u001b[0m \u001b[39m# uniform noise already added in the dataset generators\u001b[39;00m\n",
      "File \u001b[0;32m<string>:1\u001b[0m, in \u001b[0;36m<lambda>\u001b[0;34m(_cls, count, mu, nu)\u001b[0m\n",
      "\u001b[0;31mKeyboardInterrupt\u001b[0m: "
     ]
    }
   ],
   "source": [
    "from encoding_information.models.gaussian_process import gaussian_likelihood, nll_per_pixel_from_cov_mat\n",
    "from encoding_information.models.pixel_cnn import PixelCNN\n",
    "\n",
    "# num_samples_to_use = np.array([10, 40, 160,]).astype(int)\n",
    "num_bootstrap_samples = 80\n",
    "\n",
    "# num_samples_to_use = np.array([10, 40, 160, 640, 2560, 10240]).astype(int)\n",
    "num_samples_to_use = np.array([10, 40, 160, 640, 2560]).astype(int)\n",
    "\n",
    "\n",
    "gaussian_sigma = 50\n",
    "confidence_interval = 90\n",
    "\n",
    "\n",
    "def gaussian_entropy_estimate(data, stationary=False, eigenvalue_floor=1e-1, optimize=True):\n",
    "    num_train = int(max(2, min(1000, 0.1 * data.shape[0])))\n",
    "    train_data = data[:num_train]\n",
    "    test_data = data[num_train:]\n",
    "    if stationary:\n",
    "        gp = StationaryGaussianProcess(train_data, eigenvalue_floor=eigenvalue_floor)\n",
    "        if optimize:\n",
    "            num_val_samples = max(1, min(1000, 0.1 * train_data.shape[0]))\n",
    "            gp.fit(train_data, num_val_samples=num_val_samples, verbose=False)\n",
    "        nll_per_pixel = gp.compute_negative_log_likelihood(test_data, verbose=False)\n",
    "        \n",
    "    else:\n",
    "        cov_mat = estimate_full_cov_mat(train_data)\n",
    "        nll_per_pixel = nll_per_pixel_from_cov_mat(cov_mat, train_data.mean(axis=0).reshape(-1), train_data, np.prod(onp.array(test_data.shape)[1:]))\n",
    "    return nll_per_pixel\n",
    "\n",
    "def pixelcnn_entropy_estimate(data):\n",
    "    num_train = int(max(2, min(1000, 0.1 * data.shape[0])))\n",
    "    num_val_samples = int(max(1, min(1000, 0.1 * num_train)))\n",
    "    train_data = data[:num_train]\n",
    "    test_data = data[num_train:]\n",
    "    model = PixelCNN()\n",
    "    model.fit(train_data, num_val_samples=num_val_samples, max_epochs=25, verbose=False)\n",
    "    nll_per_pixel = model.compute_negative_log_likelihood(test_data)\n",
    "    return nll_per_pixel\n",
    "\n",
    "\n",
    "h_x_analytic = analytic_multivariate_gaussian_entropy(true_cov_mat_px) \n",
    "true_cov_mat_py = true_cov_mat_px + gaussian_sigma**2 * np.eye(patch_size**2)\n",
    "h_y_analytic = analytic_multivariate_gaussian_entropy(true_cov_mat_py) \n",
    "# Constant conditional entropy for Gaussian noise\n",
    "h_y_given_x_analytic = analytic_multivariate_gaussian_entropy(np.eye(patch_size**2) * gaussian_sigma**2) \n",
    "mi_analytic_per_pixel = (h_y_analytic - h_y_given_x_analytic) / np.log(2)\n",
    "\n",
    "noisy_samples = add_noise(samples, gaussian_sigma=gaussian_sigma, ensure_positive=True)\n",
    "\n",
    "\n",
    "full_cov_h_y_estimates_mean = []\n",
    "full_cov_h_y_estimates_conf_int = []\n",
    "stationary_h_y_estimates_mean = []\n",
    "stationary_h_y_estimates_conf_int = []\n",
    "stationary_h_y_estimates_optimized_mean = []\n",
    "stationary_h_y_estimates_optimized_conf_int = []\n",
    "pixelcnn_h_y_estimates_mean = []\n",
    "pixelcnn_h_y_estimates_conf_int = []\n",
    "\n",
    "\n",
    "h_y_given_x_estimates_mean = []\n",
    "h_y_given_x_estimates_conf_int = []\n",
    "\n",
    "\n",
    "ev_floor = 1e-1\n",
    "for num_to_use in tqdm(num_samples_to_use):\n",
    "    # check for a cached version of this\n",
    "    # create cache folder if it doesn't exist\n",
    "    if not os.path.exists('.cache'):\n",
    "        os.mkdir('.cache')\n",
    "    if os.path.exists('.cache/entropy_estimates_cache_{}_samples.npz'.format(num_to_use)):\n",
    "        print('loading cached version of entropy estimates')\n",
    "        loaded = onp.load('entropy_estimates_cache_{}_samples.npz'.format(num_to_use))\n",
    "        # append to the list of estimates\n",
    "        full_cov_h_y_estimates_conf_int.append(loaded['full_cov_h_y_estimates_conf_int'])\n",
    "        full_cov_h_y_estimates_mean.append(loaded['full_cov_h_y_estimates_mean'])\n",
    "        stationary_h_y_estimates_conf_int.append(loaded['stationary_h_y_estimates_conf_int'])\n",
    "        stationary_h_y_estimates_mean.append(loaded['stationary_h_y_estimates_mean'])\n",
    "        stationary_h_y_estimates_optimized_conf_int.append(loaded['stationary_h_y_estimates_optimized_conf_int'])\n",
    "        stationary_h_y_estimates_optimized_mean.append(loaded['stationary_h_y_estimates_optimized_mean'])\n",
    "        pixelcnn_h_y_estimates_conf_int.append(loaded['pixelcnn_h_y_estimates_conf_int'])\n",
    "        pixelcnn_h_y_estimates_mean.append(loaded['pixelcnn_h_y_estimates_mean'])\n",
    "        h_y_given_x_estimates_conf_int.append(loaded['h_y_given_x_estimates_conf_int'])\n",
    "        h_y_given_x_estimates_mean.append(loaded['h_y_given_x_estimates_mean'])\n",
    "    else:\n",
    "\n",
    "        print(f'Computing with {num_to_use} samples')\n",
    "\n",
    "        print('full covariance gp')\n",
    "        mean, conf_int = run_bootstrap(noisy_samples[:num_to_use], num_bootstrap_samples=num_bootstrap_samples, estimation_fn=\n",
    "                        lambda data: gaussian_entropy_estimate(data, stationary=False, eigenvalue_floor=ev_floor, ), confidence_interval=confidence_interval, verbose=True )\n",
    "        full_cov_h_y_estimates_mean.append(mean)\n",
    "        full_cov_h_y_estimates_conf_int.append(conf_int)\n",
    "\n",
    "        print('stationary gp')\n",
    "        mean, conf_int = run_bootstrap(noisy_samples[:num_to_use], num_bootstrap_samples=num_bootstrap_samples, estimation_fn=\n",
    "                        lambda data: gaussian_entropy_estimate(data, stationary=True, eigenvalue_floor=ev_floor, ), confidence_interval=confidence_interval, verbose=True)\n",
    "        stationary_h_y_estimates_mean.append(mean)\n",
    "        stationary_h_y_estimates_conf_int.append(conf_int)\n",
    "\n",
    "        print('optimized stationary gp')\n",
    "        mean, conf_int = run_bootstrap(noisy_samples[:num_to_use], num_bootstrap_samples=num_bootstrap_samples, estimation_fn=\n",
    "                        lambda data: gaussian_entropy_estimate(data, stationary=True, eigenvalue_floor=ev_floor, optimize=True), confidence_interval=confidence_interval, verbose=True )\n",
    "        stationary_h_y_estimates_optimized_mean.append(mean)\n",
    "        stationary_h_y_estimates_optimized_conf_int.append(conf_int)\n",
    "\n",
    "        print('pixelcnn')\n",
    "        mean, conf_int = run_bootstrap(noisy_samples[:num_to_use], num_bootstrap_samples=num_bootstrap_samples, estimation_fn=\n",
    "                        lambda data: pixelcnn_entropy_estimate(data), confidence_interval=confidence_interval, verbose=True )\n",
    "        pixelcnn_h_y_estimates_mean.append(mean)\n",
    "        pixelcnn_h_y_estimates_conf_int.append(conf_int)\n",
    "\n",
    "\n",
    "        # estimate conditional entropy\n",
    "        mean, conf_int = run_bootstrap(samples[:num_to_use], num_bootstrap_samples=num_bootstrap_samples, estimation_fn=\n",
    "                        lambda data: estimate_conditional_entropy(data), confidence_interval=confidence_interval, verbose=True )\n",
    "        h_y_given_x_estimates_mean.append(mean)\n",
    "        h_y_given_x_estimates_conf_int.append(conf_int)\n",
    "\n",
    "\n",
    "        # save all these results to a numpy file\n",
    "        onp.savez('.cache/entropy_estimates_cache_{}_samples.npz'.format(num_to_use),\n",
    "                    full_cov_h_y_estimates_conf_int=onp.array(full_cov_h_y_estimates_conf_int[-1]),\n",
    "                    full_cov_h_y_estimates_mean=onp.array(full_cov_h_y_estimates_mean[-1]),\n",
    "                    stationary_h_y_estimates_conf_int=onp.array(stationary_h_y_estimates_conf_int[-1]),\n",
    "                    stationary_h_y_estimates_mean=onp.array(stationary_h_y_estimates_mean[-1]),\n",
    "                    stationary_h_y_estimates_optimized_conf_int=onp.array(stationary_h_y_estimates_optimized_conf_int[-1]),\n",
    "                    stationary_h_y_estimates_optimized_mean=onp.array(stationary_h_y_estimates_optimized_mean[-1]),\n",
    "                    pixelcnn_h_y_estimates_conf_int=onp.array(pixelcnn_h_y_estimates_conf_int[-1]),\n",
    "                    pixelcnn_h_y_estimates_mean=onp.array(pixelcnn_h_y_estimates_mean[-1]),\n",
    "                    h_y_given_x_estimates_conf_int=onp.array(h_y_given_x_estimates_conf_int[-1]),\n",
    "                    h_y_given_x_estimates_mean=onp.array(h_y_given_x_estimates_mean[-1]),\n",
    "                    )\n",
    "                \n",
    "\n",
    "full_cov_h_y_estimates_conf_int = np.array(full_cov_h_y_estimates_conf_int)\n",
    "full_cov_h_y_estimates_mean = np.array(full_cov_h_y_estimates_mean)\n",
    "stationary_h_y_estimates_conf_int = np.array(stationary_h_y_estimates_conf_int)\n",
    "stationary_h_y_estimates_mean = np.array(stationary_h_y_estimates_mean)\n",
    "stationary_h_y_estimates_optimized_conf_int = np.array(stationary_h_y_estimates_optimized_conf_int)\n",
    "stationary_h_y_estimates_optimized_mean = np.array(stationary_h_y_estimates_optimized_mean)\n",
    "\n",
    "pixelcnn_h_y_estimates_conf_int = np.array(pixelcnn_h_y_estimates_conf_int)\n",
    "pixelcnn_h_y_estimates_mean = np.array(pixelcnn_h_y_estimates_mean)\n",
    "\n",
    "h_y_given_x_estimates_conf_int = np.array(h_y_given_x_estimates_conf_int)\n",
    "h_y_given_x_estimates_mean = np.array(h_y_given_x_estimates_mean)\n"
   ]
  },
  {
   "cell_type": "code",
   "execution_count": 5,
   "metadata": {
    "execution": {
     "iopub.execute_input": "2023-10-27T19:34:03.497965Z",
     "iopub.status.busy": "2023-10-27T19:34:03.497567Z",
     "iopub.status.idle": "2023-10-27T19:34:21.361439Z",
     "shell.execute_reply": "2023-10-27T19:34:21.360763Z"
    }
   },
   "outputs": [
    {
     "data": {
      "image/png": "[encoded data removed]",
      "text/plain": [
       "<Figure size 1000x500 with 2 Axes>"
      ]
     },
     "metadata": {},
     "output_type": "display_data"
    },
    {
     "data": {
      "image/png": "[encoded data removed]",
      "text/plain": [
       "<Figure size 400x400 with 1 Axes>"
      ]
     },
     "metadata": {},
     "output_type": "display_data"
    }
   ],
   "source": [
    "fig, ax = plt.subplots(1, 2, figsize=(10, 5), sharex=True)\n",
    "ax[0].axhline(h_y_analytic, color='k', linestyle='--')\n",
    "\n",
    "colors = get_color_cycle()\n",
    "\n",
    "ax[0].fill_between(num_samples_to_use, full_cov_h_y_estimates_conf_int[:,0], full_cov_h_y_estimates_conf_int[:,1], alpha=0.25, color=colors[0])\n",
    "ax[0].semilogx(num_samples_to_use, full_cov_h_y_estimates_mean, label='full covariance gp', color=colors[0])\n",
    "ax[0].fill_between(num_samples_to_use, stationary_h_y_estimates_conf_int[:,0], stationary_h_y_estimates_conf_int[:,1], alpha=0.25, color=colors[1])\n",
    "ax[0].semilogx(num_samples_to_use, stationary_h_y_estimates_mean, label='stationary gp', color=colors[1])\n",
    "ax[0].fill_between(num_samples_to_use, stationary_h_y_estimates_optimized_conf_int[:,0], stationary_h_y_estimates_optimized_conf_int[:,1], alpha=0.25, color=colors[2])\n",
    "ax[0].semilogx(num_samples_to_use, stationary_h_y_estimates_optimized_mean, label='optimized stationary gp', color=colors[2])\n",
    "ax[0].fill_between(num_samples_to_use, pixelcnn_h_y_estimates_conf_int[:,0], pixelcnn_h_y_estimates_conf_int[:,1], alpha=0.25, color=colors[3])\n",
    "ax[0].semilogx(num_samples_to_use, pixelcnn_h_y_estimates_mean, label='pixelcnn', color=colors[3])\n",
    "\n",
    "ax[0].set(xlabel='Number of samples', ylabel='Differential entropy')\n",
    "ax[0].legend()\n",
    "clear_spines(ax[0])\n",
    "\n",
    "# Zoomed in\n",
    "ax[1].axhline(h_y_analytic, color='k', linestyle='--')\n",
    "\n",
    "ax[1].fill_between(num_samples_to_use, full_cov_h_y_estimates_conf_int[:,0], full_cov_h_y_estimates_conf_int[:,1], alpha=0.25, color=colors[0])\n",
    "ax[1].semilogx(num_samples_to_use, full_cov_h_y_estimates_mean, label='full covariance gp', color=colors[0])\n",
    "ax[1].fill_between(num_samples_to_use, stationary_h_y_estimates_conf_int[:,0], stationary_h_y_estimates_conf_int[:,1], alpha=0.25, color=colors[1])\n",
    "ax[1].semilogx(num_samples_to_use, stationary_h_y_estimates_mean, label='stationary gp', color=colors[1])\n",
    "ax[1].fill_between(num_samples_to_use, stationary_h_y_estimates_optimized_conf_int[:,0], stationary_h_y_estimates_optimized_conf_int[:,1], alpha=0.25, color=colors[2])\n",
    "ax[1].semilogx(num_samples_to_use, stationary_h_y_estimates_optimized_mean, label='optimized stationary gp', color=colors[2])\n",
    "ax[1].fill_between(num_samples_to_use, pixelcnn_h_y_estimates_conf_int[:,0], pixelcnn_h_y_estimates_conf_int[:,1], alpha=0.25, color=colors[3])\n",
    "ax[1].semilogx(num_samples_to_use, pixelcnn_h_y_estimates_mean, label='pixelcnn', color=colors[3])\n",
    "\n",
    "ax[1].set(xlabel='Number of samples', ylabel='Differential entropy')\n",
    "ax[1].legend()\n",
    "clear_spines(ax[1])\n",
    "ax[1].set(ylim=(0, h_y_analytic * 2))\n",
    "\n",
    "fig.savefig('/home/hpinkard_waller/figures/mi_estimation/' + 'entropy_estimation_consistency' + '.pdf', transparent=True)\n",
    "\n",
    "fig, ax = plt.subplots(1, 1, figsize=(4, 4))\n",
    "ax.fill_between(num_samples_to_use, h_y_given_x_estimates_conf_int[:, 0], h_y_given_x_estimates_conf_int[:, 1], alpha=0.5)\n",
    "ax.semilogx(num_samples_to_use, h_y_given_x_estimates_mean)\n",
    "ax.set(xlabel='Number of samples', title='h(y|x) estimate\\nper pixel', ylabel='Differential entropy per pixel')\n",
    "clear_spines(ax)\n",
    "\n",
    "\n",
    "fig.savefig('/home/hpinkard_waller/figures/mi_estimation/' + 'conditional_entropy_consistency' + '.pdf', transparent=True)"
   ]
  }
 ],
 "metadata": {
  "kernelspec": {
   "display_name": "phenotypes",
   "language": "python",
   "name": "python3"
  },
  "language_info": {
   "codemirror_mode": {
    "name": "ipython",
    "version": 3
   },
   "file_extension": ".py",
   "mimetype": "text/x-python",
   "name": "python",
   "nbconvert_exporter": "python",
   "pygments_lexer": "ipython3",
   "version": "3.10.6"
  }
 },
 "nbformat": 4,
 "nbformat_minor": 2
}
