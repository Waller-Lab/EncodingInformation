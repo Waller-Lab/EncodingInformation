{
 "cells": [
  {
   "cell_type": "code",
   "execution_count": 4,
   "metadata": {},
   "outputs": [
    {
     "name": "stdout",
     "output_type": "stream",
     "text": [
      "The autoreload extension is already loaded. To reload it, use:\n",
      "  %reload_ext autoreload\n",
      "Opening BSCCM\n",
      "Opened BSCCM\n"
     ]
    }
   ],
   "source": [
    "%load_ext autoreload\n",
    "%autoreload 2\n",
    "# %matplotlib widget\n",
    "\n",
    "import os\n",
    "os.environ[\"CUDA_DEVICE_ORDER\"] = \"PCI_BUS_ID\" \n",
    "os.environ[\"CUDA_VISIBLE_DEVICES\"] = '1'\n",
    "\n",
    "from cleanplots import *\n",
    "from tqdm import tqdm\n",
    "from information_estimation import gaussian_entropy_estimate, nearest_neighbors_entropy_estimate\n",
    "from image_utils import *\n",
    "\n",
    "from led_array.bsccm_utils import *\n",
    "from bsccm import BSCCM\n",
    "from jax import jit\n",
    "import numpy as onp\n",
    "import jax.numpy as np\n",
    "\n",
    "bsccm = BSCCM('/home/hpinkard_waller/data/BSCCM/')"
   ]
  },
  {
   "cell_type": "code",
   "execution_count": 28,
   "metadata": {},
   "outputs": [
    {
     "name": "stdout",
     "output_type": "stream",
     "text": [
      "16.35948\n",
      "16.16771\n"
     ]
    }
   ],
   "source": [
    "# generate multivariate gaussian data\n",
    "X = onp.random.multivariate_normal(onp.zeros(8), onp.eye(8), size=10000)\n",
    "\n",
    "print(gaussian_entropy_estimate(X, stationary=True))\n",
    "print(nearest_neighbors_entropy_estimate(X, k=10))"
   ]
  },
  {
   "cell_type": "code",
   "execution_count": 76,
   "metadata": {},
   "outputs": [],
   "source": [
    "def create_images(size, type, num_images, channel=None,\n",
    "                   num_images_for_cov_estimation=10000, num_patches=50000, edge_crop=32, \n",
    "                   median_filter=False):\n",
    "    \"\"\"\n",
    "    Get a distribution of images \n",
    "\n",
    "    Parameters\n",
    "    ----------\n",
    "    size : int  size of images\n",
    "    type : str  'led_array' for BSCCM images, 'stationary_GP' for gaussian process images derived\n",
    "                from BSCCM images\n",
    "    num_images : int  number of images to generate\n",
    "    channel : str  channel to use for BSCCM images\n",
    "    num_images_for_cov_estimation : int  number of BSCCM images to use for covariance estimation\n",
    "    num_patches : int  number of patches to use for covariance estimation   \n",
    "    edge_crop : int  number of pixels to crop from the edge of BSCCM images when estimating covariance\n",
    "    median_filter : bool  whether to median filter BSCCM images\n",
    "    \"\"\"\n",
    "    if type == 'stationary_GP':\n",
    "        # Generate gaussian process images based on the statistics of LED array images of cells\n",
    "        patch_size = size # the size of patches to estimate the covariance matrix from\n",
    "        images = load_bsccm_images(bsccm, channel, num_images=num_images_for_cov_estimation, \n",
    "                                   edge_crop=edge_crop, convert_units_to_photons=True, median_filter=median_filter)\n",
    "        patches = extract_patches(images, patch_size=patch_size, num_patches=num_patches, seed=1234)\n",
    "        print('computing cov mat')\n",
    "        cov_mat = compute_stationary_cov_mat(patches)\n",
    "        mean = np.mean(patches)\n",
    "        print('making positive definite')\n",
    "        cov_mat = make_positive_definite(cov_mat, cutoff_percentile=25, show_plot=False)\n",
    "        # ensure that it is a valid covariance matrix\n",
    "        non_symmetric_deviation = np.abs(cov_mat - cov_mat.T)\n",
    "        if np.any(non_symmetric_deviation > 0):\n",
    "            percentage_error = non_symmetric_deviation / np.mean(cov_mat)\n",
    "            warnings.warn(f'Making covariance matrix symmetric, current deviation is {np.max(percentage_error)}% of the mean')\n",
    "            cov_mat = (cov_mat + cov_mat.T) / 2\n",
    "\n",
    "        images, patches = None, None # free memory\n",
    "        # generate images\n",
    "\n",
    "        mean = 1000\n",
    "        print('settting the mean to something crazy...TODO chagne back')\n",
    "        images = generate_stationary_gaussian_process_samples(cov_mat, size, num_images, mean=mean, ensure_nonnegative=True)\n",
    "        \n",
    "        return np.array(images), cov_mat\n",
    "    elif type == 'led_array':\n",
    "        # load median filtered images of cells from LED array\n",
    "        crop_size = bsccm.global_metadata['led_array']['image_shape'][0] - 2 * edge_crop\n",
    "        images = load_bsccm_images(bsccm, channel, num_images=num_images, \n",
    "                                   edge_crop=edge_crop, convert_units_to_photons=True,\n",
    "                                   median_filter=median_filter)\n",
    "        # for each image, crop to a random square patch\n",
    "        num_images = images.shape[0]\n",
    "        cropped_images = []\n",
    "        for image in images:\n",
    "            # choose a random location to crop from\n",
    "            x = onp.random.randint(0, crop_size - size)\n",
    "            y = onp.random.randint(0, crop_size - size)\n",
    "            # crop the image\n",
    "            cropped_images.append(image[y:y + size, x:x + size])\n",
    "        return np.array(cropped_images)\n",
    "    else:\n",
    "        raise ValueError('type must be led_array or stationary_GP')\n",
    "\n",
    "\n",
    "@jit\n",
    "def compute_conditional_entropy(images, gaussian_noise_sigma=None):\n",
    "    \"\"\"\n",
    "    Compute the conditional entropy H(Y | X) where Y is a random noisy\n",
    "    realization of a random clean image X\n",
    "\n",
    "    images : ndarray clean image HxW or images NxHxW\n",
    "    \"\"\"\n",
    "    # vectorize\n",
    "    images = images.reshape(-1, images.shape[-2] * images.shape[-1])\n",
    "    \n",
    "    if gaussian_noise_sigma is None:\n",
    "        \n",
    "        # conditional entropy H(Y | x) for Poisson noise (see derivation in paper)\n",
    "        return np.mean(0.5 * (images.shape[0] * np.log2(2 * np.pi * np.e) + np.sum(np.log2(images), axis=1)))\n",
    "    else:\n",
    "        # conditional entropy H(Y | x) for Gaussian noise\n",
    "        # only depends on the gaussian sigma\n",
    "        return np.mean(np.sum(images.shape[-1] * 0.5 * np.log2(2 * np.pi * np.e * gaussian_noise_sigma**2), axis=1))\n",
    "    \n",
    "        "
   ]
  },
  {
   "cell_type": "markdown",
   "metadata": {},
   "source": [
    "## Is H(Y | X) well approximated by H(Y_theoretical | Y_experimental)"
   ]
  },
  {
   "cell_type": "code",
   "execution_count": 46,
   "metadata": {},
   "outputs": [
    {
     "name": "stderr",
     "output_type": "stream",
     "text": [
      "100%|██████████| 50000/50000 [00:00<00:00, 1027562.35it/s]\n"
     ]
    },
    {
     "name": "stdout",
     "output_type": "stream",
     "text": [
      "computing cov mat\n"
     ]
    },
    {
     "name": "stderr",
     "output_type": "stream",
     "text": [
      "100%|██████████| 19/19 [00:00<00:00, 119.23it/s]\n",
      "/tmp/ipykernel_7282/3264924191.py:34: UserWarning: Making covariance matrix symmetric, current deviation is 2.483420473708975e-07% of the mean\n",
      "  warnings.warn(f'Making covariance matrix symmetric, current deviation is {np.max(percentage_error)}% of the mean')\n"
     ]
    },
    {
     "name": "stdout",
     "output_type": "stream",
     "text": [
      "making positive definite\n",
      "Matrix not positive definite. Adding 64.34979248046875 to eigenvalues\n",
      "settting the mean to something crazy...TODO chagne back\n",
      "precomputing masks and variances\n"
     ]
    },
    {
     "name": "stderr",
     "output_type": "stream",
     "text": [
      "100%|██████████| 10/10 [00:00<00:00, 53.01it/s]\n",
      "generating samples: 100%|██████████| 1000/1000 [00:11<00:00, 89.11it/s]\n"
     ]
    },
    {
     "data": {
      "image/png": "[encoded data removed]",
      "text/plain": [
       "<Figure size 1000x100 with 10 Axes>"
      ]
     },
     "metadata": {},
     "output_type": "display_data"
    }
   ],
   "source": [
    "# generate images and plot a montage\n",
    "size = 10\n",
    "num_images = 1000\n",
    "# channel = 'DPC_Right'\n",
    "channel = 'LED119'\n",
    "\n",
    "# images = create_images(size, 'led_array', num_images, channel=channel, median_filter=True, edge_crop=32)  \n",
    "images, cov_mat = create_images(size, 'stationary_GP', num_images, channel=channel, median_filter=True, edge_crop=32)  \n",
    "\n",
    "# plot a montage of images\n",
    "num_to_plot = 10\n",
    "fig, ax = plt.subplots(1, num_to_plot, figsize=(num_to_plot, 1))\n",
    "for i in range(num_to_plot):\n",
    "    ax[i].imshow(images[i], cmap='inferno')\n",
    "    ax[i].axis('off')\n",
    "\n",
    "\n"
   ]
  },
  {
   "cell_type": "code",
   "execution_count": 23,
   "metadata": {},
   "outputs": [
    {
     "name": "stdout",
     "output_type": "stream",
     "text": [
      "conditional entropy clean:  20968.682\n",
      "conditional entropy noisy approx:  20968.643\n",
      "h_y_gaussian:  751.9753 h_y_nearest_neighbors:  200.42355\n"
     ]
    }
   ],
   "source": [
    "# def estimate_mutual_information(images):\n",
    "#     H_y = gaussian_entropy_estimate(noisy_images.reshape(noisy_images.shape[0], -1))\n",
    "    \n",
    "\n",
    "noisy_images = np.array(add_shot_noise(images))\n",
    "\n",
    "h_y_given_x_true = compute_conditional_entropy(images)\n",
    "h_y_given_x_noisy_approx = compute_conditional_entropy(noisy_images)\n",
    "\n",
    "print('conditional entropy clean: ', h_y_given_x_true)\n",
    "print('conditional entropy noisy approx: ', h_y_given_x_noisy_approx)\n",
    "\n",
    "\n",
    "h_y_gaussian = gaussian_entropy_estimate(noisy_images, stationary=False)\n",
    "h_y_nearest_neighbors = nearest_neighbors_entropy_estimate(noisy_images, k=10)\n",
    "\n",
    "print('h_y_gaussian: ', h_y_gaussian, 'h_y_nearest_neighbors: ', h_y_nearest_neighbors)\n"
   ]
  },
  {
   "cell_type": "code",
   "execution_count": 103,
   "metadata": {},
   "outputs": [
    {
     "name": "stdout",
     "output_type": "stream",
     "text": [
      "cov matrix estimate gaussian entropy 21.275219\n",
      "analytical gaussian entropy 21.29559\n",
      "nearest neighbors entropy 25.469898\n"
     ]
    },
    {
     "name": "stderr",
     "output_type": "stream",
     "text": [
      " 48%|████▊     | 12/25 [00:14<00:24,  1.85s/it]2023-09-19 08:25:40.089100: E external/org_tensorflow/tensorflow/compiler/xla/pjrt/pjrt_stream_executor_client.cc:2410] Execution of replica 0 failed: INTERNAL: Failed to load in-memory CUBIN: CUDA_ERROR_INVALID_DEVICE: invalid device ordinal\n",
      " 48%|████▊     | 12/25 [00:27<00:29,  2.28s/it]\n"
     ]
    },
    {
     "ename": "XlaRuntimeError",
     "evalue": "INTERNAL: Failed to load in-memory CUBIN: CUDA_ERROR_INVALID_DEVICE: invalid device ordinal",
     "output_type": "error",
     "traceback": [
      "\u001b[0;31m---------------------------------------------------------------------------\u001b[0m",
      "\u001b[0;31mXlaRuntimeError\u001b[0m                           Traceback (most recent call last)",
      "\u001b[1;32m/home/hpinkard_waller/GitRepos/EncodingInformation/info_estimators_validation/MI_estimation.ipynb Cell 7\u001b[0m line \u001b[0;36m3\n\u001b[1;32m     <a href='vscode-notebook-cell://ssh-remote%2Bwaller-fuoco.eecs.berkeley.edu/home/hpinkard_waller/GitRepos/EncodingInformation/info_estimators_validation/MI_estimation.ipynb#X10sdnNjb2RlLXJlbW90ZQ%3D%3D?line=32'>33</a>\u001b[0m entropies_knn \u001b[39m=\u001b[39m []\n\u001b[1;32m     <a href='vscode-notebook-cell://ssh-remote%2Bwaller-fuoco.eecs.berkeley.edu/home/hpinkard_waller/GitRepos/EncodingInformation/info_estimators_validation/MI_estimation.ipynb#X10sdnNjb2RlLXJlbW90ZQ%3D%3D?line=33'>34</a>\u001b[0m \u001b[39mfor\u001b[39;00m k \u001b[39min\u001b[39;00m tqdm(k_values):\n\u001b[0;32m---> <a href='vscode-notebook-cell://ssh-remote%2Bwaller-fuoco.eecs.berkeley.edu/home/hpinkard_waller/GitRepos/EncodingInformation/info_estimators_validation/MI_estimation.ipynb#X10sdnNjb2RlLXJlbW90ZQ%3D%3D?line=34'>35</a>\u001b[0m     entropies_knn\u001b[39m.\u001b[39mappend(nearest_neighbors_entropy_estimate(X, k\u001b[39m=\u001b[39;49mk))\n\u001b[1;32m     <a href='vscode-notebook-cell://ssh-remote%2Bwaller-fuoco.eecs.berkeley.edu/home/hpinkard_waller/GitRepos/EncodingInformation/info_estimators_validation/MI_estimation.ipynb#X10sdnNjb2RlLXJlbW90ZQ%3D%3D?line=37'>38</a>\u001b[0m \u001b[39m# plot the entropy as a function of k\u001b[39;00m\n\u001b[1;32m     <a href='vscode-notebook-cell://ssh-remote%2Bwaller-fuoco.eecs.berkeley.edu/home/hpinkard_waller/GitRepos/EncodingInformation/info_estimators_validation/MI_estimation.ipynb#X10sdnNjb2RlLXJlbW90ZQ%3D%3D?line=38'>39</a>\u001b[0m fig, ax \u001b[39m=\u001b[39m plt\u001b[39m.\u001b[39msubplots(\u001b[39m1\u001b[39m, \u001b[39m1\u001b[39m)\n",
      "File \u001b[0;32m~/GitRepos/EncodingInformation/information_estimation.py:20\u001b[0m, in \u001b[0;36mnearest_neighbors_entropy_estimate\u001b[0;34m(X, k, base)\u001b[0m\n\u001b[1;32m     11\u001b[0m \u001b[39mdef\u001b[39;00m \u001b[39mnearest_neighbors_entropy_estimate\u001b[39m(X, k\u001b[39m=\u001b[39m\u001b[39m3\u001b[39m, base\u001b[39m=\u001b[39m\u001b[39m2\u001b[39m):\n\u001b[1;32m     12\u001b[0m     \u001b[39m\"\"\"\u001b[39;00m\n\u001b[1;32m     13\u001b[0m \u001b[39m    Estimate the entropy of a dsitribution from samples usiing the KL \u001b[39;00m\n\u001b[1;32m     14\u001b[0m \u001b[39m    nearest neighbors estimator. \u001b[39;00m\n\u001b[0;32m   (...)\u001b[0m\n\u001b[1;32m     18\u001b[0m \u001b[39m    base : base for the logarithms\u001b[39;00m\n\u001b[1;32m     19\u001b[0m \u001b[39m    \"\"\"\u001b[39;00m\n\u001b[0;32m---> 20\u001b[0m     \u001b[39mreturn\u001b[39;00m _do_nearest_neighbors_entropy_estimate(X, X\u001b[39m.\u001b[39;49mshape[\u001b[39m1\u001b[39;49m], k, base)\n",
      "    \u001b[0;31m[... skipping hidden 8 frame]\u001b[0m\n",
      "File \u001b[0;32m~/mambaforge/envs/phenotypes/lib/python3.10/site-packages/jax/_src/interpreters/pxla.py:1934\u001b[0m, in \u001b[0;36mExecuteReplicated.__call__\u001b[0;34m(self, *args)\u001b[0m\n\u001b[1;32m   1929\u001b[0m   \u001b[39mself\u001b[39m\u001b[39m.\u001b[39m_handle_token_bufs(\n\u001b[1;32m   1930\u001b[0m       results\u001b[39m.\u001b[39mdisassemble_prefix_into_single_device_arrays(\n\u001b[1;32m   1931\u001b[0m           \u001b[39mlen\u001b[39m(\u001b[39mself\u001b[39m\u001b[39m.\u001b[39mordered_effects)),\n\u001b[1;32m   1932\u001b[0m       results\u001b[39m.\u001b[39mconsume_token())\n\u001b[1;32m   1933\u001b[0m \u001b[39melse\u001b[39;00m:\n\u001b[0;32m-> 1934\u001b[0m   results \u001b[39m=\u001b[39m \u001b[39mself\u001b[39;49m\u001b[39m.\u001b[39;49mxla_executable\u001b[39m.\u001b[39;49mexecute_sharded(input_bufs)\n\u001b[1;32m   1935\u001b[0m \u001b[39mif\u001b[39;00m dispatch\u001b[39m.\u001b[39mneeds_check_special():\n\u001b[1;32m   1936\u001b[0m   out_arrays \u001b[39m=\u001b[39m results\u001b[39m.\u001b[39mdisassemble_into_single_device_arrays()\n",
      "\u001b[0;31mXlaRuntimeError\u001b[0m: INTERNAL: Failed to load in-memory CUBIN: CUDA_ERROR_INVALID_DEVICE: invalid device ordinal"
     ]
    }
   ],
   "source": [
    "\n",
    "def multivariate_gaussian_entropy(cov_matrix):\n",
    "    \"\"\"\n",
    "    Numerically stable computation of the entropy of a multivariate gaussian\n",
    "    \"\"\"\n",
    "    d = cov_matrix.shape[0]\n",
    "    det_cov_matrix = np.linalg.det(cov_matrix)\n",
    "    if np.isinf(det_cov_matrix):\n",
    "        raise ValueError('Determinant of covariance matrix is infinite')\n",
    "    entropy = 0.5 * d * np.log2(2 * np.pi * np.e) + 0.5 * np.sum(np.log2(np.linalg.eigvalsh(cov_matrix)))\n",
    "    return entropy\n",
    "\n",
    "# determined from experimental data\n",
    "# cov_mat_to_use = cov_mat / np.max(cov_mat)\n",
    "\n",
    "# # identity cov mat\n",
    "# cov_mat = np.eye(8)\n",
    "# cov_mat_to_use = cov_mat\n",
    "\n",
    "# generate a random 8x8 covariance matrix\n",
    "cov_mat_random = onp.random.randn(8, 8)\n",
    "cov_mat_random = cov_mat_random.T @ cov_mat_random\n",
    "cov_mat_to_use = cov_mat_random\n",
    "\n",
    "\n",
    "X = onp.random.multivariate_normal(onp.zeros(cov_mat_to_use.shape[0]), cov_mat_to_use, size=20000)\n",
    "\n",
    "print('cov matrix estimate gaussian entropy', gaussian_entropy_estimate(X, stationary=False))\n",
    "print('analytical gaussian entropy', multivariate_gaussian_entropy(cov_mat_to_use))\n",
    "print('nearest neighbors entropy', nearest_neighbors_entropy_estimate(X, k=1))\n",
    "\n",
    "# make a plot of the nearest neighbors entropy estimate as a function of k\n",
    "k_values = onp.arange(25)\n",
    "entropies_knn = []\n",
    "for k in tqdm(k_values):\n",
    "    entropies_knn.append(nearest_neighbors_entropy_estimate(X, k=k))\n",
    "\n",
    "\n",
    "# plot the entropy as a function of k\n",
    "fig, ax = plt.subplots(1, 1)\n",
    "ax.plot(k_values, entropies_knn)\n",
    "ax.set_xlabel('k')\n",
    "ax.set_ylabel('entropy estimate')\n",
    "\n",
    "# plot the analytical entropy as a horizontal line\n",
    "ax.axhline(multivariate_gaussian_entropy(cov_mat_to_use), color='k', linestyle='--')"
   ]
  }
 ],
 "metadata": {
  "kernelspec": {
   "display_name": "phenotypes",
   "language": "python",
   "name": "python3"
  },
  "language_info": {
   "codemirror_mode": {
    "name": "ipython",
    "version": 3
   },
   "file_extension": ".py",
   "mimetype": "text/x-python",
   "name": "python",
   "nbconvert_exporter": "python",
   "pygments_lexer": "ipython3",
   "version": "3.10.6"
  },
  "orig_nbformat": 4
 },
 "nbformat": 4,
 "nbformat_minor": 2
}
