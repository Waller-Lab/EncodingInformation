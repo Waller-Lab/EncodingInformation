{
 "cells": [
  {
   "cell_type": "code",
   "execution_count": 1,
   "metadata": {},
   "outputs": [
    {
     "name": "stderr",
     "output_type": "stream",
     "text": [
      "2023-10-21 13:23:43.417111: E tensorflow/stream_executor/cuda/cuda_blas.cc:2981] Unable to register cuBLAS factory: Attempting to register factory for plugin cuBLAS when one has already been registered\n",
      "2023-10-21 13:23:43.930267: W tensorflow/stream_executor/platform/default/dso_loader.cc:64] Could not load dynamic library 'libnvinfer.so.7'; dlerror: libnvinfer.so.7: cannot open shared object file: No such file or directory; LD_LIBRARY_PATH: /home/hpinkard_waller/mambaforge/envs/phenotypes/lib/python3.10/site-packages/nvidia/cublas/lib:/home/hpinkard_waller/mambaforge/envs/phenotypes/lib/python3.10/site-packages/nvidia/cuda_cupti/lib:/home/hpinkard_waller/mambaforge/envs/phenotypes/lib/python3.10/site-packages/nvidia/cuda_nvcc/lib:/home/hpinkard_waller/mambaforge/envs/phenotypes/lib/python3.10/site-packages/nvidia/cuda_nvrtc/lib:/home/hpinkard_waller/mambaforge/envs/phenotypes/lib/python3.10/site-packages/nvidia/cuda_runtime/lib:/home/hpinkard_waller/mambaforge/envs/phenotypes/lib/python3.10/site-packages/nvidia/cudnn/lib:/home/hpinkard_waller/mambaforge/envs/phenotypes/lib/python3.10/site-packages/nvidia/cufft/lib:/home/hpinkard_waller/mambaforge/envs/phenotypes/lib/python3.10/site-packages/nvidia/cusolver/lib:/home/hpinkard_waller/mambaforge/envs/phenotypes/lib/python3.10/site-packages/nvidia/cusparse/lib:/home/hpinkard_waller/mambaforge/envs/phenotypes/lib/python3.10/site-packages/nvidia/nccl/lib\n",
      "2023-10-21 13:23:43.930354: W tensorflow/stream_executor/platform/default/dso_loader.cc:64] Could not load dynamic library 'libnvinfer_plugin.so.7'; dlerror: libnvinfer_plugin.so.7: cannot open shared object file: No such file or directory; LD_LIBRARY_PATH: /home/hpinkard_waller/mambaforge/envs/phenotypes/lib/python3.10/site-packages/nvidia/cublas/lib:/home/hpinkard_waller/mambaforge/envs/phenotypes/lib/python3.10/site-packages/nvidia/cuda_cupti/lib:/home/hpinkard_waller/mambaforge/envs/phenotypes/lib/python3.10/site-packages/nvidia/cuda_nvcc/lib:/home/hpinkard_waller/mambaforge/envs/phenotypes/lib/python3.10/site-packages/nvidia/cuda_nvrtc/lib:/home/hpinkard_waller/mambaforge/envs/phenotypes/lib/python3.10/site-packages/nvidia/cuda_runtime/lib:/home/hpinkard_waller/mambaforge/envs/phenotypes/lib/python3.10/site-packages/nvidia/cudnn/lib:/home/hpinkard_waller/mambaforge/envs/phenotypes/lib/python3.10/site-packages/nvidia/cufft/lib:/home/hpinkard_waller/mambaforge/envs/phenotypes/lib/python3.10/site-packages/nvidia/cusolver/lib:/home/hpinkard_waller/mambaforge/envs/phenotypes/lib/python3.10/site-packages/nvidia/cusparse/lib:/home/hpinkard_waller/mambaforge/envs/phenotypes/lib/python3.10/site-packages/nvidia/nccl/lib\n",
      "2023-10-21 13:23:43.930362: W tensorflow/compiler/tf2tensorrt/utils/py_utils.cc:38] TF-TRT Warning: Cannot dlopen some TensorRT libraries. If you would like to use Nvidia GPU with TensorRT, please make sure the missing libraries mentioned above are installed properly.\n"
     ]
    }
   ],
   "source": [
    "%load_ext autoreload\n",
    "%autoreload 2\n",
    "\n",
    "import os\n",
    "from jax import config\n",
    "config.update(\"jax_enable_x64\", True)\n",
    "\n",
    "os.environ[\"CUDA_DEVICE_ORDER\"] = \"PCI_BUS_ID\" \n",
    "os.environ[\"CUDA_VISIBLE_DEVICES\"] = '1'\n",
    "from encoding_information.gpu_utils import limit_gpu_memory_growth\n",
    "limit_gpu_memory_growth()\n",
    "\n",
    "import tensorflow_datasets as tfds  # TFDS for MNIST\n",
    "import tensorflow as tf             # TensorFlow operations\n",
    "\n",
    "# from image_distribution_models import PixelCNN\n",
    "\n",
    "from cleanplots import *\n",
    "import jax.numpy as np\n",
    "from jax.scipy.special import logsumexp\n",
    "import numpy as onp\n",
    "\n",
    "\n",
    "\n"
   ]
  },
  {
   "cell_type": "code",
   "execution_count": 3,
   "metadata": {},
   "outputs": [],
   "source": [
    "#MNIST\n",
    "\n",
    "# (train_images, train_labels), (test_images, test_labels) = tf.keras.datasets.mnist.load_data()\n",
    "\n",
    "\n",
    "# import numpy as onp\n",
    "# train_images = onp.random.randint(0, 255, train_images.shape).astype('uint8')\n",
    "\n",
    "# # make some bimodal IID data\n",
    "# train_images = onp.where(onp.random.rand(*train_images.shape) > 0.5, 250, 5) + onp.random.normal(0, 10, train_images.shape)\n",
    "\n"
   ]
  },
  {
   "cell_type": "code",
   "execution_count": 2,
   "metadata": {},
   "outputs": [
    {
     "name": "stdout",
     "output_type": "stream",
     "text": [
      "Opening BSCCM\n",
      "Opened BSCCM\n"
     ]
    }
   ],
   "source": [
    "from encoding_information.bsccm_utils import *\n",
    "from encoding_information.image_utils import *\n",
    "\n",
    "bsccm = BSCCM('/home/hpinkard_waller/data/BSCCM/')\n",
    "\n",
    "# load images, extract patches, and compute cov mats\n",
    "edge_crop = 32\n",
    "patch_size = 10\n",
    "num_images = 20000\n",
    "num_images = 5000\n",
    "\n",
    "channel = 'LED119'\n",
    "eigenvalue_floor = 1e0\n",
    "\n",
    "num_test_images = 500\n",
    "\n",
    "all_images = load_bsccm_images(bsccm, channel=channel, num_images=num_images + num_test_images, edge_crop=edge_crop, median_filter=False)\n",
    "images = all_images[:num_images]\n",
    "test_images = all_images[num_images:]\n",
    "test_patches = extract_patches(test_images, patch_size, num_patches=num_test_images, seed=0)\n",
    "\n",
    "num_patches = 5000\n",
    "seed = 10\n",
    "\n",
    "patches = extract_patches(images, patch_size, num_patches=num_patches, seed=seed)\n"
   ]
  },
  {
   "cell_type": "code",
   "execution_count": 21,
   "metadata": {},
   "outputs": [
    {
     "name": "stderr",
     "output_type": "stream",
     "text": [
      "Computing loss: 8it [00:00, 10.67it/s]\n"
     ]
    },
    {
     "name": "stdout",
     "output_type": "stream",
     "text": [
      "Initial validation NLL: 6148.97\n"
     ]
    },
    {
     "name": "stderr",
     "output_type": "stream",
     "text": [
      "Epoch 1: 100%|██████████| 1/1 [00:04<00:00,  4.57s/it]\n",
      "Computing loss: 8it [00:00, 99.44it/s]\n"
     ]
    },
    {
     "name": "stdout",
     "output_type": "stream",
     "text": [
      "Epoch 1: validation NLL: 4.59\n"
     ]
    },
    {
     "name": "stderr",
     "output_type": "stream",
     "text": [
      "Epoch 2: 100%|██████████| 1/1 [00:00<00:00, 43.19it/s]\n",
      "Computing loss: 8it [00:00, 99.25it/s]\n"
     ]
    },
    {
     "name": "stdout",
     "output_type": "stream",
     "text": [
      "Epoch 2: validation NLL: 4.55\n"
     ]
    },
    {
     "name": "stderr",
     "output_type": "stream",
     "text": [
      "Epoch 3: 100%|██████████| 1/1 [00:00<00:00, 49.15it/s]\n",
      "Computing loss: 8it [00:00, 101.51it/s]\n"
     ]
    },
    {
     "name": "stdout",
     "output_type": "stream",
     "text": [
      "Epoch 3: validation NLL: 4.54\n"
     ]
    },
    {
     "name": "stderr",
     "output_type": "stream",
     "text": [
      "Epoch 4: 100%|██████████| 1/1 [00:00<00:00, 47.97it/s]\n",
      "Computing loss: 8it [00:00, 108.08it/s]\n"
     ]
    },
    {
     "name": "stdout",
     "output_type": "stream",
     "text": [
      "Epoch 4: validation NLL: 4.54\n"
     ]
    },
    {
     "name": "stderr",
     "output_type": "stream",
     "text": [
      "Epoch 5: 100%|██████████| 1/1 [00:00<00:00, 46.11it/s]\n",
      "Computing loss: 8it [00:00, 106.86it/s]\n"
     ]
    },
    {
     "name": "stdout",
     "output_type": "stream",
     "text": [
      "Epoch 5: validation NLL: 4.54\n"
     ]
    }
   ],
   "source": [
    "from encoding_information.models.gaussian_process import StationaryGaussianProcess\n",
    "\n",
    "stationary_gp = StationaryGaussianProcess(patches, eigenvalue_floor=1e-3)\n",
    "val_loss_history = stationary_gp.fit(patches, max_epochs=5, eigenvalue_floor=1e-3)          "
   ]
  },
  {
   "cell_type": "code",
   "execution_count": 3,
   "metadata": {},
   "outputs": [
    {
     "name": "stderr",
     "output_type": "stream",
     "text": [
      "2023-10-21 13:24:45.654261: W external/xla/xla/service/gpu/conv_algorithm_picker.cc:808] None of the algorithms provided by cuDNN heuristics worked; trying fallback algorithms.\n",
      "2023-10-21 13:24:45.654288: W external/xla/xla/service/gpu/conv_algorithm_picker.cc:811] Conv: (f64[10,128,10,1]{3,2,1,0}, u8[0]{0}) custom-call(f64[10,64,10,1]{3,2,1,0}, f64[128,64,3,3]{3,2,1,0}), window={size=3x3 pad=1_1x1_1}, dim_labels=bf01_oi01->bf01, custom_call_target=\"__cudnn$convForward\", backend_config={\"conv_result_scale\":1,\"activation_mode\":\"kNone\",\"side_input_scale\":0,\"leakyrelu_alpha\":0}\n",
      "2023-10-21 13:24:50.664051: W tensorflow/core/common_runtime/gpu/gpu_bfc_allocator.cc:42] Overriding orig_value setting because the TF_FORCE_GPU_ALLOW_GROWTH environment variable is set. Original config value was 0.\n",
      "Computing loss: 0it [00:00, ?it/s]2023-10-21 13:24:51.213805: W external/xla/xla/service/gpu/conv_algorithm_picker.cc:808] None of the algorithms provided by cuDNN heuristics worked; trying fallback algorithms.\n",
      "2023-10-21 13:24:51.213833: W external/xla/xla/service/gpu/conv_algorithm_picker.cc:811] Conv: (f64[64,128,10,10]{3,2,1,0}, u8[0]{0}) custom-call(f64[64,64,10,10]{3,2,1,0}, f64[128,64,3,3]{3,2,1,0}, f64[128]{0}), window={size=3x3 pad=1_1x1_1}, dim_labels=bf01_oi01->bf01, custom_call_target=\"__cudnn$convBiasActivationForward\", backend_config={\"conv_result_scale\":1,\"activation_mode\":\"kNone\",\"side_input_scale\":0,\"leakyrelu_alpha\":0}\n",
      "Computing loss: 15it [00:02,  5.28it/s]\n"
     ]
    },
    {
     "name": "stdout",
     "output_type": "stream",
     "text": [
      "Initial validation NLL: 124.32\n"
     ]
    },
    {
     "name": "stderr",
     "output_type": "stream",
     "text": [
      "Epoch 1:   0%|          | 0/100 [00:00<?, ?it/s]2023-10-21 13:24:57.185080: W external/xla/xla/service/gpu/conv_algorithm_picker.cc:808] None of the algorithms provided by cuDNN heuristics worked; trying fallback algorithms.\n",
      "2023-10-21 13:24:57.185105: W external/xla/xla/service/gpu/conv_algorithm_picker.cc:811] Conv: (f64[64,128,1,3]{3,2,1,0}, u8[0]{0}) custom-call(f64[64,64,10,10]{3,2,1,0}, f64[128,64,10,10]{3,2,1,0}), window={size=10x10 stride=2x2 pad=0_0x2_2}, dim_labels=bf01_oi01->bf01, custom_call_target=\"__cudnn$convForward\", backend_config={\"conv_result_scale\":1,\"activation_mode\":\"kNone\",\"side_input_scale\":0,\"leakyrelu_alpha\":0}\n",
      "2023-10-21 13:24:57.246145: W external/xla/xla/service/gpu/conv_algorithm_picker.cc:808] None of the algorithms provided by cuDNN heuristics worked; trying fallback algorithms.\n",
      "2023-10-21 13:24:57.246170: W external/xla/xla/service/gpu/conv_algorithm_picker.cc:811] Conv: (f64[64,128,3,3]{3,2,1,0}, u8[0]{0}) custom-call(f64[64,64,10,10]{3,2,1,0}, f64[128,64,10,10]{3,2,1,0}), window={size=10x10 stride=2x2 pad=2_2x2_2}, dim_labels=bf01_oi01->bf01, custom_call_target=\"__cudnn$convForward\", backend_config={\"conv_result_scale\":1,\"activation_mode\":\"kNone\",\"side_input_scale\":0,\"leakyrelu_alpha\":0}\n",
      "2023-10-21 13:24:57.305529: W external/xla/xla/service/gpu/conv_algorithm_picker.cc:808] None of the algorithms provided by cuDNN heuristics worked; trying fallback algorithms.\n",
      "2023-10-21 13:24:57.305553: W external/xla/xla/service/gpu/conv_algorithm_picker.cc:811] Conv: (f64[64,128,1,3]{3,2,1,0}, u8[0]{0}) custom-call(f64[64,64,10,10]{3,2,1,0}, f64[128,64,10,10]{3,2,1,0}), window={size=10x10 stride=4x4 pad=0_0x4_4}, dim_labels=bf01_oi01->bf01, custom_call_target=\"__cudnn$convForward\", backend_config={\"conv_result_scale\":1,\"activation_mode\":\"kNone\",\"side_input_scale\":0,\"leakyrelu_alpha\":0}\n",
      "2023-10-21 13:24:57.365524: W external/xla/xla/service/gpu/conv_algorithm_picker.cc:808] None of the algorithms provided by cuDNN heuristics worked; trying fallback algorithms.\n",
      "2023-10-21 13:24:57.365556: W external/xla/xla/service/gpu/conv_algorithm_picker.cc:811] Conv: (f64[64,128,3,3]{3,2,1,0}, u8[0]{0}) custom-call(f64[64,64,10,10]{3,2,1,0}, f64[128,64,10,10]{3,2,1,0}), window={size=10x10 stride=4x4 pad=4_4x4_4}, dim_labels=bf01_oi01->bf01, custom_call_target=\"__cudnn$convForward\", backend_config={\"conv_result_scale\":1,\"activation_mode\":\"kNone\",\"side_input_scale\":0,\"leakyrelu_alpha\":0}\n",
      "Epoch 1: 100%|██████████| 100/100 [00:14<00:00,  7.02it/s]\n",
      "Computing loss: 15it [00:00, 37.12it/s]\n"
     ]
    },
    {
     "name": "stdout",
     "output_type": "stream",
     "text": [
      "Epoch 1: validation NLL: 5.57\n"
     ]
    },
    {
     "name": "stderr",
     "output_type": "stream",
     "text": [
      "Epoch 2: 100%|██████████| 100/100 [00:08<00:00, 12.48it/s]\n",
      "Computing loss: 15it [00:00, 38.49it/s]\n"
     ]
    },
    {
     "name": "stdout",
     "output_type": "stream",
     "text": [
      "Epoch 2: validation NLL: 5.11\n"
     ]
    },
    {
     "name": "stderr",
     "output_type": "stream",
     "text": [
      "Epoch 3: 100%|██████████| 100/100 [00:07<00:00, 12.56it/s]\n",
      "Computing loss: 15it [00:00, 37.72it/s]\n"
     ]
    },
    {
     "name": "stdout",
     "output_type": "stream",
     "text": [
      "Epoch 3: validation NLL: 4.74\n"
     ]
    },
    {
     "name": "stderr",
     "output_type": "stream",
     "text": [
      "Epoch 4: 100%|██████████| 100/100 [00:07<00:00, 12.55it/s]\n",
      "Computing loss: 15it [00:00, 39.42it/s]\n"
     ]
    },
    {
     "name": "stdout",
     "output_type": "stream",
     "text": [
      "Epoch 4: validation NLL: 4.62\n"
     ]
    },
    {
     "name": "stderr",
     "output_type": "stream",
     "text": [
      "Epoch 5: 100%|██████████| 100/100 [00:07<00:00, 12.69it/s]\n",
      "Computing loss: 15it [00:00, 39.15it/s]\n"
     ]
    },
    {
     "name": "stdout",
     "output_type": "stream",
     "text": [
      "Epoch 5: validation NLL: 4.58\n"
     ]
    },
    {
     "name": "stderr",
     "output_type": "stream",
     "text": [
      "Epoch 6: 100%|██████████| 100/100 [00:07<00:00, 12.82it/s]\n",
      "Computing loss: 15it [00:00, 39.37it/s]\n"
     ]
    },
    {
     "name": "stdout",
     "output_type": "stream",
     "text": [
      "Epoch 6: validation NLL: 4.56\n"
     ]
    },
    {
     "name": "stderr",
     "output_type": "stream",
     "text": [
      "Epoch 7: 100%|██████████| 100/100 [00:07<00:00, 12.80it/s]\n",
      "Computing loss: 15it [00:00, 39.84it/s]\n"
     ]
    },
    {
     "name": "stdout",
     "output_type": "stream",
     "text": [
      "Epoch 7: validation NLL: 4.58\n"
     ]
    },
    {
     "name": "stderr",
     "output_type": "stream",
     "text": [
      "Epoch 8: 100%|██████████| 100/100 [00:07<00:00, 12.85it/s]\n",
      "Computing loss: 15it [00:00, 38.96it/s]\n"
     ]
    },
    {
     "name": "stdout",
     "output_type": "stream",
     "text": [
      "Epoch 8: validation NLL: 4.56\n"
     ]
    },
    {
     "name": "stderr",
     "output_type": "stream",
     "text": [
      "Epoch 9: 100%|██████████| 100/100 [00:07<00:00, 13.00it/s]\n",
      "Computing loss: 15it [00:00, 39.32it/s]\n"
     ]
    },
    {
     "name": "stdout",
     "output_type": "stream",
     "text": [
      "Epoch 9: validation NLL: 4.61\n"
     ]
    },
    {
     "name": "stderr",
     "output_type": "stream",
     "text": [
      "Epoch 10: 100%|██████████| 100/100 [00:07<00:00, 12.97it/s]\n",
      "Computing loss: 15it [00:00, 38.82it/s]\n"
     ]
    },
    {
     "name": "stdout",
     "output_type": "stream",
     "text": [
      "Epoch 10: validation NLL: 4.52\n"
     ]
    },
    {
     "name": "stderr",
     "output_type": "stream",
     "text": [
      "Epoch 11: 100%|██████████| 100/100 [00:07<00:00, 12.97it/s]\n",
      "Computing loss: 15it [00:00, 40.38it/s]\n"
     ]
    },
    {
     "name": "stdout",
     "output_type": "stream",
     "text": [
      "Epoch 11: validation NLL: 4.53\n"
     ]
    },
    {
     "name": "stderr",
     "output_type": "stream",
     "text": [
      "Epoch 12: 100%|██████████| 100/100 [00:07<00:00, 13.00it/s]\n",
      "Computing loss: 15it [00:00, 40.51it/s]\n"
     ]
    },
    {
     "name": "stdout",
     "output_type": "stream",
     "text": [
      "Epoch 12: validation NLL: 4.51\n"
     ]
    },
    {
     "name": "stderr",
     "output_type": "stream",
     "text": [
      "Epoch 13: 100%|██████████| 100/100 [00:07<00:00, 13.01it/s]\n",
      "Computing loss: 15it [00:00, 40.29it/s]\n"
     ]
    },
    {
     "name": "stdout",
     "output_type": "stream",
     "text": [
      "Epoch 13: validation NLL: 4.53\n"
     ]
    },
    {
     "name": "stderr",
     "output_type": "stream",
     "text": [
      "Epoch 14: 100%|██████████| 100/100 [00:07<00:00, 12.99it/s]\n",
      "Computing loss: 15it [00:00, 40.48it/s]\n"
     ]
    },
    {
     "name": "stdout",
     "output_type": "stream",
     "text": [
      "Epoch 14: validation NLL: 4.53\n"
     ]
    },
    {
     "name": "stderr",
     "output_type": "stream",
     "text": [
      "Epoch 15: 100%|██████████| 100/100 [00:07<00:00, 13.08it/s]\n",
      "Computing loss: 15it [00:00, 39.73it/s]\n"
     ]
    },
    {
     "name": "stdout",
     "output_type": "stream",
     "text": [
      "Epoch 15: validation NLL: 4.53\n"
     ]
    },
    {
     "name": "stderr",
     "output_type": "stream",
     "text": [
      "Epoch 16: 100%|██████████| 100/100 [00:07<00:00, 13.09it/s]\n",
      "Computing loss: 15it [00:00, 40.84it/s]\n"
     ]
    },
    {
     "name": "stdout",
     "output_type": "stream",
     "text": [
      "Epoch 16: validation NLL: 4.53\n"
     ]
    },
    {
     "name": "stderr",
     "output_type": "stream",
     "text": [
      "Epoch 17: 100%|██████████| 100/100 [00:07<00:00, 13.06it/s]\n",
      "Computing loss: 15it [00:00, 39.68it/s]\n"
     ]
    },
    {
     "name": "stdout",
     "output_type": "stream",
     "text": [
      "Epoch 17: validation NLL: 4.52\n"
     ]
    },
    {
     "name": "stderr",
     "output_type": "stream",
     "text": [
      "Epoch 18: 100%|██████████| 100/100 [00:07<00:00, 13.05it/s]\n",
      "Computing loss: 15it [00:00, 39.88it/s]\n"
     ]
    },
    {
     "name": "stdout",
     "output_type": "stream",
     "text": [
      "Epoch 18: validation NLL: 4.53\n"
     ]
    },
    {
     "name": "stderr",
     "output_type": "stream",
     "text": [
      "Epoch 19: 100%|██████████| 100/100 [00:07<00:00, 13.05it/s]\n",
      "Computing loss: 15it [00:00, 39.48it/s]\n"
     ]
    },
    {
     "name": "stdout",
     "output_type": "stream",
     "text": [
      "Epoch 19: validation NLL: 4.56\n"
     ]
    },
    {
     "name": "stderr",
     "output_type": "stream",
     "text": [
      "Epoch 20: 100%|██████████| 100/100 [00:07<00:00, 13.05it/s]\n",
      "Computing loss: 15it [00:00, 39.83it/s]\n"
     ]
    },
    {
     "name": "stdout",
     "output_type": "stream",
     "text": [
      "Epoch 20: validation NLL: 4.54\n"
     ]
    },
    {
     "name": "stderr",
     "output_type": "stream",
     "text": [
      "Epoch 21: 100%|██████████| 100/100 [00:07<00:00, 13.02it/s]\n",
      "Computing loss: 15it [00:00, 39.51it/s]\n"
     ]
    },
    {
     "name": "stdout",
     "output_type": "stream",
     "text": [
      "Epoch 21: validation NLL: 4.60\n"
     ]
    },
    {
     "name": "stderr",
     "output_type": "stream",
     "text": [
      "Epoch 22: 100%|██████████| 100/100 [00:07<00:00, 13.04it/s]\n",
      "Computing loss: 15it [00:00, 40.01it/s]"
     ]
    },
    {
     "name": "stdout",
     "output_type": "stream",
     "text": [
      "Epoch 22: validation NLL: 4.60\n"
     ]
    },
    {
     "name": "stderr",
     "output_type": "stream",
     "text": [
      "\n"
     ]
    },
    {
     "data": {
      "text/plain": [
       "[124.31939598576801,\n",
       " 5.574232822757545,\n",
       " 5.106379670450322,\n",
       " 4.7445735053804405,\n",
       " 4.622940856026082,\n",
       " 4.583594469338777,\n",
       " 4.5625859331098395,\n",
       " 4.578762943963583,\n",
       " 4.55931019707213,\n",
       " 4.606637961169037,\n",
       " 4.521399345447587,\n",
       " 4.532886622648063,\n",
       " 4.514651594317875,\n",
       " 4.527822992543543,\n",
       " 4.531505795710428,\n",
       " 4.530609383199943,\n",
       " 4.5280100821944576,\n",
       " 4.52451931965293,\n",
       " 4.526286731362355,\n",
       " 4.558799902405855,\n",
       " 4.541464918750059,\n",
       " 4.598804847170132,\n",
       " 4.599318598845315]"
      ]
     },
     "execution_count": 3,
     "metadata": {},
     "output_type": "execute_result"
    }
   ],
   "source": [
    "from encoding_information.models.pixel_cnn import PixelCNN\n",
    "\n",
    "num_hidden_channels = 64\n",
    "num_mixture_components = 40\n",
    "\n",
    "pixel_cnn = PixelCNN(num_hidden_channels=num_hidden_channels, num_mixture_components=num_mixture_components)\n",
    "pixel_cnn.fit(patches, max_epochs=25)          \n"
   ]
  },
  {
   "cell_type": "markdown",
   "metadata": {},
   "source": [
    "## Compare test set likelihood and samples from both models"
   ]
  },
  {
   "cell_type": "code",
   "execution_count": 31,
   "metadata": {},
   "outputs": [
    {
     "name": "stderr",
     "output_type": "stream",
     "text": [
      "precomputing masks and variances: 100%|██████████| 10/10 [00:00<00:00, 178.22it/s]\n"
     ]
    },
    {
     "name": "stdout",
     "output_type": "stream",
     "text": [
      "evaluating likelihood\n"
     ]
    },
    {
     "name": "stderr",
     "output_type": "stream",
     "text": [
      "computing log likelihoods: 100%|██████████| 10/10 [00:00<00:00, 209.05it/s]\n"
     ]
    },
    {
     "name": "stdout",
     "output_type": "stream",
     "text": [
      "Stationary GP NLL: 4.543677857164826\n",
      "PixelCNN NLL: 9.433557636439122\n"
     ]
    }
   ],
   "source": [
    "stationary_gp_nll = stationary_gp.compute_negative_log_likelihood(test_patches)\n",
    "pixel_cnn_nll = pixel_cnn.compute_negative_log_likelihood(test_patches)\n",
    "print(f\"Stationary GP NLL: {stationary_gp_nll}\")\n",
    "print(f\"PixelCNN NLL: {pixel_cnn_nll}\")"
   ]
  },
  {
   "cell_type": "code",
   "execution_count": null,
   "metadata": {},
   "outputs": [],
   "source": [
    "pixel_cnn.compute_negative_log_likelihood(train_patches)"
   ]
  }
 ],
 "metadata": {
  "kernelspec": {
   "display_name": "phenotypes",
   "language": "python",
   "name": "python3"
  },
  "language_info": {
   "codemirror_mode": {
    "name": "ipython",
    "version": 3
   },
   "file_extension": ".py",
   "mimetype": "text/x-python",
   "name": "python",
   "nbconvert_exporter": "python",
   "pygments_lexer": "ipython3",
   "version": "3.10.6"
  }
 },
 "nbformat": 4,
 "nbformat_minor": 2
}
