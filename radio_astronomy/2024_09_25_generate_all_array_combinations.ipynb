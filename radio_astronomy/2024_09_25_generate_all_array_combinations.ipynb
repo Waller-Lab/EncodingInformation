{
 "cells": [
  {
   "cell_type": "code",
   "execution_count": null,
   "id": "1b36e4e1",
   "metadata": {},
   "outputs": [
    {
     "name": "stdout",
     "output_type": "stream",
     "text": [
      "Welcome to eht-imaging! v 1.2.8 \n",
      "\n"
     ]
    }
   ],
   "source": [
    "import ehtim as eh # installed using https://github.com/achael/eht-imaging\n",
    "#%matplotlib ipympl\n",
    "#import pynoisy # have an import error but also it works as is without this.\n",
    "import sys \n",
    "sys.path.append('/home/your_username/eht_stuff/ehtplot')\n",
    "import ehtplot.color #installed using https://github.com/liamedeiros/ehtplot (only necessary if you want cfun=\"afmhot_10us\", the colormap used in EHT papers)\n",
    "import matplotlib.pyplot as plt\n",
    "import numpy as np"
   ]
  },
  {
   "cell_type": "markdown",
   "id": "c9b60b12",
   "metadata": {},
   "source": [
    "# Load the EHT array and make all the combinations"
   ]
  },
  {
   "cell_type": "code",
   "execution_count": null,
   "id": "8a4982a7",
   "metadata": {},
   "outputs": [],
   "source": [
    "import itertools\n",
    "def read_elements(filename):\n",
    "    with open(filename, 'r') as file:\n",
    "        elements = [line.strip() for line in file]\n",
    "    return elements\n",
    "\n",
    "\n",
    "def generate_combinations(elements):\n",
    "    combinations = itertools.combinations(elements, 4)\n",
    "    print(combinations)\n",
    "\n",
    "    for i, combo in enumerate(combinations):\n",
    "        filename = f'all-4-eht-combos/combination_{i}.txt'\n",
    "        with open(filename, 'w') as file:\n",
    "            file.write('\\n'.join(combo))\n",
    "        #print(f'Created: {filename}')\n",
    "\n",
    "array_filename = 'fake-eht-arrays/EHT2017.txt' #'ehtim-tutorial/arrays/EHT2017.txt'   # telescope array parameters filename\n",
    "elements = read_elements(array_filename)[1:]\n",
    "\n",
    "generate_combinations(elements)"
   ]
  }
 ],
 "metadata": {
  "kernelspec": {
   "display_name": "pynoisy",
   "language": "python",
   "name": "python3"
  },
  "language_info": {
   "codemirror_mode": {
    "name": "ipython",
    "version": 3
   },
   "file_extension": ".py",
   "mimetype": "text/x-python",
   "name": "python",
   "nbconvert_exporter": "python",
   "pygments_lexer": "ipython3",
   "version": "3.7.12"
  }
 },
 "nbformat": 4,
 "nbformat_minor": 5
}
