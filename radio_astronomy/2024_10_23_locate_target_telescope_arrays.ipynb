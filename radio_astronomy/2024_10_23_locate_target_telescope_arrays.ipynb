{
 "cells": [
  {
   "cell_type": "code",
   "execution_count": 2,
   "metadata": {},
   "outputs": [],
   "source": [
    "import numpy as np\n",
    "import os"
   ]
  },
  {
   "cell_type": "code",
   "execution_count": null,
   "metadata": {},
   "outputs": [],
   "source": [
    "directory_of_arrays = '/home/your_username/black_holes/all-4-eht-combos/'\n"
   ]
  },
  {
   "cell_type": "code",
   "execution_count": 3,
   "metadata": {},
   "outputs": [],
   "source": [
    "target_array_1 = ['ALMA', 'APEX', 'PV', 'SMT']\n",
    "target_array_2 = ['JCMT', 'SMA', 'ALMA', 'PV']\n",
    "target_array_3 = ['PV', 'SMA', 'SPT', 'APEX']\n",
    "\n",
    "def find_file_with_values(directory, search_values):\n",
    "    for filename in os.listdir(directory):\n",
    "        if filename.endswith('.txt'):\n",
    "            file_path = os.path.join(directory, filename)\n",
    "            try:\n",
    "                with open(file_path, 'r') as file:\n",
    "                    content = file.read()\n",
    "                    if all(value in content for value in search_values):\n",
    "                        print(f'File found: {filename} with values: {search_values}')\n",
    "                        return filename \n",
    "            except Exception as e:\n",
    "                print(f'Error reading file {filename}: {e}')\n",
    "    print(f'File not found with values: {search_values}')\n",
    "    return None"
   ]
  },
  {
   "cell_type": "code",
   "execution_count": 4,
   "metadata": {},
   "outputs": [
    {
     "name": "stdout",
     "output_type": "stream",
     "text": [
      "File found: combination_10.txt with values: ['ALMA', 'APEX', 'PV', 'SMT']\n",
      "File found: combination_21.txt with values: ['JCMT', 'SMA', 'ALMA', 'PV']\n",
      "File found: combination_22.txt with values: ['PV', 'SMA', 'SPT', 'APEX']\n"
     ]
    },
    {
     "data": {
      "text/plain": [
       "'combination_22.txt'"
      ]
     },
     "execution_count": 4,
     "metadata": {},
     "output_type": "execute_result"
    }
   ],
   "source": [
    "find_file_with_values(directory_of_arrays, target_array_1)\n",
    "find_file_with_values(directory_of_arrays, target_array_2)\n",
    "find_file_with_values(directory_of_arrays, target_array_3)"
   ]
  },
  {
   "cell_type": "code",
   "execution_count": null,
   "metadata": {},
   "outputs": [],
   "source": []
  }
 ],
 "metadata": {
  "kernelspec": {
   "display_name": "infomri",
   "language": "python",
   "name": "python3"
  },
  "language_info": {
   "codemirror_mode": {
    "name": "ipython",
    "version": 3
   },
   "file_extension": ".py",
   "mimetype": "text/x-python",
   "name": "python",
   "nbconvert_exporter": "python",
   "pygments_lexer": "ipython3",
   "version": "3.10.14"
  }
 },
 "nbformat": 4,
 "nbformat_minor": 2
}
