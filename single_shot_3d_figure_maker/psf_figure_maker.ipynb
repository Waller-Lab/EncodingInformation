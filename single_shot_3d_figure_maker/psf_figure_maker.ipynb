{
 "cells": [
  {
   "cell_type": "code",
   "execution_count": 35,
   "metadata": {},
   "outputs": [],
   "source": [
    "import napari\n",
    "import numpy as np\n",
    "\n",
    "import numpy as np\n",
    "import napari\n",
    "from matplotlib.colors import LinearSegmentedColormap\n",
    "import imageio"
   ]
  },
  {
   "cell_type": "code",
   "execution_count": 4,
   "metadata": {},
   "outputs": [],
   "source": [
    "data = {}\n",
    "for i, cp in enumerate(['checkpoint_0',  'checkpoint_300',  'checkpoint_5660']):\n",
    "\n",
    "    path = '/Users/henrypinkard/Desktop/figure_3_eric_data/e2e_full_volume_psfs/' + cp\n",
    "    path += '_psf.npy'\n",
    "    img = np.load(path)"
   ]
  },
  {
   "cell_type": "code",
   "execution_count": 48,
   "metadata": {},
   "outputs": [],
   "source": [
    "\n",
    "\n",
    "cmap = LinearSegmentedColormap.from_list('prob', [[0,0,0], 'lime'])\n",
    "colors = cmap(np.linspace(0, 1, 256))  # Get RGBA colors from the colormap\n",
    "# Napari expects a colormap as a list of colors or an Nx4 numpy array and a control points array\n",
    "napari_colormap = napari.utils.Colormap(colors)\n",
    "\n",
    "\n",
    "\n",
    "z_anisotropy = 4  # Z pixels are 4 times larger than X and Y pixels\n",
    "\n",
    "# Assuming 'img', 'cp', and 'napari_colormap' are defined as before\n",
    "viewer = napari.view_image(img, name=cp, colormap=napari_colormap,\n",
    "                           scale=[z_anisotropy, 1, 1],\n",
    "                           contrast_limits=[0, .05])\n",
    "viewer.dims.ndisplay = 3\n",
    "\n",
    "# Adjust the corners calculation to take z_anisotropy into account\n",
    "shape = img.shape\n",
    "z, y, x = np.indices((2, 2, 2))\n",
    "z = z * (shape[0] - 1) * z_anisotropy  # Apply z_anisotropy scaling to Z coordinates\n",
    "y = y * (shape[1] - 1)\n",
    "x = x * (shape[2] - 1)\n",
    "corners = np.stack([z.flatten(), y.flatten(), x.flatten()], axis=1)\n",
    "\n",
    "# Define the edges of the box\n",
    "edges = [\n",
    "    [0, 1], [1, 3], [3, 2], [2, 0],  # Bottom\n",
    "    [4, 5], [5, 7], [7, 6], [6, 4],  # Top\n",
    "    [0, 4], [1, 5], [2, 6], [3, 7]   # Vertical\n",
    "]\n",
    "\n",
    "# Add edges as lines to draw the bounding box\n",
    "exclude = [6, 7, 10]\n",
    "for i, (start, end) in enumerate(edges):\n",
    "    if i in exclude:\n",
    "        continue\n",
    "    viewer.add_shapes([corners[start], corners[end]], shape_type='line', edge_width=.05,\n",
    "                      edge_color='white', name='Bounding Box')\n",
    "\n",
    "# Assuming 'viewer' is your Napari viewer instance\n",
    "viewer.camera.center = (20.0, 49.5, 49.5)\n",
    "viewer.camera.zoom = 5.252703239519902\n",
    "viewer.camera.angles = (-29.726019851146486, 55.511697835359755, 53.177248872700154)\n",
    "viewer.camera.perspective = 0.0\n",
    "viewer.camera.interactive = True\n"
   ]
  },
  {
   "cell_type": "code",
   "execution_count": 37,
   "metadata": {},
   "outputs": [],
   "source": [
    "shot = viewer.screenshot(canvas_only=True)\n",
    "imageio.imwrite(f'/Users/henrypinkard/Desktop/figure_psfs_tmp/{cp}_psf.png', shot)"
   ]
  }
 ],
 "metadata": {
  "kernelspec": {
   "display_name": "info",
   "language": "python",
   "name": "python3"
  },
  "language_info": {
   "codemirror_mode": {
    "name": "ipython",
    "version": 3
   },
   "file_extension": ".py",
   "mimetype": "text/x-python",
   "name": "python",
   "nbconvert_exporter": "python",
   "pygments_lexer": "ipython3",
   "version": "3.11.0"
  }
 },
 "nbformat": 4,
 "nbformat_minor": 2
}
