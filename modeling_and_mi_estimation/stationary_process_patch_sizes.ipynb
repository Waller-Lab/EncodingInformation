{
 "cells": [
  {
   "cell_type": "code",
   "execution_count": 1,
   "metadata": {},
   "outputs": [
    {
     "name": "stdout",
     "output_type": "stream",
     "text": [
      "Opening BSCCM\n",
      "Opened BSCCM\n"
     ]
    }
   ],
   "source": [
    "%load_ext autoreload\n",
    "%autoreload 2\n",
    "# this only works on startup!\n",
    "from jax import config\n",
    "config.update(\"jax_enable_x64\", True)\n",
    "\n",
    "import os\n",
    "os.environ[\"CUDA_DEVICE_ORDER\"] = \"PCI_BUS_ID\" \n",
    "os.environ[\"CUDA_VISIBLE_DEVICES\"] = '2'\n",
    "\n",
    "from gpu_utils import limit_gpu_memory_growth\n",
    "limit_gpu_memory_growth()\n",
    "\n",
    "from cleanplots import *\n",
    "from tqdm import tqdm\n",
    "from information_estimation import *\n",
    "from image_utils import *\n",
    "\n",
    "from led_array.bsccm_utils import *\n",
    "from bsccm import BSCCM\n",
    "from jax import jit\n",
    "import numpy as onp\n",
    "import jax.numpy as np\n",
    "\n",
    "bsccm = BSCCM('/home/hpinkard_waller/data/BSCCM/')"
   ]
  },
  {
   "cell_type": "code",
   "execution_count": 2,
   "metadata": {},
   "outputs": [
    {
     "name": "stdout",
     "output_type": "stream",
     "text": [
      "Channel: LED119\n"
     ]
    },
    {
     "name": "stderr",
     "output_type": "stream",
     "text": [
      "Running bootstraps:  30%|███       | 3/10 [05:01<11:43, 100.45s/it]\n",
      "  0%|          | 0/9 [05:02<?, ?it/s]\n"
     ]
    },
    {
     "ename": "KeyboardInterrupt",
     "evalue": "",
     "output_type": "error",
     "traceback": [
      "\u001b[0;31m---------------------------------------------------------------------------\u001b[0m",
      "\u001b[0;31mKeyboardInterrupt\u001b[0m                         Traceback (most recent call last)",
      "\u001b[1;32m/home/hpinkard_waller/GitRepos/EncodingInformation/modeling_and_mi_estimation/stationary_process_patch_sizes.ipynb Cell 2\u001b[0m line \u001b[0;36m4\n\u001b[1;32m     <a href='vscode-notebook-cell://ssh-remote%2Bwaller-fuoco.eecs.berkeley.edu/home/hpinkard_waller/GitRepos/EncodingInformation/modeling_and_mi_estimation/stationary_process_patch_sizes.ipynb#W0sdnNjb2RlLXJlbW90ZQ%3D%3D?line=41'>42</a>\u001b[0m log_likelihood_confidence_intervals \u001b[39m=\u001b[39m []\n\u001b[1;32m     <a href='vscode-notebook-cell://ssh-remote%2Bwaller-fuoco.eecs.berkeley.edu/home/hpinkard_waller/GitRepos/EncodingInformation/modeling_and_mi_estimation/stationary_process_patch_sizes.ipynb#W0sdnNjb2RlLXJlbW90ZQ%3D%3D?line=42'>43</a>\u001b[0m \u001b[39mfor\u001b[39;00m patch_size \u001b[39min\u001b[39;00m tqdm(patch_sizes):\n\u001b[0;32m---> <a href='vscode-notebook-cell://ssh-remote%2Bwaller-fuoco.eecs.berkeley.edu/home/hpinkard_waller/GitRepos/EncodingInformation/modeling_and_mi_estimation/stationary_process_patch_sizes.ipynb#W0sdnNjb2RlLXJlbW90ZQ%3D%3D?line=43'>44</a>\u001b[0m     mean, interval \u001b[39m=\u001b[39m run_bootstrap(images, compute_normalized_log_likelihood, num_bootstrap_samples\u001b[39m=\u001b[39;49mnum_bootstrap_samples, confidence_interval\u001b[39m=\u001b[39;49m\u001b[39m90\u001b[39;49m)\n\u001b[1;32m     <a href='vscode-notebook-cell://ssh-remote%2Bwaller-fuoco.eecs.berkeley.edu/home/hpinkard_waller/GitRepos/EncodingInformation/modeling_and_mi_estimation/stationary_process_patch_sizes.ipynb#W0sdnNjb2RlLXJlbW90ZQ%3D%3D?line=44'>45</a>\u001b[0m     log_likelihood_means\u001b[39m.\u001b[39mappend(mean)\n\u001b[1;32m     <a href='vscode-notebook-cell://ssh-remote%2Bwaller-fuoco.eecs.berkeley.edu/home/hpinkard_waller/GitRepos/EncodingInformation/modeling_and_mi_estimation/stationary_process_patch_sizes.ipynb#W0sdnNjb2RlLXJlbW90ZQ%3D%3D?line=45'>46</a>\u001b[0m     log_likelihood_confidence_intervals\u001b[39m.\u001b[39mappend(interval)\n",
      "File \u001b[0;32m~/GitRepos/EncodingInformation/information_estimation.py:189\u001b[0m, in \u001b[0;36mrun_bootstrap\u001b[0;34m(data, estimation_fn, num_bootstrap_samples, confidence_interval, seed)\u001b[0m\n\u001b[1;32m    187\u001b[0m \u001b[39mif\u001b[39;00m \u001b[39mnot\u001b[39;00m \u001b[39misinstance\u001b[39m(data, \u001b[39mdict\u001b[39m):\n\u001b[1;32m    188\u001b[0m     data_sample \u001b[39m=\u001b[39m jax\u001b[39m.\u001b[39mrandom\u001b[39m.\u001b[39mchoice(subkey, data, shape\u001b[39m=\u001b[39m(N,), replace\u001b[39m=\u001b[39m\u001b[39mTrue\u001b[39;00m)\n\u001b[0;32m--> 189\u001b[0m     results\u001b[39m.\u001b[39mappend(estimation_fn(data_sample))\n\u001b[1;32m    190\u001b[0m \u001b[39melse\u001b[39;00m:\n\u001b[1;32m    191\u001b[0m     data_samples \u001b[39m=\u001b[39m {}\n",
      "\u001b[1;32m/home/hpinkard_waller/GitRepos/EncodingInformation/modeling_and_mi_estimation/stationary_process_patch_sizes.ipynb Cell 2\u001b[0m line \u001b[0;36m3\n\u001b[1;32m     <a href='vscode-notebook-cell://ssh-remote%2Bwaller-fuoco.eecs.berkeley.edu/home/hpinkard_waller/GitRepos/EncodingInformation/modeling_and_mi_estimation/stationary_process_patch_sizes.ipynb#W0sdnNjb2RlLXJlbW90ZQ%3D%3D?line=30'>31</a>\u001b[0m \u001b[39mdef\u001b[39;00m \u001b[39mcompute_normalized_log_likelihood\u001b[39m(images):       \n\u001b[0;32m---> <a href='vscode-notebook-cell://ssh-remote%2Bwaller-fuoco.eecs.berkeley.edu/home/hpinkard_waller/GitRepos/EncodingInformation/modeling_and_mi_estimation/stationary_process_patch_sizes.ipynb#W0sdnNjb2RlLXJlbW90ZQ%3D%3D?line=31'>32</a>\u001b[0m     patches \u001b[39m=\u001b[39m extract_patches(images, patch_size, num_patches\u001b[39m=\u001b[39;49mnum_patches, verbose\u001b[39m=\u001b[39;49m\u001b[39mFalse\u001b[39;49;00m,)\n\u001b[1;32m     <a href='vscode-notebook-cell://ssh-remote%2Bwaller-fuoco.eecs.berkeley.edu/home/hpinkard_waller/GitRepos/EncodingInformation/modeling_and_mi_estimation/stationary_process_patch_sizes.ipynb#W0sdnNjb2RlLXJlbW90ZQ%3D%3D?line=32'>33</a>\u001b[0m     test_set_patches \u001b[39m=\u001b[39m extract_patches(test_set_images, patch_size, num_patches\u001b[39m=\u001b[39mnum_test_set_patches, verbose\u001b[39m=\u001b[39m\u001b[39mFalse\u001b[39;00m)\n\u001b[1;32m     <a href='vscode-notebook-cell://ssh-remote%2Bwaller-fuoco.eecs.berkeley.edu/home/hpinkard_waller/GitRepos/EncodingInformation/modeling_and_mi_estimation/stationary_process_patch_sizes.ipynb#W0sdnNjb2RlLXJlbW90ZQ%3D%3D?line=33'>34</a>\u001b[0m     cov_mat_stationary \u001b[39m=\u001b[39m compute_stationary_cov_mat(patches)\n",
      "File \u001b[0;32m~/GitRepos/EncodingInformation/image_utils.py:79\u001b[0m, in \u001b[0;36mextract_patches\u001b[0;34m(stack, patch_size, num_patches, seed, verbose)\u001b[0m\n\u001b[1;32m     77\u001b[0m     iterator \u001b[39m=\u001b[39m \u001b[39mrange\u001b[39m(num_patches)\n\u001b[1;32m     78\u001b[0m \u001b[39mfor\u001b[39;00m i \u001b[39min\u001b[39;00m iterator:\n\u001b[0;32m---> 79\u001b[0m     patches\u001b[39m.\u001b[39mappend(stack[image_indices[i], x_indices[i]:x_indices[i]\u001b[39m+\u001b[39;49mpatch_size, y_indices[i]:y_indices[i]\u001b[39m+\u001b[39;49mpatch_size])\n\u001b[1;32m     80\u001b[0m \u001b[39mreturn\u001b[39;00m jax\u001b[39m.\u001b[39mnumpy\u001b[39m.\u001b[39marray(patches)\n",
      "File \u001b[0;32m~/mambaforge/envs/phenotypes/lib/python3.10/site-packages/jax/_src/array.py:349\u001b[0m, in \u001b[0;36mArrayImpl.__getitem__\u001b[0;34m(self, idx)\u001b[0m\n\u001b[1;32m    346\u001b[0m \u001b[39melse\u001b[39;00m:\n\u001b[1;32m    347\u001b[0m   \u001b[39mif\u001b[39;00m (dispatch\u001b[39m.\u001b[39mis_single_device_sharding(\u001b[39mself\u001b[39m\u001b[39m.\u001b[39msharding) \u001b[39mor\u001b[39;00m\n\u001b[1;32m    348\u001b[0m       \u001b[39mself\u001b[39m\u001b[39m.\u001b[39mis_fully_replicated \u001b[39mor\u001b[39;00m _is_reduced_on_dim(idx)):\n\u001b[0;32m--> 349\u001b[0m     \u001b[39mreturn\u001b[39;00m lax_numpy\u001b[39m.\u001b[39;49m_rewriting_take(\u001b[39mself\u001b[39;49m, idx)\n\u001b[1;32m    350\u001b[0m   \u001b[39melse\u001b[39;00m:\n\u001b[1;32m    351\u001b[0m     \u001b[39mreturn\u001b[39;00m api\u001b[39m.\u001b[39mdevice_put(\u001b[39mself\u001b[39m\u001b[39m.\u001b[39m_value[idx])\n",
      "File \u001b[0;32m~/mambaforge/envs/phenotypes/lib/python3.10/site-packages/jax/_src/numpy/lax_numpy.py:3908\u001b[0m, in \u001b[0;36m_rewriting_take\u001b[0;34m(arr, idx, indices_are_sorted, unique_indices, mode, fill_value)\u001b[0m\n\u001b[1;32m   3905\u001b[0m       \u001b[39mreturn\u001b[39;00m lax\u001b[39m.\u001b[39mdynamic_index_in_dim(arr, idx, keepdims\u001b[39m=\u001b[39m\u001b[39mFalse\u001b[39;00m)\n\u001b[1;32m   3907\u001b[0m treedef, static_idx, dynamic_idx \u001b[39m=\u001b[39m _split_index_for_jit(idx, arr\u001b[39m.\u001b[39mshape)\n\u001b[0;32m-> 3908\u001b[0m \u001b[39mreturn\u001b[39;00m _gather(arr, treedef, static_idx, dynamic_idx, indices_are_sorted,\n\u001b[1;32m   3909\u001b[0m                unique_indices, mode, fill_value)\n",
      "File \u001b[0;32m~/mambaforge/envs/phenotypes/lib/python3.10/site-packages/jax/_src/numpy/lax_numpy.py:3930\u001b[0m, in \u001b[0;36m_gather\u001b[0;34m(arr, treedef, static_idx, dynamic_idx, indices_are_sorted, unique_indices, mode, fill_value)\u001b[0m\n\u001b[1;32m   3926\u001b[0m     fill_value \u001b[39m=\u001b[39m fill_value\u001b[39m.\u001b[39mitem()\n\u001b[1;32m   3928\u001b[0m \u001b[39m# Avoid calling gather if the slice shape is empty, both as a fast path and to\u001b[39;00m\n\u001b[1;32m   3929\u001b[0m \u001b[39m# handle cases like zeros(0)[array([], int32)].\u001b[39;00m\n\u001b[0;32m-> 3930\u001b[0m \u001b[39mif\u001b[39;00m core\u001b[39m.\u001b[39;49mis_empty_shape(indexer\u001b[39m.\u001b[39;49mslice_shape):\n\u001b[1;32m   3931\u001b[0m   \u001b[39mreturn\u001b[39;00m zeros_like(y, shape\u001b[39m=\u001b[39mindexer\u001b[39m.\u001b[39mslice_shape)\n\u001b[1;32m   3933\u001b[0m \u001b[39m# We avoid generating a gather when indexer.gather_indices.size is empty.\u001b[39;00m\n",
      "File \u001b[0;32m~/mambaforge/envs/phenotypes/lib/python3.10/site-packages/jax/_src/core.py:1980\u001b[0m, in \u001b[0;36mis_empty_shape\u001b[0;34m(s)\u001b[0m\n\u001b[1;32m   1979\u001b[0m \u001b[39mdef\u001b[39;00m \u001b[39mis_empty_shape\u001b[39m(s: Shape) \u001b[39m-\u001b[39m\u001b[39m>\u001b[39m \u001b[39mbool\u001b[39m:\n\u001b[0;32m-> 1980\u001b[0m   \u001b[39mreturn\u001b[39;00m \u001b[39many\u001b[39;49m(symbolic_equal_dim(d, \u001b[39m0\u001b[39;49m) \u001b[39mfor\u001b[39;49;00m d \u001b[39min\u001b[39;49;00m s)\n",
      "File \u001b[0;32m~/mambaforge/envs/phenotypes/lib/python3.10/site-packages/jax/_src/core.py:1980\u001b[0m, in \u001b[0;36m<genexpr>\u001b[0;34m(.0)\u001b[0m\n\u001b[1;32m   1979\u001b[0m \u001b[39mdef\u001b[39;00m \u001b[39mis_empty_shape\u001b[39m(s: Shape) \u001b[39m-\u001b[39m\u001b[39m>\u001b[39m \u001b[39mbool\u001b[39m:\n\u001b[0;32m-> 1980\u001b[0m   \u001b[39mreturn\u001b[39;00m \u001b[39many\u001b[39m(symbolic_equal_dim(d, \u001b[39m0\u001b[39;49m) \u001b[39mfor\u001b[39;00m d \u001b[39min\u001b[39;00m s)\n",
      "File \u001b[0;32m~/mambaforge/envs/phenotypes/lib/python3.10/site-packages/jax/_src/core.py:1935\u001b[0m, in \u001b[0;36msymbolic_equal_dim\u001b[0;34m(d1, d2)\u001b[0m\n\u001b[1;32m   1933\u001b[0m \u001b[39mdef\u001b[39;00m \u001b[39msymbolic_equal_dim\u001b[39m(d1: DimSize, d2: DimSize) \u001b[39m-\u001b[39m\u001b[39m>\u001b[39m \u001b[39mbool\u001b[39m:\n\u001b[1;32m   1934\u001b[0m   \u001b[39mif\u001b[39;00m d1 \u001b[39mis\u001b[39;00m d2 \u001b[39mor\u001b[39;00m get_referent(d1) \u001b[39mis\u001b[39;00m get_referent(d2): \u001b[39mreturn\u001b[39;00m \u001b[39mTrue\u001b[39;00m\n\u001b[0;32m-> 1935\u001b[0m   handler, ds \u001b[39m=\u001b[39m _dim_handler_and_canonical(d1, d2)\n\u001b[1;32m   1936\u001b[0m   \u001b[39mreturn\u001b[39;00m handler\u001b[39m.\u001b[39msymbolic_equal(\u001b[39m*\u001b[39mds)\n",
      "File \u001b[0;32m~/mambaforge/envs/phenotypes/lib/python3.10/site-packages/jax/_src/core.py:1904\u001b[0m, in \u001b[0;36m_dim_handler_and_canonical\u001b[0;34m(*dlist)\u001b[0m\n\u001b[1;32m   1902\u001b[0m \u001b[39melse\u001b[39;00m:\n\u001b[1;32m   1903\u001b[0m   \u001b[39mtry\u001b[39;00m:\n\u001b[0;32m-> 1904\u001b[0m     canonical\u001b[39m.\u001b[39;49mappend(operator\u001b[39m.\u001b[39;49mindex(d))\n\u001b[1;32m   1905\u001b[0m   \u001b[39mexcept\u001b[39;00m \u001b[39mTypeError\u001b[39;00m:\n\u001b[1;32m   1906\u001b[0m     \u001b[39mraise\u001b[39;00m _invalid_shape_error(dlist)\n",
      "\u001b[0;31mKeyboardInterrupt\u001b[0m: "
     ]
    }
   ],
   "source": [
    "# load images, extract patches, and compute cov mats\n",
    "num_images = 10000\n",
    "num_patches = 10000\n",
    "num_test_set_patches = 5000\n",
    "edge_crop = 32\n",
    "\n",
    "# channels = ['LED119', 'DPC_Right', 'Brightfield']\n",
    "channels = ['LED119', 'DPC_Right']\n",
    "num_bootstrap_samples = 10\n",
    "patch_sizes = np.array([2, 5, 8, 10, 12, 20, 32, 45, 50])\n",
    "\n",
    "# num_images = 100\n",
    "# num_patches = 100\n",
    "# num_test_set_patches = 500\n",
    "# edge_crop = 32\n",
    "# channels = ['LED119']\n",
    "# num_bootstrap_samples = 3\n",
    "# patch_sizes = np.array([2,  10,])\n",
    "\n",
    "\n",
    "log_likelihood_means_by_channel = {}\n",
    "log_likelihood_confidence_intervals_by_channel = {}\n",
    "\n",
    "for channel in channels:\n",
    "    print(f'Channel: {channel}')\n",
    "\n",
    "    all_images = load_bsccm_images(bsccm, channel=channel, num_images=num_images + num_test_set_patches, edge_crop=edge_crop, median_filter=False)\n",
    "    images = all_images[:num_images]\n",
    "    test_set_images = all_images[num_images:]\n",
    "\n",
    "    def compute_normalized_log_likelihood(images):       \n",
    "        patches = extract_patches(images, patch_size, num_patches=num_patches, verbose=False,)\n",
    "        test_set_patches = extract_patches(test_set_images, patch_size, num_patches=num_test_set_patches, verbose=False)\n",
    "        cov_mat_stationary = compute_stationary_cov_mat(patches)\n",
    "        cov_mat_stationary_pd = make_positive_definite(cov_mat_stationary, eigenvalue_floor=1e-4, show_plot=False)\n",
    "        mean = np.ones(patch_size ** 2) * np.mean(patches)\n",
    "        test_data = test_set_patches.reshape(test_set_patches.shape[0], -1)\n",
    "        # compute log likelihood of test set\n",
    "        return np.mean(jax.scipy.stats.multivariate_normal.logpdf(test_data, mean=mean, cov=cov_mat_stationary_pd))  \n",
    "\n",
    "    log_likelihood_means = []\n",
    "    log_likelihood_confidence_intervals = []\n",
    "    for patch_size in tqdm(patch_sizes):\n",
    "        mean, interval = run_bootstrap(images, compute_normalized_log_likelihood, num_bootstrap_samples=num_bootstrap_samples, confidence_interval=90)\n",
    "        log_likelihood_means.append(mean)\n",
    "        log_likelihood_confidence_intervals.append(interval)\n",
    "    log_likelihood_means_by_channel[channel] = np.array(log_likelihood_means)\n",
    "    log_likelihood_confidence_intervals_by_channel[channel] = np.array(log_likelihood_confidence_intervals)"
   ]
  },
  {
   "cell_type": "code",
   "execution_count": null,
   "metadata": {},
   "outputs": [],
   "source": [
    "fig, ax = plt.subplots(len(channels), 1, figsize=(4, 4 * len(channels)), sharex=True)\n",
    "if len(channels) == 1:\n",
    "    ax = [ax]\n",
    "for i, channel in enumerate(channels):\n",
    "    ax[i].plot(patch_sizes, log_likelihood_means, '.-')\n",
    "    ax[i].fill_between(patch_sizes, log_likelihood_confidence_intervals_by_channel[channel][:, 0], log_likelihood_confidence_intervals_by_channel[channel][:, 1], alpha=0.5)\n",
    "    ax[i].set(ylabel='Log likelihood')\n",
    "    clear_spines(ax[i])\n",
    "    ax[i].set_title(channel)\n",
    "ax[-1].set(xlabel='Patch size (pixels)')"
   ]
  }
 ],
 "metadata": {
  "kernelspec": {
   "display_name": "phenotypes",
   "language": "python",
   "name": "python3"
  },
  "language_info": {
   "codemirror_mode": {
    "name": "ipython",
    "version": 3
   },
   "file_extension": ".py",
   "mimetype": "text/x-python",
   "name": "python",
   "nbconvert_exporter": "python",
   "pygments_lexer": "ipython3",
   "version": "3.10.6"
  }
 },
 "nbformat": 4,
 "nbformat_minor": 2
}
