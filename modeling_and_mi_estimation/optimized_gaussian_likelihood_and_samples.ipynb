{
 "cells": [
  {
   "cell_type": "markdown",
   "metadata": {},
   "source": [
    "# Solve for Gaussian approximations using optimization"
   ]
  },
  {
   "cell_type": "code",
   "execution_count": 1,
   "metadata": {},
   "outputs": [
    {
     "name": "stdout",
     "output_type": "stream",
     "text": [
      "Opening BSCCM\n",
      "Opened BSCCM\n"
     ]
    }
   ],
   "source": [
    "%load_ext autoreload\n",
    "%autoreload 2\n",
    "# this only works on startup!\n",
    "from jax import config\n",
    "config.update(\"jax_enable_x64\", True)\n",
    "\n",
    "import os\n",
    "os.environ[\"CUDA_DEVICE_ORDER\"] = \"PCI_BUS_ID\" \n",
    "os.environ[\"CUDA_VISIBLE_DEVICES\"] = '3'\n",
    "from gpu_utils import limit_gpu_memory_growth\n",
    "limit_gpu_memory_growth()\n",
    "\n",
    "from cleanplots import *\n",
    "from tqdm import tqdm\n",
    "from information_estimation import *\n",
    "from image_utils import *\n",
    "from gaussian_process_utils import *\n",
    "\n",
    "from led_array.bsccm_utils import *\n",
    "from bsccm import BSCCM\n",
    "from jax import jit\n",
    "import numpy as onp\n",
    "import jax.numpy as np\n",
    "\n",
    "bsccm = BSCCM('/home/hpinkard_waller/data/BSCCM/')"
   ]
  },
  {
   "cell_type": "code",
   "execution_count": 7,
   "metadata": {},
   "outputs": [],
   "source": [
    "# load images, extract patches, and compute cov mats\n",
    "edge_crop = 32\n",
    "patch_size = 10\n",
    "num_images = 20000\n",
    "channel = 'LED119'\n",
    "eigenvalue_floor = 1e0\n",
    "\n",
    "num_test_images = 1000\n",
    "\n",
    "all_images = load_bsccm_images(bsccm, channel=channel, num_images=num_images + num_test_images, edge_crop=edge_crop, median_filter=False)\n",
    "images = all_images[:num_images]\n",
    "test_images = all_images[num_images:]\n",
    "test_patches = extract_patches(test_images, patch_size, num_patches=num_test_images, seed=0)"
   ]
  },
  {
   "cell_type": "markdown",
   "metadata": {},
   "source": [
    "## optimize to improve fit"
   ]
  },
  {
   "cell_type": "code",
   "execution_count": 24,
   "metadata": {},
   "outputs": [
    {
     "name": "stdout",
     "output_type": "stream",
     "text": [
      "Initial loss:  531725.80876659\n",
      "optimized loss: 455.2678199844352661665\n"
     ]
    }
   ],
   "source": [
    "import jax\n",
    "import jax.numpy as jnp\n",
    "from jax import grad, jit, value_and_grad\n",
    "\n",
    "\n",
    "num_patches = 10000 \n",
    "seed = 10\n",
    "\n",
    "patches = extract_patches(images, patch_size, num_patches=num_patches, seed=seed)\n",
    "\n",
    "\n",
    "learning_rate = 2.976e-05\n",
    "momentum = 5.258e-02\n",
    "batch_size = 27\n",
    "\n",
    "cov_mat_optimized, cov_mat_initial, mean_vec, best_loss = run_optimization(patches, momentum, learning_rate, batch_size, eigenvalue_floor=1e-3)\n",
    "print (f'optimized loss: {best_loss}')"
   ]
  },
  {
   "cell_type": "markdown",
   "metadata": {},
   "source": [
    "## Generate samles using unoptimized and optimized covariance matrices"
   ]
  },
  {
   "cell_type": "code",
   "execution_count": 75,
   "metadata": {},
   "outputs": [
    {
     "name": "stderr",
     "output_type": "stream",
     "text": [
      "precomputing masks and variances: 100%|██████████| 40/40 [00:52<00:00,  1.31s/it]\n"
     ]
    },
    {
     "name": "stdout",
     "output_type": "stream",
     "text": [
      "generating samples\n"
     ]
    },
    {
     "name": "stderr",
     "output_type": "stream",
     "text": [
      "generating sample: 100%|██████████| 40/40 [00:40<00:00,  1.00s/it]\n",
      "precomputing masks and variances:  40%|████      | 16/40 [00:19<00:33,  1.40s/it]"
     ]
    }
   ],
   "source": [
    "sample_size = 40\n",
    "num_samples = 8\n",
    "prefer_iterative_sampling = False\n",
    "\n",
    "# eigvals, eigvecs = onp.linalg.eigh(cov_mat_optimized)\n",
    "# eigvals = np.where(eigvals < 5e2, 5e2, eigvals)\n",
    "# cov_mat_regularized = eigvecs @ np.diag(eigvals) @ eigvecs.T\n",
    "\n",
    "samples_initial = generate_stationary_gaussian_process_samples(mean_vec, cov_mat_initial, num_samples=num_samples, sample_size=sample_size, \n",
    "        prefer_iterative_sampling=prefer_iterative_sampling, seed=None)\n",
    "samples_optimized = generate_stationary_gaussian_process_samples(mean_vec, cov_mat_optimized, num_samples=num_samples, sample_size=sample_size,\n",
    "        prefer_iterative_sampling=prefer_iterative_sampling,  seed=None)\n",
    "samples_regularized = generate_stationary_gaussian_process_samples(mean_vec, cov_mat_regularized, num_samples=num_samples, sample_size=sample_size,\n",
    "        prefer_iterative_sampling=prefer_iterative_sampling, seed=None)\n",
    "\n",
    "fig, axs = plt.subplots(3, num_samples, figsize=(num_samples * 2, 6), sharex=True, sharey=True)\n",
    "vmin_initial, vmax_initial = np.percentile(samples_initial, 1), np.percentile(samples_initial, 99)\n",
    "vmin_optimized, vmax_optimized = np.percentile(samples_optimized, 1), np.percentile(samples_optimized, 99)\n",
    "vmin_regularized, vmax_regularized = np.percentile(samples_regularized, 1), np.percentile(samples_regularized, 99)\n",
    "for i in range(num_samples):\n",
    "    im1 = axs[0, i].imshow(samples_initial[i], cmap='inferno', vmin=vmin_initial, vmax=vmax_initial)\n",
    "    im2 = axs[1, i].imshow(samples_optimized[i], cmap='inferno', vmin=vmin_optimized, vmax=vmax_optimized)\n",
    "    im3 = axs[2, i].imshow(samples_regularized[i], cmap='inferno', vmin=vmin_regularized, vmax=vmax_regularized)\n",
    "    axs[0, i].axis('off')\n",
    "    axs[1, i].axis('off')\n",
    "    axs[2, i].axis('off')\n",
    "axs[0, 0].set_title('Initial')\n",
    "axs[1, 0].set_title('Optimized')\n",
    "axs[2, 0].set_title('Regularized')\n",
    "\n",
    "# add colorbars\n",
    "fig.colorbar(im1, ax=axs[0, :], location='right')\n",
    "fig.colorbar(im2, ax=axs[1, :], location='right')\n",
    "fig.colorbar(im3, ax=axs[2, :], location='right')\n",
    "\n",
    "fig.suptitle(f'Sample size: {sample_size}, patch_size: {patch_size}, prefer iterative: {prefer_iterative_sampling}')"
   ]
  },
  {
   "cell_type": "code",
   "execution_count": 67,
   "metadata": {},
   "outputs": [
    {
     "name": "stdout",
     "output_type": "stream",
     "text": [
      "102.70082137973776\n"
     ]
    }
   ],
   "source": [
    "print(samples_optimized.mean())"
   ]
  },
  {
   "cell_type": "code",
   "execution_count": 26,
   "metadata": {},
   "outputs": [
    {
     "name": "stderr",
     "output_type": "stream",
     "text": [
      "precomputing masks and variances: 100%|██████████| 10/10 [00:00<00:00, 204.82it/s]\n"
     ]
    },
    {
     "name": "stdout",
     "output_type": "stream",
     "text": [
      "evaluating likelihood\n"
     ]
    },
    {
     "name": "stderr",
     "output_type": "stream",
     "text": [
      "computing log likelihoods: 100%|██████████| 10/10 [00:00<00:00, 133.88it/s]\n",
      "precomputing masks and variances: 100%|██████████| 10/10 [00:00<00:00, 161.42it/s]\n"
     ]
    },
    {
     "name": "stdout",
     "output_type": "stream",
     "text": [
      "evaluating likelihood\n"
     ]
    },
    {
     "name": "stderr",
     "output_type": "stream",
     "text": [
      "computing log likelihoods: 100%|██████████| 10/10 [00:00<00:00, 164.48it/s]"
     ]
    },
    {
     "name": "stdout",
     "output_type": "stream",
     "text": [
      "Initial likelihood: -475900.2529350949\n",
      "Optimized likelihood: -466.46800496940267\n"
     ]
    },
    {
     "name": "stderr",
     "output_type": "stream",
     "text": [
      "\n"
     ]
    }
   ],
   "source": [
    "optimized_likelihood = compute_stationary_log_likelihood(test_patches, cov_mat_optimized, mean_vec).mean()\n",
    "initial_likelihood = compute_stationary_log_likelihood(test_patches, cov_mat_initial, mean_vec).mean()\n",
    "\n",
    "print(f'Initial likelihood: {initial_likelihood}')\n",
    "print(f'Optimized likelihood: {optimized_likelihood}')"
   ]
  },
  {
   "cell_type": "code",
   "execution_count": 46,
   "metadata": {},
   "outputs": [
    {
     "data": {
      "text/plain": [
       "Text(0, 0.5, 'Eigenvalue')"
      ]
     },
     "execution_count": 46,
     "metadata": {},
     "output_type": "execute_result"
    },
    {
     "data": {
      "image/png": "[encoded data removed]",
      "text/plain": [
       "<Figure size 400x400 with 1 Axes>"
      ]
     },
     "metadata": {},
     "output_type": "display_data"
    }
   ],
   "source": [
    "# plot eignevalues of different cov mats\n",
    "eig_vals_initial = np.linalg.eigvalsh(cov_mat_initial)\n",
    "eig_vals_optimized = np.linalg.eigvalsh(cov_mat_optimized)\n",
    "\n",
    "fig, axs = plt.subplots(1, 1, figsize=(4, 4))\n",
    "axs.semilogy(eig_vals_initial, label='initial')\n",
    "axs.semilogy(eig_vals_optimized, label='optimized')\n",
    "axs.legend()\n",
    "\n",
    "clear_spines(axs)\n",
    "axs.set_xlabel('Eigenvalue index')\n",
    "axs.set_ylabel('Eigenvalue')"
   ]
  }
 ],
 "metadata": {
  "kernelspec": {
   "display_name": "phenotypes",
   "language": "python",
   "name": "python3"
  },
  "language_info": {
   "codemirror_mode": {
    "name": "ipython",
    "version": 3
   },
   "file_extension": ".py",
   "mimetype": "text/x-python",
   "name": "python",
   "nbconvert_exporter": "python",
   "pygments_lexer": "ipython3",
   "version": "3.10.6"
  }
 },
 "nbformat": 4,
 "nbformat_minor": 2
}
