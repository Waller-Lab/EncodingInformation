{
 "cells": [
  {
   "cell_type": "code",
   "execution_count": 2,
   "metadata": {},
   "outputs": [
    {
     "name": "stdout",
     "output_type": "stream",
     "text": [
      "Opening BSCCM\n",
      "Opened BSCCM\n"
     ]
    }
   ],
   "source": [
    "%load_ext autoreload\n",
    "%autoreload 2\n",
    "# this only works on startup!\n",
    "from jax import config\n",
    "config.update(\"jax_enable_x64\", True)\n",
    "\n",
    "import os\n",
    "os.environ[\"CUDA_DEVICE_ORDER\"] = \"PCI_BUS_ID\" \n",
    "os.environ[\"CUDA_VISIBLE_DEVICES\"] = '0'\n",
    "from gpu_utils import limit_gpu_memory_growth\n",
    "limit_gpu_memory_growth()\n",
    "\n",
    "from cleanplots import *\n",
    "from tqdm import tqdm\n",
    "from information_estimation import *\n",
    "from image_utils import *\n",
    "from gaussian_process_utils import *\n",
    "\n",
    "from led_array.bsccm_utils import *\n",
    "from bsccm import BSCCM\n",
    "from jax import jit\n",
    "import numpy as onp\n",
    "import jax.numpy as np\n",
    "\n",
    "bsccm = BSCCM('/home/hpinkard_waller/data/BSCCM/')"
   ]
  },
  {
   "cell_type": "code",
   "execution_count": 2,
   "metadata": {},
   "outputs": [
    {
     "name": "stdout",
     "output_type": "stream",
     "text": [
      "loading patches\n"
     ]
    },
    {
     "name": "stderr",
     "output_type": "stream",
     "text": [
      "100%|██████████| 5/5 [02:11<00:00, 26.32s/it]\n"
     ]
    },
    {
     "name": "stdout",
     "output_type": "stream",
     "text": [
      "computing cov mats\n"
     ]
    },
    {
     "name": "stderr",
     "output_type": "stream",
     "text": [
      "100%|██████████| 5/5 [00:23<00:00,  4.65s/it]\n"
     ]
    }
   ],
   "source": [
    "# Compute a \"true\" reference covariance matrix\n",
    "num_images = 4000\n",
    "num_patches = 4000\n",
    "edge_crop = 32\n",
    "channel = 'LED119'\n",
    "ev_floor = 1e-4\n",
    "key = jax.random.PRNGKey(0)\n",
    "\n",
    "# patch_sizes = [2, 4, 6, 8, 10]\n",
    "patch_sizes = [2, 3, 4, 5, 6]\n",
    "\n",
    "images = load_bsccm_images(bsccm, channel=channel, num_images=num_images, edge_crop=edge_crop, median_filter=True)\n",
    "\n",
    "cov_mats_stationary_pd = {}\n",
    "means = {}\n",
    "patches_by_size = {}\n",
    "print('loading patches')\n",
    "patches = extract_patches(images, onp.max(patch_sizes), num_patches=num_patches)\n",
    "\n",
    "for patch_size in tqdm(patch_sizes):\n",
    "    if patch_size == onp.max(patch_sizes):\n",
    "         patches_by_size[patch_size] = patches\n",
    "    else:\n",
    "        # draw subpatches from the larger patches\n",
    "        offsets = jax.random.randint(key, (num_patches, 2), 0, onp.max(patch_sizes) - patch_size)\n",
    "        key, subkey = jax.random.split(key)\n",
    "        subpatches = []\n",
    "        for i in range(num_patches):\n",
    "            subpatches.append(patches[i, offsets[i, 0]:offsets[i, 0] + patch_size, offsets[i, 1]:offsets[i, 1] + patch_size])\n",
    "        patches_by_size[patch_size] = np.array(subpatches)\n",
    "\n",
    "print('computing cov mats')\n",
    "for patch_size in tqdm(patch_sizes):\n",
    "    patches = patches_by_size[patch_size]\n",
    "    # cov_mat = compute_cov_mat(patches)\n",
    "    # cov_mat_pd = make_positive_definite(cov_mat, eigenvalue_floor=ev_floor, show_plot=False)\n",
    "    cov_mat_stationary = compute_stationary_cov_mat(patches)\n",
    "    cov_mat_stationary_pd = make_positive_definite(cov_mat_stationary, eigenvalue_floor=ev_floor, show_plot=False)\n",
    "    means[patch_size] = np.mean(patches)\n",
    "    cov_mats_stationary_pd[patch_size] = cov_mat_stationary_pd\n",
    "    "
   ]
  },
  {
   "cell_type": "code",
   "execution_count": 3,
   "metadata": {},
   "outputs": [
    {
     "name": "stderr",
     "output_type": "stream",
     "text": [
      "100%|██████████| 1/1 [00:01<00:00,  1.94s/it]\n",
      "precomputing masks and variances: 100%|██████████| 6/6 [00:30<00:00,  5.15s/it]\n"
     ]
    },
    {
     "name": "stdout",
     "output_type": "stream",
     "text": [
      "evaluating likelihood\n"
     ]
    },
    {
     "name": "stderr",
     "output_type": "stream",
     "text": [
      "computing log likelihoods: 100%|██████████| 6/6 [00:06<00:00,  1.07s/it]\n"
     ]
    },
    {
     "name": "stdout",
     "output_type": "stream",
     "text": [
      "direct [-46643.67919658]\n",
      "function_iterative [-46643.67866613]\n"
     ]
    }
   ],
   "source": [
    "\n",
    "# verify that direct likelihood and iterative likelihood are the same\n",
    "patch_size_to_test = 6\n",
    "\n",
    "\n",
    "test_patch = patches_by_size[patch_size_to_test][0]\n",
    "samples = test_patch.reshape(-1, test_patch.shape[-2], test_patch.shape[-1])\n",
    "\n",
    "\n",
    "cov_mat = cov_mats_stationary_pd[patch_size_to_test]\n",
    "# cov_mat = np.eye(cov_mat.shape[0])\n",
    "mean = means[patch_size_to_test]\n",
    "\n",
    "direct = []\n",
    "for sample in tqdm(samples):\n",
    "    direct.append(jax.scipy.stats.multivariate_normal.logpdf(sample.reshape(-1), mean=mean * np.ones(cov_mat.shape[0]), cov=cov_mat))\n",
    "direct = np.array(direct)\n",
    "\n",
    "function_iterative = compute_stationary_log_likelihood(samples, cov_mat, mean, prefer_iterative=True)\n",
    "\n",
    "print('direct', direct)\n",
    "print('function_iterative', function_iterative)"
   ]
  },
  {
   "cell_type": "markdown",
   "metadata": {},
   "source": [
    "## Compare the likelihood of stationary models trained on different patch sizes on the same data"
   ]
  },
  {
   "cell_type": "code",
   "execution_count": 12,
   "metadata": {},
   "outputs": [
    {
     "name": "stderr",
     "output_type": "stream",
     "text": [
      "precomputing masks and variances:  67%|██████▋   | 4/6 [00:00<00:00, 28.34it/s]"
     ]
    },
    {
     "name": "stdout",
     "output_type": "stream",
     "text": [
      "[[439.013145]]\n",
      "[[286.10884852]]\n",
      "[[270.0796344]]\n",
      "[[262.66830782]]\n",
      "[[261.48301556]]\n"
     ]
    },
    {
     "name": "stderr",
     "output_type": "stream",
     "text": [
      "precomputing masks and variances: 100%|██████████| 6/6 [00:00<00:00, 16.01it/s]"
     ]
    },
    {
     "name": "stdout",
     "output_type": "stream",
     "text": [
      "[[819.58422225]]\n",
      "[[250.29339353]]\n",
      "[[195.22208637]]\n",
      "[[200.5889666]]\n",
      "[[261.48301556]]\n",
      "[[261.48301556]]\n",
      "evaluating likelihood\n"
     ]
    },
    {
     "name": "stderr",
     "output_type": "stream",
     "text": [
      "\n",
      "computing log likelihoods: 100%|██████████| 6/6 [00:11<00:00,  1.89s/it]\n"
     ]
    },
    {
     "ename": "",
     "evalue": "",
     "output_type": "error",
     "traceback": [
      "\u001b[1;31mThe Kernel crashed while executing code in the the current cell or a previous cell. Please review the code in the cell(s) to identify a possible cause of the failure. Click <a href='https://aka.ms/vscodeJupyterKernelCrash'>here</a> for more info. View Jupyter <a href='command:jupyter.viewOutput'>log</a> for further details."
     ]
    }
   ],
   "source": [
    "from image_utils import *\n",
    "patch_size = 5\n",
    "cov_mat = cov_mats_stationary_pd[patch_size]\n",
    "mean = means[patch_size]\n",
    "ll = compute_stationary_log_likelihood(test_patches, cov_mat, mean, prefer_iterative=False)"
   ]
  },
  {
   "cell_type": "code",
   "execution_count": 4,
   "metadata": {},
   "outputs": [
    {
     "name": "stderr",
     "output_type": "stream",
     "text": [
      "precomputing masks and variances: 100%|██████████| 6/6 [00:01<00:00,  3.83it/s]\n"
     ]
    },
    {
     "name": "stdout",
     "output_type": "stream",
     "text": [
      "evaluating likelihood\n"
     ]
    },
    {
     "name": "stderr",
     "output_type": "stream",
     "text": [
      "computing log likelihoods: 100%|██████████| 6/6 [00:23<00:00,  3.84s/it]\n",
      "precomputing masks and variances: 100%|██████████| 6/6 [00:02<00:00,  2.76it/s]\n"
     ]
    },
    {
     "name": "stdout",
     "output_type": "stream",
     "text": [
      "evaluating likelihood\n"
     ]
    },
    {
     "name": "stderr",
     "output_type": "stream",
     "text": [
      "computing log likelihoods: 100%|██████████| 6/6 [00:19<00:00,  3.32s/it]\n",
      "precomputing masks and variances: 100%|██████████| 6/6 [00:02<00:00,  2.25it/s]\n"
     ]
    },
    {
     "name": "stdout",
     "output_type": "stream",
     "text": [
      "evaluating likelihood\n"
     ]
    },
    {
     "name": "stderr",
     "output_type": "stream",
     "text": [
      "computing log likelihoods: 100%|██████████| 6/6 [00:15<00:00,  2.52s/it]\n",
      "precomputing masks and variances: 100%|██████████| 6/6 [00:03<00:00,  1.86it/s]\n"
     ]
    },
    {
     "name": "stdout",
     "output_type": "stream",
     "text": [
      "evaluating likelihood\n"
     ]
    },
    {
     "name": "stderr",
     "output_type": "stream",
     "text": [
      "computing log likelihoods: 100%|██████████| 6/6 [00:10<00:00,  1.71s/it]\n",
      "precomputing masks and variances: 100%|██████████| 6/6 [00:00<00:00, 258.19it/s]\n"
     ]
    },
    {
     "name": "stdout",
     "output_type": "stream",
     "text": [
      "evaluating likelihood\n"
     ]
    },
    {
     "name": "stderr",
     "output_type": "stream",
     "text": [
      "computing log likelihoods: 100%|██████████| 6/6 [00:00<00:00, 255.01it/s]\n"
     ]
    },
    {
     "data": {
      "text/plain": [
       "Text(0.5, 0, 'Patch size')"
      ]
     },
     "execution_count": 4,
     "metadata": {},
     "output_type": "execute_result"
    },
    {
     "data": {
      "image/png": "[encoded data removed]",
      "text/plain": [
       "<Figure size 400x400 with 1 Axes>"
      ]
     },
     "metadata": {},
     "output_type": "display_data"
    }
   ],
   "source": [
    "from image_utils import *\n",
    "\n",
    "test_patches = patches_by_size[patch_sizes[-1]][:100]\n",
    "\n",
    "log_likelihoods = []\n",
    "for patch_size in patch_sizes:\n",
    "    # test_patches = patches_by_size[patch_size][:100]\n",
    "    cov_mat = cov_mats_stationary_pd[patch_size]\n",
    "    mean = means[patch_size]\n",
    "    ll  = compute_stationary_log_likelihood(test_patches, cov_mat, mean, prefer_iterative=False)\n",
    "    log_likelihoods.append(ll)\n",
    "\n",
    "\n",
    "# plot mean log likelihood vs patch size\n",
    "plt.figure(figsize=(4, 4))\n",
    "plt.plot(patch_sizes, [np.mean(l) for l in log_likelihoods], 'o-')\n",
    "plt.xlabel('Patch size')\n",
    "\n",
    "\n"
   ]
  },
  {
   "cell_type": "code",
   "execution_count": 6,
   "metadata": {},
   "outputs": [
    {
     "data": {
      "text/plain": [
       "Text(0.5, 0, 'Patch size')"
      ]
     },
     "execution_count": 6,
     "metadata": {},
     "output_type": "execute_result"
    },
    {
     "data": {
      "image/png": "[encoded data removed]",
      "text/plain": [
       "<Figure size 400x400 with 1 Axes>"
      ]
     },
     "metadata": {},
     "output_type": "display_data"
    }
   ],
   "source": [
    "# plot mean log likelihood vs patch size\n",
    "plt.figure(figsize=(4, 4))\n",
    "plt.plot(patch_sizes[:4], [np.mean(l) for l in log_likelihoods][:4], 'o-')\n",
    "plt.xlabel('Patch size')\n"
   ]
  }
 ],
 "metadata": {
  "kernelspec": {
   "display_name": "phenotypes",
   "language": "python",
   "name": "python3"
  },
  "language_info": {
   "codemirror_mode": {
    "name": "ipython",
    "version": 3
   },
   "file_extension": ".py",
   "mimetype": "text/x-python",
   "name": "python",
   "nbconvert_exporter": "python",
   "pygments_lexer": "ipython3",
   "version": "3.10.6"
  }
 },
 "nbformat": 4,
 "nbformat_minor": 2
}
