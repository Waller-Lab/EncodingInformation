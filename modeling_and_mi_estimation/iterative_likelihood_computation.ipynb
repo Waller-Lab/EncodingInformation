{
 "cells": [
  {
   "cell_type": "code",
   "execution_count": 1,
   "metadata": {},
   "outputs": [
    {
     "name": "stdout",
     "output_type": "stream",
     "text": [
      "Opening BSCCM\n",
      "Opened BSCCM\n"
     ]
    }
   ],
   "source": [
    "%load_ext autoreload\n",
    "%autoreload 2\n",
    "# this only works on startup!\n",
    "from jax import config\n",
    "config.update(\"jax_enable_x64\", True)\n",
    "\n",
    "import os\n",
    "os.environ[\"CUDA_DEVICE_ORDER\"] = \"PCI_BUS_ID\" \n",
    "os.environ[\"CUDA_VISIBLE_DEVICES\"] = '0'\n",
    "from gpu_utils import limit_gpu_memory_growth\n",
    "limit_gpu_memory_growth()\n",
    "\n",
    "from cleanplots import *\n",
    "from tqdm import tqdm\n",
    "from information_estimation import *\n",
    "from image_utils import *\n",
    "\n",
    "from led_array.bsccm_utils import *\n",
    "from bsccm import BSCCM\n",
    "from jax import jit\n",
    "import numpy as onp\n",
    "import jax.numpy as np\n",
    "\n",
    "bsccm = BSCCM('/home/hpinkard_waller/data/BSCCM/')"
   ]
  },
  {
   "cell_type": "code",
   "execution_count": 28,
   "metadata": {},
   "outputs": [
    {
     "name": "stdout",
     "output_type": "stream",
     "text": [
      "loading patches\n"
     ]
    },
    {
     "name": "stderr",
     "output_type": "stream",
     "text": [
      " 80%|████████  | 4/5 [02:10<00:32, 32.66s/it]\n"
     ]
    },
    {
     "ename": "KeyError",
     "evalue": "6",
     "output_type": "error",
     "traceback": [
      "\u001b[0;31m---------------------------------------------------------------------------\u001b[0m",
      "\u001b[0;31mKeyError\u001b[0m                                  Traceback (most recent call last)",
      "\u001b[1;32m/home/hpinkard_waller/GitRepos/EncodingInformation/modeling_and_mi_estimation/iterative_likelihood_computation.ipynb Cell 2\u001b[0m line \u001b[0;36m2\n\u001b[1;32m     <a href='vscode-notebook-cell://ssh-remote%2Bwaller-fuoco.eecs.berkeley.edu/home/hpinkard_waller/GitRepos/EncodingInformation/modeling_and_mi_estimation/iterative_likelihood_computation.ipynb#W1sdnNjb2RlLXJlbW90ZQ%3D%3D?line=19'>20</a>\u001b[0m \u001b[39mfor\u001b[39;00m patch_size \u001b[39min\u001b[39;00m tqdm(patch_sizes):\n\u001b[1;32m     <a href='vscode-notebook-cell://ssh-remote%2Bwaller-fuoco.eecs.berkeley.edu/home/hpinkard_waller/GitRepos/EncodingInformation/modeling_and_mi_estimation/iterative_likelihood_computation.ipynb#W1sdnNjb2RlLXJlbW90ZQ%3D%3D?line=20'>21</a>\u001b[0m     \u001b[39mif\u001b[39;00m patch_size \u001b[39m==\u001b[39m onp\u001b[39m.\u001b[39mmax(patch_sizes):\n\u001b[0;32m---> <a href='vscode-notebook-cell://ssh-remote%2Bwaller-fuoco.eecs.berkeley.edu/home/hpinkard_waller/GitRepos/EncodingInformation/modeling_and_mi_estimation/iterative_likelihood_computation.ipynb#W1sdnNjb2RlLXJlbW90ZQ%3D%3D?line=21'>22</a>\u001b[0m         patches \u001b[39m=\u001b[39m patches_by_size[patch_size]\n\u001b[1;32m     <a href='vscode-notebook-cell://ssh-remote%2Bwaller-fuoco.eecs.berkeley.edu/home/hpinkard_waller/GitRepos/EncodingInformation/modeling_and_mi_estimation/iterative_likelihood_computation.ipynb#W1sdnNjb2RlLXJlbW90ZQ%3D%3D?line=22'>23</a>\u001b[0m     \u001b[39melse\u001b[39;00m:\n\u001b[1;32m     <a href='vscode-notebook-cell://ssh-remote%2Bwaller-fuoco.eecs.berkeley.edu/home/hpinkard_waller/GitRepos/EncodingInformation/modeling_and_mi_estimation/iterative_likelihood_computation.ipynb#W1sdnNjb2RlLXJlbW90ZQ%3D%3D?line=23'>24</a>\u001b[0m         \u001b[39m# draw subpatches from the larger patches\u001b[39;00m\n\u001b[1;32m     <a href='vscode-notebook-cell://ssh-remote%2Bwaller-fuoco.eecs.berkeley.edu/home/hpinkard_waller/GitRepos/EncodingInformation/modeling_and_mi_estimation/iterative_likelihood_computation.ipynb#W1sdnNjb2RlLXJlbW90ZQ%3D%3D?line=24'>25</a>\u001b[0m         offsets \u001b[39m=\u001b[39m jax\u001b[39m.\u001b[39mrandom\u001b[39m.\u001b[39mrandint(key, (num_patches, \u001b[39m2\u001b[39m), \u001b[39m0\u001b[39m, onp\u001b[39m.\u001b[39mmax(patch_sizes) \u001b[39m-\u001b[39m patch_size)\n",
      "\u001b[0;31mKeyError\u001b[0m: 6"
     ]
    }
   ],
   "source": [
    "# Compute a \"true\" reference covariance matrix\n",
    "num_images = 4000\n",
    "num_patches = 4000\n",
    "edge_crop = 32\n",
    "channel = 'LED119'\n",
    "ev_floor = 1e-4\n",
    "key = jax.random.PRNGKey(0)\n",
    "\n",
    "patch_sizes = [2, 4, 6, 8, 10]\n",
    "patch_sizes = [2, 3, 4, 5, 6]\n",
    "\n",
    "images = load_bsccm_images(bsccm, channel=channel, num_images=num_images, edge_crop=edge_crop, median_filter=True)\n",
    "\n",
    "cov_mats_stationary_pd = {}\n",
    "means = {}\n",
    "patches_by_size = {}\n",
    "print('loading patches')\n",
    "patches = extract_patches(images, onp.max(patch_sizes), num_patches=num_patches)\n",
    "\n",
    "for patch_size in tqdm(patch_sizes):\n",
    "    if patch_size == onp.max(patch_sizes):\n",
    "        patches = patches_by_size[patch_size]\n",
    "    else:\n",
    "        # draw subpatches from the larger patches\n",
    "        offsets = jax.random.randint(key, (num_patches, 2), 0, onp.max(patch_sizes) - patch_size)\n",
    "        key, subkey = jax.random.split(key)\n",
    "        subpatches = []\n",
    "        for i in range(num_patches):\n",
    "            subpatches.append(patches[i, offsets[i, 0]:offsets[i, 0] + patch_size, offsets[i, 1]:offsets[i, 1] + patch_size])\n",
    "        patches_by_size[patch_size] = np.array(subpatches)\n",
    "\n",
    "print('computing cov mats')\n",
    "for patch_size in tqdm(patch_sizes):\n",
    "    patches = patches_by_size[patch_size]\n",
    "    # cov_mat = compute_cov_mat(patches)\n",
    "    # cov_mat_pd = make_positive_definite(cov_mat, eigenvalue_floor=ev_floor, show_plot=False)\n",
    "    cov_mat_stationary = compute_stationary_cov_mat(patches)\n",
    "    cov_mat_stationary_pd = make_positive_definite(cov_mat_stationary, eigenvalue_floor=ev_floor, show_plot=False)\n",
    "    means[patch_size] = np.mean(patches)\n",
    "    cov_mats_stationary_pd[patch_size] = cov_mat_stationary_pd\n",
    "    "
   ]
  },
  {
   "cell_type": "code",
   "execution_count": 15,
   "metadata": {},
   "outputs": [
    {
     "name": "stderr",
     "output_type": "stream",
     "text": [
      "100%|██████████| 1/1 [00:00<00:00, 74.76it/s]\n",
      "precomputing masks and variances:  17%|█▋        | 1/6 [00:00<00:01,  4.52it/s]"
     ]
    },
    {
     "name": "stdout",
     "output_type": "stream",
     "text": [
      "[[15658.26554668]]\n",
      "[[1277.77175145]]\n",
      "[[626.81791312]]\n",
      "[[626.81604429]]\n",
      "[[597.83390942]]\n",
      "[[590.60709981]]\n"
     ]
    },
    {
     "name": "stderr",
     "output_type": "stream",
     "text": [
      "precomputing masks and variances:  33%|███▎      | 2/6 [00:00<00:00,  5.11it/s]"
     ]
    },
    {
     "name": "stdout",
     "output_type": "stream",
     "text": [
      "[[1560.05259616]]\n",
      "[[355.74399719]]\n",
      "[[304.28371773]]\n",
      "[[298.15949931]]\n",
      "[[296.79986046]]\n",
      "[[320.12301013]]\n",
      "[[853.94821175]]\n"
     ]
    },
    {
     "name": "stderr",
     "output_type": "stream",
     "text": [
      "precomputing masks and variances:  50%|█████     | 3/6 [00:00<00:00,  5.19it/s]"
     ]
    },
    {
     "name": "stdout",
     "output_type": "stream",
     "text": [
      "[[270.47808301]]\n",
      "[[230.38133979]]\n",
      "[[226.75086572]]\n",
      "[[235.1087749]]\n",
      "[[283.83478948]]\n",
      "[[794.26409936]]\n",
      "[[258.48227887]]\n"
     ]
    },
    {
     "name": "stderr",
     "output_type": "stream",
     "text": [
      "precomputing masks and variances:  67%|██████▋   | 4/6 [00:00<00:00,  5.33it/s]"
     ]
    },
    {
     "name": "stdout",
     "output_type": "stream",
     "text": [
      "[[216.76676511]]\n",
      "[[213.9646451]]\n",
      "[[221.53195456]]\n",
      "[[276.01223285]]\n",
      "[[788.49781905]]\n",
      "[[254.66449077]]\n",
      "[[212.58107137]]\n"
     ]
    },
    {
     "name": "stderr",
     "output_type": "stream",
     "text": [
      "precomputing masks and variances:  83%|████████▎ | 5/6 [00:00<00:00,  5.29it/s]"
     ]
    },
    {
     "name": "stdout",
     "output_type": "stream",
     "text": [
      "[[211.1630615]]\n",
      "[[217.16986617]]\n",
      "[[272.02751985]]\n",
      "[[772.05310363]]\n",
      "[[253.2648911]]\n",
      "[[210.91438953]]\n",
      "[[209.81250913]]\n"
     ]
    },
    {
     "name": "stderr",
     "output_type": "stream",
     "text": [
      "precomputing masks and variances: 100%|██████████| 6/6 [00:01<00:00,  5.05it/s]\n"
     ]
    },
    {
     "name": "stdout",
     "output_type": "stream",
     "text": [
      "[[215.68371982]]\n",
      "[[271.18545223]]\n",
      "evaluating likelihood\n"
     ]
    },
    {
     "name": "stderr",
     "output_type": "stream",
     "text": [
      "computing log likelihoods: 100%|██████████| 6/6 [00:00<00:00,  7.62it/s]"
     ]
    },
    {
     "name": "stdout",
     "output_type": "stream",
     "text": [
      "[[[-6.17017211 -4.85552087 -4.362287   -4.14930799 -4.13341664\n",
      "   -4.11070657]\n",
      "  [-4.66012765 -3.87346873 -3.82208399 -3.78726059 -3.79171604\n",
      "   -3.80997483]\n",
      "  [-4.47776462 -3.72133705 -3.85449884 -3.64970718 -3.87973111\n",
      "   -3.75218583]\n",
      "  [-4.44147522 -3.69670801 -3.6150075  -4.65311928 -5.6165744\n",
      "   -3.73832315]\n",
      "  [-9.22185202 -5.25214502 -3.6025772  -4.22824985 -3.60991193\n",
      "   -3.75420268]\n",
      "  [-4.2862194  -4.71058275 -3.62502964 -3.63871199 -7.69835117\n",
      "   -3.74019649]]]\n",
      "direct [-157.99050534]\n",
      "function_iterative [-157.99050534]\n"
     ]
    },
    {
     "name": "stderr",
     "output_type": "stream",
     "text": [
      "\n"
     ]
    }
   ],
   "source": [
    "\n",
    "# verify that direct likelihood and iterative likelihood are the same\n",
    "patch_size_to_test = 6\n",
    "\n",
    "\n",
    "test_patch = patches_by_size[patch_size_to_test][0]\n",
    "samples = test_patch.reshape(-1, test_patch.shape[-2], test_patch.shape[-1])\n",
    "\n",
    "\n",
    "cov_mat = cov_mats_stationary_pd[patch_size_to_test]\n",
    "# cov_mat = np.eye(cov_mat.shape[0])\n",
    "mean = means[patch_size_to_test]\n",
    "\n",
    "direct = []\n",
    "for sample in tqdm(samples):\n",
    "    direct.append(jax.scipy.stats.multivariate_normal.logpdf(sample.reshape(-1), mean=mean * np.ones(cov_mat.shape[0]), cov=cov_mat))\n",
    "direct = np.array(direct)\n",
    "\n",
    "function_iterative = compute_stationary_log_likelihood(samples, cov_mat, mean, prefer_iterative=True)\n",
    "\n",
    "print('direct', direct)\n",
    "print('function_iterative', function_iterative)"
   ]
  },
  {
   "cell_type": "markdown",
   "metadata": {},
   "source": [
    "## Compare the likelihood of stationary models trained on different patch sizes on the same data"
   ]
  },
  {
   "cell_type": "code",
   "execution_count": 179,
   "metadata": {},
   "outputs": [
    {
     "name": "stderr",
     "output_type": "stream",
     "text": [
      "precomputing masks and variances: 100%|██████████| 6/6 [00:00<00:00,  6.14it/s]\n"
     ]
    },
    {
     "name": "stdout",
     "output_type": "stream",
     "text": [
      "evaluating likelihood\n"
     ]
    },
    {
     "name": "stderr",
     "output_type": "stream",
     "text": [
      "computing log likelihoods: 100%|██████████| 6/6 [00:34<00:00,  5.77s/it]\n",
      "precomputing masks and variances: 100%|██████████| 6/6 [00:00<00:00,  7.44it/s]\n"
     ]
    },
    {
     "name": "stdout",
     "output_type": "stream",
     "text": [
      "evaluating likelihood\n"
     ]
    },
    {
     "name": "stderr",
     "output_type": "stream",
     "text": [
      "computing log likelihoods: 100%|██████████| 6/6 [00:29<00:00,  4.84s/it]\n",
      "precomputing masks and variances: 100%|██████████| 6/6 [00:00<00:00, 10.17it/s]\n"
     ]
    },
    {
     "name": "stdout",
     "output_type": "stream",
     "text": [
      "evaluating likelihood\n"
     ]
    },
    {
     "name": "stderr",
     "output_type": "stream",
     "text": [
      "computing log likelihoods: 100%|██████████| 6/6 [00:21<00:00,  3.52s/it]\n",
      "precomputing masks and variances: 100%|██████████| 6/6 [00:00<00:00, 17.46it/s]\n"
     ]
    },
    {
     "name": "stdout",
     "output_type": "stream",
     "text": [
      "evaluating likelihood\n"
     ]
    },
    {
     "name": "stderr",
     "output_type": "stream",
     "text": [
      "computing log likelihoods: 100%|██████████| 6/6 [00:13<00:00,  2.30s/it]\n",
      "precomputing masks and variances: 100%|██████████| 6/6 [00:00<00:00, 255.95it/s]\n"
     ]
    },
    {
     "name": "stdout",
     "output_type": "stream",
     "text": [
      "evaluating likelihood\n"
     ]
    },
    {
     "name": "stderr",
     "output_type": "stream",
     "text": [
      "computing log likelihoods: 100%|██████████| 6/6 [00:00<00:00, 284.97it/s]\n"
     ]
    },
    {
     "data": {
      "text/plain": [
       "Text(0.5, 0, 'Patch size')"
      ]
     },
     "execution_count": 179,
     "metadata": {},
     "output_type": "execute_result"
    },
    {
     "data": {
      "image/png": "[encoded data removed]",
      "text/plain": [
       "<Figure size 400x400 with 1 Axes>"
      ]
     },
     "metadata": {},
     "output_type": "display_data"
    }
   ],
   "source": [
    "from image_utils import *\n",
    "\n",
    "# TODO change to a proper test set\n",
    "test_patches = patches_by_size[patch_sizes[-1]][:100]\n",
    "\n",
    "log_likelihoods = []\n",
    "for patch_size in patch_sizes:\n",
    "    # test_patches = patches_by_size[patch_size][:100]\n",
    "    cov_mat = cov_mats_stationary_pd[patch_size]\n",
    "    mean = means[patch_size]\n",
    "    ll  = compute_stationary_log_likelihood(test_patches, cov_mat, mean, prefer_iterative=False)\n",
    "    log_likelihoods.append(ll)\n",
    "\n",
    "\n",
    "# plot mean log likelihood vs patch size\n",
    "plt.figure(figsize=(4, 4))\n",
    "plt.plot(patch_sizes, [np.mean(l) for l in log_likelihoods], 'o-')\n",
    "plt.xlabel('Patch size')\n",
    "\n",
    "\n"
   ]
  },
  {
   "cell_type": "code",
   "execution_count": 180,
   "metadata": {},
   "outputs": [
    {
     "data": {
      "text/plain": [
       "Text(0.5, 0, 'Patch size')"
      ]
     },
     "execution_count": 180,
     "metadata": {},
     "output_type": "execute_result"
    },
    {
     "data": {
      "image/png": "[encoded data removed]",
      "text/plain": [
       "<Figure size 400x400 with 1 Axes>"
      ]
     },
     "metadata": {},
     "output_type": "display_data"
    }
   ],
   "source": [
    "# plot mean log likelihood vs patch size\n",
    "plt.figure(figsize=(4, 4))\n",
    "plt.plot(patch_sizes[:3], [np.mean(l) for l in log_likelihoods][:3], 'o-')\n",
    "plt.xlabel('Patch size')\n"
   ]
  },
  {
   "cell_type": "code",
   "execution_count": 166,
   "metadata": {},
   "outputs": [
    {
     "name": "stdout",
     "output_type": "stream",
     "text": [
      "15683.109207727592\n",
      "396.12779487416896\n",
      "15910.63388547364\n",
      "395.4144676900561\n",
      "16040.229549591091\n",
      "392.6101488624934\n"
     ]
    },
    {
     "data": {
      "image/png": "[encoded data removed]",
      "text/plain": [
       "<Figure size 640x480 with 2 Axes>"
      ]
     },
     "metadata": {},
     "output_type": "display_data"
    }
   ],
   "source": [
    "# imshow both cov mats with the same contrast\n",
    "vmin, vmax = cov_mats_stationary_pd[4].min(), cov_mats_stationary_pd[4].max()\n",
    "\n",
    "fig, axs = plt.subplots(1, 2)\n",
    "axs[0].imshow(cov_mats_stationary_pd[patch_sizes[0]], vmin=vmin, vmax=vmax, cmap='inferno')\n",
    "axs[1].imshow(cov_mats_stationary_pd[patch_sizes[1]], vmin=vmin, vmax=vmax, cmap='inferno')\n",
    "\n",
    "for patch_size in patch_sizes:\n",
    "    print(cov_mats_stationary_pd[patch_size][0,0])\n",
    "    # print mean\n",
    "    print(means[patch_size])"
   ]
  }
 ],
 "metadata": {
  "kernelspec": {
   "display_name": "phenotypes",
   "language": "python",
   "name": "python3"
  },
  "language_info": {
   "codemirror_mode": {
    "name": "ipython",
    "version": 3
   },
   "file_extension": ".py",
   "mimetype": "text/x-python",
   "name": "python",
   "nbconvert_exporter": "python",
   "pygments_lexer": "ipython3",
   "version": "3.10.6"
  }
 },
 "nbformat": 4,
 "nbformat_minor": 2
}
