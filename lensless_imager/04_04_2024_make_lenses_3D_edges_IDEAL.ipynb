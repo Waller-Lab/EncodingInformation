{
 "cells": [
  {
   "cell_type": "markdown",
   "metadata": {},
   "source": [
    "## Lens Generation for IDEAL surfaces"
   ]
  },
  {
   "cell_type": "code",
   "execution_count": null,
   "metadata": {},
   "outputs": [],
   "source": [
    "import numpy as np \n",
    "import matplotlib.pyplot as plt\n",
    "import plotly\n",
    "import sys\n",
    "sys.path.append('/home/lkabuli_waller/workspace/EncodingInformation/imager_experiments')\n",
    "from leyla_fns import *\n",
    "from cleanplots import *\n"
   ]
  },
  {
   "cell_type": "code",
   "execution_count": null,
   "metadata": {},
   "outputs": [],
   "source": [
    "import numpy as np\n",
    "import plotly.graph_objects as go\n",
    "from scipy.ndimage import gaussian_filter"
   ]
  },
  {
   "cell_type": "code",
   "execution_count": null,
   "metadata": {},
   "outputs": [],
   "source": [
    "#skimage resize\n",
    "from skimage.transform import resize"
   ]
  },
  {
   "cell_type": "markdown",
   "metadata": {},
   "source": [
    "## Render all the lenslets for each step"
   ]
  },
  {
   "cell_type": "code",
   "execution_count": null,
   "metadata": {},
   "outputs": [],
   "source": [
    "# load the surfaces\n",
    "all_lenslets = np.load('lenslet_surfaces.npy')\n",
    "print(all_lenslets.shape, all_lenslets.dtype)"
   ]
  },
  {
   "cell_type": "markdown",
   "metadata": {},
   "source": [
    "## Make lens renders"
   ]
  },
  {
   "cell_type": "code",
   "execution_count": null,
   "metadata": {},
   "outputs": [],
   "source": [
    "for i in range(180):\n",
    "    # Define the surface geometry\n",
    "    x = np.linspace(-1, 1, 500)\n",
    "    y = np.linspace(-1, 1, 500)\n",
    "    x_grid, y_grid = np.meshgrid(y, x)\n",
    "    r = np.sqrt(x_grid ** 2 + y_grid ** 2)\n",
    "    z_diffuser = -15 * np.copy(all_lenslets[i]) \n",
    "    z_diffuser = resize(z_diffuser, (500, 500), anti_aliasing=True)\n",
    "    z_diffuser_circle = np.copy(z_diffuser) # make a copy so that the edge code below can find the correct height\n",
    "    z_diffuser_circle[r > 1] = np.nan\n",
    "    opacity_mask = (r < 1).astype(np.float32)\n",
    "    lighting = dict(ambient=0.1, fresnel=0, roughness=0.2, specular=.065) # specular will make it brighter/saturat\n",
    "    lightposition=dict(x=5, y=5, z=-2)\n",
    "    opacity=1\n",
    "    # color_name= 'blue'\n",
    "    color1 = 'rgb(80, 110, 255)'\n",
    "    color2 = 'rgb(150, 180, 255)'\n",
    "    # Create a 3D plot\n",
    "    fig = go.Figure()\n",
    "    fig.add_surface(\n",
    "        x=x,\n",
    "        y=y,\n",
    "        z=z_diffuser_circle,\n",
    "        colorscale=[[0, color1], [1, color2]], \n",
    "        showscale=False, \n",
    "        opacity=opacity,     \n",
    "        lighting=lighting,\n",
    "        lightposition=lightposition,\n",
    "    )\n",
    "    # Define the cylinder geometry\n",
    "    thickness = 0.1\n",
    "    theta = np.linspace(0, 2*np.pi, 500)\n",
    "    z_cylinder = np.linspace(-.1, .1, 250)  # Adjust -1 and 1 to set the height of the cylinder\n",
    "    theta_grid, z_grid = np.meshgrid(theta, z_cylinder)\n",
    "    x_cylinder = np.cos(theta_grid)\n",
    "    y_cylinder = np.sin(theta_grid)\n",
    "    # change the height to match the height of the phase mask\n",
    "    for j in range(z_grid.shape[1]):\n",
    "        # find the height of the phase mask at this xy location\n",
    "        y_pos, x_pos = y_cylinder[0, j], x_cylinder[0, j]  # swap x_cylinder and y_cylinder to match x and y axes correctly\n",
    "        # Convert from [-1, 1] to [0, size) and ensure index is within bounds\n",
    "        x_index = np.clip(int((x_pos + 1) / 2 * (x.size - 1)), 0, x.size - 1)\n",
    "        y_index = np.clip(int((y_pos + 1) / 2 * (y.size - 1)), 0, y.size - 1)\n",
    "        # find the corresponding index in the phase mask\n",
    "        phase_mask_height = z_diffuser[y_index, x_index]\n",
    "        z_grid[:, j] = np.linspace(phase_mask_height, thickness, 250)  # Adjust the end height (.1) as needed\n",
    "    # Assuming the cylinder's radius is 1\n",
    "    color2 = 'rgb(120, 150, 255)'\n",
    "    color1 = 'rgb(180, 210, 255)'\n",
    "    fig.add_surface(\n",
    "        x=x_cylinder, \n",
    "        y=y_cylinder, \n",
    "        z=z_grid, \n",
    "        colorscale=[[0, color1], [1, color2]],  # Change color as needed\n",
    "        showscale=False, \n",
    "        opacity=opacity,\n",
    "        # lighting=lighting,\n",
    "        lightposition=lightposition\n",
    "    )\n",
    "    fig.update_layout(\n",
    "        scene=dict(\n",
    "            xaxis=dict(showline=False, zeroline=False, showticklabels=False, showgrid=False, backgroundcolor='rgba(0,0,0,0)'),\n",
    "            yaxis=dict(showline=False, zeroline=False, showticklabels=False, showgrid=False, backgroundcolor='rgba(0,0,0,0)'),\n",
    "            zaxis=dict(showline=False, zeroline=False, showticklabels=False, showgrid=False, backgroundcolor='rgba(0,0,0,0)'),\n",
    "            aspectmode='manual',\n",
    "            aspectratio=dict(x=1, y=1, z=0.1)\n",
    "        ),\n",
    "        paper_bgcolor=None,\n",
    "        plot_bgcolor=None\n",
    "    )\n",
    "    \n",
    "    # turn off axis labels\n",
    "    fig.update_layout(scene=dict(xaxis=dict(title=''), yaxis=dict(title=''),  zaxis=dict(title='')))\n",
    "    # Update the camera to rotate the plot\n",
    "    fig.update_layout(\n",
    "        scene_camera=dict(\n",
    "            eye=dict(x=0.7*0.7, y=-1.9*0.7, z=-1.4*0.7), # rotated to other direction?\n",
    "            up=dict(x=1, y=0, z=0)            # 'up' direction\n",
    "        ),\n",
    "    )\n",
    "    fig.show()\n",
    "    # fig.write_image('/Users/henrypinkard/Desktop/diffuser_test.png', scale=1)\n",
    "    #fig.write_image('renders/{}_render.pdf'.format(i), scale=3)\n",
    "    "
   ]
  }
 ],
 "metadata": {
  "kernelspec": {
   "display_name": "info_jax_flax_23",
   "language": "python",
   "name": "python3"
  },
  "language_info": {
   "codemirror_mode": {
    "name": "ipython",
    "version": 3
   },
   "file_extension": ".py",
   "mimetype": "text/x-python",
   "name": "python",
   "nbconvert_exporter": "python",
   "pygments_lexer": "ipython3",
   "version": "3.10.0"
  }
 },
 "nbformat": 4,
 "nbformat_minor": 2
}
