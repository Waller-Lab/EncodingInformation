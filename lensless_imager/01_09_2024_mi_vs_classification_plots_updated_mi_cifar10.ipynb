{
 "cells": [
  {
   "cell_type": "markdown",
   "metadata": {},
   "source": [
    "# Makes plot for MI vs Classification Relationship"
   ]
  },
  {
   "cell_type": "code",
   "execution_count": null,
   "metadata": {},
   "outputs": [],
   "source": [
    "%load_ext autoreload \n",
    "%autoreload 2"
   ]
  },
  {
   "cell_type": "code",
   "execution_count": null,
   "metadata": {},
   "outputs": [],
   "source": [
    "from jax import config\n",
    "config.update(\"jax_enable_x64\", True)\n",
    "import numpy as np\n",
    "\n",
    "import sys\n",
    "sys.path.insert(0, '/home/lkabuli_waller/workspace/EncodingInformation/')\n",
    "sys.path.insert(0, '/home/lkabuli_waller/workspace/EncodingInformation/imager_experiments')\n",
    "from leyla_fns import *\n",
    "import os\n",
    "os.environ[\"CUDA_DEVICE_ORDER\"] = \"PCI_BUS_ID\" \n",
    "os.environ[\"CUDA_VISIBLE_DEVICES\"] = '0'\n",
    "print(os.environ.get('PYTHONPATH'))\n",
    "from cleanplots import * "
   ]
  },
  {
   "cell_type": "markdown",
   "metadata": {},
   "source": [
    "## Load PSFs\n",
    "Dataset gets converted to units of photons, photons are at [20, 40, 60, 80, 100, 150, 200, 250, 300] values"
   ]
  },
  {
   "cell_type": "code",
   "execution_count": null,
   "metadata": {},
   "outputs": [],
   "source": [
    "diffuser_psf = skimage.io.imread('psfs/diffuser_psf.png')\n",
    "diffuser_psf = diffuser_psf[:,:,1]\n",
    "diffuser_resize = diffuser_psf[200:500, 250:550]\n",
    "diffuser_resize = resize(diffuser_resize, (400, 400), anti_aliasing=True)  #resize(diffuser_psf, (28, 28))\n",
    "diffuser_region = diffuser_resize[:32*4, :32*4]\n",
    "diffuser_region /=  np.sum(diffuser_region)"
   ]
  },
  {
   "cell_type": "code",
   "execution_count": null,
   "metadata": {},
   "outputs": [],
   "source": [
    "# load the PSFs\n",
    "\n",
    "diffuser_psf = load_diffuser_32()\n",
    "four_psf = load_four_lens_32()\n",
    "one_psf = load_single_lens_32()\n",
    "plt.figure(figsize=(10, 4))\n",
    "plt.subplot(1,3,1)\n",
    "plt.imshow(one_psf, cmap='inferno', interpolation='spline36')\n",
    "plt.title('Single Lens')\n",
    "# clear the axes\n",
    "plt.gca().set_xticks([])\n",
    "plt.gca().set_yticks([])\n",
    "plt.subplot(1,3,2)\n",
    "plt.imshow(four_psf, cmap='inferno', interpolation='spline36')\n",
    "plt.title('Four Lenses')\n",
    "# clear the axes\n",
    "plt.gca().set_xticks([])\n",
    "plt.gca().set_yticks([])\n",
    "plt.subplot(1,3,3)\n",
    "plt.imshow(diffuser_region, cmap='inferno', interpolation='spline36')\n",
    "plt.title('Diffuser')\n",
    "plt.suptitle(\"PSFs for CIFAR10 Dataset\")\n",
    "# clear the axes\n",
    "plt.gca().set_xticks([])\n",
    "plt.gca().set_yticks([])"
   ]
  },
  {
   "cell_type": "code",
   "execution_count": null,
   "metadata": {},
   "outputs": [],
   "source": [
    "plt.figure(figsize=(10, 4))\n",
    "plt.subplot(1,3,1)\n",
    "plt.imshow(one_psf, cmap='inferno')\n",
    "plt.title('Single Lens')\n",
    "plt.subplot(1,3,2)\n",
    "plt.imshow(four_psf, cmap='inferno')\n",
    "plt.title('Four Lenses')\n",
    "plt.subplot(1,3,3)\n",
    "plt.imshow(diffuser_psf, cmap='inferno')\n",
    "plt.title('Diffuser')\n",
    "plt.suptitle(\"PSFs for CIFAR10 Dataset\")"
   ]
  },
  {
   "cell_type": "code",
   "execution_count": null,
   "metadata": {},
   "outputs": [],
   "source": [
    "\n",
    "model_names = ['cnn']\n",
    "seed_values = np.arange(1, 10) # cifar10 MNIST ran for 9 seed values\n",
    "\n",
    "# set photon properties \n",
    "bias = 10 # in photons\n",
    "mean_photon_count_list = [20, 40, 60, 80, 100, 150, 200, 250, 300]\n",
    "max_photon_count = mean_photon_count_list[-1]\n",
    "\n",
    "# set eligible psfs\n",
    "\n",
    "psf_names = ['one', 'four', 'diffuser']\n",
    "\n",
    "# MI estimator parameters \n",
    "patch_size = 32\n",
    "num_patches = 10000\n",
    "bs = 500"
   ]
  },
  {
   "cell_type": "markdown",
   "metadata": {},
   "source": [
    "## Load MI data and make plots of it\n",
    "Using updated MI data from 01/04/2024 (which is basically identical to the previous MI data from 11/14/2023, but run for 50 epochs and more seeds etc)\n",
    "\n",
    "The plot has essentially invisible error bars. No more outlier issues"
   ]
  },
  {
   "cell_type": "code",
   "execution_count": null,
   "metadata": {},
   "outputs": [],
   "source": [
    "from cleanplots import *\n",
    "get_color_cycle()[0]"
   ]
  },
  {
   "cell_type": "code",
   "execution_count": null,
   "metadata": {},
   "outputs": [],
   "source": [
    "mi_folder = ''"
   ]
  },
  {
   "cell_type": "markdown",
   "metadata": {},
   "source": [
    "### Minimum plot with no error bars"
   ]
  },
  {
   "cell_type": "code",
   "execution_count": null,
   "metadata": {},
   "outputs": [],
   "source": [
    "gaussian_mi_estimates_across_psfs = [] # only keeps the minimum values, no outliers\n",
    "pixelcnn_mi_estimates_across_psfs = [] # only keeps the minimum values, no outliers\n",
    "\n",
    "fig, ax = plt.subplots(1, 1, figsize=(8, 6))\n",
    "for psf_name in psf_names:\n",
    "    gaussian_across_photons = [] \n",
    "    pixelcnn_across_photons = []\n",
    "    for photon_count in mean_photon_count_list:\n",
    "        gaussian_mi_estimate = np.load(mi_folder + 'cifar10_mi_estimates/gaussian_mi_estimate_{}_photon_count_{}_psf.npy'.format(photon_count, psf_name))\n",
    "        pixelcnn_mi_estimate = np.load(mi_folder + 'cifar10_mi_estimates/pixelcnn_mi_estimate_{}_photon_count_{}_psf.npy'.format(photon_count, psf_name))\n",
    "        gaussian_across_photons.append(gaussian_mi_estimate)\n",
    "        pixelcnn_across_photons.append(pixelcnn_mi_estimate)\n",
    "    gaussian_mins = np.min(gaussian_across_photons, axis=1)\n",
    "    pixelcnn_mins = np.min(pixelcnn_across_photons, axis=1)\n",
    "    ax.plot(mean_photon_count_list, gaussian_mins, '-', label='Gaussian {}'.format(psf_name))\n",
    "    ax.plot(mean_photon_count_list, pixelcnn_mins, '-', label='PixelCNN {}'.format(psf_name))\n",
    "    gaussian_mi_estimates_across_psfs.append(gaussian_mins) # only keep mean dataset for use\n",
    "    pixelcnn_mi_estimates_across_psfs.append(pixelcnn_mins) # only keep mean datas\n",
    "plt.legend()\n",
    "plt.title(\"Gaussian vs. PixelCNN MI Estimates Across Photon Count, CIFAR10, 4 Seeds, Minimums\")\n",
    "plt.ylabel('Estimated Mutual Information')\n",
    "plt.xlabel('Mean Photon Count')\n",
    "\n",
    "gaussian_mi_estimates_across_psfs = np.array(gaussian_mi_estimates_across_psfs)\n",
    "pixelcnn_mi_estimates_across_psfs = np.array(pixelcnn_mi_estimates_across_psfs)"
   ]
  },
  {
   "cell_type": "code",
   "execution_count": null,
   "metadata": {},
   "outputs": [],
   "source": [
    "plt.figure(figsize=(10, 6))\n",
    "for i, modality in enumerate(psf_names):\n",
    "    plt.plot(mean_photon_count_list, gaussian_mi_estimates_across_psfs[i], label = '{} Gaussian'.format(modality), color = get_color_cycle()[i], linestyle='--')\n",
    "    plt.plot(mean_photon_count_list, pixelcnn_mi_estimates_across_psfs[i], label = '{} PixelCNN'.format(modality), color = get_color_cycle()[i])\n",
    "plt.legend()\n",
    "plt.xlabel('Mean Photon Count')\n",
    "plt.ylabel(\"Estimated Mutual Information\")\n",
    "plt.title('Estimated Mutual Information vs. Mean Photon Count, CIFAR10')"
   ]
  },
  {
   "cell_type": "code",
   "execution_count": null,
   "metadata": {},
   "outputs": [],
   "source": [
    "get_color_cycle()[0] # for one lens\n",
    "get_color_cycle()[1] # for four lenses\n",
    "get_color_cycle()[2] # for diffuser"
   ]
  },
  {
   "cell_type": "code",
   "execution_count": null,
   "metadata": {},
   "outputs": [],
   "source": [
    "psf_names_verbose = ['One Lens', 'Four Lens', 'Diffuser']\n",
    "plt.figure(figsize=(6, 5))\n",
    "ax = plt.axes()\n",
    "for i, modality in enumerate(psf_names_verbose):\n",
    "    if i > 0:\n",
    "        #plt.plot(mean_photon_count_list, gaussian_mi_estimates_across_psfs[i], label = '{} Gaussian'.format(modality), color = get_color_cycle()[i], linestyle='--')\n",
    "        plt.plot(mean_photon_count_list, pixelcnn_mi_estimates_across_psfs[i], label = '{}'.format(modality), color = get_color_cycle()[i-1]) # manual color correct\n",
    "plt.legend()\n",
    "plt.xlabel('Mean Photon Count')\n",
    "plt.ylabel(\"Mutual Information (bits per pixel)\")\n",
    "#plt.title('Estimated Mutual Information vs. Mean Photon Count, CIFAR10')\n",
    "clear_spines(ax)\n",
    "#plt.savefig('mi_vs_photon_count.pdf', bbox_inches='tight', transparent=True)"
   ]
  },
  {
   "cell_type": "markdown",
   "metadata": {},
   "source": [
    "### Mean plot with error bars included"
   ]
  },
  {
   "cell_type": "code",
   "execution_count": null,
   "metadata": {},
   "outputs": [],
   "source": [
    "fig, ax = plt.subplots(1, 1, figsize=(8, 6))\n",
    "for psf_name in psf_names:\n",
    "    gaussian_across_photons = [] \n",
    "    pixelcnn_across_photons = []\n",
    "    for photon_count in mean_photon_count_list:\n",
    "        gaussian_mi_estimate = np.load(mi_folder + 'cifar10_mi_estimates/gaussian_mi_estimate_{}_photon_count_{}_psf.npy'.format(photon_count, psf_name))\n",
    "        pixelcnn_mi_estimate = np.load(mi_folder + 'cifar10_mi_estimates/pixelcnn_mi_estimate_{}_photon_count_{}_psf.npy'.format(photon_count, psf_name))\n",
    "        if np.max(pixelcnn_mi_estimate) / np.min(pixelcnn_mi_estimate) > 2:\n",
    "            pixelcnn_mi_estimate[pixelcnn_mi_estimate > 2 * np.min(pixelcnn_mi_estimate)] = np.min(pixelcnn_mi_estimate)\n",
    "        gaussian_across_photons.append(gaussian_mi_estimate)\n",
    "        pixelcnn_across_photons.append(pixelcnn_mi_estimate)\n",
    "    error_lo, error_hi, mean = confidence_bars(gaussian_across_photons, 9)\n",
    "    error_lo_2, error_hi_2, mean_2 = confidence_bars(pixelcnn_across_photons, 9)\n",
    "    ax.plot(mean_photon_count_list, mean, '-', label='Gaussian {}'.format(psf_name))\n",
    "    ax.plot(mean_photon_count_list, mean_2, '-', label='PixelCNN {}'.format(psf_name))\n",
    "    ax.fill_between(mean_photon_count_list, error_lo, error_hi, alpha=0.4)\n",
    "    ax.fill_between(mean_photon_count_list, error_lo_2, error_hi_2, alpha=0.4)\n",
    "plt.legend()\n",
    "plt.title(\"Gaussian vs. PixelCNN MI Estimates Across Photon Count, CIFAR10, 4 Seeds, Means, Outliers Removed\")\n",
    "plt.ylabel('Estimated Mutual Information')\n",
    "plt.xlabel('Mean Photon Count')"
   ]
  },
  {
   "cell_type": "markdown",
   "metadata": {},
   "source": [
    "## Load classification data and make plots of it"
   ]
  },
  {
   "cell_type": "code",
   "execution_count": null,
   "metadata": {},
   "outputs": [],
   "source": [
    "classifier_folder = ''"
   ]
  },
  {
   "cell_type": "code",
   "execution_count": null,
   "metadata": {},
   "outputs": [],
   "source": [
    "classifier_all_trials_across_psfs = [] # 4 x 9x 10 array, 4 psfs, 9 photon counts, 10 trials on each one \n",
    "for psf_name in psf_names:\n",
    "    classifier_across_photons = []\n",
    "    for photon_count in mean_photon_count_list: \n",
    "        result = np.load(classifier_folder + 'classifier_results/cifar_test_accuracy_{}_mean_photon_count_{}_psf_{}_bias_{}_model.npy'.format(photon_count, psf_name, bias, 'cnn'))\n",
    "        classifier_across_photons.append(result)\n",
    "    classifier_across_photons = np.array(classifier_across_photons)\n",
    "    classifier_all_trials_across_psfs.append(classifier_across_photons)\n",
    "classifier_all_trials_across_psfs = np.array(classifier_all_trials_across_psfs)"
   ]
  },
  {
   "cell_type": "code",
   "execution_count": null,
   "metadata": {},
   "outputs": [],
   "source": [
    "classifier_across_psfs = [] # 4 x 9 array, 4 psfs, 9 photon counts on each one \n",
    "fig, ax = plt.subplots(1, 1, figsize=(8, 6))\n",
    "for psf_name in psf_names:\n",
    "    classifier_across_photons = [] \n",
    "    for photon_count in mean_photon_count_list:\n",
    "        result = np.load(classifier_folder + 'classifier_results/cifar_test_accuracy_{}_mean_photon_count_{}_psf_{}_bias_{}_model.npy'.format(photon_count, psf_name, bias, 'cnn'))\n",
    "        classifier_across_photons.append(result)\n",
    "    error_lo, error_hi, mean = confidence_bars(classifier_across_photons, 9)\n",
    "    ax.plot(mean_photon_count_list, mean, '-', label='{}'.format(psf_name))\n",
    "    ax.fill_between(mean_photon_count_list, error_lo, error_hi, alpha=0.4)\n",
    "    classifier_across_psfs.append(mean) # only keep mean dataset for use\n",
    "classifier_across_psfs = np.array(classifier_across_psfs)\n",
    "plt.legend()\n",
    "plt.title(\"CNN Classification Accuracy vs. Mean Photon Count, CIFAR10\")\n",
    "plt.ylabel('Classification Accuracy')\n",
    "plt.xlabel('Mean Photon Count')"
   ]
  },
  {
   "cell_type": "markdown",
   "metadata": {},
   "source": [
    "## Remake plots as Bar Charts"
   ]
  },
  {
   "cell_type": "code",
   "execution_count": null,
   "metadata": {},
   "outputs": [],
   "source": [
    "# for a fixed photon count, plot just the MI values\n",
    "photon_level = 300\n",
    "photon_level_idx = np.argwhere(np.array(mean_photon_count_list) == photon_level)[0][0]\n",
    "mi_photon_val = pixelcnn_mi_estimates_across_psfs[:, photon_level_idx]\n",
    "#dual_mi_photon_val = dual_mi_across_noise[photon_level_idx]\n",
    "plt.bar(np.arange(3), mi_photon_val)\n",
    "plt.xticks(np.arange(3), ['One Lens', 'Four Lens', 'Diffuser'])\n",
    "plt.ylabel('Estimated Mutual Information')\n",
    "plt.xlabel(\"Encoding PSF\")\n",
    "plt.title(\"Estimated Mutual Information for Different Imaging Modalities, CIFAR10, {} Mean Photons\".format(photon_level))"
   ]
  },
  {
   "cell_type": "code",
   "execution_count": null,
   "metadata": {},
   "outputs": [],
   "source": [
    "# for a fixed photon count, plot just the MI values\n",
    "photon_level = 20\n",
    "photon_level_idx = np.argwhere(np.array(mean_photon_count_list) == photon_level)[0][0]\n",
    "mi_photon_val = pixelcnn_mi_estimates_across_psfs[:, photon_level_idx]\n",
    "#dual_mi_photon_val = dual_mi_across_noise[photon_level_idx]\n",
    "plt.bar(np.arange(3), mi_photon_val)\n",
    "plt.xticks(np.arange(3), ['One Lens', 'Four Lens', 'Diffuser'])\n",
    "plt.ylabel('Estimated Mutual Information')\n",
    "plt.xlabel(\"Encoding PSF\")\n",
    "plt.title(\"Estimated Mutual Information for Different Imaging Modalities, CIFAR10, {} Mean Photons\".format(photon_level))"
   ]
  },
  {
   "cell_type": "markdown",
   "metadata": {},
   "source": [
    "## Proper way to do the labels is with these pre-made handles on your legend"
   ]
  },
  {
   "cell_type": "code",
   "execution_count": null,
   "metadata": {},
   "outputs": [],
   "source": [
    "import matplotlib.lines as mlines"
   ]
  },
  {
   "cell_type": "code",
   "execution_count": null,
   "metadata": {},
   "outputs": [],
   "source": [
    "marker_list = ['^', 's', 'D']\n",
    "psf_name_labels = ['One Lens', 'Four Lens', 'Diffuser']\n",
    "marker_size = 15"
   ]
  },
  {
   "cell_type": "code",
   "execution_count": null,
   "metadata": {},
   "outputs": [],
   "source": [
    "mi_names = ['Gaussian', 'PixelCNN']"
   ]
  },
  {
   "cell_type": "markdown",
   "metadata": {},
   "source": [
    "## Make same plots without the No PSF Case"
   ]
  },
  {
   "cell_type": "code",
   "execution_count": null,
   "metadata": {},
   "outputs": [],
   "source": [
    "for mi_idx, mi_estimate_list in enumerate([gaussian_mi_estimates_across_psfs, pixelcnn_mi_estimates_across_psfs]):\n",
    "    ## this one, call inferno(i) rather than get_color_cycle()[i]\n",
    "    inferno = plt.cm.get_cmap('inferno', max_photon_count) # max photon count value, using each tick point smoothly gives a better color gradient that isn't uniform\n",
    "    #inferno = plt.cm.get_cmap('inferno', len(photon_count_list))\n",
    "\n",
    "    mod_idx_plot = 3\n",
    "    mod_idx_shift = 2\n",
    "    # set up figure with preprocessed handle details\n",
    "    psf_label_list = []\n",
    "    for i in range(0, len(psf_name_labels)):\n",
    "        label = mlines.Line2D([], [], color='black', marker=marker_list[i], linestyle='None', markersize=8, label=psf_name_labels[i])\n",
    "        psf_label_list.append(label)\n",
    "    fig, ax = plt.subplots(figsize=(9, 6), layout='constrained')\n",
    "    #Create a legend for the psf names\n",
    "    first_legend = ax.legend(handles=psf_label_list, loc='center right') # 'outside right upper' is different than 'outside upper right'\n",
    "    # Add the legend manually to the Axes.\n",
    "    fig.add_artist(first_legend)\n",
    "\n",
    "    for photon_level in mean_photon_count_list:\n",
    "        photon_level_idx = np.argwhere(np.array(mean_photon_count_list) == photon_level)[0][0]\n",
    "        mi_photon_val = mi_estimate_list[:, photon_level_idx]\n",
    "        # just pick the specific photon value \n",
    "        if photon_level_idx % mod_idx_plot == mod_idx_shift:\n",
    "            mean_list_fixed_photon_level = classifier_across_psfs[:, photon_level_idx]\n",
    "            #plt.figure()\n",
    "            for i, txt in enumerate(psf_name_labels):\n",
    "                plt.plot(mi_photon_val[i], mean_list_fixed_photon_level[i], marker_list[i], color=inferno(mean_photon_count_list[photon_level_idx]), markersize=marker_size)\n",
    "            \n",
    "    # also add the dashed lines, want to loop across PSF but do all noise levels, so can use light gray or something? \n",
    "    for psf_idx, psf_name in enumerate(psf_names):\n",
    "        classification_accuracy_across_photons_fixed_psf = classifier_across_psfs[psf_idx]\n",
    "        mi_psf_val = mi_estimate_list[psf_idx]\n",
    "        classification_accuracy_across_select_indices = [classification_accuracy_across_photons_fixed_psf[i] for i in range(len(classification_accuracy_across_photons_fixed_psf)) if i % mod_idx_plot == mod_idx_shift]\n",
    "        mi_across_photon_select_indices = [mi_psf_val[i] for i in range(len(mi_psf_val)) if i % mod_idx_plot == mod_idx_shift]\n",
    "        plt.plot(mi_across_photon_select_indices, classification_accuracy_across_select_indices, linestyle='--', color='gray')\n",
    "        \n",
    "    plt.xlabel('Estimated Mutual Information')\n",
    "    plt.ylabel('CNN Classification Accuracy')\n",
    "    plt.title(\"CIFAR10 Classification Accuracy vs. Estimated Mutual Information, {} MI Estimator\".format(mi_names[mi_idx]))\n",
    "    # put a legend only for the symbols used\n",
    "    norm = mpl.colors.Normalize(vmin=0, vmax=max_photon_count) # normalize to the max photon count\n",
    "    cmap = mpl.cm.ScalarMappable(norm=norm, cmap=inferno) # if using a ton of points, can just use the cm. otherwise, use plt.cm.inferno\n",
    "    cmap.set_array([])\n",
    "    # fig.colorbar(cmap, ticks=photon_count_list, ax=ax)\n",
    "    cbar = fig.colorbar(cmap, ticks=mean_photon_count_list, aspect=9.5, orientation='vertical', ax=ax, label='Mean Photon Count')  \n",
    "\n",
    "    plt.show()\n",
    "    "
   ]
  },
  {
   "cell_type": "code",
   "execution_count": null,
   "metadata": {},
   "outputs": [],
   "source": [
    "for mi_idx, mi_estimate_list in enumerate([gaussian_mi_estimates_across_psfs, pixelcnn_mi_estimates_across_psfs]):\n",
    "    ## this one, call inferno(i) rather than get_color_cycle()[i]\n",
    "    inferno = plt.cm.get_cmap('inferno', max_photon_count) # max photon count value, using each tick point smoothly gives a better color gradient that isn't uniform\n",
    "    #inferno = plt.cm.get_cmap('inferno', len(photon_count_list))\n",
    "\n",
    "    mod_idx_plot = 1\n",
    "    mod_idx_shift = 0\n",
    "    # set up figure with preprocessed handle details\n",
    "    psf_label_list = []\n",
    "    for i in range(0, len(psf_name_labels)):\n",
    "        label = mlines.Line2D([], [], color='black', marker=marker_list[i], linestyle='None', markersize=8, label=psf_name_labels[i])\n",
    "        psf_label_list.append(label)\n",
    "    fig, ax = plt.subplots(figsize=(9, 6), layout='constrained')\n",
    "    #Create a legend for the psf names\n",
    "    first_legend = ax.legend(handles=psf_label_list, loc='center right') # 'outside right upper' is different than 'outside upper right'\n",
    "    # Add the legend manually to the Axes.\n",
    "    fig.add_artist(first_legend)\n",
    "\n",
    "    for photon_level in mean_photon_count_list:\n",
    "        photon_level_idx = np.argwhere(np.array(mean_photon_count_list) == photon_level)[0][0]\n",
    "        mi_photon_val = mi_estimate_list[:, photon_level_idx]\n",
    "        # just pick the specific photon value \n",
    "        if photon_level_idx % mod_idx_plot == mod_idx_shift:\n",
    "            mean_list_fixed_photon_level = classifier_across_psfs[:, photon_level_idx]\n",
    "            #plt.figure()\n",
    "            for i, txt in enumerate(psf_name_labels):  \n",
    "                plt.plot(mi_photon_val[i], mean_list_fixed_photon_level[i], marker_list[i], color=inferno(mean_photon_count_list[photon_level_idx]), markersize=marker_size)\n",
    "            \n",
    "    # also add the dashed lines, want to loop across PSF but do all noise levels, so can use light gray or something? \n",
    "    for psf_idx, psf_name in enumerate(psf_names):\n",
    "        classification_accuracy_across_photons_fixed_psf = classifier_across_psfs[psf_idx]\n",
    "        mi_psf_val = mi_estimate_list[psf_idx]\n",
    "        classification_accuracy_across_select_indices = [classification_accuracy_across_photons_fixed_psf[i] for i in range(len(classification_accuracy_across_photons_fixed_psf)) if i % mod_idx_plot == mod_idx_shift]\n",
    "        mi_across_photon_select_indices = [mi_psf_val[i] for i in range(len(mi_psf_val)) if i % mod_idx_plot == mod_idx_shift]\n",
    "        plt.plot(mi_across_photon_select_indices, classification_accuracy_across_select_indices, linestyle='--', color='gray')\n",
    "        \n",
    "    plt.xlabel('Estimated Mutual Information')\n",
    "    plt.ylabel('CNN Classification Accuracy')\n",
    "    plt.title(\"CIFAR10 Classification Accuracy vs. Estimated Mutual Information, {} MI Estimator\".format(mi_names[mi_idx]))\n",
    "    # put a legend only for the symbols used\n",
    "    norm = mpl.colors.Normalize(vmin=0, vmax=max_photon_count) # normalize to the max photon count\n",
    "    cmap = mpl.cm.ScalarMappable(norm=norm, cmap=inferno) # if using a ton of points, can just use the cm. otherwise, use plt.cm.inferno\n",
    "    cmap.set_array([])\n",
    "    # fig.colorbar(cmap, ticks=photon_count_list, ax=ax)\n",
    "    cbar = fig.colorbar(cmap, ticks=mean_photon_count_list, aspect=9.5, orientation='vertical', ax=ax, label='Mean Photon Count')  \n",
    "\n",
    "    plt.show()\n",
    "    "
   ]
  },
  {
   "cell_type": "markdown",
   "metadata": {},
   "source": [
    "## Incorporate Henry's Style for plots, include classifier error bars"
   ]
  },
  {
   "cell_type": "markdown",
   "metadata": {},
   "source": [
    "### Setup"
   ]
  },
  {
   "cell_type": "code",
   "execution_count": null,
   "metadata": {},
   "outputs": [],
   "source": [
    "def marker_for_psf(psf_name):\n",
    "    if psf_name =='one':\n",
    "        marker = 'o'\n",
    "    elif psf_name == 'four':\n",
    "        marker = 's' \n",
    "    elif psf_name == 'diffuser':\n",
    "        marker = '*'\n",
    "    elif psf_name == 'uc':\n",
    "        marker = 'x'\n",
    "    elif psf_name =='two':\n",
    "        marker = 'd'\n",
    "    return marker"
   ]
  },
  {
   "cell_type": "code",
   "execution_count": null,
   "metadata": {},
   "outputs": [],
   "source": [
    "# Choose a base colormap\n",
    "base_colormap = plt.cm.get_cmap('inferno')\n",
    "# Define the start and end points--used so that high values aren't too light against white background\n",
    "start, end = 0, 0.88 # making end point 0.8\n",
    "from matplotlib.colors import LinearSegmentedColormap\n",
    "# Create a new colormap from the portion of the original colormap\n",
    "colormap = LinearSegmentedColormap.from_list(\n",
    "    'trunc({n},{a:.2f},{b:.2f})'.format(n=base_colormap.name, a=start, b=end),\n",
    "    base_colormap(np.linspace(start, end, 256))\n",
    ")\n",
    "\n",
    "min_photons_per_pixel =  min(mean_photon_count_list)\n",
    "max_photons_per_pixel =  max(mean_photon_count_list)\n",
    "\n",
    "min_log_photons = np.log(min_photons_per_pixel)\n",
    "max_log_photons = np.log(max_photons_per_pixel)\n",
    "\n",
    "def color_for_photon_level(photons_per_pixel):\n",
    "    log_photons = np.log(photons_per_pixel)\n",
    "    return colormap((log_photons - min_log_photons) / (max_log_photons - min_log_photons) )"
   ]
  },
  {
   "cell_type": "markdown",
   "metadata": {},
   "source": [
    "### Update parameters in below block to display the things you want to display, then run the block after to make the figure"
   ]
  },
  {
   "cell_type": "code",
   "execution_count": null,
   "metadata": {},
   "outputs": [],
   "source": [
    "estimator_type = 1 # 0 for gaussian, 1 for pixelcnn\n",
    "valid_psfs = [0, 1, 2] # 0 for uc, 1 for one, 2 for four, 3 for diffuser\n",
    "valid_photon_counts = [20, 40, 60, 80, 100, 150, 200, 250, 300]"
   ]
  },
  {
   "cell_type": "code",
   "execution_count": null,
   "metadata": {},
   "outputs": [],
   "source": [
    "confidence_level = 0.9 \n",
    "# using min-valued MI estimates \n",
    "mi_estimate_lists = [gaussian_mi_estimates_across_psfs, pixelcnn_mi_estimates_across_psfs]\n",
    "# classifier array is classifier_all_trials_across_psfs, 4x9x10 array. 4 psfs, 9 photon counts, 10 trials on each one \n",
    "\n",
    "fig, ax = plt.subplots(1, 1, figsize=(7, 5))\n",
    "\n",
    "mi_list_use = mi_estimate_lists[estimator_type] # use pixelcnn or gaussian, choose pixelcnn \n",
    "\n",
    "for psf_idx, psf_name in enumerate(psf_names):\n",
    "    if psf_idx in valid_psfs:\n",
    "        mi_means_across_photons = [] # track mean MI values to make trendline \n",
    "        classifier_means_across_photons = [] # track mean MI values to make trendline\n",
    "        classifier_lower_across_photons = [] # track lower bounds\n",
    "        classifier_upper_across_photons = [] # track upper bounds\n",
    "\n",
    "        for photon_idx, photon_count in enumerate(mean_photon_count_list):\n",
    "            if photon_count in valid_photon_counts:\n",
    "                # load mean values and colors to plot \n",
    "                color = color_for_photon_level(photon_count)\n",
    "                mi_value = mi_list_use[psf_idx][photon_idx] # only use an MI value if the psf is valid, correctly indexed \n",
    "                classifier_10_trials = classifier_all_trials_across_psfs[psf_idx][photon_idx]\n",
    "                classifier_mean = np.mean(classifier_10_trials)\n",
    "                ax.scatter(mi_value, classifier_mean, color=color, marker=marker_for_psf(psf_name), s=50, zorder=100)\n",
    "                # add to lists to track later \n",
    "                mi_means_across_photons.append(mi_value)\n",
    "                classifier_means_across_photons.append(classifier_mean)\n",
    "                # calculate error bars\n",
    "                classifier_lower_across_photons.append(np.percentile(classifier_10_trials, 100 - 100 * (1 + confidence_level) / 2))\n",
    "                classifier_upper_across_photons.append(np.percentile(classifier_10_trials, 100 * (1 + confidence_level) / 2))\n",
    "        mi_means_across_photons = np.array(mi_means_across_photons)\n",
    "        classifier_means_across_photons = np.array(classifier_means_across_photons)\n",
    "        ax.plot(mi_means_across_photons, classifier_means_across_photons, '--', color='grey', alpha=1, linewidth=2)\n",
    "        ax.fill_between(mi_means_across_photons, classifier_lower_across_photons, classifier_upper_across_photons, color='grey', alpha=0.3, linewidth=0, zorder=-100)\n",
    "\n",
    "ax.set_xlabel('Mutual Information (bits per pixel)')\n",
    "ax.set_ylabel('Classification Accuracy')\n",
    "clear_spines(ax)\n",
    "\n",
    "\n",
    "# legend\n",
    "# ax.scatter([], [], color='k', marker='x', label='No PSF')\n",
    "ax.scatter([], [], color='k', marker='o', label='One Lens')\n",
    "ax.scatter([], [], color='k', marker='s', label='Four Lens')\n",
    "ax.scatter([], [], color='k', marker='*', label='Diffuser')\n",
    "\n",
    "ax.legend(loc='lower right', frameon=True)\n",
    "ax.set_xlim([0, None])\n",
    "\n",
    "\n",
    "\n",
    "norm = mpl.colors.Normalize(vmin=min_log_photons, vmax=max_log_photons)\n",
    "sm = plt.cm.ScalarMappable(cmap=colormap, norm=norm)\n",
    "sm.set_array([])\n",
    "cbar = plt.colorbar(sm, ax=ax, ticks=(np.log(valid_photon_counts)))\n",
    "# set tick labels\n",
    "cbar.ax.set_yticklabels(valid_photon_counts)\n",
    "\n",
    "\n",
    "cbar.set_label('Mean Photon Count')"
   ]
  },
  {
   "cell_type": "markdown",
   "metadata": {},
   "source": [
    "## Modified version with fewer photon counts"
   ]
  },
  {
   "cell_type": "code",
   "execution_count": null,
   "metadata": {},
   "outputs": [],
   "source": [
    "estimator_type = 1 # 0 for gaussian, 1 for pixelcnn\n",
    "valid_psfs = [0, 1, 2] # 0 for uc, 1 for one, 2 for four, 3 for diffuser\n",
    "valid_photon_counts = [20, 40, 80, 150, 300]"
   ]
  },
  {
   "cell_type": "code",
   "execution_count": null,
   "metadata": {},
   "outputs": [],
   "source": [
    "confidence_level = 0.9 \n",
    "# using min-valued MI estimates \n",
    "mi_estimate_lists = [gaussian_mi_estimates_across_psfs, pixelcnn_mi_estimates_across_psfs]\n",
    "# classifier array is classifier_all_trials_across_psfs, 4x9x10 array. 4 psfs, 9 photon counts, 10 trials on each one \n",
    "\n",
    "fig, ax = plt.subplots(1, 1, figsize=(7, 5))\n",
    "\n",
    "mi_list_use = mi_estimate_lists[estimator_type] # use pixelcnn or gaussian, choose pixelcnn \n",
    "\n",
    "for psf_idx, psf_name in enumerate(psf_names):\n",
    "    if psf_idx in valid_psfs:\n",
    "        mi_means_across_photons = [] # track mean MI values to make trendline \n",
    "        classifier_means_across_photons = [] # track mean MI values to make trendline\n",
    "        classifier_lower_across_photons = [] # track lower bounds\n",
    "        classifier_upper_across_photons = [] # track upper bounds\n",
    "\n",
    "        for photon_idx, photon_count in enumerate(mean_photon_count_list):\n",
    "            if photon_count in valid_photon_counts:\n",
    "                # load mean values and colors to plot \n",
    "                color = color_for_photon_level(photon_count)\n",
    "                mi_value = mi_list_use[psf_idx][photon_idx] # only use an MI value if the psf is valid, correctly indexed \n",
    "                classifier_10_trials = classifier_all_trials_across_psfs[psf_idx][photon_idx]\n",
    "                classifier_mean = np.mean(classifier_10_trials)\n",
    "                ax.scatter(mi_value, classifier_mean, color=color, marker=marker_for_psf(psf_name), s=50, zorder=100)\n",
    "                # add to lists to track later \n",
    "                mi_means_across_photons.append(mi_value)\n",
    "                classifier_means_across_photons.append(classifier_mean)\n",
    "                # calculate error bars\n",
    "                classifier_lower_across_photons.append(np.percentile(classifier_10_trials, 100 - 100 * (1 + confidence_level) / 2))\n",
    "                classifier_upper_across_photons.append(np.percentile(classifier_10_trials, 100 * (1 + confidence_level) / 2))\n",
    "        mi_means_across_photons = np.array(mi_means_across_photons)\n",
    "        classifier_means_across_photons = np.array(classifier_means_across_photons)\n",
    "        ax.plot(mi_means_across_photons, classifier_means_across_photons, '--', color='grey', alpha=1, linewidth=2)\n",
    "        ax.fill_between(mi_means_across_photons, classifier_lower_across_photons, classifier_upper_across_photons, color='grey', alpha=0.3, linewidth=0, zorder=-100)\n",
    "\n",
    "ax.set_xlabel('Mutual Information (bits per pixel)')\n",
    "ax.set_ylabel('Classification Accuracy')\n",
    "clear_spines(ax)\n",
    "\n",
    "\n",
    "# legend\n",
    "# ax.scatter([], [], color='k', marker='x', label='No PSF')\n",
    "ax.scatter([], [], color='k', marker='o', label='One Lens')\n",
    "ax.scatter([], [], color='k', marker='s', label='Four Lens')\n",
    "ax.scatter([], [], color='k', marker='*', label='Diffuser')\n",
    "\n",
    "ax.legend(loc='lower right', frameon=True)\n",
    "ax.set_xlim([0, None])\n",
    "\n",
    "\n",
    "\n",
    "norm = mpl.colors.Normalize(vmin=min_log_photons, vmax=max_log_photons)\n",
    "sm = plt.cm.ScalarMappable(cmap=colormap, norm=norm)\n",
    "sm.set_array([])\n",
    "cbar = plt.colorbar(sm, ax=ax, ticks=(np.log(valid_photon_counts)))\n",
    "# set tick labels\n",
    "cbar.ax.set_yticklabels(valid_photon_counts)\n",
    "\n",
    "\n",
    "cbar.set_label('Mean Photon Count')\n",
    "#plt.savefig('mi_vs_classification.pdf', bbox_inches='tight', transparent=True)"
   ]
  },
  {
   "cell_type": "code",
   "execution_count": null,
   "metadata": {},
   "outputs": [],
   "source": []
  }
 ],
 "metadata": {
  "kernelspec": {
   "display_name": "info_jax",
   "language": "python",
   "name": "python3"
  },
  "language_info": {
   "codemirror_mode": {
    "name": "ipython",
    "version": 3
   },
   "file_extension": ".py",
   "mimetype": "text/x-python",
   "name": "python",
   "nbconvert_exporter": "python",
   "pygments_lexer": "ipython3",
   "version": "3.10.0"
  },
  "orig_nbformat": 4
 },
 "nbformat": 4,
 "nbformat_minor": 2
}
