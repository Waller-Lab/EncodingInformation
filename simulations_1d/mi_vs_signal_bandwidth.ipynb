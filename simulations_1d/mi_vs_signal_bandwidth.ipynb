{
 "cells": [
  {
   "cell_type": "code",
   "execution_count": 1,
   "metadata": {
    "execution": {
     "iopub.execute_input": "2024-10-13T05:01:27.541380Z",
     "iopub.status.busy": "2024-10-13T05:01:27.540985Z",
     "iopub.status.idle": "2024-10-13T05:01:31.145911Z",
     "shell.execute_reply": "2024-10-13T05:01:31.145083Z"
    }
   },
   "outputs": [
    {
     "name": "stderr",
     "output_type": "stream",
     "text": [
      "2024-10-14 09:35:49.324540: E tensorflow/stream_executor/cuda/cuda_blas.cc:2981] Unable to register cuBLAS factory: Attempting to register factory for plugin cuBLAS when one has already been registered\n",
      "2024-10-14 09:35:50.442741: W tensorflow/stream_executor/platform/default/dso_loader.cc:64] Could not load dynamic library 'libnvinfer.so.7'; dlerror: libnvinfer.so.7: cannot open shared object file: No such file or directory\n",
      "2024-10-14 09:35:50.442878: W tensorflow/stream_executor/platform/default/dso_loader.cc:64] Could not load dynamic library 'libnvinfer_plugin.so.7'; dlerror: libnvinfer_plugin.so.7: cannot open shared object file: No such file or directory\n",
      "2024-10-14 09:35:50.442892: W tensorflow/compiler/tf2tensorrt/utils/py_utils.cc:38] TF-TRT Warning: Cannot dlopen some TensorRT libraries. If you would like to use Nvidia GPU with TensorRT, please make sure the missing libraries mentioned above are installed properly.\n"
     ]
    }
   ],
   "source": [
    "%load_ext autoreload\n",
    "%autoreload 2\n",
    "# this only works on startup!\n",
    "from jax import config\n",
    "config.update(\"jax_enable_x64\", True)\n",
    "\n",
    "import os\n",
    "os.environ[\"CUDA_DEVICE_ORDER\"] = \"PCI_BUS_ID\" \n",
    "os.environ[\"CUDA_VISIBLE_DEVICES\"] = '3'\n",
    "\n",
    "\n",
    "\n",
    "from encoding_information.gpu_utils import limit_gpu_memory_growth\n",
    "limit_gpu_memory_growth()\n",
    "\n",
    "from cleanplots import *\n",
    "from tqdm import tqdm\n",
    "from signal_utils_1D import *\n",
    "from plot_utils_1D import *"
   ]
  },
  {
   "cell_type": "code",
   "execution_count": 13,
   "metadata": {},
   "outputs": [
    {
     "ename": "KeyboardInterrupt",
     "evalue": "",
     "output_type": "error",
     "traceback": [
      "\u001b[0;31m---------------------------------------------------------------------------\u001b[0m",
      "\u001b[0;31mKeyboardInterrupt\u001b[0m                         Traceback (most recent call last)",
      "Cell \u001b[0;32mIn [13], line 35\u001b[0m\n\u001b[1;32m     31\u001b[0m delta8_fn \u001b[38;5;241m=\u001b[39m \u001b[38;5;28;01mlambda\u001b[39;00m :np\u001b[38;5;241m.\u001b[39marray([generate_random_object(\u001b[38;5;124m'\u001b[39m\u001b[38;5;124mdelta\u001b[39m\u001b[38;5;124m'\u001b[39m, num_deltas\u001b[38;5;241m=\u001b[39m\u001b[38;5;241m8\u001b[39m, object_size\u001b[38;5;241m=\u001b[39mUPSAMPLED_SIGNAL_LENGTH) \u001b[38;5;28;01mfor\u001b[39;00m i \u001b[38;5;129;01min\u001b[39;00m \u001b[38;5;28mrange\u001b[39m(N_objects)])\n\u001b[1;32m     34\u001b[0m \u001b[38;5;66;03m# plot an example of each object\u001b[39;00m\n\u001b[0;32m---> 35\u001b[0m wn \u001b[38;5;241m=\u001b[39m \u001b[43mwhite_noise_fn\u001b[49m\u001b[43m(\u001b[49m\u001b[43m)\u001b[49m[\u001b[38;5;241m0\u001b[39m]\n\u001b[1;32m     36\u001b[0m delta \u001b[38;5;241m=\u001b[39m delta_fn()[\u001b[38;5;241m0\u001b[39m]\n\u001b[1;32m     37\u001b[0m delta8 \u001b[38;5;241m=\u001b[39m delta8_fn()[\u001b[38;5;241m0\u001b[39m]\n",
      "Cell \u001b[0;32mIn [13], line 19\u001b[0m, in \u001b[0;36mwhite_noise_fn\u001b[0;34m()\u001b[0m\n\u001b[1;32m     17\u001b[0m objects \u001b[38;5;241m=\u001b[39m []\n\u001b[1;32m     18\u001b[0m \u001b[38;5;28;01mfor\u001b[39;00m i \u001b[38;5;129;01min\u001b[39;00m \u001b[38;5;28mrange\u001b[39m(N_objects):  \n\u001b[0;32m---> 19\u001b[0m   obj \u001b[38;5;241m=\u001b[39m \u001b[43mgenerate_random_object\u001b[49m\u001b[43m(\u001b[49m\u001b[38;5;124;43m'\u001b[39;49m\u001b[38;5;124;43mwhite_noise\u001b[39;49m\u001b[38;5;124;43m'\u001b[39;49m\u001b[43m,\u001b[49m\u001b[43m \u001b[49m\u001b[43mobject_size\u001b[49m\u001b[38;5;241;43m=\u001b[39;49m\u001b[38;5;241;43m2\u001b[39;49m\u001b[38;5;241;43m*\u001b[39;49m\u001b[43mnum_nyquist_samples_list\u001b[49m\u001b[43m[\u001b[49m\u001b[38;5;241;43m-\u001b[39;49m\u001b[38;5;241;43m1\u001b[39;49m\u001b[43m]\u001b[49m\u001b[43m)\u001b[49m\n\u001b[1;32m     20\u001b[0m   \u001b[38;5;66;03m# upsample it\u001b[39;00m\n\u001b[1;32m     21\u001b[0m   obj \u001b[38;5;241m=\u001b[39m resample(obj, UPSAMPLED_SIGNAL_LENGTH)\n",
      "File \u001b[0;32m/2tb_nvme/hpinkard_waller/GitRepos/EncodingInformation/simulations_1d/signal_utils_1D.py:197\u001b[0m, in \u001b[0;36mgenerate_random_object\u001b[0;34m(type, seed, object_size, num_deltas, sin_freq_range, gaussian_mixture_position, num_mixture_components, gaussian_mixture_seed)\u001b[0m\n\u001b[1;32m    195\u001b[0m \u001b[38;5;28mobject\u001b[39m \u001b[38;5;241m=\u001b[39m onp\u001b[38;5;241m.\u001b[39mfft\u001b[38;5;241m.\u001b[39mirfft( random_phase) \n\u001b[1;32m    196\u001b[0m \u001b[38;5;28;01mif\u001b[39;00m np\u001b[38;5;241m.\u001b[39mmin(\u001b[38;5;28mobject\u001b[39m) \u001b[38;5;241m<\u001b[39m \u001b[38;5;241m0\u001b[39m:\n\u001b[0;32m--> 197\u001b[0m     \u001b[38;5;28mobject\u001b[39m \u001b[38;5;241m-\u001b[39m\u001b[38;5;241m=\u001b[39m np\u001b[38;5;241m.\u001b[39mmin(\u001b[38;5;28mobject\u001b[39m)\n\u001b[1;32m    198\u001b[0m \u001b[38;5;66;03m# return object \u001b[39;00m\n\u001b[1;32m    199\u001b[0m \u001b[38;5;28;01mreturn\u001b[39;00m \u001b[38;5;28mobject\u001b[39m \u001b[38;5;241m/\u001b[39m onp\u001b[38;5;241m.\u001b[39msum(\u001b[38;5;28mobject\u001b[39m)\n",
      "File \u001b[0;32m~/mambaforge/envs/phenotypes/lib/python3.10/site-packages/jax/_src/numpy/array_methods.py:256\u001b[0m, in \u001b[0;36m_defer_to_unrecognized_arg.<locals>.deferring_binary_op\u001b[0;34m(self, other)\u001b[0m\n\u001b[1;32m    254\u001b[0m args \u001b[38;5;241m=\u001b[39m (other, \u001b[38;5;28mself\u001b[39m) \u001b[38;5;28;01mif\u001b[39;00m swap \u001b[38;5;28;01melse\u001b[39;00m (\u001b[38;5;28mself\u001b[39m, other)\n\u001b[1;32m    255\u001b[0m \u001b[38;5;28;01mif\u001b[39;00m \u001b[38;5;28misinstance\u001b[39m(other, _accepted_binop_types):\n\u001b[0;32m--> 256\u001b[0m   \u001b[38;5;28;01mreturn\u001b[39;00m \u001b[43mbinary_op\u001b[49m\u001b[43m(\u001b[49m\u001b[38;5;241;43m*\u001b[39;49m\u001b[43margs\u001b[49m\u001b[43m)\u001b[49m\n\u001b[1;32m    257\u001b[0m \u001b[38;5;66;03m# Note: don't use isinstance here, because we don't want to raise for\u001b[39;00m\n\u001b[1;32m    258\u001b[0m \u001b[38;5;66;03m# subclasses, e.g. NamedTuple objects that may override operators.\u001b[39;00m\n\u001b[1;32m    259\u001b[0m \u001b[38;5;28;01mif\u001b[39;00m \u001b[38;5;28mtype\u001b[39m(other) \u001b[38;5;129;01min\u001b[39;00m _rejected_binop_types:\n",
      "\u001b[0;31mKeyboardInterrupt\u001b[0m: "
     ]
    }
   ],
   "source": [
    "from scipy.signal import resample\n",
    "\n",
    "N_objects = 5000\n",
    "noise_sigma = 1e-3\n",
    "num_nyquist_samples_list = [4, 9, 16, 25, 36]\n",
    "max_epochs = 5000\n",
    "confidence = .95\n",
    "num_replicates = 2\n",
    "\n",
    "object_names = ['white_noise', 'delta_uniform', '8_deltas_uniform']\n",
    "\n",
    "num_nyquist_samples = NUM_NYQUIST_SAMPLES\n",
    "\n",
    "\n",
    "def white_noise_fn():\n",
    "  # White noise object with 2x the bandwidth of the highest Nyquist frequency\n",
    "  objects = []\n",
    "  for i in range(N_objects):  \n",
    "    obj = generate_random_object('white_noise', object_size=2*num_nyquist_samples_list[-1])\n",
    "    # upsample it\n",
    "    obj = resample(obj, UPSAMPLED_SIGNAL_LENGTH)\n",
    "    # make positive and sum to 1\n",
    "    obj -= np.min(obj)\n",
    "    obj /= np.sum(obj)\n",
    "    objects.append(obj)\n",
    "  # print(objects[0].shape)\n",
    "  return np.array(objects) \n",
    "\n",
    "delta_fn = lambda : np.array([generate_random_object('delta', num_deltas=1, object_size=UPSAMPLED_SIGNAL_LENGTH) for i in range(N_objects)])\n",
    "\n",
    "delta8_fn = lambda :np.array([generate_random_object('delta', num_deltas=8, object_size=UPSAMPLED_SIGNAL_LENGTH) for i in range(N_objects)])\n",
    "\n",
    "\n",
    "# plot an example of each object\n",
    "wn = white_noise_fn()[0]\n",
    "delta = delta_fn()[0]\n",
    "delta8 = delta8_fn()[0]"
   ]
  },
  {
   "cell_type": "code",
   "execution_count": 12,
   "metadata": {
    "execution": {
     "iopub.execute_input": "2024-10-13T05:01:31.151282Z",
     "iopub.status.busy": "2024-10-13T05:01:31.150636Z",
     "iopub.status.idle": "2024-10-14T14:32:24.811447Z",
     "shell.execute_reply": "2024-10-14T14:32:24.806973Z"
    }
   },
   "outputs": [
    {
     "name": "stdout",
     "output_type": "stream",
     "text": [
      "white_noise\n"
     ]
    },
    {
     "name": "stderr",
     "output_type": "stream",
     "text": [
      "  0%|          | 0/5 [00:00<?, ?it/s]"
     ]
    },
    {
     "name": "stdout",
     "output_type": "stream",
     "text": [
      "initial loss -1.9429441095615134\n",
      "2557: -2.5876572\r"
     ]
    },
    {
     "name": "stderr",
     "output_type": "stream",
     "text": [
      "  0%|          | 0/5 [02:17<?, ?it/s]\n"
     ]
    },
    {
     "ename": "KeyboardInterrupt",
     "evalue": "",
     "output_type": "error",
     "traceback": [
      "\u001b[0;31m---------------------------------------------------------------------------\u001b[0m",
      "\u001b[0;31mKeyboardInterrupt\u001b[0m                         Traceback (most recent call last)",
      "Cell \u001b[0;32mIn [12], line 21\u001b[0m\n\u001b[1;32m     17\u001b[0m \u001b[38;5;28;01melse\u001b[39;00m:\n\u001b[1;32m     18\u001b[0m   objects_fn \u001b[38;5;241m=\u001b[39m \u001b[38;5;28;01mlambda\u001b[39;00m : white_noise_fn()\n\u001b[0;32m---> 21\u001b[0m initial_kernel, initial_params, optimized_params, objects, initial_mi, optimized_mi, optimized_mi_lower, optimized_mi_upper \u001b[38;5;241m=\u001b[39m \u001b[43moptimize_PSF_and_estimate_mi\u001b[49m\u001b[43m(\u001b[49m\n\u001b[1;32m     22\u001b[0m \u001b[43m      \u001b[49m\u001b[43mobjects_fn\u001b[49m\u001b[43m,\u001b[49m\u001b[43m \u001b[49m\u001b[43mnoise_sigma\u001b[49m\u001b[43m,\u001b[49m\u001b[43m \u001b[49m\u001b[43mnum_nyquist_samples\u001b[49m\u001b[38;5;241;43m=\u001b[39;49m\u001b[43mnum_nyquist_samples\u001b[49m\u001b[43m,\u001b[49m\u001b[43m \u001b[49m\u001b[43mupsampled_signal_length\u001b[49m\u001b[38;5;241;43m=\u001b[39;49m\u001b[43mUPSAMPLED_SIGNAL_LENGTH\u001b[49m\u001b[43m,\u001b[49m\n\u001b[1;32m     23\u001b[0m \n\u001b[1;32m     24\u001b[0m \u001b[43m      \u001b[49m\u001b[43mestimate_with_pixel_cnn\u001b[49m\u001b[38;5;241;43m=\u001b[39;49m\u001b[38;5;28;43;01mTrue\u001b[39;49;00m\u001b[43m,\u001b[49m\n\u001b[1;32m     25\u001b[0m \n\u001b[1;32m     26\u001b[0m \u001b[43m      \u001b[49m\u001b[43mmax_epochs\u001b[49m\u001b[38;5;241;43m=\u001b[39;49m\u001b[43mmax_epochs\u001b[49m\u001b[43m,\u001b[49m\u001b[43m \u001b[49m\u001b[43mconfidence\u001b[49m\u001b[38;5;241;43m=\u001b[39;49m\u001b[43mconfidence\u001b[49m\u001b[43m)\u001b[49m\n\u001b[1;32m     28\u001b[0m mutual_information\u001b[38;5;241m.\u001b[39mappend(optimized_mi)\n\u001b[1;32m     29\u001b[0m mi_lo\u001b[38;5;241m.\u001b[39mappend(optimized_mi_lower)\n",
      "File \u001b[0;32m/2tb_nvme/hpinkard_waller/GitRepos/EncodingInformation/simulations_1d/signal_utils_1D.py:534\u001b[0m, in \u001b[0;36moptimize_PSF_and_estimate_mi\u001b[0;34m(objects_fn, noise_sigma, initial_kernel, learning_rate, learning_rate_decay, verbose, estimate_with_pixel_cnn, loss_improvement_patience, max_epochs, num_nyquist_samples, upsampled_signal_length, test_fraction, confidence)\u001b[0m\n\u001b[1;32m    529\u001b[0m initial_params \u001b[38;5;241m=\u001b[39m params_from_signal(initial_kernel, num_nyquist_samples\u001b[38;5;241m=\u001b[39mnum_nyquist_samples)\n\u001b[1;32m    531\u001b[0m loss_fn \u001b[38;5;241m=\u001b[39m make_convolutional_forward_model_with_mi_loss(\n\u001b[1;32m    532\u001b[0m     objects, noise_sigma\u001b[38;5;241m=\u001b[39mnoise_sigma,  num_nyquist_samples\u001b[38;5;241m=\u001b[39mnum_nyquist_samples,\n\u001b[1;32m    533\u001b[0m     upsampled_signal_length\u001b[38;5;241m=\u001b[39mupsampled_signal_length)\n\u001b[0;32m--> 534\u001b[0m optimized_params \u001b[38;5;241m=\u001b[39m \u001b[43mrun_optimzation\u001b[49m\u001b[43m(\u001b[49m\u001b[43mloss_fn\u001b[49m\u001b[43m,\u001b[49m\u001b[43m \u001b[49m\u001b[38;5;28;43;01mlambda\u001b[39;49;00m\u001b[43m \u001b[49m\u001b[43mx\u001b[49m\u001b[43m \u001b[49m\u001b[43m:\u001b[49m\u001b[43m \u001b[49m\u001b[43msignal_prox_fn\u001b[49m\u001b[43m(\u001b[49m\u001b[43mx\u001b[49m\u001b[43m,\u001b[49m\u001b[43m \u001b[49m\u001b[43mnum_nyquist_samples\u001b[49m\u001b[38;5;241;43m=\u001b[39;49m\u001b[43mnum_nyquist_samples\u001b[49m\u001b[43m)\u001b[49m\u001b[43m,\u001b[49m\n\u001b[1;32m    535\u001b[0m \u001b[43m                        \u001b[49m\u001b[43minitial_params\u001b[49m\u001b[43m,\u001b[49m\u001b[43m \u001b[49m\u001b[43mlearning_rate\u001b[49m\u001b[38;5;241;43m=\u001b[39;49m\u001b[43mlearning_rate\u001b[49m\u001b[43m,\u001b[49m\u001b[43m \u001b[49m\u001b[43mlearning_rate_decay\u001b[49m\u001b[38;5;241;43m=\u001b[39;49m\u001b[43mlearning_rate_decay\u001b[49m\u001b[43m,\u001b[49m\u001b[43m \u001b[49m\u001b[43mverbose\u001b[49m\u001b[38;5;241;43m=\u001b[39;49m\u001b[43mverbose\u001b[49m\u001b[43m,\u001b[49m\n\u001b[1;32m    536\u001b[0m \u001b[43m                        \u001b[49m\u001b[43mloss_improvement_patience\u001b[49m\u001b[38;5;241;43m=\u001b[39;49m\u001b[43mloss_improvement_patience\u001b[49m\u001b[43m,\u001b[49m\u001b[43m \u001b[49m\u001b[43mmax_epochs\u001b[49m\u001b[38;5;241;43m=\u001b[39;49m\u001b[43mmax_epochs\u001b[49m\u001b[43m,\u001b[49m\n\u001b[1;32m    537\u001b[0m \u001b[43m                        \u001b[49m\u001b[43mkey\u001b[49m\u001b[38;5;241;43m=\u001b[39;49m\u001b[43mjax\u001b[49m\u001b[38;5;241;43m.\u001b[39;49m\u001b[43mrandom\u001b[49m\u001b[38;5;241;43m.\u001b[39;49m\u001b[43mPRNGKey\u001b[49m\u001b[43m(\u001b[49m\u001b[43monp\u001b[49m\u001b[38;5;241;43m.\u001b[39;49m\u001b[43mrandom\u001b[49m\u001b[38;5;241;43m.\u001b[39;49m\u001b[43mrandint\u001b[49m\u001b[43m(\u001b[49m\u001b[38;5;241;43m100000\u001b[39;49m\u001b[43m)\u001b[49m\u001b[43m)\u001b[49m\u001b[43m)\u001b[49m\n\u001b[1;32m    538\u001b[0m test_objects \u001b[38;5;241m=\u001b[39m objects_fn()   \n\u001b[1;32m    540\u001b[0m scale_factor \u001b[38;5;241m=\u001b[39m \u001b[38;5;241m100000\u001b[39m \u001b[38;5;66;03m# because these signals are 0-1 but pixel cnn is designed for photon counts\u001b[39;00m\n",
      "File \u001b[0;32m/2tb_nvme/hpinkard_waller/GitRepos/EncodingInformation/simulations_1d/signal_utils_1D.py:261\u001b[0m, in \u001b[0;36mrun_optimzation\u001b[0;34m(loss_fn, prox_fn, parameters, learning_rate, verbose, tolerance, momentum, loss_improvement_patience, max_epochs, learning_rate_decay, transition_begin, return_param_history, key)\u001b[0m\n\u001b[1;32m    259\u001b[0m \u001b[38;5;28;01mif\u001b[39;00m key \u001b[38;5;129;01mis\u001b[39;00m \u001b[38;5;129;01mnot\u001b[39;00m \u001b[38;5;28;01mNone\u001b[39;00m:\n\u001b[1;32m    260\u001b[0m     key, subkey \u001b[38;5;241m=\u001b[39m jax\u001b[38;5;241m.\u001b[39mrandom\u001b[38;5;241m.\u001b[39msplit(key)\n\u001b[0;32m--> 261\u001b[0m     loss, gradient \u001b[38;5;241m=\u001b[39m \u001b[43mgrad_fn\u001b[49m\u001b[43m(\u001b[49m\u001b[43mparameters\u001b[49m\u001b[43m,\u001b[49m\u001b[43m \u001b[49m\u001b[43msubkey\u001b[49m\u001b[43m)\u001b[49m\n\u001b[1;32m    262\u001b[0m \u001b[38;5;28;01melse\u001b[39;00m:\n\u001b[1;32m    263\u001b[0m     loss, gradient \u001b[38;5;241m=\u001b[39m grad_fn(parameters)\n",
      "\u001b[0;31mKeyboardInterrupt\u001b[0m: "
     ]
    }
   ],
   "source": [
    "\n",
    "\n",
    "for replicate in range(num_replicates):\n",
    "\n",
    "  mi_by_object = {}\n",
    "  mi_by_object_hi = {}\n",
    "  mi_by_object_lo = {}\n",
    "  for name in object_names:\n",
    "    print(name)\n",
    "    mutual_information = []\n",
    "    mi_hi = []\n",
    "    mi_lo = []\n",
    "    for num_nyquist_samples in tqdm(num_nyquist_samples_list):\n",
    "      \n",
    "      if name == 'delta_uniform':\n",
    "        objects_fn = delta_fn\n",
    "      elif name == '8_deltas_uniform':\n",
    "        objects_fn = delta8_fn\n",
    "      else:\n",
    "        objects_fn = lambda : white_noise_fn()\n",
    "\n",
    "      \n",
    "      initial_kernel, initial_params, optimized_params, objects, initial_mi, optimized_mi, optimized_mi_lower, optimized_mi_upper = optimize_PSF_and_estimate_mi(\n",
    "            objects_fn, noise_sigma, num_nyquist_samples=num_nyquist_samples, upsampled_signal_length=UPSAMPLED_SIGNAL_LENGTH,\n",
    "\n",
    "            estimate_with_pixel_cnn=True,\n",
    "\n",
    "            max_epochs=max_epochs, confidence=confidence)\n",
    "\n",
    "      mutual_information.append(optimized_mi)\n",
    "      mi_lo.append(optimized_mi_lower)\n",
    "      mi_hi.append(optimized_mi_upper)\n",
    "    mi_by_object[name] = mutual_information\n",
    "    mi_by_object_hi[name] = mi_hi\n",
    "    mi_by_object_lo[name] = mi_lo\n",
    "\n",
    "\n",
    "  fig, ax = plt.subplots(1, 1, figsize=(3.5, 3.5))\n",
    "\n",
    "  for object_name, mutual_information in mi_by_object.items():\n",
    "\n",
    "      total_mi = np.array(mutual_information) * np.array(num_nyquist_samples_list)\n",
    "\n",
    "      total_mi_hi = np.array(mi_by_object_hi[object_name]) * np.array(num_nyquist_samples_list)\n",
    "      total_mi_lo = np.array(mi_by_object_lo[object_name]) * np.array(num_nyquist_samples_list)\n",
    "\n",
    "      ax.plot(num_nyquist_samples_list, total_mi, 'o-', label=object_name)\n",
    "      ax.fill_between(num_nyquist_samples_list, total_mi_lo, total_mi_hi, alpha=0.2)\n",
    "      ax.set_xlabel('Signal bandwidth (number of Nyquist samples)')\n",
    "      ax.set_ylabel('Mutual information (bits)')\n",
    "\n",
    "      ax.set(ylim=(0, max(1.1 * np.max(total_mi), ax.get_ylim()[1])))\n",
    "      # ax.set(ylim=[0, 25])\n",
    "\n",
    "  clear_spines(ax)\n",
    "  ax.legend()\n",
    "\n",
    "  fig.savefig('/home/hpinkard_waller/figures/1d_signals/' + f'mi_vs_bandwidth_replicate{replicate}' + '.pdf', transparent=True)\n"
   ]
  }
 ],
 "metadata": {
  "kernelspec": {
   "display_name": "phenotypes",
   "language": "python",
   "name": "python3"
  },
  "language_info": {
   "codemirror_mode": {
    "name": "ipython",
    "version": 3
   },
   "file_extension": ".py",
   "mimetype": "text/x-python",
   "name": "python",
   "nbconvert_exporter": "python",
   "pygments_lexer": "ipython3",
   "version": "3.10.6"
  }
 },
 "nbformat": 4,
 "nbformat_minor": 2
}
